{
 "cells": [
  {
   "cell_type": "code",
   "execution_count": 1,
   "id": "6419221a",
   "metadata": {},
   "outputs": [],
   "source": [
    "from pyhive import presto\n",
    "from pandas import DataFrame\n",
    "import numpy as np\n",
    "import pandas as pd"
   ]
  },
  {
   "cell_type": "markdown",
   "id": "05e5092e",
   "metadata": {},
   "source": [
    "# Connection to presto"
   ]
  },
  {
   "cell_type": "code",
   "execution_count": 2,
   "id": "73b286e5",
   "metadata": {},
   "outputs": [],
   "source": [
    "presto_conn = presto.connect(\n",
    "    host='165.232.118.33',\n",
    "    port=8090,\n",
    "    catalog='mongodb',\n",
    "    schema='tbdmproject'\n",
    ")\n",
    "presto_cur = presto_conn.cursor()"
   ]
  },
  {
   "cell_type": "markdown",
   "id": "f88df967",
   "metadata": {},
   "source": [
    "# Queries"
   ]
  },
  {
   "cell_type": "markdown",
   "id": "19de877a",
   "metadata": {},
   "source": [
    "# Queries all data from device of a particular type"
   ]
  },
  {
   "cell_type": "code",
   "execution_count": 4,
   "id": "e892f412",
   "metadata": {},
   "outputs": [
    {
     "name": "stdout",
     "output_type": "stream",
     "text": [
      "ref:  jzp://edv#0502.0000\n",
      "cuid:  d11488d1-76d3-4dca-8402-be0d08b59a91\n",
      "t:  1677772406596\n",
      "tz:  2023-03-02T15:53:26.596Z\n",
      "cat:  0631\n",
      "sn:  243\n",
      "type:  gasmeter\n",
      "uuid:  2b7bc1bd-29fa-470c-a354-528d8450c382\n",
      "measure 1 :  [1677772406597, 'jzp://coo#ffffffff000004ff.0000', '', '2023-03-02T15:53:26.597Z', 1.0, 'coordinator']\n",
      "measure 2 :  [1677772406601, None, '', '2023-03-02T15:53:26.601Z', 378.8695, 'ppm']\n",
      "measure 3 :  [1677772406601, 'jzp://coo#ffffffff000004ff.0000', 'dB', '2023-03-02T15:53:26.601Z', -118.6435, 'rssi']\n",
      "measure 4 :  [1677772406601, None, '℃', '2023-03-02T15:53:26.601Z', 34, 'device_temperature']\n",
      "measure 5 :  [1677772406601, None, 'V', '2023-03-02T15:53:26.601Z', 3, 'battery_level']\n",
      "\n",
      "\n",
      "ref:  jzp://edv#0502.0000\n",
      "cuid:  d7752e4a-6bb4-458e-beb9-fa74e94a1222\n",
      "t:  1677772428791\n",
      "tz:  2023-03-02T15:53:48.791Z\n",
      "cat:  0631\n",
      "sn:  13\n",
      "type:  gasmeter\n",
      "uuid:  d84262bc-8e91-4cb5-a020-8e9eb01b9f5d\n",
      "measure 1 :  [1677772428791, 'jzp://coo#ffffffff000004ff.0000', '', '2023-03-02T15:53:48.791Z', 1.0, 'coordinator']\n",
      "measure 2 :  [1677772428791, None, '', '2023-03-02T15:53:48.791Z', 348.4314, 'ppm']\n",
      "measure 3 :  [1677772428792, 'jzp://coo#ffffffff000004ff.0000', 'dB', '2023-03-02T15:53:48.792Z', -22.6326, 'rssi']\n",
      "measure 4 :  [1677772428792, None, '℃', '2023-03-02T15:53:48.792Z', 17, 'device_temperature']\n",
      "measure 5 :  [1677772428792, None, 'V', '2023-03-02T15:53:48.792Z', 3, 'battery_level']\n",
      "\n",
      "\n",
      "ref:  jzp://edv#0502.0000\n",
      "cuid:  7f42b31f-5fee-4569-9585-6197b541430d\n",
      "t:  1677772449931\n",
      "tz:  2023-03-02T15:54:09.931Z\n",
      "cat:  0631\n",
      "sn:  248\n",
      "type:  gasmeter\n",
      "uuid:  67699157-1cad-4956-a068-2482522e65d8\n",
      "measure 1 :  [1677772449931, 'jzp://coo#ffffffff000004ff.0000', '', '2023-03-02T15:54:09.931Z', 1.0, 'coordinator']\n",
      "measure 2 :  [1677772449931, None, '', '2023-03-02T15:54:09.931Z', 328.7406, 'ppm']\n",
      "measure 3 :  [1677772449931, 'jzp://coo#ffffffff000004ff.0000', 'dB', '2023-03-02T15:54:09.931Z', -82.0682, 'rssi']\n",
      "measure 4 :  [1677772449931, None, '℃', '2023-03-02T15:54:09.931Z', 8, 'device_temperature']\n",
      "measure 5 :  [1677772449932, None, 'V', '2023-03-02T15:54:09.932Z', 3, 'battery_level']\n",
      "\n",
      "\n",
      "ref:  jzp://edv#0502.0000\n",
      "cuid:  c92b4581-23d9-43ad-9fa7-3589493ecddb\n",
      "t:  1677772472253\n",
      "tz:  2023-03-02T15:54:32.254Z\n",
      "cat:  0631\n",
      "sn:  185\n",
      "type:  gasmeter\n",
      "uuid:  2ef5be7d-3c0f-4589-b1c4-6c25c1384d30\n",
      "measure 1 :  [1677772472254, 'jzp://coo#ffffffff000004ff.0000', '', '2023-03-02T15:54:32.254Z', 1.0, 'coordinator']\n",
      "measure 2 :  [1677772472254, None, '', '2023-03-02T15:54:32.254Z', 300.8363, 'ppm']\n",
      "measure 3 :  [1677772472254, 'jzp://coo#ffffffff000004ff.0000', 'dB', '2023-03-02T15:54:32.254Z', -11.4339, 'rssi']\n",
      "measure 4 :  [1677772472255, None, '℃', '2023-03-02T15:54:32.255Z', 12, 'device_temperature']\n",
      "measure 5 :  [1677772472255, None, 'V', '2023-03-02T15:54:32.255Z', 3, 'battery_level']\n",
      "\n",
      "\n",
      "ref:  jzp://edv#0502.0000\n",
      "cuid:  38cf28f7-6692-4d9e-a443-242f96946d93\n",
      "t:  1677772497827\n",
      "tz:  2023-03-02T15:54:57.827Z\n",
      "cat:  0631\n",
      "sn:  74\n",
      "type:  gasmeter\n",
      "uuid:  dfc1b63b-1060-4c7b-a817-71fc3f60b6da\n",
      "measure 1 :  [1677772497827, 'jzp://coo#ffffffff000004ff.0000', '', '2023-03-02T15:54:57.827Z', 1.0, 'coordinator']\n",
      "measure 2 :  [1677772497827, None, '', '2023-03-02T15:54:57.827Z', 326.5474, 'ppm']\n",
      "measure 3 :  [1677772497828, 'jzp://coo#ffffffff000004ff.0000', 'dB', '2023-03-02T15:54:57.828Z', -107.4762, 'rssi']\n",
      "measure 4 :  [1677772497828, None, '℃', '2023-03-02T15:54:57.828Z', 7, 'device_temperature']\n",
      "measure 5 :  [1677772497828, None, 'V', '2023-03-02T15:54:57.828Z', 3, 'battery_level']\n",
      "\n",
      "\n",
      "ref:  jzp://edv#0502.0000\n",
      "cuid:  30faefaa-dcc1-4b31-b850-c1e592a98270\n",
      "t:  1677772525624\n",
      "tz:  2023-03-02T15:55:25.624Z\n",
      "cat:  0631\n",
      "sn:  234\n",
      "type:  gasmeter\n",
      "uuid:  f7327f53-111d-434b-b1cc-9cdbe76046b7\n",
      "measure 1 :  [1677772525626, 'jzp://coo#ffffffff000004ff.0000', '', '2023-03-02T15:55:25.626Z', 1.0, 'coordinator']\n",
      "measure 2 :  [1677772525626, None, '', '2023-03-02T15:55:25.626Z', 372.4441, 'ppm']\n",
      "measure 3 :  [1677772525626, 'jzp://coo#ffffffff000004ff.0000', 'dB', '2023-03-02T15:55:25.626Z', -59.2199, 'rssi']\n",
      "measure 4 :  [1677772525626, None, '℃', '2023-03-02T15:55:25.626Z', 23, 'device_temperature']\n",
      "measure 5 :  [1677772525626, None, 'V', '2023-03-02T15:55:25.627Z', 3, 'battery_level']\n",
      "\n",
      "\n",
      "ref:  jzp://edv#0502.0000\n",
      "cuid:  9206776a-9edf-471f-8081-3de84c0632cd\n",
      "t:  1677772549756\n",
      "tz:  2023-03-02T15:55:49.756Z\n",
      "cat:  0631\n",
      "sn:  113\n",
      "type:  gasmeter\n",
      "uuid:  e01b1dc4-e222-466e-acb3-d9d766d3fb14\n",
      "measure 1 :  [1677772549756, 'jzp://coo#ffffffff000004ff.0000', '', '2023-03-02T15:55:49.756Z', 1.0, 'coordinator']\n",
      "measure 2 :  [1677772549756, None, '', '2023-03-02T15:55:49.756Z', 307.0886, 'ppm']\n",
      "measure 3 :  [1677772549757, 'jzp://coo#ffffffff000004ff.0000', 'dB', '2023-03-02T15:55:49.757Z', -72.8728, 'rssi']\n",
      "measure 4 :  [1677772549757, None, '℃', '2023-03-02T15:55:49.757Z', 10, 'device_temperature']\n",
      "measure 5 :  [1677772549757, None, 'V', '2023-03-02T15:55:49.757Z', 3, 'battery_level']\n",
      "\n",
      "\n",
      "ref:  jzp://edv#0502.0000\n",
      "cuid:  37855a1f-fbc1-45fd-95af-99521a5079c0\n",
      "t:  1677772569814\n",
      "tz:  2023-03-02T15:56:09.814Z\n",
      "cat:  0631\n",
      "sn:  107\n",
      "type:  gasmeter\n",
      "uuid:  cc21fb4b-6dd8-4f93-96e8-1e34fd381078\n",
      "measure 1 :  [1677772569815, 'jzp://coo#ffffffff000004ff.0000', '', '2023-03-02T15:56:09.815Z', 1.0, 'coordinator']\n",
      "measure 2 :  [1677772569815, None, '', '2023-03-02T15:56:09.815Z', 354.5664, 'ppm']\n",
      "measure 3 :  [1677772569815, 'jzp://coo#ffffffff000004ff.0000', 'dB', '2023-03-02T15:56:09.815Z', -91.1416, 'rssi']\n",
      "measure 4 :  [1677772569815, None, '℃', '2023-03-02T15:56:09.815Z', 24, 'device_temperature']\n",
      "measure 5 :  [1677772569815, None, 'V', '2023-03-02T15:56:09.815Z', 3, 'battery_level']\n",
      "\n",
      "\n",
      "ref:  jzp://edv#0502.0000\n",
      "cuid:  6727d9e6-a9aa-477e-a4da-56a9186368df\n",
      "t:  1677772592929\n",
      "tz:  2023-03-02T15:56:32.929Z\n",
      "cat:  0631\n",
      "sn:  116\n",
      "type:  gasmeter\n",
      "uuid:  3dd9beef-afb4-49ab-885e-49995303019d\n",
      "measure 1 :  [1677772592929, 'jzp://coo#ffffffff000004ff.0000', '', '2023-03-02T15:56:32.929Z', 1.0, 'coordinator']\n",
      "measure 2 :  [1677772592929, None, '', '2023-03-02T15:56:32.929Z', 383.4025, 'ppm']\n",
      "measure 3 :  [1677772592929, 'jzp://coo#ffffffff000004ff.0000', 'dB', '2023-03-02T15:56:32.929Z', -100.9739, 'rssi']\n",
      "measure 4 :  [1677772592930, None, '℃', '2023-03-02T15:56:32.930Z', 27, 'device_temperature']\n",
      "measure 5 :  [1677772592930, None, 'V', '2023-03-02T15:56:32.930Z', 3, 'battery_level']\n",
      "\n",
      "\n",
      "ref:  jzp://edv#0502.0000\n",
      "cuid:  c2c2e9df-e5eb-4c8e-a289-a192d13c6c35\n",
      "t:  1677830591236\n",
      "tz:  2023-03-03T08:03:11.236Z\n",
      "cat:  0631\n",
      "sn:  238\n",
      "type:  gasmeter\n",
      "uuid:  26905b41-8394-4dd0-a302-3f1cd1dda116\n",
      "measure 1 :  [1677830591236, 'jzp://coo#ffffffff000004ff.0000', '', '2023-03-03T08:03:11.236Z', 1.0, 'coordinator']\n",
      "measure 2 :  [1677830591236, None, '', '2023-03-03T08:03:11.236Z', 389.4938, 'ppm']\n",
      "measure 3 :  [1677830591236, 'jzp://coo#ffffffff000004ff.0000', 'dB', '2023-03-03T08:03:11.236Z', -71.7957, 'rssi']\n",
      "measure 4 :  [1677830591236, None, '℃', '2023-03-03T08:03:11.236Z', 24, 'device_temperature']\n",
      "measure 5 :  [1677830591237, None, 'V', '2023-03-03T08:03:11.237Z', 3, 'battery_level']\n",
      "\n",
      "\n",
      "ref:  jzp://edv#0502.0000\n",
      "cuid:  6f6b4736-87a4-4ca8-a26d-d6508352177b\n",
      "t:  1677830614714\n",
      "tz:  2023-03-03T08:03:34.714Z\n",
      "cat:  0631\n",
      "sn:  151\n",
      "type:  gasmeter\n",
      "uuid:  327bbf8a-6788-45b3-9564-8401615b383b\n",
      "measure 1 :  [1677830614714, 'jzp://coo#ffffffff000004ff.0000', '', '2023-03-03T08:03:34.714Z', 1.0, 'coordinator']\n",
      "measure 2 :  [1677830614714, None, '', '2023-03-03T08:03:34.714Z', 342.0979, 'ppm']\n",
      "measure 3 :  [1677830614714, 'jzp://coo#ffffffff000004ff.0000', 'dB', '2023-03-03T08:03:34.714Z', -56.2107, 'rssi']\n",
      "measure 4 :  [1677830614715, None, '℃', '2023-03-03T08:03:34.715Z', 20, 'device_temperature']\n",
      "measure 5 :  [1677830614715, None, 'V', '2023-03-03T08:03:34.715Z', 3, 'battery_level']\n",
      "\n",
      "\n",
      "ref:  jzp://edv#0502.0000\n",
      "cuid:  9525cd56-d733-4a0c-bf3f-08418d2b31ef\n",
      "t:  1677830638623\n",
      "tz:  2023-03-03T08:03:58.623Z\n",
      "cat:  0631\n",
      "sn:  31\n",
      "type:  gasmeter\n",
      "uuid:  7ae56cdd-2189-4579-8304-0ed7e50b2bd8\n",
      "measure 1 :  [1677830638624, 'jzp://coo#ffffffff000004ff.0000', '', '2023-03-03T08:03:58.624Z', 1.0, 'coordinator']\n",
      "measure 2 :  [1677830638624, None, '', '2023-03-03T08:03:58.624Z', 350.2523, 'ppm']\n",
      "measure 3 :  [1677830638624, 'jzp://coo#ffffffff000004ff.0000', 'dB', '2023-03-03T08:03:58.624Z', -107.4385, 'rssi']\n",
      "measure 4 :  [1677830638624, None, '℃', '2023-03-03T08:03:58.624Z', 11, 'device_temperature']\n",
      "measure 5 :  [1677830638625, None, 'V', '2023-03-03T08:03:58.625Z', 3, 'battery_level']\n",
      "\n",
      "\n",
      "ref:  jzp://edv#0502.0000\n",
      "cuid:  4957b053-88ec-40f6-a3b7-d6a1838a06a6\n",
      "t:  1677830660552\n",
      "tz:  2023-03-03T08:04:20.552Z\n",
      "cat:  0631\n",
      "sn:  30\n",
      "type:  gasmeter\n",
      "uuid:  e786ec93-0744-4ba8-ac09-aa9e29ce2e3a\n",
      "measure 1 :  [1677830660553, 'jzp://coo#ffffffff000004ff.0000', '', '2023-03-03T08:04:20.553Z', 1.0, 'coordinator']\n",
      "measure 2 :  [1677830660553, None, '', '2023-03-03T08:04:20.553Z', 324.7677, 'ppm']\n",
      "measure 3 :  [1677830660553, 'jzp://coo#ffffffff000004ff.0000', 'dB', '2023-03-03T08:04:20.553Z', -116.4529, 'rssi']\n",
      "measure 4 :  [1677830660553, None, '℃', '2023-03-03T08:04:20.553Z', 24, 'device_temperature']\n",
      "measure 5 :  [1677830660553, None, 'V', '2023-03-03T08:04:20.553Z', 3, 'battery_level']\n",
      "\n",
      "\n",
      "ref:  jzp://edv#0502.0000\n",
      "cuid:  7eda6488-836f-4073-8d34-049e67cd1618\n",
      "t:  1677830688774\n",
      "tz:  2023-03-03T08:04:48.774Z\n",
      "cat:  0631\n",
      "sn:  128\n",
      "type:  gasmeter\n",
      "uuid:  128618e4-2ab0-42a4-81f8-451a4f685431\n",
      "measure 1 :  [1677830688775, 'jzp://coo#ffffffff000004ff.0000', '', '2023-03-03T08:04:48.775Z', 1.0, 'coordinator']\n",
      "measure 2 :  [1677830688775, None, '', '2023-03-03T08:04:48.775Z', 375.3648, 'ppm']\n",
      "measure 3 :  [1677830688775, 'jzp://coo#ffffffff000004ff.0000', 'dB', '2023-03-03T08:04:48.775Z', -4.774, 'rssi']\n",
      "measure 4 :  [1677830688775, None, '℃', '2023-03-03T08:04:48.775Z', 27, 'device_temperature']\n",
      "measure 5 :  [1677830688775, None, 'V', '2023-03-03T08:04:48.775Z', 3, 'battery_level']\n",
      "\n",
      "\n",
      "ref:  jzp://edv#0502.0000\n",
      "cuid:  806d5f2b-13da-4c25-a177-2421f767dc49\n",
      "t:  1677830709777\n",
      "tz:  2023-03-03T08:05:09.777Z\n",
      "cat:  0631\n",
      "sn:  70\n",
      "type:  gasmeter\n",
      "uuid:  a06e8eae-792e-4537-9dac-1bb61a37095e\n",
      "measure 1 :  [1677830709778, 'jzp://coo#ffffffff000004ff.0000', '', '2023-03-03T08:05:09.778Z', 1.0, 'coordinator']\n",
      "measure 2 :  [1677830709780, None, '', '2023-03-03T08:05:09.780Z', 329.4876, 'ppm']\n",
      "measure 3 :  [1677830709780, 'jzp://coo#ffffffff000004ff.0000', 'dB', '2023-03-03T08:05:09.780Z', -91.3915, 'rssi']\n",
      "measure 4 :  [1677830709780, None, '℃', '2023-03-03T08:05:09.780Z', 16, 'device_temperature']\n",
      "measure 5 :  [1677830709780, None, 'V', '2023-03-03T08:05:09.780Z', 3, 'battery_level']\n",
      "\n",
      "\n",
      "ref:  jzp://edv#0502.0000\n",
      "cuid:  2f153b48-8ec0-4c0a-aca2-aa11cd434ec8\n",
      "t:  1677830735527\n",
      "tz:  2023-03-03T08:05:35.528Z\n",
      "cat:  0631\n",
      "sn:  245\n",
      "type:  gasmeter\n",
      "uuid:  4227862a-036c-43a9-b49b-3a6ba22c6cb1\n",
      "measure 1 :  [1677830735528, 'jzp://coo#ffffffff000004ff.0000', '', '2023-03-03T08:05:35.528Z', 1.0, 'coordinator']\n",
      "measure 2 :  [1677830735528, None, '', '2023-03-03T08:05:35.528Z', 373.0348, 'ppm']\n",
      "measure 3 :  [1677830735528, 'jzp://coo#ffffffff000004ff.0000', 'dB', '2023-03-03T08:05:35.528Z', -12.4343, 'rssi']\n",
      "measure 4 :  [1677830735529, None, '℃', '2023-03-03T08:05:35.529Z', 4, 'device_temperature']\n",
      "measure 5 :  [1677830735529, None, 'V', '2023-03-03T08:05:35.529Z', 3, 'battery_level']\n",
      "\n",
      "\n",
      "ref:  jzp://edv#0502.0000\n",
      "cuid:  cea91b10-9e53-4a9f-8c88-392509ea98f0\n",
      "t:  1677830760847\n",
      "tz:  2023-03-03T08:06:00.847Z\n",
      "cat:  0631\n",
      "sn:  211\n",
      "type:  gasmeter\n",
      "uuid:  cd477c28-52e0-4250-b0c9-398f60a2c13d\n",
      "measure 1 :  [1677830760849, 'jzp://coo#ffffffff000004ff.0000', '', '2023-03-03T08:06:00.849Z', 1.0, 'coordinator']\n",
      "measure 2 :  [1677830760851, None, '', '2023-03-03T08:06:00.851Z', 377.234, 'ppm']\n",
      "measure 3 :  [1677830760851, 'jzp://coo#ffffffff000004ff.0000', 'dB', '2023-03-03T08:06:00.851Z', -87.3012, 'rssi']\n",
      "measure 4 :  [1677830760851, None, '℃', '2023-03-03T08:06:00.851Z', 15, 'device_temperature']\n",
      "measure 5 :  [1677830760851, None, 'V', '2023-03-03T08:06:00.851Z', 3, 'battery_level']\n",
      "\n",
      "\n",
      "ref:  jzp://edv#0502.0000\n",
      "cuid:  76ed970c-6ae1-44bf-bced-b609a8aadfac\n",
      "t:  1677830781554\n",
      "tz:  2023-03-03T08:06:21.554Z\n",
      "cat:  0631\n",
      "sn:  130\n",
      "type:  gasmeter\n",
      "uuid:  e4a13216-22c8-4d1e-8bbb-25cb8b961235\n",
      "measure 1 :  [1677830781555, 'jzp://coo#ffffffff000004ff.0000', '', '2023-03-03T08:06:21.555Z', 1.0, 'coordinator']\n",
      "measure 2 :  [1677830781555, None, '', '2023-03-03T08:06:21.555Z', 359.4066, 'ppm']\n",
      "measure 3 :  [1677830781555, 'jzp://coo#ffffffff000004ff.0000', 'dB', '2023-03-03T08:06:21.555Z', -14.3895, 'rssi']\n",
      "measure 4 :  [1677830781563, None, '℃', '2023-03-03T08:06:21.563Z', 17, 'device_temperature']\n",
      "measure 5 :  [1677830781563, None, 'V', '2023-03-03T08:06:21.563Z', 3, 'battery_level']\n",
      "\n",
      "\n",
      "ref:  jzp://edv#0502.0000\n",
      "cuid:  60884e81-57b1-4c17-a875-1ae2e678745c\n",
      "t:  1677830806743\n",
      "tz:  2023-03-03T08:06:46.743Z\n",
      "cat:  0631\n",
      "sn:  215\n",
      "type:  gasmeter\n",
      "uuid:  a2703033-f222-41c8-9cee-9399180b4497\n",
      "measure 1 :  [1677830806744, 'jzp://coo#ffffffff000004ff.0000', '', '2023-03-03T08:06:46.744Z', 1.0, 'coordinator']\n",
      "measure 2 :  [1677830806744, None, '', '2023-03-03T08:06:46.744Z', 364.181, 'ppm']\n",
      "measure 3 :  [1677830806745, 'jzp://coo#ffffffff000004ff.0000', 'dB', '2023-03-03T08:06:46.745Z', -96.188, 'rssi']\n",
      "measure 4 :  [1677830806745, None, '℃', '2023-03-03T08:06:46.745Z', 26, 'device_temperature']\n",
      "measure 5 :  [1677830806746, None, 'V', '2023-03-03T08:06:46.746Z', 3, 'battery_level']\n",
      "\n",
      "\n",
      "ref:  jzp://edv#0502.0000\n",
      "cuid:  11fe31e8-680d-4afd-b5aa-956567ac246c\n",
      "t:  1677830827238\n",
      "tz:  2023-03-03T08:07:07.238Z\n",
      "cat:  0631\n",
      "sn:  209\n",
      "type:  gasmeter\n",
      "uuid:  de4f5b90-1afc-4e96-88d4-1ac1ea97d936\n",
      "measure 1 :  [1677830827238, 'jzp://coo#ffffffff000004ff.0000', '', '2023-03-03T08:07:07.238Z', 1.0, 'coordinator']\n",
      "measure 2 :  [1677830827238, None, '', '2023-03-03T08:07:07.238Z', 389.3191, 'ppm']\n",
      "measure 3 :  [1677830827238, 'jzp://coo#ffffffff000004ff.0000', 'dB', '2023-03-03T08:07:07.238Z', -6.7469, 'rssi']\n",
      "measure 4 :  [1677830827238, None, '℃', '2023-03-03T08:07:07.238Z', 39, 'device_temperature']\n",
      "measure 5 :  [1677830827238, None, 'V', '2023-03-03T08:07:07.238Z', 3, 'battery_level']\n",
      "\n",
      "\n",
      "ref:  jzp://edv#0502.0000\n",
      "cuid:  d0fc580f-d4d7-4ef1-ae3f-615c76e141a0\n",
      "t:  1677830851788\n",
      "tz:  2023-03-03T08:07:31.788Z\n",
      "cat:  0631\n",
      "sn:  38\n",
      "type:  gasmeter\n",
      "uuid:  840651a6-ff7b-4696-ad75-37b6e1698572\n",
      "measure 1 :  [1677830851789, 'jzp://coo#ffffffff000004ff.0000', '', '2023-03-03T08:07:31.789Z', 1.0, 'coordinator']\n",
      "measure 2 :  [1677830851789, None, '', '2023-03-03T08:07:31.789Z', 332.0615, 'ppm']\n",
      "measure 3 :  [1677830851789, 'jzp://coo#ffffffff000004ff.0000', 'dB', '2023-03-03T08:07:31.789Z', -49.3198, 'rssi']\n",
      "measure 4 :  [1677830851789, None, '℃', '2023-03-03T08:07:31.789Z', 13, 'device_temperature']\n",
      "measure 5 :  [1677830851789, None, 'V', '2023-03-03T08:07:31.789Z', 3, 'battery_level']\n",
      "\n",
      "\n",
      "ref:  jzp://edv#0502.0000\n",
      "cuid:  99d63afd-cecd-4d98-b9fe-74015bc89567\n",
      "t:  1677830871732\n",
      "tz:  2023-03-03T08:07:51.732Z\n",
      "cat:  0631\n",
      "sn:  212\n",
      "type:  gasmeter\n",
      "uuid:  9a642500-6cc1-46c4-a731-8e9b84bec3a8\n",
      "measure 1 :  [1677830871732, 'jzp://coo#ffffffff000004ff.0000', '', '2023-03-03T08:07:51.732Z', 1.0, 'coordinator']\n",
      "measure 2 :  [1677830871732, None, '', '2023-03-03T08:07:51.732Z', 354.4344, 'ppm']\n",
      "measure 3 :  [1677830871732, 'jzp://coo#ffffffff000004ff.0000', 'dB', '2023-03-03T08:07:51.732Z', -48.3355, 'rssi']\n",
      "measure 4 :  [1677830871732, None, '℃', '2023-03-03T08:07:51.732Z', 11, 'device_temperature']\n",
      "measure 5 :  [1677830871733, None, 'V', '2023-03-03T08:07:51.733Z', 3, 'battery_level']\n",
      "\n",
      "\n",
      "ref:  jzp://edv#0502.0000\n",
      "cuid:  9a59311b-f960-460b-9bf4-41292f1d34c9\n",
      "t:  1677830898843\n",
      "tz:  2023-03-03T08:08:18.843Z\n",
      "cat:  0631\n",
      "sn:  18\n",
      "type:  gasmeter\n",
      "uuid:  6baa8433-aa86-4e86-b550-c8de791ad91b\n",
      "measure 1 :  [1677830898844, 'jzp://coo#ffffffff000004ff.0000', '', '2023-03-03T08:08:18.844Z', 1.0, 'coordinator']\n",
      "measure 2 :  [1677830898844, None, '', '2023-03-03T08:08:18.844Z', 394.0727, 'ppm']\n",
      "measure 3 :  [1677830898844, 'jzp://coo#ffffffff000004ff.0000', 'dB', '2023-03-03T08:08:18.844Z', -10.6446, 'rssi']\n",
      "measure 4 :  [1677830898844, None, '℃', '2023-03-03T08:08:18.844Z', 22, 'device_temperature']\n",
      "measure 5 :  [1677830898844, None, 'V', '2023-03-03T08:08:18.844Z', 3, 'battery_level']\n",
      "\n",
      "\n",
      "ref:  jzp://edv#0502.0000\n",
      "cuid:  24124085-4061-470a-90ca-6a86f290a6cc\n",
      "t:  1677830919479\n",
      "tz:  2023-03-03T08:08:39.479Z\n",
      "cat:  0631\n",
      "sn:  136\n",
      "type:  gasmeter\n",
      "uuid:  33838952-26ea-4454-b035-acfddb5163a8\n",
      "measure 1 :  [1677830919480, 'jzp://coo#ffffffff000004ff.0000', '', '2023-03-03T08:08:39.480Z', 1.0, 'coordinator']\n",
      "measure 2 :  [1677830919480, None, '', '2023-03-03T08:08:39.480Z', 323.1026, 'ppm']\n",
      "measure 3 :  [1677830919480, 'jzp://coo#ffffffff000004ff.0000', 'dB', '2023-03-03T08:08:39.480Z', -18.7063, 'rssi']\n",
      "measure 4 :  [1677830919480, None, '℃', '2023-03-03T08:08:39.480Z', 33, 'device_temperature']\n",
      "measure 5 :  [1677830919480, None, 'V', '2023-03-03T08:08:39.480Z', 3, 'battery_level']\n",
      "\n",
      "\n",
      "ref:  jzp://edv#0502.0000\n",
      "cuid:  64d5a75b-8cb1-4d3f-8327-5bf8f54a066d\n",
      "t:  1677830941996\n",
      "tz:  2023-03-03T08:09:01.996Z\n",
      "cat:  0631\n",
      "sn:  149\n",
      "type:  gasmeter\n",
      "uuid:  89f416fb-e8a6-461e-a55b-88ccf6c2b7a9\n",
      "measure 1 :  [1677830941997, 'jzp://coo#ffffffff000004ff.0000', '', '2023-03-03T08:09:01.997Z', 1.0, 'coordinator']\n",
      "measure 2 :  [1677830941997, None, '', '2023-03-03T08:09:01.997Z', 381.8321, 'ppm']\n",
      "measure 3 :  [1677830941997, 'jzp://coo#ffffffff000004ff.0000', 'dB', '2023-03-03T08:09:01.997Z', -117.9275, 'rssi']\n",
      "measure 4 :  [1677830941997, None, '℃', '2023-03-03T08:09:01.997Z', 32, 'device_temperature']\n",
      "measure 5 :  [1677830941997, None, 'V', '2023-03-03T08:09:01.997Z', 3, 'battery_level']\n",
      "\n",
      "\n",
      "ref:  jzp://edv#0502.0000\n",
      "cuid:  ee7c84e3-ebf1-48ba-a9f6-ed04ad87508e\n",
      "t:  1677830964518\n",
      "tz:  2023-03-03T08:09:24.518Z\n",
      "cat:  0631\n",
      "sn:  31\n",
      "type:  gasmeter\n",
      "uuid:  3fd2ee08-4a4d-4a76-8223-66cc99cd6ae4\n",
      "measure 1 :  [1677830964519, 'jzp://coo#ffffffff000004ff.0000', '', '2023-03-03T08:09:24.519Z', 1.0, 'coordinator']\n",
      "measure 2 :  [1677830964519, None, '', '2023-03-03T08:09:24.519Z', 373.1673, 'ppm']\n",
      "measure 3 :  [1677830964519, 'jzp://coo#ffffffff000004ff.0000', 'dB', '2023-03-03T08:09:24.519Z', -11.2048, 'rssi']\n",
      "measure 4 :  [1677830964519, None, '℃', '2023-03-03T08:09:24.519Z', 27, 'device_temperature']\n",
      "measure 5 :  [1677830964519, None, 'V', '2023-03-03T08:09:24.519Z', 3, 'battery_level']\n",
      "\n",
      "\n",
      "ref:  jzp://edv#0502.0000\n",
      "cuid:  5f4da8c8-7533-4d1d-b9e2-3ddd2d7363ac\n",
      "t:  1677830984540\n",
      "tz:  2023-03-03T08:09:44.540Z\n",
      "cat:  0631\n",
      "sn:  159\n",
      "type:  gasmeter\n",
      "uuid:  1bd09a05-2ffd-40de-91cf-c3eec7429198\n",
      "measure 1 :  [1677830984541, 'jzp://coo#ffffffff000004ff.0000', '', '2023-03-03T08:09:44.541Z', 1.0, 'coordinator']\n",
      "measure 2 :  [1677830984541, None, '', '2023-03-03T08:09:44.541Z', 386.7938, 'ppm']\n",
      "measure 3 :  [1677830984541, 'jzp://coo#ffffffff000004ff.0000', 'dB', '2023-03-03T08:09:44.541Z', -50.8154, 'rssi']\n",
      "measure 4 :  [1677830984541, None, '℃', '2023-03-03T08:09:44.541Z', 8, 'device_temperature']\n",
      "measure 5 :  [1677830984541, None, 'V', '2023-03-03T08:09:44.541Z', 3, 'battery_level']\n",
      "\n",
      "\n",
      "ref:  jzp://edv#0502.0000\n",
      "cuid:  a9cd8895-6fc7-4456-bf60-6ebc93081dfd\n",
      "t:  1677831005360\n",
      "tz:  2023-03-03T08:10:05.360Z\n",
      "cat:  0631\n",
      "sn:  239\n",
      "type:  gasmeter\n",
      "uuid:  87c1e505-ece9-41be-a934-079c7972518e\n",
      "measure 1 :  [1677831005360, 'jzp://coo#ffffffff000004ff.0000', '', '2023-03-03T08:10:05.360Z', 1.0, 'coordinator']\n",
      "measure 2 :  [1677831005360, None, '', '2023-03-03T08:10:05.360Z', 311.8049, 'ppm']\n",
      "measure 3 :  [1677831005360, 'jzp://coo#ffffffff000004ff.0000', 'dB', '2023-03-03T08:10:05.360Z', -27.2389, 'rssi']\n",
      "measure 4 :  [1677831005360, None, '℃', '2023-03-03T08:10:05.360Z', 14, 'device_temperature']\n",
      "measure 5 :  [1677831005360, None, 'V', '2023-03-03T08:10:05.360Z', 3, 'battery_level']\n",
      "\n",
      "\n",
      "ref:  jzp://edv#0502.0000\n",
      "cuid:  7755a174-989f-4c9c-b894-0fea8cb114dc\n",
      "t:  1677831030872\n",
      "tz:  2023-03-03T08:10:30.872Z\n",
      "cat:  0631\n",
      "sn:  41\n",
      "type:  gasmeter\n",
      "uuid:  5f19b765-239b-4533-8d7b-7f36c3d28564\n",
      "measure 1 :  [1677831030872, 'jzp://coo#ffffffff000004ff.0000', '', '2023-03-03T08:10:30.872Z', 1.0, 'coordinator']\n",
      "measure 2 :  [1677831030872, None, '', '2023-03-03T08:10:30.872Z', 326.536, 'ppm']\n",
      "measure 3 :  [1677831030872, 'jzp://coo#ffffffff000004ff.0000', 'dB', '2023-03-03T08:10:30.872Z', -65.7167, 'rssi']\n",
      "measure 4 :  [1677831030872, None, '℃', '2023-03-03T08:10:30.872Z', 28, 'device_temperature']\n",
      "measure 5 :  [1677831030873, None, 'V', '2023-03-03T08:10:30.873Z', 3, 'battery_level']\n",
      "\n",
      "\n",
      "ref:  jzp://edv#0502.0000\n",
      "cuid:  7e5ff71d-7208-4cb5-8f76-bdacec489195\n",
      "t:  1677831053932\n",
      "tz:  2023-03-03T08:10:53.932Z\n",
      "cat:  0631\n",
      "sn:  224\n",
      "type:  gasmeter\n",
      "uuid:  265a7b79-9e08-46f0-ab61-45a316c37102\n",
      "measure 1 :  [1677831053933, 'jzp://coo#ffffffff000004ff.0000', '', '2023-03-03T08:10:53.933Z', 1.0, 'coordinator']\n",
      "measure 2 :  [1677831053933, None, '', '2023-03-03T08:10:53.933Z', 353.4971, 'ppm']\n",
      "measure 3 :  [1677831053933, 'jzp://coo#ffffffff000004ff.0000', 'dB', '2023-03-03T08:10:53.933Z', -24.3999, 'rssi']\n",
      "measure 4 :  [1677831053933, None, '℃', '2023-03-03T08:10:53.933Z', 31, 'device_temperature']\n",
      "measure 5 :  [1677831053933, None, 'V', '2023-03-03T08:10:53.933Z', 3, 'battery_level']\n",
      "\n",
      "\n",
      "ref:  jzp://edv#0502.0000\n",
      "cuid:  1e72bc51-cf63-4b84-842a-1817530aab80\n",
      "t:  1677831071726\n",
      "tz:  2023-03-03T08:11:11.726Z\n",
      "cat:  0631\n",
      "sn:  143\n",
      "type:  gasmeter\n",
      "uuid:  6674b650-60c1-4e5e-ada9-f97278425388\n",
      "measure 1 :  [1677831071726, 'jzp://coo#ffffffff000004ff.0000', '', '2023-03-03T08:11:11.726Z', 1.0, 'coordinator']\n",
      "measure 2 :  [1677831071726, None, '', '2023-03-03T08:11:11.726Z', 360.0398, 'ppm']\n",
      "measure 3 :  [1677831071726, 'jzp://coo#ffffffff000004ff.0000', 'dB', '2023-03-03T08:11:11.726Z', -90.0571, 'rssi']\n",
      "measure 4 :  [1677831071726, None, '℃', '2023-03-03T08:11:11.726Z', 12, 'device_temperature']\n",
      "measure 5 :  [1677831071726, None, 'V', '2023-03-03T08:11:11.726Z', 3, 'battery_level']\n",
      "\n",
      "\n",
      "ref:  jzp://edv#0502.0000\n",
      "cuid:  d6df466b-5c3c-4659-8ae3-19915efa6baf\n",
      "t:  1677831091430\n",
      "tz:  2023-03-03T08:11:31.430Z\n",
      "cat:  0631\n",
      "sn:  131\n",
      "type:  gasmeter\n",
      "uuid:  d011edcf-6415-4756-97bd-f2ef314e73fb\n",
      "measure 1 :  [1677831091430, 'jzp://coo#ffffffff000004ff.0000', '', '2023-03-03T08:11:31.430Z', 1.0, 'coordinator']\n",
      "measure 2 :  [1677831091430, None, '', '2023-03-03T08:11:31.430Z', 301.7239, 'ppm']\n",
      "measure 3 :  [1677831091430, 'jzp://coo#ffffffff000004ff.0000', 'dB', '2023-03-03T08:11:31.430Z', -19.9512, 'rssi']\n",
      "measure 4 :  [1677831091430, None, '℃', '2023-03-03T08:11:31.430Z', 35, 'device_temperature']\n",
      "measure 5 :  [1677831091430, None, 'V', '2023-03-03T08:11:31.430Z', 3, 'battery_level']\n",
      "\n",
      "\n",
      "ref:  jzp://edv#0502.0000\n",
      "cuid:  aef68ccf-ebaa-45f0-9a3f-856820b05b8e\n",
      "t:  1677831111487\n",
      "tz:  2023-03-03T08:11:51.487Z\n",
      "cat:  0631\n",
      "sn:  16\n",
      "type:  gasmeter\n",
      "uuid:  069c0828-9ab3-4b6a-87c9-5a807e6f3a0b\n",
      "measure 1 :  [1677831111487, 'jzp://coo#ffffffff000004ff.0000', '', '2023-03-03T08:11:51.487Z', 1.0, 'coordinator']\n",
      "measure 2 :  [1677831111487, None, '', '2023-03-03T08:11:51.487Z', 351.8889, 'ppm']\n",
      "measure 3 :  [1677831111487, 'jzp://coo#ffffffff000004ff.0000', 'dB', '2023-03-03T08:11:51.487Z', -31.4584, 'rssi']\n",
      "measure 4 :  [1677831111487, None, '℃', '2023-03-03T08:11:51.487Z', 2, 'device_temperature']\n",
      "measure 5 :  [1677831111487, None, 'V', '2023-03-03T08:11:51.487Z', 3, 'battery_level']\n",
      "\n",
      "\n",
      "ref:  jzp://edv#0502.0000\n",
      "cuid:  1c5f856e-5e2e-474f-bbaf-954e8644708d\n",
      "t:  1677831136456\n",
      "tz:  2023-03-03T08:12:16.456Z\n",
      "cat:  0631\n",
      "sn:  162\n",
      "type:  gasmeter\n",
      "uuid:  56634ecc-8651-4c67-85aa-3ab240516ca5\n",
      "measure 1 :  [1677831136456, 'jzp://coo#ffffffff000004ff.0000', '', '2023-03-03T08:12:16.456Z', 1.0, 'coordinator']\n",
      "measure 2 :  [1677831136456, None, '', '2023-03-03T08:12:16.456Z', 335.6473, 'ppm']\n",
      "measure 3 :  [1677831136456, 'jzp://coo#ffffffff000004ff.0000', 'dB', '2023-03-03T08:12:16.456Z', -97.2757, 'rssi']\n",
      "measure 4 :  [1677831136456, None, '℃', '2023-03-03T08:12:16.456Z', 29, 'device_temperature']\n",
      "measure 5 :  [1677831136456, None, 'V', '2023-03-03T08:12:16.456Z', 3, 'battery_level']\n",
      "\n",
      "\n",
      "ref:  jzp://edv#0502.0000\n",
      "cuid:  3a83fdcd-bc20-4979-a4ee-8c529ce081ff\n",
      "t:  1677831162603\n",
      "tz:  2023-03-03T08:12:42.603Z\n",
      "cat:  0631\n",
      "sn:  222\n",
      "type:  gasmeter\n",
      "uuid:  e5012bf2-9294-4e22-9964-3b70aca2c125\n",
      "measure 1 :  [1677831162604, 'jzp://coo#ffffffff000004ff.0000', '', '2023-03-03T08:12:42.604Z', 1.0, 'coordinator']\n",
      "measure 2 :  [1677831162604, None, '', '2023-03-03T08:12:42.604Z', 371.4739, 'ppm']\n",
      "measure 3 :  [1677831162604, 'jzp://coo#ffffffff000004ff.0000', 'dB', '2023-03-03T08:12:42.604Z', -34.6381, 'rssi']\n",
      "measure 4 :  [1677831162604, None, '℃', '2023-03-03T08:12:42.604Z', 39, 'device_temperature']\n",
      "measure 5 :  [1677831162604, None, 'V', '2023-03-03T08:12:42.604Z', 3, 'battery_level']\n",
      "\n",
      "\n",
      "ref:  jzp://edv#0502.0000\n",
      "cuid:  f3429d53-590a-45a5-8b79-2feb5ef2e934\n",
      "t:  1677831183650\n",
      "tz:  2023-03-03T08:13:03.650Z\n",
      "cat:  0631\n",
      "sn:  149\n",
      "type:  gasmeter\n",
      "uuid:  7152b630-eab9-4f45-a084-343018f34817\n",
      "measure 1 :  [1677831183650, 'jzp://coo#ffffffff000004ff.0000', '', '2023-03-03T08:13:03.650Z', 1.0, 'coordinator']\n",
      "measure 2 :  [1677831183650, None, '', '2023-03-03T08:13:03.650Z', 368.914, 'ppm']\n",
      "measure 3 :  [1677831183650, 'jzp://coo#ffffffff000004ff.0000', 'dB', '2023-03-03T08:13:03.650Z', -11.6541, 'rssi']\n",
      "measure 4 :  [1677831183650, None, '℃', '2023-03-03T08:13:03.650Z', 0, 'device_temperature']\n",
      "measure 5 :  [1677831183650, None, 'V', '2023-03-03T08:13:03.650Z', 3, 'battery_level']\n",
      "\n",
      "\n",
      "ref:  jzp://edv#0502.0000\n",
      "cuid:  c4201ad7-61ca-43fd-8513-2dad7ffb1acc\n",
      "t:  1677831202450\n",
      "tz:  2023-03-03T08:13:22.450Z\n",
      "cat:  0631\n",
      "sn:  100\n",
      "type:  gasmeter\n",
      "uuid:  283d62f4-e5d4-44ca-ae31-8d1152253c62\n",
      "measure 1 :  [1677831202450, 'jzp://coo#ffffffff000004ff.0000', '', '2023-03-03T08:13:22.450Z', 1.0, 'coordinator']\n",
      "measure 2 :  [1677831202450, None, '', '2023-03-03T08:13:22.450Z', 345.7975, 'ppm']\n",
      "measure 3 :  [1677831202451, 'jzp://coo#ffffffff000004ff.0000', 'dB', '2023-03-03T08:13:22.451Z', -69.9034, 'rssi']\n",
      "measure 4 :  [1677831202451, None, '℃', '2023-03-03T08:13:22.451Z', 24, 'device_temperature']\n",
      "measure 5 :  [1677831202451, None, 'V', '2023-03-03T08:13:22.451Z', 3, 'battery_level']\n",
      "\n",
      "\n",
      "ref:  jzp://edv#0502.0000\n",
      "cuid:  6f8aedba-e745-40b4-82bc-e5025b24eb59\n",
      "t:  1677831229615\n",
      "tz:  2023-03-03T08:13:49.615Z\n",
      "cat:  0631\n",
      "sn:  67\n",
      "type:  gasmeter\n",
      "uuid:  4ad89643-e207-4739-a401-24beae82f66f\n",
      "measure 1 :  [1677831229615, 'jzp://coo#ffffffff000004ff.0000', '', '2023-03-03T08:13:49.615Z', 1.0, 'coordinator']\n",
      "measure 2 :  [1677831229615, None, '', '2023-03-03T08:13:49.615Z', 323.0757, 'ppm']\n",
      "measure 3 :  [1677831229615, 'jzp://coo#ffffffff000004ff.0000', 'dB', '2023-03-03T08:13:49.615Z', -69.3872, 'rssi']\n",
      "measure 4 :  [1677831229615, None, '℃', '2023-03-03T08:13:49.615Z', 12, 'device_temperature']\n",
      "measure 5 :  [1677831229615, None, 'V', '2023-03-03T08:13:49.615Z', 3, 'battery_level']\n",
      "\n",
      "\n",
      "ref:  jzp://edv#0502.0000\n",
      "cuid:  a816dc0c-c687-4447-84a6-737e6a593ec7\n",
      "t:  1677831254206\n",
      "tz:  2023-03-03T08:14:14.206Z\n",
      "cat:  0631\n",
      "sn:  106\n",
      "type:  gasmeter\n",
      "uuid:  4045f912-971c-41ec-a144-806c1c02259f\n",
      "measure 1 :  [1677831254207, 'jzp://coo#ffffffff000004ff.0000', '', '2023-03-03T08:14:14.207Z', 1.0, 'coordinator']\n",
      "measure 2 :  [1677831254207, None, '', '2023-03-03T08:14:14.207Z', 332.2118, 'ppm']\n",
      "measure 3 :  [1677831254207, 'jzp://coo#ffffffff000004ff.0000', 'dB', '2023-03-03T08:14:14.207Z', -27.22, 'rssi']\n",
      "measure 4 :  [1677831254207, None, '℃', '2023-03-03T08:14:14.207Z', 7, 'device_temperature']\n",
      "measure 5 :  [1677831254207, None, 'V', '2023-03-03T08:14:14.207Z', 3, 'battery_level']\n",
      "\n",
      "\n",
      "ref:  jzp://edv#0502.0000\n",
      "cuid:  2e326a96-97a4-42f8-a114-2f4b4569ffe3\n",
      "t:  1677831278468\n",
      "tz:  2023-03-03T08:14:38.468Z\n",
      "cat:  0631\n",
      "sn:  76\n",
      "type:  gasmeter\n",
      "uuid:  8f00423b-ca36-4ca9-b2e6-d667e13a363b\n",
      "measure 1 :  [1677831278469, 'jzp://coo#ffffffff000004ff.0000', '', '2023-03-03T08:14:38.469Z', 1.0, 'coordinator']\n",
      "measure 2 :  [1677831278469, None, '', '2023-03-03T08:14:38.469Z', 337.6216, 'ppm']\n",
      "measure 3 :  [1677831278469, 'jzp://coo#ffffffff000004ff.0000', 'dB', '2023-03-03T08:14:38.469Z', -77.5203, 'rssi']\n",
      "measure 4 :  [1677831278469, None, '℃', '2023-03-03T08:14:38.469Z', 3, 'device_temperature']\n",
      "measure 5 :  [1677831278469, None, 'V', '2023-03-03T08:14:38.469Z', 3, 'battery_level']\n",
      "\n",
      "\n",
      "ref:  jzp://edv#0502.0000\n",
      "cuid:  5ad0e93c-07e1-42a7-8541-a11b51bb5a04\n",
      "t:  1677831304352\n",
      "tz:  2023-03-03T08:15:04.352Z\n",
      "cat:  0631\n",
      "sn:  139\n",
      "type:  gasmeter\n",
      "uuid:  d14f8f52-3391-4f6a-bb46-444f18f1ea97\n",
      "measure 1 :  [1677831304352, 'jzp://coo#ffffffff000004ff.0000', '', '2023-03-03T08:15:04.352Z', 1.0, 'coordinator']\n",
      "measure 2 :  [1677831304352, None, '', '2023-03-03T08:15:04.352Z', 367.028, 'ppm']\n",
      "measure 3 :  [1677831304352, 'jzp://coo#ffffffff000004ff.0000', 'dB', '2023-03-03T08:15:04.352Z', -39.7849, 'rssi']\n",
      "measure 4 :  [1677831304353, None, '℃', '2023-03-03T08:15:04.353Z', 22, 'device_temperature']\n",
      "measure 5 :  [1677831304353, None, 'V', '2023-03-03T08:15:04.353Z', 3, 'battery_level']\n",
      "\n",
      "\n",
      "ref:  jzp://edv#0502.0000\n",
      "cuid:  3e944b3d-952e-44c3-a688-d1dc6cdd492d\n",
      "t:  1677831328425\n",
      "tz:  2023-03-03T08:15:28.425Z\n",
      "cat:  0631\n",
      "sn:  13\n",
      "type:  gasmeter\n",
      "uuid:  b8ffdee3-8bc1-4df1-b8a1-ac37f64f0ac7\n",
      "measure 1 :  [1677831328425, 'jzp://coo#ffffffff000004ff.0000', '', '2023-03-03T08:15:28.425Z', 1.0, 'coordinator']\n",
      "measure 2 :  [1677831328425, None, '', '2023-03-03T08:15:28.425Z', 337.193, 'ppm']\n",
      "measure 3 :  [1677831328425, 'jzp://coo#ffffffff000004ff.0000', 'dB', '2023-03-03T08:15:28.425Z', -7.663, 'rssi']\n",
      "measure 4 :  [1677831328426, None, '℃', '2023-03-03T08:15:28.426Z', 6, 'device_temperature']\n",
      "measure 5 :  [1677831328426, None, 'V', '2023-03-03T08:15:28.426Z', 3, 'battery_level']\n",
      "\n",
      "\n",
      "ref:  jzp://edv#0502.0000\n",
      "cuid:  13d7c820-9915-46fb-bc4b-198ec8ed21a0\n",
      "t:  1677831354480\n",
      "tz:  2023-03-03T08:15:54.480Z\n",
      "cat:  0631\n",
      "sn:  244\n",
      "type:  gasmeter\n",
      "uuid:  6f573e1e-15a3-489c-83a4-5ccfedf5e95d\n",
      "measure 1 :  [1677831354481, 'jzp://coo#ffffffff000004ff.0000', '', '2023-03-03T08:15:54.481Z', 1.0, 'coordinator']\n",
      "measure 2 :  [1677831354481, None, '', '2023-03-03T08:15:54.481Z', 386.8959, 'ppm']\n",
      "measure 3 :  [1677831354481, 'jzp://coo#ffffffff000004ff.0000', 'dB', '2023-03-03T08:15:54.481Z', -97.2762, 'rssi']\n",
      "measure 4 :  [1677831354481, None, '℃', '2023-03-03T08:15:54.481Z', 30, 'device_temperature']\n",
      "measure 5 :  [1677831354481, None, 'V', '2023-03-03T08:15:54.481Z', 3, 'battery_level']\n",
      "\n",
      "\n",
      "ref:  jzp://edv#0502.0000\n",
      "cuid:  70f09c8f-8e34-412a-9326-6afb8ce57851\n",
      "t:  1677831374737\n",
      "tz:  2023-03-03T08:16:14.737Z\n",
      "cat:  0631\n",
      "sn:  87\n",
      "type:  gasmeter\n",
      "uuid:  1a203f12-bb76-4ed2-ab77-2f5c49f5d9eb\n",
      "measure 1 :  [1677831374737, 'jzp://coo#ffffffff000004ff.0000', '', '2023-03-03T08:16:14.737Z', 1.0, 'coordinator']\n",
      "measure 2 :  [1677831374737, None, '', '2023-03-03T08:16:14.737Z', 354.445, 'ppm']\n",
      "measure 3 :  [1677831374737, 'jzp://coo#ffffffff000004ff.0000', 'dB', '2023-03-03T08:16:14.737Z', -14.6332, 'rssi']\n",
      "measure 4 :  [1677831374737, None, '℃', '2023-03-03T08:16:14.737Z', 21, 'device_temperature']\n",
      "measure 5 :  [1677831374737, None, 'V', '2023-03-03T08:16:14.737Z', 3, 'battery_level']\n",
      "\n",
      "\n",
      "ref:  jzp://edv#0502.0000\n",
      "cuid:  c9270293-673f-461a-bc59-34a2e39ee445\n",
      "t:  1677831398168\n",
      "tz:  2023-03-03T08:16:38.168Z\n",
      "cat:  0631\n",
      "sn:  33\n",
      "type:  gasmeter\n",
      "uuid:  89a8b7c2-afa5-4740-9322-ecd1a63ef896\n",
      "measure 1 :  [1677831398168, 'jzp://coo#ffffffff000004ff.0000', '', '2023-03-03T08:16:38.168Z', 1.0, 'coordinator']\n",
      "measure 2 :  [1677831398168, None, '', '2023-03-03T08:16:38.168Z', 329.4446, 'ppm']\n",
      "measure 3 :  [1677831398168, 'jzp://coo#ffffffff000004ff.0000', 'dB', '2023-03-03T08:16:38.168Z', -93.5566, 'rssi']\n",
      "measure 4 :  [1677831398168, None, '℃', '2023-03-03T08:16:38.168Z', 29, 'device_temperature']\n",
      "measure 5 :  [1677831398168, None, 'V', '2023-03-03T08:16:38.168Z', 3, 'battery_level']\n",
      "\n",
      "\n",
      "ref:  jzp://edv#0502.0000\n",
      "cuid:  012f3db6-34e0-4ed1-a83c-52f139367f5d\n",
      "t:  1677710409326\n",
      "tz:  2023-03-02T22:40:09.326Z\n",
      "cat:  0631\n",
      "sn:  250\n",
      "type:  gasmeter\n",
      "uuid:  55aa04c2-a12e-4cb5-b83d-ca0550aa9fba\n",
      "measure 1 :  [1677710409326, 'jzp://coo#ffffffff000004ff.0000', '', '2023-03-01T22:40:09.326Z', 1.0, 'coordinator']\n",
      "measure 2 :  [1677710409326, None, '', '2023-03-01T22:40:09.326Z', 325.2342, 'ppm']\n",
      "measure 3 :  [1677710409326, 'jzp://coo#ffffffff000004ff.0000', 'dB', '2023-03-01T22:40:09.326Z', -0.9808, 'rssi']\n",
      "measure 4 :  [1677710409326, None, '℃', '2023-03-01T22:40:09.326Z', 31, 'device_temperature']\n",
      "measure 5 :  [1677710409326, None, 'V', '2023-03-01T22:40:09.326Z', 3, 'battery_level']\n",
      "\n",
      "\n",
      "ref:  jzp://edv#0502.0000\n",
      "cuid:  c8396c7b-b048-4fe5-860e-2263e8aebaca\n",
      "t:  1677710427791\n",
      "tz:  2023-03-02T22:40:27.791Z\n",
      "cat:  0631\n",
      "sn:  139\n",
      "type:  gasmeter\n",
      "uuid:  e6d74b89-b533-4a12-838c-64ca72ff3dbb\n",
      "measure 1 :  [1677710427791, 'jzp://coo#ffffffff000004ff.0000', '', '2023-03-01T22:40:27.791Z', 1.0, 'coordinator']\n",
      "measure 2 :  [1677710427791, None, '', '2023-03-01T22:40:27.791Z', 395.5241, 'ppm']\n",
      "measure 3 :  [1677710427791, 'jzp://coo#ffffffff000004ff.0000', 'dB', '2023-03-01T22:40:27.791Z', -47.9444, 'rssi']\n",
      "measure 4 :  [1677710427791, None, '℃', '2023-03-01T22:40:27.791Z', 39, 'device_temperature']\n",
      "measure 5 :  [1677710427791, None, 'V', '2023-03-01T22:40:27.791Z', 3, 'battery_level']\n",
      "\n",
      "\n",
      "ref:  jzp://edv#0502.0000\n",
      "cuid:  dad27a07-871a-4b42-ad03-3b2b1a02bfe1\n",
      "t:  1677710455601\n",
      "tz:  2023-03-02T22:40:55.601Z\n",
      "cat:  0631\n",
      "sn:  4\n",
      "type:  gasmeter\n",
      "uuid:  2fc8110a-be0f-410c-ad89-3b37337066bb\n",
      "measure 1 :  [1677710455602, 'jzp://coo#ffffffff000004ff.0000', '', '2023-03-01T22:40:55.602Z', 1.0, 'coordinator']\n",
      "measure 2 :  [1677710455602, None, '', '2023-03-01T22:40:55.602Z', 355.4746, 'ppm']\n",
      "measure 3 :  [1677710455602, 'jzp://coo#ffffffff000004ff.0000', 'dB', '2023-03-01T22:40:55.602Z', -112.7691, 'rssi']\n",
      "measure 4 :  [1677710455602, None, '℃', '2023-03-01T22:40:55.602Z', 34, 'device_temperature']\n",
      "measure 5 :  [1677710455602, None, 'V', '2023-03-01T22:40:55.602Z', 3, 'battery_level']\n",
      "\n",
      "\n",
      "ref:  jzp://edv#0502.0000\n",
      "cuid:  54ac736d-7557-4527-a71c-74c255e30bae\n",
      "t:  1677710480355\n",
      "tz:  2023-03-02T22:41:20.355Z\n",
      "cat:  0631\n",
      "sn:  36\n",
      "type:  gasmeter\n",
      "uuid:  7241f756-cbaa-4090-97e1-97db15daf635\n",
      "measure 1 :  [1677710480355, 'jzp://coo#ffffffff000004ff.0000', '', '2023-03-01T22:41:20.355Z', 1.0, 'coordinator']\n",
      "measure 2 :  [1677710480355, None, '', '2023-03-01T22:41:20.355Z', 314.1354, 'ppm']\n",
      "measure 3 :  [1677710480355, 'jzp://coo#ffffffff000004ff.0000', 'dB', '2023-03-01T22:41:20.355Z', -101.658, 'rssi']\n",
      "measure 4 :  [1677710480355, None, '℃', '2023-03-01T22:41:20.355Z', 22, 'device_temperature']\n",
      "measure 5 :  [1677710480355, None, 'V', '2023-03-01T22:41:20.355Z', 3, 'battery_level']\n",
      "\n",
      "\n",
      "ref:  jzp://edv#0502.0000\n",
      "cuid:  ef51d30e-704c-4782-878d-2639d57e5743\n",
      "t:  1677710507333\n",
      "tz:  2023-03-02T22:41:47.333Z\n",
      "cat:  0631\n",
      "sn:  165\n",
      "type:  gasmeter\n",
      "uuid:  6c3546c8-c47f-47f6-a825-b67e70b380ba\n",
      "measure 1 :  [1677710507333, 'jzp://coo#ffffffff000004ff.0000', '', '2023-03-01T22:41:47.333Z', 1.0, 'coordinator']\n",
      "measure 2 :  [1677710507333, None, '', '2023-03-01T22:41:47.333Z', 360.3631, 'ppm']\n",
      "measure 3 :  [1677710507333, 'jzp://coo#ffffffff000004ff.0000', 'dB', '2023-03-01T22:41:47.333Z', -1.5253, 'rssi']\n",
      "measure 4 :  [1677710507333, None, '℃', '2023-03-01T22:41:47.333Z', 37, 'device_temperature']\n",
      "measure 5 :  [1677710507333, None, 'V', '2023-03-01T22:41:47.333Z', 3, 'battery_level']\n",
      "\n",
      "\n",
      "ref:  jzp://edv#0502.0000\n",
      "cuid:  7172f7e1-4d19-431a-96e0-26732be09a6d\n",
      "t:  1677710534254\n",
      "tz:  2023-03-02T22:42:14.254Z\n",
      "cat:  0631\n",
      "sn:  200\n",
      "type:  gasmeter\n",
      "uuid:  3e71b6ee-be47-4c42-bdeb-324e80c18cb4\n",
      "measure 1 :  [1677710534254, 'jzp://coo#ffffffff000004ff.0000', '', '2023-03-01T22:42:14.254Z', 1.0, 'coordinator']\n",
      "measure 2 :  [1677710534254, None, '', '2023-03-01T22:42:14.254Z', 387.1859, 'ppm']\n",
      "measure 3 :  [1677710534254, 'jzp://coo#ffffffff000004ff.0000', 'dB', '2023-03-01T22:42:14.254Z', -91.8912, 'rssi']\n",
      "measure 4 :  [1677710534254, None, '℃', '2023-03-01T22:42:14.254Z', 16, 'device_temperature']\n",
      "measure 5 :  [1677710534254, None, 'V', '2023-03-01T22:42:14.254Z', 3, 'battery_level']\n",
      "\n",
      "\n",
      "ref:  jzp://edv#0502.0000\n",
      "cuid:  51cef967-bf8c-48d4-be9b-620fe3966bd5\n",
      "t:  1677710560614\n",
      "tz:  2023-03-02T22:42:40.614Z\n",
      "cat:  0631\n",
      "sn:  215\n",
      "type:  gasmeter\n",
      "uuid:  10835c58-9fda-4ba3-9397-8b48036ba326\n",
      "measure 1 :  [1677710560614, 'jzp://coo#ffffffff000004ff.0000', '', '2023-03-01T22:42:40.614Z', 1.0, 'coordinator']\n",
      "measure 2 :  [1677710560614, None, '', '2023-03-01T22:42:40.614Z', 326.0659, 'ppm']\n",
      "measure 3 :  [1677710560614, 'jzp://coo#ffffffff000004ff.0000', 'dB', '2023-03-01T22:42:40.614Z', -25.1683, 'rssi']\n",
      "measure 4 :  [1677710560614, None, '℃', '2023-03-01T22:42:40.614Z', 16, 'device_temperature']\n",
      "measure 5 :  [1677710560614, None, 'V', '2023-03-01T22:42:40.614Z', 3, 'battery_level']\n",
      "\n",
      "\n",
      "ref:  jzp://edv#0502.0000\n",
      "cuid:  64d43ee2-51c5-4603-860f-fa26feb20c11\n",
      "t:  1677710583378\n",
      "tz:  2023-03-02T22:43:03.378Z\n",
      "cat:  0631\n",
      "sn:  5\n",
      "type:  gasmeter\n",
      "uuid:  f7d0a9ed-2ef6-4037-9734-158df01edea9\n",
      "measure 1 :  [1677710583378, 'jzp://coo#ffffffff000004ff.0000', '', '2023-03-01T22:43:03.378Z', 1.0, 'coordinator']\n",
      "measure 2 :  [1677710583378, None, '', '2023-03-01T22:43:03.378Z', 319.2753, 'ppm']\n",
      "measure 3 :  [1677710583378, 'jzp://coo#ffffffff000004ff.0000', 'dB', '2023-03-01T22:43:03.378Z', -65.664, 'rssi']\n",
      "measure 4 :  [1677710583378, None, '℃', '2023-03-01T22:43:03.378Z', 30, 'device_temperature']\n",
      "measure 5 :  [1677710583378, None, 'V', '2023-03-01T22:43:03.378Z', 3, 'battery_level']\n",
      "\n",
      "\n",
      "ref:  jzp://edv#0502.0000\n",
      "cuid:  98eeaefc-6a44-46c5-af5b-b418558622f5\n",
      "t:  1677710607018\n",
      "tz:  2023-03-02T22:43:27.018Z\n",
      "cat:  0631\n",
      "sn:  205\n",
      "type:  gasmeter\n",
      "uuid:  5ff1cbc5-8e07-4644-bede-f23e43836ed5\n",
      "measure 1 :  [1677710607019, 'jzp://coo#ffffffff000004ff.0000', '', '2023-03-01T22:43:27.019Z', 1.0, 'coordinator']\n",
      "measure 2 :  [1677710607019, None, '', '2023-03-01T22:43:27.019Z', 369.8758, 'ppm']\n",
      "measure 3 :  [1677710607019, 'jzp://coo#ffffffff000004ff.0000', 'dB', '2023-03-01T22:43:27.019Z', -83.5197, 'rssi']\n",
      "measure 4 :  [1677710607019, None, '℃', '2023-03-01T22:43:27.019Z', 37, 'device_temperature']\n",
      "measure 5 :  [1677710607019, None, 'V', '2023-03-01T22:43:27.019Z', 3, 'battery_level']\n",
      "\n",
      "\n",
      "ref:  jzp://edv#0502.0000\n",
      "cuid:  92bef6c8-bddb-4b78-901b-a1b79e450c6e\n",
      "t:  1677710632143\n",
      "tz:  2023-03-02T22:43:52.143Z\n",
      "cat:  0631\n",
      "sn:  38\n",
      "type:  gasmeter\n",
      "uuid:  f646afa6-6638-40e1-a574-2c3659ad15ba\n",
      "measure 1 :  [1677710632143, 'jzp://coo#ffffffff000004ff.0000', '', '2023-03-01T22:43:52.143Z', 1.0, 'coordinator']\n",
      "measure 2 :  [1677710632143, None, '', '2023-03-01T22:43:52.143Z', 375.5255, 'ppm']\n",
      "measure 3 :  [1677710632143, 'jzp://coo#ffffffff000004ff.0000', 'dB', '2023-03-01T22:43:52.143Z', -63.8526, 'rssi']\n",
      "measure 4 :  [1677710632143, None, '℃', '2023-03-01T22:43:52.143Z', 28, 'device_temperature']\n",
      "measure 5 :  [1677710632143, None, 'V', '2023-03-01T22:43:52.143Z', 3, 'battery_level']\n",
      "\n",
      "\n",
      "ref:  jzp://edv#0502.0000\n",
      "cuid:  04548832-160a-4f39-aa4b-dd48ff76ec07\n",
      "t:  1677710652596\n",
      "tz:  2023-03-02T22:44:12.596Z\n",
      "cat:  0631\n",
      "sn:  111\n",
      "type:  gasmeter\n",
      "uuid:  2c8826aa-209c-48b2-bd3a-e3f6d4fd218c\n",
      "measure 1 :  [1677710652596, 'jzp://coo#ffffffff000004ff.0000', '', '2023-03-01T22:44:12.596Z', 1.0, 'coordinator']\n",
      "measure 2 :  [1677710652596, None, '', '2023-03-01T22:44:12.596Z', 373.0638, 'ppm']\n",
      "measure 3 :  [1677710652597, 'jzp://coo#ffffffff000004ff.0000', 'dB', '2023-03-01T22:44:12.597Z', -68.2866, 'rssi']\n",
      "measure 4 :  [1677710652597, None, '℃', '2023-03-01T22:44:12.597Z', 11, 'device_temperature']\n",
      "measure 5 :  [1677710652597, None, 'V', '2023-03-01T22:44:12.597Z', 3, 'battery_level']\n",
      "\n",
      "\n",
      "ref:  jzp://edv#0502.0000\n",
      "cuid:  575df969-ff1c-416c-8b77-c6ba823fc81d\n",
      "t:  1677710676004\n",
      "tz:  2023-03-02T22:44:36.004Z\n",
      "cat:  0631\n",
      "sn:  140\n",
      "type:  gasmeter\n",
      "uuid:  47f121be-0242-4041-8c6e-2450ab79f8a3\n",
      "measure 1 :  [1677710676004, 'jzp://coo#ffffffff000004ff.0000', '', '2023-03-01T22:44:36.004Z', 1.0, 'coordinator']\n",
      "measure 2 :  [1677710676004, None, '', '2023-03-01T22:44:36.004Z', 355.9728, 'ppm']\n",
      "measure 3 :  [1677710676004, 'jzp://coo#ffffffff000004ff.0000', 'dB', '2023-03-01T22:44:36.004Z', -16.8031, 'rssi']\n",
      "measure 4 :  [1677710676004, None, '℃', '2023-03-01T22:44:36.004Z', 9, 'device_temperature']\n",
      "measure 5 :  [1677710676004, None, 'V', '2023-03-01T22:44:36.004Z', 3, 'battery_level']\n",
      "\n",
      "\n",
      "ref:  jzp://edv#0502.0000\n",
      "cuid:  c4e93794-9ad1-4e19-a23f-c226cf9db08a\n",
      "t:  1677710696785\n",
      "tz:  2023-03-01T22:44:56.785Z\n",
      "cat:  0631\n",
      "sn:  235\n",
      "type:  gasmeter\n",
      "uuid:  f08bdf71-daab-4deb-b213-913ae0c408e2\n",
      "measure 1 :  [1677710696785, 'jzp://coo#ffffffff000004ff.0000', '', '2023-03-01T22:44:56.785Z', 1.0, 'coordinator']\n",
      "measure 2 :  [1677710696785, None, '', '2023-03-01T22:44:56.785Z', 364.9355, 'ppm']\n",
      "measure 3 :  [1677710696785, 'jzp://coo#ffffffff000004ff.0000', 'dB', '2023-03-01T22:44:56.785Z', -65.419, 'rssi']\n",
      "measure 4 :  [1677710696785, None, '℃', '2023-03-01T22:44:56.785Z', 3, 'device_temperature']\n",
      "measure 5 :  [1677710696785, None, 'V', '2023-03-01T22:44:56.785Z', 3, 'battery_level']\n",
      "\n",
      "\n",
      "ref:  jzp://edv#0502.0000\n",
      "cuid:  ea5c3bff-ec52-4b5e-b723-8c54b48ad182\n",
      "t:  1677710717288\n",
      "tz:  2023-03-02T22:45:17.288Z\n",
      "cat:  0631\n",
      "sn:  89\n",
      "type:  gasmeter\n",
      "uuid:  9baf885a-18b3-479e-8b52-892f3bf4e15e\n",
      "measure 1 :  [1677710717288, 'jzp://coo#ffffffff000004ff.0000', '', '2023-03-01T22:45:17.288Z', 1.0, 'coordinator']\n",
      "measure 2 :  [1677710717288, None, '', '2023-03-01T22:45:17.288Z', 322.3662, 'ppm']\n",
      "measure 3 :  [1677710717288, 'jzp://coo#ffffffff000004ff.0000', 'dB', '2023-03-01T22:45:17.288Z', -22.9782, 'rssi']\n",
      "measure 4 :  [1677710717288, None, '℃', '2023-03-01T22:45:17.288Z', 32, 'device_temperature']\n",
      "measure 5 :  [1677710717288, None, 'V', '2023-03-01T22:45:17.288Z', 3, 'battery_level']\n",
      "\n",
      "\n",
      "ref:  jzp://edv#0502.0000\n",
      "cuid:  b2c706d3-187a-4b03-9d68-91d5930bf8e3\n",
      "t:  1677710743216\n",
      "tz:  2023-03-01T22:45:43.216Z\n",
      "cat:  0631\n",
      "sn:  24\n",
      "type:  gasmeter\n",
      "uuid:  8b22b725-f163-4a91-a556-dcc73fe07ee5\n",
      "measure 1 :  [1677710743216, 'jzp://coo#ffffffff000004ff.0000', '', '2023-03-01T22:45:43.216Z', 1.0, 'coordinator']\n",
      "measure 2 :  [1677710743216, None, '', '2023-03-01T22:45:43.216Z', 326.5502, 'ppm']\n",
      "measure 3 :  [1677710743216, 'jzp://coo#ffffffff000004ff.0000', 'dB', '2023-03-01T22:45:43.216Z', -75.0309, 'rssi']\n",
      "measure 4 :  [1677710743216, None, '℃', '2023-03-01T22:45:43.216Z', 3, 'device_temperature']\n",
      "measure 5 :  [1677710743216, None, 'V', '2023-03-01T22:45:43.216Z', 3, 'battery_level']\n",
      "\n",
      "\n",
      "ref:  jzp://edv#0502.0000\n",
      "cuid:  54f95b9b-2643-47cd-a6cd-5dffb81134d2\n",
      "t:  1677710762734\n",
      "tz:  2023-03-01T22:46:02.734Z\n",
      "cat:  0631\n",
      "sn:  33\n",
      "type:  gasmeter\n",
      "uuid:  66459438-d230-4a12-b01b-d81c53e38652\n",
      "measure 1 :  [1677710762734, 'jzp://coo#ffffffff000004ff.0000', '', '2023-03-01T22:46:02.734Z', 1.0, 'coordinator']\n",
      "measure 2 :  [1677710762734, None, '', '2023-03-01T22:46:02.734Z', 324.4594, 'ppm']\n",
      "measure 3 :  [1677710762734, 'jzp://coo#ffffffff000004ff.0000', 'dB', '2023-03-01T22:46:02.734Z', -116.2633, 'rssi']\n",
      "measure 4 :  [1677710762734, None, '℃', '2023-03-01T22:46:02.734Z', 6, 'device_temperature']\n",
      "measure 5 :  [1677710762734, None, 'V', '2023-03-01T22:46:02.734Z', 3, 'battery_level']\n",
      "\n",
      "\n",
      "ref:  jzp://edv#0502.0000\n",
      "cuid:  1564d6b8-de7d-4fe0-a35e-b530200b1aa1\n",
      "t:  1677710782205\n",
      "tz:  2023-03-01T22:46:22.205Z\n",
      "cat:  0631\n",
      "sn:  243\n",
      "type:  gasmeter\n",
      "uuid:  e877da2d-bef0-416c-b5af-82784d52fca7\n",
      "measure 1 :  [1677710782205, 'jzp://coo#ffffffff000004ff.0000', '', '2023-03-01T22:46:22.205Z', 1.0, 'coordinator']\n",
      "measure 2 :  [1677710782205, None, '', '2023-03-01T22:46:22.205Z', 380.5387, 'ppm']\n",
      "measure 3 :  [1677710782205, 'jzp://coo#ffffffff000004ff.0000', 'dB', '2023-03-01T22:46:22.205Z', -98.0544, 'rssi']\n",
      "measure 4 :  [1677710782205, None, '℃', '2023-03-01T22:46:22.205Z', 9, 'device_temperature']\n",
      "measure 5 :  [1677710782205, None, 'V', '2023-03-01T22:46:22.205Z', 3, 'battery_level']\n",
      "\n",
      "\n",
      "ref:  jzp://edv#0502.0000\n",
      "cuid:  4aabe4e5-841a-4343-a1d6-429e2e5d56ee\n",
      "t:  1677710802472\n",
      "tz:  2023-03-01T22:46:42.472Z\n",
      "cat:  0631\n",
      "sn:  119\n",
      "type:  gasmeter\n",
      "uuid:  1360e618-98b3-4aba-8126-97d72eaff314\n",
      "measure 1 :  [1677710802472, 'jzp://coo#ffffffff000004ff.0000', '', '2023-03-01T22:46:42.472Z', 1.0, 'coordinator']\n",
      "measure 2 :  [1677710802472, None, '', '2023-03-01T22:46:42.472Z', 383.8408, 'ppm']\n",
      "measure 3 :  [1677710802472, 'jzp://coo#ffffffff000004ff.0000', 'dB', '2023-03-01T22:46:42.472Z', -84.2983, 'rssi']\n",
      "measure 4 :  [1677710802472, None, '℃', '2023-03-01T22:46:42.472Z', 6, 'device_temperature']\n",
      "measure 5 :  [1677710802472, None, 'V', '2023-03-01T22:46:42.472Z', 3, 'battery_level']\n",
      "\n",
      "\n",
      "ref:  jzp://edv#0502.0000\n",
      "cuid:  c34273e5-5b7d-4dec-aff7-951281c47b18\n",
      "t:  1677710826265\n",
      "tz:  2023-03-01T22:47:06.265Z\n",
      "cat:  0631\n",
      "sn:  81\n",
      "type:  gasmeter\n",
      "uuid:  16e33eec-8a25-4758-9c1a-688316fe6228\n",
      "measure 1 :  [1677710826265, 'jzp://coo#ffffffff000004ff.0000', '', '2023-03-01T22:47:06.265Z', 1.0, 'coordinator']\n",
      "measure 2 :  [1677710826265, None, '', '2023-03-01T22:47:06.265Z', 319.8058, 'ppm']\n",
      "measure 3 :  [1677710826265, 'jzp://coo#ffffffff000004ff.0000', 'dB', '2023-03-01T22:47:06.265Z', -67.5194, 'rssi']\n",
      "measure 4 :  [1677710826265, None, '℃', '2023-03-01T22:47:06.265Z', 6, 'device_temperature']\n",
      "measure 5 :  [1677710826265, None, 'V', '2023-03-01T22:47:06.265Z', 3, 'battery_level']\n",
      "\n",
      "\n",
      "ref:  jzp://edv#0502.0000\n",
      "cuid:  b156eec7-572e-4970-ac19-00050e0bf388\n",
      "t:  1677710849614\n",
      "tz:  2023-03-02T22:47:29.614Z\n",
      "cat:  0631\n",
      "sn:  222\n",
      "type:  gasmeter\n",
      "uuid:  78968eaa-d635-4f64-b168-2a4eecfe1c88\n",
      "measure 1 :  [1677710849614, 'jzp://coo#ffffffff000004ff.0000', '', '2023-03-01T22:47:29.614Z', 1.0, 'coordinator']\n",
      "measure 2 :  [1677710849614, None, '', '2023-03-01T22:47:29.614Z', 385.6953, 'ppm']\n",
      "measure 3 :  [1677710849614, 'jzp://coo#ffffffff000004ff.0000', 'dB', '2023-03-01T22:47:29.614Z', -111.4596, 'rssi']\n",
      "measure 4 :  [1677710849614, None, '℃', '2023-03-01T22:47:29.614Z', 35, 'device_temperature']\n",
      "measure 5 :  [1677710849614, None, 'V', '2023-03-01T22:47:29.614Z', 3, 'battery_level']\n",
      "\n",
      "\n",
      "ref:  jzp://edv#0502.0000\n",
      "cuid:  cec6abe0-8e59-4d02-a971-f435ca9c5a30\n",
      "t:  1677710871657\n",
      "tz:  2023-03-02T22:47:51.657Z\n",
      "cat:  0631\n",
      "sn:  214\n",
      "type:  gasmeter\n",
      "uuid:  9f8fa17b-16ba-46e2-ac67-050e000a2a73\n",
      "measure 1 :  [1677710871657, 'jzp://coo#ffffffff000004ff.0000', '', '2023-03-01T22:47:51.657Z', 1.0, 'coordinator']\n",
      "measure 2 :  [1677710871657, None, '', '2023-03-01T22:47:51.657Z', 320.3287, 'ppm']\n",
      "measure 3 :  [1677710871657, 'jzp://coo#ffffffff000004ff.0000', 'dB', '2023-03-01T22:47:51.657Z', -68.6594, 'rssi']\n",
      "measure 4 :  [1677710871657, None, '℃', '2023-03-01T22:47:51.657Z', 15, 'device_temperature']\n",
      "measure 5 :  [1677710871657, None, 'V', '2023-03-01T22:47:51.657Z', 3, 'battery_level']\n",
      "\n",
      "\n",
      "ref:  jzp://edv#0502.0000\n",
      "cuid:  3b33950a-2559-4291-ae11-9dce5cd73603\n",
      "t:  1677710893142\n",
      "tz:  2023-03-02T22:48:13.142Z\n",
      "cat:  0631\n",
      "sn:  31\n",
      "type:  gasmeter\n",
      "uuid:  4ba4b41a-deab-4579-9023-07cd135ec007\n",
      "measure 1 :  [1677710893142, 'jzp://coo#ffffffff000004ff.0000', '', '2023-03-01T22:48:13.142Z', 1.0, 'coordinator']\n",
      "measure 2 :  [1677710893142, None, '', '2023-03-01T22:48:13.142Z', 336.7344, 'ppm']\n",
      "measure 3 :  [1677710893142, 'jzp://coo#ffffffff000004ff.0000', 'dB', '2023-03-01T22:48:13.142Z', -31.5676, 'rssi']\n",
      "measure 4 :  [1677710893142, None, '℃', '2023-03-01T22:48:13.142Z', 16, 'device_temperature']\n",
      "measure 5 :  [1677710893142, None, 'V', '2023-03-01T22:48:13.142Z', 3, 'battery_level']\n",
      "\n",
      "\n",
      "ref:  jzp://edv#0502.0000\n",
      "cuid:  20c3dce7-b32b-4f1a-bfdf-654e470293aa\n",
      "t:  1677710921221\n",
      "tz:  2023-03-02T22:48:41.221Z\n",
      "cat:  0631\n",
      "sn:  90\n",
      "type:  gasmeter\n",
      "uuid:  808ed2ce-de78-4cf5-ad88-95dd4559fa9a\n",
      "measure 1 :  [1677710921221, 'jzp://coo#ffffffff000004ff.0000', '', '2023-03-01T22:48:41.221Z', 1.0, 'coordinator']\n",
      "measure 2 :  [1677710921221, None, '', '2023-03-01T22:48:41.221Z', 363.4749, 'ppm']\n",
      "measure 3 :  [1677710921222, 'jzp://coo#ffffffff000004ff.0000', 'dB', '2023-03-01T22:48:41.222Z', -116.9266, 'rssi']\n",
      "measure 4 :  [1677710921222, None, '℃', '2023-03-01T22:48:41.222Z', 18, 'device_temperature']\n",
      "measure 5 :  [1677710921222, None, 'V', '2023-03-01T22:48:41.222Z', 3, 'battery_level']\n",
      "\n",
      "\n",
      "ref:  jzp://edv#0502.0000\n",
      "cuid:  2d1365a1-79ba-40da-a88d-d3e792e7fad9\n",
      "t:  1677710943860\n",
      "tz:  2023-03-02T22:49:03.860Z\n",
      "cat:  0631\n",
      "sn:  30\n",
      "type:  gasmeter\n",
      "uuid:  5515d457-148d-4fe3-8473-daf329a2d0e2\n",
      "measure 1 :  [1677710943861, 'jzp://coo#ffffffff000004ff.0000', '', '2023-03-01T22:49:03.861Z', 1.0, 'coordinator']\n",
      "measure 2 :  [1677710943861, None, '', '2023-03-01T22:49:03.861Z', 381.4967, 'ppm']\n",
      "measure 3 :  [1677710943861, 'jzp://coo#ffffffff000004ff.0000', 'dB', '2023-03-01T22:49:03.861Z', -105.8214, 'rssi']\n",
      "measure 4 :  [1677710943861, None, '℃', '2023-03-01T22:49:03.861Z', 7, 'device_temperature']\n",
      "measure 5 :  [1677710943861, None, 'V', '2023-03-01T22:49:03.861Z', 3, 'battery_level']\n",
      "\n",
      "\n",
      "ref:  jzp://edv#0502.0000\n",
      "cuid:  062025f5-0495-4542-ae7a-f8fbd0e1ba3e\n",
      "t:  1677710970014\n",
      "tz:  2023-03-01T22:49:30.014Z\n",
      "cat:  0631\n",
      "sn:  9\n",
      "type:  gasmeter\n",
      "uuid:  d413545a-333d-4772-8b7c-fa0139d112d1\n",
      "measure 1 :  [1677710970014, 'jzp://coo#ffffffff000004ff.0000', '', '2023-03-01T22:49:30.014Z', 1.0, 'coordinator']\n",
      "measure 2 :  [1677710970014, None, '', '2023-03-01T22:49:30.014Z', 332.0838, 'ppm']\n",
      "measure 3 :  [1677710970014, 'jzp://coo#ffffffff000004ff.0000', 'dB', '2023-03-01T22:49:30.014Z', -25.5402, 'rssi']\n",
      "measure 4 :  [1677710970014, None, '℃', '2023-03-01T22:49:30.014Z', 34, 'device_temperature']\n",
      "measure 5 :  [1677710970014, None, 'V', '2023-03-01T22:49:30.014Z', 3, 'battery_level']\n",
      "\n",
      "\n",
      "ref:  jzp://edv#0502.0000\n",
      "cuid:  13395655-405f-4a2c-9650-ab31a85904a1\n",
      "t:  1677710990117\n",
      "tz:  2023-03-01T22:49:50.117Z\n",
      "cat:  0631\n",
      "sn:  192\n",
      "type:  gasmeter\n",
      "uuid:  e38efaff-621c-4985-a585-ad7401eb5636\n",
      "measure 1 :  [1677710990117, 'jzp://coo#ffffffff000004ff.0000', '', '2023-03-01T22:49:50.117Z', 1.0, 'coordinator']\n",
      "measure 2 :  [1677710990117, None, '', '2023-03-01T22:49:50.117Z', 341.5248, 'ppm']\n",
      "measure 3 :  [1677710990117, 'jzp://coo#ffffffff000004ff.0000', 'dB', '2023-03-01T22:49:50.117Z', -12.778, 'rssi']\n",
      "measure 4 :  [1677710990117, None, '℃', '2023-03-01T22:49:50.117Z', 1, 'device_temperature']\n",
      "measure 5 :  [1677710990117, None, 'V', '2023-03-01T22:49:50.117Z', 3, 'battery_level']\n",
      "\n",
      "\n",
      "ref:  jzp://edv#0502.0000\n",
      "cuid:  58a3baa2-0690-4bcc-93b1-c812e8746ef3\n",
      "t:  1677711017785\n",
      "tz:  2023-03-01T22:50:17.785Z\n",
      "cat:  0631\n",
      "sn:  227\n",
      "type:  gasmeter\n",
      "uuid:  951af55e-107d-46ef-9af2-64e90386c344\n",
      "measure 1 :  [1677711017785, 'jzp://coo#ffffffff000004ff.0000', '', '2023-03-01T22:50:17.785Z', 1.0, 'coordinator']\n",
      "measure 2 :  [1677711017785, None, '', '2023-03-01T22:50:17.785Z', 326.8342, 'ppm']\n",
      "measure 3 :  [1677711017785, 'jzp://coo#ffffffff000004ff.0000', 'dB', '2023-03-01T22:50:17.785Z', -41.6388, 'rssi']\n",
      "measure 4 :  [1677711017785, None, '℃', '2023-03-01T22:50:17.785Z', 7, 'device_temperature']\n",
      "measure 5 :  [1677711017785, None, 'V', '2023-03-01T22:50:17.785Z', 3, 'battery_level']\n",
      "\n",
      "\n",
      "ref:  jzp://edv#0502.0000\n",
      "cuid:  05727b98-e4d1-44a9-a947-f864ea81c83b\n",
      "t:  1677711043587\n",
      "tz:  2023-03-01T22:50:43.587Z\n",
      "cat:  0631\n",
      "sn:  50\n",
      "type:  gasmeter\n",
      "uuid:  5db3d4e6-a53f-433c-b1b8-641bbe96a44c\n",
      "measure 1 :  [1677711043587, 'jzp://coo#ffffffff000004ff.0000', '', '2023-03-01T22:50:43.587Z', 1.0, 'coordinator']\n",
      "measure 2 :  [1677711043587, None, '', '2023-03-01T22:50:43.587Z', 391.3379, 'ppm']\n",
      "measure 3 :  [1677711043587, 'jzp://coo#ffffffff000004ff.0000', 'dB', '2023-03-01T22:50:43.587Z', -84.4437, 'rssi']\n",
      "measure 4 :  [1677711043587, None, '℃', '2023-03-01T22:50:43.587Z', 7, 'device_temperature']\n",
      "measure 5 :  [1677711043587, None, 'V', '2023-03-01T22:50:43.587Z', 3, 'battery_level']\n",
      "\n",
      "\n",
      "ref:  jzp://edv#0502.0000\n",
      "cuid:  346d435c-eba2-40d5-89fa-8972e36857a8\n",
      "t:  1677711065282\n",
      "tz:  2023-03-01T22:51:05.282Z\n",
      "cat:  0631\n",
      "sn:  10\n",
      "type:  gasmeter\n",
      "uuid:  f7d07a34-5b61-4623-b6cd-84981b36c2d6\n",
      "measure 1 :  [1677711065282, 'jzp://coo#ffffffff000004ff.0000', '', '2023-03-01T22:51:05.282Z', 1.0, 'coordinator']\n",
      "measure 2 :  [1677711065282, None, '', '2023-03-01T22:51:05.282Z', 399.09, 'ppm']\n",
      "measure 3 :  [1677711065283, 'jzp://coo#ffffffff000004ff.0000', 'dB', '2023-03-01T22:51:05.283Z', -87.7925, 'rssi']\n",
      "measure 4 :  [1677711065283, None, '℃', '2023-03-01T22:51:05.283Z', 13, 'device_temperature']\n",
      "measure 5 :  [1677711065283, None, 'V', '2023-03-01T22:51:05.283Z', 3, 'battery_level']\n",
      "\n",
      "\n",
      "ref:  jzp://edv#0502.0000\n",
      "cuid:  8db1cda9-4dfd-4f94-8816-4026372553b7\n",
      "t:  1677711086534\n",
      "tz:  2023-03-01T22:51:26.534Z\n",
      "cat:  0631\n",
      "sn:  217\n",
      "type:  gasmeter\n",
      "uuid:  07058905-3ecb-4dc5-901d-1b982930158e\n",
      "measure 1 :  [1677711086534, 'jzp://coo#ffffffff000004ff.0000', '', '2023-03-01T22:51:26.534Z', 1.0, 'coordinator']\n",
      "measure 2 :  [1677711086534, None, '', '2023-03-01T22:51:26.534Z', 301.9612, 'ppm']\n",
      "measure 3 :  [1677711086534, 'jzp://coo#ffffffff000004ff.0000', 'dB', '2023-03-01T22:51:26.534Z', -63.8831, 'rssi']\n",
      "measure 4 :  [1677711086534, None, '℃', '2023-03-01T22:51:26.534Z', 6, 'device_temperature']\n",
      "measure 5 :  [1677711086534, None, 'V', '2023-03-01T22:51:26.534Z', 3, 'battery_level']\n",
      "\n",
      "\n",
      "ref:  jzp://edv#0502.0000\n",
      "cuid:  1e0aa234-20d9-4342-be02-cf0fc1936540\n",
      "t:  1677711111732\n",
      "tz:  2023-03-01T22:51:51.732Z\n",
      "cat:  0631\n",
      "sn:  195\n",
      "type:  gasmeter\n",
      "uuid:  19129dcd-f57b-4a74-b367-152236e8d327\n",
      "measure 1 :  [1677711111732, 'jzp://coo#ffffffff000004ff.0000', '', '2023-03-01T22:51:51.732Z', 1.0, 'coordinator']\n",
      "measure 2 :  [1677711111732, None, '', '2023-03-01T22:51:51.732Z', 301.4638, 'ppm']\n",
      "measure 3 :  [1677711111732, 'jzp://coo#ffffffff000004ff.0000', 'dB', '2023-03-01T22:51:51.732Z', -67.0434, 'rssi']\n",
      "measure 4 :  [1677711111733, None, '℃', '2023-03-01T22:51:51.733Z', 1, 'device_temperature']\n",
      "measure 5 :  [1677711111733, None, 'V', '2023-03-01T22:51:51.733Z', 3, 'battery_level']\n",
      "\n",
      "\n",
      "ref:  jzp://edv#0502.0000\n",
      "cuid:  6419fe2e-b285-4377-8cde-2b4b3745b95c\n",
      "t:  1677711133885\n",
      "tz:  2023-03-01T22:52:13.885Z\n",
      "cat:  0631\n",
      "sn:  142\n",
      "type:  gasmeter\n",
      "uuid:  d526c638-dfa0-4324-9fd4-ced5fdd9062a\n",
      "measure 1 :  [1677711133885, 'jzp://coo#ffffffff000004ff.0000', '', '2023-03-01T22:52:13.885Z', 1.0, 'coordinator']\n",
      "measure 2 :  [1677711133885, None, '', '2023-03-01T22:52:13.885Z', 333.9597, 'ppm']\n",
      "measure 3 :  [1677711133885, 'jzp://coo#ffffffff000004ff.0000', 'dB', '2023-03-01T22:52:13.885Z', -26.4804, 'rssi']\n",
      "measure 4 :  [1677711133885, None, '℃', '2023-03-01T22:52:13.885Z', 5, 'device_temperature']\n",
      "measure 5 :  [1677711133885, None, 'V', '2023-03-01T22:52:13.885Z', 3, 'battery_level']\n",
      "\n",
      "\n",
      "ref:  jzp://edv#0502.0000\n",
      "cuid:  30743a61-2537-49d8-9a0e-3c352a87aea4\n",
      "t:  1677711159392\n",
      "tz:  2023-03-01T22:52:39.392Z\n",
      "cat:  0631\n",
      "sn:  152\n",
      "type:  gasmeter\n",
      "uuid:  47e79fed-bcda-46f7-a584-0d811a2af56f\n",
      "measure 1 :  [1677711159392, 'jzp://coo#ffffffff000004ff.0000', '', '2023-03-01T22:52:39.392Z', 1.0, 'coordinator']\n",
      "measure 2 :  [1677711159392, None, '', '2023-03-01T22:52:39.392Z', 394.811, 'ppm']\n",
      "measure 3 :  [1677711159392, 'jzp://coo#ffffffff000004ff.0000', 'dB', '2023-03-01T22:52:39.392Z', -6.3777, 'rssi']\n",
      "measure 4 :  [1677711159392, None, '℃', '2023-03-01T22:52:39.392Z', 36, 'device_temperature']\n",
      "measure 5 :  [1677711159392, None, 'V', '2023-03-01T22:52:39.392Z', 3, 'battery_level']\n",
      "\n",
      "\n",
      "ref:  jzp://edv#0502.0000\n",
      "cuid:  3a72c129-8f38-46be-9797-ffac821d3f61\n",
      "t:  1677711182406\n",
      "tz:  2023-03-01T22:53:02.406Z\n",
      "cat:  0631\n",
      "sn:  156\n",
      "type:  gasmeter\n",
      "uuid:  81bbebf9-3aca-4e03-a5d8-8495990e6398\n",
      "measure 1 :  [1677711182406, 'jzp://coo#ffffffff000004ff.0000', '', '2023-03-01T22:53:02.406Z', 1.0, 'coordinator']\n",
      "measure 2 :  [1677711182406, None, '', '2023-03-01T22:53:02.406Z', 315.8874, 'ppm']\n",
      "measure 3 :  [1677711182406, 'jzp://coo#ffffffff000004ff.0000', 'dB', '2023-03-01T22:53:02.406Z', -33.5059, 'rssi']\n",
      "measure 4 :  [1677711182406, None, '℃', '2023-03-01T22:53:02.406Z', 19, 'device_temperature']\n",
      "measure 5 :  [1677711182406, None, 'V', '2023-03-01T22:53:02.406Z', 3, 'battery_level']\n",
      "\n",
      "\n",
      "ref:  jzp://edv#0502.0000\n",
      "cuid:  11805504-f159-454f-9783-0c1e59aa5231\n",
      "t:  1677711204198\n",
      "tz:  2023-03-01T22:53:24.198Z\n",
      "cat:  0631\n",
      "sn:  228\n",
      "type:  gasmeter\n",
      "uuid:  5df186f3-9a6f-49cd-8443-5e9f3c059594\n",
      "measure 1 :  [1677711204199, 'jzp://coo#ffffffff000004ff.0000', '', '2023-03-01T22:53:24.199Z', 1.0, 'coordinator']\n",
      "measure 2 :  [1677711204199, None, '', '2023-03-01T22:53:24.199Z', 311.3834, 'ppm']\n",
      "measure 3 :  [1677711204199, 'jzp://coo#ffffffff000004ff.0000', 'dB', '2023-03-01T22:53:24.199Z', -5.321, 'rssi']\n",
      "measure 4 :  [1677711204199, None, '℃', '2023-03-01T22:53:24.199Z', 1, 'device_temperature']\n",
      "measure 5 :  [1677711204199, None, 'V', '2023-03-01T22:53:24.199Z', 3, 'battery_level']\n",
      "\n",
      "\n",
      "ref:  jzp://edv#0502.0000\n",
      "cuid:  bcab310d-6750-410a-a67e-469a72b88f53\n",
      "t:  1677711227723\n",
      "tz:  2023-03-01T22:53:47.723Z\n",
      "cat:  0631\n",
      "sn:  48\n",
      "type:  gasmeter\n",
      "uuid:  23968383-b62e-4f20-9ba9-e44fce3e9afc\n",
      "measure 1 :  [1677711227723, 'jzp://coo#ffffffff000004ff.0000', '', '2023-03-01T22:53:47.723Z', 1.0, 'coordinator']\n",
      "measure 2 :  [1677711227723, None, '', '2023-03-01T22:53:47.723Z', 395.8445, 'ppm']\n",
      "measure 3 :  [1677711227723, 'jzp://coo#ffffffff000004ff.0000', 'dB', '2023-03-01T22:53:47.723Z', -20.5041, 'rssi']\n",
      "measure 4 :  [1677711227723, None, '℃', '2023-03-01T22:53:47.723Z', 2, 'device_temperature']\n",
      "measure 5 :  [1677711227723, None, 'V', '2023-03-01T22:53:47.723Z', 3, 'battery_level']\n",
      "\n",
      "\n",
      "ref:  jzp://edv#0502.0000\n",
      "cuid:  99a4bfb2-7ed8-4698-a48c-2086b8b48a98\n",
      "t:  1677711250294\n",
      "tz:  2023-03-01T22:54:10.294Z\n",
      "cat:  0631\n",
      "sn:  75\n",
      "type:  gasmeter\n",
      "uuid:  58954971-c3b9-44d8-bf98-e53edc6a4ea5\n",
      "measure 1 :  [1677711250294, 'jzp://coo#ffffffff000004ff.0000', '', '2023-03-01T22:54:10.294Z', 1.0, 'coordinator']\n",
      "measure 2 :  [1677711250294, None, '', '2023-03-01T22:54:10.294Z', 388.6047, 'ppm']\n",
      "measure 3 :  [1677711250294, 'jzp://coo#ffffffff000004ff.0000', 'dB', '2023-03-01T22:54:10.294Z', -1.0387, 'rssi']\n",
      "measure 4 :  [1677711250294, None, '℃', '2023-03-01T22:54:10.294Z', 33, 'device_temperature']\n",
      "measure 5 :  [1677711250294, None, 'V', '2023-03-01T22:54:10.294Z', 3, 'battery_level']\n",
      "\n",
      "\n",
      "ref:  jzp://edv#0502.0000\n",
      "cuid:  80dd3dad-0050-4615-9539-f947965d5e1a\n",
      "t:  1677711275867\n",
      "tz:  2023-03-01T22:54:35.867Z\n",
      "cat:  0631\n",
      "sn:  156\n",
      "type:  gasmeter\n",
      "uuid:  40cfea2e-874e-4806-ab12-702323073f22\n",
      "measure 1 :  [1677711275867, 'jzp://coo#ffffffff000004ff.0000', '', '2023-03-01T22:54:35.867Z', 1.0, 'coordinator']\n",
      "measure 2 :  [1677711275867, None, '', '2023-03-01T22:54:35.867Z', 350.0032, 'ppm']\n",
      "measure 3 :  [1677711275867, 'jzp://coo#ffffffff000004ff.0000', 'dB', '2023-03-01T22:54:35.867Z', -114.8736, 'rssi']\n",
      "measure 4 :  [1677711275867, None, '℃', '2023-03-01T22:54:35.867Z', 21, 'device_temperature']\n",
      "measure 5 :  [1677711275867, None, 'V', '2023-03-01T22:54:35.867Z', 3, 'battery_level']\n",
      "\n",
      "\n",
      "ref:  jzp://edv#0502.0000\n",
      "cuid:  a25fbb29-e4ba-413b-b561-38a9aebe6bd9\n",
      "t:  1677711296817\n",
      "tz:  2023-03-01T22:54:56.817Z\n",
      "cat:  0631\n",
      "sn:  238\n",
      "type:  gasmeter\n",
      "uuid:  252084c5-16a3-4f58-847a-410d9bf1096f\n",
      "measure 1 :  [1677711296818, 'jzp://coo#ffffffff000004ff.0000', '', '2023-03-01T22:54:56.818Z', 1.0, 'coordinator']\n",
      "measure 2 :  [1677711296818, None, '', '2023-03-01T22:54:56.818Z', 350.6164, 'ppm']\n",
      "measure 3 :  [1677711296818, 'jzp://coo#ffffffff000004ff.0000', 'dB', '2023-03-01T22:54:56.818Z', -4.8914, 'rssi']\n",
      "measure 4 :  [1677711296818, None, '℃', '2023-03-01T22:54:56.818Z', 23, 'device_temperature']\n",
      "measure 5 :  [1677711296818, None, 'V', '2023-03-01T22:54:56.818Z', 3, 'battery_level']\n",
      "\n",
      "\n",
      "ref:  jzp://edv#0502.0000\n",
      "cuid:  e6000dc2-70ce-4f0e-8ce8-5fa4ed907051\n",
      "t:  1677711322099\n",
      "tz:  2023-03-01T22:55:22.099Z\n",
      "cat:  0631\n",
      "sn:  97\n",
      "type:  gasmeter\n",
      "uuid:  dbdfdd0d-8378-4fe9-9b13-a2c1432a9a8c\n",
      "measure 1 :  [1677711322099, 'jzp://coo#ffffffff000004ff.0000', '', '2023-03-01T22:55:22.099Z', 1.0, 'coordinator']\n",
      "measure 2 :  [1677711322099, None, '', '2023-03-01T22:55:22.099Z', 395.666, 'ppm']\n",
      "measure 3 :  [1677711322099, 'jzp://coo#ffffffff000004ff.0000', 'dB', '2023-03-01T22:55:22.099Z', -50.6628, 'rssi']\n",
      "measure 4 :  [1677711322099, None, '℃', '2023-03-01T22:55:22.099Z', 27, 'device_temperature']\n",
      "measure 5 :  [1677711322099, None, 'V', '2023-03-01T22:55:22.099Z', 3, 'battery_level']\n",
      "\n",
      "\n",
      "ref:  jzp://edv#0502.0000\n",
      "cuid:  05255da9-43c4-4985-8086-58611879e580\n",
      "t:  1677711344117\n",
      "tz:  2023-03-01T22:55:44.117Z\n",
      "cat:  0631\n",
      "sn:  102\n",
      "type:  gasmeter\n",
      "uuid:  d3fe426d-813e-4fad-bafc-6b7854c72799\n",
      "measure 1 :  [1677711344118, 'jzp://coo#ffffffff000004ff.0000', '', '2023-03-01T22:55:44.118Z', 1.0, 'coordinator']\n",
      "measure 2 :  [1677711344118, None, '', '2023-03-01T22:55:44.118Z', 308.6895, 'ppm']\n",
      "measure 3 :  [1677711344118, 'jzp://coo#ffffffff000004ff.0000', 'dB', '2023-03-01T22:55:44.118Z', -71.9471, 'rssi']\n",
      "measure 4 :  [1677711344118, None, '℃', '2023-03-01T22:55:44.118Z', 27, 'device_temperature']\n",
      "measure 5 :  [1677711344118, None, 'V', '2023-03-01T22:55:44.118Z', 3, 'battery_level']\n",
      "\n",
      "\n",
      "ref:  jzp://edv#0502.0000\n",
      "cuid:  f8bf1ecc-dfdd-45f9-9b03-fa0c901fcda9\n",
      "t:  1677711370585\n",
      "tz:  2023-03-01T22:56:10.585Z\n",
      "cat:  0631\n",
      "sn:  56\n",
      "type:  gasmeter\n",
      "uuid:  88a17bfd-94bd-4bd6-aa97-8ed44419db86\n",
      "measure 1 :  [1677711370585, 'jzp://coo#ffffffff000004ff.0000', '', '2023-03-01T22:56:10.585Z', 1.0, 'coordinator']\n",
      "measure 2 :  [1677711370585, None, '', '2023-03-01T22:56:10.585Z', 312.3693, 'ppm']\n",
      "measure 3 :  [1677711370585, 'jzp://coo#ffffffff000004ff.0000', 'dB', '2023-03-01T22:56:10.585Z', -70.9549, 'rssi']\n",
      "measure 4 :  [1677711370585, None, '℃', '2023-03-01T22:56:10.585Z', 30, 'device_temperature']\n",
      "measure 5 :  [1677711370585, None, 'V', '2023-03-01T22:56:10.585Z', 3, 'battery_level']\n",
      "\n",
      "\n",
      "ref:  jzp://edv#0502.0000\n",
      "cuid:  b001329a-8d19-4a75-8b33-1f3c38b21588\n",
      "t:  1677711393040\n",
      "tz:  2023-03-01T22:56:33.040Z\n",
      "cat:  0631\n",
      "sn:  229\n",
      "type:  gasmeter\n",
      "uuid:  85460f15-59a9-4113-98e7-9a6a92ebaf07\n",
      "measure 1 :  [1677711393040, 'jzp://coo#ffffffff000004ff.0000', '', '2023-03-01T22:56:33.040Z', 1.0, 'coordinator']\n",
      "measure 2 :  [1677711393040, None, '', '2023-03-01T22:56:33.040Z', 374.159, 'ppm']\n",
      "measure 3 :  [1677711393040, 'jzp://coo#ffffffff000004ff.0000', 'dB', '2023-03-01T22:56:33.040Z', -66.7098, 'rssi']\n",
      "measure 4 :  [1677711393040, None, '℃', '2023-03-01T22:56:33.040Z', 3, 'device_temperature']\n",
      "measure 5 :  [1677711393040, None, 'V', '2023-03-01T22:56:33.040Z', 3, 'battery_level']\n",
      "\n",
      "\n",
      "ref:  jzp://edv#0502.0000\n",
      "cuid:  0b07caf2-3705-4f00-91ec-7c4c79858d1c\n",
      "t:  1677711418043\n",
      "tz:  2023-03-01T22:56:58.043Z\n",
      "cat:  0631\n",
      "sn:  156\n",
      "type:  gasmeter\n",
      "uuid:  8f4dd6bc-dc64-49e9-94ce-a5018a920c5a\n",
      "measure 1 :  [1677711418043, 'jzp://coo#ffffffff000004ff.0000', '', '2023-03-01T22:56:58.043Z', 1.0, 'coordinator']\n",
      "measure 2 :  [1677711418043, None, '', '2023-03-01T22:56:58.043Z', 374.0003, 'ppm']\n",
      "measure 3 :  [1677711418043, 'jzp://coo#ffffffff000004ff.0000', 'dB', '2023-03-01T22:56:58.043Z', -119.3118, 'rssi']\n",
      "measure 4 :  [1677711418043, None, '℃', '2023-03-01T22:56:58.043Z', 19, 'device_temperature']\n",
      "measure 5 :  [1677711418043, None, 'V', '2023-03-01T22:56:58.043Z', 3, 'battery_level']\n",
      "\n",
      "\n",
      "ref:  jzp://edv#0502.0000\n",
      "cuid:  306db043-34e1-4b9f-b4b8-ebb9a471e74e\n",
      "t:  1677711442983\n",
      "tz:  2023-03-01T22:57:22.983Z\n",
      "cat:  0631\n",
      "sn:  16\n",
      "type:  gasmeter\n",
      "uuid:  a2a19df0-c02b-472c-a0b7-9536962215ea\n",
      "measure 1 :  [1677711442983, 'jzp://coo#ffffffff000004ff.0000', '', '2023-03-01T22:57:22.983Z', 1.0, 'coordinator']\n",
      "measure 2 :  [1677711442983, None, '', '2023-03-01T22:57:22.983Z', 365.1464, 'ppm']\n",
      "measure 3 :  [1677711442983, 'jzp://coo#ffffffff000004ff.0000', 'dB', '2023-03-01T22:57:22.983Z', -35.6393, 'rssi']\n",
      "measure 4 :  [1677711442983, None, '℃', '2023-03-01T22:57:22.983Z', 25, 'device_temperature']\n",
      "measure 5 :  [1677711442983, None, 'V', '2023-03-01T22:57:22.983Z', 3, 'battery_level']\n",
      "\n",
      "\n",
      "ref:  jzp://edv#0502.0000\n",
      "cuid:  97cfdfed-7011-421f-b801-f1dab1b4fc55\n",
      "t:  1677711468945\n",
      "tz:  2023-03-01T22:57:48.945Z\n",
      "cat:  0631\n",
      "sn:  8\n",
      "type:  gasmeter\n",
      "uuid:  2ba7349c-dc80-41df-b949-243e9288f586\n",
      "measure 1 :  [1677711468945, 'jzp://coo#ffffffff000004ff.0000', '', '2023-03-01T22:57:48.945Z', 1.0, 'coordinator']\n",
      "measure 2 :  [1677711468945, None, '', '2023-03-01T22:57:48.945Z', 340.7028, 'ppm']\n",
      "measure 3 :  [1677711468945, 'jzp://coo#ffffffff000004ff.0000', 'dB', '2023-03-01T22:57:48.945Z', -44.7477, 'rssi']\n",
      "measure 4 :  [1677711468945, None, '℃', '2023-03-01T22:57:48.945Z', 5, 'device_temperature']\n",
      "measure 5 :  [1677711468945, None, 'V', '2023-03-01T22:57:48.945Z', 3, 'battery_level']\n",
      "\n",
      "\n",
      "ref:  jzp://edv#0502.0000\n",
      "cuid:  58d234b5-02b7-4889-a178-644aa2f520a5\n",
      "t:  1677711493511\n",
      "tz:  2023-03-01T22:58:13.511Z\n",
      "cat:  0631\n",
      "sn:  123\n",
      "type:  gasmeter\n",
      "uuid:  5ac65b84-428b-4e99-9c65-033ea1d7431c\n",
      "measure 1 :  [1677711493511, 'jzp://coo#ffffffff000004ff.0000', '', '2023-03-01T22:58:13.511Z', 1.0, 'coordinator']\n",
      "measure 2 :  [1677711493511, None, '', '2023-03-01T22:58:13.511Z', 341.4808, 'ppm']\n",
      "measure 3 :  [1677711493511, 'jzp://coo#ffffffff000004ff.0000', 'dB', '2023-03-01T22:58:13.511Z', -48.394, 'rssi']\n",
      "measure 4 :  [1677711493511, None, '℃', '2023-03-01T22:58:13.511Z', 12, 'device_temperature']\n",
      "measure 5 :  [1677711493511, None, 'V', '2023-03-01T22:58:13.511Z', 3, 'battery_level']\n",
      "\n",
      "\n",
      "ref:  jzp://edv#0502.0000\n",
      "cuid:  fbbead85-461b-49e8-8c2e-0152124ff01f\n",
      "t:  1677711518232\n",
      "tz:  2023-03-01T22:58:38.232Z\n",
      "cat:  0631\n",
      "sn:  186\n",
      "type:  gasmeter\n",
      "uuid:  52d19dd4-09bd-4c4d-8929-0a9a921137fd\n",
      "measure 1 :  [1677711518232, 'jzp://coo#ffffffff000004ff.0000', '', '2023-03-01T22:58:38.232Z', 1.0, 'coordinator']\n",
      "measure 2 :  [1677711518232, None, '', '2023-03-01T22:58:38.232Z', 330.883, 'ppm']\n",
      "measure 3 :  [1677711518232, 'jzp://coo#ffffffff000004ff.0000', 'dB', '2023-03-01T22:58:38.232Z', -115.903, 'rssi']\n",
      "measure 4 :  [1677711518232, None, '℃', '2023-03-01T22:58:38.232Z', 11, 'device_temperature']\n",
      "measure 5 :  [1677711518232, None, 'V', '2023-03-01T22:58:38.232Z', 3, 'battery_level']\n",
      "\n",
      "\n",
      "ref:  jzp://edv#0502.0000\n",
      "cuid:  f48ae6d6-8d0f-4cf5-ae4f-eecd0587f75c\n",
      "t:  1678122421808\n",
      "tz:  2023-03-06T17:07:01.809Z\n",
      "cat:  0631\n",
      "sn:  77\n",
      "type:  gasmeter\n",
      "uuid:  6e65c881-1c05-4758-ae65-195414b865a1\n",
      "measure 1 :  [1678122421809, 'jzp://coo#ffffffff000004ff.0000', '', '2023-03-06T17:07:01.809Z', 1.0, 'coordinator']\n",
      "measure 2 :  [1678122421809, None, '', '2023-03-06T17:07:01.809Z', 390.4822, 'ppm']\n",
      "measure 3 :  [1678122421810, 'jzp://coo#ffffffff000004ff.0000', 'dB', '2023-03-06T17:07:01.810Z', -59.853, 'rssi']\n",
      "measure 4 :  [1678122421810, None, '℃', '2023-03-06T17:07:01.810Z', 39, 'device_temperature']\n",
      "measure 5 :  [1678122421810, None, 'V', '2023-03-06T17:07:01.810Z', 3, 'battery_level']\n",
      "\n",
      "\n",
      "ref:  jzp://edv#0502.0000\n",
      "cuid:  e050ad59-fbdb-4b56-ba6e-3d1c59095315\n",
      "t:  1678122448369\n",
      "tz:  2023-03-06T17:07:28.369Z\n",
      "cat:  0631\n",
      "sn:  144\n",
      "type:  gasmeter\n",
      "uuid:  c66c8436-dc56-4f72-b650-e8eccd0e33b0\n",
      "measure 1 :  [1678122448369, 'jzp://coo#ffffffff000004ff.0000', '', '2023-03-06T17:07:28.369Z', 1.0, 'coordinator']\n",
      "measure 2 :  [1678122448369, None, '', '2023-03-06T17:07:28.369Z', 364.9644, 'ppm']\n",
      "measure 3 :  [1678122448369, 'jzp://coo#ffffffff000004ff.0000', 'dB', '2023-03-06T17:07:28.370Z', -23.5251, 'rssi']\n",
      "measure 4 :  [1678122448370, None, '℃', '2023-03-06T17:07:28.370Z', 32, 'device_temperature']\n",
      "measure 5 :  [1678122448370, None, 'V', '2023-03-06T17:07:28.370Z', 3, 'battery_level']\n",
      "\n",
      "\n",
      "ref:  jzp://edv#0502.0000\n",
      "cuid:  d2bea728-b413-496a-bb3f-61559eca1045\n",
      "t:  1678122467746\n",
      "tz:  2023-03-06T17:07:47.746Z\n",
      "cat:  0631\n",
      "sn:  232\n",
      "type:  gasmeter\n",
      "uuid:  539f2fcb-7d6e-4af7-a290-bdf934d3e208\n",
      "measure 1 :  [1678122467746, 'jzp://coo#ffffffff000004ff.0000', '', '2023-03-06T17:07:47.746Z', 1.0, 'coordinator']\n",
      "measure 2 :  [1678122467746, None, '', '2023-03-06T17:07:47.746Z', 330.031, 'ppm']\n",
      "measure 3 :  [1678122467746, 'jzp://coo#ffffffff000004ff.0000', 'dB', '2023-03-06T17:07:47.746Z', -62.3919, 'rssi']\n",
      "measure 4 :  [1678122467746, None, '℃', '2023-03-06T17:07:47.746Z', 7, 'device_temperature']\n",
      "measure 5 :  [1678122467746, None, 'V', '2023-03-06T17:07:47.746Z', 3, 'battery_level']\n",
      "\n",
      "\n",
      "ref:  jzp://edv#0502.0000\n",
      "cuid:  18ff78d8-4507-434f-835d-33e83fa70417\n",
      "t:  1678122488597\n",
      "tz:  2023-03-06T17:08:08.597Z\n",
      "cat:  0631\n",
      "sn:  101\n",
      "type:  gasmeter\n",
      "uuid:  10f1703a-e35d-4ccf-9ea1-75ff7cc54243\n",
      "measure 1 :  [1678122488598, 'jzp://coo#ffffffff000004ff.0000', '', '2023-03-06T17:08:08.598Z', 1.0, 'coordinator']\n",
      "measure 2 :  [1678122488598, None, '', '2023-03-06T17:08:08.598Z', 370.4937, 'ppm']\n",
      "measure 3 :  [1678122488598, 'jzp://coo#ffffffff000004ff.0000', 'dB', '2023-03-06T17:08:08.598Z', -60.3126, 'rssi']\n",
      "measure 4 :  [1678122488598, None, '℃', '2023-03-06T17:08:08.598Z', 12, 'device_temperature']\n",
      "measure 5 :  [1678122488598, None, 'V', '2023-03-06T17:08:08.598Z', 3, 'battery_level']\n",
      "\n",
      "\n",
      "ref:  jzp://edv#0502.0000\n",
      "cuid:  d781642c-bd0f-4f48-870f-968110fda9f4\n",
      "t:  1678122510577\n",
      "tz:  2023-03-06T17:08:30.577Z\n",
      "cat:  0631\n",
      "sn:  224\n",
      "type:  gasmeter\n",
      "uuid:  f65df78c-d92f-4f57-ae8b-f66f8c3ec3e1\n",
      "measure 1 :  [1678122510578, 'jzp://coo#ffffffff000004ff.0000', '', '2023-03-06T17:08:30.578Z', 1.0, 'coordinator']\n",
      "measure 2 :  [1678122510578, None, '', '2023-03-06T17:08:30.578Z', 380.7867, 'ppm']\n",
      "measure 3 :  [1678122510578, 'jzp://coo#ffffffff000004ff.0000', 'dB', '2023-03-06T17:08:30.578Z', -72.5028, 'rssi']\n",
      "measure 4 :  [1678122510578, None, '℃', '2023-03-06T17:08:30.578Z', 7, 'device_temperature']\n",
      "measure 5 :  [1678122510578, None, 'V', '2023-03-06T17:08:30.578Z', 3, 'battery_level']\n",
      "\n",
      "\n",
      "ref:  jzp://edv#0502.0000\n",
      "cuid:  1eca0d18-aaea-4c2f-8ec1-bb991044376e\n",
      "t:  1678122538401\n",
      "tz:  2023-03-06T17:08:58.401Z\n",
      "cat:  0631\n",
      "sn:  235\n",
      "type:  gasmeter\n",
      "uuid:  2c038ec4-888a-4757-8444-d9c8f368cba3\n",
      "measure 1 :  [1678122538401, 'jzp://coo#ffffffff000004ff.0000', '', '2023-03-06T17:08:58.401Z', 1.0, 'coordinator']\n",
      "measure 2 :  [1678122538401, None, '', '2023-03-06T17:08:58.401Z', 370.7681, 'ppm']\n",
      "measure 3 :  [1678122538402, 'jzp://coo#ffffffff000004ff.0000', 'dB', '2023-03-06T17:08:58.402Z', -95.4428, 'rssi']\n",
      "measure 4 :  [1678122538402, None, '℃', '2023-03-06T17:08:58.402Z', 39, 'device_temperature']\n",
      "measure 5 :  [1678122538402, None, 'V', '2023-03-06T17:08:58.402Z', 3, 'battery_level']\n",
      "\n",
      "\n",
      "ref:  jzp://edv#0502.0000\n",
      "cuid:  282801c8-306f-410a-ada1-63afba28f46a\n",
      "t:  1678122560372\n",
      "tz:  2023-03-06T17:09:20.372Z\n",
      "cat:  0631\n",
      "sn:  62\n",
      "type:  gasmeter\n",
      "uuid:  194adae8-5eca-4dd3-a7f5-4c903548cd99\n",
      "measure 1 :  [1678122560372, 'jzp://coo#ffffffff000004ff.0000', '', '2023-03-06T17:09:20.372Z', 1.0, 'coordinator']\n",
      "measure 2 :  [1678122560372, None, '', '2023-03-06T17:09:20.372Z', 340.0267, 'ppm']\n",
      "measure 3 :  [1678122560373, 'jzp://coo#ffffffff000004ff.0000', 'dB', '2023-03-06T17:09:20.373Z', -79.2334, 'rssi']\n",
      "measure 4 :  [1678122560373, None, '℃', '2023-03-06T17:09:20.373Z', 5, 'device_temperature']\n",
      "measure 5 :  [1678122560373, None, 'V', '2023-03-06T17:09:20.373Z', 3, 'battery_level']\n",
      "\n",
      "\n",
      "ref:  jzp://edv#0502.0000\n",
      "cuid:  00f17af0-09ab-46c4-9633-c7a7d0db3c26\n",
      "t:  1678122581606\n",
      "tz:  2023-03-06T17:09:41.606Z\n",
      "cat:  0631\n",
      "sn:  100\n",
      "type:  gasmeter\n",
      "uuid:  572a87b6-2551-4238-b2e2-c48ea161dbbf\n",
      "measure 1 :  [1678122581606, 'jzp://coo#ffffffff000004ff.0000', '', '2023-03-06T17:09:41.606Z', 1.0, 'coordinator']\n",
      "measure 2 :  [1678122581606, None, '', '2023-03-06T17:09:41.606Z', 312.6275, 'ppm']\n",
      "measure 3 :  [1678122581607, 'jzp://coo#ffffffff000004ff.0000', 'dB', '2023-03-06T17:09:41.607Z', -117.8335, 'rssi']\n",
      "measure 4 :  [1678122581607, None, '℃', '2023-03-06T17:09:41.607Z', 35, 'device_temperature']\n",
      "measure 5 :  [1678122581607, None, 'V', '2023-03-06T17:09:41.607Z', 3, 'battery_level']\n",
      "\n",
      "\n",
      "ref:  jzp://edv#0502.0000\n",
      "cuid:  43b7a719-ff7e-412f-993c-8f3d146d1e5d\n",
      "t:  1678122608492\n",
      "tz:  2023-03-06T17:10:08.492Z\n",
      "cat:  0631\n",
      "sn:  210\n",
      "type:  gasmeter\n",
      "uuid:  810bbce5-0887-4fc3-8f6d-bebbceca5fea\n",
      "measure 1 :  [1678122608492, 'jzp://coo#ffffffff000004ff.0000', '', '2023-03-06T17:10:08.492Z', 1.0, 'coordinator']\n",
      "measure 2 :  [1678122608492, None, '', '2023-03-06T17:10:08.492Z', 346.6681, 'ppm']\n",
      "measure 3 :  [1678122608492, 'jzp://coo#ffffffff000004ff.0000', 'dB', '2023-03-06T17:10:08.493Z', -5.6066, 'rssi']\n",
      "measure 4 :  [1678122608493, None, '℃', '2023-03-06T17:10:08.493Z', 35, 'device_temperature']\n",
      "measure 5 :  [1678122608493, None, 'V', '2023-03-06T17:10:08.493Z', 3, 'battery_level']\n",
      "\n",
      "\n",
      "ref:  jzp://edv#0502.0000\n",
      "cuid:  d49d8950-12a4-4416-a356-92a496a6c4ea\n",
      "t:  1678122632583\n",
      "tz:  2023-03-06T17:10:32.583Z\n",
      "cat:  0631\n",
      "sn:  200\n",
      "type:  gasmeter\n",
      "uuid:  fe427730-f67e-4ef6-acc2-5b3c8f3440a5\n",
      "measure 1 :  [1678122632584, 'jzp://coo#ffffffff000004ff.0000', '', '2023-03-06T17:10:32.584Z', 1.0, 'coordinator']\n",
      "measure 2 :  [1678122632584, None, '', '2023-03-06T17:10:32.584Z', 372.1523, 'ppm']\n",
      "measure 3 :  [1678122632584, 'jzp://coo#ffffffff000004ff.0000', 'dB', '2023-03-06T17:10:32.584Z', -1.6418, 'rssi']\n",
      "measure 4 :  [1678122632584, None, '℃', '2023-03-06T17:10:32.584Z', 11, 'device_temperature']\n",
      "measure 5 :  [1678122632584, None, 'V', '2023-03-06T17:10:32.584Z', 3, 'battery_level']\n",
      "\n",
      "\n",
      "ref:  jzp://edv#0502.0000\n",
      "cuid:  0bfca915-bf15-453f-b3fb-c6e199b84950\n",
      "t:  1678122658590\n",
      "tz:  2023-03-06T17:10:58.590Z\n",
      "cat:  0631\n",
      "sn:  189\n",
      "type:  gasmeter\n",
      "uuid:  27947448-e952-4059-a8b6-b45ea65fd2f9\n",
      "measure 1 :  [1678122658590, 'jzp://coo#ffffffff000004ff.0000', '', '2023-03-06T17:10:58.590Z', 1.0, 'coordinator']\n",
      "measure 2 :  [1678122658590, None, '', '2023-03-06T17:10:58.590Z', 362.8509, 'ppm']\n",
      "measure 3 :  [1678122658591, 'jzp://coo#ffffffff000004ff.0000', 'dB', '2023-03-06T17:10:58.591Z', -93.6117, 'rssi']\n",
      "measure 4 :  [1678122658591, None, '℃', '2023-03-06T17:10:58.591Z', 2, 'device_temperature']\n",
      "measure 5 :  [1678122658591, None, 'V', '2023-03-06T17:10:58.591Z', 3, 'battery_level']\n",
      "\n",
      "\n",
      "ref:  jzp://edv#0502.0000\n",
      "cuid:  de0c5f17-bdec-4d7a-bdc1-d22b6ae38bd5\n",
      "t:  1678122681918\n",
      "tz:  2023-03-06T17:11:21.918Z\n",
      "cat:  0631\n",
      "sn:  98\n",
      "type:  gasmeter\n",
      "uuid:  6cab74b4-a84e-4cf2-b121-bdd03689f838\n",
      "measure 1 :  [1678122681918, 'jzp://coo#ffffffff000004ff.0000', '', '2023-03-06T17:11:21.918Z', 1.0, 'coordinator']\n",
      "measure 2 :  [1678122681918, None, '', '2023-03-06T17:11:21.918Z', 379.9213, 'ppm']\n",
      "measure 3 :  [1678122681919, 'jzp://coo#ffffffff000004ff.0000', 'dB', '2023-03-06T17:11:21.919Z', -105.8571, 'rssi']\n",
      "measure 4 :  [1678122681919, None, '℃', '2023-03-06T17:11:21.919Z', 38, 'device_temperature']\n",
      "measure 5 :  [1678122681919, None, 'V', '2023-03-06T17:11:21.919Z', 3, 'battery_level']\n",
      "\n",
      "\n",
      "ref:  jzp://edv#0502.0000\n",
      "cuid:  9410776e-96ec-4ff6-8bbe-a5453d05cd26\n",
      "t:  1678122707386\n",
      "tz:  2023-03-06T17:11:47.386Z\n",
      "cat:  0631\n",
      "sn:  226\n",
      "type:  gasmeter\n",
      "uuid:  dfdc6971-d5c3-4174-b10d-8aa276a43608\n",
      "measure 1 :  [1678122707386, 'jzp://coo#ffffffff000004ff.0000', '', '2023-03-06T17:11:47.386Z', 1.0, 'coordinator']\n",
      "measure 2 :  [1678122707386, None, '', '2023-03-06T17:11:47.386Z', 319.3603, 'ppm']\n",
      "measure 3 :  [1678122707387, 'jzp://coo#ffffffff000004ff.0000', 'dB', '2023-03-06T17:11:47.387Z', -56.1595, 'rssi']\n",
      "measure 4 :  [1678122707387, None, '℃', '2023-03-06T17:11:47.387Z', 14, 'device_temperature']\n",
      "measure 5 :  [1678122707387, None, 'V', '2023-03-06T17:11:47.387Z', 3, 'battery_level']\n",
      "\n",
      "\n",
      "ref:  jzp://edv#0502.0000\n",
      "cuid:  e4765028-0343-403c-8f6e-6c1649b9b156\n",
      "t:  1678122729427\n",
      "tz:  2023-03-06T17:12:09.427Z\n",
      "cat:  0631\n",
      "sn:  191\n",
      "type:  gasmeter\n",
      "uuid:  9a430122-7f2f-4eb4-b10b-0814d491aaa8\n",
      "measure 1 :  [1678122729427, 'jzp://coo#ffffffff000004ff.0000', '', '2023-03-06T17:12:09.427Z', 1.0, 'coordinator']\n",
      "measure 2 :  [1678122729427, None, '', '2023-03-06T17:12:09.427Z', 344.9719, 'ppm']\n",
      "measure 3 :  [1678122729427, 'jzp://coo#ffffffff000004ff.0000', 'dB', '2023-03-06T17:12:09.427Z', -56.0653, 'rssi']\n",
      "measure 4 :  [1678122729427, None, '℃', '2023-03-06T17:12:09.427Z', 29, 'device_temperature']\n",
      "measure 5 :  [1678122729427, None, 'V', '2023-03-06T17:12:09.427Z', 3, 'battery_level']\n",
      "\n",
      "\n",
      "ref:  jzp://edv#0502.0000\n",
      "cuid:  34393ded-403d-4996-97e0-c7f79b063510\n",
      "t:  1678122751402\n",
      "tz:  2023-03-06T17:12:31.402Z\n",
      "cat:  0631\n",
      "sn:  88\n",
      "type:  gasmeter\n",
      "uuid:  1e01af0f-d9bd-48a4-9953-ea414bdc600e\n",
      "measure 1 :  [1678122751402, 'jzp://coo#ffffffff000004ff.0000', '', '2023-03-06T17:12:31.402Z', 1.0, 'coordinator']\n",
      "measure 2 :  [1678122751402, None, '', '2023-03-06T17:12:31.402Z', 385.9868, 'ppm']\n",
      "measure 3 :  [1678122751402, 'jzp://coo#ffffffff000004ff.0000', 'dB', '2023-03-06T17:12:31.402Z', -19.9374, 'rssi']\n",
      "measure 4 :  [1678122751402, None, '℃', '2023-03-06T17:12:31.402Z', 7, 'device_temperature']\n",
      "measure 5 :  [1678122751402, None, 'V', '2023-03-06T17:12:31.402Z', 3, 'battery_level']\n",
      "\n",
      "\n",
      "ref:  jzp://edv#0502.0000\n",
      "cuid:  12fd612f-e714-40d4-a425-d87a9eb3c0ad\n",
      "t:  1678122775063\n",
      "tz:  2023-03-06T17:12:55.063Z\n",
      "cat:  0631\n",
      "sn:  75\n",
      "type:  gasmeter\n",
      "uuid:  358db75f-c8e2-45db-a7d5-d5768f00a37a\n",
      "measure 1 :  [1678122775064, 'jzp://coo#ffffffff000004ff.0000', '', '2023-03-06T17:12:55.064Z', 1.0, 'coordinator']\n",
      "measure 2 :  [1678122775064, None, '', '2023-03-06T17:12:55.064Z', 380.867, 'ppm']\n",
      "measure 3 :  [1678122775064, 'jzp://coo#ffffffff000004ff.0000', 'dB', '2023-03-06T17:12:55.064Z', -0.3421, 'rssi']\n",
      "measure 4 :  [1678122775064, None, '℃', '2023-03-06T17:12:55.064Z', 29, 'device_temperature']\n",
      "measure 5 :  [1678122775064, None, 'V', '2023-03-06T17:12:55.064Z', 3, 'battery_level']\n",
      "\n",
      "\n",
      "ref:  jzp://edv#0502.0000\n",
      "cuid:  3398b0d0-84df-4b95-9ee1-3d7137bc65fb\n",
      "t:  1678122802329\n",
      "tz:  2023-03-06T17:13:22.330Z\n",
      "cat:  0631\n",
      "sn:  60\n",
      "type:  gasmeter\n",
      "uuid:  75db2c21-181a-4c29-9225-36f2dedd42bb\n",
      "measure 1 :  [1678122802330, 'jzp://coo#ffffffff000004ff.0000', '', '2023-03-06T17:13:22.330Z', 1.0, 'coordinator']\n",
      "measure 2 :  [1678122802330, None, '', '2023-03-06T17:13:22.330Z', 368.1153, 'ppm']\n",
      "measure 3 :  [1678122802330, 'jzp://coo#ffffffff000004ff.0000', 'dB', '2023-03-06T17:13:22.330Z', -33.859, 'rssi']\n",
      "measure 4 :  [1678122802330, None, '℃', '2023-03-06T17:13:22.330Z', 33, 'device_temperature']\n",
      "measure 5 :  [1678122802330, None, 'V', '2023-03-06T17:13:22.330Z', 3, 'battery_level']\n",
      "\n",
      "\n",
      "ref:  jzp://edv#0502.0000\n",
      "cuid:  8ea470ad-b33e-4a10-bd12-d330de063976\n",
      "t:  1678122822843\n",
      "tz:  2023-03-06T17:13:42.843Z\n",
      "cat:  0631\n",
      "sn:  39\n",
      "type:  gasmeter\n",
      "uuid:  d0c3547b-ed38-4740-b458-706a9644e90a\n",
      "measure 1 :  [1678122822843, 'jzp://coo#ffffffff000004ff.0000', '', '2023-03-06T17:13:42.843Z', 1.0, 'coordinator']\n",
      "measure 2 :  [1678122822843, None, '', '2023-03-06T17:13:42.843Z', 382.8765, 'ppm']\n",
      "measure 3 :  [1678122822843, 'jzp://coo#ffffffff000004ff.0000', 'dB', '2023-03-06T17:13:42.843Z', -78.3614, 'rssi']\n",
      "measure 4 :  [1678122822843, None, '℃', '2023-03-06T17:13:42.843Z', 30, 'device_temperature']\n",
      "measure 5 :  [1678122822843, None, 'V', '2023-03-06T17:13:42.843Z', 3, 'battery_level']\n",
      "\n",
      "\n",
      "ref:  jzp://edv#0502.0000\n",
      "cuid:  a0649c9b-cd03-4327-851c-c69ea9c84ca5\n",
      "t:  1678122848333\n",
      "tz:  2023-03-06T17:14:08.333Z\n",
      "cat:  0631\n",
      "sn:  158\n",
      "type:  gasmeter\n",
      "uuid:  5f8126de-b587-4b55-acb8-cb432727ba8a\n",
      "measure 1 :  [1678122848334, 'jzp://coo#ffffffff000004ff.0000', '', '2023-03-06T17:14:08.334Z', 1.0, 'coordinator']\n",
      "measure 2 :  [1678122848334, None, '', '2023-03-06T17:14:08.334Z', 321.2239, 'ppm']\n",
      "measure 3 :  [1678122848334, 'jzp://coo#ffffffff000004ff.0000', 'dB', '2023-03-06T17:14:08.334Z', -84.4381, 'rssi']\n",
      "measure 4 :  [1678122848334, None, '℃', '2023-03-06T17:14:08.334Z', 33, 'device_temperature']\n",
      "measure 5 :  [1678122848334, None, 'V', '2023-03-06T17:14:08.334Z', 3, 'battery_level']\n",
      "\n",
      "\n",
      "ref:  jzp://edv#0502.0000\n",
      "cuid:  40296d6a-1ae6-4117-9b88-fd2b522c5f0c\n",
      "t:  1678122869261\n",
      "tz:  2023-03-06T17:14:29.261Z\n",
      "cat:  0631\n",
      "sn:  32\n",
      "type:  gasmeter\n",
      "uuid:  ef371170-26fe-42c0-b1cb-d57d8d58ab64\n",
      "measure 1 :  [1678122869261, 'jzp://coo#ffffffff000004ff.0000', '', '2023-03-06T17:14:29.261Z', 1.0, 'coordinator']\n",
      "measure 2 :  [1678122869261, None, '', '2023-03-06T17:14:29.261Z', 363.6288, 'ppm']\n",
      "measure 3 :  [1678122869261, 'jzp://coo#ffffffff000004ff.0000', 'dB', '2023-03-06T17:14:29.261Z', -74.6587, 'rssi']\n",
      "measure 4 :  [1678122869261, None, '℃', '2023-03-06T17:14:29.261Z', 20, 'device_temperature']\n",
      "measure 5 :  [1678122869261, None, 'V', '2023-03-06T17:14:29.261Z', 3, 'battery_level']\n",
      "\n",
      "\n",
      "ref:  jzp://edv#0502.0000\n",
      "cuid:  0fe8ef99-b8b9-4ced-98ba-1625e35979e4\n",
      "t:  1678122888897\n",
      "tz:  2023-03-06T17:14:48.897Z\n",
      "cat:  0631\n",
      "sn:  1\n",
      "type:  gasmeter\n",
      "uuid:  f01ea4ce-635c-47f8-aa0f-26504a0b5e3f\n",
      "measure 1 :  [1678122888898, 'jzp://coo#ffffffff000004ff.0000', '', '2023-03-06T17:14:48.898Z', 1.0, 'coordinator']\n",
      "measure 2 :  [1678122888898, None, '', '2023-03-06T17:14:48.898Z', 328.5565, 'ppm']\n",
      "measure 3 :  [1678122888898, 'jzp://coo#ffffffff000004ff.0000', 'dB', '2023-03-06T17:14:48.898Z', -45.3983, 'rssi']\n",
      "measure 4 :  [1678122888898, None, '℃', '2023-03-06T17:14:48.898Z', 26, 'device_temperature']\n",
      "measure 5 :  [1678122888898, None, 'V', '2023-03-06T17:14:48.898Z', 3, 'battery_level']\n",
      "\n",
      "\n",
      "ref:  jzp://edv#0502.0000\n",
      "cuid:  3cdb9b73-7632-4f00-a02b-cb795d2accab\n",
      "t:  1678122911949\n",
      "tz:  2023-03-06T17:15:11.949Z\n",
      "cat:  0631\n",
      "sn:  57\n",
      "type:  gasmeter\n",
      "uuid:  a2ea25dd-717c-4aac-97d1-c316d799d1b5\n",
      "measure 1 :  [1678122911949, 'jzp://coo#ffffffff000004ff.0000', '', '2023-03-06T17:15:11.949Z', 1.0, 'coordinator']\n",
      "measure 2 :  [1678122911949, None, '', '2023-03-06T17:15:11.949Z', 317.5868, 'ppm']\n",
      "measure 3 :  [1678122911949, 'jzp://coo#ffffffff000004ff.0000', 'dB', '2023-03-06T17:15:11.949Z', -44.843, 'rssi']\n",
      "measure 4 :  [1678122911949, None, '℃', '2023-03-06T17:15:11.949Z', 7, 'device_temperature']\n",
      "measure 5 :  [1678122911949, None, 'V', '2023-03-06T17:15:11.949Z', 3, 'battery_level']\n",
      "\n",
      "\n",
      "ref:  jzp://edv#0502.0000\n",
      "cuid:  217acd96-52cf-4b24-962e-ee965ccbc0d5\n",
      "t:  1678122933706\n",
      "tz:  2023-03-06T17:15:33.706Z\n",
      "cat:  0631\n",
      "sn:  252\n",
      "type:  gasmeter\n",
      "uuid:  ffcb0442-fd1d-4f64-8a4a-d7a9c5d26031\n",
      "measure 1 :  [1678122933706, 'jzp://coo#ffffffff000004ff.0000', '', '2023-03-06T17:15:33.706Z', 1.0, 'coordinator']\n",
      "measure 2 :  [1678122933706, None, '', '2023-03-06T17:15:33.706Z', 306.0548, 'ppm']\n",
      "measure 3 :  [1678122933706, 'jzp://coo#ffffffff000004ff.0000', 'dB', '2023-03-06T17:15:33.706Z', -115.7611, 'rssi']\n",
      "measure 4 :  [1678122933706, None, '℃', '2023-03-06T17:15:33.706Z', 9, 'device_temperature']\n",
      "measure 5 :  [1678122933706, None, 'V', '2023-03-06T17:15:33.706Z', 3, 'battery_level']\n",
      "\n",
      "\n",
      "ref:  jzp://edv#0502.0000\n",
      "cuid:  6fa09159-7895-41cc-b5b1-e069af21cdbd\n",
      "t:  1678122954622\n",
      "tz:  2023-03-06T17:15:54.622Z\n",
      "cat:  0631\n",
      "sn:  80\n",
      "type:  gasmeter\n",
      "uuid:  57333698-2acc-43e9-8537-80e9fc6ca840\n",
      "measure 1 :  [1678122954625, 'jzp://coo#ffffffff000004ff.0000', '', '2023-03-06T17:15:54.625Z', 1.0, 'coordinator']\n",
      "measure 2 :  [1678122954625, None, '', '2023-03-06T17:15:54.625Z', 345.8011, 'ppm']\n",
      "measure 3 :  [1678122954625, 'jzp://coo#ffffffff000004ff.0000', 'dB', '2023-03-06T17:15:54.625Z', -31.8326, 'rssi']\n",
      "measure 4 :  [1678122954625, None, '℃', '2023-03-06T17:15:54.625Z', 26, 'device_temperature']\n",
      "measure 5 :  [1678122954625, None, 'V', '2023-03-06T17:15:54.625Z', 3, 'battery_level']\n",
      "\n",
      "\n",
      "ref:  jzp://edv#0502.0000\n",
      "cuid:  4be045e0-a480-45bb-9a30-00d02f387e53\n",
      "t:  1678122974054\n",
      "tz:  2023-03-06T17:16:14.054Z\n",
      "cat:  0631\n",
      "sn:  251\n",
      "type:  gasmeter\n",
      "uuid:  fd18a4d7-5f49-4913-a38e-d72f479a5ccb\n",
      "measure 1 :  [1678122974055, 'jzp://coo#ffffffff000004ff.0000', '', '2023-03-06T17:16:14.055Z', 1.0, 'coordinator']\n",
      "measure 2 :  [1678122974055, None, '', '2023-03-06T17:16:14.055Z', 398.8113, 'ppm']\n",
      "measure 3 :  [1678122974055, 'jzp://coo#ffffffff000004ff.0000', 'dB', '2023-03-06T17:16:14.055Z', -58.2609, 'rssi']\n",
      "measure 4 :  [1678122974055, None, '℃', '2023-03-06T17:16:14.055Z', 37, 'device_temperature']\n",
      "measure 5 :  [1678122974055, None, 'V', '2023-03-06T17:16:14.055Z', 3, 'battery_level']\n",
      "\n",
      "\n",
      "ref:  jzp://edv#0502.0000\n",
      "cuid:  d8058c97-28eb-41d2-914c-49fe0938adbc\n",
      "t:  1678122993102\n",
      "tz:  2023-03-06T17:16:33.103Z\n",
      "cat:  0631\n",
      "sn:  207\n",
      "type:  gasmeter\n",
      "uuid:  3000f86f-cc87-4eb8-8d4d-5bdaf1e0abe3\n",
      "measure 1 :  [1678122993103, 'jzp://coo#ffffffff000004ff.0000', '', '2023-03-06T17:16:33.103Z', 1.0, 'coordinator']\n",
      "measure 2 :  [1678122993103, None, '', '2023-03-06T17:16:33.103Z', 351.6094, 'ppm']\n",
      "measure 3 :  [1678122993103, 'jzp://coo#ffffffff000004ff.0000', 'dB', '2023-03-06T17:16:33.103Z', -85.4333, 'rssi']\n",
      "measure 4 :  [1678122993103, None, '℃', '2023-03-06T17:16:33.103Z', 29, 'device_temperature']\n",
      "measure 5 :  [1678122993103, None, 'V', '2023-03-06T17:16:33.103Z', 3, 'battery_level']\n",
      "\n",
      "\n",
      "ref:  jzp://edv#0502.0000\n",
      "cuid:  83fbfa7c-dcfb-45ec-96ae-e2e76ae274e3\n",
      "t:  1678123017198\n",
      "tz:  2023-03-06T17:16:57.198Z\n",
      "cat:  0631\n",
      "sn:  91\n",
      "type:  gasmeter\n",
      "uuid:  7e6f0678-782f-43c2-ab9a-099ce914f055\n",
      "measure 1 :  [1678123017198, 'jzp://coo#ffffffff000004ff.0000', '', '2023-03-06T17:16:57.198Z', 1.0, 'coordinator']\n",
      "measure 2 :  [1678123017198, None, '', '2023-03-06T17:16:57.198Z', 370.0093, 'ppm']\n",
      "measure 3 :  [1678123017198, 'jzp://coo#ffffffff000004ff.0000', 'dB', '2023-03-06T17:16:57.198Z', -86.0742, 'rssi']\n",
      "measure 4 :  [1678123017198, None, '℃', '2023-03-06T17:16:57.198Z', 25, 'device_temperature']\n",
      "measure 5 :  [1678123017198, None, 'V', '2023-03-06T17:16:57.198Z', 3, 'battery_level']\n",
      "\n",
      "\n",
      "ref:  jzp://edv#0502.0000\n",
      "cuid:  33fadce1-8b0d-4271-93c9-f6a8b123c219\n",
      "t:  1678123038190\n",
      "tz:  2023-03-06T17:17:18.190Z\n",
      "cat:  0631\n",
      "sn:  154\n",
      "type:  gasmeter\n",
      "uuid:  97f7ea60-5787-4e3e-ab31-52fcf963c81a\n",
      "measure 1 :  [1678123038190, 'jzp://coo#ffffffff000004ff.0000', '', '2023-03-06T17:17:18.190Z', 1.0, 'coordinator']\n",
      "measure 2 :  [1678123038190, None, '', '2023-03-06T17:17:18.190Z', 386.8788, 'ppm']\n",
      "measure 3 :  [1678123038190, 'jzp://coo#ffffffff000004ff.0000', 'dB', '2023-03-06T17:17:18.190Z', -23.441, 'rssi']\n",
      "measure 4 :  [1678123038190, None, '℃', '2023-03-06T17:17:18.190Z', 17, 'device_temperature']\n",
      "measure 5 :  [1678123038190, None, 'V', '2023-03-06T17:17:18.190Z', 3, 'battery_level']\n",
      "\n",
      "\n",
      "ref:  jzp://edv#0502.0000\n",
      "cuid:  f46134b8-7e6c-4842-9606-a01fd8f64422\n",
      "t:  1678123065214\n",
      "tz:  2023-03-06T17:17:45.214Z\n",
      "cat:  0631\n",
      "sn:  235\n",
      "type:  gasmeter\n",
      "uuid:  6a9e8ee6-3bad-4353-bd8e-f717382069f8\n",
      "measure 1 :  [1678123065214, 'jzp://coo#ffffffff000004ff.0000', '', '2023-03-06T17:17:45.214Z', 1.0, 'coordinator']\n",
      "measure 2 :  [1678123065214, None, '', '2023-03-06T17:17:45.214Z', 375.7912, 'ppm']\n",
      "measure 3 :  [1678123065215, 'jzp://coo#ffffffff000004ff.0000', 'dB', '2023-03-06T17:17:45.215Z', -76.4865, 'rssi']\n",
      "measure 4 :  [1678123065215, None, '℃', '2023-03-06T17:17:45.215Z', 6, 'device_temperature']\n",
      "measure 5 :  [1678123065215, None, 'V', '2023-03-06T17:17:45.215Z', 3, 'battery_level']\n",
      "\n",
      "\n",
      "ref:  jzp://edv#0502.0000\n",
      "cuid:  a9d8456d-c46b-46bc-b0ec-b4358c2bb717\n",
      "t:  1678123087227\n",
      "tz:  2023-03-06T17:18:07.227Z\n",
      "cat:  0631\n",
      "sn:  35\n",
      "type:  gasmeter\n",
      "uuid:  04c657b8-0ba4-4485-b7a6-8a9f05073cd2\n",
      "measure 1 :  [1678123087227, 'jzp://coo#ffffffff000004ff.0000', '', '2023-03-06T17:18:07.227Z', 1.0, 'coordinator']\n",
      "measure 2 :  [1678123087227, None, '', '2023-03-06T17:18:07.227Z', 335.1538, 'ppm']\n",
      "measure 3 :  [1678123087227, 'jzp://coo#ffffffff000004ff.0000', 'dB', '2023-03-06T17:18:07.227Z', -119.7365, 'rssi']\n",
      "measure 4 :  [1678123087227, None, '℃', '2023-03-06T17:18:07.227Z', 38, 'device_temperature']\n",
      "measure 5 :  [1678123087227, None, 'V', '2023-03-06T17:18:07.227Z', 3, 'battery_level']\n",
      "\n",
      "\n",
      "ref:  jzp://edv#0502.0000\n",
      "cuid:  e49fcd94-caf4-4f30-a4b8-828441926773\n",
      "t:  1678123114598\n",
      "tz:  2023-03-06T17:18:34.598Z\n",
      "cat:  0631\n",
      "sn:  233\n",
      "type:  gasmeter\n",
      "uuid:  baa8b214-d79f-465f-b1fc-91fd75a7c608\n",
      "measure 1 :  [1678123114599, 'jzp://coo#ffffffff000004ff.0000', '', '2023-03-06T17:18:34.599Z', 1.0, 'coordinator']\n",
      "measure 2 :  [1678123114599, None, '', '2023-03-06T17:18:34.599Z', 376.0361, 'ppm']\n",
      "measure 3 :  [1678123114599, 'jzp://coo#ffffffff000004ff.0000', 'dB', '2023-03-06T17:18:34.599Z', -49.3686, 'rssi']\n",
      "measure 4 :  [1678123114599, None, '℃', '2023-03-06T17:18:34.599Z', 32, 'device_temperature']\n",
      "measure 5 :  [1678123114599, None, 'V', '2023-03-06T17:18:34.599Z', 3, 'battery_level']\n",
      "\n",
      "\n"
     ]
    }
   ],
   "source": [
    "presto_cur.execute(\"select * from iotsimulator where type='gasmeter'\")\n",
    "records=presto_cur.fetchall()\n",
    "for row in records:\n",
    "        print(\"ref: \", row[0])\n",
    "        print(\"cuid: \", row[1])\n",
    "        print(\"t: \", row[2])\n",
    "        print(\"tz: \", row[3])\n",
    "        print(\"cat: \", row[4])\n",
    "        print(\"sn: \", row[5])\n",
    "        print(\"type: \", row[6])\n",
    "        print(\"uuid: \", row[7])\n",
    "        #print(\"Measures:\", row[8])\n",
    "        i=1\n",
    "        for measure in row[8]:\n",
    "            if not measure == None:\n",
    "                print(\"measure\",i,\": \",measure)\n",
    "            i=i+1\n",
    "        print(\"\\n\")"
   ]
  },
  {
   "cell_type": "markdown",
   "id": "b1ef6105",
   "metadata": {},
   "source": [
    "# Queries all data in a time intervall"
   ]
  },
  {
   "cell_type": "code",
   "execution_count": 5,
   "id": "ea2fc869",
   "metadata": {},
   "outputs": [
    {
     "name": "stdout",
     "output_type": "stream",
     "text": [
      "ref:  jzp://edv#0503.0000\n",
      "cuid:  de661011-d81f-4ca3-ae99-4bcc136594dc\n",
      "t:  1677772404509\n",
      "tz:  2023-03-02T15:53:24.509Z\n",
      "cat:  0610\n",
      "sn:  18\n",
      "type:  presence\n",
      "uuid:  0b646571-9a95-4805-9a9f-37b8a48033c9\n",
      "measure 1 :  [1677772404510, None, 'C', '2023-03-02T15:53:24.510Z', 13.7726, 'device_temperature']\n",
      "measure 2 :  [1677772404510, None, 'V', '2023-03-02T15:53:24.510Z', 3.2657, 'battery_level']\n",
      "measure 3 :  [1677772404510, 'jzp://coo#ffffffff00000500.0000', 'dB', '2023-03-02T15:53:24.510Z', -47.4038, 'rssi']\n",
      "measure 4 :  [1677772404510, None, '', '2023-03-02T15:53:24.510Z', 0, 'presence']\n",
      "measure 5 :  [1677772404510, 'jzp://coo#ffffffff00000500.0000', '', '2023-03-02T15:53:24.510Z', 1, 'coordinator']\n",
      "\n",
      "\n",
      "ref:  jzp://edv#0502.0000\n",
      "cuid:  d11488d1-76d3-4dca-8402-be0d08b59a91\n",
      "t:  1677772406596\n",
      "tz:  2023-03-02T15:53:26.596Z\n",
      "cat:  0631\n",
      "sn:  243\n",
      "type:  gasmeter\n",
      "uuid:  2b7bc1bd-29fa-470c-a354-528d8450c382\n",
      "measure 1 :  [1677772406597, 'jzp://coo#ffffffff000004ff.0000', '', '2023-03-02T15:53:26.597Z', 1.0, 'coordinator']\n",
      "measure 2 :  [1677772406601, None, '', '2023-03-02T15:53:26.601Z', 378.8695, 'ppm']\n",
      "measure 3 :  [1677772406601, 'jzp://coo#ffffffff000004ff.0000', 'dB', '2023-03-02T15:53:26.601Z', -118.6435, 'rssi']\n",
      "measure 4 :  [1677772406601, None, '℃', '2023-03-02T15:53:26.601Z', 34, 'device_temperature']\n",
      "measure 5 :  [1677772406601, None, 'V', '2023-03-02T15:53:26.601Z', 3, 'battery_level']\n",
      "\n",
      "\n",
      "ref:  jzp://edv#0501.0000\n",
      "cuid:  9f1ba993-ca91-4cfd-9939-12e8d9c258da\n",
      "t:  1677772409758\n",
      "tz:  2023-03-02T15:53:29.758Z\n",
      "cat:  0620\n",
      "sn:  151\n",
      "type:  luxmeter\n",
      "uuid:  93094190-7d35-4e0e-a53f-4c7aa5d93e5f\n",
      "measure 1 :  [1677772409759, None, '℃', '2023-03-02T15:53:29.759Z', 4.0779, 'device_temperature']\n",
      "measure 2 :  [1677772409759, None, 'V', '2023-03-02T15:53:29.759Z', 3.532, 'battery_level']\n",
      "measure 3 :  [1677772409759, None, '', '2023-03-02T15:53:29.759Z', 0.0, 'orientation']\n",
      "measure 4 :  [1677772409759, None, '', '2023-03-02T15:53:29.759Z', 0, 'back_front']\n",
      "measure 5 :  [1677772409759, None, '', '2023-03-02T15:53:29.759Z', 0, 'regular']\n",
      "measure 6 :  [1677772409759, None, '', '2023-03-02T15:53:29.759Z', 0, 'movement_level']\n",
      "measure 7 :  [1677772409759, None, '', '2023-03-02T15:53:29.759Z', 0, 'posture_tilt']\n",
      "measure 8 :  [1677772409759, 'jzp://coo#ffffffff00000500.0000', 'dB', '2023-03-02T15:53:29.759Z', -41, 'rssi']\n",
      "measure 9 :  [1677772409760, None, '', '2023-03-02T15:53:29.760Z', 0, 'position']\n",
      "measure 10 :  [1677772409760, None, '', '2023-03-02T15:53:29.760Z', 76, 'adc_channel_00']\n",
      "measure 11 :  [1677772409760, None, 'lx', '2023-03-02T15:53:29.760Z', 340, 'illuminance']\n",
      "measure 12 :  [1677772409760, 'jzp://coo#ffffffff00000500.0000', '', '2023-03-02T15:53:29.760Z', 1, 'coordinator']\n",
      "measure 13 :  [1677772409760, None, 'Pa', '2023-03-02T15:53:29.760Z', 28503, 'pressure']\n",
      "measure 14 :  [1677772409760, None, '', '2023-03-02T15:53:29.760Z', 0, 'adc_channel_01']\n",
      "\n",
      "\n",
      "ref:  jzp://edv#0504.0000\n",
      "cuid:  6135b7b6-b16b-42a0-980b-a2d8ab382d10\n",
      "t:  1677772413592\n",
      "tz:  2023-03-02T15:53:33.592Z\n",
      "cat:  0600\n",
      "sn:  209\n",
      "type:  environmental\n",
      "uuid:  f4a2e54b-c155-4a0b-95c5-644db9080c22\n",
      "measure 1 :  [1677772413592, None, '℃', '2023-03-02T15:53:33.592Z', 21.3253, 'device_temperature']\n",
      "measure 2 :  [1677772413593, None, 'V', '2023-03-02T15:53:33.593Z', 3.3243, 'battery_level']\n",
      "measure 3 :  [1677772413593, None, '℃', '2023-03-02T15:53:33.593Z', 11.2137, 'dew_point']\n",
      "measure 4 :  [1677772413593, None, '%', '2023-03-02T15:53:33.593Z', 64, 'relative_humidity']\n",
      "measure 5 :  [1677772413593, None, '', '2023-03-02T15:53:33.593Z', 0, 'orientation']\n",
      "measure 6 :  [1677772413594, None, '℃', '2023-03-02T15:53:33.594Z', 7, 'environmental_temperature']\n",
      "measure 7 :  [1677772413594, None, '', '2023-03-02T15:53:33.594Z', 0, 'back_front']\n",
      "measure 8 :  [1677772413594, None, '', '2023-03-02T15:53:33.594Z', 0, 'regular']\n",
      "measure 9 :  [1677772413594, None, '', '2023-03-02T15:53:33.594Z', 0, 'movement_level']\n",
      "measure 10 :  [1677772413594, None, '', '2023-03-02T15:53:33.594Z', 0, 'posture_tilt']\n",
      "measure 11 :  [1677772413594, 'jzp://coo#ffffffff00000500.0000', 'dB', '2023-03-02T15:53:33.594Z', -4, 'rssi']\n",
      "measure 12 :  [1677772413594, None, '', '2023-03-02T15:53:33.594Z', 0, 'position']\n",
      "measure 13 :  [1677772413594, None, 'kg/m³', '2023-03-02T15:53:33.594Z', 0, 'absolute_humidity']\n",
      "measure 14 :  [1677772413595, 'jzp://coo#ffffffff00000500.0000', '', '2023-03-02T15:53:33.595Z', 1, 'coordinator']\n",
      "measure 15 :  [1677772413595, None, 'Pa', '2023-03-02T15:53:33.595Z', 99937, 'pressure']\n",
      "\n",
      "\n",
      "ref:  jzp://edv#0503.0000\n",
      "cuid:  2720580d-adf4-4eeb-a7d9-378440ee9178\n",
      "t:  1677772426516\n",
      "tz:  2023-03-02T15:53:46.516Z\n",
      "cat:  0610\n",
      "sn:  173\n",
      "type:  presence\n",
      "uuid:  cec2a058-1418-44be-b777-4d15f1b28339\n",
      "measure 1 :  [1677772426517, None, 'C', '2023-03-02T15:53:46.517Z', 17.6598, 'device_temperature']\n",
      "measure 2 :  [1677772426517, None, 'V', '2023-03-02T15:53:46.517Z', 3.451, 'battery_level']\n",
      "measure 3 :  [1677772426517, 'jzp://coo#ffffffff00000500.0000', 'dB', '2023-03-02T15:53:46.517Z', -53.0082, 'rssi']\n",
      "measure 4 :  [1677772426517, None, '', '2023-03-02T15:53:46.517Z', 0, 'presence']\n",
      "measure 5 :  [1677772426518, 'jzp://coo#ffffffff00000500.0000', '', '2023-03-02T15:53:46.518Z', 1, 'coordinator']\n",
      "\n",
      "\n",
      "ref:  jzp://edv#0502.0000\n",
      "cuid:  d7752e4a-6bb4-458e-beb9-fa74e94a1222\n",
      "t:  1677772428791\n",
      "tz:  2023-03-02T15:53:48.791Z\n",
      "cat:  0631\n",
      "sn:  13\n",
      "type:  gasmeter\n",
      "uuid:  d84262bc-8e91-4cb5-a020-8e9eb01b9f5d\n",
      "measure 1 :  [1677772428791, 'jzp://coo#ffffffff000004ff.0000', '', '2023-03-02T15:53:48.791Z', 1.0, 'coordinator']\n",
      "measure 2 :  [1677772428791, None, '', '2023-03-02T15:53:48.791Z', 348.4314, 'ppm']\n",
      "measure 3 :  [1677772428792, 'jzp://coo#ffffffff000004ff.0000', 'dB', '2023-03-02T15:53:48.792Z', -22.6326, 'rssi']\n",
      "measure 4 :  [1677772428792, None, '℃', '2023-03-02T15:53:48.792Z', 17, 'device_temperature']\n",
      "measure 5 :  [1677772428792, None, 'V', '2023-03-02T15:53:48.792Z', 3, 'battery_level']\n",
      "\n",
      "\n",
      "ref:  jzp://edv#0501.0000\n",
      "cuid:  7135bc33-9dca-4747-b61d-5392050b73d2\n",
      "t:  1677772432156\n",
      "tz:  2023-03-02T15:53:52.156Z\n",
      "cat:  0620\n",
      "sn:  108\n",
      "type:  luxmeter\n",
      "uuid:  c4ceec4e-3569-4931-967a-d268aaafd51b\n",
      "measure 1 :  [1677772432156, None, '℃', '2023-03-02T15:53:52.156Z', 23.5579, 'device_temperature']\n",
      "measure 2 :  [1677772432157, None, 'V', '2023-03-02T15:53:52.157Z', 3.4852, 'battery_level']\n",
      "measure 3 :  [1677772432157, None, '', '2023-03-02T15:53:52.157Z', 0.0, 'orientation']\n",
      "measure 4 :  [1677772432157, None, '', '2023-03-02T15:53:52.157Z', 0, 'back_front']\n",
      "measure 5 :  [1677772432157, None, '', '2023-03-02T15:53:52.157Z', 0, 'regular']\n",
      "measure 6 :  [1677772432157, None, '', '2023-03-02T15:53:52.157Z', 0, 'movement_level']\n",
      "measure 7 :  [1677772432157, None, '', '2023-03-02T15:53:52.157Z', 0, 'posture_tilt']\n",
      "measure 8 :  [1677772432157, 'jzp://coo#ffffffff00000500.0000', 'dB', '2023-03-02T15:53:52.157Z', -57, 'rssi']\n",
      "measure 9 :  [1677772432157, None, '', '2023-03-02T15:53:52.157Z', 0, 'position']\n",
      "measure 10 :  [1677772432157, None, '', '2023-03-02T15:53:52.157Z', 2, 'adc_channel_00']\n",
      "measure 11 :  [1677772432157, None, 'lx', '2023-03-02T15:53:52.157Z', 433, 'illuminance']\n",
      "measure 12 :  [1677772432157, 'jzp://coo#ffffffff00000500.0000', '', '2023-03-02T15:53:52.157Z', 1, 'coordinator']\n",
      "measure 13 :  [1677772432157, None, 'Pa', '2023-03-02T15:53:52.157Z', 7451, 'pressure']\n",
      "measure 14 :  [1677772432157, None, '', '2023-03-02T15:53:52.157Z', 0, 'adc_channel_01']\n",
      "\n",
      "\n",
      "ref:  jzp://edv#0504.0000\n",
      "cuid:  fc611ac3-f762-472e-85fe-d25858a98b84\n",
      "t:  1677772434684\n",
      "tz:  2023-03-02T15:53:54.684Z\n",
      "cat:  0600\n",
      "sn:  253\n",
      "type:  environmental\n",
      "uuid:  a450ab9e-9dba-45fb-ba84-860487b8f563\n",
      "measure 1 :  [1677772434685, None, '℃', '2023-03-02T15:53:54.685Z', 1.3081, 'device_temperature']\n",
      "measure 2 :  [1677772434685, None, 'V', '2023-03-02T15:53:54.685Z', 3.347, 'battery_level']\n",
      "measure 3 :  [1677772434687, None, '℃', '2023-03-02T15:53:54.687Z', 11.376, 'dew_point']\n",
      "measure 4 :  [1677772434687, None, '%', '2023-03-02T15:53:54.687Z', 86, 'relative_humidity']\n",
      "measure 5 :  [1677772434687, None, '', '2023-03-02T15:53:54.687Z', 0, 'orientation']\n",
      "measure 6 :  [1677772434687, None, '℃', '2023-03-02T15:53:54.687Z', 28, 'environmental_temperature']\n",
      "measure 7 :  [1677772434687, None, '', '2023-03-02T15:53:54.687Z', 0, 'back_front']\n",
      "measure 8 :  [1677772434688, None, '', '2023-03-02T15:53:54.688Z', 0, 'regular']\n",
      "measure 9 :  [1677772434688, None, '', '2023-03-02T15:53:54.688Z', 0, 'movement_level']\n",
      "measure 10 :  [1677772434688, None, '', '2023-03-02T15:53:54.688Z', 0, 'posture_tilt']\n",
      "measure 11 :  [1677772434688, 'jzp://coo#ffffffff00000500.0000', 'dB', '2023-03-02T15:53:54.688Z', -44, 'rssi']\n",
      "measure 12 :  [1677772434689, None, '', '2023-03-02T15:53:54.689Z', 0, 'position']\n",
      "measure 13 :  [1677772434689, None, 'kg/m³', '2023-03-02T15:53:54.689Z', 0, 'absolute_humidity']\n",
      "measure 14 :  [1677772434690, 'jzp://coo#ffffffff00000500.0000', '', '2023-03-02T15:53:54.690Z', 1, 'coordinator']\n",
      "measure 15 :  [1677772434690, None, 'Pa', '2023-03-02T15:53:54.690Z', 84953, 'pressure']\n",
      "\n",
      "\n",
      "ref:  jzp://edv#0503.0000\n",
      "cuid:  5538557c-2013-4fe5-bf69-61a64c400ac3\n",
      "t:  1677772446989\n",
      "tz:  2023-03-02T15:54:06.989Z\n",
      "cat:  0610\n",
      "sn:  141\n",
      "type:  presence\n",
      "uuid:  e31cda5a-7e5f-426f-b75f-7f82d16eb098\n",
      "measure 1 :  [1677772446989, None, 'C', '2023-03-02T15:54:06.989Z', 11.1822, 'device_temperature']\n",
      "measure 2 :  [1677772446989, None, 'V', '2023-03-02T15:54:06.989Z', 3.5545, 'battery_level']\n",
      "measure 3 :  [1677772446990, 'jzp://coo#ffffffff00000500.0000', 'dB', '2023-03-02T15:54:06.990Z', -84.6784, 'rssi']\n",
      "measure 4 :  [1677772446990, None, '', '2023-03-02T15:54:06.990Z', 0, 'presence']\n",
      "measure 5 :  [1677772446990, 'jzp://coo#ffffffff00000500.0000', '', '2023-03-02T15:54:06.990Z', 1, 'coordinator']\n",
      "\n",
      "\n",
      "ref:  jzp://edv#0502.0000\n",
      "cuid:  7f42b31f-5fee-4569-9585-6197b541430d\n",
      "t:  1677772449931\n",
      "tz:  2023-03-02T15:54:09.931Z\n",
      "cat:  0631\n",
      "sn:  248\n",
      "type:  gasmeter\n",
      "uuid:  67699157-1cad-4956-a068-2482522e65d8\n",
      "measure 1 :  [1677772449931, 'jzp://coo#ffffffff000004ff.0000', '', '2023-03-02T15:54:09.931Z', 1.0, 'coordinator']\n",
      "measure 2 :  [1677772449931, None, '', '2023-03-02T15:54:09.931Z', 328.7406, 'ppm']\n",
      "measure 3 :  [1677772449931, 'jzp://coo#ffffffff000004ff.0000', 'dB', '2023-03-02T15:54:09.931Z', -82.0682, 'rssi']\n",
      "measure 4 :  [1677772449931, None, '℃', '2023-03-02T15:54:09.931Z', 8, 'device_temperature']\n",
      "measure 5 :  [1677772449932, None, 'V', '2023-03-02T15:54:09.932Z', 3, 'battery_level']\n",
      "\n",
      "\n",
      "ref:  jzp://edv#0501.0000\n",
      "cuid:  1c2f1656-60c0-49e4-b795-bd6c6c779be5\n",
      "t:  1677772453938\n",
      "tz:  2023-03-02T15:54:13.938Z\n",
      "cat:  0620\n",
      "sn:  65\n",
      "type:  luxmeter\n",
      "uuid:  a4ff4563-c6e5-4e4c-af2e-61a69fbb2a1d\n",
      "measure 1 :  [1677772453939, None, '℃', '2023-03-02T15:54:13.939Z', 34.6104, 'device_temperature']\n",
      "measure 2 :  [1677772453939, None, 'V', '2023-03-02T15:54:13.939Z', 3.5356, 'battery_level']\n",
      "measure 3 :  [1677772453939, None, '', '2023-03-02T15:54:13.939Z', 0.0, 'orientation']\n",
      "measure 4 :  [1677772453939, None, '', '2023-03-02T15:54:13.939Z', 0, 'back_front']\n",
      "measure 5 :  [1677772453939, None, '', '2023-03-02T15:54:13.939Z', 0, 'regular']\n",
      "measure 6 :  [1677772453939, None, '', '2023-03-02T15:54:13.939Z', 0, 'movement_level']\n",
      "measure 7 :  [1677772453939, None, '', '2023-03-02T15:54:13.941Z', 0, 'posture_tilt']\n",
      "measure 8 :  [1677772453941, 'jzp://coo#ffffffff00000500.0000', 'dB', '2023-03-02T15:54:13.941Z', -31, 'rssi']\n",
      "measure 9 :  [1677772453942, None, '', '2023-03-02T15:54:13.942Z', 0, 'position']\n",
      "measure 10 :  [1677772453942, None, '', '2023-03-02T15:54:13.942Z', 182, 'adc_channel_00']\n",
      "measure 11 :  [1677772453942, None, 'lx', '2023-03-02T15:54:13.942Z', 380, 'illuminance']\n",
      "measure 12 :  [1677772453943, 'jzp://coo#ffffffff00000500.0000', '', '2023-03-02T15:54:13.943Z', 1, 'coordinator']\n",
      "measure 13 :  [1677772453943, None, 'Pa', '2023-03-02T15:54:13.943Z', 8242, 'pressure']\n",
      "measure 14 :  [1677772453943, None, '', '2023-03-02T15:54:13.943Z', 0, 'adc_channel_01']\n",
      "\n",
      "\n",
      "ref:  jzp://edv#0504.0000\n",
      "cuid:  619b5044-13dc-4723-94ce-aeb482271988\n",
      "t:  1677772457129\n",
      "tz:  2023-03-02T15:54:17.129Z\n",
      "cat:  0600\n",
      "sn:  31\n",
      "type:  environmental\n",
      "uuid:  49c92f82-cb7a-4688-b8da-f350c6744758\n",
      "measure 1 :  [1677772457129, None, '℃', '2023-03-02T15:54:17.129Z', 6.5018, 'device_temperature']\n",
      "measure 2 :  [1677772457130, None, 'V', '2023-03-02T15:54:17.130Z', 3.3709, 'battery_level']\n",
      "measure 3 :  [1677772457130, None, '℃', '2023-03-02T15:54:17.130Z', 10.3429, 'dew_point']\n",
      "measure 4 :  [1677772457131, None, '%', '2023-03-02T15:54:17.131Z', 30, 'relative_humidity']\n",
      "measure 5 :  [1677772457134, None, '', '2023-03-02T15:54:17.134Z', 0, 'orientation']\n",
      "measure 6 :  [1677772457135, None, '℃', '2023-03-02T15:54:17.135Z', 24, 'environmental_temperature']\n",
      "measure 7 :  [1677772457139, None, '', '2023-03-02T15:54:17.139Z', 0, 'back_front']\n",
      "measure 8 :  [1677772457139, None, '', '2023-03-02T15:54:17.139Z', 0, 'regular']\n",
      "measure 9 :  [1677772457139, None, '', '2023-03-02T15:54:17.139Z', 0, 'movement_level']\n",
      "measure 10 :  [1677772457139, None, '', '2023-03-02T15:54:17.139Z', 0, 'posture_tilt']\n",
      "measure 11 :  [1677772457139, 'jzp://coo#ffffffff00000500.0000', 'dB', '2023-03-02T15:54:17.139Z', -92, 'rssi']\n",
      "measure 12 :  [1677772457139, None, '', '2023-03-02T15:54:17.139Z', 0, 'position']\n",
      "measure 13 :  [1677772457139, None, 'kg/m³', '2023-03-02T15:54:17.139Z', 0, 'absolute_humidity']\n",
      "measure 14 :  [1677772457139, 'jzp://coo#ffffffff00000500.0000', '', '2023-03-02T15:54:17.139Z', 1, 'coordinator']\n",
      "measure 15 :  [1677772457140, None, 'Pa', '2023-03-02T15:54:17.140Z', 78043, 'pressure']\n",
      "\n",
      "\n",
      "ref:  jzp://edv#0503.0000\n",
      "cuid:  4e301e19-053d-41a5-a4cb-8fe531014ef5\n",
      "t:  1677772469895\n",
      "tz:  2023-03-02T15:54:29.895Z\n",
      "cat:  0610\n",
      "sn:  141\n",
      "type:  presence\n",
      "uuid:  cc71be86-a973-4b36-a3f6-3ac7ee0093e0\n",
      "measure 1 :  [1677772469896, None, 'C', '2023-03-02T15:54:29.896Z', 21.5534, 'device_temperature']\n",
      "measure 2 :  [1677772469896, None, 'V', '2023-03-02T15:54:29.896Z', 3.3515, 'battery_level']\n",
      "measure 3 :  [1677772469896, 'jzp://coo#ffffffff00000500.0000', 'dB', '2023-03-02T15:54:29.896Z', -13.063, 'rssi']\n",
      "measure 4 :  [1677772469896, None, '', '2023-03-02T15:54:29.896Z', 1, 'presence']\n",
      "measure 5 :  [1677772469897, 'jzp://coo#ffffffff00000500.0000', '', '2023-03-02T15:54:29.897Z', 1, 'coordinator']\n",
      "\n",
      "\n",
      "ref:  jzp://edv#0502.0000\n",
      "cuid:  c92b4581-23d9-43ad-9fa7-3589493ecddb\n",
      "t:  1677772472253\n",
      "tz:  2023-03-02T15:54:32.254Z\n",
      "cat:  0631\n",
      "sn:  185\n",
      "type:  gasmeter\n",
      "uuid:  2ef5be7d-3c0f-4589-b1c4-6c25c1384d30\n",
      "measure 1 :  [1677772472254, 'jzp://coo#ffffffff000004ff.0000', '', '2023-03-02T15:54:32.254Z', 1.0, 'coordinator']\n",
      "measure 2 :  [1677772472254, None, '', '2023-03-02T15:54:32.254Z', 300.8363, 'ppm']\n",
      "measure 3 :  [1677772472254, 'jzp://coo#ffffffff000004ff.0000', 'dB', '2023-03-02T15:54:32.254Z', -11.4339, 'rssi']\n",
      "measure 4 :  [1677772472255, None, '℃', '2023-03-02T15:54:32.255Z', 12, 'device_temperature']\n",
      "measure 5 :  [1677772472255, None, 'V', '2023-03-02T15:54:32.255Z', 3, 'battery_level']\n",
      "\n",
      "\n",
      "ref:  jzp://edv#0501.0000\n",
      "cuid:  a40fd1cb-2668-4fd2-b12b-7b4be26b02fa\n",
      "t:  1677772475614\n",
      "tz:  2023-03-02T15:54:35.614Z\n",
      "cat:  0620\n",
      "sn:  144\n",
      "type:  luxmeter\n",
      "uuid:  02013d2b-0fa9-425c-a99a-c2ce51c7cd79\n",
      "measure 1 :  [1677772475615, None, '℃', '2023-03-02T15:54:35.615Z', 25.9637, 'device_temperature']\n",
      "measure 2 :  [1677772475615, None, 'V', '2023-03-02T15:54:35.615Z', 3.361, 'battery_level']\n",
      "measure 3 :  [1677772475615, None, '', '2023-03-02T15:54:35.615Z', 0.0, 'orientation']\n",
      "measure 4 :  [1677772475615, None, '', '2023-03-02T15:54:35.615Z', 0, 'back_front']\n",
      "measure 5 :  [1677772475615, None, '', '2023-03-02T15:54:35.615Z', 0, 'regular']\n",
      "measure 6 :  [1677772475615, None, '', '2023-03-02T15:54:35.615Z', 0, 'movement_level']\n",
      "measure 7 :  [1677772475615, None, '', '2023-03-02T15:54:35.615Z', 0, 'posture_tilt']\n",
      "measure 8 :  [1677772475615, 'jzp://coo#ffffffff00000500.0000', 'dB', '2023-03-02T15:54:35.615Z', -115, 'rssi']\n",
      "measure 9 :  [1677772475616, None, '', '2023-03-02T15:54:35.616Z', 0, 'position']\n",
      "measure 10 :  [1677772475616, None, '', '2023-03-02T15:54:35.616Z', 37, 'adc_channel_00']\n",
      "measure 11 :  [1677772475616, None, 'lx', '2023-03-02T15:54:35.616Z', 592, 'illuminance']\n",
      "measure 12 :  [1677772475616, 'jzp://coo#ffffffff00000500.0000', '', '2023-03-02T15:54:35.616Z', 1, 'coordinator']\n",
      "measure 13 :  [1677772475616, None, 'Pa', '2023-03-02T15:54:35.616Z', 50035, 'pressure']\n",
      "measure 14 :  [1677772475616, None, '', '2023-03-02T15:54:35.616Z', 0, 'adc_channel_01']\n",
      "\n",
      "\n",
      "ref:  jzp://edv#0504.0000\n",
      "cuid:  5d047e40-a71b-4254-a313-273d275bf51d\n",
      "t:  1677772479288\n",
      "tz:  2023-03-02T15:54:39.288Z\n",
      "cat:  0600\n",
      "sn:  105\n",
      "type:  environmental\n",
      "uuid:  a703abaa-7c3d-40ac-a891-75014a9f4547\n",
      "measure 1 :  [1677772479288, None, '℃', '2023-03-02T15:54:39.288Z', 29.0599, 'device_temperature']\n",
      "measure 2 :  [1677772479289, None, 'V', '2023-03-02T15:54:39.289Z', 3.4467, 'battery_level']\n",
      "measure 3 :  [1677772479289, None, '℃', '2023-03-02T15:54:39.289Z', 16.4502, 'dew_point']\n",
      "measure 4 :  [1677772479289, None, '%', '2023-03-02T15:54:39.289Z', 20, 'relative_humidity']\n",
      "measure 5 :  [1677772479289, None, '', '2023-03-02T15:54:39.289Z', 0, 'orientation']\n",
      "measure 6 :  [1677772479289, None, '℃', '2023-03-02T15:54:39.289Z', 4, 'environmental_temperature']\n",
      "measure 7 :  [1677772479289, None, '', '2023-03-02T15:54:39.289Z', 0, 'back_front']\n",
      "measure 8 :  [1677772479289, None, '', '2023-03-02T15:54:39.289Z', 0, 'regular']\n",
      "measure 9 :  [1677772479289, None, '', '2023-03-02T15:54:39.289Z', 0, 'movement_level']\n",
      "measure 10 :  [1677772479289, None, '', '2023-03-02T15:54:39.289Z', 0, 'posture_tilt']\n",
      "measure 11 :  [1677772479289, 'jzp://coo#ffffffff00000500.0000', 'dB', '2023-03-02T15:54:39.289Z', -92, 'rssi']\n",
      "measure 12 :  [1677772479289, None, '', '2023-03-02T15:54:39.289Z', 0, 'position']\n",
      "measure 13 :  [1677772479289, None, 'kg/m³', '2023-03-02T15:54:39.289Z', 0, 'absolute_humidity']\n",
      "measure 14 :  [1677772479290, 'jzp://coo#ffffffff00000500.0000', '', '2023-03-02T15:54:39.290Z', 1, 'coordinator']\n",
      "measure 15 :  [1677772479290, None, 'Pa', '2023-03-02T15:54:39.290Z', 90999, 'pressure']\n",
      "\n",
      "\n",
      "ref:  jzp://edv#0503.0000\n",
      "cuid:  b159dd4d-eb59-4a51-bc46-dee5295705cc\n",
      "t:  1677772495723\n",
      "tz:  2023-03-02T15:54:55.723Z\n",
      "cat:  0610\n",
      "sn:  193\n",
      "type:  presence\n",
      "uuid:  b405390c-98c8-4c68-8bdb-ac24bf76e458\n",
      "measure 1 :  [1677772495723, None, 'C', '2023-03-02T15:54:55.723Z', 31.2594, 'device_temperature']\n",
      "measure 2 :  [1677772495723, None, 'V', '2023-03-02T15:54:55.723Z', 3.5218, 'battery_level']\n",
      "measure 3 :  [1677772495723, 'jzp://coo#ffffffff00000500.0000', 'dB', '2023-03-02T15:54:55.723Z', -61.1245, 'rssi']\n",
      "measure 4 :  [1677772495723, None, '', '2023-03-02T15:54:55.723Z', 1, 'presence']\n",
      "measure 5 :  [1677772495723, 'jzp://coo#ffffffff00000500.0000', '', '2023-03-02T15:54:55.724Z', 1, 'coordinator']\n",
      "\n",
      "\n",
      "ref:  jzp://edv#0502.0000\n",
      "cuid:  38cf28f7-6692-4d9e-a443-242f96946d93\n",
      "t:  1677772497827\n",
      "tz:  2023-03-02T15:54:57.827Z\n",
      "cat:  0631\n",
      "sn:  74\n",
      "type:  gasmeter\n",
      "uuid:  dfc1b63b-1060-4c7b-a817-71fc3f60b6da\n",
      "measure 1 :  [1677772497827, 'jzp://coo#ffffffff000004ff.0000', '', '2023-03-02T15:54:57.827Z', 1.0, 'coordinator']\n",
      "measure 2 :  [1677772497827, None, '', '2023-03-02T15:54:57.827Z', 326.5474, 'ppm']\n",
      "measure 3 :  [1677772497828, 'jzp://coo#ffffffff000004ff.0000', 'dB', '2023-03-02T15:54:57.828Z', -107.4762, 'rssi']\n",
      "measure 4 :  [1677772497828, None, '℃', '2023-03-02T15:54:57.828Z', 7, 'device_temperature']\n",
      "measure 5 :  [1677772497828, None, 'V', '2023-03-02T15:54:57.828Z', 3, 'battery_level']\n",
      "\n",
      "\n",
      "ref:  jzp://edv#0501.0000\n",
      "cuid:  f0528735-3d68-427e-9ba4-6802af64c6e1\n",
      "t:  1677772501116\n",
      "tz:  2023-03-02T15:55:01.116Z\n",
      "cat:  0620\n",
      "sn:  135\n",
      "type:  luxmeter\n",
      "uuid:  bdd64d7b-252b-47e1-a84f-c98216e1f134\n",
      "measure 1 :  [1677772501117, None, '℃', '2023-03-02T15:55:01.117Z', 33.855, 'device_temperature']\n",
      "measure 2 :  [1677772501117, None, 'V', '2023-03-02T15:55:01.117Z', 3.3626, 'battery_level']\n",
      "measure 3 :  [1677772501117, None, '', '2023-03-02T15:55:01.117Z', 0.0, 'orientation']\n",
      "measure 4 :  [1677772501117, None, '', '2023-03-02T15:55:01.117Z', 0, 'back_front']\n",
      "measure 5 :  [1677772501117, None, '', '2023-03-02T15:55:01.117Z', 0, 'regular']\n",
      "measure 6 :  [1677772501117, None, '', '2023-03-02T15:55:01.117Z', 0, 'movement_level']\n",
      "measure 7 :  [1677772501117, None, '', '2023-03-02T15:55:01.117Z', 0, 'posture_tilt']\n",
      "measure 8 :  [1677772501117, 'jzp://coo#ffffffff00000500.0000', 'dB', '2023-03-02T15:55:01.117Z', -25, 'rssi']\n",
      "measure 9 :  [1677772501118, None, '', '2023-03-02T15:55:01.118Z', 0, 'position']\n",
      "measure 10 :  [1677772501118, None, '', '2023-03-02T15:55:01.118Z', 320, 'adc_channel_00']\n",
      "measure 11 :  [1677772501118, None, 'lx', '2023-03-02T15:55:01.118Z', 558, 'illuminance']\n",
      "measure 12 :  [1677772501118, 'jzp://coo#ffffffff00000500.0000', '', '2023-03-02T15:55:01.118Z', 1, 'coordinator']\n",
      "measure 13 :  [1677772501118, None, 'Pa', '2023-03-02T15:55:01.118Z', 57928, 'pressure']\n",
      "measure 14 :  [1677772501118, None, '', '2023-03-02T15:55:01.118Z', 0, 'adc_channel_01']\n",
      "\n",
      "\n",
      "ref:  jzp://edv#0504.0000\n",
      "cuid:  f67706cb-5c4b-43fb-8106-e7b5d772265e\n",
      "t:  1677772504037\n",
      "tz:  2023-03-02T15:55:04.037Z\n",
      "cat:  0600\n",
      "sn:  173\n",
      "type:  environmental\n",
      "uuid:  41b32808-a856-476e-b695-40176c2d2426\n",
      "measure 1 :  [1677772504037, None, '℃', '2023-03-02T15:55:04.037Z', 8.7354, 'device_temperature']\n",
      "measure 2 :  [1677772504037, None, 'V', '2023-03-02T15:55:04.037Z', 3.3647, 'battery_level']\n",
      "measure 3 :  [1677772504038, None, '℃', '2023-03-02T15:55:04.038Z', 13.8936, 'dew_point']\n",
      "measure 4 :  [1677772504038, None, '%', '2023-03-02T15:55:04.038Z', 62, 'relative_humidity']\n",
      "measure 5 :  [1677772504038, None, '', '2023-03-02T15:55:04.038Z', 0, 'orientation']\n",
      "measure 6 :  [1677772504038, None, '℃', '2023-03-02T15:55:04.038Z', 21, 'environmental_temperature']\n",
      "measure 7 :  [1677772504038, None, '', '2023-03-02T15:55:04.038Z', 0, 'back_front']\n",
      "measure 8 :  [1677772504038, None, '', '2023-03-02T15:55:04.038Z', 0, 'regular']\n",
      "measure 9 :  [1677772504038, None, '', '2023-03-02T15:55:04.038Z', 0, 'movement_level']\n",
      "measure 10 :  [1677772504038, None, '', '2023-03-02T15:55:04.038Z', 0, 'posture_tilt']\n",
      "measure 11 :  [1677772504038, 'jzp://coo#ffffffff00000500.0000', 'dB', '2023-03-02T15:55:04.038Z', -101, 'rssi']\n",
      "measure 12 :  [1677772504038, None, '', '2023-03-02T15:55:04.038Z', 0, 'position']\n",
      "measure 13 :  [1677772504038, None, 'kg/m³', '2023-03-02T15:55:04.038Z', 0, 'absolute_humidity']\n",
      "measure 14 :  [1677772504038, 'jzp://coo#ffffffff00000500.0000', '', '2023-03-02T15:55:04.038Z', 1, 'coordinator']\n",
      "measure 15 :  [1677772504038, None, 'Pa', '2023-03-02T15:55:04.038Z', 56288, 'pressure']\n",
      "\n",
      "\n",
      "ref:  jzp://edv#0503.0000\n",
      "cuid:  6972597d-4951-4aba-83aa-49eca5467b7b\n",
      "t:  1677772521844\n",
      "tz:  2023-03-02T15:55:21.844Z\n",
      "cat:  0610\n",
      "sn:  146\n",
      "type:  presence\n",
      "uuid:  50348e23-cc1c-4fc4-b7fb-14a931d20bac\n",
      "measure 1 :  [1677772521845, None, 'C', '2023-03-02T15:55:21.845Z', 11.5267, 'device_temperature']\n",
      "measure 2 :  [1677772521845, None, 'V', '2023-03-02T15:55:21.845Z', 3.4916, 'battery_level']\n",
      "measure 3 :  [1677772521845, 'jzp://coo#ffffffff00000500.0000', 'dB', '2023-03-02T15:55:21.845Z', -3.6958, 'rssi']\n",
      "measure 4 :  [1677772521845, None, '', '2023-03-02T15:55:21.845Z', 1, 'presence']\n",
      "measure 5 :  [1677772521845, 'jzp://coo#ffffffff00000500.0000', '', '2023-03-02T15:55:21.845Z', 1, 'coordinator']\n",
      "\n",
      "\n",
      "ref:  jzp://edv#0502.0000\n",
      "cuid:  30faefaa-dcc1-4b31-b850-c1e592a98270\n",
      "t:  1677772525624\n",
      "tz:  2023-03-02T15:55:25.624Z\n",
      "cat:  0631\n",
      "sn:  234\n",
      "type:  gasmeter\n",
      "uuid:  f7327f53-111d-434b-b1cc-9cdbe76046b7\n",
      "measure 1 :  [1677772525626, 'jzp://coo#ffffffff000004ff.0000', '', '2023-03-02T15:55:25.626Z', 1.0, 'coordinator']\n",
      "measure 2 :  [1677772525626, None, '', '2023-03-02T15:55:25.626Z', 372.4441, 'ppm']\n",
      "measure 3 :  [1677772525626, 'jzp://coo#ffffffff000004ff.0000', 'dB', '2023-03-02T15:55:25.626Z', -59.2199, 'rssi']\n",
      "measure 4 :  [1677772525626, None, '℃', '2023-03-02T15:55:25.626Z', 23, 'device_temperature']\n",
      "measure 5 :  [1677772525626, None, 'V', '2023-03-02T15:55:25.627Z', 3, 'battery_level']\n",
      "\n",
      "\n",
      "ref:  jzp://edv#0501.0000\n",
      "cuid:  02800fe7-6fb8-4284-a959-19ec63452527\n",
      "t:  1677772529358\n",
      "tz:  2023-03-02T15:55:29.358Z\n",
      "cat:  0620\n",
      "sn:  186\n",
      "type:  luxmeter\n",
      "uuid:  e170eb02-9d11-4462-a39c-e7a134a00f0f\n",
      "measure 1 :  [1677772529358, None, '℃', '2023-03-02T15:55:29.358Z', 24.8643, 'device_temperature']\n",
      "measure 2 :  [1677772529358, None, 'V', '2023-03-02T15:55:29.358Z', 3.3676, 'battery_level']\n",
      "measure 3 :  [1677772529358, None, '', '2023-03-02T15:55:29.358Z', 0.0, 'orientation']\n",
      "measure 4 :  [1677772529358, None, '', '2023-03-02T15:55:29.358Z', 0, 'back_front']\n",
      "measure 5 :  [1677772529358, None, '', '2023-03-02T15:55:29.358Z', 0, 'regular']\n",
      "measure 6 :  [1677772529358, None, '', '2023-03-02T15:55:29.358Z', 0, 'movement_level']\n",
      "measure 7 :  [1677772529358, None, '', '2023-03-02T15:55:29.358Z', 0, 'posture_tilt']\n",
      "measure 8 :  [1677772529358, 'jzp://coo#ffffffff00000500.0000', 'dB', '2023-03-02T15:55:29.358Z', -43, 'rssi']\n",
      "measure 9 :  [1677772529358, None, '', '2023-03-02T15:55:29.358Z', 0, 'position']\n",
      "measure 10 :  [1677772529358, None, '', '2023-03-02T15:55:29.358Z', 418, 'adc_channel_00']\n",
      "measure 11 :  [1677772529358, None, 'lx', '2023-03-02T15:55:29.358Z', 339, 'illuminance']\n",
      "measure 12 :  [1677772529358, 'jzp://coo#ffffffff00000500.0000', '', '2023-03-02T15:55:29.358Z', 1, 'coordinator']\n",
      "measure 13 :  [1677772529358, None, 'Pa', '2023-03-02T15:55:29.358Z', 83005, 'pressure']\n",
      "measure 14 :  [1677772529359, None, '', '2023-03-02T15:55:29.359Z', 0, 'adc_channel_01']\n",
      "\n",
      "\n",
      "ref:  jzp://edv#0504.0000\n",
      "cuid:  d98c2c6d-8114-45d3-be3c-a507722098a6\n",
      "t:  1677772533194\n",
      "tz:  2023-03-02T15:55:33.194Z\n",
      "cat:  0600\n",
      "sn:  237\n",
      "type:  environmental\n",
      "uuid:  0a1018e4-2d6f-4632-8bed-c105ae64a0bb\n",
      "measure 1 :  [1677772533194, None, '℃', '2023-03-02T15:55:33.194Z', 34.5169, 'device_temperature']\n",
      "measure 2 :  [1677772533194, None, 'V', '2023-03-02T15:55:33.194Z', 3.3374, 'battery_level']\n",
      "measure 3 :  [1677772533195, None, '℃', '2023-03-02T15:55:33.195Z', 18.7155, 'dew_point']\n",
      "measure 4 :  [1677772533195, None, '%', '2023-03-02T15:55:33.195Z', 59, 'relative_humidity']\n",
      "measure 5 :  [1677772533195, None, '', '2023-03-02T15:55:33.195Z', 0, 'orientation']\n",
      "measure 6 :  [1677772533195, None, '℃', '2023-03-02T15:55:33.195Z', 14, 'environmental_temperature']\n",
      "measure 7 :  [1677772533195, None, '', '2023-03-02T15:55:33.195Z', 0, 'back_front']\n",
      "measure 8 :  [1677772533195, None, '', '2023-03-02T15:55:33.195Z', 0, 'regular']\n",
      "measure 9 :  [1677772533195, None, '', '2023-03-02T15:55:33.195Z', 0, 'movement_level']\n",
      "measure 10 :  [1677772533195, None, '', '2023-03-02T15:55:33.195Z', 0, 'posture_tilt']\n",
      "measure 11 :  [1677772533195, 'jzp://coo#ffffffff00000500.0000', 'dB', '2023-03-02T15:55:33.195Z', -40, 'rssi']\n",
      "measure 12 :  [1677772533195, None, '', '2023-03-02T15:55:33.195Z', 0, 'position']\n",
      "measure 13 :  [1677772533195, None, 'kg/m³', '2023-03-02T15:55:33.195Z', 0, 'absolute_humidity']\n",
      "measure 14 :  [1677772533195, 'jzp://coo#ffffffff00000500.0000', '', '2023-03-02T15:55:33.196Z', 1, 'coordinator']\n",
      "measure 15 :  [1677772533196, None, 'Pa', '2023-03-02T15:55:33.196Z', 72967, 'pressure']\n",
      "\n",
      "\n",
      "ref:  jzp://edv#0503.0000\n",
      "cuid:  09918501-f064-4fe8-a232-b50192e4ef4d\n",
      "t:  1677772547221\n",
      "tz:  2023-03-02T15:55:47.221Z\n",
      "cat:  0610\n",
      "sn:  137\n",
      "type:  presence\n",
      "uuid:  736d1a87-6a64-4c83-9bb0-a5b5f41b06dc\n",
      "measure 1 :  [1677772547221, None, 'C', '2023-03-02T15:55:47.221Z', 15.5612, 'device_temperature']\n",
      "measure 2 :  [1677772547222, None, 'V', '2023-03-02T15:55:47.222Z', 3.3386, 'battery_level']\n",
      "measure 3 :  [1677772547222, 'jzp://coo#ffffffff00000500.0000', 'dB', '2023-03-02T15:55:47.222Z', -53.8389, 'rssi']\n",
      "measure 4 :  [1677772547222, None, '', '2023-03-02T15:55:47.222Z', 1, 'presence']\n",
      "measure 5 :  [1677772547222, 'jzp://coo#ffffffff00000500.0000', '', '2023-03-02T15:55:47.222Z', 1, 'coordinator']\n",
      "\n",
      "\n",
      "ref:  jzp://edv#0502.0000\n",
      "cuid:  9206776a-9edf-471f-8081-3de84c0632cd\n",
      "t:  1677772549756\n",
      "tz:  2023-03-02T15:55:49.756Z\n",
      "cat:  0631\n",
      "sn:  113\n",
      "type:  gasmeter\n",
      "uuid:  e01b1dc4-e222-466e-acb3-d9d766d3fb14\n",
      "measure 1 :  [1677772549756, 'jzp://coo#ffffffff000004ff.0000', '', '2023-03-02T15:55:49.756Z', 1.0, 'coordinator']\n",
      "measure 2 :  [1677772549756, None, '', '2023-03-02T15:55:49.756Z', 307.0886, 'ppm']\n",
      "measure 3 :  [1677772549757, 'jzp://coo#ffffffff000004ff.0000', 'dB', '2023-03-02T15:55:49.757Z', -72.8728, 'rssi']\n",
      "measure 4 :  [1677772549757, None, '℃', '2023-03-02T15:55:49.757Z', 10, 'device_temperature']\n",
      "measure 5 :  [1677772549757, None, 'V', '2023-03-02T15:55:49.757Z', 3, 'battery_level']\n",
      "\n",
      "\n",
      "ref:  jzp://edv#0501.0000\n",
      "cuid:  60f8c99a-b707-4003-971b-3700602f9eb9\n",
      "t:  1677772552851\n",
      "tz:  2023-03-02T15:55:52.851Z\n",
      "cat:  0620\n",
      "sn:  203\n",
      "type:  luxmeter\n",
      "uuid:  3692d528-280e-42e9-9ac9-f86789cdae8e\n",
      "measure 1 :  [1677772552851, None, '℃', '2023-03-02T15:55:52.851Z', 1.8968, 'device_temperature']\n",
      "measure 2 :  [1677772552852, None, 'V', '2023-03-02T15:55:52.852Z', 3.3163, 'battery_level']\n",
      "measure 3 :  [1677772552852, None, '', '2023-03-02T15:55:52.852Z', 0.0, 'orientation']\n",
      "measure 4 :  [1677772552852, None, '', '2023-03-02T15:55:52.852Z', 0, 'back_front']\n",
      "measure 5 :  [1677772552852, None, '', '2023-03-02T15:55:52.852Z', 0, 'regular']\n",
      "measure 6 :  [1677772552852, None, '', '2023-03-02T15:55:52.852Z', 0, 'movement_level']\n",
      "measure 7 :  [1677772552852, None, '', '2023-03-02T15:55:52.852Z', 0, 'posture_tilt']\n",
      "measure 8 :  [1677772552852, 'jzp://coo#ffffffff00000500.0000', 'dB', '2023-03-02T15:55:52.852Z', -24, 'rssi']\n",
      "measure 9 :  [1677772552852, None, '', '2023-03-02T15:55:52.852Z', 0, 'position']\n",
      "measure 10 :  [1677772552852, None, '', '2023-03-02T15:55:52.852Z', 176, 'adc_channel_00']\n",
      "measure 11 :  [1677772552853, None, 'lx', '2023-03-02T15:55:52.853Z', 394, 'illuminance']\n",
      "measure 12 :  [1677772552859, 'jzp://coo#ffffffff00000500.0000', '', '2023-03-02T15:55:52.859Z', 1, 'coordinator']\n",
      "measure 13 :  [1677772552859, None, 'Pa', '2023-03-02T15:55:52.859Z', 18038, 'pressure']\n",
      "measure 14 :  [1677772552859, None, '', '2023-03-02T15:55:52.859Z', 0, 'adc_channel_01']\n",
      "\n",
      "\n",
      "ref:  jzp://edv#0504.0000\n",
      "cuid:  0119b97a-20eb-492f-9cb8-41b5a77d7ff7\n",
      "t:  1677772555901\n",
      "tz:  2023-03-02T15:55:55.901Z\n",
      "cat:  0600\n",
      "sn:  28\n",
      "type:  environmental\n",
      "uuid:  56022495-8534-4e48-ba50-97fb4a30a517\n",
      "measure 1 :  [1677772555901, None, '℃', '2023-03-02T15:55:55.902Z', 28.8664, 'device_temperature']\n",
      "measure 2 :  [1677772555902, None, 'V', '2023-03-02T15:55:55.902Z', 3.4192, 'battery_level']\n",
      "measure 3 :  [1677772555902, None, '℃', '2023-03-02T15:55:55.902Z', 23.6907, 'dew_point']\n",
      "measure 4 :  [1677772555902, None, '%', '2023-03-02T15:55:55.902Z', 23, 'relative_humidity']\n",
      "measure 5 :  [1677772555902, None, '', '2023-03-02T15:55:55.902Z', 0, 'orientation']\n",
      "measure 6 :  [1677772555902, None, '℃', '2023-03-02T15:55:55.902Z', 2, 'environmental_temperature']\n",
      "measure 7 :  [1677772555902, None, '', '2023-03-02T15:55:55.902Z', 0, 'back_front']\n",
      "measure 8 :  [1677772555902, None, '', '2023-03-02T15:55:55.902Z', 0, 'regular']\n",
      "measure 9 :  [1677772555902, None, '', '2023-03-02T15:55:55.902Z', 0, 'movement_level']\n",
      "measure 10 :  [1677772555902, None, '', '2023-03-02T15:55:55.902Z', 0, 'posture_tilt']\n",
      "measure 11 :  [1677772555902, 'jzp://coo#ffffffff00000500.0000', 'dB', '2023-03-02T15:55:55.902Z', -101, 'rssi']\n",
      "measure 12 :  [1677772555902, None, '', '2023-03-02T15:55:55.902Z', 0, 'position']\n",
      "measure 13 :  [1677772555902, None, 'kg/m³', '2023-03-02T15:55:55.902Z', 0, 'absolute_humidity']\n",
      "measure 14 :  [1677772555903, 'jzp://coo#ffffffff00000500.0000', '', '2023-03-02T15:55:55.903Z', 1, 'coordinator']\n",
      "measure 15 :  [1677772555903, None, 'Pa', '2023-03-02T15:55:55.903Z', 79198, 'pressure']\n",
      "\n",
      "\n",
      "ref:  jzp://edv#0503.0000\n",
      "cuid:  252a839b-441d-4dfb-9f25-56ecb35975e5\n",
      "t:  1677772567042\n",
      "tz:  2023-03-02T15:56:07.042Z\n",
      "cat:  0610\n",
      "sn:  221\n",
      "type:  presence\n",
      "uuid:  00c37804-5489-4cbc-b513-a50f59f03623\n",
      "measure 1 :  [1677772567042, None, 'C', '2023-03-02T15:56:07.042Z', 15.964, 'device_temperature']\n",
      "measure 2 :  [1677772567042, None, 'V', '2023-03-02T15:56:07.042Z', 3.4768, 'battery_level']\n",
      "measure 3 :  [1677772567042, 'jzp://coo#ffffffff00000500.0000', 'dB', '2023-03-02T15:56:07.042Z', -103.0463, 'rssi']\n",
      "measure 4 :  [1677772567042, None, '', '2023-03-02T15:56:07.042Z', 0, 'presence']\n",
      "measure 5 :  [1677772567042, 'jzp://coo#ffffffff00000500.0000', '', '2023-03-02T15:56:07.042Z', 1, 'coordinator']\n",
      "\n",
      "\n",
      "ref:  jzp://edv#0502.0000\n",
      "cuid:  37855a1f-fbc1-45fd-95af-99521a5079c0\n",
      "t:  1677772569814\n",
      "tz:  2023-03-02T15:56:09.814Z\n",
      "cat:  0631\n",
      "sn:  107\n",
      "type:  gasmeter\n",
      "uuid:  cc21fb4b-6dd8-4f93-96e8-1e34fd381078\n",
      "measure 1 :  [1677772569815, 'jzp://coo#ffffffff000004ff.0000', '', '2023-03-02T15:56:09.815Z', 1.0, 'coordinator']\n",
      "measure 2 :  [1677772569815, None, '', '2023-03-02T15:56:09.815Z', 354.5664, 'ppm']\n",
      "measure 3 :  [1677772569815, 'jzp://coo#ffffffff000004ff.0000', 'dB', '2023-03-02T15:56:09.815Z', -91.1416, 'rssi']\n",
      "measure 4 :  [1677772569815, None, '℃', '2023-03-02T15:56:09.815Z', 24, 'device_temperature']\n",
      "measure 5 :  [1677772569815, None, 'V', '2023-03-02T15:56:09.815Z', 3, 'battery_level']\n",
      "\n",
      "\n",
      "ref:  jzp://edv#0501.0000\n",
      "cuid:  502e35ec-857e-4133-84d1-913d82a507f7\n",
      "t:  1677772572430\n",
      "tz:  2023-03-02T15:56:12.430Z\n",
      "cat:  0620\n",
      "sn:  192\n",
      "type:  luxmeter\n",
      "uuid:  5ee9b03d-c652-440e-8b37-3684a75db1fe\n",
      "measure 1 :  [1677772572431, None, '℃', '2023-03-02T15:56:12.431Z', 39.6547, 'device_temperature']\n",
      "measure 2 :  [1677772572432, None, 'V', '2023-03-02T15:56:12.432Z', 3.3219, 'battery_level']\n",
      "measure 3 :  [1677772572432, None, '', '2023-03-02T15:56:12.432Z', 0.0, 'orientation']\n",
      "measure 4 :  [1677772572432, None, '', '2023-03-02T15:56:12.432Z', 0, 'back_front']\n",
      "measure 5 :  [1677772572432, None, '', '2023-03-02T15:56:12.432Z', 0, 'regular']\n",
      "measure 6 :  [1677772572432, None, '', '2023-03-02T15:56:12.432Z', 0, 'movement_level']\n",
      "measure 7 :  [1677772572432, None, '', '2023-03-02T15:56:12.432Z', 0, 'posture_tilt']\n",
      "measure 8 :  [1677772572432, 'jzp://coo#ffffffff00000500.0000', 'dB', '2023-03-02T15:56:12.432Z', -46, 'rssi']\n",
      "measure 9 :  [1677772572432, None, '', '2023-03-02T15:56:12.432Z', 0, 'position']\n",
      "measure 10 :  [1677772572432, None, '', '2023-03-02T15:56:12.432Z', 515, 'adc_channel_00']\n",
      "measure 11 :  [1677772572432, None, 'lx', '2023-03-02T15:56:12.433Z', 16, 'illuminance']\n",
      "measure 12 :  [1677772572433, 'jzp://coo#ffffffff00000500.0000', '', '2023-03-02T15:56:12.433Z', 1, 'coordinator']\n",
      "measure 13 :  [1677772572433, None, 'Pa', '2023-03-02T15:56:12.433Z', 26160, 'pressure']\n",
      "measure 14 :  [1677772572433, None, '', '2023-03-02T15:56:12.433Z', 0, 'adc_channel_01']\n",
      "\n",
      "\n",
      "ref:  jzp://edv#0504.0000\n",
      "cuid:  a2d3cdf0-38eb-400d-a052-0f63c2adc072\n",
      "t:  1677772574940\n",
      "tz:  2023-03-02T15:56:14.940Z\n",
      "cat:  0600\n",
      "sn:  43\n",
      "type:  environmental\n",
      "uuid:  31984afa-5792-4d1a-9d49-669438fd8de4\n",
      "measure 1 :  [1677772574940, None, '℃', '2023-03-02T15:56:14.940Z', 23.149, 'device_temperature']\n",
      "measure 2 :  [1677772574941, None, 'V', '2023-03-02T15:56:14.941Z', 3.3466, 'battery_level']\n",
      "measure 3 :  [1677772574941, None, '℃', '2023-03-02T15:56:14.941Z', 23.5207, 'dew_point']\n",
      "measure 4 :  [1677772574941, None, '%', '2023-03-02T15:56:14.941Z', 40, 'relative_humidity']\n",
      "measure 5 :  [1677772574941, None, '', '2023-03-02T15:56:14.941Z', 0, 'orientation']\n",
      "measure 6 :  [1677772574941, None, '℃', '2023-03-02T15:56:14.941Z', 23, 'environmental_temperature']\n",
      "measure 7 :  [1677772574941, None, '', '2023-03-02T15:56:14.941Z', 0, 'back_front']\n",
      "measure 8 :  [1677772574941, None, '', '2023-03-02T15:56:14.941Z', 0, 'regular']\n",
      "measure 9 :  [1677772574941, None, '', '2023-03-02T15:56:14.941Z', 0, 'movement_level']\n",
      "measure 10 :  [1677772574941, None, '', '2023-03-02T15:56:14.941Z', 0, 'posture_tilt']\n",
      "measure 11 :  [1677772574941, 'jzp://coo#ffffffff00000500.0000', 'dB', '2023-03-02T15:56:14.941Z', -13, 'rssi']\n",
      "measure 12 :  [1677772574941, None, '', '2023-03-02T15:56:14.941Z', 0, 'position']\n",
      "measure 13 :  [1677772574941, None, 'kg/m³', '2023-03-02T15:56:14.941Z', 0, 'absolute_humidity']\n",
      "measure 14 :  [1677772574941, 'jzp://coo#ffffffff00000500.0000', '', '2023-03-02T15:56:14.941Z', 1, 'coordinator']\n",
      "measure 15 :  [1677772574941, None, 'Pa', '2023-03-02T15:56:14.941Z', 58268, 'pressure']\n",
      "\n",
      "\n",
      "ref:  jzp://edv#0503.0000\n",
      "cuid:  86fb92a3-fbbb-412f-beaf-d5c5b3749c0c\n",
      "t:  1677772589761\n",
      "tz:  2023-03-02T15:56:29.761Z\n",
      "cat:  0610\n",
      "sn:  14\n",
      "type:  presence\n",
      "uuid:  fc566e21-5600-4208-9a0f-ea6ed3886cd5\n",
      "measure 1 :  [1677772589761, None, 'C', '2023-03-02T15:56:29.761Z', 9.0004, 'device_temperature']\n",
      "measure 2 :  [1677772589762, None, 'V', '2023-03-02T15:56:29.762Z', 3.2748, 'battery_level']\n",
      "measure 3 :  [1677772589762, 'jzp://coo#ffffffff00000500.0000', 'dB', '2023-03-02T15:56:29.762Z', -98.0606, 'rssi']\n",
      "measure 4 :  [1677772589762, None, '', '2023-03-02T15:56:29.762Z', 0, 'presence']\n",
      "measure 5 :  [1677772589762, 'jzp://coo#ffffffff00000500.0000', '', '2023-03-02T15:56:29.762Z', 1, 'coordinator']\n",
      "\n",
      "\n",
      "ref:  jzp://edv#0502.0000\n",
      "cuid:  6727d9e6-a9aa-477e-a4da-56a9186368df\n",
      "t:  1677772592929\n",
      "tz:  2023-03-02T15:56:32.929Z\n",
      "cat:  0631\n",
      "sn:  116\n",
      "type:  gasmeter\n",
      "uuid:  3dd9beef-afb4-49ab-885e-49995303019d\n",
      "measure 1 :  [1677772592929, 'jzp://coo#ffffffff000004ff.0000', '', '2023-03-02T15:56:32.929Z', 1.0, 'coordinator']\n",
      "measure 2 :  [1677772592929, None, '', '2023-03-02T15:56:32.929Z', 383.4025, 'ppm']\n",
      "measure 3 :  [1677772592929, 'jzp://coo#ffffffff000004ff.0000', 'dB', '2023-03-02T15:56:32.929Z', -100.9739, 'rssi']\n",
      "measure 4 :  [1677772592930, None, '℃', '2023-03-02T15:56:32.930Z', 27, 'device_temperature']\n",
      "measure 5 :  [1677772592930, None, 'V', '2023-03-02T15:56:32.930Z', 3, 'battery_level']\n",
      "\n",
      "\n",
      "ref:  jzp://edv#0501.0000\n",
      "cuid:  c7d5d787-ac50-46ea-a680-d46293a5b79b\n",
      "t:  1677772595897\n",
      "tz:  2023-03-02T15:56:35.897Z\n",
      "cat:  0620\n",
      "sn:  27\n",
      "type:  luxmeter\n",
      "uuid:  ffbd249d-0610-4ae2-8df1-c20f2209406d\n",
      "measure 1 :  [1677772595898, None, '℃', '2023-03-02T15:56:35.898Z', 0.6961, 'device_temperature']\n",
      "measure 2 :  [1677772595898, None, 'V', '2023-03-02T15:56:35.898Z', 3.3796, 'battery_level']\n",
      "measure 3 :  [1677772595898, None, '', '2023-03-02T15:56:35.898Z', 0.0, 'orientation']\n",
      "measure 4 :  [1677772595898, None, '', '2023-03-02T15:56:35.898Z', 0, 'back_front']\n",
      "measure 5 :  [1677772595898, None, '', '2023-03-02T15:56:35.898Z', 0, 'regular']\n",
      "measure 6 :  [1677772595898, None, '', '2023-03-02T15:56:35.898Z', 0, 'movement_level']\n",
      "measure 7 :  [1677772595898, None, '', '2023-03-02T15:56:35.898Z', 0, 'posture_tilt']\n",
      "measure 8 :  [1677772595898, 'jzp://coo#ffffffff00000500.0000', 'dB', '2023-03-02T15:56:35.898Z', -61, 'rssi']\n",
      "measure 9 :  [1677772595898, None, '', '2023-03-02T15:56:35.898Z', 0, 'position']\n",
      "measure 10 :  [1677772595898, None, '', '2023-03-02T15:56:35.898Z', 282, 'adc_channel_00']\n",
      "measure 11 :  [1677772595898, None, 'lx', '2023-03-02T15:56:35.898Z', 21, 'illuminance']\n",
      "measure 12 :  [1677772595898, 'jzp://coo#ffffffff00000500.0000', '', '2023-03-02T15:56:35.898Z', 1, 'coordinator']\n",
      "measure 13 :  [1677772595898, None, 'Pa', '2023-03-02T15:56:35.898Z', 48430, 'pressure']\n",
      "measure 14 :  [1677772595898, None, '', '2023-03-02T15:56:35.898Z', 0, 'adc_channel_01']\n",
      "\n",
      "\n",
      "ref:  jzp://edv#0504.0000\n",
      "cuid:  d578b1f2-2b6b-42c6-a5fe-e55979a52709\n",
      "t:  1677772599789\n",
      "tz:  2023-03-02T15:56:39.789Z\n",
      "cat:  0600\n",
      "sn:  19\n",
      "type:  environmental\n",
      "uuid:  5a42d83f-2d35-4f5f-98b7-4c5520a22433\n",
      "measure 1 :  [1677772599789, None, '℃', '2023-03-02T15:56:39.789Z', 24.6485, 'device_temperature']\n",
      "measure 2 :  [1677772599789, None, 'V', '2023-03-02T15:56:39.789Z', 3.5557, 'battery_level']\n",
      "measure 3 :  [1677772599789, None, '℃', '2023-03-02T15:56:39.789Z', 16.026, 'dew_point']\n",
      "measure 4 :  [1677772599789, None, '%', '2023-03-02T15:56:39.789Z', 76, 'relative_humidity']\n",
      "measure 5 :  [1677772599790, None, '', '2023-03-02T15:56:39.790Z', 0, 'orientation']\n",
      "measure 6 :  [1677772599790, None, '℃', '2023-03-02T15:56:39.790Z', 33, 'environmental_temperature']\n",
      "measure 7 :  [1677772599791, None, '', '2023-03-02T15:56:39.791Z', 0, 'back_front']\n",
      "measure 8 :  [1677772599791, None, '', '2023-03-02T15:56:39.791Z', 0, 'regular']\n",
      "measure 9 :  [1677772599791, None, '', '2023-03-02T15:56:39.791Z', 0, 'movement_level']\n",
      "measure 10 :  [1677772599791, None, '', '2023-03-02T15:56:39.791Z', 0, 'posture_tilt']\n",
      "measure 11 :  [1677772599791, 'jzp://coo#ffffffff00000500.0000', 'dB', '2023-03-02T15:56:39.791Z', -9, 'rssi']\n",
      "measure 12 :  [1677772599791, None, '', '2023-03-02T15:56:39.791Z', 0, 'position']\n",
      "measure 13 :  [1677772599791, None, 'kg/m³', '2023-03-02T15:56:39.791Z', 0, 'absolute_humidity']\n",
      "measure 14 :  [1677772599791, 'jzp://coo#ffffffff00000500.0000', '', '2023-03-02T15:56:39.791Z', 1, 'coordinator']\n",
      "measure 15 :  [1677772599791, None, 'Pa', '2023-03-02T15:56:39.791Z', 28715, 'pressure']\n",
      "\n",
      "\n",
      "ref:  jzp://edv#0503.0000\n",
      "cuid:  6d4cc622-5288-44c4-9f27-29dc12f8947d\n",
      "t:  1677830588257\n",
      "tz:  2023-03-03T08:03:08.257Z\n",
      "cat:  0610\n",
      "sn:  192\n",
      "type:  presence\n",
      "uuid:  6dffa1bf-b4dc-41d8-8903-f2270e2778d8\n",
      "measure 1 :  [1677830588257, None, 'C', '2023-03-03T08:03:08.257Z', 10.7521, 'device_temperature']\n",
      "measure 2 :  [1677830588258, None, 'V', '2023-03-03T08:03:08.258Z', 3.4403, 'battery_level']\n",
      "measure 3 :  [1677830588260, 'jzp://coo#ffffffff00000500.0000', 'dB', '2023-03-03T08:03:08.260Z', -44.6074, 'rssi']\n",
      "measure 4 :  [1677830588260, None, '', '2023-03-03T08:03:08.260Z', 0, 'presence']\n",
      "measure 5 :  [1677830588261, 'jzp://coo#ffffffff00000500.0000', '', '2023-03-03T08:03:08.261Z', 1, 'coordinator']\n",
      "\n",
      "\n",
      "ref:  jzp://edv#0502.0000\n",
      "cuid:  c2c2e9df-e5eb-4c8e-a289-a192d13c6c35\n",
      "t:  1677830591236\n",
      "tz:  2023-03-03T08:03:11.236Z\n",
      "cat:  0631\n",
      "sn:  238\n",
      "type:  gasmeter\n",
      "uuid:  26905b41-8394-4dd0-a302-3f1cd1dda116\n",
      "measure 1 :  [1677830591236, 'jzp://coo#ffffffff000004ff.0000', '', '2023-03-03T08:03:11.236Z', 1.0, 'coordinator']\n",
      "measure 2 :  [1677830591236, None, '', '2023-03-03T08:03:11.236Z', 389.4938, 'ppm']\n",
      "measure 3 :  [1677830591236, 'jzp://coo#ffffffff000004ff.0000', 'dB', '2023-03-03T08:03:11.236Z', -71.7957, 'rssi']\n",
      "measure 4 :  [1677830591236, None, '℃', '2023-03-03T08:03:11.236Z', 24, 'device_temperature']\n",
      "measure 5 :  [1677830591237, None, 'V', '2023-03-03T08:03:11.237Z', 3, 'battery_level']\n",
      "\n",
      "\n",
      "ref:  jzp://edv#0501.0000\n",
      "cuid:  e86118ad-2eb5-4a20-acfc-2c29a9408f15\n",
      "t:  1677830594557\n",
      "tz:  2023-03-03T08:03:14.557Z\n",
      "cat:  0620\n",
      "sn:  226\n",
      "type:  luxmeter\n",
      "uuid:  c6ddd423-7f84-470a-9293-94d5999e7455\n",
      "measure 1 :  [1677830594558, None, '℃', '2023-03-03T08:03:14.558Z', 37.083, 'device_temperature']\n",
      "measure 2 :  [1677830594558, None, 'V', '2023-03-03T08:03:14.558Z', 3.314, 'battery_level']\n",
      "measure 3 :  [1677830594558, None, '', '2023-03-03T08:03:14.558Z', 0.0, 'orientation']\n",
      "measure 4 :  [1677830594558, None, '', '2023-03-03T08:03:14.558Z', 0, 'back_front']\n",
      "measure 5 :  [1677830594558, None, '', '2023-03-03T08:03:14.558Z', 0, 'regular']\n",
      "measure 6 :  [1677830594559, None, '', '2023-03-03T08:03:14.559Z', 0, 'movement_level']\n",
      "measure 7 :  [1677830594559, None, '', '2023-03-03T08:03:14.559Z', 0, 'posture_tilt']\n",
      "measure 8 :  [1677830594559, 'jzp://coo#ffffffff00000500.0000', 'dB', '2023-03-03T08:03:14.559Z', -105, 'rssi']\n",
      "measure 9 :  [1677830594560, None, '', '2023-03-03T08:03:14.560Z', 0, 'position']\n",
      "measure 10 :  [1677830594560, None, '', '2023-03-03T08:03:14.560Z', 134, 'adc_channel_00']\n",
      "measure 11 :  [1677830594560, None, 'lx', '2023-03-03T08:03:14.560Z', 45, 'illuminance']\n",
      "measure 12 :  [1677830594560, 'jzp://coo#ffffffff00000500.0000', '', '2023-03-03T08:03:14.560Z', 1, 'coordinator']\n",
      "measure 13 :  [1677830594560, None, 'Pa', '2023-03-03T08:03:14.560Z', 63908, 'pressure']\n",
      "measure 14 :  [1677830594561, None, '', '2023-03-03T08:03:14.561Z', 0, 'adc_channel_01']\n",
      "\n",
      "\n",
      "ref:  jzp://edv#0504.0000\n",
      "cuid:  36d0f961-520a-43b8-966b-00c00ab901c2\n",
      "t:  1677830597551\n",
      "tz:  2023-03-03T08:03:17.551Z\n",
      "cat:  0600\n",
      "sn:  1\n",
      "type:  environmental\n",
      "uuid:  bcd1aa1c-a9e0-4a45-904b-7091e99cca33\n",
      "measure 1 :  [1677830597551, None, '℃', '2023-03-03T08:03:17.551Z', 7.6129, 'device_temperature']\n",
      "measure 2 :  [1677830597551, None, 'V', '2023-03-03T08:03:17.551Z', 3.4375, 'battery_level']\n",
      "measure 3 :  [1677830597551, None, '℃', '2023-03-03T08:03:17.551Z', 15.6497, 'dew_point']\n",
      "measure 4 :  [1677830597552, None, '%', '2023-03-03T08:03:17.552Z', 22, 'relative_humidity']\n",
      "measure 5 :  [1677830597552, None, '', '2023-03-03T08:03:17.552Z', 0, 'orientation']\n",
      "measure 6 :  [1677830597552, None, '℃', '2023-03-03T08:03:17.552Z', 10, 'environmental_temperature']\n",
      "measure 7 :  [1677830597552, None, '', '2023-03-03T08:03:17.552Z', 0, 'back_front']\n",
      "measure 8 :  [1677830597552, None, '', '2023-03-03T08:03:17.552Z', 0, 'regular']\n",
      "measure 9 :  [1677830597552, None, '', '2023-03-03T08:03:17.552Z', 0, 'movement_level']\n",
      "measure 10 :  [1677830597552, None, '', '2023-03-03T08:03:17.552Z', 0, 'posture_tilt']\n",
      "measure 11 :  [1677830597552, 'jzp://coo#ffffffff00000500.0000', 'dB', '2023-03-03T08:03:17.552Z', -44, 'rssi']\n",
      "measure 12 :  [1677830597552, None, '', '2023-03-03T08:03:17.552Z', 0, 'position']\n",
      "measure 13 :  [1677830597552, None, 'kg/m³', '2023-03-03T08:03:17.553Z', 0, 'absolute_humidity']\n",
      "measure 14 :  [1677830597553, 'jzp://coo#ffffffff00000500.0000', '', '2023-03-03T08:03:17.553Z', 1, 'coordinator']\n",
      "measure 15 :  [1677830597553, None, 'Pa', '2023-03-03T08:03:17.553Z', 65752, 'pressure']\n",
      "\n",
      "\n",
      "ref:  jzp://edv#0503.0000\n",
      "cuid:  c2b16835-d4b2-45f8-9bd0-bab70d7504bc\n",
      "t:  1677830612189\n",
      "tz:  2023-03-03T08:03:32.189Z\n",
      "cat:  0610\n",
      "sn:  180\n",
      "type:  presence\n",
      "uuid:  2209b5e5-7401-4608-b972-eaf577852b69\n",
      "measure 1 :  [1677830612190, None, 'C', '2023-03-03T08:03:32.190Z', 17.0198, 'device_temperature']\n",
      "measure 2 :  [1677830612190, None, 'V', '2023-03-03T08:03:32.190Z', 3.4361, 'battery_level']\n",
      "measure 3 :  [1677830612190, 'jzp://coo#ffffffff00000500.0000', 'dB', '2023-03-03T08:03:32.190Z', -111.1153, 'rssi']\n",
      "measure 4 :  [1677830612190, None, '', '2023-03-03T08:03:32.190Z', 0, 'presence']\n",
      "measure 5 :  [1677830612190, 'jzp://coo#ffffffff00000500.0000', '', '2023-03-03T08:03:32.190Z', 1, 'coordinator']\n",
      "\n",
      "\n",
      "ref:  jzp://edv#0502.0000\n",
      "cuid:  6f6b4736-87a4-4ca8-a26d-d6508352177b\n",
      "t:  1677830614714\n",
      "tz:  2023-03-03T08:03:34.714Z\n",
      "cat:  0631\n",
      "sn:  151\n",
      "type:  gasmeter\n",
      "uuid:  327bbf8a-6788-45b3-9564-8401615b383b\n",
      "measure 1 :  [1677830614714, 'jzp://coo#ffffffff000004ff.0000', '', '2023-03-03T08:03:34.714Z', 1.0, 'coordinator']\n",
      "measure 2 :  [1677830614714, None, '', '2023-03-03T08:03:34.714Z', 342.0979, 'ppm']\n",
      "measure 3 :  [1677830614714, 'jzp://coo#ffffffff000004ff.0000', 'dB', '2023-03-03T08:03:34.714Z', -56.2107, 'rssi']\n",
      "measure 4 :  [1677830614715, None, '℃', '2023-03-03T08:03:34.715Z', 20, 'device_temperature']\n",
      "measure 5 :  [1677830614715, None, 'V', '2023-03-03T08:03:34.715Z', 3, 'battery_level']\n",
      "\n",
      "\n",
      "ref:  jzp://edv#0501.0000\n",
      "cuid:  78f5da5c-f313-4aff-bfee-1f3e2b4704a6\n",
      "t:  1677830617252\n",
      "tz:  2023-03-03T08:03:37.252Z\n",
      "cat:  0620\n",
      "sn:  98\n",
      "type:  luxmeter\n",
      "uuid:  b91d382c-7b5a-42c3-bc52-952b6a85fd3d\n",
      "measure 1 :  [1677830617253, None, '℃', '2023-03-03T08:03:37.253Z', 29.1575, 'device_temperature']\n",
      "measure 2 :  [1677830617253, None, 'V', '2023-03-03T08:03:37.253Z', 3.3099, 'battery_level']\n",
      "measure 3 :  [1677830617253, None, '', '2023-03-03T08:03:37.253Z', 0.0, 'orientation']\n",
      "measure 4 :  [1677830617253, None, '', '2023-03-03T08:03:37.253Z', 0, 'back_front']\n",
      "measure 5 :  [1677830617253, None, '', '2023-03-03T08:03:37.253Z', 0, 'regular']\n",
      "measure 6 :  [1677830617254, None, '', '2023-03-03T08:03:37.254Z', 0, 'movement_level']\n",
      "measure 7 :  [1677830617255, None, '', '2023-03-03T08:03:37.255Z', 0, 'posture_tilt']\n",
      "measure 8 :  [1677830617256, 'jzp://coo#ffffffff00000500.0000', 'dB', '2023-03-03T08:03:37.256Z', -6, 'rssi']\n",
      "measure 9 :  [1677830617256, None, '', '2023-03-03T08:03:37.256Z', 0, 'position']\n",
      "measure 10 :  [1677830617256, None, '', '2023-03-03T08:03:37.256Z', 550, 'adc_channel_00']\n",
      "measure 11 :  [1677830617257, None, 'lx', '2023-03-03T08:03:37.257Z', 530, 'illuminance']\n",
      "measure 12 :  [1677830617258, 'jzp://coo#ffffffff00000500.0000', '', '2023-03-03T08:03:37.258Z', 1, 'coordinator']\n",
      "measure 13 :  [1677830617258, None, 'Pa', '2023-03-03T08:03:37.258Z', 26089, 'pressure']\n",
      "measure 14 :  [1677830617258, None, '', '2023-03-03T08:03:37.258Z', 0, 'adc_channel_01']\n",
      "\n",
      "\n",
      "ref:  jzp://edv#0504.0000\n",
      "cuid:  f0b578b8-bd56-40c5-a2e0-d16800026e79\n",
      "t:  1677830620870\n",
      "tz:  2023-03-03T08:03:40.870Z\n",
      "cat:  0600\n",
      "sn:  251\n",
      "type:  environmental\n",
      "uuid:  c904d1ae-d5d8-46db-a45f-b68a9cf93dc6\n",
      "measure 1 :  [1677830620870, None, '℃', '2023-03-03T08:03:40.870Z', 38.9072, 'device_temperature']\n",
      "measure 2 :  [1677830620871, None, 'V', '2023-03-03T08:03:40.871Z', 3.3768, 'battery_level']\n",
      "measure 3 :  [1677830620871, None, '℃', '2023-03-03T08:03:40.871Z', 16.2984, 'dew_point']\n",
      "measure 4 :  [1677830620871, None, '%', '2023-03-03T08:03:40.871Z', 76, 'relative_humidity']\n",
      "measure 5 :  [1677830620871, None, '', '2023-03-03T08:03:40.871Z', 0, 'orientation']\n",
      "measure 6 :  [1677830620871, None, '℃', '2023-03-03T08:03:40.871Z', 35, 'environmental_temperature']\n",
      "measure 7 :  [1677830620871, None, '', '2023-03-03T08:03:40.871Z', 0, 'back_front']\n",
      "measure 8 :  [1677830620871, None, '', '2023-03-03T08:03:40.871Z', 0, 'regular']\n",
      "measure 9 :  [1677830620871, None, '', '2023-03-03T08:03:40.871Z', 0, 'movement_level']\n",
      "measure 10 :  [1677830620871, None, '', '2023-03-03T08:03:40.871Z', 0, 'posture_tilt']\n",
      "measure 11 :  [1677830620872, 'jzp://coo#ffffffff00000500.0000', 'dB', '2023-03-03T08:03:40.872Z', -118, 'rssi']\n",
      "measure 12 :  [1677830620872, None, '', '2023-03-03T08:03:40.872Z', 0, 'position']\n",
      "measure 13 :  [1677830620872, None, 'kg/m³', '2023-03-03T08:03:40.872Z', 0, 'absolute_humidity']\n",
      "measure 14 :  [1677830620872, 'jzp://coo#ffffffff00000500.0000', '', '2023-03-03T08:03:40.872Z', 1, 'coordinator']\n",
      "measure 15 :  [1677830620872, None, 'Pa', '2023-03-03T08:03:40.872Z', 68793, 'pressure']\n",
      "\n",
      "\n",
      "ref:  jzp://edv#0503.0000\n",
      "cuid:  078d2216-cca3-4b46-adab-24a7ec0626a2\n",
      "t:  1677830636016\n",
      "tz:  2023-03-03T08:03:56.017Z\n",
      "cat:  0610\n",
      "sn:  233\n",
      "type:  presence\n",
      "uuid:  dba9d553-0b4e-4f4e-9ef3-ae1af02c7a51\n",
      "measure 1 :  [1677830636017, None, 'C', '2023-03-03T08:03:56.017Z', 34.9859, 'device_temperature']\n",
      "measure 2 :  [1677830636017, None, 'V', '2023-03-03T08:03:56.017Z', 3.4566, 'battery_level']\n",
      "measure 3 :  [1677830636018, 'jzp://coo#ffffffff00000500.0000', 'dB', '2023-03-03T08:03:56.018Z', -33.0935, 'rssi']\n",
      "measure 4 :  [1677830636018, None, '', '2023-03-03T08:03:56.018Z', 0, 'presence']\n",
      "measure 5 :  [1677830636018, 'jzp://coo#ffffffff00000500.0000', '', '2023-03-03T08:03:56.018Z', 1, 'coordinator']\n",
      "\n",
      "\n",
      "ref:  jzp://edv#0502.0000\n",
      "cuid:  9525cd56-d733-4a0c-bf3f-08418d2b31ef\n",
      "t:  1677830638623\n",
      "tz:  2023-03-03T08:03:58.623Z\n",
      "cat:  0631\n",
      "sn:  31\n",
      "type:  gasmeter\n",
      "uuid:  7ae56cdd-2189-4579-8304-0ed7e50b2bd8\n",
      "measure 1 :  [1677830638624, 'jzp://coo#ffffffff000004ff.0000', '', '2023-03-03T08:03:58.624Z', 1.0, 'coordinator']\n",
      "measure 2 :  [1677830638624, None, '', '2023-03-03T08:03:58.624Z', 350.2523, 'ppm']\n",
      "measure 3 :  [1677830638624, 'jzp://coo#ffffffff000004ff.0000', 'dB', '2023-03-03T08:03:58.624Z', -107.4385, 'rssi']\n",
      "measure 4 :  [1677830638624, None, '℃', '2023-03-03T08:03:58.624Z', 11, 'device_temperature']\n",
      "measure 5 :  [1677830638625, None, 'V', '2023-03-03T08:03:58.625Z', 3, 'battery_level']\n",
      "\n",
      "\n",
      "ref:  jzp://edv#0501.0000\n",
      "cuid:  65bc97ed-3dad-4e37-ad01-752d85269934\n",
      "t:  1677830641392\n",
      "tz:  2023-03-03T08:04:01.392Z\n",
      "cat:  0620\n",
      "sn:  39\n",
      "type:  luxmeter\n",
      "uuid:  affdf9cc-65a6-4391-9954-b926303637f7\n",
      "measure 1 :  [1677830641392, None, '℃', '2023-03-03T08:04:01.392Z', 20.7121, 'device_temperature']\n",
      "measure 2 :  [1677830641393, None, 'V', '2023-03-03T08:04:01.393Z', 3.4121, 'battery_level']\n",
      "measure 3 :  [1677830641393, None, '', '2023-03-03T08:04:01.393Z', 0.0, 'orientation']\n",
      "measure 4 :  [1677830641393, None, '', '2023-03-03T08:04:01.393Z', 0, 'back_front']\n",
      "measure 5 :  [1677830641393, None, '', '2023-03-03T08:04:01.393Z', 0, 'regular']\n",
      "measure 6 :  [1677830641393, None, '', '2023-03-03T08:04:01.393Z', 0, 'movement_level']\n",
      "measure 7 :  [1677830641393, None, '', '2023-03-03T08:04:01.393Z', 0, 'posture_tilt']\n",
      "measure 8 :  [1677830641393, 'jzp://coo#ffffffff00000500.0000', 'dB', '2023-03-03T08:04:01.393Z', -38, 'rssi']\n",
      "measure 9 :  [1677830641393, None, '', '2023-03-03T08:04:01.393Z', 0, 'position']\n",
      "measure 10 :  [1677830641393, None, '', '2023-03-03T08:04:01.393Z', 447, 'adc_channel_00']\n",
      "measure 11 :  [1677830641393, None, 'lx', '2023-03-03T08:04:01.393Z', 82, 'illuminance']\n",
      "measure 12 :  [1677830641394, 'jzp://coo#ffffffff00000500.0000', '', '2023-03-03T08:04:01.394Z', 1, 'coordinator']\n",
      "measure 13 :  [1677830641394, None, 'Pa', '2023-03-03T08:04:01.394Z', 75673, 'pressure']\n",
      "measure 14 :  [1677830641394, None, '', '2023-03-03T08:04:01.394Z', 0, 'adc_channel_01']\n",
      "\n",
      "\n",
      "ref:  jzp://edv#0504.0000\n",
      "cuid:  1c1e8d49-f266-41f8-a2dd-bdc8df545fcd\n",
      "t:  1677830643937\n",
      "tz:  2023-03-03T08:04:03.937Z\n",
      "cat:  0600\n",
      "sn:  30\n",
      "type:  environmental\n",
      "uuid:  25c70e7b-5118-4745-bbbb-bc0436a07960\n",
      "measure 1 :  [1677830643938, None, '℃', '2023-03-03T08:04:03.938Z', 24.6797, 'device_temperature']\n",
      "measure 2 :  [1677830643938, None, 'V', '2023-03-03T08:04:03.938Z', 3.4367, 'battery_level']\n",
      "measure 3 :  [1677830643938, None, '℃', '2023-03-03T08:04:03.938Z', 11.4861, 'dew_point']\n",
      "measure 4 :  [1677830643938, None, '%', '2023-03-03T08:04:03.938Z', 98, 'relative_humidity']\n",
      "measure 5 :  [1677830643938, None, '', '2023-03-03T08:04:03.938Z', 0, 'orientation']\n",
      "measure 6 :  [1677830643938, None, '℃', '2023-03-03T08:04:03.940Z', 22, 'environmental_temperature']\n",
      "measure 7 :  [1677830643940, None, '', '2023-03-03T08:04:03.940Z', 0, 'back_front']\n",
      "measure 8 :  [1677830643941, None, '', '2023-03-03T08:04:03.941Z', 0, 'regular']\n",
      "measure 9 :  [1677830643941, None, '', '2023-03-03T08:04:03.941Z', 0, 'movement_level']\n",
      "measure 10 :  [1677830643941, None, '', '2023-03-03T08:04:03.941Z', 0, 'posture_tilt']\n",
      "measure 11 :  [1677830643941, 'jzp://coo#ffffffff00000500.0000', 'dB', '2023-03-03T08:04:03.941Z', -43, 'rssi']\n",
      "measure 12 :  [1677830643941, None, '', '2023-03-03T08:04:03.941Z', 0, 'position']\n",
      "measure 13 :  [1677830643941, None, 'kg/m³', '2023-03-03T08:04:03.941Z', 0, 'absolute_humidity']\n",
      "measure 14 :  [1677830643945, 'jzp://coo#ffffffff00000500.0000', '', '2023-03-03T08:04:03.945Z', 1, 'coordinator']\n",
      "measure 15 :  [1677830643946, None, 'Pa', '2023-03-03T08:04:03.946Z', 75016, 'pressure']\n",
      "\n",
      "\n",
      "ref:  jzp://edv#0503.0000\n",
      "cuid:  17743181-e178-4b97-b771-021cdaca2296\n",
      "t:  1677830657146\n",
      "tz:  2023-03-03T08:04:17.146Z\n",
      "cat:  0610\n",
      "sn:  79\n",
      "type:  presence\n",
      "uuid:  104a51d7-84cc-45eb-bc07-5294ba092015\n",
      "measure 1 :  [1677830657146, None, 'C', '2023-03-03T08:04:17.146Z', 37.6277, 'device_temperature']\n",
      "measure 2 :  [1677830657150, None, 'V', '2023-03-03T08:04:17.150Z', 3.4317, 'battery_level']\n",
      "measure 3 :  [1677830657165, 'jzp://coo#ffffffff00000500.0000', 'dB', '2023-03-03T08:04:17.165Z', -88.2346, 'rssi']\n",
      "measure 4 :  [1677830657165, None, '', '2023-03-03T08:04:17.165Z', 0, 'presence']\n",
      "measure 5 :  [1677830657165, 'jzp://coo#ffffffff00000500.0000', '', '2023-03-03T08:04:17.165Z', 1, 'coordinator']\n",
      "\n",
      "\n",
      "ref:  jzp://edv#0502.0000\n",
      "cuid:  4957b053-88ec-40f6-a3b7-d6a1838a06a6\n",
      "t:  1677830660552\n",
      "tz:  2023-03-03T08:04:20.552Z\n",
      "cat:  0631\n",
      "sn:  30\n",
      "type:  gasmeter\n",
      "uuid:  e786ec93-0744-4ba8-ac09-aa9e29ce2e3a\n",
      "measure 1 :  [1677830660553, 'jzp://coo#ffffffff000004ff.0000', '', '2023-03-03T08:04:20.553Z', 1.0, 'coordinator']\n",
      "measure 2 :  [1677830660553, None, '', '2023-03-03T08:04:20.553Z', 324.7677, 'ppm']\n",
      "measure 3 :  [1677830660553, 'jzp://coo#ffffffff000004ff.0000', 'dB', '2023-03-03T08:04:20.553Z', -116.4529, 'rssi']\n",
      "measure 4 :  [1677830660553, None, '℃', '2023-03-03T08:04:20.553Z', 24, 'device_temperature']\n",
      "measure 5 :  [1677830660553, None, 'V', '2023-03-03T08:04:20.553Z', 3, 'battery_level']\n",
      "\n",
      "\n",
      "ref:  jzp://edv#0501.0000\n",
      "cuid:  fbef02eb-8362-4ec7-b554-efbd7c0f2b16\n",
      "t:  1677830664534\n",
      "tz:  2023-03-03T08:04:24.534Z\n",
      "cat:  0620\n",
      "sn:  190\n",
      "type:  luxmeter\n",
      "uuid:  fb8de1a9-aefe-427d-8654-af9f6f47a751\n",
      "measure 1 :  [1677830664534, None, '℃', '2023-03-03T08:04:24.534Z', 19.0272, 'device_temperature']\n",
      "measure 2 :  [1677830664534, None, 'V', '2023-03-03T08:04:24.534Z', 3.4271, 'battery_level']\n",
      "measure 3 :  [1677830664534, None, '', '2023-03-03T08:04:24.534Z', 0.0, 'orientation']\n",
      "measure 4 :  [1677830664534, None, '', '2023-03-03T08:04:24.534Z', 0, 'back_front']\n",
      "measure 5 :  [1677830664535, None, '', '2023-03-03T08:04:24.535Z', 0, 'regular']\n",
      "measure 6 :  [1677830664535, None, '', '2023-03-03T08:04:24.535Z', 0, 'movement_level']\n",
      "measure 7 :  [1677830664535, None, '', '2023-03-03T08:04:24.535Z', 0, 'posture_tilt']\n",
      "measure 8 :  [1677830664535, 'jzp://coo#ffffffff00000500.0000', 'dB', '2023-03-03T08:04:24.535Z', -93, 'rssi']\n",
      "measure 9 :  [1677830664535, None, '', '2023-03-03T08:04:24.535Z', 0, 'position']\n",
      "measure 10 :  [1677830664535, None, '', '2023-03-03T08:04:24.535Z', 231, 'adc_channel_00']\n",
      "measure 11 :  [1677830664535, None, 'lx', '2023-03-03T08:04:24.535Z', 472, 'illuminance']\n",
      "measure 12 :  [1677830664535, 'jzp://coo#ffffffff00000500.0000', '', '2023-03-03T08:04:24.535Z', 1, 'coordinator']\n",
      "measure 13 :  [1677830664535, None, 'Pa', '2023-03-03T08:04:24.535Z', 98364, 'pressure']\n",
      "measure 14 :  [1677830664535, None, '', '2023-03-03T08:04:24.535Z', 0, 'adc_channel_01']\n",
      "\n",
      "\n",
      "ref:  jzp://edv#0504.0000\n",
      "cuid:  1e735d9c-31a2-4031-bc08-4ef7eba4e57c\n",
      "t:  1677830667618\n",
      "tz:  2023-03-03T08:04:27.618Z\n",
      "cat:  0600\n",
      "sn:  42\n",
      "type:  environmental\n",
      "uuid:  82d730a7-0e10-453d-a6f3-e500bffc70fb\n",
      "measure 1 :  [1677830667618, None, '℃', '2023-03-03T08:04:27.618Z', 20.3185, 'device_temperature']\n",
      "measure 2 :  [1677830667619, None, 'V', '2023-03-03T08:04:27.619Z', 3.4425, 'battery_level']\n",
      "measure 3 :  [1677830667619, None, '℃', '2023-03-03T08:04:27.619Z', 10.8779, 'dew_point']\n",
      "measure 4 :  [1677830667619, None, '%', '2023-03-03T08:04:27.619Z', 39, 'relative_humidity']\n",
      "measure 5 :  [1677830667619, None, '', '2023-03-03T08:04:27.619Z', 0, 'orientation']\n",
      "measure 6 :  [1677830667619, None, '℃', '2023-03-03T08:04:27.619Z', 25, 'environmental_temperature']\n",
      "measure 7 :  [1677830667619, None, '', '2023-03-03T08:04:27.619Z', 0, 'back_front']\n",
      "measure 8 :  [1677830667619, None, '', '2023-03-03T08:04:27.619Z', 0, 'regular']\n",
      "measure 9 :  [1677830667619, None, '', '2023-03-03T08:04:27.619Z', 0, 'movement_level']\n",
      "measure 10 :  [1677830667620, None, '', '2023-03-03T08:04:27.620Z', 0, 'posture_tilt']\n",
      "measure 11 :  [1677830667620, 'jzp://coo#ffffffff00000500.0000', 'dB', '2023-03-03T08:04:27.620Z', -110, 'rssi']\n",
      "measure 12 :  [1677830667620, None, '', '2023-03-03T08:04:27.620Z', 0, 'position']\n",
      "measure 13 :  [1677830667620, None, 'kg/m³', '2023-03-03T08:04:27.620Z', 0, 'absolute_humidity']\n",
      "measure 14 :  [1677830667620, 'jzp://coo#ffffffff00000500.0000', '', '2023-03-03T08:04:27.620Z', 1, 'coordinator']\n",
      "measure 15 :  [1677830667620, None, 'Pa', '2023-03-03T08:04:27.620Z', 38815, 'pressure']\n",
      "\n",
      "\n",
      "ref:  jzp://edv#0503.0000\n",
      "cuid:  f9919304-be73-4c4a-a747-28330673c76a\n",
      "t:  1677830684791\n",
      "tz:  2023-03-03T08:04:44.791Z\n",
      "cat:  0610\n",
      "sn:  152\n",
      "type:  presence\n",
      "uuid:  13fb8564-c752-49a9-a696-d23dd7586bb3\n",
      "measure 1 :  [1677830684791, None, 'C', '2023-03-03T08:04:44.791Z', 28.9068, 'device_temperature']\n",
      "measure 2 :  [1677830684792, None, 'V', '2023-03-03T08:04:44.792Z', 3.4387, 'battery_level']\n",
      "measure 3 :  [1677830684792, 'jzp://coo#ffffffff00000500.0000', 'dB', '2023-03-03T08:04:44.792Z', -50.0815, 'rssi']\n",
      "measure 4 :  [1677830684792, None, '', '2023-03-03T08:04:44.792Z', 1, 'presence']\n",
      "measure 5 :  [1677830684792, 'jzp://coo#ffffffff00000500.0000', '', '2023-03-03T08:04:44.792Z', 1, 'coordinator']\n",
      "\n",
      "\n",
      "ref:  jzp://edv#0502.0000\n",
      "cuid:  7eda6488-836f-4073-8d34-049e67cd1618\n",
      "t:  1677830688774\n",
      "tz:  2023-03-03T08:04:48.774Z\n",
      "cat:  0631\n",
      "sn:  128\n",
      "type:  gasmeter\n",
      "uuid:  128618e4-2ab0-42a4-81f8-451a4f685431\n",
      "measure 1 :  [1677830688775, 'jzp://coo#ffffffff000004ff.0000', '', '2023-03-03T08:04:48.775Z', 1.0, 'coordinator']\n",
      "measure 2 :  [1677830688775, None, '', '2023-03-03T08:04:48.775Z', 375.3648, 'ppm']\n",
      "measure 3 :  [1677830688775, 'jzp://coo#ffffffff000004ff.0000', 'dB', '2023-03-03T08:04:48.775Z', -4.774, 'rssi']\n",
      "measure 4 :  [1677830688775, None, '℃', '2023-03-03T08:04:48.775Z', 27, 'device_temperature']\n",
      "measure 5 :  [1677830688775, None, 'V', '2023-03-03T08:04:48.775Z', 3, 'battery_level']\n",
      "\n",
      "\n",
      "ref:  jzp://edv#0501.0000\n",
      "cuid:  11054763-e86d-464f-af1f-a285bf3b5663\n",
      "t:  1677830692051\n",
      "tz:  2023-03-03T08:04:52.051Z\n",
      "cat:  0620\n",
      "sn:  228\n",
      "type:  luxmeter\n",
      "uuid:  1465667c-eaae-4112-bb50-dbe7a3aa1477\n",
      "measure 1 :  [1677830692052, None, '℃', '2023-03-03T08:04:52.052Z', 31.6464, 'device_temperature']\n",
      "measure 2 :  [1677830692052, None, 'V', '2023-03-03T08:04:52.052Z', 3.4803, 'battery_level']\n",
      "measure 3 :  [1677830692052, None, '', '2023-03-03T08:04:52.052Z', 0.0, 'orientation']\n",
      "measure 4 :  [1677830692052, None, '', '2023-03-03T08:04:52.052Z', 0, 'back_front']\n",
      "measure 5 :  [1677830692052, None, '', '2023-03-03T08:04:52.052Z', 0, 'regular']\n",
      "measure 6 :  [1677830692052, None, '', '2023-03-03T08:04:52.052Z', 0, 'movement_level']\n",
      "measure 7 :  [1677830692052, None, '', '2023-03-03T08:04:52.052Z', 0, 'posture_tilt']\n",
      "measure 8 :  [1677830692052, 'jzp://coo#ffffffff00000500.0000', 'dB', '2023-03-03T08:04:52.052Z', -46, 'rssi']\n",
      "measure 9 :  [1677830692052, None, '', '2023-03-03T08:04:52.052Z', 0, 'position']\n",
      "measure 10 :  [1677830692052, None, '', '2023-03-03T08:04:52.052Z', 32, 'adc_channel_00']\n",
      "measure 11 :  [1677830692052, None, 'lx', '2023-03-03T08:04:52.052Z', 59, 'illuminance']\n",
      "measure 12 :  [1677830692053, 'jzp://coo#ffffffff00000500.0000', '', '2023-03-03T08:04:52.053Z', 1, 'coordinator']\n",
      "measure 13 :  [1677830692053, None, 'Pa', '2023-03-03T08:04:52.053Z', 4004, 'pressure']\n",
      "measure 14 :  [1677830692053, None, '', '2023-03-03T08:04:52.053Z', 0, 'adc_channel_01']\n",
      "\n",
      "\n",
      "ref:  jzp://edv#0504.0000\n",
      "cuid:  a7231894-8bab-4801-a734-579218e84414\n",
      "t:  1677830695160\n",
      "tz:  2023-03-03T08:04:55.160Z\n",
      "cat:  0600\n",
      "sn:  131\n",
      "type:  environmental\n",
      "uuid:  cb1d0311-bf9f-4914-b7ca-b495af9e1479\n",
      "measure 1 :  [1677830695160, None, '℃', '2023-03-03T08:04:55.160Z', 24.6392, 'device_temperature']\n",
      "measure 2 :  [1677830695160, None, 'V', '2023-03-03T08:04:55.160Z', 3.4751, 'battery_level']\n",
      "measure 3 :  [1677830695161, None, '℃', '2023-03-03T08:04:55.161Z', 14.9407, 'dew_point']\n",
      "measure 4 :  [1677830695161, None, '%', '2023-03-03T08:04:55.161Z', 44, 'relative_humidity']\n",
      "measure 5 :  [1677830695161, None, '', '2023-03-03T08:04:55.161Z', 0, 'orientation']\n",
      "measure 6 :  [1677830695161, None, '℃', '2023-03-03T08:04:55.161Z', 9, 'environmental_temperature']\n",
      "measure 7 :  [1677830695161, None, '', '2023-03-03T08:04:55.161Z', 0, 'back_front']\n",
      "measure 8 :  [1677830695161, None, '', '2023-03-03T08:04:55.161Z', 0, 'regular']\n",
      "measure 9 :  [1677830695161, None, '', '2023-03-03T08:04:55.161Z', 0, 'movement_level']\n",
      "measure 10 :  [1677830695161, None, '', '2023-03-03T08:04:55.161Z', 0, 'posture_tilt']\n",
      "measure 11 :  [1677830695161, 'jzp://coo#ffffffff00000500.0000', 'dB', '2023-03-03T08:04:55.161Z', -10, 'rssi']\n",
      "measure 12 :  [1677830695161, None, '', '2023-03-03T08:04:55.161Z', 0, 'position']\n",
      "measure 13 :  [1677830695161, None, 'kg/m³', '2023-03-03T08:04:55.161Z', 0, 'absolute_humidity']\n",
      "measure 14 :  [1677830695161, 'jzp://coo#ffffffff00000500.0000', '', '2023-03-03T08:04:55.161Z', 1, 'coordinator']\n",
      "measure 15 :  [1677830695161, None, 'Pa', '2023-03-03T08:04:55.161Z', 63254, 'pressure']\n",
      "\n",
      "\n",
      "ref:  jzp://edv#0503.0000\n",
      "cuid:  82452977-b372-466d-9478-c4e1bee76855\n",
      "t:  1677830706864\n",
      "tz:  2023-03-03T08:05:06.864Z\n",
      "cat:  0610\n",
      "sn:  194\n",
      "type:  presence\n",
      "uuid:  8c7cffdf-5540-46e8-9ab6-e6a8ae9f5be3\n",
      "measure 1 :  [1677830706864, None, 'C', '2023-03-03T08:05:06.864Z', 34.0388, 'device_temperature']\n",
      "measure 2 :  [1677830706865, None, 'V', '2023-03-03T08:05:06.865Z', 3.2823, 'battery_level']\n",
      "measure 3 :  [1677830706870, 'jzp://coo#ffffffff00000500.0000', 'dB', '2023-03-03T08:05:06.870Z', -0.614, 'rssi']\n",
      "measure 4 :  [1677830706870, None, '', '2023-03-03T08:05:06.870Z', 0, 'presence']\n",
      "measure 5 :  [1677830706870, 'jzp://coo#ffffffff00000500.0000', '', '2023-03-03T08:05:06.870Z', 1, 'coordinator']\n",
      "\n",
      "\n",
      "ref:  jzp://edv#0502.0000\n",
      "cuid:  806d5f2b-13da-4c25-a177-2421f767dc49\n",
      "t:  1677830709777\n",
      "tz:  2023-03-03T08:05:09.777Z\n",
      "cat:  0631\n",
      "sn:  70\n",
      "type:  gasmeter\n",
      "uuid:  a06e8eae-792e-4537-9dac-1bb61a37095e\n",
      "measure 1 :  [1677830709778, 'jzp://coo#ffffffff000004ff.0000', '', '2023-03-03T08:05:09.778Z', 1.0, 'coordinator']\n",
      "measure 2 :  [1677830709780, None, '', '2023-03-03T08:05:09.780Z', 329.4876, 'ppm']\n",
      "measure 3 :  [1677830709780, 'jzp://coo#ffffffff000004ff.0000', 'dB', '2023-03-03T08:05:09.780Z', -91.3915, 'rssi']\n",
      "measure 4 :  [1677830709780, None, '℃', '2023-03-03T08:05:09.780Z', 16, 'device_temperature']\n",
      "measure 5 :  [1677830709780, None, 'V', '2023-03-03T08:05:09.780Z', 3, 'battery_level']\n",
      "\n",
      "\n",
      "ref:  jzp://edv#0501.0000\n",
      "cuid:  5f7a11b3-b08b-4e7e-b460-88772e05c3b5\n",
      "t:  1677830713768\n",
      "tz:  2023-03-03T08:05:13.768Z\n",
      "cat:  0620\n",
      "sn:  163\n",
      "type:  luxmeter\n",
      "uuid:  7b7eaf9b-9ff3-4153-a06f-3c2230efbe30\n",
      "measure 1 :  [1677830713769, None, '℃', '2023-03-03T08:05:13.769Z', 11.24, 'device_temperature']\n",
      "measure 2 :  [1677830713776, None, 'V', '2023-03-03T08:05:13.776Z', 3.4066, 'battery_level']\n",
      "measure 3 :  [1677830713776, None, '', '2023-03-03T08:05:13.776Z', 0.0, 'orientation']\n",
      "measure 4 :  [1677830713776, None, '', '2023-03-03T08:05:13.776Z', 0, 'back_front']\n",
      "measure 5 :  [1677830713776, None, '', '2023-03-03T08:05:13.776Z', 0, 'regular']\n",
      "measure 6 :  [1677830713776, None, '', '2023-03-03T08:05:13.776Z', 0, 'movement_level']\n",
      "measure 7 :  [1677830713776, None, '', '2023-03-03T08:05:13.776Z', 0, 'posture_tilt']\n",
      "measure 8 :  [1677830713776, 'jzp://coo#ffffffff00000500.0000', 'dB', '2023-03-03T08:05:13.776Z', -109, 'rssi']\n",
      "measure 9 :  [1677830713776, None, '', '2023-03-03T08:05:13.776Z', 0, 'position']\n",
      "measure 10 :  [1677830713776, None, '', '2023-03-03T08:05:13.776Z', 506, 'adc_channel_00']\n",
      "measure 11 :  [1677830713776, None, 'lx', '2023-03-03T08:05:13.776Z', 311, 'illuminance']\n",
      "measure 12 :  [1677830713776, 'jzp://coo#ffffffff00000500.0000', '', '2023-03-03T08:05:13.776Z', 1, 'coordinator']\n",
      "measure 13 :  [1677830713776, None, 'Pa', '2023-03-03T08:05:13.776Z', 92895, 'pressure']\n",
      "measure 14 :  [1677830713777, None, '', '2023-03-03T08:05:13.777Z', 0, 'adc_channel_01']\n",
      "\n",
      "\n",
      "ref:  jzp://edv#0504.0000\n",
      "cuid:  98966685-34af-403e-847c-0549e5204570\n",
      "t:  1677830716421\n",
      "tz:  2023-03-03T08:05:16.421Z\n",
      "cat:  0600\n",
      "sn:  240\n",
      "type:  environmental\n",
      "uuid:  bfa89bc9-1142-4c02-bbf1-e9c7ad76a698\n",
      "measure 1 :  [1677830716422, None, '℃', '2023-03-03T08:05:16.422Z', 11.0201, 'device_temperature']\n",
      "measure 2 :  [1677830716422, None, 'V', '2023-03-03T08:05:16.422Z', 3.3017, 'battery_level']\n",
      "measure 3 :  [1677830716422, None, '℃', '2023-03-03T08:05:16.422Z', 16.6537, 'dew_point']\n",
      "measure 4 :  [1677830716422, None, '%', '2023-03-03T08:05:16.422Z', 3, 'relative_humidity']\n",
      "measure 5 :  [1677830716422, None, '', '2023-03-03T08:05:16.422Z', 0, 'orientation']\n",
      "measure 6 :  [1677830716422, None, '℃', '2023-03-03T08:05:16.422Z', 35, 'environmental_temperature']\n",
      "measure 7 :  [1677830716422, None, '', '2023-03-03T08:05:16.422Z', 0, 'back_front']\n",
      "measure 8 :  [1677830716422, None, '', '2023-03-03T08:05:16.422Z', 0, 'regular']\n",
      "measure 9 :  [1677830716422, None, '', '2023-03-03T08:05:16.422Z', 0, 'movement_level']\n",
      "measure 10 :  [1677830716422, None, '', '2023-03-03T08:05:16.422Z', 0, 'posture_tilt']\n",
      "measure 11 :  [1677830716422, 'jzp://coo#ffffffff00000500.0000', 'dB', '2023-03-03T08:05:16.422Z', -13, 'rssi']\n",
      "measure 12 :  [1677830716422, None, '', '2023-03-03T08:05:16.422Z', 0, 'position']\n",
      "measure 13 :  [1677830716422, None, 'kg/m³', '2023-03-03T08:05:16.422Z', 0, 'absolute_humidity']\n",
      "measure 14 :  [1677830716422, 'jzp://coo#ffffffff00000500.0000', '', '2023-03-03T08:05:16.422Z', 1, 'coordinator']\n",
      "measure 15 :  [1677830716423, None, 'Pa', '2023-03-03T08:05:16.423Z', 72749, 'pressure']\n",
      "\n",
      "\n",
      "ref:  jzp://edv#0503.0000\n",
      "cuid:  e0db41dd-955c-4c16-8e05-8fcea01b2f32\n",
      "t:  1677830733147\n",
      "tz:  2023-03-03T08:05:33.147Z\n",
      "cat:  0610\n",
      "sn:  38\n",
      "type:  presence\n",
      "uuid:  07bd9e9b-94a2-4412-afde-7f0fc843bbf9\n",
      "measure 1 :  [1677830733147, None, 'C', '2023-03-03T08:05:33.147Z', 6.7524, 'device_temperature']\n",
      "measure 2 :  [1677830733147, None, 'V', '2023-03-03T08:05:33.147Z', 3.4559, 'battery_level']\n",
      "measure 3 :  [1677830733148, 'jzp://coo#ffffffff00000500.0000', 'dB', '2023-03-03T08:05:33.148Z', -68.1938, 'rssi']\n",
      "measure 4 :  [1677830733148, None, '', '2023-03-03T08:05:33.148Z', 1, 'presence']\n",
      "measure 5 :  [1677830733148, 'jzp://coo#ffffffff00000500.0000', '', '2023-03-03T08:05:33.148Z', 1, 'coordinator']\n",
      "\n",
      "\n",
      "ref:  jzp://edv#0502.0000\n",
      "cuid:  2f153b48-8ec0-4c0a-aca2-aa11cd434ec8\n",
      "t:  1677830735527\n",
      "tz:  2023-03-03T08:05:35.528Z\n",
      "cat:  0631\n",
      "sn:  245\n",
      "type:  gasmeter\n",
      "uuid:  4227862a-036c-43a9-b49b-3a6ba22c6cb1\n",
      "measure 1 :  [1677830735528, 'jzp://coo#ffffffff000004ff.0000', '', '2023-03-03T08:05:35.528Z', 1.0, 'coordinator']\n",
      "measure 2 :  [1677830735528, None, '', '2023-03-03T08:05:35.528Z', 373.0348, 'ppm']\n",
      "measure 3 :  [1677830735528, 'jzp://coo#ffffffff000004ff.0000', 'dB', '2023-03-03T08:05:35.528Z', -12.4343, 'rssi']\n",
      "measure 4 :  [1677830735529, None, '℃', '2023-03-03T08:05:35.529Z', 4, 'device_temperature']\n",
      "measure 5 :  [1677830735529, None, 'V', '2023-03-03T08:05:35.529Z', 3, 'battery_level']\n",
      "\n",
      "\n",
      "ref:  jzp://edv#0501.0000\n",
      "cuid:  6c5e8a41-e1ef-4bdc-b33e-9e2edd15e460\n",
      "t:  1677830738492\n",
      "tz:  2023-03-03T08:05:38.492Z\n",
      "cat:  0620\n",
      "sn:  124\n",
      "type:  luxmeter\n",
      "uuid:  21ea5917-fb54-4460-b063-d6324962b988\n",
      "measure 1 :  [1677830738492, None, '℃', '2023-03-03T08:05:38.492Z', 21.0004, 'device_temperature']\n",
      "measure 2 :  [1677830738492, None, 'V', '2023-03-03T08:05:38.492Z', 3.3394, 'battery_level']\n",
      "measure 3 :  [1677830738493, None, '', '2023-03-03T08:05:38.493Z', 0.0, 'orientation']\n",
      "measure 4 :  [1677830738493, None, '', '2023-03-03T08:05:38.493Z', 0, 'back_front']\n",
      "measure 5 :  [1677830738493, None, '', '2023-03-03T08:05:38.493Z', 0, 'regular']\n",
      "measure 6 :  [1677830738493, None, '', '2023-03-03T08:05:38.493Z', 0, 'movement_level']\n",
      "measure 7 :  [1677830738493, None, '', '2023-03-03T08:05:38.493Z', 0, 'posture_tilt']\n",
      "measure 8 :  [1677830738493, 'jzp://coo#ffffffff00000500.0000', 'dB', '2023-03-03T08:05:38.493Z', -71, 'rssi']\n",
      "measure 9 :  [1677830738493, None, '', '2023-03-03T08:05:38.493Z', 0, 'position']\n",
      "measure 10 :  [1677830738493, None, '', '2023-03-03T08:05:38.493Z', 444, 'adc_channel_00']\n",
      "measure 11 :  [1677830738493, None, 'lx', '2023-03-03T08:05:38.493Z', 140, 'illuminance']\n",
      "measure 12 :  [1677830738493, 'jzp://coo#ffffffff00000500.0000', '', '2023-03-03T08:05:38.493Z', 1, 'coordinator']\n",
      "measure 13 :  [1677830738493, None, 'Pa', '2023-03-03T08:05:38.493Z', 20813, 'pressure']\n",
      "measure 14 :  [1677830738493, None, '', '2023-03-03T08:05:38.493Z', 0, 'adc_channel_01']\n",
      "\n",
      "\n",
      "ref:  jzp://edv#0504.0000\n",
      "cuid:  7f507130-a465-4599-9383-a9fcf339d251\n",
      "t:  1677830740884\n",
      "tz:  2023-03-03T08:05:40.884Z\n",
      "cat:  0600\n",
      "sn:  33\n",
      "type:  environmental\n",
      "uuid:  3fa264b2-b69d-4a2f-bc0f-f2202a7ecf72\n",
      "measure 1 :  [1677830740885, None, '℃', '2023-03-03T08:05:40.885Z', 5.6884, 'device_temperature']\n",
      "measure 2 :  [1677830740885, None, 'V', '2023-03-03T08:05:40.885Z', 3.3573, 'battery_level']\n",
      "measure 3 :  [1677830740885, None, '℃', '2023-03-03T08:05:40.885Z', 13.0935, 'dew_point']\n",
      "measure 4 :  [1677830740885, None, '%', '2023-03-03T08:05:40.885Z', 72, 'relative_humidity']\n",
      "measure 5 :  [1677830740885, None, '', '2023-03-03T08:05:40.885Z', 0, 'orientation']\n",
      "measure 6 :  [1677830740885, None, '℃', '2023-03-03T08:05:40.885Z', 18, 'environmental_temperature']\n",
      "measure 7 :  [1677830740885, None, '', '2023-03-03T08:05:40.885Z', 0, 'back_front']\n",
      "measure 8 :  [1677830740885, None, '', '2023-03-03T08:05:40.885Z', 0, 'regular']\n",
      "measure 9 :  [1677830740885, None, '', '2023-03-03T08:05:40.885Z', 0, 'movement_level']\n",
      "measure 10 :  [1677830740885, None, '', '2023-03-03T08:05:40.885Z', 0, 'posture_tilt']\n",
      "measure 11 :  [1677830740885, 'jzp://coo#ffffffff00000500.0000', 'dB', '2023-03-03T08:05:40.885Z', -113, 'rssi']\n",
      "measure 12 :  [1677830740885, None, '', '2023-03-03T08:05:40.885Z', 0, 'position']\n",
      "measure 13 :  [1677830740885, None, 'kg/m³', '2023-03-03T08:05:40.885Z', 0, 'absolute_humidity']\n",
      "measure 14 :  [1677830740885, 'jzp://coo#ffffffff00000500.0000', '', '2023-03-03T08:05:40.885Z', 1, 'coordinator']\n",
      "measure 15 :  [1677830740885, None, 'Pa', '2023-03-03T08:05:40.885Z', 63493, 'pressure']\n",
      "\n",
      "\n",
      "ref:  jzp://edv#0503.0000\n",
      "cuid:  2fa771be-523e-4d86-8f59-191453729986\n",
      "t:  1677830757078\n",
      "tz:  2023-03-03T08:05:57.078Z\n",
      "cat:  0610\n",
      "sn:  95\n",
      "type:  presence\n",
      "uuid:  5e3a613a-bb8c-4df6-85d0-2dad83c86334\n",
      "measure 1 :  [1677830757079, None, 'C', '2023-03-03T08:05:57.079Z', 0.9945, 'device_temperature']\n",
      "measure 2 :  [1677830757079, None, 'V', '2023-03-03T08:05:57.079Z', 3.3184, 'battery_level']\n",
      "measure 3 :  [1677830757079, 'jzp://coo#ffffffff00000500.0000', 'dB', '2023-03-03T08:05:57.079Z', -109.8978, 'rssi']\n",
      "measure 4 :  [1677830757079, None, '', '2023-03-03T08:05:57.079Z', 1, 'presence']\n",
      "measure 5 :  [1677830757079, 'jzp://coo#ffffffff00000500.0000', '', '2023-03-03T08:05:57.079Z', 1, 'coordinator']\n",
      "\n",
      "\n",
      "ref:  jzp://edv#0502.0000\n",
      "cuid:  cea91b10-9e53-4a9f-8c88-392509ea98f0\n",
      "t:  1677830760847\n",
      "tz:  2023-03-03T08:06:00.847Z\n",
      "cat:  0631\n",
      "sn:  211\n",
      "type:  gasmeter\n",
      "uuid:  cd477c28-52e0-4250-b0c9-398f60a2c13d\n",
      "measure 1 :  [1677830760849, 'jzp://coo#ffffffff000004ff.0000', '', '2023-03-03T08:06:00.849Z', 1.0, 'coordinator']\n",
      "measure 2 :  [1677830760851, None, '', '2023-03-03T08:06:00.851Z', 377.234, 'ppm']\n",
      "measure 3 :  [1677830760851, 'jzp://coo#ffffffff000004ff.0000', 'dB', '2023-03-03T08:06:00.851Z', -87.3012, 'rssi']\n",
      "measure 4 :  [1677830760851, None, '℃', '2023-03-03T08:06:00.851Z', 15, 'device_temperature']\n",
      "measure 5 :  [1677830760851, None, 'V', '2023-03-03T08:06:00.851Z', 3, 'battery_level']\n",
      "\n",
      "\n",
      "ref:  jzp://edv#0501.0000\n",
      "cuid:  6ab8b7ed-bf35-4d00-9fba-eb078d5a1be7\n",
      "t:  1677830763443\n",
      "tz:  2023-03-03T08:06:03.443Z\n",
      "cat:  0620\n",
      "sn:  86\n",
      "type:  luxmeter\n",
      "uuid:  9b243f22-8de4-400b-831d-6827f2c67fe8\n",
      "measure 1 :  [1677830763443, None, '℃', '2023-03-03T08:06:03.443Z', 29.8224, 'device_temperature']\n",
      "measure 2 :  [1677830763443, None, 'V', '2023-03-03T08:06:03.443Z', 3.3713, 'battery_level']\n",
      "measure 3 :  [1677830763443, None, '', '2023-03-03T08:06:03.443Z', 0.0, 'orientation']\n",
      "measure 4 :  [1677830763443, None, '', '2023-03-03T08:06:03.443Z', 0, 'back_front']\n",
      "measure 5 :  [1677830763443, None, '', '2023-03-03T08:06:03.443Z', 0, 'regular']\n",
      "measure 6 :  [1677830763443, None, '', '2023-03-03T08:06:03.443Z', 0, 'movement_level']\n",
      "measure 7 :  [1677830763443, None, '', '2023-03-03T08:06:03.443Z', 0, 'posture_tilt']\n",
      "measure 8 :  [1677830763443, 'jzp://coo#ffffffff00000500.0000', 'dB', '2023-03-03T08:06:03.443Z', -86, 'rssi']\n",
      "measure 9 :  [1677830763443, None, '', '2023-03-03T08:06:03.443Z', 0, 'position']\n",
      "measure 10 :  [1677830763443, None, '', '2023-03-03T08:06:03.443Z', 330, 'adc_channel_00']\n",
      "measure 11 :  [1677830763443, None, 'lx', '2023-03-03T08:06:03.443Z', 579, 'illuminance']\n",
      "measure 12 :  [1677830763444, 'jzp://coo#ffffffff00000500.0000', '', '2023-03-03T08:06:03.444Z', 1, 'coordinator']\n",
      "measure 13 :  [1677830763444, None, 'Pa', '2023-03-03T08:06:03.444Z', 12960, 'pressure']\n",
      "measure 14 :  [1677830763444, None, '', '2023-03-03T08:06:03.444Z', 0, 'adc_channel_01']\n",
      "\n",
      "\n",
      "ref:  jzp://edv#0504.0000\n",
      "cuid:  9a686fd6-9378-4044-b270-f651d73f752d\n",
      "t:  1677830767143\n",
      "tz:  2023-03-03T08:06:07.143Z\n",
      "cat:  0600\n",
      "sn:  212\n",
      "type:  environmental\n",
      "uuid:  e8141dab-10ba-4972-aecf-6ee03165d7c5\n",
      "measure 1 :  [1677830767144, None, '℃', '2023-03-03T08:06:07.144Z', 24.23, 'device_temperature']\n",
      "measure 2 :  [1677830767144, None, 'V', '2023-03-03T08:06:07.144Z', 3.5397, 'battery_level']\n",
      "measure 3 :  [1677830767145, None, '℃', '2023-03-03T08:06:07.145Z', 23.3696, 'dew_point']\n",
      "measure 4 :  [1677830767145, None, '%', '2023-03-03T08:06:07.145Z', 81, 'relative_humidity']\n",
      "measure 5 :  [1677830767145, None, '', '2023-03-03T08:06:07.145Z', 0, 'orientation']\n",
      "measure 6 :  [1677830767145, None, '℃', '2023-03-03T08:06:07.145Z', 37, 'environmental_temperature']\n",
      "measure 7 :  [1677830767145, None, '', '2023-03-03T08:06:07.145Z', 0, 'back_front']\n",
      "measure 8 :  [1677830767145, None, '', '2023-03-03T08:06:07.145Z', 0, 'regular']\n",
      "measure 9 :  [1677830767146, None, '', '2023-03-03T08:06:07.146Z', 0, 'movement_level']\n",
      "measure 10 :  [1677830767146, None, '', '2023-03-03T08:06:07.146Z', 0, 'posture_tilt']\n",
      "measure 11 :  [1677830767149, 'jzp://coo#ffffffff00000500.0000', 'dB', '2023-03-03T08:06:07.149Z', -26, 'rssi']\n",
      "measure 12 :  [1677830767149, None, '', '2023-03-03T08:06:07.149Z', 0, 'position']\n",
      "measure 13 :  [1677830767149, None, 'kg/m³', '2023-03-03T08:06:07.149Z', 0, 'absolute_humidity']\n",
      "measure 14 :  [1677830767149, 'jzp://coo#ffffffff00000500.0000', '', '2023-03-03T08:06:07.149Z', 1, 'coordinator']\n",
      "measure 15 :  [1677830767149, None, 'Pa', '2023-03-03T08:06:07.149Z', 51884, 'pressure']\n",
      "\n",
      "\n",
      "ref:  jzp://edv#0503.0000\n",
      "cuid:  57306d06-b000-4edd-afa1-5f074acde65f\n",
      "t:  1677830778481\n",
      "tz:  2023-03-03T08:06:18.481Z\n",
      "cat:  0610\n",
      "sn:  237\n",
      "type:  presence\n",
      "uuid:  2dbc5a0e-a24c-4a2d-82d9-49f0fdb6cb35\n",
      "measure 1 :  [1677830778481, None, 'C', '2023-03-03T08:06:18.481Z', 14.0107, 'device_temperature']\n",
      "measure 2 :  [1677830778481, None, 'V', '2023-03-03T08:06:18.481Z', 3.487, 'battery_level']\n",
      "measure 3 :  [1677830778482, 'jzp://coo#ffffffff00000500.0000', 'dB', '2023-03-03T08:06:18.482Z', -16.154, 'rssi']\n",
      "measure 4 :  [1677830778482, None, '', '2023-03-03T08:06:18.482Z', 1, 'presence']\n",
      "measure 5 :  [1677830778482, 'jzp://coo#ffffffff00000500.0000', '', '2023-03-03T08:06:18.482Z', 1, 'coordinator']\n",
      "\n",
      "\n",
      "ref:  jzp://edv#0502.0000\n",
      "cuid:  76ed970c-6ae1-44bf-bced-b609a8aadfac\n",
      "t:  1677830781554\n",
      "tz:  2023-03-03T08:06:21.554Z\n",
      "cat:  0631\n",
      "sn:  130\n",
      "type:  gasmeter\n",
      "uuid:  e4a13216-22c8-4d1e-8bbb-25cb8b961235\n",
      "measure 1 :  [1677830781555, 'jzp://coo#ffffffff000004ff.0000', '', '2023-03-03T08:06:21.555Z', 1.0, 'coordinator']\n",
      "measure 2 :  [1677830781555, None, '', '2023-03-03T08:06:21.555Z', 359.4066, 'ppm']\n",
      "measure 3 :  [1677830781555, 'jzp://coo#ffffffff000004ff.0000', 'dB', '2023-03-03T08:06:21.555Z', -14.3895, 'rssi']\n",
      "measure 4 :  [1677830781563, None, '℃', '2023-03-03T08:06:21.563Z', 17, 'device_temperature']\n",
      "measure 5 :  [1677830781563, None, 'V', '2023-03-03T08:06:21.563Z', 3, 'battery_level']\n",
      "\n",
      "\n",
      "ref:  jzp://edv#0501.0000\n",
      "cuid:  a89cb289-fe81-4fea-b898-5e14678f51de\n",
      "t:  1677830785560\n",
      "tz:  2023-03-03T08:06:25.560Z\n",
      "cat:  0620\n",
      "sn:  130\n",
      "type:  luxmeter\n",
      "uuid:  ae8d3225-6260-4f36-b3eb-f9b8df29b3b5\n",
      "measure 1 :  [1677830785560, None, '℃', '2023-03-03T08:06:25.560Z', 3.634, 'device_temperature']\n",
      "measure 2 :  [1677830785560, None, 'V', '2023-03-03T08:06:25.560Z', 3.5121, 'battery_level']\n",
      "measure 3 :  [1677830785561, None, '', '2023-03-03T08:06:25.561Z', 0.0, 'orientation']\n",
      "measure 4 :  [1677830785561, None, '', '2023-03-03T08:06:25.561Z', 0, 'back_front']\n",
      "measure 5 :  [1677830785561, None, '', '2023-03-03T08:06:25.561Z', 0, 'regular']\n",
      "measure 6 :  [1677830785561, None, '', '2023-03-03T08:06:25.561Z', 0, 'movement_level']\n",
      "measure 7 :  [1677830785561, None, '', '2023-03-03T08:06:25.561Z', 0, 'posture_tilt']\n",
      "measure 8 :  [1677830785561, 'jzp://coo#ffffffff00000500.0000', 'dB', '2023-03-03T08:06:25.561Z', -84, 'rssi']\n",
      "measure 9 :  [1677830785561, None, '', '2023-03-03T08:06:25.561Z', 0, 'position']\n",
      "measure 10 :  [1677830785561, None, '', '2023-03-03T08:06:25.561Z', 410, 'adc_channel_00']\n",
      "measure 11 :  [1677830785561, None, 'lx', '2023-03-03T08:06:25.561Z', 352, 'illuminance']\n",
      "measure 12 :  [1677830785561, 'jzp://coo#ffffffff00000500.0000', '', '2023-03-03T08:06:25.561Z', 1, 'coordinator']\n",
      "measure 13 :  [1677830785561, None, 'Pa', '2023-03-03T08:06:25.561Z', 60602, 'pressure']\n",
      "measure 14 :  [1677830785561, None, '', '2023-03-03T08:06:25.561Z', 0, 'adc_channel_01']\n",
      "\n",
      "\n",
      "ref:  jzp://edv#0504.0000\n",
      "cuid:  8ef7d6f6-baaf-48ae-873a-5eaea17379cc\n",
      "t:  1677830788660\n",
      "tz:  2023-03-03T08:06:28.660Z\n",
      "cat:  0600\n",
      "sn:  107\n",
      "type:  environmental\n",
      "uuid:  36e16594-8555-47cc-bd29-d355676efcb3\n",
      "measure 1 :  [1677830788661, None, '℃', '2023-03-03T08:06:28.661Z', 39.1073, 'device_temperature']\n",
      "measure 2 :  [1677830788661, None, 'V', '2023-03-03T08:06:28.661Z', 3.5378, 'battery_level']\n",
      "measure 3 :  [1677830788661, None, '℃', '2023-03-03T08:06:28.661Z', 22.6103, 'dew_point']\n",
      "measure 4 :  [1677830788661, None, '%', '2023-03-03T08:06:28.661Z', 83, 'relative_humidity']\n",
      "measure 5 :  [1677830788661, None, '', '2023-03-03T08:06:28.661Z', 0, 'orientation']\n",
      "measure 6 :  [1677830788661, None, '℃', '2023-03-03T08:06:28.661Z', 32, 'environmental_temperature']\n",
      "measure 7 :  [1677830788661, None, '', '2023-03-03T08:06:28.661Z', 0, 'back_front']\n",
      "measure 8 :  [1677830788661, None, '', '2023-03-03T08:06:28.661Z', 0, 'regular']\n",
      "measure 9 :  [1677830788661, None, '', '2023-03-03T08:06:28.661Z', 0, 'movement_level']\n",
      "measure 10 :  [1677830788661, None, '', '2023-03-03T08:06:28.661Z', 0, 'posture_tilt']\n",
      "measure 11 :  [1677830788661, 'jzp://coo#ffffffff00000500.0000', 'dB', '2023-03-03T08:06:28.661Z', -107, 'rssi']\n",
      "measure 12 :  [1677830788661, None, '', '2023-03-03T08:06:28.661Z', 0, 'position']\n",
      "measure 13 :  [1677830788661, None, 'kg/m³', '2023-03-03T08:06:28.661Z', 0, 'absolute_humidity']\n",
      "measure 14 :  [1677830788661, 'jzp://coo#ffffffff00000500.0000', '', '2023-03-03T08:06:28.661Z', 1, 'coordinator']\n",
      "measure 15 :  [1677830788661, None, 'Pa', '2023-03-03T08:06:28.662Z', 63992, 'pressure']\n",
      "\n",
      "\n",
      "ref:  jzp://edv#0503.0000\n",
      "cuid:  341af8ee-8ced-40bf-87f1-68ed15f0d730\n",
      "t:  1677830803294\n",
      "tz:  2023-03-03T08:06:43.295Z\n",
      "cat:  0610\n",
      "sn:  40\n",
      "type:  presence\n",
      "uuid:  a9a94101-dc45-429d-9b1b-2447758fd7e4\n",
      "measure 1 :  [1677830803295, None, 'C', '2023-03-03T08:06:43.295Z', 24.2175, 'device_temperature']\n",
      "measure 2 :  [1677830803295, None, 'V', '2023-03-03T08:06:43.295Z', 3.4504, 'battery_level']\n",
      "measure 3 :  [1677830803295, 'jzp://coo#ffffffff00000500.0000', 'dB', '2023-03-03T08:06:43.295Z', -38.9925, 'rssi']\n",
      "measure 4 :  [1677830803295, None, '', '2023-03-03T08:06:43.295Z', 1, 'presence']\n",
      "measure 5 :  [1677830803295, 'jzp://coo#ffffffff00000500.0000', '', '2023-03-03T08:06:43.295Z', 1, 'coordinator']\n",
      "\n",
      "\n",
      "ref:  jzp://edv#0502.0000\n",
      "cuid:  60884e81-57b1-4c17-a875-1ae2e678745c\n",
      "t:  1677830806743\n",
      "tz:  2023-03-03T08:06:46.743Z\n",
      "cat:  0631\n",
      "sn:  215\n",
      "type:  gasmeter\n",
      "uuid:  a2703033-f222-41c8-9cee-9399180b4497\n",
      "measure 1 :  [1677830806744, 'jzp://coo#ffffffff000004ff.0000', '', '2023-03-03T08:06:46.744Z', 1.0, 'coordinator']\n",
      "measure 2 :  [1677830806744, None, '', '2023-03-03T08:06:46.744Z', 364.181, 'ppm']\n",
      "measure 3 :  [1677830806745, 'jzp://coo#ffffffff000004ff.0000', 'dB', '2023-03-03T08:06:46.745Z', -96.188, 'rssi']\n",
      "measure 4 :  [1677830806745, None, '℃', '2023-03-03T08:06:46.745Z', 26, 'device_temperature']\n",
      "measure 5 :  [1677830806746, None, 'V', '2023-03-03T08:06:46.746Z', 3, 'battery_level']\n",
      "\n",
      "\n",
      "ref:  jzp://edv#0501.0000\n",
      "cuid:  2f1b89ba-f377-48b6-8a8c-a119899e1255\n",
      "t:  1677830810557\n",
      "tz:  2023-03-03T08:06:50.557Z\n",
      "cat:  0620\n",
      "sn:  105\n",
      "type:  luxmeter\n",
      "uuid:  08ac189d-efdb-448a-8013-7d160a774365\n",
      "measure 1 :  [1677830810557, None, '℃', '2023-03-03T08:06:50.557Z', 20.9607, 'device_temperature']\n",
      "measure 2 :  [1677830810558, None, 'V', '2023-03-03T08:06:50.558Z', 3.3015, 'battery_level']\n",
      "measure 3 :  [1677830810558, None, '', '2023-03-03T08:06:50.558Z', 0.0, 'orientation']\n",
      "measure 4 :  [1677830810558, None, '', '2023-03-03T08:06:50.558Z', 0, 'back_front']\n",
      "measure 5 :  [1677830810558, None, '', '2023-03-03T08:06:50.558Z', 0, 'regular']\n",
      "measure 6 :  [1677830810558, None, '', '2023-03-03T08:06:50.558Z', 0, 'movement_level']\n",
      "measure 7 :  [1677830810558, None, '', '2023-03-03T08:06:50.558Z', 0, 'posture_tilt']\n",
      "measure 8 :  [1677830810558, 'jzp://coo#ffffffff00000500.0000', 'dB', '2023-03-03T08:06:50.558Z', -63, 'rssi']\n",
      "measure 9 :  [1677830810558, None, '', '2023-03-03T08:06:50.558Z', 0, 'position']\n",
      "measure 10 :  [1677830810558, None, '', '2023-03-03T08:06:50.558Z', 195, 'adc_channel_00']\n",
      "measure 11 :  [1677830810558, None, 'lx', '2023-03-03T08:06:50.558Z', 59, 'illuminance']\n",
      "measure 12 :  [1677830810558, 'jzp://coo#ffffffff00000500.0000', '', '2023-03-03T08:06:50.558Z', 1, 'coordinator']\n",
      "measure 13 :  [1677830810558, None, 'Pa', '2023-03-03T08:06:50.558Z', 51475, 'pressure']\n",
      "measure 14 :  [1677830810558, None, '', '2023-03-03T08:06:50.558Z', 0, 'adc_channel_01']\n",
      "\n",
      "\n",
      "ref:  jzp://edv#0504.0000\n",
      "cuid:  e2463fbf-1957-4d20-b7fc-5ed825196ff5\n",
      "t:  1677830812868\n",
      "tz:  2023-03-03T08:06:52.868Z\n",
      "cat:  0600\n",
      "sn:  34\n",
      "type:  environmental\n",
      "uuid:  343bab66-7a20-4bfe-b3d2-048c954376d0\n",
      "measure 1 :  [1677830812868, None, '℃', '2023-03-03T08:06:52.868Z', 1.1208, 'device_temperature']\n",
      "measure 2 :  [1677830812868, None, 'V', '2023-03-03T08:06:52.868Z', 3.4641, 'battery_level']\n",
      "measure 3 :  [1677830812868, None, '℃', '2023-03-03T08:06:52.868Z', 20.4233, 'dew_point']\n",
      "measure 4 :  [1677830812869, None, '%', '2023-03-03T08:06:52.869Z', 40, 'relative_humidity']\n",
      "measure 5 :  [1677830812869, None, '', '2023-03-03T08:06:52.869Z', 0, 'orientation']\n",
      "measure 6 :  [1677830812869, None, '℃', '2023-03-03T08:06:52.869Z', 33, 'environmental_temperature']\n",
      "measure 7 :  [1677830812869, None, '', '2023-03-03T08:06:52.869Z', 0, 'back_front']\n",
      "measure 8 :  [1677830812869, None, '', '2023-03-03T08:06:52.869Z', 0, 'regular']\n",
      "measure 9 :  [1677830812869, None, '', '2023-03-03T08:06:52.869Z', 0, 'movement_level']\n",
      "measure 10 :  [1677830812869, None, '', '2023-03-03T08:06:52.869Z', 0, 'posture_tilt']\n",
      "measure 11 :  [1677830812869, 'jzp://coo#ffffffff00000500.0000', 'dB', '2023-03-03T08:06:52.869Z', -16, 'rssi']\n",
      "measure 12 :  [1677830812869, None, '', '2023-03-03T08:06:52.869Z', 0, 'position']\n",
      "measure 13 :  [1677830812869, None, 'kg/m³', '2023-03-03T08:06:52.869Z', 0, 'absolute_humidity']\n",
      "measure 14 :  [1677830812869, 'jzp://coo#ffffffff00000500.0000', '', '2023-03-03T08:06:52.869Z', 1, 'coordinator']\n",
      "measure 15 :  [1677830812869, None, 'Pa', '2023-03-03T08:06:52.869Z', 13725, 'pressure']\n",
      "\n",
      "\n",
      "ref:  jzp://edv#0503.0000\n",
      "cuid:  8fce367d-217b-4a93-b564-c8bdea95f67b\n",
      "t:  1677830823852\n",
      "tz:  2023-03-03T08:07:03.852Z\n",
      "cat:  0610\n",
      "sn:  188\n",
      "type:  presence\n",
      "uuid:  9ecd0061-ac81-4ae6-a27d-0389e7bb13b7\n",
      "measure 1 :  [1677830823853, None, 'C', '2023-03-03T08:07:03.853Z', 26.4835, 'device_temperature']\n",
      "measure 2 :  [1677830823853, None, 'V', '2023-03-03T08:07:03.853Z', 3.3734, 'battery_level']\n",
      "measure 3 :  [1677830823853, 'jzp://coo#ffffffff00000500.0000', 'dB', '2023-03-03T08:07:03.853Z', -80.193, 'rssi']\n",
      "measure 4 :  [1677830823853, None, '', '2023-03-03T08:07:03.853Z', 0, 'presence']\n",
      "measure 5 :  [1677830823853, 'jzp://coo#ffffffff00000500.0000', '', '2023-03-03T08:07:03.853Z', 1, 'coordinator']\n",
      "\n",
      "\n",
      "ref:  jzp://edv#0502.0000\n",
      "cuid:  11fe31e8-680d-4afd-b5aa-956567ac246c\n",
      "t:  1677830827238\n",
      "tz:  2023-03-03T08:07:07.238Z\n",
      "cat:  0631\n",
      "sn:  209\n",
      "type:  gasmeter\n",
      "uuid:  de4f5b90-1afc-4e96-88d4-1ac1ea97d936\n",
      "measure 1 :  [1677830827238, 'jzp://coo#ffffffff000004ff.0000', '', '2023-03-03T08:07:07.238Z', 1.0, 'coordinator']\n",
      "measure 2 :  [1677830827238, None, '', '2023-03-03T08:07:07.238Z', 389.3191, 'ppm']\n",
      "measure 3 :  [1677830827238, 'jzp://coo#ffffffff000004ff.0000', 'dB', '2023-03-03T08:07:07.238Z', -6.7469, 'rssi']\n",
      "measure 4 :  [1677830827238, None, '℃', '2023-03-03T08:07:07.238Z', 39, 'device_temperature']\n",
      "measure 5 :  [1677830827238, None, 'V', '2023-03-03T08:07:07.238Z', 3, 'battery_level']\n",
      "\n",
      "\n",
      "ref:  jzp://edv#0501.0000\n",
      "cuid:  186dfbe1-8282-4be6-b65a-57b6a4979ce2\n",
      "t:  1677830831057\n",
      "tz:  2023-03-03T08:07:11.057Z\n",
      "cat:  0620\n",
      "sn:  77\n",
      "type:  luxmeter\n",
      "uuid:  e850f9d4-f18f-4c88-ba60-7f251249d4fd\n",
      "measure 1 :  [1677830831057, None, '℃', '2023-03-03T08:07:11.057Z', 38.8277, 'device_temperature']\n",
      "measure 2 :  [1677830831058, None, 'V', '2023-03-03T08:07:11.058Z', 3.5129, 'battery_level']\n",
      "measure 3 :  [1677830831058, None, '', '2023-03-03T08:07:11.058Z', 0.0, 'orientation']\n",
      "measure 4 :  [1677830831058, None, '', '2023-03-03T08:07:11.058Z', 0, 'back_front']\n",
      "measure 5 :  [1677830831058, None, '', '2023-03-03T08:07:11.058Z', 0, 'regular']\n",
      "measure 6 :  [1677830831058, None, '', '2023-03-03T08:07:11.058Z', 0, 'movement_level']\n",
      "measure 7 :  [1677830831058, None, '', '2023-03-03T08:07:11.058Z', 0, 'posture_tilt']\n",
      "measure 8 :  [1677830831058, 'jzp://coo#ffffffff00000500.0000', 'dB', '2023-03-03T08:07:11.058Z', -95, 'rssi']\n",
      "measure 9 :  [1677830831058, None, '', '2023-03-03T08:07:11.058Z', 0, 'position']\n",
      "measure 10 :  [1677830831058, None, '', '2023-03-03T08:07:11.058Z', 431, 'adc_channel_00']\n",
      "measure 11 :  [1677830831058, None, 'lx', '2023-03-03T08:07:11.058Z', 401, 'illuminance']\n",
      "measure 12 :  [1677830831058, 'jzp://coo#ffffffff00000500.0000', '', '2023-03-03T08:07:11.058Z', 1, 'coordinator']\n",
      "measure 13 :  [1677830831058, None, 'Pa', '2023-03-03T08:07:11.058Z', 67664, 'pressure']\n",
      "measure 14 :  [1677830831058, None, '', '2023-03-03T08:07:11.058Z', 0, 'adc_channel_01']\n",
      "\n",
      "\n",
      "ref:  jzp://edv#0504.0000\n",
      "cuid:  9780e42a-6036-4304-913e-4febacdf80d5\n",
      "t:  1677830833755\n",
      "tz:  2023-03-03T08:07:13.755Z\n",
      "cat:  0600\n",
      "sn:  54\n",
      "type:  environmental\n",
      "uuid:  b8b4c836-2920-4c45-8490-cdf025f203f1\n",
      "measure 1 :  [1677830833755, None, '℃', '2023-03-03T08:07:13.755Z', 26.5666, 'device_temperature']\n",
      "measure 2 :  [1677830833756, None, 'V', '2023-03-03T08:07:13.756Z', 3.4436, 'battery_level']\n",
      "measure 3 :  [1677830833756, None, '℃', '2023-03-03T08:07:13.756Z', 12.3827, 'dew_point']\n",
      "measure 4 :  [1677830833756, None, '%', '2023-03-03T08:07:13.756Z', 30, 'relative_humidity']\n",
      "measure 5 :  [1677830833756, None, '', '2023-03-03T08:07:13.756Z', 0, 'orientation']\n",
      "measure 6 :  [1677830833756, None, '℃', '2023-03-03T08:07:13.756Z', 27, 'environmental_temperature']\n",
      "measure 7 :  [1677830833756, None, '', '2023-03-03T08:07:13.756Z', 0, 'back_front']\n",
      "measure 8 :  [1677830833756, None, '', '2023-03-03T08:07:13.756Z', 0, 'regular']\n",
      "measure 9 :  [1677830833756, None, '', '2023-03-03T08:07:13.756Z', 0, 'movement_level']\n",
      "measure 10 :  [1677830833756, None, '', '2023-03-03T08:07:13.756Z', 0, 'posture_tilt']\n",
      "measure 11 :  [1677830833756, 'jzp://coo#ffffffff00000500.0000', 'dB', '2023-03-03T08:07:13.756Z', -61, 'rssi']\n",
      "measure 12 :  [1677830833756, None, '', '2023-03-03T08:07:13.756Z', 0, 'position']\n",
      "measure 13 :  [1677830833756, None, 'kg/m³', '2023-03-03T08:07:13.756Z', 0, 'absolute_humidity']\n",
      "measure 14 :  [1677830833756, 'jzp://coo#ffffffff00000500.0000', '', '2023-03-03T08:07:13.756Z', 1, 'coordinator']\n",
      "measure 15 :  [1677830833756, None, 'Pa', '2023-03-03T08:07:13.756Z', 16770, 'pressure']\n",
      "\n",
      "\n",
      "ref:  jzp://edv#0503.0000\n",
      "cuid:  2b318b5c-cf34-478d-a49d-dcdf723e5478\n",
      "t:  1677830848653\n",
      "tz:  2023-03-03T08:07:28.653Z\n",
      "cat:  0610\n",
      "sn:  57\n",
      "type:  presence\n",
      "uuid:  de455812-3cba-4117-8fd4-309c8551d0c9\n",
      "measure 1 :  [1677830848653, None, 'C', '2023-03-03T08:07:28.653Z', 4.951, 'device_temperature']\n",
      "measure 2 :  [1677830848653, None, 'V', '2023-03-03T08:07:28.653Z', 3.4957, 'battery_level']\n",
      "measure 3 :  [1677830848653, 'jzp://coo#ffffffff00000500.0000', 'dB', '2023-03-03T08:07:28.653Z', -55.6803, 'rssi']\n",
      "measure 4 :  [1677830848653, None, '', '2023-03-03T08:07:28.653Z', 1, 'presence']\n",
      "measure 5 :  [1677830848653, 'jzp://coo#ffffffff00000500.0000', '', '2023-03-03T08:07:28.653Z', 1, 'coordinator']\n",
      "\n",
      "\n",
      "ref:  jzp://edv#0502.0000\n",
      "cuid:  d0fc580f-d4d7-4ef1-ae3f-615c76e141a0\n",
      "t:  1677830851788\n",
      "tz:  2023-03-03T08:07:31.788Z\n",
      "cat:  0631\n",
      "sn:  38\n",
      "type:  gasmeter\n",
      "uuid:  840651a6-ff7b-4696-ad75-37b6e1698572\n",
      "measure 1 :  [1677830851789, 'jzp://coo#ffffffff000004ff.0000', '', '2023-03-03T08:07:31.789Z', 1.0, 'coordinator']\n",
      "measure 2 :  [1677830851789, None, '', '2023-03-03T08:07:31.789Z', 332.0615, 'ppm']\n",
      "measure 3 :  [1677830851789, 'jzp://coo#ffffffff000004ff.0000', 'dB', '2023-03-03T08:07:31.789Z', -49.3198, 'rssi']\n",
      "measure 4 :  [1677830851789, None, '℃', '2023-03-03T08:07:31.789Z', 13, 'device_temperature']\n",
      "measure 5 :  [1677830851789, None, 'V', '2023-03-03T08:07:31.789Z', 3, 'battery_level']\n",
      "\n",
      "\n",
      "ref:  jzp://edv#0501.0000\n",
      "cuid:  a3445ee5-d37e-4a1c-bd84-122ec0d82f17\n",
      "t:  1677830853987\n",
      "tz:  2023-03-03T08:07:33.987Z\n",
      "cat:  0620\n",
      "sn:  128\n",
      "type:  luxmeter\n",
      "uuid:  dfa85f11-e01f-4936-8374-935c6151d1c4\n",
      "measure 1 :  [1677830853988, None, '℃', '2023-03-03T08:07:33.988Z', 8.8427, 'device_temperature']\n",
      "measure 2 :  [1677830853988, None, 'V', '2023-03-03T08:07:33.988Z', 3.431, 'battery_level']\n",
      "measure 3 :  [1677830853988, None, '', '2023-03-03T08:07:33.988Z', 0.0, 'orientation']\n",
      "measure 4 :  [1677830853988, None, '', '2023-03-03T08:07:33.988Z', 0, 'back_front']\n",
      "measure 5 :  [1677830853988, None, '', '2023-03-03T08:07:33.988Z', 0, 'regular']\n",
      "measure 6 :  [1677830853988, None, '', '2023-03-03T08:07:33.988Z', 0, 'movement_level']\n",
      "measure 7 :  [1677830853988, None, '', '2023-03-03T08:07:33.988Z', 0, 'posture_tilt']\n",
      "measure 8 :  [1677830853988, 'jzp://coo#ffffffff00000500.0000', 'dB', '2023-03-03T08:07:33.988Z', -54, 'rssi']\n",
      "measure 9 :  [1677830853988, None, '', '2023-03-03T08:07:33.988Z', 0, 'position']\n",
      "measure 10 :  [1677830853988, None, '', '2023-03-03T08:07:33.988Z', 431, 'adc_channel_00']\n",
      "measure 11 :  [1677830853988, None, 'lx', '2023-03-03T08:07:33.988Z', 347, 'illuminance']\n",
      "measure 12 :  [1677830853988, 'jzp://coo#ffffffff00000500.0000', '', '2023-03-03T08:07:33.988Z', 1, 'coordinator']\n",
      "measure 13 :  [1677830853988, None, 'Pa', '2023-03-03T08:07:33.988Z', 18536, 'pressure']\n",
      "measure 14 :  [1677830853988, None, '', '2023-03-03T08:07:33.988Z', 0, 'adc_channel_01']\n",
      "\n",
      "\n",
      "ref:  jzp://edv#0504.0000\n",
      "cuid:  10c0662a-d424-4325-a0de-1d662007d86e\n",
      "t:  1677830856722\n",
      "tz:  2023-03-03T08:07:36.722Z\n",
      "cat:  0600\n",
      "sn:  98\n",
      "type:  environmental\n",
      "uuid:  1417a96d-ffb1-424a-bf74-c8d324f354be\n",
      "measure 1 :  [1677830856722, None, '℃', '2023-03-03T08:07:36.722Z', 33.8563, 'device_temperature']\n",
      "measure 2 :  [1677830856723, None, 'V', '2023-03-03T08:07:36.723Z', 3.2995, 'battery_level']\n",
      "measure 3 :  [1677830856723, None, '℃', '2023-03-03T08:07:36.723Z', 11.1999, 'dew_point']\n",
      "measure 4 :  [1677830856723, None, '%', '2023-03-03T08:07:36.723Z', 66, 'relative_humidity']\n",
      "measure 5 :  [1677830856723, None, '', '2023-03-03T08:07:36.723Z', 0, 'orientation']\n",
      "measure 6 :  [1677830856723, None, '℃', '2023-03-03T08:07:36.723Z', 37, 'environmental_temperature']\n",
      "measure 7 :  [1677830856723, None, '', '2023-03-03T08:07:36.723Z', 0, 'back_front']\n",
      "measure 8 :  [1677830856723, None, '', '2023-03-03T08:07:36.723Z', 0, 'regular']\n",
      "measure 9 :  [1677830856723, None, '', '2023-03-03T08:07:36.723Z', 0, 'movement_level']\n",
      "measure 10 :  [1677830856723, None, '', '2023-03-03T08:07:36.723Z', 0, 'posture_tilt']\n",
      "measure 11 :  [1677830856723, 'jzp://coo#ffffffff00000500.0000', 'dB', '2023-03-03T08:07:36.723Z', -72, 'rssi']\n",
      "measure 12 :  [1677830856723, None, '', '2023-03-03T08:07:36.723Z', 0, 'position']\n",
      "measure 13 :  [1677830856723, None, 'kg/m³', '2023-03-03T08:07:36.723Z', 0, 'absolute_humidity']\n",
      "measure 14 :  [1677830856723, 'jzp://coo#ffffffff00000500.0000', '', '2023-03-03T08:07:36.723Z', 1, 'coordinator']\n",
      "measure 15 :  [1677830856723, None, 'Pa', '2023-03-03T08:07:36.723Z', 15860, 'pressure']\n",
      "\n",
      "\n",
      "ref:  jzp://edv#0503.0000\n",
      "cuid:  7830940d-80ac-41ca-9ff9-c4d589c56847\n",
      "t:  1677830869337\n",
      "tz:  2023-03-03T08:07:49.337Z\n",
      "cat:  0610\n",
      "sn:  177\n",
      "type:  presence\n",
      "uuid:  8b5f726b-bd0a-46f1-b0aa-6559150f1bc4\n",
      "measure 1 :  [1677830869340, None, 'C', '2023-03-03T08:07:49.340Z', 1.6263, 'device_temperature']\n",
      "measure 2 :  [1677830869340, None, 'V', '2023-03-03T08:07:49.340Z', 3.4078, 'battery_level']\n",
      "measure 3 :  [1677830869341, 'jzp://coo#ffffffff00000500.0000', 'dB', '2023-03-03T08:07:49.341Z', -100.7669, 'rssi']\n",
      "measure 4 :  [1677830869341, None, '', '2023-03-03T08:07:49.341Z', 1, 'presence']\n",
      "measure 5 :  [1677830869341, 'jzp://coo#ffffffff00000500.0000', '', '2023-03-03T08:07:49.341Z', 1, 'coordinator']\n",
      "\n",
      "\n",
      "ref:  jzp://edv#0502.0000\n",
      "cuid:  99d63afd-cecd-4d98-b9fe-74015bc89567\n",
      "t:  1677830871732\n",
      "tz:  2023-03-03T08:07:51.732Z\n",
      "cat:  0631\n",
      "sn:  212\n",
      "type:  gasmeter\n",
      "uuid:  9a642500-6cc1-46c4-a731-8e9b84bec3a8\n",
      "measure 1 :  [1677830871732, 'jzp://coo#ffffffff000004ff.0000', '', '2023-03-03T08:07:51.732Z', 1.0, 'coordinator']\n",
      "measure 2 :  [1677830871732, None, '', '2023-03-03T08:07:51.732Z', 354.4344, 'ppm']\n",
      "measure 3 :  [1677830871732, 'jzp://coo#ffffffff000004ff.0000', 'dB', '2023-03-03T08:07:51.732Z', -48.3355, 'rssi']\n",
      "measure 4 :  [1677830871732, None, '℃', '2023-03-03T08:07:51.732Z', 11, 'device_temperature']\n",
      "measure 5 :  [1677830871733, None, 'V', '2023-03-03T08:07:51.733Z', 3, 'battery_level']\n",
      "\n",
      "\n",
      "ref:  jzp://edv#0501.0000\n",
      "cuid:  a54a3eba-083e-4b45-8c54-f6f3ba8f33f5\n",
      "t:  1677830874194\n",
      "tz:  2023-03-03T08:07:54.195Z\n",
      "cat:  0620\n",
      "sn:  55\n",
      "type:  luxmeter\n",
      "uuid:  7b66cfd3-e146-4041-8fbe-427b68f9f6e5\n",
      "measure 1 :  [1677830874195, None, '℃', '2023-03-03T08:07:54.195Z', 37.154, 'device_temperature']\n",
      "measure 2 :  [1677830874195, None, 'V', '2023-03-03T08:07:54.195Z', 3.5244, 'battery_level']\n",
      "measure 3 :  [1677830874195, None, '', '2023-03-03T08:07:54.195Z', 0.0, 'orientation']\n",
      "measure 4 :  [1677830874195, None, '', '2023-03-03T08:07:54.195Z', 0, 'back_front']\n",
      "measure 5 :  [1677830874195, None, '', '2023-03-03T08:07:54.195Z', 0, 'regular']\n",
      "measure 6 :  [1677830874195, None, '', '2023-03-03T08:07:54.195Z', 0, 'movement_level']\n",
      "measure 7 :  [1677830874195, None, '', '2023-03-03T08:07:54.195Z', 0, 'posture_tilt']\n",
      "measure 8 :  [1677830874195, 'jzp://coo#ffffffff00000500.0000', 'dB', '2023-03-03T08:07:54.195Z', -69, 'rssi']\n",
      "measure 9 :  [1677830874195, None, '', '2023-03-03T08:07:54.195Z', 0, 'position']\n",
      "measure 10 :  [1677830874195, None, '', '2023-03-03T08:07:54.195Z', 492, 'adc_channel_00']\n",
      "measure 11 :  [1677830874195, None, 'lx', '2023-03-03T08:07:54.195Z', 101, 'illuminance']\n",
      "measure 12 :  [1677830874195, 'jzp://coo#ffffffff00000500.0000', '', '2023-03-03T08:07:54.195Z', 1, 'coordinator']\n",
      "measure 13 :  [1677830874195, None, 'Pa', '2023-03-03T08:07:54.195Z', 94487, 'pressure']\n",
      "measure 14 :  [1677830874195, None, '', '2023-03-03T08:07:54.195Z', 0, 'adc_channel_01']\n",
      "\n",
      "\n",
      "ref:  jzp://edv#0504.0000\n",
      "cuid:  43eff701-d79a-4443-b733-501771fb76bb\n",
      "t:  1677830877616\n",
      "tz:  2023-03-03T08:07:57.616Z\n",
      "cat:  0600\n",
      "sn:  4\n",
      "type:  environmental\n",
      "uuid:  0561b9e6-095a-4583-a287-ab94439dd375\n",
      "measure 1 :  [1677830877617, None, '℃', '2023-03-03T08:07:57.617Z', 3.534, 'device_temperature']\n",
      "measure 2 :  [1677830877617, None, 'V', '2023-03-03T08:07:57.617Z', 3.4427, 'battery_level']\n",
      "measure 3 :  [1677830877618, None, '℃', '2023-03-03T08:07:57.618Z', 14.9867, 'dew_point']\n",
      "measure 4 :  [1677830877618, None, '%', '2023-03-03T08:07:57.618Z', 53, 'relative_humidity']\n",
      "measure 5 :  [1677830877618, None, '', '2023-03-03T08:07:57.618Z', 0, 'orientation']\n",
      "measure 6 :  [1677830877618, None, '℃', '2023-03-03T08:07:57.618Z', 25, 'environmental_temperature']\n",
      "measure 7 :  [1677830877618, None, '', '2023-03-03T08:07:57.618Z', 0, 'back_front']\n",
      "measure 8 :  [1677830877618, None, '', '2023-03-03T08:07:57.618Z', 0, 'regular']\n",
      "measure 9 :  [1677830877618, None, '', '2023-03-03T08:07:57.618Z', 0, 'movement_level']\n",
      "measure 10 :  [1677830877618, None, '', '2023-03-03T08:07:57.618Z', 0, 'posture_tilt']\n",
      "measure 11 :  [1677830877618, 'jzp://coo#ffffffff00000500.0000', 'dB', '2023-03-03T08:07:57.618Z', -99, 'rssi']\n",
      "measure 12 :  [1677830877618, None, '', '2023-03-03T08:07:57.618Z', 0, 'position']\n",
      "measure 13 :  [1677830877618, None, 'kg/m³', '2023-03-03T08:07:57.618Z', 0, 'absolute_humidity']\n",
      "measure 14 :  [1677830877618, 'jzp://coo#ffffffff00000500.0000', '', '2023-03-03T08:07:57.618Z', 1, 'coordinator']\n",
      "measure 15 :  [1677830877618, None, 'Pa', '2023-03-03T08:07:57.618Z', 69320, 'pressure']\n",
      "\n",
      "\n",
      "ref:  jzp://edv#0503.0000\n",
      "cuid:  8e215706-8a60-438f-b0ce-6d920a0ea5d9\n",
      "t:  1677830895083\n",
      "tz:  2023-03-03T08:08:15.083Z\n",
      "cat:  0610\n",
      "sn:  53\n",
      "type:  presence\n",
      "uuid:  14ca5dfd-66d4-4176-bb5e-b1a6ee4ff0c5\n",
      "measure 1 :  [1677830895084, None, 'C', '2023-03-03T08:08:15.084Z', 36.6112, 'device_temperature']\n",
      "measure 2 :  [1677830895084, None, 'V', '2023-03-03T08:08:15.084Z', 3.3155, 'battery_level']\n",
      "measure 3 :  [1677830895084, 'jzp://coo#ffffffff00000500.0000', 'dB', '2023-03-03T08:08:15.084Z', -29.6414, 'rssi']\n",
      "measure 4 :  [1677830895084, None, '', '2023-03-03T08:08:15.084Z', 0, 'presence']\n",
      "measure 5 :  [1677830895084, 'jzp://coo#ffffffff00000500.0000', '', '2023-03-03T08:08:15.084Z', 1, 'coordinator']\n",
      "\n",
      "\n",
      "ref:  jzp://edv#0502.0000\n",
      "cuid:  9a59311b-f960-460b-9bf4-41292f1d34c9\n",
      "t:  1677830898843\n",
      "tz:  2023-03-03T08:08:18.843Z\n",
      "cat:  0631\n",
      "sn:  18\n",
      "type:  gasmeter\n",
      "uuid:  6baa8433-aa86-4e86-b550-c8de791ad91b\n",
      "measure 1 :  [1677830898844, 'jzp://coo#ffffffff000004ff.0000', '', '2023-03-03T08:08:18.844Z', 1.0, 'coordinator']\n",
      "measure 2 :  [1677830898844, None, '', '2023-03-03T08:08:18.844Z', 394.0727, 'ppm']\n",
      "measure 3 :  [1677830898844, 'jzp://coo#ffffffff000004ff.0000', 'dB', '2023-03-03T08:08:18.844Z', -10.6446, 'rssi']\n",
      "measure 4 :  [1677830898844, None, '℃', '2023-03-03T08:08:18.844Z', 22, 'device_temperature']\n",
      "measure 5 :  [1677830898844, None, 'V', '2023-03-03T08:08:18.844Z', 3, 'battery_level']\n",
      "\n",
      "\n",
      "ref:  jzp://edv#0501.0000\n",
      "cuid:  a17c1ea6-5b78-412c-86f4-721ccf215ff3\n",
      "t:  1677830901750\n",
      "tz:  2023-03-03T08:08:21.750Z\n",
      "cat:  0620\n",
      "sn:  134\n",
      "type:  luxmeter\n",
      "uuid:  d811aae7-7b2f-4251-9f60-ead07b138f37\n",
      "measure 1 :  [1677830901750, None, '℃', '2023-03-03T08:08:21.750Z', 5.1087, 'device_temperature']\n",
      "measure 2 :  [1677830901751, None, 'V', '2023-03-03T08:08:21.751Z', 3.3864, 'battery_level']\n",
      "measure 3 :  [1677830901751, None, '', '2023-03-03T08:08:21.751Z', 0.0, 'orientation']\n",
      "measure 4 :  [1677830901751, None, '', '2023-03-03T08:08:21.751Z', 0, 'back_front']\n",
      "measure 5 :  [1677830901751, None, '', '2023-03-03T08:08:21.751Z', 0, 'regular']\n",
      "measure 6 :  [1677830901751, None, '', '2023-03-03T08:08:21.751Z', 0, 'movement_level']\n",
      "measure 7 :  [1677830901751, None, '', '2023-03-03T08:08:21.751Z', 0, 'posture_tilt']\n",
      "measure 8 :  [1677830901751, 'jzp://coo#ffffffff00000500.0000', 'dB', '2023-03-03T08:08:21.751Z', -5, 'rssi']\n",
      "measure 9 :  [1677830901751, None, '', '2023-03-03T08:08:21.751Z', 0, 'position']\n",
      "measure 10 :  [1677830901751, None, '', '2023-03-03T08:08:21.751Z', 372, 'adc_channel_00']\n",
      "measure 11 :  [1677830901751, None, 'lx', '2023-03-03T08:08:21.751Z', 162, 'illuminance']\n",
      "measure 12 :  [1677830901751, 'jzp://coo#ffffffff00000500.0000', '', '2023-03-03T08:08:21.751Z', 1, 'coordinator']\n",
      "measure 13 :  [1677830901751, None, 'Pa', '2023-03-03T08:08:21.751Z', 75421, 'pressure']\n",
      "measure 14 :  [1677830901751, None, '', '2023-03-03T08:08:21.751Z', 0, 'adc_channel_01']\n",
      "\n",
      "\n",
      "ref:  jzp://edv#0504.0000\n",
      "cuid:  70ef3005-5aeb-4402-8193-1b5d99fa8b1d\n",
      "t:  1677830905040\n",
      "tz:  2023-03-03T08:08:25.040Z\n",
      "cat:  0600\n",
      "sn:  88\n",
      "type:  environmental\n",
      "uuid:  e7c7b46c-99f1-4013-891b-9ab14b405395\n",
      "measure 1 :  [1677830905041, None, '℃', '2023-03-03T08:08:25.041Z', 8.912, 'device_temperature']\n",
      "measure 2 :  [1677830905041, None, 'V', '2023-03-03T08:08:25.041Z', 3.5428, 'battery_level']\n",
      "measure 3 :  [1677830905041, None, '℃', '2023-03-03T08:08:25.041Z', 25.2362, 'dew_point']\n",
      "measure 4 :  [1677830905041, None, '%', '2023-03-03T08:08:25.041Z', 51, 'relative_humidity']\n",
      "measure 5 :  [1677830905041, None, '', '2023-03-03T08:08:25.041Z', 0, 'orientation']\n",
      "measure 6 :  [1677830905041, None, '℃', '2023-03-03T08:08:25.041Z', 27, 'environmental_temperature']\n",
      "measure 7 :  [1677830905041, None, '', '2023-03-03T08:08:25.041Z', 0, 'back_front']\n",
      "measure 8 :  [1677830905041, None, '', '2023-03-03T08:08:25.041Z', 0, 'regular']\n",
      "measure 9 :  [1677830905041, None, '', '2023-03-03T08:08:25.041Z', 0, 'movement_level']\n",
      "measure 10 :  [1677830905041, None, '', '2023-03-03T08:08:25.042Z', 0, 'posture_tilt']\n",
      "measure 11 :  [1677830905042, 'jzp://coo#ffffffff00000500.0000', 'dB', '2023-03-03T08:08:25.042Z', -87, 'rssi']\n",
      "measure 12 :  [1677830905042, None, '', '2023-03-03T08:08:25.042Z', 0, 'position']\n",
      "measure 13 :  [1677830905042, None, 'kg/m³', '2023-03-03T08:08:25.042Z', 0, 'absolute_humidity']\n",
      "measure 14 :  [1677830905042, 'jzp://coo#ffffffff00000500.0000', '', '2023-03-03T08:08:25.042Z', 1, 'coordinator']\n",
      "measure 15 :  [1677830905042, None, 'Pa', '2023-03-03T08:08:25.042Z', 80754, 'pressure']\n",
      "\n",
      "\n",
      "ref:  jzp://edv#0503.0000\n",
      "cuid:  2859e0b0-071a-444a-9ca9-479f18c42de9\n",
      "t:  1677830915834\n",
      "tz:  2023-03-03T08:08:35.834Z\n",
      "cat:  0610\n",
      "sn:  176\n",
      "type:  presence\n",
      "uuid:  9829646f-9c5a-45b5-8236-ea4ce3d50f6e\n",
      "measure 1 :  [1677830915834, None, 'C', '2023-03-03T08:08:35.834Z', 13.4347, 'device_temperature']\n",
      "measure 2 :  [1677830915834, None, 'V', '2023-03-03T08:08:35.834Z', 3.5097, 'battery_level']\n",
      "measure 3 :  [1677830915834, 'jzp://coo#ffffffff00000500.0000', 'dB', '2023-03-03T08:08:35.834Z', -38.2521, 'rssi']\n",
      "measure 4 :  [1677830915834, None, '', '2023-03-03T08:08:35.834Z', 0, 'presence']\n",
      "measure 5 :  [1677830915834, 'jzp://coo#ffffffff00000500.0000', '', '2023-03-03T08:08:35.834Z', 1, 'coordinator']\n",
      "\n",
      "\n",
      "ref:  jzp://edv#0502.0000\n",
      "cuid:  24124085-4061-470a-90ca-6a86f290a6cc\n",
      "t:  1677830919479\n",
      "tz:  2023-03-03T08:08:39.479Z\n",
      "cat:  0631\n",
      "sn:  136\n",
      "type:  gasmeter\n",
      "uuid:  33838952-26ea-4454-b035-acfddb5163a8\n",
      "measure 1 :  [1677830919480, 'jzp://coo#ffffffff000004ff.0000', '', '2023-03-03T08:08:39.480Z', 1.0, 'coordinator']\n",
      "measure 2 :  [1677830919480, None, '', '2023-03-03T08:08:39.480Z', 323.1026, 'ppm']\n",
      "measure 3 :  [1677830919480, 'jzp://coo#ffffffff000004ff.0000', 'dB', '2023-03-03T08:08:39.480Z', -18.7063, 'rssi']\n",
      "measure 4 :  [1677830919480, None, '℃', '2023-03-03T08:08:39.480Z', 33, 'device_temperature']\n",
      "measure 5 :  [1677830919480, None, 'V', '2023-03-03T08:08:39.480Z', 3, 'battery_level']\n",
      "\n",
      "\n",
      "ref:  jzp://edv#0501.0000\n",
      "cuid:  e9bace43-8d15-4d70-8f3a-39345d812de3\n",
      "t:  1677830922216\n",
      "tz:  2023-03-03T08:08:42.216Z\n",
      "cat:  0620\n",
      "sn:  188\n",
      "type:  luxmeter\n",
      "uuid:  765f4c92-cfbf-4369-bf32-007658ea4ba6\n",
      "measure 1 :  [1677830922216, None, '℃', '2023-03-03T08:08:42.216Z', 31.2535, 'device_temperature']\n",
      "measure 2 :  [1677830922216, None, 'V', '2023-03-03T08:08:42.216Z', 3.337, 'battery_level']\n",
      "measure 3 :  [1677830922216, None, '', '2023-03-03T08:08:42.216Z', 0.0, 'orientation']\n",
      "measure 4 :  [1677830922216, None, '', '2023-03-03T08:08:42.216Z', 0, 'back_front']\n",
      "measure 5 :  [1677830922216, None, '', '2023-03-03T08:08:42.216Z', 0, 'regular']\n",
      "measure 6 :  [1677830922216, None, '', '2023-03-03T08:08:42.216Z', 0, 'movement_level']\n",
      "measure 7 :  [1677830922217, None, '', '2023-03-03T08:08:42.217Z', 0, 'posture_tilt']\n",
      "measure 8 :  [1677830922217, 'jzp://coo#ffffffff00000500.0000', 'dB', '2023-03-03T08:08:42.217Z', -40, 'rssi']\n",
      "measure 9 :  [1677830922217, None, '', '2023-03-03T08:08:42.217Z', 0, 'position']\n",
      "measure 10 :  [1677830922217, None, '', '2023-03-03T08:08:42.217Z', 506, 'adc_channel_00']\n",
      "measure 11 :  [1677830922217, None, 'lx', '2023-03-03T08:08:42.217Z', 189, 'illuminance']\n",
      "measure 12 :  [1677830922217, 'jzp://coo#ffffffff00000500.0000', '', '2023-03-03T08:08:42.217Z', 1, 'coordinator']\n",
      "measure 13 :  [1677830922217, None, 'Pa', '2023-03-03T08:08:42.217Z', 38137, 'pressure']\n",
      "measure 14 :  [1677830922217, None, '', '2023-03-03T08:08:42.217Z', 0, 'adc_channel_01']\n",
      "\n",
      "\n",
      "ref:  jzp://edv#0504.0000\n",
      "cuid:  f3d34761-a1fd-4156-b533-4de82725b0ab\n",
      "t:  1677830926035\n",
      "tz:  2023-03-03T08:08:46.035Z\n",
      "cat:  0600\n",
      "sn:  91\n",
      "type:  environmental\n",
      "uuid:  45428ea1-cc3c-4a0a-b629-4480a774d04d\n",
      "measure 1 :  [1677830926035, None, '℃', '2023-03-03T08:08:46.035Z', 1.6704, 'device_temperature']\n",
      "measure 2 :  [1677830926035, None, 'V', '2023-03-03T08:08:46.035Z', 3.3788, 'battery_level']\n",
      "measure 3 :  [1677830926035, None, '℃', '2023-03-03T08:08:46.035Z', 18.2489, 'dew_point']\n",
      "measure 4 :  [1677830926035, None, '%', '2023-03-03T08:08:46.035Z', 77, 'relative_humidity']\n",
      "measure 5 :  [1677830926035, None, '', '2023-03-03T08:08:46.035Z', 0, 'orientation']\n",
      "measure 6 :  [1677830926035, None, '℃', '2023-03-03T08:08:46.035Z', 12, 'environmental_temperature']\n",
      "measure 7 :  [1677830926035, None, '', '2023-03-03T08:08:46.035Z', 0, 'back_front']\n",
      "measure 8 :  [1677830926035, None, '', '2023-03-03T08:08:46.035Z', 0, 'regular']\n",
      "measure 9 :  [1677830926035, None, '', '2023-03-03T08:08:46.035Z', 0, 'movement_level']\n",
      "measure 10 :  [1677830926035, None, '', '2023-03-03T08:08:46.035Z', 0, 'posture_tilt']\n",
      "measure 11 :  [1677830926035, 'jzp://coo#ffffffff00000500.0000', 'dB', '2023-03-03T08:08:46.035Z', -59, 'rssi']\n",
      "measure 12 :  [1677830926035, None, '', '2023-03-03T08:08:46.035Z', 0, 'position']\n",
      "measure 13 :  [1677830926035, None, 'kg/m³', '2023-03-03T08:08:46.035Z', 0, 'absolute_humidity']\n",
      "measure 14 :  [1677830926035, 'jzp://coo#ffffffff00000500.0000', '', '2023-03-03T08:08:46.035Z', 1, 'coordinator']\n",
      "measure 15 :  [1677830926035, None, 'Pa', '2023-03-03T08:08:46.035Z', 50158, 'pressure']\n",
      "\n",
      "\n",
      "ref:  jzp://edv#0503.0000\n",
      "cuid:  2c099bc0-7be1-4ff7-9bae-d6921a233e83\n",
      "t:  1677830939167\n",
      "tz:  2023-03-03T08:08:59.167Z\n",
      "cat:  0610\n",
      "sn:  106\n",
      "type:  presence\n",
      "uuid:  02708d7e-16cf-41fc-a487-ab276453e21e\n",
      "measure 1 :  [1677830939167, None, 'C', '2023-03-03T08:08:59.167Z', 14.4548, 'device_temperature']\n",
      "measure 2 :  [1677830939168, None, 'V', '2023-03-03T08:08:59.168Z', 3.399, 'battery_level']\n",
      "measure 3 :  [1677830939183, 'jzp://coo#ffffffff00000500.0000', 'dB', '2023-03-03T08:08:59.183Z', -86.999, 'rssi']\n",
      "measure 4 :  [1677830939184, None, '', '2023-03-03T08:08:59.184Z', 0, 'presence']\n",
      "measure 5 :  [1677830939184, 'jzp://coo#ffffffff00000500.0000', '', '2023-03-03T08:08:59.184Z', 1, 'coordinator']\n",
      "\n",
      "\n",
      "ref:  jzp://edv#0502.0000\n",
      "cuid:  64d5a75b-8cb1-4d3f-8327-5bf8f54a066d\n",
      "t:  1677830941996\n",
      "tz:  2023-03-03T08:09:01.996Z\n",
      "cat:  0631\n",
      "sn:  149\n",
      "type:  gasmeter\n",
      "uuid:  89f416fb-e8a6-461e-a55b-88ccf6c2b7a9\n",
      "measure 1 :  [1677830941997, 'jzp://coo#ffffffff000004ff.0000', '', '2023-03-03T08:09:01.997Z', 1.0, 'coordinator']\n",
      "measure 2 :  [1677830941997, None, '', '2023-03-03T08:09:01.997Z', 381.8321, 'ppm']\n",
      "measure 3 :  [1677830941997, 'jzp://coo#ffffffff000004ff.0000', 'dB', '2023-03-03T08:09:01.997Z', -117.9275, 'rssi']\n",
      "measure 4 :  [1677830941997, None, '℃', '2023-03-03T08:09:01.997Z', 32, 'device_temperature']\n",
      "measure 5 :  [1677830941997, None, 'V', '2023-03-03T08:09:01.997Z', 3, 'battery_level']\n",
      "\n",
      "\n",
      "ref:  jzp://edv#0501.0000\n",
      "cuid:  138a51b4-1c64-42cf-ab7e-c169cd455ac4\n",
      "t:  1677830944897\n",
      "tz:  2023-03-03T08:09:04.897Z\n",
      "cat:  0620\n",
      "sn:  55\n",
      "type:  luxmeter\n",
      "uuid:  8b45934f-730d-4fe0-9bc9-cb0cd2c85262\n",
      "measure 1 :  [1677830944898, None, '℃', '2023-03-03T08:09:04.898Z', 4.9939, 'device_temperature']\n",
      "measure 2 :  [1677830944898, None, 'V', '2023-03-03T08:09:04.898Z', 3.3938, 'battery_level']\n",
      "measure 3 :  [1677830944898, None, '', '2023-03-03T08:09:04.898Z', 0.0, 'orientation']\n",
      "measure 4 :  [1677830944898, None, '', '2023-03-03T08:09:04.898Z', 0, 'back_front']\n",
      "measure 5 :  [1677830944898, None, '', '2023-03-03T08:09:04.898Z', 0, 'regular']\n",
      "measure 6 :  [1677830944898, None, '', '2023-03-03T08:09:04.898Z', 0, 'movement_level']\n",
      "measure 7 :  [1677830944898, None, '', '2023-03-03T08:09:04.898Z', 0, 'posture_tilt']\n",
      "measure 8 :  [1677830944898, 'jzp://coo#ffffffff00000500.0000', 'dB', '2023-03-03T08:09:04.898Z', -11, 'rssi']\n",
      "measure 9 :  [1677830944898, None, '', '2023-03-03T08:09:04.898Z', 0, 'position']\n",
      "measure 10 :  [1677830944898, None, '', '2023-03-03T08:09:04.898Z', 332, 'adc_channel_00']\n",
      "measure 11 :  [1677830944898, None, 'lx', '2023-03-03T08:09:04.898Z', 432, 'illuminance']\n",
      "measure 12 :  [1677830944898, 'jzp://coo#ffffffff00000500.0000', '', '2023-03-03T08:09:04.898Z', 1, 'coordinator']\n",
      "measure 13 :  [1677830944898, None, 'Pa', '2023-03-03T08:09:04.898Z', 2352, 'pressure']\n",
      "measure 14 :  [1677830944898, None, '', '2023-03-03T08:09:04.898Z', 0, 'adc_channel_01']\n",
      "\n",
      "\n",
      "ref:  jzp://edv#0504.0000\n",
      "cuid:  832c2c17-a011-4a63-be3b-4a85f9afc6ea\n",
      "t:  1677830948088\n",
      "tz:  2023-03-03T08:09:08.088Z\n",
      "cat:  0600\n",
      "sn:  180\n",
      "type:  environmental\n",
      "uuid:  b88752e9-98c9-4028-8550-3b1a0b3fb394\n",
      "measure 1 :  [1677830948089, None, '℃', '2023-03-03T08:09:08.089Z', 29.8553, 'device_temperature']\n",
      "measure 2 :  [1677830948089, None, 'V', '2023-03-03T08:09:08.089Z', 3.4468, 'battery_level']\n",
      "measure 3 :  [1677830948089, None, '℃', '2023-03-03T08:09:08.089Z', 12.5106, 'dew_point']\n",
      "measure 4 :  [1677830948089, None, '%', '2023-03-03T08:09:08.089Z', 61, 'relative_humidity']\n",
      "measure 5 :  [1677830948089, None, '', '2023-03-03T08:09:08.089Z', 0, 'orientation']\n",
      "measure 6 :  [1677830948089, None, '℃', '2023-03-03T08:09:08.089Z', 1, 'environmental_temperature']\n",
      "measure 7 :  [1677830948089, None, '', '2023-03-03T08:09:08.089Z', 0, 'back_front']\n",
      "measure 8 :  [1677830948089, None, '', '2023-03-03T08:09:08.089Z', 0, 'regular']\n",
      "measure 9 :  [1677830948089, None, '', '2023-03-03T08:09:08.089Z', 0, 'movement_level']\n",
      "measure 10 :  [1677830948089, None, '', '2023-03-03T08:09:08.089Z', 0, 'posture_tilt']\n",
      "measure 11 :  [1677830948089, 'jzp://coo#ffffffff00000500.0000', 'dB', '2023-03-03T08:09:08.089Z', -9, 'rssi']\n",
      "measure 12 :  [1677830948089, None, '', '2023-03-03T08:09:08.089Z', 0, 'position']\n",
      "measure 13 :  [1677830948089, None, 'kg/m³', '2023-03-03T08:09:08.089Z', 0, 'absolute_humidity']\n",
      "measure 14 :  [1677830948089, 'jzp://coo#ffffffff00000500.0000', '', '2023-03-03T08:09:08.089Z', 1, 'coordinator']\n",
      "measure 15 :  [1677830948089, None, 'Pa', '2023-03-03T08:09:08.089Z', 26403, 'pressure']\n",
      "\n",
      "\n",
      "ref:  jzp://edv#0503.0000\n",
      "cuid:  c8600381-9297-4304-b067-08918fde8406\n",
      "t:  1677830961843\n",
      "tz:  2023-03-03T08:09:21.843Z\n",
      "cat:  0610\n",
      "sn:  83\n",
      "type:  presence\n",
      "uuid:  af73532a-9d2d-4cb8-bfdc-160edc40cd2f\n",
      "measure 1 :  [1677830961843, None, 'C', '2023-03-03T08:09:21.843Z', 37.617, 'device_temperature']\n",
      "measure 2 :  [1677830961843, None, 'V', '2023-03-03T08:09:21.843Z', 3.2909, 'battery_level']\n",
      "measure 3 :  [1677830961843, 'jzp://coo#ffffffff00000500.0000', 'dB', '2023-03-03T08:09:21.843Z', -15.6078, 'rssi']\n",
      "measure 4 :  [1677830961843, None, '', '2023-03-03T08:09:21.843Z', 1, 'presence']\n",
      "measure 5 :  [1677830961843, 'jzp://coo#ffffffff00000500.0000', '', '2023-03-03T08:09:21.843Z', 1, 'coordinator']\n",
      "\n",
      "\n",
      "ref:  jzp://edv#0502.0000\n",
      "cuid:  ee7c84e3-ebf1-48ba-a9f6-ed04ad87508e\n",
      "t:  1677830964518\n",
      "tz:  2023-03-03T08:09:24.518Z\n",
      "cat:  0631\n",
      "sn:  31\n",
      "type:  gasmeter\n",
      "uuid:  3fd2ee08-4a4d-4a76-8223-66cc99cd6ae4\n",
      "measure 1 :  [1677830964519, 'jzp://coo#ffffffff000004ff.0000', '', '2023-03-03T08:09:24.519Z', 1.0, 'coordinator']\n",
      "measure 2 :  [1677830964519, None, '', '2023-03-03T08:09:24.519Z', 373.1673, 'ppm']\n",
      "measure 3 :  [1677830964519, 'jzp://coo#ffffffff000004ff.0000', 'dB', '2023-03-03T08:09:24.519Z', -11.2048, 'rssi']\n",
      "measure 4 :  [1677830964519, None, '℃', '2023-03-03T08:09:24.519Z', 27, 'device_temperature']\n",
      "measure 5 :  [1677830964519, None, 'V', '2023-03-03T08:09:24.519Z', 3, 'battery_level']\n",
      "\n",
      "\n",
      "ref:  jzp://edv#0501.0000\n",
      "cuid:  be61720d-a226-4b07-bee9-605a46cd3953\n",
      "t:  1677830966604\n",
      "tz:  2023-03-03T08:09:26.604Z\n",
      "cat:  0620\n",
      "sn:  194\n",
      "type:  luxmeter\n",
      "uuid:  720c12b9-bbc2-42b2-9dcd-614ea37ad891\n",
      "measure 1 :  [1677830966605, None, '℃', '2023-03-03T08:09:26.605Z', 30.0147, 'device_temperature']\n",
      "measure 2 :  [1677830966605, None, 'V', '2023-03-03T08:09:26.605Z', 3.4455, 'battery_level']\n",
      "measure 3 :  [1677830966605, None, '', '2023-03-03T08:09:26.605Z', 0.0, 'orientation']\n",
      "measure 4 :  [1677830966605, None, '', '2023-03-03T08:09:26.605Z', 0, 'back_front']\n",
      "measure 5 :  [1677830966605, None, '', '2023-03-03T08:09:26.605Z', 0, 'regular']\n",
      "measure 6 :  [1677830966605, None, '', '2023-03-03T08:09:26.605Z', 0, 'movement_level']\n",
      "measure 7 :  [1677830966605, None, '', '2023-03-03T08:09:26.605Z', 0, 'posture_tilt']\n",
      "measure 8 :  [1677830966605, 'jzp://coo#ffffffff00000500.0000', 'dB', '2023-03-03T08:09:26.605Z', -77, 'rssi']\n",
      "measure 9 :  [1677830966605, None, '', '2023-03-03T08:09:26.605Z', 0, 'position']\n",
      "measure 10 :  [1677830966605, None, '', '2023-03-03T08:09:26.605Z', 580, 'adc_channel_00']\n",
      "measure 11 :  [1677830966605, None, 'lx', '2023-03-03T08:09:26.605Z', 545, 'illuminance']\n",
      "measure 12 :  [1677830966605, 'jzp://coo#ffffffff00000500.0000', '', '2023-03-03T08:09:26.605Z', 1, 'coordinator']\n",
      "measure 13 :  [1677830966605, None, 'Pa', '2023-03-03T08:09:26.605Z', 54406, 'pressure']\n",
      "measure 14 :  [1677830966605, None, '', '2023-03-03T08:09:26.605Z', 0, 'adc_channel_01']\n",
      "\n",
      "\n",
      "ref:  jzp://edv#0504.0000\n",
      "cuid:  6b5b77ac-2806-44c5-8b85-10b028063d9b\n",
      "t:  1677830970414\n",
      "tz:  2023-03-03T08:09:30.414Z\n",
      "cat:  0600\n",
      "sn:  190\n",
      "type:  environmental\n",
      "uuid:  39005c4f-0327-4cfa-b437-551f73e77757\n",
      "measure 1 :  [1677830970414, None, '℃', '2023-03-03T08:09:30.414Z', 19.2869, 'device_temperature']\n",
      "measure 2 :  [1677830970414, None, 'V', '2023-03-03T08:09:30.414Z', 3.4761, 'battery_level']\n",
      "measure 3 :  [1677830970414, None, '℃', '2023-03-03T08:09:30.414Z', 10.9658, 'dew_point']\n",
      "measure 4 :  [1677830970414, None, '%', '2023-03-03T08:09:30.414Z', 91, 'relative_humidity']\n",
      "measure 5 :  [1677830970414, None, '', '2023-03-03T08:09:30.414Z', 0, 'orientation']\n",
      "measure 6 :  [1677830970414, None, '℃', '2023-03-03T08:09:30.414Z', 15, 'environmental_temperature']\n",
      "measure 7 :  [1677830970415, None, '', '2023-03-03T08:09:30.415Z', 0, 'back_front']\n",
      "measure 8 :  [1677830970415, None, '', '2023-03-03T08:09:30.415Z', 0, 'regular']\n",
      "measure 9 :  [1677830970415, None, '', '2023-03-03T08:09:30.415Z', 0, 'movement_level']\n",
      "measure 10 :  [1677830970415, None, '', '2023-03-03T08:09:30.415Z', 0, 'posture_tilt']\n",
      "measure 11 :  [1677830970415, 'jzp://coo#ffffffff00000500.0000', 'dB', '2023-03-03T08:09:30.415Z', -102, 'rssi']\n",
      "measure 12 :  [1677830970415, None, '', '2023-03-03T08:09:30.415Z', 0, 'position']\n",
      "measure 13 :  [1677830970415, None, 'kg/m³', '2023-03-03T08:09:30.415Z', 0, 'absolute_humidity']\n",
      "measure 14 :  [1677830970415, 'jzp://coo#ffffffff00000500.0000', '', '2023-03-03T08:09:30.415Z', 1, 'coordinator']\n",
      "measure 15 :  [1677830970415, None, 'Pa', '2023-03-03T08:09:30.415Z', 95443, 'pressure']\n",
      "\n",
      "\n",
      "ref:  jzp://edv#0503.0000\n",
      "cuid:  46420e0d-1e1d-4616-bb66-cd6af1d8ef65\n",
      "t:  1677830981009\n",
      "tz:  2023-03-03T08:09:41.009Z\n",
      "cat:  0610\n",
      "sn:  190\n",
      "type:  presence\n",
      "uuid:  71bab34f-efb5-4897-85e0-2319dee86ec8\n",
      "measure 1 :  [1677830981010, None, 'C', '2023-03-03T08:09:41.010Z', 34.6504, 'device_temperature']\n",
      "measure 2 :  [1677830981010, None, 'V', '2023-03-03T08:09:41.010Z', 3.4564, 'battery_level']\n",
      "measure 3 :  [1677830981010, 'jzp://coo#ffffffff00000500.0000', 'dB', '2023-03-03T08:09:41.010Z', -18.7047, 'rssi']\n",
      "measure 4 :  [1677830981010, None, '', '2023-03-03T08:09:41.010Z', 1, 'presence']\n",
      "measure 5 :  [1677830981010, 'jzp://coo#ffffffff00000500.0000', '', '2023-03-03T08:09:41.010Z', 1, 'coordinator']\n",
      "\n",
      "\n",
      "ref:  jzp://edv#0502.0000\n",
      "cuid:  5f4da8c8-7533-4d1d-b9e2-3ddd2d7363ac\n",
      "t:  1677830984540\n",
      "tz:  2023-03-03T08:09:44.540Z\n",
      "cat:  0631\n",
      "sn:  159\n",
      "type:  gasmeter\n",
      "uuid:  1bd09a05-2ffd-40de-91cf-c3eec7429198\n",
      "measure 1 :  [1677830984541, 'jzp://coo#ffffffff000004ff.0000', '', '2023-03-03T08:09:44.541Z', 1.0, 'coordinator']\n",
      "measure 2 :  [1677830984541, None, '', '2023-03-03T08:09:44.541Z', 386.7938, 'ppm']\n",
      "measure 3 :  [1677830984541, 'jzp://coo#ffffffff000004ff.0000', 'dB', '2023-03-03T08:09:44.541Z', -50.8154, 'rssi']\n",
      "measure 4 :  [1677830984541, None, '℃', '2023-03-03T08:09:44.541Z', 8, 'device_temperature']\n",
      "measure 5 :  [1677830984541, None, 'V', '2023-03-03T08:09:44.541Z', 3, 'battery_level']\n",
      "\n",
      "\n",
      "ref:  jzp://edv#0501.0000\n",
      "cuid:  e745e28d-0ff3-4ccb-be8c-a1a9672ed2e0\n",
      "t:  1677830988324\n",
      "tz:  2023-03-03T08:09:48.324Z\n",
      "cat:  0620\n",
      "sn:  205\n",
      "type:  luxmeter\n",
      "uuid:  b6aa560c-0836-4a5c-8cd8-15fc4a80cd55\n",
      "measure 1 :  [1677830988325, None, '℃', '2023-03-03T08:09:48.325Z', 4.6903, 'device_temperature']\n",
      "measure 2 :  [1677830988325, None, 'V', '2023-03-03T08:09:48.325Z', 3.4918, 'battery_level']\n",
      "measure 3 :  [1677830988325, None, '', '2023-03-03T08:09:48.325Z', 0.0, 'orientation']\n",
      "measure 4 :  [1677830988325, None, '', '2023-03-03T08:09:48.325Z', 0, 'back_front']\n",
      "measure 5 :  [1677830988325, None, '', '2023-03-03T08:09:48.325Z', 0, 'regular']\n",
      "measure 6 :  [1677830988325, None, '', '2023-03-03T08:09:48.325Z', 0, 'movement_level']\n",
      "measure 7 :  [1677830988325, None, '', '2023-03-03T08:09:48.325Z', 0, 'posture_tilt']\n",
      "measure 8 :  [1677830988325, 'jzp://coo#ffffffff00000500.0000', 'dB', '2023-03-03T08:09:48.325Z', -75, 'rssi']\n",
      "measure 9 :  [1677830988325, None, '', '2023-03-03T08:09:48.325Z', 0, 'position']\n",
      "measure 10 :  [1677830988325, None, '', '2023-03-03T08:09:48.325Z', 265, 'adc_channel_00']\n",
      "measure 11 :  [1677830988325, None, 'lx', '2023-03-03T08:09:48.325Z', 123, 'illuminance']\n",
      "measure 12 :  [1677830988325, 'jzp://coo#ffffffff00000500.0000', '', '2023-03-03T08:09:48.325Z', 1, 'coordinator']\n",
      "measure 13 :  [1677830988325, None, 'Pa', '2023-03-03T08:09:48.325Z', 16824, 'pressure']\n",
      "measure 14 :  [1677830988325, None, '', '2023-03-03T08:09:48.325Z', 0, 'adc_channel_01']\n",
      "\n",
      "\n",
      "ref:  jzp://edv#0504.0000\n",
      "cuid:  29088104-d576-4b12-9b4a-7afab325dae2\n",
      "t:  1677830991638\n",
      "tz:  2023-03-03T08:09:51.639Z\n",
      "cat:  0600\n",
      "sn:  89\n",
      "type:  environmental\n",
      "uuid:  25daa40b-7601-4765-9ae7-129f129682e2\n",
      "measure 1 :  [1677830991639, None, '℃', '2023-03-03T08:09:51.639Z', 2.7745, 'device_temperature']\n",
      "measure 2 :  [1677830991639, None, 'V', '2023-03-03T08:09:51.639Z', 3.5554, 'battery_level']\n",
      "measure 3 :  [1677830991640, None, '℃', '2023-03-03T08:09:51.640Z', 14.0486, 'dew_point']\n",
      "measure 4 :  [1677830991640, None, '%', '2023-03-03T08:09:51.640Z', 31, 'relative_humidity']\n",
      "measure 5 :  [1677830991640, None, '', '2023-03-03T08:09:51.640Z', 0, 'orientation']\n",
      "measure 6 :  [1677830991640, None, '℃', '2023-03-03T08:09:51.640Z', 30, 'environmental_temperature']\n",
      "measure 7 :  [1677830991640, None, '', '2023-03-03T08:09:51.640Z', 0, 'back_front']\n",
      "measure 8 :  [1677830991640, None, '', '2023-03-03T08:09:51.640Z', 0, 'regular']\n",
      "measure 9 :  [1677830991640, None, '', '2023-03-03T08:09:51.640Z', 0, 'movement_level']\n",
      "measure 10 :  [1677830991640, None, '', '2023-03-03T08:09:51.640Z', 0, 'posture_tilt']\n",
      "measure 11 :  [1677830991640, 'jzp://coo#ffffffff00000500.0000', 'dB', '2023-03-03T08:09:51.640Z', -5, 'rssi']\n",
      "measure 12 :  [1677830991640, None, '', '2023-03-03T08:09:51.640Z', 0, 'position']\n",
      "measure 13 :  [1677830991640, None, 'kg/m³', '2023-03-03T08:09:51.640Z', 0, 'absolute_humidity']\n",
      "measure 14 :  [1677830991640, 'jzp://coo#ffffffff00000500.0000', '', '2023-03-03T08:09:51.640Z', 1, 'coordinator']\n",
      "measure 15 :  [1677830991640, None, 'Pa', '2023-03-03T08:09:51.640Z', 71703, 'pressure']\n",
      "\n",
      "\n",
      "ref:  jzp://edv#0503.0000\n",
      "cuid:  b827aa1c-09ab-4e0c-9c25-5f762a730419\n",
      "t:  1677831002813\n",
      "tz:  2023-03-03T08:10:02.813Z\n",
      "cat:  0610\n",
      "sn:  190\n",
      "type:  presence\n",
      "uuid:  6cc9b1bb-495f-4558-aecd-805a1d112949\n",
      "measure 1 :  [1677831002813, None, 'C', '2023-03-03T08:10:02.813Z', 9.0686, 'device_temperature']\n",
      "measure 2 :  [1677831002813, None, 'V', '2023-03-03T08:10:02.813Z', 3.3753, 'battery_level']\n",
      "measure 3 :  [1677831002813, 'jzp://coo#ffffffff00000500.0000', 'dB', '2023-03-03T08:10:02.813Z', -115.0374, 'rssi']\n",
      "measure 4 :  [1677831002813, None, '', '2023-03-03T08:10:02.813Z', 0, 'presence']\n",
      "measure 5 :  [1677831002813, 'jzp://coo#ffffffff00000500.0000', '', '2023-03-03T08:10:02.813Z', 1, 'coordinator']\n",
      "\n",
      "\n",
      "ref:  jzp://edv#0502.0000\n",
      "cuid:  a9cd8895-6fc7-4456-bf60-6ebc93081dfd\n",
      "t:  1677831005360\n",
      "tz:  2023-03-03T08:10:05.360Z\n",
      "cat:  0631\n",
      "sn:  239\n",
      "type:  gasmeter\n",
      "uuid:  87c1e505-ece9-41be-a934-079c7972518e\n",
      "measure 1 :  [1677831005360, 'jzp://coo#ffffffff000004ff.0000', '', '2023-03-03T08:10:05.360Z', 1.0, 'coordinator']\n",
      "measure 2 :  [1677831005360, None, '', '2023-03-03T08:10:05.360Z', 311.8049, 'ppm']\n",
      "measure 3 :  [1677831005360, 'jzp://coo#ffffffff000004ff.0000', 'dB', '2023-03-03T08:10:05.360Z', -27.2389, 'rssi']\n",
      "measure 4 :  [1677831005360, None, '℃', '2023-03-03T08:10:05.360Z', 14, 'device_temperature']\n",
      "measure 5 :  [1677831005360, None, 'V', '2023-03-03T08:10:05.360Z', 3, 'battery_level']\n",
      "\n",
      "\n",
      "ref:  jzp://edv#0501.0000\n",
      "cuid:  b31e5b56-4991-46c3-80b2-f5730a58a4df\n",
      "t:  1677831008830\n",
      "tz:  2023-03-03T08:10:08.830Z\n",
      "cat:  0620\n",
      "sn:  25\n",
      "type:  luxmeter\n",
      "uuid:  70856b5a-9330-4498-bf18-95dbd0ec15ae\n",
      "measure 1 :  [1677831008830, None, '℃', '2023-03-03T08:10:08.830Z', 26.1419, 'device_temperature']\n",
      "measure 2 :  [1677831008830, None, 'V', '2023-03-03T08:10:08.830Z', 3.3898, 'battery_level']\n",
      "measure 3 :  [1677831008830, None, '', '2023-03-03T08:10:08.831Z', 0.0, 'orientation']\n",
      "measure 4 :  [1677831008831, None, '', '2023-03-03T08:10:08.831Z', 0, 'back_front']\n",
      "measure 5 :  [1677831008831, None, '', '2023-03-03T08:10:08.831Z', 0, 'regular']\n",
      "measure 6 :  [1677831008831, None, '', '2023-03-03T08:10:08.831Z', 0, 'movement_level']\n",
      "measure 7 :  [1677831008831, None, '', '2023-03-03T08:10:08.831Z', 0, 'posture_tilt']\n",
      "measure 8 :  [1677831008831, 'jzp://coo#ffffffff00000500.0000', 'dB', '2023-03-03T08:10:08.831Z', -119, 'rssi']\n",
      "measure 9 :  [1677831008831, None, '', '2023-03-03T08:10:08.831Z', 0, 'position']\n",
      "measure 10 :  [1677831008831, None, '', '2023-03-03T08:10:08.831Z', 392, 'adc_channel_00']\n",
      "measure 11 :  [1677831008831, None, 'lx', '2023-03-03T08:10:08.831Z', 293, 'illuminance']\n",
      "measure 12 :  [1677831008831, 'jzp://coo#ffffffff00000500.0000', '', '2023-03-03T08:10:08.831Z', 1, 'coordinator']\n",
      "measure 13 :  [1677831008831, None, 'Pa', '2023-03-03T08:10:08.831Z', 30282, 'pressure']\n",
      "measure 14 :  [1677831008831, None, '', '2023-03-03T08:10:08.831Z', 0, 'adc_channel_01']\n",
      "\n",
      "\n",
      "ref:  jzp://edv#0504.0000\n",
      "cuid:  7ea116be-30f2-4aa2-a869-3444ce935bb3\n",
      "t:  1677831012846\n",
      "tz:  2023-03-03T08:10:12.846Z\n",
      "cat:  0600\n",
      "sn:  198\n",
      "type:  environmental\n",
      "uuid:  4ef49019-0d5e-4d23-890c-6a337595926c\n",
      "measure 1 :  [1677831012846, None, '℃', '2023-03-03T08:10:12.846Z', 20.6333, 'device_temperature']\n",
      "measure 2 :  [1677831012846, None, 'V', '2023-03-03T08:10:12.846Z', 3.3587, 'battery_level']\n",
      "measure 3 :  [1677831012846, None, '℃', '2023-03-03T08:10:12.846Z', 15.8583, 'dew_point']\n",
      "measure 4 :  [1677831012846, None, '%', '2023-03-03T08:10:12.846Z', 75, 'relative_humidity']\n",
      "measure 5 :  [1677831012846, None, '', '2023-03-03T08:10:12.846Z', 0, 'orientation']\n",
      "measure 6 :  [1677831012846, None, '℃', '2023-03-03T08:10:12.846Z', 12, 'environmental_temperature']\n",
      "measure 7 :  [1677831012846, None, '', '2023-03-03T08:10:12.846Z', 0, 'back_front']\n",
      "measure 8 :  [1677831012846, None, '', '2023-03-03T08:10:12.846Z', 0, 'regular']\n",
      "measure 9 :  [1677831012846, None, '', '2023-03-03T08:10:12.846Z', 0, 'movement_level']\n",
      "measure 10 :  [1677831012846, None, '', '2023-03-03T08:10:12.846Z', 0, 'posture_tilt']\n",
      "measure 11 :  [1677831012846, 'jzp://coo#ffffffff00000500.0000', 'dB', '2023-03-03T08:10:12.846Z', -31, 'rssi']\n",
      "measure 12 :  [1677831012846, None, '', '2023-03-03T08:10:12.846Z', 0, 'position']\n",
      "measure 13 :  [1677831012846, None, 'kg/m³', '2023-03-03T08:10:12.846Z', 0, 'absolute_humidity']\n",
      "measure 14 :  [1677831012846, 'jzp://coo#ffffffff00000500.0000', '', '2023-03-03T08:10:12.846Z', 1, 'coordinator']\n",
      "measure 15 :  [1677831012846, None, 'Pa', '2023-03-03T08:10:12.846Z', 47013, 'pressure']\n",
      "\n",
      "\n",
      "ref:  jzp://edv#0503.0000\n",
      "cuid:  1ef5d243-0d4c-4dca-8ee8-be82bb4ddbe0\n",
      "t:  1677831027315\n",
      "tz:  2023-03-03T08:10:27.315Z\n",
      "cat:  0610\n",
      "sn:  188\n",
      "type:  presence\n",
      "uuid:  81cfe7db-19b8-4cd6-8633-85e3a83f020d\n",
      "measure 1 :  [1677831027315, None, 'C', '2023-03-03T08:10:27.315Z', 9.679, 'device_temperature']\n",
      "measure 2 :  [1677831027316, None, 'V', '2023-03-03T08:10:27.316Z', 3.3472, 'battery_level']\n",
      "measure 3 :  [1677831027316, 'jzp://coo#ffffffff00000500.0000', 'dB', '2023-03-03T08:10:27.316Z', -63.053, 'rssi']\n",
      "measure 4 :  [1677831027316, None, '', '2023-03-03T08:10:27.316Z', 1, 'presence']\n",
      "measure 5 :  [1677831027316, 'jzp://coo#ffffffff00000500.0000', '', '2023-03-03T08:10:27.316Z', 1, 'coordinator']\n",
      "\n",
      "\n",
      "ref:  jzp://edv#0502.0000\n",
      "cuid:  7755a174-989f-4c9c-b894-0fea8cb114dc\n",
      "t:  1677831030872\n",
      "tz:  2023-03-03T08:10:30.872Z\n",
      "cat:  0631\n",
      "sn:  41\n",
      "type:  gasmeter\n",
      "uuid:  5f19b765-239b-4533-8d7b-7f36c3d28564\n",
      "measure 1 :  [1677831030872, 'jzp://coo#ffffffff000004ff.0000', '', '2023-03-03T08:10:30.872Z', 1.0, 'coordinator']\n",
      "measure 2 :  [1677831030872, None, '', '2023-03-03T08:10:30.872Z', 326.536, 'ppm']\n",
      "measure 3 :  [1677831030872, 'jzp://coo#ffffffff000004ff.0000', 'dB', '2023-03-03T08:10:30.872Z', -65.7167, 'rssi']\n",
      "measure 4 :  [1677831030872, None, '℃', '2023-03-03T08:10:30.872Z', 28, 'device_temperature']\n",
      "measure 5 :  [1677831030873, None, 'V', '2023-03-03T08:10:30.873Z', 3, 'battery_level']\n",
      "\n",
      "\n",
      "ref:  jzp://edv#0501.0000\n",
      "cuid:  07b1a98c-bfd1-4d4f-88bb-c5cbc1be87da\n",
      "t:  1677831033134\n",
      "tz:  2023-03-03T08:10:33.134Z\n",
      "cat:  0620\n",
      "sn:  178\n",
      "type:  luxmeter\n",
      "uuid:  1fbe9872-5357-4d82-9406-aa781f14070c\n",
      "measure 1 :  [1677831033139, None, '℃', '2023-03-03T08:10:33.139Z', 15.9352, 'device_temperature']\n",
      "measure 2 :  [1677831033139, None, 'V', '2023-03-03T08:10:33.139Z', 3.4407, 'battery_level']\n",
      "measure 3 :  [1677831033139, None, '', '2023-03-03T08:10:33.139Z', 0.0, 'orientation']\n",
      "measure 4 :  [1677831033139, None, '', '2023-03-03T08:10:33.139Z', 0, 'back_front']\n",
      "measure 5 :  [1677831033139, None, '', '2023-03-03T08:10:33.139Z', 0, 'regular']\n",
      "measure 6 :  [1677831033139, None, '', '2023-03-03T08:10:33.139Z', 0, 'movement_level']\n",
      "measure 7 :  [1677831033139, None, '', '2023-03-03T08:10:33.139Z', 0, 'posture_tilt']\n",
      "measure 8 :  [1677831033139, 'jzp://coo#ffffffff00000500.0000', 'dB', '2023-03-03T08:10:33.139Z', -67, 'rssi']\n",
      "measure 9 :  [1677831033139, None, '', '2023-03-03T08:10:33.139Z', 0, 'position']\n",
      "measure 10 :  [1677831033139, None, '', '2023-03-03T08:10:33.139Z', 119, 'adc_channel_00']\n",
      "measure 11 :  [1677831033139, None, 'lx', '2023-03-03T08:10:33.139Z', 548, 'illuminance']\n",
      "measure 12 :  [1677831033139, 'jzp://coo#ffffffff00000500.0000', '', '2023-03-03T08:10:33.139Z', 1, 'coordinator']\n",
      "measure 13 :  [1677831033139, None, 'Pa', '2023-03-03T08:10:33.139Z', 55924, 'pressure']\n",
      "measure 14 :  [1677831033139, None, '', '2023-03-03T08:10:33.139Z', 0, 'adc_channel_01']\n",
      "\n",
      "\n",
      "ref:  jzp://edv#0504.0000\n",
      "cuid:  f1c86678-0214-46ba-914a-94c1f1de9d5b\n",
      "t:  1677831036840\n",
      "tz:  2023-03-03T08:10:36.840Z\n",
      "cat:  0600\n",
      "sn:  250\n",
      "type:  environmental\n",
      "uuid:  b62a5ec3-c16a-45a6-8a62-8bcd2e613466\n",
      "measure 1 :  [1677831036841, None, '℃', '2023-03-03T08:10:36.841Z', 3.1097, 'device_temperature']\n",
      "measure 2 :  [1677831036841, None, 'V', '2023-03-03T08:10:36.841Z', 3.321, 'battery_level']\n",
      "measure 3 :  [1677831036841, None, '℃', '2023-03-03T08:10:36.841Z', 16.2541, 'dew_point']\n",
      "measure 4 :  [1677831036841, None, '%', '2023-03-03T08:10:36.841Z', 25, 'relative_humidity']\n",
      "measure 5 :  [1677831036841, None, '', '2023-03-03T08:10:36.841Z', 0, 'orientation']\n",
      "measure 6 :  [1677831036841, None, '℃', '2023-03-03T08:10:36.841Z', 29, 'environmental_temperature']\n",
      "measure 7 :  [1677831036841, None, '', '2023-03-03T08:10:36.841Z', 0, 'back_front']\n",
      "measure 8 :  [1677831036841, None, '', '2023-03-03T08:10:36.841Z', 0, 'regular']\n",
      "measure 9 :  [1677831036841, None, '', '2023-03-03T08:10:36.841Z', 0, 'movement_level']\n",
      "measure 10 :  [1677831036841, None, '', '2023-03-03T08:10:36.841Z', 0, 'posture_tilt']\n",
      "measure 11 :  [1677831036841, 'jzp://coo#ffffffff00000500.0000', 'dB', '2023-03-03T08:10:36.841Z', -2, 'rssi']\n",
      "measure 12 :  [1677831036841, None, '', '2023-03-03T08:10:36.841Z', 0, 'position']\n",
      "measure 13 :  [1677831036841, None, 'kg/m³', '2023-03-03T08:10:36.841Z', 0, 'absolute_humidity']\n",
      "measure 14 :  [1677831036841, 'jzp://coo#ffffffff00000500.0000', '', '2023-03-03T08:10:36.841Z', 1, 'coordinator']\n",
      "measure 15 :  [1677831036841, None, 'Pa', '2023-03-03T08:10:36.841Z', 49940, 'pressure']\n",
      "\n",
      "\n",
      "ref:  jzp://edv#0503.0000\n",
      "cuid:  353421eb-1923-4325-800f-6e3b5c6a5699\n",
      "t:  1677831050765\n",
      "tz:  2023-03-03T08:10:50.765Z\n",
      "cat:  0610\n",
      "sn:  104\n",
      "type:  presence\n",
      "uuid:  82a3d51a-d421-48b6-92a2-16ee274e93f1\n",
      "measure 1 :  [1677831050765, None, 'C', '2023-03-03T08:10:50.765Z', 16.271, 'device_temperature']\n",
      "measure 2 :  [1677831050765, None, 'V', '2023-03-03T08:10:50.765Z', 3.477, 'battery_level']\n",
      "measure 3 :  [1677831050765, 'jzp://coo#ffffffff00000500.0000', 'dB', '2023-03-03T08:10:50.765Z', -74.9359, 'rssi']\n",
      "measure 4 :  [1677831050765, None, '', '2023-03-03T08:10:50.765Z', 1, 'presence']\n",
      "measure 5 :  [1677831050765, 'jzp://coo#ffffffff00000500.0000', '', '2023-03-03T08:10:50.765Z', 1, 'coordinator']\n",
      "\n",
      "\n",
      "ref:  jzp://edv#0502.0000\n",
      "cuid:  7e5ff71d-7208-4cb5-8f76-bdacec489195\n",
      "t:  1677831053932\n",
      "tz:  2023-03-03T08:10:53.932Z\n",
      "cat:  0631\n",
      "sn:  224\n",
      "type:  gasmeter\n",
      "uuid:  265a7b79-9e08-46f0-ab61-45a316c37102\n",
      "measure 1 :  [1677831053933, 'jzp://coo#ffffffff000004ff.0000', '', '2023-03-03T08:10:53.933Z', 1.0, 'coordinator']\n",
      "measure 2 :  [1677831053933, None, '', '2023-03-03T08:10:53.933Z', 353.4971, 'ppm']\n",
      "measure 3 :  [1677831053933, 'jzp://coo#ffffffff000004ff.0000', 'dB', '2023-03-03T08:10:53.933Z', -24.3999, 'rssi']\n",
      "measure 4 :  [1677831053933, None, '℃', '2023-03-03T08:10:53.933Z', 31, 'device_temperature']\n",
      "measure 5 :  [1677831053933, None, 'V', '2023-03-03T08:10:53.933Z', 3, 'battery_level']\n",
      "\n",
      "\n",
      "ref:  jzp://edv#0501.0000\n",
      "cuid:  1170de42-a02d-479a-8996-13660fd1030b\n",
      "t:  1677831056121\n",
      "tz:  2023-03-03T08:10:56.121Z\n",
      "cat:  0620\n",
      "sn:  113\n",
      "type:  luxmeter\n",
      "uuid:  254c6d56-e264-40e5-81d8-39c551254ecb\n",
      "measure 1 :  [1677831056122, None, '℃', '2023-03-03T08:10:56.122Z', 34.7362, 'device_temperature']\n",
      "measure 2 :  [1677831056122, None, 'V', '2023-03-03T08:10:56.122Z', 3.4139, 'battery_level']\n",
      "measure 3 :  [1677831056122, None, '', '2023-03-03T08:10:56.122Z', 0.0, 'orientation']\n",
      "measure 4 :  [1677831056122, None, '', '2023-03-03T08:10:56.122Z', 0, 'back_front']\n",
      "measure 5 :  [1677831056122, None, '', '2023-03-03T08:10:56.122Z', 0, 'regular']\n",
      "measure 6 :  [1677831056122, None, '', '2023-03-03T08:10:56.122Z', 0, 'movement_level']\n",
      "measure 7 :  [1677831056122, None, '', '2023-03-03T08:10:56.122Z', 0, 'posture_tilt']\n",
      "measure 8 :  [1677831056122, 'jzp://coo#ffffffff00000500.0000', 'dB', '2023-03-03T08:10:56.122Z', -65, 'rssi']\n",
      "measure 9 :  [1677831056122, None, '', '2023-03-03T08:10:56.122Z', 0, 'position']\n",
      "measure 10 :  [1677831056122, None, '', '2023-03-03T08:10:56.122Z', 494, 'adc_channel_00']\n",
      "measure 11 :  [1677831056122, None, 'lx', '2023-03-03T08:10:56.122Z', 265, 'illuminance']\n",
      "measure 12 :  [1677831056122, 'jzp://coo#ffffffff00000500.0000', '', '2023-03-03T08:10:56.122Z', 1, 'coordinator']\n",
      "measure 13 :  [1677831056122, None, 'Pa', '2023-03-03T08:10:56.122Z', 66563, 'pressure']\n",
      "measure 14 :  [1677831056122, None, '', '2023-03-03T08:10:56.122Z', 0, 'adc_channel_01']\n",
      "\n",
      "\n",
      "ref:  jzp://edv#0504.0000\n",
      "cuid:  d46437f7-8aa6-4626-b396-98a98be14d46\n",
      "t:  1677831059160\n",
      "tz:  2023-03-03T08:10:59.160Z\n",
      "cat:  0600\n",
      "sn:  0\n",
      "type:  environmental\n",
      "uuid:  49eafc1e-c5ea-4ed2-b9fb-ec1e564fcb16\n",
      "measure 1 :  [1677831059160, None, '℃', '2023-03-03T08:10:59.160Z', 27.3583, 'device_temperature']\n",
      "measure 2 :  [1677831059160, None, 'V', '2023-03-03T08:10:59.160Z', 3.2663, 'battery_level']\n",
      "measure 3 :  [1677831059160, None, '℃', '2023-03-03T08:10:59.160Z', 18.5651, 'dew_point']\n",
      "measure 4 :  [1677831059160, None, '%', '2023-03-03T08:10:59.160Z', 79, 'relative_humidity']\n",
      "measure 5 :  [1677831059160, None, '', '2023-03-03T08:10:59.160Z', 0, 'orientation']\n",
      "measure 6 :  [1677831059160, None, '℃', '2023-03-03T08:10:59.160Z', 21, 'environmental_temperature']\n",
      "measure 7 :  [1677831059160, None, '', '2023-03-03T08:10:59.160Z', 0, 'back_front']\n",
      "measure 8 :  [1677831059160, None, '', '2023-03-03T08:10:59.160Z', 0, 'regular']\n",
      "measure 9 :  [1677831059160, None, '', '2023-03-03T08:10:59.160Z', 0, 'movement_level']\n",
      "measure 10 :  [1677831059160, None, '', '2023-03-03T08:10:59.160Z', 0, 'posture_tilt']\n",
      "measure 11 :  [1677831059160, 'jzp://coo#ffffffff00000500.0000', 'dB', '2023-03-03T08:10:59.160Z', -49, 'rssi']\n",
      "measure 12 :  [1677831059160, None, '', '2023-03-03T08:10:59.160Z', 0, 'position']\n",
      "measure 13 :  [1677831059160, None, 'kg/m³', '2023-03-03T08:10:59.160Z', 0, 'absolute_humidity']\n",
      "measure 14 :  [1677831059160, 'jzp://coo#ffffffff00000500.0000', '', '2023-03-03T08:10:59.160Z', 1, 'coordinator']\n",
      "measure 15 :  [1677831059160, None, 'Pa', '2023-03-03T08:10:59.160Z', 75006, 'pressure']\n",
      "\n",
      "\n",
      "ref:  jzp://edv#0503.0000\n",
      "cuid:  88a58e1d-04a4-4556-947f-fd7c72ed031e\n",
      "t:  1677831069243\n",
      "tz:  2023-03-03T08:11:09.243Z\n",
      "cat:  0610\n",
      "sn:  254\n",
      "type:  presence\n",
      "uuid:  d27a51c2-200f-41cf-9794-bcb2b607c3da\n",
      "measure 1 :  [1677831069243, None, 'C', '2023-03-03T08:11:09.243Z', 30.4297, 'device_temperature']\n",
      "measure 2 :  [1677831069243, None, 'V', '2023-03-03T08:11:09.243Z', 3.3794, 'battery_level']\n",
      "measure 3 :  [1677831069243, 'jzp://coo#ffffffff00000500.0000', 'dB', '2023-03-03T08:11:09.243Z', -97.9075, 'rssi']\n",
      "measure 4 :  [1677831069243, None, '', '2023-03-03T08:11:09.243Z', 1, 'presence']\n",
      "measure 5 :  [1677831069243, 'jzp://coo#ffffffff00000500.0000', '', '2023-03-03T08:11:09.243Z', 1, 'coordinator']\n",
      "\n",
      "\n",
      "ref:  jzp://edv#0502.0000\n",
      "cuid:  1e72bc51-cf63-4b84-842a-1817530aab80\n",
      "t:  1677831071726\n",
      "tz:  2023-03-03T08:11:11.726Z\n",
      "cat:  0631\n",
      "sn:  143\n",
      "type:  gasmeter\n",
      "uuid:  6674b650-60c1-4e5e-ada9-f97278425388\n",
      "measure 1 :  [1677831071726, 'jzp://coo#ffffffff000004ff.0000', '', '2023-03-03T08:11:11.726Z', 1.0, 'coordinator']\n",
      "measure 2 :  [1677831071726, None, '', '2023-03-03T08:11:11.726Z', 360.0398, 'ppm']\n",
      "measure 3 :  [1677831071726, 'jzp://coo#ffffffff000004ff.0000', 'dB', '2023-03-03T08:11:11.726Z', -90.0571, 'rssi']\n",
      "measure 4 :  [1677831071726, None, '℃', '2023-03-03T08:11:11.726Z', 12, 'device_temperature']\n",
      "measure 5 :  [1677831071726, None, 'V', '2023-03-03T08:11:11.726Z', 3, 'battery_level']\n",
      "\n",
      "\n",
      "ref:  jzp://edv#0501.0000\n",
      "cuid:  889965c6-036a-4885-b595-ad5ce395fe48\n",
      "t:  1677831075112\n",
      "tz:  2023-03-03T08:11:15.112Z\n",
      "cat:  0620\n",
      "sn:  180\n",
      "type:  luxmeter\n",
      "uuid:  4aefc269-8eb8-4348-b131-29787b67e266\n",
      "measure 1 :  [1677831075112, None, '℃', '2023-03-03T08:11:15.112Z', 1.6328, 'device_temperature']\n",
      "measure 2 :  [1677831075112, None, 'V', '2023-03-03T08:11:15.112Z', 3.354, 'battery_level']\n",
      "measure 3 :  [1677831075113, None, '', '2023-03-03T08:11:15.113Z', 0.0, 'orientation']\n",
      "measure 4 :  [1677831075113, None, '', '2023-03-03T08:11:15.113Z', 0, 'back_front']\n",
      "measure 5 :  [1677831075113, None, '', '2023-03-03T08:11:15.113Z', 0, 'regular']\n",
      "measure 6 :  [1677831075113, None, '', '2023-03-03T08:11:15.113Z', 0, 'movement_level']\n",
      "measure 7 :  [1677831075113, None, '', '2023-03-03T08:11:15.113Z', 0, 'posture_tilt']\n",
      "measure 8 :  [1677831075113, 'jzp://coo#ffffffff00000500.0000', 'dB', '2023-03-03T08:11:15.113Z', -109, 'rssi']\n",
      "measure 9 :  [1677831075113, None, '', '2023-03-03T08:11:15.113Z', 0, 'position']\n",
      "measure 10 :  [1677831075113, None, '', '2023-03-03T08:11:15.113Z', 351, 'adc_channel_00']\n",
      "measure 11 :  [1677831075113, None, 'lx', '2023-03-03T08:11:15.113Z', 286, 'illuminance']\n",
      "measure 12 :  [1677831075113, 'jzp://coo#ffffffff00000500.0000', '', '2023-03-03T08:11:15.113Z', 1, 'coordinator']\n",
      "measure 13 :  [1677831075113, None, 'Pa', '2023-03-03T08:11:15.113Z', 70261, 'pressure']\n",
      "measure 14 :  [1677831075113, None, '', '2023-03-03T08:11:15.113Z', 0, 'adc_channel_01']\n",
      "\n",
      "\n",
      "ref:  jzp://edv#0504.0000\n",
      "cuid:  c11fc84c-ded6-4093-97d3-0b4fd12525c2\n",
      "t:  1677831077353\n",
      "tz:  2023-03-03T08:11:17.354Z\n",
      "cat:  0600\n",
      "sn:  77\n",
      "type:  environmental\n",
      "uuid:  c6220d23-7a29-4d59-8510-ee1699d4afb8\n",
      "measure 1 :  [1677831077354, None, '℃', '2023-03-03T08:11:17.354Z', 17.9317, 'device_temperature']\n",
      "measure 2 :  [1677831077354, None, 'V', '2023-03-03T08:11:17.354Z', 3.2877, 'battery_level']\n",
      "measure 3 :  [1677831077356, None, '℃', '2023-03-03T08:11:17.356Z', 16.4357, 'dew_point']\n",
      "measure 4 :  [1677831077356, None, '%', '2023-03-03T08:11:17.356Z', 93, 'relative_humidity']\n",
      "measure 5 :  [1677831077356, None, '', '2023-03-03T08:11:17.356Z', 0, 'orientation']\n",
      "measure 6 :  [1677831077356, None, '℃', '2023-03-03T08:11:17.381Z', 16, 'environmental_temperature']\n",
      "measure 7 :  [1677831077382, None, '', '2023-03-03T08:11:17.382Z', 0, 'back_front']\n",
      "measure 8 :  [1677831077382, None, '', '2023-03-03T08:11:17.382Z', 0, 'regular']\n",
      "measure 9 :  [1677831077382, None, '', '2023-03-03T08:11:17.382Z', 0, 'movement_level']\n",
      "measure 10 :  [1677831077382, None, '', '2023-03-03T08:11:17.382Z', 0, 'posture_tilt']\n",
      "measure 11 :  [1677831077382, 'jzp://coo#ffffffff00000500.0000', 'dB', '2023-03-03T08:11:17.382Z', -52, 'rssi']\n",
      "measure 12 :  [1677831077382, None, '', '2023-03-03T08:11:17.382Z', 0, 'position']\n",
      "measure 13 :  [1677831077382, None, 'kg/m³', '2023-03-03T08:11:17.382Z', 0, 'absolute_humidity']\n",
      "measure 14 :  [1677831077382, 'jzp://coo#ffffffff00000500.0000', '', '2023-03-03T08:11:17.382Z', 1, 'coordinator']\n",
      "measure 15 :  [1677831077382, None, 'Pa', '2023-03-03T08:11:17.382Z', 17258, 'pressure']\n",
      "\n",
      "\n",
      "ref:  jzp://edv#0503.0000\n",
      "cuid:  4887873e-6917-4af0-9645-91e8507809c7\n",
      "t:  1677831089095\n",
      "tz:  2023-03-03T08:11:29.095Z\n",
      "cat:  0610\n",
      "sn:  211\n",
      "type:  presence\n",
      "uuid:  55a4f13c-52de-447d-9c1f-e869382303ee\n",
      "measure 1 :  [1677831089095, None, 'C', '2023-03-03T08:11:29.095Z', 37.848, 'device_temperature']\n",
      "measure 2 :  [1677831089095, None, 'V', '2023-03-03T08:11:29.095Z', 3.2699, 'battery_level']\n",
      "measure 3 :  [1677831089095, 'jzp://coo#ffffffff00000500.0000', 'dB', '2023-03-03T08:11:29.095Z', -89.0159, 'rssi']\n",
      "measure 4 :  [1677831089095, None, '', '2023-03-03T08:11:29.096Z', 0, 'presence']\n",
      "measure 5 :  [1677831089096, 'jzp://coo#ffffffff00000500.0000', '', '2023-03-03T08:11:29.096Z', 1, 'coordinator']\n",
      "\n",
      "\n",
      "ref:  jzp://edv#0502.0000\n",
      "cuid:  d6df466b-5c3c-4659-8ae3-19915efa6baf\n",
      "t:  1677831091430\n",
      "tz:  2023-03-03T08:11:31.430Z\n",
      "cat:  0631\n",
      "sn:  131\n",
      "type:  gasmeter\n",
      "uuid:  d011edcf-6415-4756-97bd-f2ef314e73fb\n",
      "measure 1 :  [1677831091430, 'jzp://coo#ffffffff000004ff.0000', '', '2023-03-03T08:11:31.430Z', 1.0, 'coordinator']\n",
      "measure 2 :  [1677831091430, None, '', '2023-03-03T08:11:31.430Z', 301.7239, 'ppm']\n",
      "measure 3 :  [1677831091430, 'jzp://coo#ffffffff000004ff.0000', 'dB', '2023-03-03T08:11:31.430Z', -19.9512, 'rssi']\n",
      "measure 4 :  [1677831091430, None, '℃', '2023-03-03T08:11:31.430Z', 35, 'device_temperature']\n",
      "measure 5 :  [1677831091430, None, 'V', '2023-03-03T08:11:31.430Z', 3, 'battery_level']\n",
      "\n",
      "\n",
      "ref:  jzp://edv#0501.0000\n",
      "cuid:  4e765b74-797b-45e5-9731-374c6460bee0\n",
      "t:  1677831094117\n",
      "tz:  2023-03-03T08:11:34.117Z\n",
      "cat:  0620\n",
      "sn:  170\n",
      "type:  luxmeter\n",
      "uuid:  53ddee2f-b2e1-40e5-8137-11c7c3a51065\n",
      "measure 1 :  [1677831094117, None, '℃', '2023-03-03T08:11:34.117Z', 31.9174, 'device_temperature']\n",
      "measure 2 :  [1677831094117, None, 'V', '2023-03-03T08:11:34.117Z', 3.3067, 'battery_level']\n",
      "measure 3 :  [1677831094118, None, '', '2023-03-03T08:11:34.118Z', 0.0, 'orientation']\n",
      "measure 4 :  [1677831094118, None, '', '2023-03-03T08:11:34.118Z', 0, 'back_front']\n",
      "measure 5 :  [1677831094118, None, '', '2023-03-03T08:11:34.118Z', 0, 'regular']\n",
      "measure 6 :  [1677831094118, None, '', '2023-03-03T08:11:34.118Z', 0, 'movement_level']\n",
      "measure 7 :  [1677831094118, None, '', '2023-03-03T08:11:34.118Z', 0, 'posture_tilt']\n",
      "measure 8 :  [1677831094118, 'jzp://coo#ffffffff00000500.0000', 'dB', '2023-03-03T08:11:34.118Z', -17, 'rssi']\n",
      "measure 9 :  [1677831094118, None, '', '2023-03-03T08:11:34.118Z', 0, 'position']\n",
      "measure 10 :  [1677831094118, None, '', '2023-03-03T08:11:34.118Z', 102, 'adc_channel_00']\n",
      "measure 11 :  [1677831094118, None, 'lx', '2023-03-03T08:11:34.118Z', 408, 'illuminance']\n",
      "measure 12 :  [1677831094118, 'jzp://coo#ffffffff00000500.0000', '', '2023-03-03T08:11:34.118Z', 1, 'coordinator']\n",
      "measure 13 :  [1677831094118, None, 'Pa', '2023-03-03T08:11:34.118Z', 99172, 'pressure']\n",
      "measure 14 :  [1677831094118, None, '', '2023-03-03T08:11:34.118Z', 0, 'adc_channel_01']\n",
      "\n",
      "\n",
      "ref:  jzp://edv#0504.0000\n",
      "cuid:  b48c0152-20d9-4b97-9d5c-a2c5fc5a0d38\n",
      "t:  1677831096616\n",
      "tz:  2023-03-03T08:11:36.616Z\n",
      "cat:  0600\n",
      "sn:  166\n",
      "type:  environmental\n",
      "uuid:  6cd45b67-f06f-4131-aa84-c6bd756caa5a\n",
      "measure 1 :  [1677831096616, None, '℃', '2023-03-03T08:11:36.616Z', 22.4026, 'device_temperature']\n",
      "measure 2 :  [1677831096616, None, 'V', '2023-03-03T08:11:36.616Z', 3.5206, 'battery_level']\n",
      "measure 3 :  [1677831096616, None, '℃', '2023-03-03T08:11:36.616Z', 21.5084, 'dew_point']\n",
      "measure 4 :  [1677831096616, None, '%', '2023-03-03T08:11:36.616Z', 59, 'relative_humidity']\n",
      "measure 5 :  [1677831096616, None, '', '2023-03-03T08:11:36.616Z', 0, 'orientation']\n",
      "measure 6 :  [1677831096616, None, '℃', '2023-03-03T08:11:36.616Z', 7, 'environmental_temperature']\n",
      "measure 7 :  [1677831096616, None, '', '2023-03-03T08:11:36.616Z', 0, 'back_front']\n",
      "measure 8 :  [1677831096616, None, '', '2023-03-03T08:11:36.616Z', 0, 'regular']\n",
      "measure 9 :  [1677831096616, None, '', '2023-03-03T08:11:36.616Z', 0, 'movement_level']\n",
      "measure 10 :  [1677831096616, None, '', '2023-03-03T08:11:36.616Z', 0, 'posture_tilt']\n",
      "measure 11 :  [1677831096616, 'jzp://coo#ffffffff00000500.0000', 'dB', '2023-03-03T08:11:36.616Z', -113, 'rssi']\n",
      "measure 12 :  [1677831096616, None, '', '2023-03-03T08:11:36.616Z', 0, 'position']\n",
      "measure 13 :  [1677831096616, None, 'kg/m³', '2023-03-03T08:11:36.616Z', 0, 'absolute_humidity']\n",
      "measure 14 :  [1677831096616, 'jzp://coo#ffffffff00000500.0000', '', '2023-03-03T08:11:36.616Z', 1, 'coordinator']\n",
      "measure 15 :  [1677831096616, None, 'Pa', '2023-03-03T08:11:36.616Z', 17046, 'pressure']\n",
      "\n",
      "\n",
      "ref:  jzp://edv#0503.0000\n",
      "cuid:  d35b8f48-576e-4f7d-8662-2d13d9c9bc23\n",
      "t:  1677831108817\n",
      "tz:  2023-03-03T08:11:48.817Z\n",
      "cat:  0610\n",
      "sn:  51\n",
      "type:  presence\n",
      "uuid:  06f6f8b0-c901-4cc2-9c86-3afcd69a89b8\n",
      "measure 1 :  [1677831108817, None, 'C', '2023-03-03T08:11:48.817Z', 7.6756, 'device_temperature']\n",
      "measure 2 :  [1677831108817, None, 'V', '2023-03-03T08:11:48.817Z', 3.2731, 'battery_level']\n",
      "measure 3 :  [1677831108817, 'jzp://coo#ffffffff00000500.0000', 'dB', '2023-03-03T08:11:48.817Z', -10.0461, 'rssi']\n",
      "measure 4 :  [1677831108817, None, '', '2023-03-03T08:11:48.817Z', 0, 'presence']\n",
      "measure 5 :  [1677831108817, 'jzp://coo#ffffffff00000500.0000', '', '2023-03-03T08:11:48.817Z', 1, 'coordinator']\n",
      "\n",
      "\n",
      "ref:  jzp://edv#0502.0000\n",
      "cuid:  aef68ccf-ebaa-45f0-9a3f-856820b05b8e\n",
      "t:  1677831111487\n",
      "tz:  2023-03-03T08:11:51.487Z\n",
      "cat:  0631\n",
      "sn:  16\n",
      "type:  gasmeter\n",
      "uuid:  069c0828-9ab3-4b6a-87c9-5a807e6f3a0b\n",
      "measure 1 :  [1677831111487, 'jzp://coo#ffffffff000004ff.0000', '', '2023-03-03T08:11:51.487Z', 1.0, 'coordinator']\n",
      "measure 2 :  [1677831111487, None, '', '2023-03-03T08:11:51.487Z', 351.8889, 'ppm']\n",
      "measure 3 :  [1677831111487, 'jzp://coo#ffffffff000004ff.0000', 'dB', '2023-03-03T08:11:51.487Z', -31.4584, 'rssi']\n",
      "measure 4 :  [1677831111487, None, '℃', '2023-03-03T08:11:51.487Z', 2, 'device_temperature']\n",
      "measure 5 :  [1677831111487, None, 'V', '2023-03-03T08:11:51.487Z', 3, 'battery_level']\n",
      "\n",
      "\n",
      "ref:  jzp://edv#0501.0000\n",
      "cuid:  bf647365-d38d-42b2-b1cc-71cd3fc8f313\n",
      "t:  1677831114942\n",
      "tz:  2023-03-03T08:11:54.942Z\n",
      "cat:  0620\n",
      "sn:  13\n",
      "type:  luxmeter\n",
      "uuid:  da94cd48-3f6d-42a4-86df-0f705268fe81\n",
      "measure 1 :  [1677831114943, None, '℃', '2023-03-03T08:11:54.943Z', 19.8485, 'device_temperature']\n",
      "measure 2 :  [1677831114943, None, 'V', '2023-03-03T08:11:54.943Z', 3.4163, 'battery_level']\n",
      "measure 3 :  [1677831114943, None, '', '2023-03-03T08:11:54.943Z', 0.0, 'orientation']\n",
      "measure 4 :  [1677831114943, None, '', '2023-03-03T08:11:54.943Z', 0, 'back_front']\n",
      "measure 5 :  [1677831114943, None, '', '2023-03-03T08:11:54.943Z', 0, 'regular']\n",
      "measure 6 :  [1677831114943, None, '', '2023-03-03T08:11:54.943Z', 0, 'movement_level']\n",
      "measure 7 :  [1677831114943, None, '', '2023-03-03T08:11:54.943Z', 0, 'posture_tilt']\n",
      "measure 8 :  [1677831114943, 'jzp://coo#ffffffff00000500.0000', 'dB', '2023-03-03T08:11:54.943Z', -117, 'rssi']\n",
      "measure 9 :  [1677831114943, None, '', '2023-03-03T08:11:54.943Z', 0, 'position']\n",
      "measure 10 :  [1677831114943, None, '', '2023-03-03T08:11:54.943Z', 180, 'adc_channel_00']\n",
      "measure 11 :  [1677831114943, None, 'lx', '2023-03-03T08:11:54.943Z', 305, 'illuminance']\n",
      "measure 12 :  [1677831114943, 'jzp://coo#ffffffff00000500.0000', '', '2023-03-03T08:11:54.943Z', 1, 'coordinator']\n",
      "measure 13 :  [1677831114943, None, 'Pa', '2023-03-03T08:11:54.943Z', 94213, 'pressure']\n",
      "measure 14 :  [1677831114943, None, '', '2023-03-03T08:11:54.943Z', 0, 'adc_channel_01']\n",
      "\n",
      "\n",
      "ref:  jzp://edv#0504.0000\n",
      "cuid:  ebb02c35-0ccd-41b0-93b4-d18d8d750311\n",
      "t:  1677831118939\n",
      "tz:  2023-03-03T08:11:58.939Z\n",
      "cat:  0600\n",
      "sn:  83\n",
      "type:  environmental\n",
      "uuid:  00902f6b-2b7b-4d9b-b56c-54db275c8591\n",
      "measure 1 :  [1677831118940, None, '℃', '2023-03-03T08:11:58.940Z', 14.0049, 'device_temperature']\n",
      "measure 2 :  [1677831118940, None, 'V', '2023-03-03T08:11:58.940Z', 3.3729, 'battery_level']\n",
      "measure 3 :  [1677831118940, None, '℃', '2023-03-03T08:11:58.940Z', 10.6692, 'dew_point']\n",
      "measure 4 :  [1677831118940, None, '%', '2023-03-03T08:11:58.940Z', 19, 'relative_humidity']\n",
      "measure 5 :  [1677831118940, None, '', '2023-03-03T08:11:58.940Z', 0, 'orientation']\n",
      "measure 6 :  [1677831118940, None, '℃', '2023-03-03T08:11:58.940Z', 11, 'environmental_temperature']\n",
      "measure 7 :  [1677831118940, None, '', '2023-03-03T08:11:58.940Z', 0, 'back_front']\n",
      "measure 8 :  [1677831118940, None, '', '2023-03-03T08:11:58.940Z', 0, 'regular']\n",
      "measure 9 :  [1677831118940, None, '', '2023-03-03T08:11:58.940Z', 0, 'movement_level']\n",
      "measure 10 :  [1677831118940, None, '', '2023-03-03T08:11:58.940Z', 0, 'posture_tilt']\n",
      "measure 11 :  [1677831118940, 'jzp://coo#ffffffff00000500.0000', 'dB', '2023-03-03T08:11:58.940Z', -19, 'rssi']\n",
      "measure 12 :  [1677831118940, None, '', '2023-03-03T08:11:58.940Z', 0, 'position']\n",
      "measure 13 :  [1677831118940, None, 'kg/m³', '2023-03-03T08:11:58.940Z', 0, 'absolute_humidity']\n",
      "measure 14 :  [1677831118940, 'jzp://coo#ffffffff00000500.0000', '', '2023-03-03T08:11:58.940Z', 1, 'coordinator']\n",
      "measure 15 :  [1677831118940, None, 'Pa', '2023-03-03T08:11:58.940Z', 53696, 'pressure']\n",
      "\n",
      "\n",
      "ref:  jzp://edv#0503.0000\n",
      "cuid:  b5e213ba-c185-445f-a7d8-73faa83c45ab\n",
      "t:  1677831134232\n",
      "tz:  2023-03-03T08:12:14.232Z\n",
      "cat:  0610\n",
      "sn:  181\n",
      "type:  presence\n",
      "uuid:  80c2c357-aad9-405b-98cc-7fb366c02c33\n",
      "measure 1 :  [1677831134232, None, 'C', '2023-03-03T08:12:14.232Z', 8.9093, 'device_temperature']\n",
      "measure 2 :  [1677831134232, None, 'V', '2023-03-03T08:12:14.232Z', 3.4801, 'battery_level']\n",
      "measure 3 :  [1677831134232, 'jzp://coo#ffffffff00000500.0000', 'dB', '2023-03-03T08:12:14.232Z', -68.22, 'rssi']\n",
      "measure 4 :  [1677831134232, None, '', '2023-03-03T08:12:14.232Z', 1, 'presence']\n",
      "measure 5 :  [1677831134232, 'jzp://coo#ffffffff00000500.0000', '', '2023-03-03T08:12:14.232Z', 1, 'coordinator']\n",
      "\n",
      "\n",
      "ref:  jzp://edv#0502.0000\n",
      "cuid:  1c5f856e-5e2e-474f-bbaf-954e8644708d\n",
      "t:  1677831136456\n",
      "tz:  2023-03-03T08:12:16.456Z\n",
      "cat:  0631\n",
      "sn:  162\n",
      "type:  gasmeter\n",
      "uuid:  56634ecc-8651-4c67-85aa-3ab240516ca5\n",
      "measure 1 :  [1677831136456, 'jzp://coo#ffffffff000004ff.0000', '', '2023-03-03T08:12:16.456Z', 1.0, 'coordinator']\n",
      "measure 2 :  [1677831136456, None, '', '2023-03-03T08:12:16.456Z', 335.6473, 'ppm']\n",
      "measure 3 :  [1677831136456, 'jzp://coo#ffffffff000004ff.0000', 'dB', '2023-03-03T08:12:16.456Z', -97.2757, 'rssi']\n",
      "measure 4 :  [1677831136456, None, '℃', '2023-03-03T08:12:16.456Z', 29, 'device_temperature']\n",
      "measure 5 :  [1677831136456, None, 'V', '2023-03-03T08:12:16.456Z', 3, 'battery_level']\n",
      "\n",
      "\n",
      "ref:  jzp://edv#0501.0000\n",
      "cuid:  2359cb97-bf39-4243-b9ee-7939d9f7c97a\n",
      "t:  1677831140383\n",
      "tz:  2023-03-03T08:12:20.383Z\n",
      "cat:  0620\n",
      "sn:  220\n",
      "type:  luxmeter\n",
      "uuid:  a7030631-f121-4307-b4fe-01f030e49d41\n",
      "measure 1 :  [1677831140383, None, '℃', '2023-03-03T08:12:20.383Z', 32.4091, 'device_temperature']\n",
      "measure 2 :  [1677831140383, None, 'V', '2023-03-03T08:12:20.383Z', 3.4164, 'battery_level']\n",
      "measure 3 :  [1677831140383, None, '', '2023-03-03T08:12:20.383Z', 0.0, 'orientation']\n",
      "measure 4 :  [1677831140383, None, '', '2023-03-03T08:12:20.383Z', 0, 'back_front']\n",
      "measure 5 :  [1677831140383, None, '', '2023-03-03T08:12:20.383Z', 0, 'regular']\n",
      "measure 6 :  [1677831140383, None, '', '2023-03-03T08:12:20.383Z', 0, 'movement_level']\n",
      "measure 7 :  [1677831140383, None, '', '2023-03-03T08:12:20.383Z', 0, 'posture_tilt']\n",
      "measure 8 :  [1677831140383, 'jzp://coo#ffffffff00000500.0000', 'dB', '2023-03-03T08:12:20.383Z', -6, 'rssi']\n",
      "measure 9 :  [1677831140383, None, '', '2023-03-03T08:12:20.383Z', 0, 'position']\n",
      "measure 10 :  [1677831140383, None, '', '2023-03-03T08:12:20.383Z', 469, 'adc_channel_00']\n",
      "measure 11 :  [1677831140383, None, 'lx', '2023-03-03T08:12:20.383Z', 442, 'illuminance']\n",
      "measure 12 :  [1677831140383, 'jzp://coo#ffffffff00000500.0000', '', '2023-03-03T08:12:20.383Z', 1, 'coordinator']\n",
      "measure 13 :  [1677831140383, None, 'Pa', '2023-03-03T08:12:20.383Z', 49065, 'pressure']\n",
      "measure 14 :  [1677831140384, None, '', '2023-03-03T08:12:20.384Z', 0, 'adc_channel_01']\n",
      "\n",
      "\n",
      "ref:  jzp://edv#0504.0000\n",
      "cuid:  e10423a2-761d-4b6d-9a0a-e5189efc4217\n",
      "t:  1677831143791\n",
      "tz:  2023-03-03T08:12:23.791Z\n",
      "cat:  0600\n",
      "sn:  241\n",
      "type:  environmental\n",
      "uuid:  f48f91f0-5257-4ce9-ad71-5ca834994475\n",
      "measure 1 :  [1677831143791, None, '℃', '2023-03-03T08:12:23.791Z', 39.454, 'device_temperature']\n",
      "measure 2 :  [1677831143791, None, 'V', '2023-03-03T08:12:23.791Z', 3.5073, 'battery_level']\n",
      "measure 3 :  [1677831143791, None, '℃', '2023-03-03T08:12:23.791Z', 14.7103, 'dew_point']\n",
      "measure 4 :  [1677831143791, None, '%', '2023-03-03T08:12:23.791Z', 9, 'relative_humidity']\n",
      "measure 5 :  [1677831143791, None, '', '2023-03-03T08:12:23.791Z', 0, 'orientation']\n",
      "measure 6 :  [1677831143791, None, '℃', '2023-03-03T08:12:23.791Z', 3, 'environmental_temperature']\n",
      "measure 7 :  [1677831143791, None, '', '2023-03-03T08:12:23.791Z', 0, 'back_front']\n",
      "measure 8 :  [1677831143791, None, '', '2023-03-03T08:12:23.791Z', 0, 'regular']\n",
      "measure 9 :  [1677831143791, None, '', '2023-03-03T08:12:23.791Z', 0, 'movement_level']\n",
      "measure 10 :  [1677831143791, None, '', '2023-03-03T08:12:23.791Z', 0, 'posture_tilt']\n",
      "measure 11 :  [1677831143791, 'jzp://coo#ffffffff00000500.0000', 'dB', '2023-03-03T08:12:23.791Z', -115, 'rssi']\n",
      "measure 12 :  [1677831143791, None, '', '2023-03-03T08:12:23.791Z', 0, 'position']\n",
      "measure 13 :  [1677831143791, None, 'kg/m³', '2023-03-03T08:12:23.791Z', 0, 'absolute_humidity']\n",
      "measure 14 :  [1677831143791, 'jzp://coo#ffffffff00000500.0000', '', '2023-03-03T08:12:23.791Z', 1, 'coordinator']\n",
      "measure 15 :  [1677831143791, None, 'Pa', '2023-03-03T08:12:23.791Z', 10881, 'pressure']\n",
      "\n",
      "\n",
      "ref:  jzp://edv#0503.0000\n",
      "cuid:  af843cf3-be7b-4877-a25e-e9035b78889f\n",
      "t:  1677831159412\n",
      "tz:  2023-03-03T08:12:39.412Z\n",
      "cat:  0610\n",
      "sn:  11\n",
      "type:  presence\n",
      "uuid:  8082686c-fe77-4df3-9b0e-0ce919597cdd\n",
      "measure 1 :  [1677831159412, None, 'C', '2023-03-03T08:12:39.412Z', 30.9154, 'device_temperature']\n",
      "measure 2 :  [1677831159413, None, 'V', '2023-03-03T08:12:39.413Z', 3.48, 'battery_level']\n",
      "measure 3 :  [1677831159413, 'jzp://coo#ffffffff00000500.0000', 'dB', '2023-03-03T08:12:39.413Z', -118.202, 'rssi']\n",
      "measure 4 :  [1677831159413, None, '', '2023-03-03T08:12:39.413Z', 1, 'presence']\n",
      "measure 5 :  [1677831159413, 'jzp://coo#ffffffff00000500.0000', '', '2023-03-03T08:12:39.413Z', 1, 'coordinator']\n",
      "\n",
      "\n",
      "ref:  jzp://edv#0502.0000\n",
      "cuid:  3a83fdcd-bc20-4979-a4ee-8c529ce081ff\n",
      "t:  1677831162603\n",
      "tz:  2023-03-03T08:12:42.603Z\n",
      "cat:  0631\n",
      "sn:  222\n",
      "type:  gasmeter\n",
      "uuid:  e5012bf2-9294-4e22-9964-3b70aca2c125\n",
      "measure 1 :  [1677831162604, 'jzp://coo#ffffffff000004ff.0000', '', '2023-03-03T08:12:42.604Z', 1.0, 'coordinator']\n",
      "measure 2 :  [1677831162604, None, '', '2023-03-03T08:12:42.604Z', 371.4739, 'ppm']\n",
      "measure 3 :  [1677831162604, 'jzp://coo#ffffffff000004ff.0000', 'dB', '2023-03-03T08:12:42.604Z', -34.6381, 'rssi']\n",
      "measure 4 :  [1677831162604, None, '℃', '2023-03-03T08:12:42.604Z', 39, 'device_temperature']\n",
      "measure 5 :  [1677831162604, None, 'V', '2023-03-03T08:12:42.604Z', 3, 'battery_level']\n",
      "\n",
      "\n",
      "ref:  jzp://edv#0501.0000\n",
      "cuid:  315b2e42-7b3b-4b2e-a4fb-1cb144be0588\n",
      "t:  1677831165570\n",
      "tz:  2023-03-03T08:12:45.570Z\n",
      "cat:  0620\n",
      "sn:  201\n",
      "type:  luxmeter\n",
      "uuid:  d440ce47-7788-4f94-bfad-85271a217318\n",
      "measure 1 :  [1677831165571, None, '℃', '2023-03-03T08:12:45.571Z', 5.3254, 'device_temperature']\n",
      "measure 2 :  [1677831165571, None, 'V', '2023-03-03T08:12:45.571Z', 3.439, 'battery_level']\n",
      "measure 3 :  [1677831165571, None, '', '2023-03-03T08:12:45.571Z', 0.0, 'orientation']\n",
      "measure 4 :  [1677831165571, None, '', '2023-03-03T08:12:45.571Z', 0, 'back_front']\n",
      "measure 5 :  [1677831165571, None, '', '2023-03-03T08:12:45.571Z', 0, 'regular']\n",
      "measure 6 :  [1677831165571, None, '', '2023-03-03T08:12:45.571Z', 0, 'movement_level']\n",
      "measure 7 :  [1677831165571, None, '', '2023-03-03T08:12:45.571Z', 0, 'posture_tilt']\n",
      "measure 8 :  [1677831165571, 'jzp://coo#ffffffff00000500.0000', 'dB', '2023-03-03T08:12:45.571Z', -66, 'rssi']\n",
      "measure 9 :  [1677831165571, None, '', '2023-03-03T08:12:45.571Z', 0, 'position']\n",
      "measure 10 :  [1677831165571, None, '', '2023-03-03T08:12:45.571Z', 391, 'adc_channel_00']\n",
      "measure 11 :  [1677831165571, None, 'lx', '2023-03-03T08:12:45.571Z', 560, 'illuminance']\n",
      "measure 12 :  [1677831165571, 'jzp://coo#ffffffff00000500.0000', '', '2023-03-03T08:12:45.571Z', 1, 'coordinator']\n",
      "measure 13 :  [1677831165571, None, 'Pa', '2023-03-03T08:12:45.571Z', 62599, 'pressure']\n",
      "measure 14 :  [1677831165571, None, '', '2023-03-03T08:12:45.571Z', 0, 'adc_channel_01']\n",
      "\n",
      "\n",
      "ref:  jzp://edv#0504.0000\n",
      "cuid:  0d095249-5ff0-40d6-9896-a8137df1ef2c\n",
      "t:  1677831168376\n",
      "tz:  2023-03-03T08:12:48.376Z\n",
      "cat:  0600\n",
      "sn:  117\n",
      "type:  environmental\n",
      "uuid:  5592d918-19c2-4927-86fd-d213025aba74\n",
      "measure 1 :  [1677831168377, None, '℃', '2023-03-03T08:12:48.377Z', 23.6906, 'device_temperature']\n",
      "measure 2 :  [1677831168377, None, 'V', '2023-03-03T08:12:48.377Z', 3.4653, 'battery_level']\n",
      "measure 3 :  [1677831168377, None, '℃', '2023-03-03T08:12:48.377Z', 24.4216, 'dew_point']\n",
      "measure 4 :  [1677831168377, None, '%', '2023-03-03T08:12:48.377Z', 6, 'relative_humidity']\n",
      "measure 5 :  [1677831168377, None, '', '2023-03-03T08:12:48.377Z', 0, 'orientation']\n",
      "measure 6 :  [1677831168377, None, '℃', '2023-03-03T08:12:48.377Z', 34, 'environmental_temperature']\n",
      "measure 7 :  [1677831168377, None, '', '2023-03-03T08:12:48.377Z', 0, 'back_front']\n",
      "measure 8 :  [1677831168377, None, '', '2023-03-03T08:12:48.377Z', 0, 'regular']\n",
      "measure 9 :  [1677831168377, None, '', '2023-03-03T08:12:48.377Z', 0, 'movement_level']\n",
      "measure 10 :  [1677831168377, None, '', '2023-03-03T08:12:48.377Z', 0, 'posture_tilt']\n",
      "measure 11 :  [1677831168377, 'jzp://coo#ffffffff00000500.0000', 'dB', '2023-03-03T08:12:48.377Z', -94, 'rssi']\n",
      "measure 12 :  [1677831168377, None, '', '2023-03-03T08:12:48.377Z', 0, 'position']\n",
      "measure 13 :  [1677831168377, None, 'kg/m³', '2023-03-03T08:12:48.377Z', 0, 'absolute_humidity']\n",
      "measure 14 :  [1677831168377, 'jzp://coo#ffffffff00000500.0000', '', '2023-03-03T08:12:48.377Z', 1, 'coordinator']\n",
      "measure 15 :  [1677831168377, None, 'Pa', '2023-03-03T08:12:48.377Z', 30435, 'pressure']\n",
      "\n",
      "\n",
      "ref:  jzp://edv#0503.0000\n",
      "cuid:  66f6f09c-50c5-4764-9eb7-a7820cf89b2a\n",
      "t:  1677831179807\n",
      "tz:  2023-03-03T08:12:59.807Z\n",
      "cat:  0610\n",
      "sn:  7\n",
      "type:  presence\n",
      "uuid:  6db7d1e0-85fb-42b3-b4ea-a2d05ffa6e99\n",
      "measure 1 :  [1677831179808, None, 'C', '2023-03-03T08:12:59.808Z', 15.9178, 'device_temperature']\n",
      "measure 2 :  [1677831179808, None, 'V', '2023-03-03T08:12:59.808Z', 3.3399, 'battery_level']\n",
      "measure 3 :  [1677831179808, 'jzp://coo#ffffffff00000500.0000', 'dB', '2023-03-03T08:12:59.808Z', -5.2315, 'rssi']\n",
      "measure 4 :  [1677831179808, None, '', '2023-03-03T08:12:59.808Z', 1, 'presence']\n",
      "measure 5 :  [1677831179808, 'jzp://coo#ffffffff00000500.0000', '', '2023-03-03T08:12:59.808Z', 1, 'coordinator']\n",
      "\n",
      "\n",
      "ref:  jzp://edv#0502.0000\n",
      "cuid:  f3429d53-590a-45a5-8b79-2feb5ef2e934\n",
      "t:  1677831183650\n",
      "tz:  2023-03-03T08:13:03.650Z\n",
      "cat:  0631\n",
      "sn:  149\n",
      "type:  gasmeter\n",
      "uuid:  7152b630-eab9-4f45-a084-343018f34817\n",
      "measure 1 :  [1677831183650, 'jzp://coo#ffffffff000004ff.0000', '', '2023-03-03T08:13:03.650Z', 1.0, 'coordinator']\n",
      "measure 2 :  [1677831183650, None, '', '2023-03-03T08:13:03.650Z', 368.914, 'ppm']\n",
      "measure 3 :  [1677831183650, 'jzp://coo#ffffffff000004ff.0000', 'dB', '2023-03-03T08:13:03.650Z', -11.6541, 'rssi']\n",
      "measure 4 :  [1677831183650, None, '℃', '2023-03-03T08:13:03.650Z', 0, 'device_temperature']\n",
      "measure 5 :  [1677831183650, None, 'V', '2023-03-03T08:13:03.650Z', 3, 'battery_level']\n",
      "\n",
      "\n",
      "ref:  jzp://edv#0501.0000\n",
      "cuid:  639884dd-d9a9-4a74-8fbb-c3e84c08c266\n",
      "t:  1677831186873\n",
      "tz:  2023-03-03T08:13:06.873Z\n",
      "cat:  0620\n",
      "sn:  123\n",
      "type:  luxmeter\n",
      "uuid:  e47390cf-251f-472d-8586-17852fdb4cde\n",
      "measure 1 :  [1677831186874, None, '℃', '2023-03-03T08:13:06.874Z', 26.2414, 'device_temperature']\n",
      "measure 2 :  [1677831186874, None, 'V', '2023-03-03T08:13:06.874Z', 3.2781, 'battery_level']\n",
      "measure 3 :  [1677831186874, None, '', '2023-03-03T08:13:06.874Z', 0.0, 'orientation']\n",
      "measure 4 :  [1677831186874, None, '', '2023-03-03T08:13:06.874Z', 0, 'back_front']\n",
      "measure 5 :  [1677831186874, None, '', '2023-03-03T08:13:06.874Z', 0, 'regular']\n",
      "measure 6 :  [1677831186874, None, '', '2023-03-03T08:13:06.874Z', 0, 'movement_level']\n",
      "measure 7 :  [1677831186874, None, '', '2023-03-03T08:13:06.874Z', 0, 'posture_tilt']\n",
      "measure 8 :  [1677831186874, 'jzp://coo#ffffffff00000500.0000', 'dB', '2023-03-03T08:13:06.874Z', -30, 'rssi']\n",
      "measure 9 :  [1677831186874, None, '', '2023-03-03T08:13:06.874Z', 0, 'position']\n",
      "measure 10 :  [1677831186874, None, '', '2023-03-03T08:13:06.874Z', 23, 'adc_channel_00']\n",
      "measure 11 :  [1677831186874, None, 'lx', '2023-03-03T08:13:06.874Z', 129, 'illuminance']\n",
      "measure 12 :  [1677831186874, 'jzp://coo#ffffffff00000500.0000', '', '2023-03-03T08:13:06.874Z', 1, 'coordinator']\n",
      "measure 13 :  [1677831186874, None, 'Pa', '2023-03-03T08:13:06.874Z', 582, 'pressure']\n",
      "measure 14 :  [1677831186874, None, '', '2023-03-03T08:13:06.874Z', 0, 'adc_channel_01']\n",
      "\n",
      "\n",
      "ref:  jzp://edv#0504.0000\n",
      "cuid:  890945bd-0835-48d1-822d-491f7159f17c\n",
      "t:  1677831189089\n",
      "tz:  2023-03-03T08:13:09.089Z\n",
      "cat:  0600\n",
      "sn:  191\n",
      "type:  environmental\n",
      "uuid:  f85b073c-69fe-4f5f-b1a6-b9b70a595671\n",
      "measure 1 :  [1677831189089, None, '℃', '2023-03-03T08:13:09.089Z', 9.6374, 'device_temperature']\n",
      "measure 2 :  [1677831189089, None, 'V', '2023-03-03T08:13:09.089Z', 3.2631, 'battery_level']\n",
      "measure 3 :  [1677831189089, None, '℃', '2023-03-03T08:13:09.089Z', 20.2289, 'dew_point']\n",
      "measure 4 :  [1677831189089, None, '%', '2023-03-03T08:13:09.089Z', 39, 'relative_humidity']\n",
      "measure 5 :  [1677831189089, None, '', '2023-03-03T08:13:09.089Z', 0, 'orientation']\n",
      "measure 6 :  [1677831189089, None, '℃', '2023-03-03T08:13:09.089Z', 28, 'environmental_temperature']\n",
      "measure 7 :  [1677831189089, None, '', '2023-03-03T08:13:09.089Z', 0, 'back_front']\n",
      "measure 8 :  [1677831189089, None, '', '2023-03-03T08:13:09.089Z', 0, 'regular']\n",
      "measure 9 :  [1677831189089, None, '', '2023-03-03T08:13:09.089Z', 0, 'movement_level']\n",
      "measure 10 :  [1677831189089, None, '', '2023-03-03T08:13:09.089Z', 0, 'posture_tilt']\n",
      "measure 11 :  [1677831189089, 'jzp://coo#ffffffff00000500.0000', 'dB', '2023-03-03T08:13:09.089Z', -62, 'rssi']\n",
      "measure 12 :  [1677831189089, None, '', '2023-03-03T08:13:09.089Z', 0, 'position']\n",
      "measure 13 :  [1677831189089, None, 'kg/m³', '2023-03-03T08:13:09.089Z', 0, 'absolute_humidity']\n",
      "measure 14 :  [1677831189089, 'jzp://coo#ffffffff00000500.0000', '', '2023-03-03T08:13:09.089Z', 1, 'coordinator']\n",
      "measure 15 :  [1677831189089, None, 'Pa', '2023-03-03T08:13:09.089Z', 56536, 'pressure']\n",
      "\n",
      "\n",
      "ref:  jzp://edv#0503.0000\n",
      "cuid:  227c245c-32a2-42a7-b1da-96a11a9a5ca8\n",
      "t:  1677831199637\n",
      "tz:  2023-03-03T08:13:19.637Z\n",
      "cat:  0610\n",
      "sn:  38\n",
      "type:  presence\n",
      "uuid:  7cdf55c7-0e83-40b4-bf56-428a3a3e4937\n",
      "measure 1 :  [1677831199637, None, 'C', '2023-03-03T08:13:19.637Z', 3.0752, 'device_temperature']\n",
      "measure 2 :  [1677831199637, None, 'V', '2023-03-03T08:13:19.637Z', 3.4969, 'battery_level']\n",
      "measure 3 :  [1677831199637, 'jzp://coo#ffffffff00000500.0000', 'dB', '2023-03-03T08:13:19.637Z', -39.3383, 'rssi']\n",
      "measure 4 :  [1677831199637, None, '', '2023-03-03T08:13:19.637Z', 0, 'presence']\n",
      "measure 5 :  [1677831199637, 'jzp://coo#ffffffff00000500.0000', '', '2023-03-03T08:13:19.637Z', 1, 'coordinator']\n",
      "\n",
      "\n",
      "ref:  jzp://edv#0502.0000\n",
      "cuid:  c4201ad7-61ca-43fd-8513-2dad7ffb1acc\n",
      "t:  1677831202450\n",
      "tz:  2023-03-03T08:13:22.450Z\n",
      "cat:  0631\n",
      "sn:  100\n",
      "type:  gasmeter\n",
      "uuid:  283d62f4-e5d4-44ca-ae31-8d1152253c62\n",
      "measure 1 :  [1677831202450, 'jzp://coo#ffffffff000004ff.0000', '', '2023-03-03T08:13:22.450Z', 1.0, 'coordinator']\n",
      "measure 2 :  [1677831202450, None, '', '2023-03-03T08:13:22.450Z', 345.7975, 'ppm']\n",
      "measure 3 :  [1677831202451, 'jzp://coo#ffffffff000004ff.0000', 'dB', '2023-03-03T08:13:22.451Z', -69.9034, 'rssi']\n",
      "measure 4 :  [1677831202451, None, '℃', '2023-03-03T08:13:22.451Z', 24, 'device_temperature']\n",
      "measure 5 :  [1677831202451, None, 'V', '2023-03-03T08:13:22.451Z', 3, 'battery_level']\n",
      "\n",
      "\n",
      "ref:  jzp://edv#0501.0000\n",
      "cuid:  69bd5b6c-9f51-400e-a597-ead735ebbc2a\n",
      "t:  1677831204995\n",
      "tz:  2023-03-03T08:13:24.995Z\n",
      "cat:  0620\n",
      "sn:  75\n",
      "type:  luxmeter\n",
      "uuid:  ecd47937-167a-455d-a311-3f9f5d9d6a5e\n",
      "measure 1 :  [1677831204995, None, '℃', '2023-03-03T08:13:24.995Z', 3.4156, 'device_temperature']\n",
      "measure 2 :  [1677831204995, None, 'V', '2023-03-03T08:13:24.995Z', 3.4045, 'battery_level']\n",
      "measure 3 :  [1677831204995, None, '', '2023-03-03T08:13:24.995Z', 0.0, 'orientation']\n",
      "measure 4 :  [1677831204995, None, '', '2023-03-03T08:13:24.995Z', 0, 'back_front']\n",
      "measure 5 :  [1677831204995, None, '', '2023-03-03T08:13:24.995Z', 0, 'regular']\n",
      "measure 6 :  [1677831204995, None, '', '2023-03-03T08:13:24.995Z', 0, 'movement_level']\n",
      "measure 7 :  [1677831204995, None, '', '2023-03-03T08:13:24.995Z', 0, 'posture_tilt']\n",
      "measure 8 :  [1677831204995, 'jzp://coo#ffffffff00000500.0000', 'dB', '2023-03-03T08:13:24.995Z', -81, 'rssi']\n",
      "measure 9 :  [1677831204995, None, '', '2023-03-03T08:13:24.995Z', 0, 'position']\n",
      "measure 10 :  [1677831204995, None, '', '2023-03-03T08:13:24.995Z', 6, 'adc_channel_00']\n",
      "measure 11 :  [1677831204995, None, 'lx', '2023-03-03T08:13:24.995Z', 265, 'illuminance']\n",
      "measure 12 :  [1677831204995, 'jzp://coo#ffffffff00000500.0000', '', '2023-03-03T08:13:24.995Z', 1, 'coordinator']\n",
      "measure 13 :  [1677831204995, None, 'Pa', '2023-03-03T08:13:24.995Z', 82780, 'pressure']\n",
      "measure 14 :  [1677831204995, None, '', '2023-03-03T08:13:24.995Z', 0, 'adc_channel_01']\n",
      "\n",
      "\n",
      "ref:  jzp://edv#0504.0000\n",
      "cuid:  5ca71710-b6a8-41d7-935a-480f4003e358\n",
      "t:  1677831208883\n",
      "tz:  2023-03-03T08:13:28.883Z\n",
      "cat:  0600\n",
      "sn:  7\n",
      "type:  environmental\n",
      "uuid:  f01c767c-6a03-4f12-b98d-a6c5dfb9d3fe\n",
      "measure 1 :  [1677831208883, None, '℃', '2023-03-03T08:13:28.883Z', 5.4263, 'device_temperature']\n",
      "measure 2 :  [1677831208883, None, 'V', '2023-03-03T08:13:28.883Z', 3.3293, 'battery_level']\n",
      "measure 3 :  [1677831208883, None, '℃', '2023-03-03T08:13:28.883Z', 24.5446, 'dew_point']\n",
      "measure 4 :  [1677831208883, None, '%', '2023-03-03T08:13:28.883Z', 4, 'relative_humidity']\n",
      "measure 5 :  [1677831208883, None, '', '2023-03-03T08:13:28.883Z', 0, 'orientation']\n",
      "measure 6 :  [1677831208883, None, '℃', '2023-03-03T08:13:28.883Z', 19, 'environmental_temperature']\n",
      "measure 7 :  [1677831208883, None, '', '2023-03-03T08:13:28.883Z', 0, 'back_front']\n",
      "measure 8 :  [1677831208883, None, '', '2023-03-03T08:13:28.883Z', 0, 'regular']\n",
      "measure 9 :  [1677831208883, None, '', '2023-03-03T08:13:28.883Z', 0, 'movement_level']\n",
      "measure 10 :  [1677831208883, None, '', '2023-03-03T08:13:28.883Z', 0, 'posture_tilt']\n",
      "measure 11 :  [1677831208883, 'jzp://coo#ffffffff00000500.0000', 'dB', '2023-03-03T08:13:28.883Z', -60, 'rssi']\n",
      "measure 12 :  [1677831208883, None, '', '2023-03-03T08:13:28.883Z', 0, 'position']\n",
      "measure 13 :  [1677831208883, None, 'kg/m³', '2023-03-03T08:13:28.883Z', 0, 'absolute_humidity']\n",
      "measure 14 :  [1677831208883, 'jzp://coo#ffffffff00000500.0000', '', '2023-03-03T08:13:28.883Z', 1, 'coordinator']\n",
      "measure 15 :  [1677831208883, None, 'Pa', '2023-03-03T08:13:28.883Z', 15534, 'pressure']\n",
      "\n",
      "\n",
      "ref:  jzp://edv#0503.0000\n",
      "cuid:  4a1c1208-198a-4881-9659-9defc2c44ff9\n",
      "t:  1677831225687\n",
      "tz:  2023-03-03T08:13:45.687Z\n",
      "cat:  0610\n",
      "sn:  126\n",
      "type:  presence\n",
      "uuid:  708c280b-d345-41fd-93b2-88da424c54d4\n",
      "measure 1 :  [1677831225688, None, 'C', '2023-03-03T08:13:45.688Z', 18.6559, 'device_temperature']\n",
      "measure 2 :  [1677831225688, None, 'V', '2023-03-03T08:13:45.688Z', 3.3494, 'battery_level']\n",
      "measure 3 :  [1677831225688, 'jzp://coo#ffffffff00000500.0000', 'dB', '2023-03-03T08:13:45.688Z', -29.099, 'rssi']\n",
      "measure 4 :  [1677831225688, None, '', '2023-03-03T08:13:45.688Z', 1, 'presence']\n",
      "measure 5 :  [1677831225688, 'jzp://coo#ffffffff00000500.0000', '', '2023-03-03T08:13:45.688Z', 1, 'coordinator']\n",
      "\n",
      "\n",
      "ref:  jzp://edv#0502.0000\n",
      "cuid:  6f8aedba-e745-40b4-82bc-e5025b24eb59\n",
      "t:  1677831229615\n",
      "tz:  2023-03-03T08:13:49.615Z\n",
      "cat:  0631\n",
      "sn:  67\n",
      "type:  gasmeter\n",
      "uuid:  4ad89643-e207-4739-a401-24beae82f66f\n",
      "measure 1 :  [1677831229615, 'jzp://coo#ffffffff000004ff.0000', '', '2023-03-03T08:13:49.615Z', 1.0, 'coordinator']\n",
      "measure 2 :  [1677831229615, None, '', '2023-03-03T08:13:49.615Z', 323.0757, 'ppm']\n",
      "measure 3 :  [1677831229615, 'jzp://coo#ffffffff000004ff.0000', 'dB', '2023-03-03T08:13:49.615Z', -69.3872, 'rssi']\n",
      "measure 4 :  [1677831229615, None, '℃', '2023-03-03T08:13:49.615Z', 12, 'device_temperature']\n",
      "measure 5 :  [1677831229615, None, 'V', '2023-03-03T08:13:49.615Z', 3, 'battery_level']\n",
      "\n",
      "\n",
      "ref:  jzp://edv#0501.0000\n",
      "cuid:  6139a215-2742-4e2a-bdab-262f8154fe4a\n",
      "t:  1677831233510\n",
      "tz:  2023-03-03T08:13:53.510Z\n",
      "cat:  0620\n",
      "sn:  254\n",
      "type:  luxmeter\n",
      "uuid:  05ba6980-dbf6-43af-99e3-21df654db112\n",
      "measure 1 :  [1677831233510, None, '℃', '2023-03-03T08:13:53.510Z', 28.2748, 'device_temperature']\n",
      "measure 2 :  [1677831233510, None, 'V', '2023-03-03T08:13:53.510Z', 3.4235, 'battery_level']\n",
      "measure 3 :  [1677831233510, None, '', '2023-03-03T08:13:53.510Z', 0.0, 'orientation']\n",
      "measure 4 :  [1677831233510, None, '', '2023-03-03T08:13:53.510Z', 0, 'back_front']\n",
      "measure 5 :  [1677831233510, None, '', '2023-03-03T08:13:53.510Z', 0, 'regular']\n",
      "measure 6 :  [1677831233510, None, '', '2023-03-03T08:13:53.510Z', 0, 'movement_level']\n",
      "measure 7 :  [1677831233510, None, '', '2023-03-03T08:13:53.510Z', 0, 'posture_tilt']\n",
      "measure 8 :  [1677831233510, 'jzp://coo#ffffffff00000500.0000', 'dB', '2023-03-03T08:13:53.510Z', -38, 'rssi']\n",
      "measure 9 :  [1677831233510, None, '', '2023-03-03T08:13:53.510Z', 0, 'position']\n",
      "measure 10 :  [1677831233510, None, '', '2023-03-03T08:13:53.510Z', 306, 'adc_channel_00']\n",
      "measure 11 :  [1677831233510, None, 'lx', '2023-03-03T08:13:53.510Z', 200, 'illuminance']\n",
      "measure 12 :  [1677831233510, 'jzp://coo#ffffffff00000500.0000', '', '2023-03-03T08:13:53.510Z', 1, 'coordinator']\n",
      "measure 13 :  [1677831233510, None, 'Pa', '2023-03-03T08:13:53.510Z', 93885, 'pressure']\n",
      "measure 14 :  [1677831233510, None, '', '2023-03-03T08:13:53.510Z', 0, 'adc_channel_01']\n",
      "\n",
      "\n",
      "ref:  jzp://edv#0504.0000\n",
      "cuid:  c1c193be-d9d0-4964-8035-20f620b9efab\n",
      "t:  1677831237414\n",
      "tz:  2023-03-03T08:13:57.414Z\n",
      "cat:  0600\n",
      "sn:  117\n",
      "type:  environmental\n",
      "uuid:  e6f3ec89-a3f3-4621-9208-07ed49bd567b\n",
      "measure 1 :  [1677831237414, None, '℃', '2023-03-03T08:13:57.414Z', 29.189, 'device_temperature']\n",
      "measure 2 :  [1677831237414, None, 'V', '2023-03-03T08:13:57.414Z', 3.3624, 'battery_level']\n",
      "measure 3 :  [1677831237414, None, '℃', '2023-03-03T08:13:57.414Z', 22.2115, 'dew_point']\n",
      "measure 4 :  [1677831237414, None, '%', '2023-03-03T08:13:57.414Z', 68, 'relative_humidity']\n",
      "measure 5 :  [1677831237414, None, '', '2023-03-03T08:13:57.414Z', 0, 'orientation']\n",
      "measure 6 :  [1677831237415, None, '℃', '2023-03-03T08:13:57.415Z', 11, 'environmental_temperature']\n",
      "measure 7 :  [1677831237415, None, '', '2023-03-03T08:13:57.415Z', 0, 'back_front']\n",
      "measure 8 :  [1677831237415, None, '', '2023-03-03T08:13:57.415Z', 0, 'regular']\n",
      "measure 9 :  [1677831237415, None, '', '2023-03-03T08:13:57.415Z', 0, 'movement_level']\n",
      "measure 10 :  [1677831237415, None, '', '2023-03-03T08:13:57.415Z', 0, 'posture_tilt']\n",
      "measure 11 :  [1677831237415, 'jzp://coo#ffffffff00000500.0000', 'dB', '2023-03-03T08:13:57.415Z', -10, 'rssi']\n",
      "measure 12 :  [1677831237415, None, '', '2023-03-03T08:13:57.415Z', 0, 'position']\n",
      "measure 13 :  [1677831237415, None, 'kg/m³', '2023-03-03T08:13:57.415Z', 0, 'absolute_humidity']\n",
      "measure 14 :  [1677831237415, 'jzp://coo#ffffffff00000500.0000', '', '2023-03-03T08:13:57.415Z', 1, 'coordinator']\n",
      "measure 15 :  [1677831237415, None, 'Pa', '2023-03-03T08:13:57.415Z', 49153, 'pressure']\n",
      "\n",
      "\n",
      "ref:  jzp://edv#0503.0000\n",
      "cuid:  1a5c7cb7-7781-4876-8c01-715fe6ee6932\n",
      "t:  1677831250840\n",
      "tz:  2023-03-03T08:14:10.840Z\n",
      "cat:  0610\n",
      "sn:  172\n",
      "type:  presence\n",
      "uuid:  96c5edec-8c4d-4f2a-8dd5-4c723febe57c\n",
      "measure 1 :  [1677831250840, None, 'C', '2023-03-03T08:14:10.840Z', 35.6296, 'device_temperature']\n",
      "measure 2 :  [1677831250840, None, 'V', '2023-03-03T08:14:10.840Z', 3.2829, 'battery_level']\n",
      "measure 3 :  [1677831250840, 'jzp://coo#ffffffff00000500.0000', 'dB', '2023-03-03T08:14:10.840Z', -106.5159, 'rssi']\n",
      "measure 4 :  [1677831250840, None, '', '2023-03-03T08:14:10.840Z', 0, 'presence']\n",
      "measure 5 :  [1677831250840, 'jzp://coo#ffffffff00000500.0000', '', '2023-03-03T08:14:10.840Z', 1, 'coordinator']\n",
      "\n",
      "\n",
      "ref:  jzp://edv#0502.0000\n",
      "cuid:  a816dc0c-c687-4447-84a6-737e6a593ec7\n",
      "t:  1677831254206\n",
      "tz:  2023-03-03T08:14:14.206Z\n",
      "cat:  0631\n",
      "sn:  106\n",
      "type:  gasmeter\n",
      "uuid:  4045f912-971c-41ec-a144-806c1c02259f\n",
      "measure 1 :  [1677831254207, 'jzp://coo#ffffffff000004ff.0000', '', '2023-03-03T08:14:14.207Z', 1.0, 'coordinator']\n",
      "measure 2 :  [1677831254207, None, '', '2023-03-03T08:14:14.207Z', 332.2118, 'ppm']\n",
      "measure 3 :  [1677831254207, 'jzp://coo#ffffffff000004ff.0000', 'dB', '2023-03-03T08:14:14.207Z', -27.22, 'rssi']\n",
      "measure 4 :  [1677831254207, None, '℃', '2023-03-03T08:14:14.207Z', 7, 'device_temperature']\n",
      "measure 5 :  [1677831254207, None, 'V', '2023-03-03T08:14:14.207Z', 3, 'battery_level']\n",
      "\n",
      "\n",
      "ref:  jzp://edv#0501.0000\n",
      "cuid:  667e8858-9a2a-4d73-8978-9052bc7b551a\n",
      "t:  1677831256319\n",
      "tz:  2023-03-03T08:14:16.319Z\n",
      "cat:  0620\n",
      "sn:  163\n",
      "type:  luxmeter\n",
      "uuid:  8a263b82-b664-4d4f-afe7-6b332ed9f791\n",
      "measure 1 :  [1677831256319, None, '℃', '2023-03-03T08:14:16.319Z', 39.7955, 'device_temperature']\n",
      "measure 2 :  [1677831256319, None, 'V', '2023-03-03T08:14:16.319Z', 3.303, 'battery_level']\n",
      "measure 3 :  [1677831256319, None, '', '2023-03-03T08:14:16.319Z', 0.0, 'orientation']\n",
      "measure 4 :  [1677831256319, None, '', '2023-03-03T08:14:16.319Z', 0, 'back_front']\n",
      "measure 5 :  [1677831256319, None, '', '2023-03-03T08:14:16.319Z', 0, 'regular']\n",
      "measure 6 :  [1677831256319, None, '', '2023-03-03T08:14:16.319Z', 0, 'movement_level']\n",
      "measure 7 :  [1677831256319, None, '', '2023-03-03T08:14:16.319Z', 0, 'posture_tilt']\n",
      "measure 8 :  [1677831256319, 'jzp://coo#ffffffff00000500.0000', 'dB', '2023-03-03T08:14:16.319Z', -26, 'rssi']\n",
      "measure 9 :  [1677831256319, None, '', '2023-03-03T08:14:16.319Z', 0, 'position']\n",
      "measure 10 :  [1677831256319, None, '', '2023-03-03T08:14:16.319Z', 147, 'adc_channel_00']\n",
      "measure 11 :  [1677831256320, None, 'lx', '2023-03-03T08:14:16.320Z', 533, 'illuminance']\n",
      "measure 12 :  [1677831256320, 'jzp://coo#ffffffff00000500.0000', '', '2023-03-03T08:14:16.320Z', 1, 'coordinator']\n",
      "measure 13 :  [1677831256320, None, 'Pa', '2023-03-03T08:14:16.320Z', 31138, 'pressure']\n",
      "measure 14 :  [1677831256320, None, '', '2023-03-03T08:14:16.320Z', 0, 'adc_channel_01']\n",
      "\n",
      "\n",
      "ref:  jzp://edv#0504.0000\n",
      "cuid:  089eb92b-7f90-4e16-ac39-ce07ff821b7b\n",
      "t:  1677831259046\n",
      "tz:  2023-03-03T08:14:19.046Z\n",
      "cat:  0600\n",
      "sn:  150\n",
      "type:  environmental\n",
      "uuid:  d44bed60-989e-4af4-ac07-e596a35d1462\n",
      "measure 1 :  [1677831259046, None, '℃', '2023-03-03T08:14:19.046Z', 23.82, 'device_temperature']\n",
      "measure 2 :  [1677831259046, None, 'V', '2023-03-03T08:14:19.046Z', 3.5433, 'battery_level']\n",
      "measure 3 :  [1677831259046, None, '℃', '2023-03-03T08:14:19.046Z', 18.8215, 'dew_point']\n",
      "measure 4 :  [1677831259046, None, '%', '2023-03-03T08:14:19.046Z', 53, 'relative_humidity']\n",
      "measure 5 :  [1677831259046, None, '', '2023-03-03T08:14:19.046Z', 0, 'orientation']\n",
      "measure 6 :  [1677831259046, None, '℃', '2023-03-03T08:14:19.046Z', 33, 'environmental_temperature']\n",
      "measure 7 :  [1677831259046, None, '', '2023-03-03T08:14:19.046Z', 0, 'back_front']\n",
      "measure 8 :  [1677831259046, None, '', '2023-03-03T08:14:19.046Z', 0, 'regular']\n",
      "measure 9 :  [1677831259046, None, '', '2023-03-03T08:14:19.046Z', 0, 'movement_level']\n",
      "measure 10 :  [1677831259047, None, '', '2023-03-03T08:14:19.047Z', 0, 'posture_tilt']\n",
      "measure 11 :  [1677831259047, 'jzp://coo#ffffffff00000500.0000', 'dB', '2023-03-03T08:14:19.047Z', -69, 'rssi']\n",
      "measure 12 :  [1677831259047, None, '', '2023-03-03T08:14:19.047Z', 0, 'position']\n",
      "measure 13 :  [1677831259047, None, 'kg/m³', '2023-03-03T08:14:19.047Z', 0, 'absolute_humidity']\n",
      "measure 14 :  [1677831259047, 'jzp://coo#ffffffff00000500.0000', '', '2023-03-03T08:14:19.047Z', 1, 'coordinator']\n",
      "measure 15 :  [1677831259047, None, 'Pa', '2023-03-03T08:14:19.047Z', 1835, 'pressure']\n",
      "\n",
      "\n",
      "ref:  jzp://edv#0503.0000\n",
      "cuid:  88f0a00f-cea8-4b9a-8f3d-3f48d69e319e\n",
      "t:  1677831275138\n",
      "tz:  2023-03-03T08:14:35.138Z\n",
      "cat:  0610\n",
      "sn:  86\n",
      "type:  presence\n",
      "uuid:  a8414518-724e-4d00-a7b5-9e9e259dd460\n",
      "measure 1 :  [1677831275138, None, 'C', '2023-03-03T08:14:35.138Z', 29.625, 'device_temperature']\n",
      "measure 2 :  [1677831275138, None, 'V', '2023-03-03T08:14:35.138Z', 3.3791, 'battery_level']\n",
      "measure 3 :  [1677831275138, 'jzp://coo#ffffffff00000500.0000', 'dB', '2023-03-03T08:14:35.138Z', -42.3255, 'rssi']\n",
      "measure 4 :  [1677831275138, None, '', '2023-03-03T08:14:35.138Z', 1, 'presence']\n",
      "measure 5 :  [1677831275138, 'jzp://coo#ffffffff00000500.0000', '', '2023-03-03T08:14:35.138Z', 1, 'coordinator']\n",
      "\n",
      "\n",
      "ref:  jzp://edv#0502.0000\n",
      "cuid:  2e326a96-97a4-42f8-a114-2f4b4569ffe3\n",
      "t:  1677831278468\n",
      "tz:  2023-03-03T08:14:38.468Z\n",
      "cat:  0631\n",
      "sn:  76\n",
      "type:  gasmeter\n",
      "uuid:  8f00423b-ca36-4ca9-b2e6-d667e13a363b\n",
      "measure 1 :  [1677831278469, 'jzp://coo#ffffffff000004ff.0000', '', '2023-03-03T08:14:38.469Z', 1.0, 'coordinator']\n",
      "measure 2 :  [1677831278469, None, '', '2023-03-03T08:14:38.469Z', 337.6216, 'ppm']\n",
      "measure 3 :  [1677831278469, 'jzp://coo#ffffffff000004ff.0000', 'dB', '2023-03-03T08:14:38.469Z', -77.5203, 'rssi']\n",
      "measure 4 :  [1677831278469, None, '℃', '2023-03-03T08:14:38.469Z', 3, 'device_temperature']\n",
      "measure 5 :  [1677831278469, None, 'V', '2023-03-03T08:14:38.469Z', 3, 'battery_level']\n",
      "\n",
      "\n",
      "ref:  jzp://edv#0501.0000\n",
      "cuid:  de25a5ba-049a-485b-a38c-2d2209b826ff\n",
      "t:  1677831281941\n",
      "tz:  2023-03-03T08:14:41.941Z\n",
      "cat:  0620\n",
      "sn:  201\n",
      "type:  luxmeter\n",
      "uuid:  6bf5e47a-e334-4956-b97f-3519281ccb82\n",
      "measure 1 :  [1677831281941, None, '℃', '2023-03-03T08:14:41.941Z', 39.2201, 'device_temperature']\n",
      "measure 2 :  [1677831281941, None, 'V', '2023-03-03T08:14:41.941Z', 3.4968, 'battery_level']\n",
      "measure 3 :  [1677831281942, None, '', '2023-03-03T08:14:41.942Z', 0.0, 'orientation']\n",
      "measure 4 :  [1677831281942, None, '', '2023-03-03T08:14:41.942Z', 0, 'back_front']\n",
      "measure 5 :  [1677831281942, None, '', '2023-03-03T08:14:41.942Z', 0, 'regular']\n",
      "measure 6 :  [1677831281942, None, '', '2023-03-03T08:14:41.942Z', 0, 'movement_level']\n",
      "measure 7 :  [1677831281942, None, '', '2023-03-03T08:14:41.942Z', 0, 'posture_tilt']\n",
      "measure 8 :  [1677831281942, 'jzp://coo#ffffffff00000500.0000', 'dB', '2023-03-03T08:14:41.942Z', -40, 'rssi']\n",
      "measure 9 :  [1677831281942, None, '', '2023-03-03T08:14:41.942Z', 0, 'position']\n",
      "measure 10 :  [1677831281942, None, '', '2023-03-03T08:14:41.942Z', 347, 'adc_channel_00']\n",
      "measure 11 :  [1677831281942, None, 'lx', '2023-03-03T08:14:41.942Z', 43, 'illuminance']\n",
      "measure 12 :  [1677831281942, 'jzp://coo#ffffffff00000500.0000', '', '2023-03-03T08:14:41.942Z', 1, 'coordinator']\n",
      "measure 13 :  [1677831281942, None, 'Pa', '2023-03-03T08:14:41.942Z', 23116, 'pressure']\n",
      "measure 14 :  [1677831281942, None, '', '2023-03-03T08:14:41.942Z', 0, 'adc_channel_01']\n",
      "\n",
      "\n",
      "ref:  jzp://edv#0504.0000\n",
      "cuid:  bd0ea383-b9c3-4c93-9e54-f6658eb998e8\n",
      "t:  1677831285184\n",
      "tz:  2023-03-03T08:14:45.184Z\n",
      "cat:  0600\n",
      "sn:  154\n",
      "type:  environmental\n",
      "uuid:  6bc7f9aa-fb57-4e58-931e-e9565eb7ce48\n",
      "measure 1 :  [1677831285184, None, '℃', '2023-03-03T08:14:45.184Z', 13.4366, 'device_temperature']\n",
      "measure 2 :  [1677831285184, None, 'V', '2023-03-03T08:14:45.184Z', 3.4727, 'battery_level']\n",
      "measure 3 :  [1677831285184, None, '℃', '2023-03-03T08:14:45.184Z', 13.2747, 'dew_point']\n",
      "measure 4 :  [1677831285184, None, '%', '2023-03-03T08:14:45.184Z', 2, 'relative_humidity']\n",
      "measure 5 :  [1677831285184, None, '', '2023-03-03T08:14:45.184Z', 0, 'orientation']\n",
      "measure 6 :  [1677831285184, None, '℃', '2023-03-03T08:14:45.184Z', 36, 'environmental_temperature']\n",
      "measure 7 :  [1677831285184, None, '', '2023-03-03T08:14:45.184Z', 0, 'back_front']\n",
      "measure 8 :  [1677831285184, None, '', '2023-03-03T08:14:45.184Z', 0, 'regular']\n",
      "measure 9 :  [1677831285184, None, '', '2023-03-03T08:14:45.184Z', 0, 'movement_level']\n",
      "measure 10 :  [1677831285184, None, '', '2023-03-03T08:14:45.184Z', 0, 'posture_tilt']\n",
      "measure 11 :  [1677831285184, 'jzp://coo#ffffffff00000500.0000', 'dB', '2023-03-03T08:14:45.184Z', -107, 'rssi']\n",
      "measure 12 :  [1677831285184, None, '', '2023-03-03T08:14:45.184Z', 0, 'position']\n",
      "measure 13 :  [1677831285184, None, 'kg/m³', '2023-03-03T08:14:45.184Z', 0, 'absolute_humidity']\n",
      "measure 14 :  [1677831285184, 'jzp://coo#ffffffff00000500.0000', '', '2023-03-03T08:14:45.184Z', 1, 'coordinator']\n",
      "measure 15 :  [1677831285184, None, 'Pa', '2023-03-03T08:14:45.184Z', 87888, 'pressure']\n",
      "\n",
      "\n",
      "ref:  jzp://edv#0503.0000\n",
      "cuid:  73644330-2581-4fc2-9d12-04f17c9589d4\n",
      "t:  1677831301569\n",
      "tz:  2023-03-03T08:15:01.569Z\n",
      "cat:  0610\n",
      "sn:  153\n",
      "type:  presence\n",
      "uuid:  d9f2edc3-b35a-4d10-8413-f8a50c942f49\n",
      "measure 1 :  [1677831301569, None, 'C', '2023-03-03T08:15:01.570Z', 18.8069, 'device_temperature']\n",
      "measure 2 :  [1677831301570, None, 'V', '2023-03-03T08:15:01.570Z', 3.4104, 'battery_level']\n",
      "measure 3 :  [1677831301570, 'jzp://coo#ffffffff00000500.0000', 'dB', '2023-03-03T08:15:01.570Z', -119.0962, 'rssi']\n",
      "measure 4 :  [1677831301570, None, '', '2023-03-03T08:15:01.570Z', 0, 'presence']\n",
      "measure 5 :  [1677831301570, 'jzp://coo#ffffffff00000500.0000', '', '2023-03-03T08:15:01.570Z', 1, 'coordinator']\n",
      "\n",
      "\n",
      "ref:  jzp://edv#0502.0000\n",
      "cuid:  5ad0e93c-07e1-42a7-8541-a11b51bb5a04\n",
      "t:  1677831304352\n",
      "tz:  2023-03-03T08:15:04.352Z\n",
      "cat:  0631\n",
      "sn:  139\n",
      "type:  gasmeter\n",
      "uuid:  d14f8f52-3391-4f6a-bb46-444f18f1ea97\n",
      "measure 1 :  [1677831304352, 'jzp://coo#ffffffff000004ff.0000', '', '2023-03-03T08:15:04.352Z', 1.0, 'coordinator']\n",
      "measure 2 :  [1677831304352, None, '', '2023-03-03T08:15:04.352Z', 367.028, 'ppm']\n",
      "measure 3 :  [1677831304352, 'jzp://coo#ffffffff000004ff.0000', 'dB', '2023-03-03T08:15:04.352Z', -39.7849, 'rssi']\n",
      "measure 4 :  [1677831304353, None, '℃', '2023-03-03T08:15:04.353Z', 22, 'device_temperature']\n",
      "measure 5 :  [1677831304353, None, 'V', '2023-03-03T08:15:04.353Z', 3, 'battery_level']\n",
      "\n",
      "\n",
      "ref:  jzp://edv#0501.0000\n",
      "cuid:  d1c67b7e-219d-4c09-818b-3c28739d0be7\n",
      "t:  1677831307303\n",
      "tz:  2023-03-03T08:15:07.303Z\n",
      "cat:  0620\n",
      "sn:  135\n",
      "type:  luxmeter\n",
      "uuid:  a4a2885b-4935-42ae-9c69-b7ece7d2a80a\n",
      "measure 1 :  [1677831307303, None, '℃', '2023-03-03T08:15:07.303Z', 22.445, 'device_temperature']\n",
      "measure 2 :  [1677831307303, None, 'V', '2023-03-03T08:15:07.303Z', 3.4871, 'battery_level']\n",
      "measure 3 :  [1677831307303, None, '', '2023-03-03T08:15:07.303Z', 0.0, 'orientation']\n",
      "measure 4 :  [1677831307303, None, '', '2023-03-03T08:15:07.303Z', 0, 'back_front']\n",
      "measure 5 :  [1677831307303, None, '', '2023-03-03T08:15:07.303Z', 0, 'regular']\n",
      "measure 6 :  [1677831307303, None, '', '2023-03-03T08:15:07.303Z', 0, 'movement_level']\n",
      "measure 7 :  [1677831307303, None, '', '2023-03-03T08:15:07.303Z', 0, 'posture_tilt']\n",
      "measure 8 :  [1677831307303, 'jzp://coo#ffffffff00000500.0000', 'dB', '2023-03-03T08:15:07.303Z', -58, 'rssi']\n",
      "measure 9 :  [1677831307303, None, '', '2023-03-03T08:15:07.303Z', 0, 'position']\n",
      "measure 10 :  [1677831307303, None, '', '2023-03-03T08:15:07.303Z', 390, 'adc_channel_00']\n",
      "measure 11 :  [1677831307303, None, 'lx', '2023-03-03T08:15:07.303Z', 276, 'illuminance']\n",
      "measure 12 :  [1677831307303, 'jzp://coo#ffffffff00000500.0000', '', '2023-03-03T08:15:07.303Z', 1, 'coordinator']\n",
      "measure 13 :  [1677831307303, None, 'Pa', '2023-03-03T08:15:07.303Z', 72181, 'pressure']\n",
      "measure 14 :  [1677831307303, None, '', '2023-03-03T08:15:07.303Z', 0, 'adc_channel_01']\n",
      "\n",
      "\n",
      "ref:  jzp://edv#0504.0000\n",
      "cuid:  2b4b6718-9536-4f5f-abdd-e6b4eaf93aa5\n",
      "t:  1677831309973\n",
      "tz:  2023-03-03T08:15:09.973Z\n",
      "cat:  0600\n",
      "sn:  230\n",
      "type:  environmental\n",
      "uuid:  aefa18c8-6d54-4b77-9880-1b81feaad48c\n",
      "measure 1 :  [1677831309973, None, '℃', '2023-03-03T08:15:09.973Z', 0.1174, 'device_temperature']\n",
      "measure 2 :  [1677831309973, None, 'V', '2023-03-03T08:15:09.973Z', 3.3625, 'battery_level']\n",
      "measure 3 :  [1677831309973, None, '℃', '2023-03-03T08:15:09.973Z', 12.0049, 'dew_point']\n",
      "measure 4 :  [1677831309973, None, '%', '2023-03-03T08:15:09.973Z', 96, 'relative_humidity']\n",
      "measure 5 :  [1677831309973, None, '', '2023-03-03T08:15:09.973Z', 0, 'orientation']\n",
      "measure 6 :  [1677831309973, None, '℃', '2023-03-03T08:15:09.973Z', 30, 'environmental_temperature']\n",
      "measure 7 :  [1677831309973, None, '', '2023-03-03T08:15:09.973Z', 0, 'back_front']\n",
      "measure 8 :  [1677831309973, None, '', '2023-03-03T08:15:09.973Z', 0, 'regular']\n",
      "measure 9 :  [1677831309973, None, '', '2023-03-03T08:15:09.973Z', 0, 'movement_level']\n",
      "measure 10 :  [1677831309973, None, '', '2023-03-03T08:15:09.973Z', 0, 'posture_tilt']\n",
      "measure 11 :  [1677831309973, 'jzp://coo#ffffffff00000500.0000', 'dB', '2023-03-03T08:15:09.973Z', -91, 'rssi']\n",
      "measure 12 :  [1677831309973, None, '', '2023-03-03T08:15:09.973Z', 0, 'position']\n",
      "measure 13 :  [1677831309973, None, 'kg/m³', '2023-03-03T08:15:09.973Z', 0, 'absolute_humidity']\n",
      "measure 14 :  [1677831309973, 'jzp://coo#ffffffff00000500.0000', '', '2023-03-03T08:15:09.973Z', 1, 'coordinator']\n",
      "measure 15 :  [1677831309973, None, 'Pa', '2023-03-03T08:15:09.973Z', 20635, 'pressure']\n",
      "\n",
      "\n",
      "ref:  jzp://edv#0503.0000\n",
      "cuid:  3be5f375-ccde-44e5-9beb-dab1249e3070\n",
      "t:  1677831326151\n",
      "tz:  2023-03-03T08:15:26.151Z\n",
      "cat:  0610\n",
      "sn:  128\n",
      "type:  presence\n",
      "uuid:  6d3631a5-2b7f-4ce3-a89a-12e9387687d6\n",
      "measure 1 :  [1677831326151, None, 'C', '2023-03-03T08:15:26.151Z', 1.1537, 'device_temperature']\n",
      "measure 2 :  [1677831326151, None, 'V', '2023-03-03T08:15:26.151Z', 3.4046, 'battery_level']\n",
      "measure 3 :  [1677831326151, 'jzp://coo#ffffffff00000500.0000', 'dB', '2023-03-03T08:15:26.151Z', -13.9958, 'rssi']\n",
      "measure 4 :  [1677831326151, None, '', '2023-03-03T08:15:26.151Z', 1, 'presence']\n",
      "measure 5 :  [1677831326151, 'jzp://coo#ffffffff00000500.0000', '', '2023-03-03T08:15:26.151Z', 1, 'coordinator']\n",
      "\n",
      "\n",
      "ref:  jzp://edv#0502.0000\n",
      "cuid:  3e944b3d-952e-44c3-a688-d1dc6cdd492d\n",
      "t:  1677831328425\n",
      "tz:  2023-03-03T08:15:28.425Z\n",
      "cat:  0631\n",
      "sn:  13\n",
      "type:  gasmeter\n",
      "uuid:  b8ffdee3-8bc1-4df1-b8a1-ac37f64f0ac7\n",
      "measure 1 :  [1677831328425, 'jzp://coo#ffffffff000004ff.0000', '', '2023-03-03T08:15:28.425Z', 1.0, 'coordinator']\n",
      "measure 2 :  [1677831328425, None, '', '2023-03-03T08:15:28.425Z', 337.193, 'ppm']\n",
      "measure 3 :  [1677831328425, 'jzp://coo#ffffffff000004ff.0000', 'dB', '2023-03-03T08:15:28.425Z', -7.663, 'rssi']\n",
      "measure 4 :  [1677831328426, None, '℃', '2023-03-03T08:15:28.426Z', 6, 'device_temperature']\n",
      "measure 5 :  [1677831328426, None, 'V', '2023-03-03T08:15:28.426Z', 3, 'battery_level']\n",
      "\n",
      "\n",
      "ref:  jzp://edv#0501.0000\n",
      "cuid:  0a5133d3-4635-4976-b927-db465ceadf1c\n",
      "t:  1677831331491\n",
      "tz:  2023-03-03T08:15:31.491Z\n",
      "cat:  0620\n",
      "sn:  86\n",
      "type:  luxmeter\n",
      "uuid:  66d8628a-7629-4d98-9bd5-e87d74fdd51d\n",
      "measure 1 :  [1677831331491, None, '℃', '2023-03-03T08:15:31.491Z', 20.4384, 'device_temperature']\n",
      "measure 2 :  [1677831331491, None, 'V', '2023-03-03T08:15:31.491Z', 3.3763, 'battery_level']\n",
      "measure 3 :  [1677831331491, None, '', '2023-03-03T08:15:31.491Z', 0.0, 'orientation']\n",
      "measure 4 :  [1677831331491, None, '', '2023-03-03T08:15:31.491Z', 0, 'back_front']\n",
      "measure 5 :  [1677831331492, None, '', '2023-03-03T08:15:31.492Z', 0, 'regular']\n",
      "measure 6 :  [1677831331492, None, '', '2023-03-03T08:15:31.492Z', 0, 'movement_level']\n",
      "measure 7 :  [1677831331492, None, '', '2023-03-03T08:15:31.492Z', 0, 'posture_tilt']\n",
      "measure 8 :  [1677831331492, 'jzp://coo#ffffffff00000500.0000', 'dB', '2023-03-03T08:15:31.492Z', -37, 'rssi']\n",
      "measure 9 :  [1677831331492, None, '', '2023-03-03T08:15:31.492Z', 0, 'position']\n",
      "measure 10 :  [1677831331492, None, '', '2023-03-03T08:15:31.492Z', 425, 'adc_channel_00']\n",
      "measure 11 :  [1677831331492, None, 'lx', '2023-03-03T08:15:31.492Z', 81, 'illuminance']\n",
      "measure 12 :  [1677831331492, 'jzp://coo#ffffffff00000500.0000', '', '2023-03-03T08:15:31.492Z', 1, 'coordinator']\n",
      "measure 13 :  [1677831331492, None, 'Pa', '2023-03-03T08:15:31.492Z', 31327, 'pressure']\n",
      "measure 14 :  [1677831331492, None, '', '2023-03-03T08:15:31.492Z', 0, 'adc_channel_01']\n",
      "\n",
      "\n",
      "ref:  jzp://edv#0504.0000\n",
      "cuid:  3adbf635-6853-4720-90c8-11642dfc34d7\n",
      "t:  1677831334016\n",
      "tz:  2023-03-03T08:15:34.016Z\n",
      "cat:  0600\n",
      "sn:  19\n",
      "type:  environmental\n",
      "uuid:  3f088e13-0e88-49e4-be77-0e7d320c2a4e\n",
      "measure 1 :  [1677831334016, None, '℃', '2023-03-03T08:15:34.016Z', 27.5954, 'device_temperature']\n",
      "measure 2 :  [1677831334016, None, 'V', '2023-03-03T08:15:34.016Z', 3.352, 'battery_level']\n",
      "measure 3 :  [1677831334016, None, '℃', '2023-03-03T08:15:34.016Z', 13.9002, 'dew_point']\n",
      "measure 4 :  [1677831334016, None, '%', '2023-03-03T08:15:34.016Z', 56, 'relative_humidity']\n",
      "measure 5 :  [1677831334016, None, '', '2023-03-03T08:15:34.016Z', 0, 'orientation']\n",
      "measure 6 :  [1677831334016, None, '℃', '2023-03-03T08:15:34.016Z', 22, 'environmental_temperature']\n",
      "measure 7 :  [1677831334016, None, '', '2023-03-03T08:15:34.016Z', 0, 'back_front']\n",
      "measure 8 :  [1677831334016, None, '', '2023-03-03T08:15:34.016Z', 0, 'regular']\n",
      "measure 9 :  [1677831334016, None, '', '2023-03-03T08:15:34.016Z', 0, 'movement_level']\n",
      "measure 10 :  [1677831334016, None, '', '2023-03-03T08:15:34.016Z', 0, 'posture_tilt']\n",
      "measure 11 :  [1677831334016, 'jzp://coo#ffffffff00000500.0000', 'dB', '2023-03-03T08:15:34.016Z', -39, 'rssi']\n",
      "measure 12 :  [1677831334016, None, '', '2023-03-03T08:15:34.016Z', 0, 'position']\n",
      "measure 13 :  [1677831334016, None, 'kg/m³', '2023-03-03T08:15:34.016Z', 0, 'absolute_humidity']\n",
      "measure 14 :  [1677831334016, 'jzp://coo#ffffffff00000500.0000', '', '2023-03-03T08:15:34.016Z', 1, 'coordinator']\n",
      "measure 15 :  [1677831334016, None, 'Pa', '2023-03-03T08:15:34.016Z', 14278, 'pressure']\n",
      "\n",
      "\n",
      "ref:  jzp://edv#0503.0000\n",
      "cuid:  f6b1f05f-c8de-497d-87fb-8fafbe8c2a41\n",
      "t:  1677831350501\n",
      "tz:  2023-03-03T08:15:50.501Z\n",
      "cat:  0610\n",
      "sn:  230\n",
      "type:  presence\n",
      "uuid:  9a54ef91-1e80-4c8d-a13e-6696fa52db2a\n",
      "measure 1 :  [1677831350501, None, 'C', '2023-03-03T08:15:50.501Z', 12.2813, 'device_temperature']\n",
      "measure 2 :  [1677831350501, None, 'V', '2023-03-03T08:15:50.501Z', 3.5017, 'battery_level']\n",
      "measure 3 :  [1677831350501, 'jzp://coo#ffffffff00000500.0000', 'dB', '2023-03-03T08:15:50.501Z', -55.2746, 'rssi']\n",
      "measure 4 :  [1677831350501, None, '', '2023-03-03T08:15:50.501Z', 1, 'presence']\n",
      "measure 5 :  [1677831350501, 'jzp://coo#ffffffff00000500.0000', '', '2023-03-03T08:15:50.501Z', 1, 'coordinator']\n",
      "\n",
      "\n",
      "ref:  jzp://edv#0502.0000\n",
      "cuid:  13d7c820-9915-46fb-bc4b-198ec8ed21a0\n",
      "t:  1677831354480\n",
      "tz:  2023-03-03T08:15:54.480Z\n",
      "cat:  0631\n",
      "sn:  244\n",
      "type:  gasmeter\n",
      "uuid:  6f573e1e-15a3-489c-83a4-5ccfedf5e95d\n",
      "measure 1 :  [1677831354481, 'jzp://coo#ffffffff000004ff.0000', '', '2023-03-03T08:15:54.481Z', 1.0, 'coordinator']\n",
      "measure 2 :  [1677831354481, None, '', '2023-03-03T08:15:54.481Z', 386.8959, 'ppm']\n",
      "measure 3 :  [1677831354481, 'jzp://coo#ffffffff000004ff.0000', 'dB', '2023-03-03T08:15:54.481Z', -97.2762, 'rssi']\n",
      "measure 4 :  [1677831354481, None, '℃', '2023-03-03T08:15:54.481Z', 30, 'device_temperature']\n",
      "measure 5 :  [1677831354481, None, 'V', '2023-03-03T08:15:54.481Z', 3, 'battery_level']\n",
      "\n",
      "\n",
      "ref:  jzp://edv#0501.0000\n",
      "cuid:  b704bc92-159c-44a6-af83-5f729c379022\n",
      "t:  1677831357595\n",
      "tz:  2023-03-03T08:15:57.595Z\n",
      "cat:  0620\n",
      "sn:  92\n",
      "type:  luxmeter\n",
      "uuid:  e5881cc7-b3d5-4853-ab55-864d65a7d203\n",
      "measure 1 :  [1677831357595, None, '℃', '2023-03-03T08:15:57.595Z', 5.1678, 'device_temperature']\n",
      "measure 2 :  [1677831357595, None, 'V', '2023-03-03T08:15:57.595Z', 3.2951, 'battery_level']\n",
      "measure 3 :  [1677831357595, None, '', '2023-03-03T08:15:57.595Z', 0.0, 'orientation']\n",
      "measure 4 :  [1677831357595, None, '', '2023-03-03T08:15:57.595Z', 0, 'back_front']\n",
      "measure 5 :  [1677831357595, None, '', '2023-03-03T08:15:57.595Z', 0, 'regular']\n",
      "measure 6 :  [1677831357595, None, '', '2023-03-03T08:15:57.595Z', 0, 'movement_level']\n",
      "measure 7 :  [1677831357595, None, '', '2023-03-03T08:15:57.595Z', 0, 'posture_tilt']\n",
      "measure 8 :  [1677831357595, 'jzp://coo#ffffffff00000500.0000', 'dB', '2023-03-03T08:15:57.595Z', -110, 'rssi']\n",
      "measure 9 :  [1677831357595, None, '', '2023-03-03T08:15:57.595Z', 0, 'position']\n",
      "measure 10 :  [1677831357595, None, '', '2023-03-03T08:15:57.595Z', 200, 'adc_channel_00']\n",
      "measure 11 :  [1677831357595, None, 'lx', '2023-03-03T08:15:57.595Z', 467, 'illuminance']\n",
      "measure 12 :  [1677831357595, 'jzp://coo#ffffffff00000500.0000', '', '2023-03-03T08:15:57.595Z', 1, 'coordinator']\n",
      "measure 13 :  [1677831357595, None, 'Pa', '2023-03-03T08:15:57.595Z', 59006, 'pressure']\n",
      "measure 14 :  [1677831357595, None, '', '2023-03-03T08:15:57.595Z', 0, 'adc_channel_01']\n",
      "\n",
      "\n",
      "ref:  jzp://edv#0504.0000\n",
      "cuid:  f3c1402c-7415-4cf0-a8c6-c32b6d0fa350\n",
      "t:  1677831359964\n",
      "tz:  2023-03-03T08:15:59.964Z\n",
      "cat:  0600\n",
      "sn:  135\n",
      "type:  environmental\n",
      "uuid:  47abb43a-bf0a-47a2-b6cf-3a07be974acf\n",
      "measure 1 :  [1677831359964, None, '℃', '2023-03-03T08:15:59.964Z', 23.851, 'device_temperature']\n",
      "measure 2 :  [1677831359964, None, 'V', '2023-03-03T08:15:59.964Z', 3.3009, 'battery_level']\n",
      "measure 3 :  [1677831359964, None, '℃', '2023-03-03T08:15:59.964Z', 24.2133, 'dew_point']\n",
      "measure 4 :  [1677831359965, None, '%', '2023-03-03T08:15:59.965Z', 33, 'relative_humidity']\n",
      "measure 5 :  [1677831359965, None, '', '2023-03-03T08:15:59.965Z', 0, 'orientation']\n",
      "measure 6 :  [1677831359965, None, '℃', '2023-03-03T08:15:59.965Z', 15, 'environmental_temperature']\n",
      "measure 7 :  [1677831359965, None, '', '2023-03-03T08:15:59.965Z', 0, 'back_front']\n",
      "measure 8 :  [1677831359965, None, '', '2023-03-03T08:15:59.965Z', 0, 'regular']\n",
      "measure 9 :  [1677831359965, None, '', '2023-03-03T08:15:59.965Z', 0, 'movement_level']\n",
      "measure 10 :  [1677831359965, None, '', '2023-03-03T08:15:59.965Z', 0, 'posture_tilt']\n",
      "measure 11 :  [1677831359965, 'jzp://coo#ffffffff00000500.0000', 'dB', '2023-03-03T08:15:59.965Z', -66, 'rssi']\n",
      "measure 12 :  [1677831359965, None, '', '2023-03-03T08:15:59.965Z', 0, 'position']\n",
      "measure 13 :  [1677831359965, None, 'kg/m³', '2023-03-03T08:15:59.965Z', 0, 'absolute_humidity']\n",
      "measure 14 :  [1677831359965, 'jzp://coo#ffffffff00000500.0000', '', '2023-03-03T08:15:59.965Z', 1, 'coordinator']\n",
      "measure 15 :  [1677831359965, None, 'Pa', '2023-03-03T08:15:59.965Z', 18556, 'pressure']\n",
      "\n",
      "\n",
      "ref:  jzp://edv#0503.0000\n",
      "cuid:  e737f5a7-fbd0-49c7-8370-346193b992ed\n",
      "t:  1677831371305\n",
      "tz:  2023-03-03T08:16:11.305Z\n",
      "cat:  0610\n",
      "sn:  105\n",
      "type:  presence\n",
      "uuid:  06d6f959-e651-4e2d-b8d9-c53ec2da21c7\n",
      "measure 1 :  [1677831371306, None, 'C', '2023-03-03T08:16:11.306Z', 38.0527, 'device_temperature']\n",
      "measure 2 :  [1677831371306, None, 'V', '2023-03-03T08:16:11.306Z', 3.5154, 'battery_level']\n",
      "measure 3 :  [1677831371306, 'jzp://coo#ffffffff00000500.0000', 'dB', '2023-03-03T08:16:11.306Z', -60.0127, 'rssi']\n",
      "measure 4 :  [1677831371306, None, '', '2023-03-03T08:16:11.306Z', 1, 'presence']\n",
      "measure 5 :  [1677831371306, 'jzp://coo#ffffffff00000500.0000', '', '2023-03-03T08:16:11.306Z', 1, 'coordinator']\n",
      "\n",
      "\n",
      "ref:  jzp://edv#0502.0000\n",
      "cuid:  70f09c8f-8e34-412a-9326-6afb8ce57851\n",
      "t:  1677831374737\n",
      "tz:  2023-03-03T08:16:14.737Z\n",
      "cat:  0631\n",
      "sn:  87\n",
      "type:  gasmeter\n",
      "uuid:  1a203f12-bb76-4ed2-ab77-2f5c49f5d9eb\n",
      "measure 1 :  [1677831374737, 'jzp://coo#ffffffff000004ff.0000', '', '2023-03-03T08:16:14.737Z', 1.0, 'coordinator']\n",
      "measure 2 :  [1677831374737, None, '', '2023-03-03T08:16:14.737Z', 354.445, 'ppm']\n",
      "measure 3 :  [1677831374737, 'jzp://coo#ffffffff000004ff.0000', 'dB', '2023-03-03T08:16:14.737Z', -14.6332, 'rssi']\n",
      "measure 4 :  [1677831374737, None, '℃', '2023-03-03T08:16:14.737Z', 21, 'device_temperature']\n",
      "measure 5 :  [1677831374737, None, 'V', '2023-03-03T08:16:14.737Z', 3, 'battery_level']\n",
      "\n",
      "\n",
      "ref:  jzp://edv#0501.0000\n",
      "cuid:  a7d48270-d555-4128-b96b-2cad568044f3\n",
      "t:  1677831378180\n",
      "tz:  2023-03-03T08:16:18.180Z\n",
      "cat:  0620\n",
      "sn:  180\n",
      "type:  luxmeter\n",
      "uuid:  57704cfd-531c-4eb5-86a2-cc5ca28c9745\n",
      "measure 1 :  [1677831378181, None, '℃', '2023-03-03T08:16:18.181Z', 32.4194, 'device_temperature']\n",
      "measure 2 :  [1677831378181, None, 'V', '2023-03-03T08:16:18.181Z', 3.5035, 'battery_level']\n",
      "measure 3 :  [1677831378181, None, '', '2023-03-03T08:16:18.181Z', 0.0, 'orientation']\n",
      "measure 4 :  [1677831378181, None, '', '2023-03-03T08:16:18.181Z', 0, 'back_front']\n",
      "measure 5 :  [1677831378181, None, '', '2023-03-03T08:16:18.181Z', 0, 'regular']\n",
      "measure 6 :  [1677831378181, None, '', '2023-03-03T08:16:18.181Z', 0, 'movement_level']\n",
      "measure 7 :  [1677831378181, None, '', '2023-03-03T08:16:18.181Z', 0, 'posture_tilt']\n",
      "measure 8 :  [1677831378181, 'jzp://coo#ffffffff00000500.0000', 'dB', '2023-03-03T08:16:18.181Z', -67, 'rssi']\n",
      "measure 9 :  [1677831378181, None, '', '2023-03-03T08:16:18.181Z', 0, 'position']\n",
      "measure 10 :  [1677831378181, None, '', '2023-03-03T08:16:18.181Z', 330, 'adc_channel_00']\n",
      "measure 11 :  [1677831378181, None, 'lx', '2023-03-03T08:16:18.181Z', 286, 'illuminance']\n",
      "measure 12 :  [1677831378181, 'jzp://coo#ffffffff00000500.0000', '', '2023-03-03T08:16:18.181Z', 1, 'coordinator']\n",
      "measure 13 :  [1677831378181, None, 'Pa', '2023-03-03T08:16:18.181Z', 28233, 'pressure']\n",
      "measure 14 :  [1677831378181, None, '', '2023-03-03T08:16:18.181Z', 0, 'adc_channel_01']\n",
      "\n",
      "\n",
      "ref:  jzp://edv#0504.0000\n",
      "cuid:  1a7366b2-f80e-4d50-bfb8-6ff1363c0a41\n",
      "t:  1677831380395\n",
      "tz:  2023-03-03T08:16:20.395Z\n",
      "cat:  0600\n",
      "sn:  59\n",
      "type:  environmental\n",
      "uuid:  bd45a21d-7f7c-4d25-9a54-e3d2e6ed8e44\n",
      "measure 1 :  [1677831380396, None, '℃', '2023-03-03T08:16:20.396Z', 15.9021, 'device_temperature']\n",
      "measure 2 :  [1677831380396, None, 'V', '2023-03-03T08:16:20.396Z', 3.2865, 'battery_level']\n",
      "measure 3 :  [1677831380396, None, '℃', '2023-03-03T08:16:20.396Z', 13.9268, 'dew_point']\n",
      "measure 4 :  [1677831380396, None, '%', '2023-03-03T08:16:20.396Z', 12, 'relative_humidity']\n",
      "measure 5 :  [1677831380396, None, '', '2023-03-03T08:16:20.396Z', 0, 'orientation']\n",
      "measure 6 :  [1677831380396, None, '℃', '2023-03-03T08:16:20.396Z', 4, 'environmental_temperature']\n",
      "measure 7 :  [1677831380396, None, '', '2023-03-03T08:16:20.396Z', 0, 'back_front']\n",
      "measure 8 :  [1677831380396, None, '', '2023-03-03T08:16:20.396Z', 0, 'regular']\n",
      "measure 9 :  [1677831380396, None, '', '2023-03-03T08:16:20.396Z', 0, 'movement_level']\n",
      "measure 10 :  [1677831380396, None, '', '2023-03-03T08:16:20.396Z', 0, 'posture_tilt']\n",
      "measure 11 :  [1677831380396, 'jzp://coo#ffffffff00000500.0000', 'dB', '2023-03-03T08:16:20.396Z', -85, 'rssi']\n",
      "measure 12 :  [1677831380396, None, '', '2023-03-03T08:16:20.396Z', 0, 'position']\n",
      "measure 13 :  [1677831380396, None, 'kg/m³', '2023-03-03T08:16:20.396Z', 0, 'absolute_humidity']\n",
      "measure 14 :  [1677831380396, 'jzp://coo#ffffffff00000500.0000', '', '2023-03-03T08:16:20.396Z', 1, 'coordinator']\n",
      "measure 15 :  [1677831380396, None, 'Pa', '2023-03-03T08:16:20.396Z', 51689, 'pressure']\n",
      "\n",
      "\n",
      "ref:  jzp://edv#0503.0000\n",
      "cuid:  8ca3b180-78c9-49fd-ab24-5f6ce00c0a03\n",
      "t:  1677831394457\n",
      "tz:  2023-03-03T08:16:34.457Z\n",
      "cat:  0610\n",
      "sn:  160\n",
      "type:  presence\n",
      "uuid:  7128d9f1-cf2c-47c1-9b52-6c84a0b08396\n",
      "measure 1 :  [1677831394457, None, 'C', '2023-03-03T08:16:34.457Z', 37.8582, 'device_temperature']\n",
      "measure 2 :  [1677831394457, None, 'V', '2023-03-03T08:16:34.457Z', 3.2676, 'battery_level']\n",
      "measure 3 :  [1677831394457, 'jzp://coo#ffffffff00000500.0000', 'dB', '2023-03-03T08:16:34.457Z', -72.0241, 'rssi']\n",
      "measure 4 :  [1677831394457, None, '', '2023-03-03T08:16:34.457Z', 1, 'presence']\n",
      "measure 5 :  [1677831394457, 'jzp://coo#ffffffff00000500.0000', '', '2023-03-03T08:16:34.457Z', 1, 'coordinator']\n",
      "\n",
      "\n",
      "ref:  jzp://edv#0502.0000\n",
      "cuid:  c9270293-673f-461a-bc59-34a2e39ee445\n",
      "t:  1677831398168\n",
      "tz:  2023-03-03T08:16:38.168Z\n",
      "cat:  0631\n",
      "sn:  33\n",
      "type:  gasmeter\n",
      "uuid:  89a8b7c2-afa5-4740-9322-ecd1a63ef896\n",
      "measure 1 :  [1677831398168, 'jzp://coo#ffffffff000004ff.0000', '', '2023-03-03T08:16:38.168Z', 1.0, 'coordinator']\n",
      "measure 2 :  [1677831398168, None, '', '2023-03-03T08:16:38.168Z', 329.4446, 'ppm']\n",
      "measure 3 :  [1677831398168, 'jzp://coo#ffffffff000004ff.0000', 'dB', '2023-03-03T08:16:38.168Z', -93.5566, 'rssi']\n",
      "measure 4 :  [1677831398168, None, '℃', '2023-03-03T08:16:38.168Z', 29, 'device_temperature']\n",
      "measure 5 :  [1677831398168, None, 'V', '2023-03-03T08:16:38.168Z', 3, 'battery_level']\n",
      "\n",
      "\n",
      "ref:  jzp://edv#0503.0000\n",
      "cuid:  b0565fd5-18a9-419d-8483-a5029e8578a6\n",
      "t:  1677710405621\n",
      "tz:  2023-03-02T22:40:05.621Z\n",
      "cat:  0610\n",
      "sn:  237\n",
      "type:  presence\n",
      "uuid:  c833b786-62d2-491f-bcf8-3c36c143d32a\n",
      "measure 1 :  [1677710405621, None, 'C', '2023-03-01T22:40:05.621Z', 23.793, 'device_temperature']\n",
      "measure 2 :  [1677710405621, None, 'V', '2023-03-01T22:40:05.621Z', 3.2863, 'battery_level']\n",
      "measure 3 :  [1677710405621, 'jzp://coo#ffffffff00000500.0000', 'dB', '2023-03-01T22:40:05.621Z', -34.0537, 'rssi']\n",
      "measure 4 :  [1677710405621, None, '', '2023-03-01T22:40:05.621Z', 1, 'presence']\n",
      "measure 5 :  [1677710405621, 'jzp://coo#ffffffff00000500.0000', '', '2023-03-01T22:40:05.621Z', 1, 'coordinator']\n",
      "\n",
      "\n",
      "ref:  jzp://edv#0502.0000\n",
      "cuid:  012f3db6-34e0-4ed1-a83c-52f139367f5d\n",
      "t:  1677710409326\n",
      "tz:  2023-03-02T22:40:09.326Z\n",
      "cat:  0631\n",
      "sn:  250\n",
      "type:  gasmeter\n",
      "uuid:  55aa04c2-a12e-4cb5-b83d-ca0550aa9fba\n",
      "measure 1 :  [1677710409326, 'jzp://coo#ffffffff000004ff.0000', '', '2023-03-01T22:40:09.326Z', 1.0, 'coordinator']\n",
      "measure 2 :  [1677710409326, None, '', '2023-03-01T22:40:09.326Z', 325.2342, 'ppm']\n",
      "measure 3 :  [1677710409326, 'jzp://coo#ffffffff000004ff.0000', 'dB', '2023-03-01T22:40:09.326Z', -0.9808, 'rssi']\n",
      "measure 4 :  [1677710409326, None, '℃', '2023-03-01T22:40:09.326Z', 31, 'device_temperature']\n",
      "measure 5 :  [1677710409326, None, 'V', '2023-03-01T22:40:09.326Z', 3, 'battery_level']\n",
      "\n",
      "\n",
      "ref:  jzp://edv#0501.0000\n",
      "cuid:  808cae7d-a183-4663-b0e4-cf5722e4f4c5\n",
      "t:  1677710411354\n",
      "tz:  2023-03-02T22:40:11.354Z\n",
      "cat:  0620\n",
      "sn:  107\n",
      "type:  luxmeter\n",
      "uuid:  b1588c43-7d47-47de-998d-fb1a2a412c8a\n",
      "measure 1 :  [1677710411354, None, '℃', '2023-03-01T22:40:11.354Z', 9.7308, 'device_temperature']\n",
      "measure 2 :  [1677710411354, None, 'V', '2023-03-01T22:40:11.354Z', 3.344, 'battery_level']\n",
      "measure 3 :  [1677710411354, None, '', '2023-03-01T22:40:11.354Z', 0.0, 'orientation']\n",
      "measure 4 :  [1677710411354, None, '', '2023-03-01T22:40:11.354Z', 0, 'back_front']\n",
      "measure 5 :  [1677710411354, None, '', '2023-03-01T22:40:11.354Z', 0, 'regular']\n",
      "measure 6 :  [1677710411354, None, '', '2023-03-01T22:40:11.354Z', 0, 'movement_level']\n",
      "measure 7 :  [1677710411354, None, '', '2023-03-01T22:40:11.354Z', 0, 'posture_tilt']\n",
      "measure 8 :  [1677710411354, 'jzp://coo#ffffffff00000500.0000', 'dB', '2023-03-01T22:40:11.354Z', -113, 'rssi']\n",
      "measure 9 :  [1677710411354, None, '', '2023-03-01T22:40:11.354Z', 0, 'position']\n",
      "measure 10 :  [1677710411354, None, '', '2023-03-01T22:40:11.354Z', 146, 'adc_channel_00']\n",
      "measure 11 :  [1677710411354, None, 'lx', '2023-03-01T22:40:11.354Z', 433, 'illuminance']\n",
      "measure 12 :  [1677710411354, 'jzp://coo#ffffffff00000500.0000', '', '2023-03-01T22:40:11.354Z', 1, 'coordinator']\n",
      "measure 13 :  [1677710411354, None, 'Pa', '2023-03-01T22:40:11.354Z', 85972, 'pressure']\n",
      "measure 14 :  [1677710411354, None, '', '2023-03-01T22:40:11.354Z', 0, 'adc_channel_01']\n",
      "\n",
      "\n",
      "ref:  jzp://edv#0504.0000\n",
      "cuid:  5af31674-e5ba-4658-a8ca-32eb79145f03\n",
      "t:  1677710413624\n",
      "tz:  2023-03-02T22:40:13.624Z\n",
      "cat:  0600\n",
      "sn:  112\n",
      "type:  environmental\n",
      "uuid:  5881e9c8-46bf-4b9b-ac67-6d46a14bb6c6\n",
      "measure 1 :  [1677710413624, None, '℃', '2023-03-01T22:40:13.624Z', 9.872, 'device_temperature']\n",
      "measure 2 :  [1677710413624, None, 'V', '2023-03-01T22:40:13.624Z', 3.4683, 'battery_level']\n",
      "measure 3 :  [1677710413625, None, '℃', '2023-03-01T22:40:13.625Z', 20.8736, 'dew_point']\n",
      "measure 4 :  [1677710413625, None, '%', '2023-03-01T22:40:13.625Z', 41, 'relative_humidity']\n",
      "measure 5 :  [1677710413625, None, '', '2023-03-01T22:40:13.625Z', 0, 'orientation']\n",
      "measure 6 :  [1677710413625, None, '℃', '2023-03-01T22:40:13.625Z', 26, 'environmental_temperature']\n",
      "measure 7 :  [1677710413625, None, '', '2023-03-01T22:40:13.625Z', 0, 'back_front']\n",
      "measure 8 :  [1677710413625, None, '', '2023-03-01T22:40:13.625Z', 0, 'regular']\n",
      "measure 9 :  [1677710413625, None, '', '2023-03-01T22:40:13.625Z', 0, 'movement_level']\n",
      "measure 10 :  [1677710413625, None, '', '2023-03-01T22:40:13.625Z', 0, 'posture_tilt']\n",
      "measure 11 :  [1677710413625, 'jzp://coo#ffffffff00000500.0000', 'dB', '2023-03-01T22:40:13.625Z', -106, 'rssi']\n",
      "measure 12 :  [1677710413625, None, '', '2023-03-01T22:40:13.625Z', 0, 'position']\n",
      "measure 13 :  [1677710413625, None, 'kg/m³', '2023-03-01T22:40:13.625Z', 0, 'absolute_humidity']\n",
      "measure 14 :  [1677710413625, 'jzp://coo#ffffffff00000500.0000', '', '2023-03-01T22:40:13.625Z', 1, 'coordinator']\n",
      "measure 15 :  [1677710413625, None, 'Pa', '2023-03-01T22:40:13.625Z', 78161, 'pressure']\n",
      "\n",
      "\n",
      "ref:  jzp://edv#0503.0000\n",
      "cuid:  f20c7ae0-73cf-47d3-8c82-3b4689deb197\n",
      "t:  1677710425749\n",
      "tz:  2023-03-02T22:40:25.749Z\n",
      "cat:  0610\n",
      "sn:  119\n",
      "type:  presence\n",
      "uuid:  12b83c23-e26e-43fc-80d9-928d74346692\n",
      "measure 1 :  [1677710425749, None, 'C', '2023-03-01T22:40:25.749Z', 24.6281, 'device_temperature']\n",
      "measure 2 :  [1677710425749, None, 'V', '2023-03-01T22:40:25.749Z', 3.5449, 'battery_level']\n",
      "measure 3 :  [1677710425749, 'jzp://coo#ffffffff00000500.0000', 'dB', '2023-03-01T22:40:25.749Z', -114.1827, 'rssi']\n",
      "measure 4 :  [1677710425749, None, '', '2023-03-01T22:40:25.749Z', 0, 'presence']\n",
      "measure 5 :  [1677710425749, 'jzp://coo#ffffffff00000500.0000', '', '2023-03-01T22:40:25.749Z', 1, 'coordinator']\n",
      "\n",
      "\n",
      "ref:  jzp://edv#0502.0000\n",
      "cuid:  c8396c7b-b048-4fe5-860e-2263e8aebaca\n",
      "t:  1677710427791\n",
      "tz:  2023-03-02T22:40:27.791Z\n",
      "cat:  0631\n",
      "sn:  139\n",
      "type:  gasmeter\n",
      "uuid:  e6d74b89-b533-4a12-838c-64ca72ff3dbb\n",
      "measure 1 :  [1677710427791, 'jzp://coo#ffffffff000004ff.0000', '', '2023-03-01T22:40:27.791Z', 1.0, 'coordinator']\n",
      "measure 2 :  [1677710427791, None, '', '2023-03-01T22:40:27.791Z', 395.5241, 'ppm']\n",
      "measure 3 :  [1677710427791, 'jzp://coo#ffffffff000004ff.0000', 'dB', '2023-03-01T22:40:27.791Z', -47.9444, 'rssi']\n",
      "measure 4 :  [1677710427791, None, '℃', '2023-03-01T22:40:27.791Z', 39, 'device_temperature']\n",
      "measure 5 :  [1677710427791, None, 'V', '2023-03-01T22:40:27.791Z', 3, 'battery_level']\n",
      "\n",
      "\n",
      "ref:  jzp://edv#0501.0000\n",
      "cuid:  c3f02ce0-ce00-4a96-8e68-094c7dba4f8d\n",
      "t:  1677710431348\n",
      "tz:  2023-03-02T22:40:31.348Z\n",
      "cat:  0620\n",
      "sn:  218\n",
      "type:  luxmeter\n",
      "uuid:  84ec888c-016c-402f-a46c-9961005df386\n",
      "measure 1 :  [1677710431349, None, '℃', '2023-03-01T22:40:31.349Z', 30.053, 'device_temperature']\n",
      "measure 2 :  [1677710431349, None, 'V', '2023-03-01T22:40:31.349Z', 3.4235, 'battery_level']\n",
      "measure 3 :  [1677710431349, None, '', '2023-03-01T22:40:31.349Z', 0.0, 'orientation']\n",
      "measure 4 :  [1677710431349, None, '', '2023-03-01T22:40:31.349Z', 0, 'back_front']\n",
      "measure 5 :  [1677710431349, None, '', '2023-03-01T22:40:31.349Z', 0, 'regular']\n",
      "measure 6 :  [1677710431349, None, '', '2023-03-01T22:40:31.349Z', 0, 'movement_level']\n",
      "measure 7 :  [1677710431349, None, '', '2023-03-01T22:40:31.349Z', 0, 'posture_tilt']\n",
      "measure 8 :  [1677710431349, 'jzp://coo#ffffffff00000500.0000', 'dB', '2023-03-01T22:40:31.349Z', -83, 'rssi']\n",
      "measure 9 :  [1677710431349, None, '', '2023-03-01T22:40:31.349Z', 0, 'position']\n",
      "measure 10 :  [1677710431349, None, '', '2023-03-01T22:40:31.349Z', 362, 'adc_channel_00']\n",
      "measure 11 :  [1677710431349, None, 'lx', '2023-03-01T22:40:31.349Z', 441, 'illuminance']\n",
      "measure 12 :  [1677710431349, 'jzp://coo#ffffffff00000500.0000', '', '2023-03-01T22:40:31.349Z', 1, 'coordinator']\n",
      "measure 13 :  [1677710431349, None, 'Pa', '2023-03-01T22:40:31.349Z', 56169, 'pressure']\n",
      "measure 14 :  [1677710431349, None, '', '2023-03-01T22:40:31.349Z', 0, 'adc_channel_01']\n",
      "\n",
      "\n",
      "ref:  jzp://edv#0504.0000\n",
      "cuid:  510e2d6b-6832-457d-9adf-e4a15de9490e\n",
      "t:  1677710435163\n",
      "tz:  2023-03-02T22:40:35.163Z\n",
      "cat:  0600\n",
      "sn:  175\n",
      "type:  environmental\n",
      "uuid:  b1c635de-b774-4334-ba7a-1536b2b04b89\n",
      "measure 1 :  [1677710435163, None, '℃', '2023-03-01T22:40:35.163Z', 34.731, 'device_temperature']\n",
      "measure 2 :  [1677710435163, None, 'V', '2023-03-01T22:40:35.163Z', 3.4245, 'battery_level']\n",
      "measure 3 :  [1677710435163, None, '℃', '2023-03-01T22:40:35.163Z', 22.2459, 'dew_point']\n",
      "measure 4 :  [1677710435163, None, '%', '2023-03-01T22:40:35.163Z', 28, 'relative_humidity']\n",
      "measure 5 :  [1677710435163, None, '', '2023-03-01T22:40:35.163Z', 0, 'orientation']\n",
      "measure 6 :  [1677710435163, None, '℃', '2023-03-01T22:40:35.163Z', 15, 'environmental_temperature']\n",
      "measure 7 :  [1677710435163, None, '', '2023-03-01T22:40:35.163Z', 0, 'back_front']\n",
      "measure 8 :  [1677710435163, None, '', '2023-03-01T22:40:35.163Z', 0, 'regular']\n",
      "measure 9 :  [1677710435163, None, '', '2023-03-01T22:40:35.163Z', 0, 'movement_level']\n",
      "measure 10 :  [1677710435163, None, '', '2023-03-01T22:40:35.163Z', 0, 'posture_tilt']\n",
      "measure 11 :  [1677710435163, 'jzp://coo#ffffffff00000500.0000', 'dB', '2023-03-01T22:40:35.163Z', -46, 'rssi']\n",
      "measure 12 :  [1677710435163, None, '', '2023-03-01T22:40:35.163Z', 0, 'position']\n",
      "measure 13 :  [1677710435163, None, 'kg/m³', '2023-03-01T22:40:35.163Z', 0, 'absolute_humidity']\n",
      "measure 14 :  [1677710435163, 'jzp://coo#ffffffff00000500.0000', '', '2023-03-01T22:40:35.163Z', 1, 'coordinator']\n",
      "measure 15 :  [1677710435163, None, 'Pa', '2023-03-01T22:40:35.163Z', 60425, 'pressure']\n",
      "\n",
      "\n",
      "ref:  jzp://edv#0503.0000\n",
      "cuid:  437687f3-b578-4b3b-8e0c-fc00289f455c\n",
      "t:  1677710452066\n",
      "tz:  2023-03-02T22:40:52.066Z\n",
      "cat:  0610\n",
      "sn:  23\n",
      "type:  presence\n",
      "uuid:  77c45949-e08b-46a0-b336-efa43f0c37ec\n",
      "measure 1 :  [1677710452066, None, 'C', '2023-03-01T22:40:52.066Z', 12.2973, 'device_temperature']\n",
      "measure 2 :  [1677710452066, None, 'V', '2023-03-01T22:40:52.066Z', 3.4039, 'battery_level']\n",
      "measure 3 :  [1677710452067, 'jzp://coo#ffffffff00000500.0000', 'dB', '2023-03-01T22:40:52.067Z', -90.1007, 'rssi']\n",
      "measure 4 :  [1677710452067, None, '', '2023-03-01T22:40:52.067Z', 1, 'presence']\n",
      "measure 5 :  [1677710452067, 'jzp://coo#ffffffff00000500.0000', '', '2023-03-01T22:40:52.067Z', 1, 'coordinator']\n",
      "\n",
      "\n",
      "ref:  jzp://edv#0502.0000\n",
      "cuid:  dad27a07-871a-4b42-ad03-3b2b1a02bfe1\n",
      "t:  1677710455601\n",
      "tz:  2023-03-02T22:40:55.601Z\n",
      "cat:  0631\n",
      "sn:  4\n",
      "type:  gasmeter\n",
      "uuid:  2fc8110a-be0f-410c-ad89-3b37337066bb\n",
      "measure 1 :  [1677710455602, 'jzp://coo#ffffffff000004ff.0000', '', '2023-03-01T22:40:55.602Z', 1.0, 'coordinator']\n",
      "measure 2 :  [1677710455602, None, '', '2023-03-01T22:40:55.602Z', 355.4746, 'ppm']\n",
      "measure 3 :  [1677710455602, 'jzp://coo#ffffffff000004ff.0000', 'dB', '2023-03-01T22:40:55.602Z', -112.7691, 'rssi']\n",
      "measure 4 :  [1677710455602, None, '℃', '2023-03-01T22:40:55.602Z', 34, 'device_temperature']\n",
      "measure 5 :  [1677710455602, None, 'V', '2023-03-01T22:40:55.602Z', 3, 'battery_level']\n",
      "\n",
      "\n",
      "ref:  jzp://edv#0501.0000\n",
      "cuid:  de6e393d-edcd-4ff7-8bfc-8dcec8f56bca\n",
      "t:  1677710459424\n",
      "tz:  2023-03-02T22:40:59.424Z\n",
      "cat:  0620\n",
      "sn:  127\n",
      "type:  luxmeter\n",
      "uuid:  e947b2ab-01d7-4353-a7bb-cceaa5b34c0f\n",
      "measure 1 :  [1677710459424, None, '℃', '2023-03-01T22:40:59.424Z', 5.9616, 'device_temperature']\n",
      "measure 2 :  [1677710459424, None, 'V', '2023-03-01T22:40:59.424Z', 3.5551, 'battery_level']\n",
      "measure 3 :  [1677710459424, None, '', '2023-03-01T22:40:59.424Z', 0.0, 'orientation']\n",
      "measure 4 :  [1677710459424, None, '', '2023-03-01T22:40:59.424Z', 0, 'back_front']\n",
      "measure 5 :  [1677710459424, None, '', '2023-03-01T22:40:59.424Z', 0, 'regular']\n",
      "measure 6 :  [1677710459424, None, '', '2023-03-01T22:40:59.424Z', 0, 'movement_level']\n",
      "measure 7 :  [1677710459424, None, '', '2023-03-01T22:40:59.424Z', 0, 'posture_tilt']\n",
      "measure 8 :  [1677710459424, 'jzp://coo#ffffffff00000500.0000', 'dB', '2023-03-01T22:40:59.424Z', -40, 'rssi']\n",
      "measure 9 :  [1677710459424, None, '', '2023-03-01T22:40:59.424Z', 0, 'position']\n",
      "measure 10 :  [1677710459424, None, '', '2023-03-01T22:40:59.424Z', 60, 'adc_channel_00']\n",
      "measure 11 :  [1677710459424, None, 'lx', '2023-03-01T22:40:59.424Z', 138, 'illuminance']\n",
      "measure 12 :  [1677710459424, 'jzp://coo#ffffffff00000500.0000', '', '2023-03-01T22:40:59.424Z', 1, 'coordinator']\n",
      "measure 13 :  [1677710459424, None, 'Pa', '2023-03-01T22:40:59.424Z', 14810, 'pressure']\n",
      "measure 14 :  [1677710459424, None, '', '2023-03-01T22:40:59.424Z', 0, 'adc_channel_01']\n",
      "\n",
      "\n",
      "ref:  jzp://edv#0504.0000\n",
      "cuid:  64b8b5d5-a972-494a-a430-fac8af8feffd\n",
      "t:  1677710462140\n",
      "tz:  2023-03-02T22:41:02.140Z\n",
      "cat:  0600\n",
      "sn:  153\n",
      "type:  environmental\n",
      "uuid:  3303ee49-4ecc-4bac-a120-896f2006da0b\n",
      "measure 1 :  [1677710462141, None, '℃', '2023-03-01T22:41:02.141Z', 4.5059, 'device_temperature']\n",
      "measure 2 :  [1677710462141, None, 'V', '2023-03-01T22:41:02.141Z', 3.4338, 'battery_level']\n",
      "measure 3 :  [1677710462141, None, '℃', '2023-03-01T22:41:02.141Z', 22.3292, 'dew_point']\n",
      "measure 4 :  [1677710462141, None, '%', '2023-03-01T22:41:02.141Z', 52, 'relative_humidity']\n",
      "measure 5 :  [1677710462141, None, '', '2023-03-01T22:41:02.141Z', 0, 'orientation']\n",
      "measure 6 :  [1677710462141, None, '℃', '2023-03-01T22:41:02.141Z', 22, 'environmental_temperature']\n",
      "measure 7 :  [1677710462141, None, '', '2023-03-01T22:41:02.141Z', 0, 'back_front']\n",
      "measure 8 :  [1677710462141, None, '', '2023-03-01T22:41:02.141Z', 0, 'regular']\n",
      "measure 9 :  [1677710462141, None, '', '2023-03-01T22:41:02.141Z', 0, 'movement_level']\n",
      "measure 10 :  [1677710462141, None, '', '2023-03-01T22:41:02.141Z', 0, 'posture_tilt']\n",
      "measure 11 :  [1677710462141, 'jzp://coo#ffffffff00000500.0000', 'dB', '2023-03-01T22:41:02.141Z', -80, 'rssi']\n",
      "measure 12 :  [1677710462141, None, '', '2023-03-01T22:41:02.141Z', 0, 'position']\n",
      "measure 13 :  [1677710462141, None, 'kg/m³', '2023-03-01T22:41:02.141Z', 0, 'absolute_humidity']\n",
      "measure 14 :  [1677710462141, 'jzp://coo#ffffffff00000500.0000', '', '2023-03-01T22:41:02.141Z', 1, 'coordinator']\n",
      "measure 15 :  [1677710462141, None, 'Pa', '2023-03-01T22:41:02.141Z', 53926, 'pressure']\n",
      "\n",
      "\n",
      "ref:  jzp://edv#0503.0000\n",
      "cuid:  9f52c394-26bc-4140-b58b-53ca01858f88\n",
      "t:  1677710476605\n",
      "tz:  2023-03-02T22:41:16.605Z\n",
      "cat:  0610\n",
      "sn:  27\n",
      "type:  presence\n",
      "uuid:  23267452-ef81-4cfe-82b5-cee85c8b481f\n",
      "measure 1 :  [1677710476605, None, 'C', '2023-03-01T22:41:16.605Z', 9.1388, 'device_temperature']\n",
      "measure 2 :  [1677710476605, None, 'V', '2023-03-01T22:41:16.605Z', 3.3473, 'battery_level']\n",
      "measure 3 :  [1677710476605, 'jzp://coo#ffffffff00000500.0000', 'dB', '2023-03-01T22:41:16.605Z', -99.7861, 'rssi']\n",
      "measure 4 :  [1677710476605, None, '', '2023-03-01T22:41:16.605Z', 1, 'presence']\n",
      "measure 5 :  [1677710476605, 'jzp://coo#ffffffff00000500.0000', '', '2023-03-01T22:41:16.605Z', 1, 'coordinator']\n",
      "\n",
      "\n",
      "ref:  jzp://edv#0502.0000\n",
      "cuid:  54ac736d-7557-4527-a71c-74c255e30bae\n",
      "t:  1677710480355\n",
      "tz:  2023-03-02T22:41:20.355Z\n",
      "cat:  0631\n",
      "sn:  36\n",
      "type:  gasmeter\n",
      "uuid:  7241f756-cbaa-4090-97e1-97db15daf635\n",
      "measure 1 :  [1677710480355, 'jzp://coo#ffffffff000004ff.0000', '', '2023-03-01T22:41:20.355Z', 1.0, 'coordinator']\n",
      "measure 2 :  [1677710480355, None, '', '2023-03-01T22:41:20.355Z', 314.1354, 'ppm']\n",
      "measure 3 :  [1677710480355, 'jzp://coo#ffffffff000004ff.0000', 'dB', '2023-03-01T22:41:20.355Z', -101.658, 'rssi']\n",
      "measure 4 :  [1677710480355, None, '℃', '2023-03-01T22:41:20.355Z', 22, 'device_temperature']\n",
      "measure 5 :  [1677710480355, None, 'V', '2023-03-01T22:41:20.355Z', 3, 'battery_level']\n",
      "\n",
      "\n",
      "ref:  jzp://edv#0501.0000\n",
      "cuid:  4ec49a34-b963-4b37-8b83-cb96c4051d56\n",
      "t:  1677710484328\n",
      "tz:  2023-03-02T22:41:24.328Z\n",
      "cat:  0620\n",
      "sn:  181\n",
      "type:  luxmeter\n",
      "uuid:  9de2bed1-b6c4-458b-a0fa-3575c5c12dd5\n",
      "measure 1 :  [1677710484328, None, '℃', '2023-03-01T22:41:24.328Z', 31.4854, 'device_temperature']\n",
      "measure 2 :  [1677710484328, None, 'V', '2023-03-01T22:41:24.328Z', 3.4991, 'battery_level']\n",
      "measure 3 :  [1677710484328, None, '', '2023-03-01T22:41:24.328Z', 0.0, 'orientation']\n",
      "measure 4 :  [1677710484328, None, '', '2023-03-01T22:41:24.328Z', 0, 'back_front']\n",
      "measure 5 :  [1677710484328, None, '', '2023-03-01T22:41:24.328Z', 0, 'regular']\n",
      "measure 6 :  [1677710484328, None, '', '2023-03-01T22:41:24.328Z', 0, 'movement_level']\n",
      "measure 7 :  [1677710484328, None, '', '2023-03-01T22:41:24.328Z', 0, 'posture_tilt']\n",
      "measure 8 :  [1677710484328, 'jzp://coo#ffffffff00000500.0000', 'dB', '2023-03-01T22:41:24.328Z', -48, 'rssi']\n",
      "measure 9 :  [1677710484328, None, '', '2023-03-01T22:41:24.328Z', 0, 'position']\n",
      "measure 10 :  [1677710484328, None, '', '2023-03-01T22:41:24.328Z', 582, 'adc_channel_00']\n",
      "measure 11 :  [1677710484328, None, 'lx', '2023-03-01T22:41:24.328Z', 466, 'illuminance']\n",
      "measure 12 :  [1677710484328, 'jzp://coo#ffffffff00000500.0000', '', '2023-03-01T22:41:24.328Z', 1, 'coordinator']\n",
      "measure 13 :  [1677710484328, None, 'Pa', '2023-03-01T22:41:24.328Z', 72452, 'pressure']\n",
      "measure 14 :  [1677710484328, None, '', '2023-03-01T22:41:24.328Z', 0, 'adc_channel_01']\n",
      "\n",
      "\n",
      "ref:  jzp://edv#0504.0000\n",
      "cuid:  7054ea01-4193-4963-84cd-dc48716e49c2\n",
      "t:  1677710486901\n",
      "tz:  2023-03-02T22:41:26.902Z\n",
      "cat:  0600\n",
      "sn:  20\n",
      "type:  environmental\n",
      "uuid:  9dddf861-5083-4248-8cc1-5d6b1c93c1c4\n",
      "measure 1 :  [1677710486902, None, '℃', '2023-03-01T22:41:26.902Z', 33.4266, 'device_temperature']\n",
      "measure 2 :  [1677710486902, None, 'V', '2023-03-01T22:41:26.902Z', 3.3905, 'battery_level']\n",
      "measure 3 :  [1677710486902, None, '℃', '2023-03-01T22:41:26.902Z', 17.5023, 'dew_point']\n",
      "measure 4 :  [1677710486902, None, '%', '2023-03-01T22:41:26.902Z', 40, 'relative_humidity']\n",
      "measure 5 :  [1677710486902, None, '', '2023-03-01T22:41:26.902Z', 0, 'orientation']\n",
      "measure 6 :  [1677710486902, None, '℃', '2023-03-01T22:41:26.902Z', 18, 'environmental_temperature']\n",
      "measure 7 :  [1677710486902, None, '', '2023-03-01T22:41:26.902Z', 0, 'back_front']\n",
      "measure 8 :  [1677710486902, None, '', '2023-03-01T22:41:26.902Z', 0, 'regular']\n",
      "measure 9 :  [1677710486902, None, '', '2023-03-01T22:41:26.902Z', 0, 'movement_level']\n",
      "measure 10 :  [1677710486902, None, '', '2023-03-01T22:41:26.902Z', 0, 'posture_tilt']\n",
      "measure 11 :  [1677710486902, 'jzp://coo#ffffffff00000500.0000', 'dB', '2023-03-01T22:41:26.902Z', -89, 'rssi']\n",
      "measure 12 :  [1677710486902, None, '', '2023-03-01T22:41:26.902Z', 0, 'position']\n",
      "measure 13 :  [1677710486902, None, 'kg/m³', '2023-03-01T22:41:26.902Z', 0, 'absolute_humidity']\n",
      "measure 14 :  [1677710486902, 'jzp://coo#ffffffff00000500.0000', '', '2023-03-01T22:41:26.902Z', 1, 'coordinator']\n",
      "measure 15 :  [1677710486902, None, 'Pa', '2023-03-01T22:41:26.902Z', 44791, 'pressure']\n",
      "\n",
      "\n",
      "ref:  jzp://edv#0503.0000\n",
      "cuid:  a7c0d8b5-2c4e-4ca8-9fe2-c30bcd7417f0\n",
      "t:  1677710505184\n",
      "tz:  2023-03-02T22:41:45.184Z\n",
      "cat:  0610\n",
      "sn:  4\n",
      "type:  presence\n",
      "uuid:  a094af8d-7517-4721-b139-12e928375f48\n",
      "measure 1 :  [1677710505184, None, 'C', '2023-03-01T22:41:45.184Z', 19.2417, 'device_temperature']\n",
      "measure 2 :  [1677710505184, None, 'V', '2023-03-01T22:41:45.184Z', 3.2709, 'battery_level']\n",
      "measure 3 :  [1677710505184, 'jzp://coo#ffffffff00000500.0000', 'dB', '2023-03-01T22:41:45.184Z', -15.5194, 'rssi']\n",
      "measure 4 :  [1677710505184, None, '', '2023-03-01T22:41:45.184Z', 1, 'presence']\n",
      "measure 5 :  [1677710505184, 'jzp://coo#ffffffff00000500.0000', '', '2023-03-01T22:41:45.184Z', 1, 'coordinator']\n",
      "\n",
      "\n",
      "ref:  jzp://edv#0502.0000\n",
      "cuid:  ef51d30e-704c-4782-878d-2639d57e5743\n",
      "t:  1677710507333\n",
      "tz:  2023-03-02T22:41:47.333Z\n",
      "cat:  0631\n",
      "sn:  165\n",
      "type:  gasmeter\n",
      "uuid:  6c3546c8-c47f-47f6-a825-b67e70b380ba\n",
      "measure 1 :  [1677710507333, 'jzp://coo#ffffffff000004ff.0000', '', '2023-03-01T22:41:47.333Z', 1.0, 'coordinator']\n",
      "measure 2 :  [1677710507333, None, '', '2023-03-01T22:41:47.333Z', 360.3631, 'ppm']\n",
      "measure 3 :  [1677710507333, 'jzp://coo#ffffffff000004ff.0000', 'dB', '2023-03-01T22:41:47.333Z', -1.5253, 'rssi']\n",
      "measure 4 :  [1677710507333, None, '℃', '2023-03-01T22:41:47.333Z', 37, 'device_temperature']\n",
      "measure 5 :  [1677710507333, None, 'V', '2023-03-01T22:41:47.333Z', 3, 'battery_level']\n",
      "\n",
      "\n",
      "ref:  jzp://edv#0501.0000\n",
      "cuid:  d8feb414-172d-43e2-a9c9-e2e1ae090503\n",
      "t:  1677710509487\n",
      "tz:  2023-03-02T22:41:49.487Z\n",
      "cat:  0620\n",
      "sn:  197\n",
      "type:  luxmeter\n",
      "uuid:  54a434a6-7ebb-4a76-9479-72d944185a05\n",
      "measure 1 :  [1677710509487, None, '℃', '2023-03-01T22:41:49.487Z', 10.4207, 'device_temperature']\n",
      "measure 2 :  [1677710509487, None, 'V', '2023-03-01T22:41:49.487Z', 3.2849, 'battery_level']\n",
      "measure 3 :  [1677710509487, None, '', '2023-03-01T22:41:49.487Z', 0.0, 'orientation']\n",
      "measure 4 :  [1677710509487, None, '', '2023-03-01T22:41:49.487Z', 0, 'back_front']\n",
      "measure 5 :  [1677710509487, None, '', '2023-03-01T22:41:49.487Z', 0, 'regular']\n",
      "measure 6 :  [1677710509487, None, '', '2023-03-01T22:41:49.487Z', 0, 'movement_level']\n",
      "measure 7 :  [1677710509487, None, '', '2023-03-01T22:41:49.487Z', 0, 'posture_tilt']\n",
      "measure 8 :  [1677710509487, 'jzp://coo#ffffffff00000500.0000', 'dB', '2023-03-01T22:41:49.487Z', -10, 'rssi']\n",
      "measure 9 :  [1677710509487, None, '', '2023-03-01T22:41:49.487Z', 0, 'position']\n",
      "measure 10 :  [1677710509487, None, '', '2023-03-01T22:41:49.487Z', 478, 'adc_channel_00']\n",
      "measure 11 :  [1677710509487, None, 'lx', '2023-03-01T22:41:49.487Z', 393, 'illuminance']\n",
      "measure 12 :  [1677710509488, 'jzp://coo#ffffffff00000500.0000', '', '2023-03-01T22:41:49.488Z', 1, 'coordinator']\n",
      "measure 13 :  [1677710509488, None, 'Pa', '2023-03-01T22:41:49.488Z', 29422, 'pressure']\n",
      "measure 14 :  [1677710509488, None, '', '2023-03-01T22:41:49.488Z', 0, 'adc_channel_01']\n",
      "\n",
      "\n",
      "ref:  jzp://edv#0504.0000\n",
      "cuid:  2b988eb8-6c80-4d48-a587-630aa9520ecd\n",
      "t:  1677710513270\n",
      "tz:  2023-03-02T22:41:53.270Z\n",
      "cat:  0600\n",
      "sn:  35\n",
      "type:  environmental\n",
      "uuid:  b5cd0fa8-5530-484f-bb02-e17cd5855ac8\n",
      "measure 1 :  [1677710513270, None, '℃', '2023-03-01T22:41:53.270Z', 17.6755, 'device_temperature']\n",
      "measure 2 :  [1677710513270, None, 'V', '2023-03-01T22:41:53.270Z', 3.4718, 'battery_level']\n",
      "measure 3 :  [1677710513270, None, '℃', '2023-03-01T22:41:53.270Z', 21.8321, 'dew_point']\n",
      "measure 4 :  [1677710513270, None, '%', '2023-03-01T22:41:53.270Z', 69, 'relative_humidity']\n",
      "measure 5 :  [1677710513270, None, '', '2023-03-01T22:41:53.270Z', 0, 'orientation']\n",
      "measure 6 :  [1677710513270, None, '℃', '2023-03-01T22:41:53.270Z', 32, 'environmental_temperature']\n",
      "measure 7 :  [1677710513270, None, '', '2023-03-01T22:41:53.270Z', 0, 'back_front']\n",
      "measure 8 :  [1677710513270, None, '', '2023-03-01T22:41:53.270Z', 0, 'regular']\n",
      "measure 9 :  [1677710513270, None, '', '2023-03-01T22:41:53.270Z', 0, 'movement_level']\n",
      "measure 10 :  [1677710513270, None, '', '2023-03-01T22:41:53.270Z', 0, 'posture_tilt']\n",
      "measure 11 :  [1677710513270, 'jzp://coo#ffffffff00000500.0000', 'dB', '2023-03-01T22:41:53.270Z', -53, 'rssi']\n",
      "measure 12 :  [1677710513270, None, '', '2023-03-01T22:41:53.270Z', 0, 'position']\n",
      "measure 13 :  [1677710513270, None, 'kg/m³', '2023-03-01T22:41:53.270Z', 0, 'absolute_humidity']\n",
      "measure 14 :  [1677710513270, 'jzp://coo#ffffffff00000500.0000', '', '2023-03-01T22:41:53.270Z', 1, 'coordinator']\n",
      "measure 15 :  [1677710513270, None, 'Pa', '2023-03-01T22:41:53.270Z', 24297, 'pressure']\n",
      "\n",
      "\n",
      "ref:  jzp://edv#0503.0000\n",
      "cuid:  7db730ff-89f9-4330-b59a-266fb85a2bfd\n",
      "t:  1677710530464\n",
      "tz:  2023-03-02T22:42:10.464Z\n",
      "cat:  0610\n",
      "sn:  132\n",
      "type:  presence\n",
      "uuid:  938528a2-59f5-4e02-a121-74dbe363614c\n",
      "measure 1 :  [1677710530464, None, 'C', '2023-03-01T22:42:10.464Z', 9.049, 'device_temperature']\n",
      "measure 2 :  [1677710530464, None, 'V', '2023-03-01T22:42:10.464Z', 3.4544, 'battery_level']\n",
      "measure 3 :  [1677710530464, 'jzp://coo#ffffffff00000500.0000', 'dB', '2023-03-01T22:42:10.464Z', -9.7737, 'rssi']\n",
      "measure 4 :  [1677710530464, None, '', '2023-03-01T22:42:10.464Z', 0, 'presence']\n",
      "measure 5 :  [1677710530464, 'jzp://coo#ffffffff00000500.0000', '', '2023-03-01T22:42:10.464Z', 1, 'coordinator']\n",
      "\n",
      "\n",
      "ref:  jzp://edv#0502.0000\n",
      "cuid:  7172f7e1-4d19-431a-96e0-26732be09a6d\n",
      "t:  1677710534254\n",
      "tz:  2023-03-02T22:42:14.254Z\n",
      "cat:  0631\n",
      "sn:  200\n",
      "type:  gasmeter\n",
      "uuid:  3e71b6ee-be47-4c42-bdeb-324e80c18cb4\n",
      "measure 1 :  [1677710534254, 'jzp://coo#ffffffff000004ff.0000', '', '2023-03-01T22:42:14.254Z', 1.0, 'coordinator']\n",
      "measure 2 :  [1677710534254, None, '', '2023-03-01T22:42:14.254Z', 387.1859, 'ppm']\n",
      "measure 3 :  [1677710534254, 'jzp://coo#ffffffff000004ff.0000', 'dB', '2023-03-01T22:42:14.254Z', -91.8912, 'rssi']\n",
      "measure 4 :  [1677710534254, None, '℃', '2023-03-01T22:42:14.254Z', 16, 'device_temperature']\n",
      "measure 5 :  [1677710534254, None, 'V', '2023-03-01T22:42:14.254Z', 3, 'battery_level']\n",
      "\n",
      "\n",
      "ref:  jzp://edv#0501.0000\n",
      "cuid:  ab120c82-2c75-4c37-aa15-f94302a26889\n",
      "t:  1677710536605\n",
      "tz:  2023-03-02T22:42:16.605Z\n",
      "cat:  0620\n",
      "sn:  19\n",
      "type:  luxmeter\n",
      "uuid:  2bf8e520-4bb6-4c12-a06f-4b3fc0ad8cbc\n",
      "measure 1 :  [1677710536605, None, '℃', '2023-03-01T22:42:16.605Z', 6.7795, 'device_temperature']\n",
      "measure 2 :  [1677710536605, None, 'V', '2023-03-01T22:42:16.605Z', 3.3109, 'battery_level']\n",
      "measure 3 :  [1677710536605, None, '', '2023-03-01T22:42:16.605Z', 0.0, 'orientation']\n",
      "measure 4 :  [1677710536605, None, '', '2023-03-01T22:42:16.605Z', 0, 'back_front']\n",
      "measure 5 :  [1677710536605, None, '', '2023-03-01T22:42:16.605Z', 0, 'regular']\n",
      "measure 6 :  [1677710536605, None, '', '2023-03-01T22:42:16.605Z', 0, 'movement_level']\n",
      "measure 7 :  [1677710536605, None, '', '2023-03-01T22:42:16.605Z', 0, 'posture_tilt']\n",
      "measure 8 :  [1677710536605, 'jzp://coo#ffffffff00000500.0000', 'dB', '2023-03-01T22:42:16.605Z', -116, 'rssi']\n",
      "measure 9 :  [1677710536605, None, '', '2023-03-01T22:42:16.605Z', 0, 'position']\n",
      "measure 10 :  [1677710536605, None, '', '2023-03-01T22:42:16.605Z', 161, 'adc_channel_00']\n",
      "measure 11 :  [1677710536605, None, 'lx', '2023-03-01T22:42:16.605Z', 108, 'illuminance']\n",
      "measure 12 :  [1677710536605, 'jzp://coo#ffffffff00000500.0000', '', '2023-03-01T22:42:16.605Z', 1, 'coordinator']\n",
      "measure 13 :  [1677710536605, None, 'Pa', '2023-03-01T22:42:16.605Z', 16130, 'pressure']\n",
      "measure 14 :  [1677710536605, None, '', '2023-03-01T22:42:16.605Z', 0, 'adc_channel_01']\n",
      "\n",
      "\n",
      "ref:  jzp://edv#0504.0000\n",
      "cuid:  3ad62fcb-3592-44f1-9e28-311c97bf8927\n",
      "t:  1677710540289\n",
      "tz:  2023-03-02T22:42:20.289Z\n",
      "cat:  0600\n",
      "sn:  3\n",
      "type:  environmental\n",
      "uuid:  df623bab-7124-4fc5-80a2-c88e3387c278\n",
      "measure 1 :  [1677710540289, None, '℃', '2023-03-01T22:42:20.289Z', 3.524, 'device_temperature']\n",
      "measure 2 :  [1677710540289, None, 'V', '2023-03-01T22:42:20.289Z', 3.3616, 'battery_level']\n",
      "measure 3 :  [1677710540289, None, '℃', '2023-03-01T22:42:20.289Z', 25.6144, 'dew_point']\n",
      "measure 4 :  [1677710540289, None, '%', '2023-03-01T22:42:20.289Z', 86, 'relative_humidity']\n",
      "measure 5 :  [1677710540289, None, '', '2023-03-01T22:42:20.289Z', 0, 'orientation']\n",
      "measure 6 :  [1677710540289, None, '℃', '2023-03-01T22:42:20.289Z', 22, 'environmental_temperature']\n",
      "measure 7 :  [1677710540289, None, '', '2023-03-01T22:42:20.289Z', 0, 'back_front']\n",
      "measure 8 :  [1677710540289, None, '', '2023-03-01T22:42:20.289Z', 0, 'regular']\n",
      "measure 9 :  [1677710540289, None, '', '2023-03-01T22:42:20.289Z', 0, 'movement_level']\n",
      "measure 10 :  [1677710540289, None, '', '2023-03-01T22:42:20.289Z', 0, 'posture_tilt']\n",
      "measure 11 :  [1677710540289, 'jzp://coo#ffffffff00000500.0000', 'dB', '2023-03-01T22:42:20.289Z', -85, 'rssi']\n",
      "measure 12 :  [1677710540289, None, '', '2023-03-01T22:42:20.289Z', 0, 'position']\n",
      "measure 13 :  [1677710540289, None, 'kg/m³', '2023-03-01T22:42:20.289Z', 0, 'absolute_humidity']\n",
      "measure 14 :  [1677710540289, 'jzp://coo#ffffffff00000500.0000', '', '2023-03-01T22:42:20.289Z', 1, 'coordinator']\n",
      "measure 15 :  [1677710540289, None, 'Pa', '2023-03-01T22:42:20.289Z', 77812, 'pressure']\n",
      "\n",
      "\n",
      "ref:  jzp://edv#0503.0000\n",
      "cuid:  babe7162-51e4-4abe-87e1-d201c9a98e0f\n",
      "t:  1677710556720\n",
      "tz:  2023-03-02T22:42:36.720Z\n",
      "cat:  0610\n",
      "sn:  127\n",
      "type:  presence\n",
      "uuid:  342ca6c2-e262-4fca-9646-cfb2ece1767f\n",
      "measure 1 :  [1677710556720, None, 'C', '2023-03-01T22:42:36.720Z', 1.3223, 'device_temperature']\n",
      "measure 2 :  [1677710556720, None, 'V', '2023-03-01T22:42:36.720Z', 3.4962, 'battery_level']\n",
      "measure 3 :  [1677710556720, 'jzp://coo#ffffffff00000500.0000', 'dB', '2023-03-01T22:42:36.720Z', -97.4125, 'rssi']\n",
      "measure 4 :  [1677710556720, None, '', '2023-03-01T22:42:36.720Z', 1, 'presence']\n",
      "measure 5 :  [1677710556720, 'jzp://coo#ffffffff00000500.0000', '', '2023-03-01T22:42:36.720Z', 1, 'coordinator']\n",
      "\n",
      "\n",
      "ref:  jzp://edv#0502.0000\n",
      "cuid:  51cef967-bf8c-48d4-be9b-620fe3966bd5\n",
      "t:  1677710560614\n",
      "tz:  2023-03-02T22:42:40.614Z\n",
      "cat:  0631\n",
      "sn:  215\n",
      "type:  gasmeter\n",
      "uuid:  10835c58-9fda-4ba3-9397-8b48036ba326\n",
      "measure 1 :  [1677710560614, 'jzp://coo#ffffffff000004ff.0000', '', '2023-03-01T22:42:40.614Z', 1.0, 'coordinator']\n",
      "measure 2 :  [1677710560614, None, '', '2023-03-01T22:42:40.614Z', 326.0659, 'ppm']\n",
      "measure 3 :  [1677710560614, 'jzp://coo#ffffffff000004ff.0000', 'dB', '2023-03-01T22:42:40.614Z', -25.1683, 'rssi']\n",
      "measure 4 :  [1677710560614, None, '℃', '2023-03-01T22:42:40.614Z', 16, 'device_temperature']\n",
      "measure 5 :  [1677710560614, None, 'V', '2023-03-01T22:42:40.614Z', 3, 'battery_level']\n",
      "\n",
      "\n",
      "ref:  jzp://edv#0501.0000\n",
      "cuid:  5eefb89f-109e-4ffc-b7a5-9ad990d35137\n",
      "t:  1677710564077\n",
      "tz:  2023-03-02T22:42:44.077Z\n",
      "cat:  0620\n",
      "sn:  221\n",
      "type:  luxmeter\n",
      "uuid:  e30f3922-dc98-4a0c-85c7-9a497ed94681\n",
      "measure 1 :  [1677710564077, None, '℃', '2023-03-01T22:42:44.077Z', 30.736, 'device_temperature']\n",
      "measure 2 :  [1677710564077, None, 'V', '2023-03-01T22:42:44.077Z', 3.4573, 'battery_level']\n",
      "measure 3 :  [1677710564077, None, '', '2023-03-01T22:42:44.077Z', 0.0, 'orientation']\n",
      "measure 4 :  [1677710564077, None, '', '2023-03-01T22:42:44.077Z', 0, 'back_front']\n",
      "measure 5 :  [1677710564077, None, '', '2023-03-01T22:42:44.077Z', 0, 'regular']\n",
      "measure 6 :  [1677710564077, None, '', '2023-03-01T22:42:44.077Z', 0, 'movement_level']\n",
      "measure 7 :  [1677710564077, None, '', '2023-03-01T22:42:44.077Z', 0, 'posture_tilt']\n",
      "measure 8 :  [1677710564077, 'jzp://coo#ffffffff00000500.0000', 'dB', '2023-03-01T22:42:44.077Z', -48, 'rssi']\n",
      "measure 9 :  [1677710564077, None, '', '2023-03-01T22:42:44.077Z', 0, 'position']\n",
      "measure 10 :  [1677710564077, None, '', '2023-03-01T22:42:44.077Z', 513, 'adc_channel_00']\n",
      "measure 11 :  [1677710564077, None, 'lx', '2023-03-01T22:42:44.077Z', 177, 'illuminance']\n",
      "measure 12 :  [1677710564077, 'jzp://coo#ffffffff00000500.0000', '', '2023-03-01T22:42:44.077Z', 1, 'coordinator']\n",
      "measure 13 :  [1677710564077, None, 'Pa', '2023-03-01T22:42:44.077Z', 13024, 'pressure']\n",
      "measure 14 :  [1677710564077, None, '', '2023-03-01T22:42:44.077Z', 0, 'adc_channel_01']\n",
      "\n",
      "\n",
      "ref:  jzp://edv#0504.0000\n",
      "cuid:  3a7eadaa-d427-4e2e-866e-eb67bc370415\n",
      "t:  1677710567366\n",
      "tz:  2023-03-02T22:42:47.366Z\n",
      "cat:  0600\n",
      "sn:  190\n",
      "type:  environmental\n",
      "uuid:  42912afc-462a-4561-9ed7-ba109ae1e9a7\n",
      "measure 1 :  [1677710567366, None, '℃', '2023-03-01T22:42:47.366Z', 9.5015, 'device_temperature']\n",
      "measure 2 :  [1677710567366, None, 'V', '2023-03-01T22:42:47.366Z', 3.4949, 'battery_level']\n",
      "measure 3 :  [1677710567366, None, '℃', '2023-03-01T22:42:47.366Z', 21.1715, 'dew_point']\n",
      "measure 4 :  [1677710567366, None, '%', '2023-03-01T22:42:47.366Z', 67, 'relative_humidity']\n",
      "measure 5 :  [1677710567366, None, '', '2023-03-01T22:42:47.366Z', 0, 'orientation']\n",
      "measure 6 :  [1677710567366, None, '℃', '2023-03-01T22:42:47.366Z', 16, 'environmental_temperature']\n",
      "measure 7 :  [1677710567366, None, '', '2023-03-01T22:42:47.366Z', 0, 'back_front']\n",
      "measure 8 :  [1677710567366, None, '', '2023-03-01T22:42:47.366Z', 0, 'regular']\n",
      "measure 9 :  [1677710567366, None, '', '2023-03-01T22:42:47.366Z', 0, 'movement_level']\n",
      "measure 10 :  [1677710567366, None, '', '2023-03-01T22:42:47.366Z', 0, 'posture_tilt']\n",
      "measure 11 :  [1677710567366, 'jzp://coo#ffffffff00000500.0000', 'dB', '2023-03-01T22:42:47.366Z', -72, 'rssi']\n",
      "measure 12 :  [1677710567366, None, '', '2023-03-01T22:42:47.366Z', 0, 'position']\n",
      "measure 13 :  [1677710567366, None, 'kg/m³', '2023-03-01T22:42:47.366Z', 0, 'absolute_humidity']\n",
      "measure 14 :  [1677710567366, 'jzp://coo#ffffffff00000500.0000', '', '2023-03-01T22:42:47.366Z', 1, 'coordinator']\n",
      "measure 15 :  [1677710567366, None, 'Pa', '2023-03-01T22:42:47.366Z', 93517, 'pressure']\n",
      "\n",
      "\n",
      "ref:  jzp://edv#0503.0000\n",
      "cuid:  6833a80e-b9fe-43cf-a707-976507352a90\n",
      "t:  1677710579792\n",
      "tz:  2023-03-02T22:42:59.792Z\n",
      "cat:  0610\n",
      "sn:  156\n",
      "type:  presence\n",
      "uuid:  4b1f984f-792f-4d2b-9ed8-0088486d83c6\n",
      "measure 1 :  [1677710579792, None, 'C', '2023-03-01T22:42:59.792Z', 5.0217, 'device_temperature']\n",
      "measure 2 :  [1677710579792, None, 'V', '2023-03-01T22:42:59.792Z', 3.537, 'battery_level']\n",
      "measure 3 :  [1677710579792, 'jzp://coo#ffffffff00000500.0000', 'dB', '2023-03-01T22:42:59.792Z', -7.1883, 'rssi']\n",
      "measure 4 :  [1677710579792, None, '', '2023-03-01T22:42:59.792Z', 1, 'presence']\n",
      "measure 5 :  [1677710579792, 'jzp://coo#ffffffff00000500.0000', '', '2023-03-01T22:42:59.792Z', 1, 'coordinator']\n",
      "\n",
      "\n",
      "ref:  jzp://edv#0502.0000\n",
      "cuid:  64d43ee2-51c5-4603-860f-fa26feb20c11\n",
      "t:  1677710583378\n",
      "tz:  2023-03-02T22:43:03.378Z\n",
      "cat:  0631\n",
      "sn:  5\n",
      "type:  gasmeter\n",
      "uuid:  f7d0a9ed-2ef6-4037-9734-158df01edea9\n",
      "measure 1 :  [1677710583378, 'jzp://coo#ffffffff000004ff.0000', '', '2023-03-01T22:43:03.378Z', 1.0, 'coordinator']\n",
      "measure 2 :  [1677710583378, None, '', '2023-03-01T22:43:03.378Z', 319.2753, 'ppm']\n",
      "measure 3 :  [1677710583378, 'jzp://coo#ffffffff000004ff.0000', 'dB', '2023-03-01T22:43:03.378Z', -65.664, 'rssi']\n",
      "measure 4 :  [1677710583378, None, '℃', '2023-03-01T22:43:03.378Z', 30, 'device_temperature']\n",
      "measure 5 :  [1677710583378, None, 'V', '2023-03-01T22:43:03.378Z', 3, 'battery_level']\n",
      "\n",
      "\n",
      "ref:  jzp://edv#0501.0000\n",
      "cuid:  6c650a0d-bf30-4632-b679-b8039ea04f69\n",
      "t:  1677710587079\n",
      "tz:  2023-03-02T22:43:07.079Z\n",
      "cat:  0620\n",
      "sn:  234\n",
      "type:  luxmeter\n",
      "uuid:  bba5c4f3-956e-4838-a385-752911c726f5\n",
      "measure 1 :  [1677710587079, None, '℃', '2023-03-01T22:43:07.079Z', 15.2714, 'device_temperature']\n",
      "measure 2 :  [1677710587079, None, 'V', '2023-03-01T22:43:07.079Z', 3.5291, 'battery_level']\n",
      "measure 3 :  [1677710587079, None, '', '2023-03-01T22:43:07.079Z', 0.0, 'orientation']\n",
      "measure 4 :  [1677710587079, None, '', '2023-03-01T22:43:07.079Z', 0, 'back_front']\n",
      "measure 5 :  [1677710587079, None, '', '2023-03-01T22:43:07.079Z', 0, 'regular']\n",
      "measure 6 :  [1677710587079, None, '', '2023-03-01T22:43:07.079Z', 0, 'movement_level']\n",
      "measure 7 :  [1677710587079, None, '', '2023-03-01T22:43:07.079Z', 0, 'posture_tilt']\n",
      "measure 8 :  [1677710587079, 'jzp://coo#ffffffff00000500.0000', 'dB', '2023-03-01T22:43:07.079Z', -87, 'rssi']\n",
      "measure 9 :  [1677710587079, None, '', '2023-03-01T22:43:07.079Z', 0, 'position']\n",
      "measure 10 :  [1677710587079, None, '', '2023-03-01T22:43:07.079Z', 545, 'adc_channel_00']\n",
      "measure 11 :  [1677710587079, None, 'lx', '2023-03-01T22:43:07.079Z', 210, 'illuminance']\n",
      "measure 12 :  [1677710587079, 'jzp://coo#ffffffff00000500.0000', '', '2023-03-01T22:43:07.079Z', 1, 'coordinator']\n",
      "measure 13 :  [1677710587079, None, 'Pa', '2023-03-01T22:43:07.079Z', 99910, 'pressure']\n",
      "measure 14 :  [1677710587079, None, '', '2023-03-01T22:43:07.079Z', 0, 'adc_channel_01']\n",
      "\n",
      "\n",
      "ref:  jzp://edv#0504.0000\n",
      "cuid:  8e55007a-5b91-476b-944d-625e5aeb23db\n",
      "t:  1677710589810\n",
      "tz:  2023-03-02T22:43:09.810Z\n",
      "cat:  0600\n",
      "sn:  100\n",
      "type:  environmental\n",
      "uuid:  692f64c0-e3ba-45b2-a2ac-4d5f3a06b222\n",
      "measure 1 :  [1677710589810, None, '℃', '2023-03-01T22:43:09.810Z', 20.018, 'device_temperature']\n",
      "measure 2 :  [1677710589810, None, 'V', '2023-03-01T22:43:09.810Z', 3.4368, 'battery_level']\n",
      "measure 3 :  [1677710589810, None, '℃', '2023-03-01T22:43:09.810Z', 22.8311, 'dew_point']\n",
      "measure 4 :  [1677710589810, None, '%', '2023-03-01T22:43:09.810Z', 6, 'relative_humidity']\n",
      "measure 5 :  [1677710589810, None, '', '2023-03-01T22:43:09.810Z', 0, 'orientation']\n",
      "measure 6 :  [1677710589810, None, '℃', '2023-03-01T22:43:09.810Z', 1, 'environmental_temperature']\n",
      "measure 7 :  [1677710589810, None, '', '2023-03-01T22:43:09.810Z', 0, 'back_front']\n",
      "measure 8 :  [1677710589810, None, '', '2023-03-01T22:43:09.810Z', 0, 'regular']\n",
      "measure 9 :  [1677710589810, None, '', '2023-03-01T22:43:09.810Z', 0, 'movement_level']\n",
      "measure 10 :  [1677710589810, None, '', '2023-03-01T22:43:09.810Z', 0, 'posture_tilt']\n",
      "measure 11 :  [1677710589810, 'jzp://coo#ffffffff00000500.0000', 'dB', '2023-03-01T22:43:09.810Z', -43, 'rssi']\n",
      "measure 12 :  [1677710589810, None, '', '2023-03-01T22:43:09.810Z', 0, 'position']\n",
      "measure 13 :  [1677710589810, None, 'kg/m³', '2023-03-01T22:43:09.810Z', 0, 'absolute_humidity']\n",
      "measure 14 :  [1677710589810, 'jzp://coo#ffffffff00000500.0000', '', '2023-03-01T22:43:09.810Z', 1, 'coordinator']\n",
      "measure 15 :  [1677710589810, None, 'Pa', '2023-03-01T22:43:09.810Z', 69720, 'pressure']\n",
      "\n",
      "\n",
      "ref:  jzp://edv#0503.0000\n",
      "cuid:  fd30a688-6b90-4be5-b215-98f93e284aa4\n",
      "t:  1677710603458\n",
      "tz:  2023-03-02T22:43:23.458Z\n",
      "cat:  0610\n",
      "sn:  102\n",
      "type:  presence\n",
      "uuid:  72848118-4a3c-4a25-845b-683bc1ba184a\n",
      "measure 1 :  [1677710603458, None, 'C', '2023-03-01T22:43:23.458Z', 25.8304, 'device_temperature']\n",
      "measure 2 :  [1677710603458, None, 'V', '2023-03-01T22:43:23.458Z', 3.4111, 'battery_level']\n",
      "measure 3 :  [1677710603458, 'jzp://coo#ffffffff00000500.0000', 'dB', '2023-03-01T22:43:23.458Z', -109.1429, 'rssi']\n",
      "measure 4 :  [1677710603458, None, '', '2023-03-01T22:43:23.458Z', 1, 'presence']\n",
      "measure 5 :  [1677710603458, 'jzp://coo#ffffffff00000500.0000', '', '2023-03-01T22:43:23.458Z', 1, 'coordinator']\n",
      "\n",
      "\n",
      "ref:  jzp://edv#0502.0000\n",
      "cuid:  98eeaefc-6a44-46c5-af5b-b418558622f5\n",
      "t:  1677710607018\n",
      "tz:  2023-03-02T22:43:27.018Z\n",
      "cat:  0631\n",
      "sn:  205\n",
      "type:  gasmeter\n",
      "uuid:  5ff1cbc5-8e07-4644-bede-f23e43836ed5\n",
      "measure 1 :  [1677710607019, 'jzp://coo#ffffffff000004ff.0000', '', '2023-03-01T22:43:27.019Z', 1.0, 'coordinator']\n",
      "measure 2 :  [1677710607019, None, '', '2023-03-01T22:43:27.019Z', 369.8758, 'ppm']\n",
      "measure 3 :  [1677710607019, 'jzp://coo#ffffffff000004ff.0000', 'dB', '2023-03-01T22:43:27.019Z', -83.5197, 'rssi']\n",
      "measure 4 :  [1677710607019, None, '℃', '2023-03-01T22:43:27.019Z', 37, 'device_temperature']\n",
      "measure 5 :  [1677710607019, None, 'V', '2023-03-01T22:43:27.019Z', 3, 'battery_level']\n",
      "\n",
      "\n",
      "ref:  jzp://edv#0501.0000\n",
      "cuid:  a3cad404-34ec-4fbe-89c2-97abe4c88a87\n",
      "t:  1677710609304\n",
      "tz:  2023-03-02T22:43:29.304Z\n",
      "cat:  0620\n",
      "sn:  221\n",
      "type:  luxmeter\n",
      "uuid:  48c14831-1949-478f-b571-d6584763d81f\n",
      "measure 1 :  [1677710609304, None, '℃', '2023-03-01T22:43:29.304Z', 3.0659, 'device_temperature']\n",
      "measure 2 :  [1677710609304, None, 'V', '2023-03-01T22:43:29.304Z', 3.4055, 'battery_level']\n",
      "measure 3 :  [1677710609304, None, '', '2023-03-01T22:43:29.304Z', 0.0, 'orientation']\n",
      "measure 4 :  [1677710609304, None, '', '2023-03-01T22:43:29.304Z', 0, 'back_front']\n",
      "measure 5 :  [1677710609304, None, '', '2023-03-01T22:43:29.304Z', 0, 'regular']\n",
      "measure 6 :  [1677710609304, None, '', '2023-03-01T22:43:29.304Z', 0, 'movement_level']\n",
      "measure 7 :  [1677710609304, None, '', '2023-03-01T22:43:29.304Z', 0, 'posture_tilt']\n",
      "measure 8 :  [1677710609304, 'jzp://coo#ffffffff00000500.0000', 'dB', '2023-03-01T22:43:29.304Z', -106, 'rssi']\n",
      "measure 9 :  [1677710609304, None, '', '2023-03-01T22:43:29.304Z', 0, 'position']\n",
      "measure 10 :  [1677710609304, None, '', '2023-03-01T22:43:29.304Z', 65, 'adc_channel_00']\n",
      "measure 11 :  [1677710609305, None, 'lx', '2023-03-01T22:43:29.305Z', 88, 'illuminance']\n",
      "measure 12 :  [1677710609305, 'jzp://coo#ffffffff00000500.0000', '', '2023-03-01T22:43:29.305Z', 1, 'coordinator']\n",
      "measure 13 :  [1677710609305, None, 'Pa', '2023-03-01T22:43:29.305Z', 34442, 'pressure']\n",
      "measure 14 :  [1677710609305, None, '', '2023-03-01T22:43:29.305Z', 0, 'adc_channel_01']\n",
      "\n",
      "\n",
      "ref:  jzp://edv#0504.0000\n",
      "cuid:  f63d0589-cd77-4429-aae9-8b94720d2b90\n",
      "t:  1677710612207\n",
      "tz:  2023-03-02T22:43:32.207Z\n",
      "cat:  0600\n",
      "sn:  30\n",
      "type:  environmental\n",
      "uuid:  c296c8e2-c03e-4f75-b8ba-c35e1425c5a2\n",
      "measure 1 :  [1677710612207, None, '℃', '2023-03-01T22:43:32.207Z', 27.6591, 'device_temperature']\n",
      "measure 2 :  [1677710612207, None, 'V', '2023-03-01T22:43:32.207Z', 3.3818, 'battery_level']\n",
      "measure 3 :  [1677710612207, None, '℃', '2023-03-01T22:43:32.207Z', 13.9673, 'dew_point']\n",
      "measure 4 :  [1677710612207, None, '%', '2023-03-01T22:43:32.207Z', 59, 'relative_humidity']\n",
      "measure 5 :  [1677710612207, None, '', '2023-03-01T22:43:32.207Z', 0, 'orientation']\n",
      "measure 6 :  [1677710612207, None, '℃', '2023-03-01T22:43:32.207Z', 31, 'environmental_temperature']\n",
      "measure 7 :  [1677710612207, None, '', '2023-03-01T22:43:32.207Z', 0, 'back_front']\n",
      "measure 8 :  [1677710612207, None, '', '2023-03-01T22:43:32.207Z', 0, 'regular']\n",
      "measure 9 :  [1677710612207, None, '', '2023-03-01T22:43:32.207Z', 0, 'movement_level']\n",
      "measure 10 :  [1677710612207, None, '', '2023-03-01T22:43:32.207Z', 0, 'posture_tilt']\n",
      "measure 11 :  [1677710612207, 'jzp://coo#ffffffff00000500.0000', 'dB', '2023-03-01T22:43:32.207Z', -88, 'rssi']\n",
      "measure 12 :  [1677710612207, None, '', '2023-03-01T22:43:32.207Z', 0, 'position']\n",
      "measure 13 :  [1677710612207, None, 'kg/m³', '2023-03-01T22:43:32.207Z', 0, 'absolute_humidity']\n",
      "measure 14 :  [1677710612207, 'jzp://coo#ffffffff00000500.0000', '', '2023-03-01T22:43:32.207Z', 1, 'coordinator']\n",
      "measure 15 :  [1677710612207, None, 'Pa', '2023-03-01T22:43:32.207Z', 27603, 'pressure']\n",
      "\n",
      "\n",
      "ref:  jzp://edv#0503.0000\n",
      "cuid:  babf42b2-e27f-4d8e-ace7-eb7fec89c848\n",
      "t:  1677710629579\n",
      "tz:  2023-03-02T22:43:49.579Z\n",
      "cat:  0610\n",
      "sn:  137\n",
      "type:  presence\n",
      "uuid:  a7bb941d-b3fd-46e7-978b-2fc55dc01442\n",
      "measure 1 :  [1677710629579, None, 'C', '2023-03-01T22:43:49.579Z', 3.5177, 'device_temperature']\n",
      "measure 2 :  [1677710629579, None, 'V', '2023-03-01T22:43:49.579Z', 3.4806, 'battery_level']\n",
      "measure 3 :  [1677710629579, 'jzp://coo#ffffffff00000500.0000', 'dB', '2023-03-01T22:43:49.579Z', -23.4356, 'rssi']\n",
      "measure 4 :  [1677710629579, None, '', '2023-03-01T22:43:49.579Z', 0, 'presence']\n",
      "measure 5 :  [1677710629579, 'jzp://coo#ffffffff00000500.0000', '', '2023-03-01T22:43:49.579Z', 1, 'coordinator']\n",
      "\n",
      "\n",
      "ref:  jzp://edv#0502.0000\n",
      "cuid:  92bef6c8-bddb-4b78-901b-a1b79e450c6e\n",
      "t:  1677710632143\n",
      "tz:  2023-03-02T22:43:52.143Z\n",
      "cat:  0631\n",
      "sn:  38\n",
      "type:  gasmeter\n",
      "uuid:  f646afa6-6638-40e1-a574-2c3659ad15ba\n",
      "measure 1 :  [1677710632143, 'jzp://coo#ffffffff000004ff.0000', '', '2023-03-01T22:43:52.143Z', 1.0, 'coordinator']\n",
      "measure 2 :  [1677710632143, None, '', '2023-03-01T22:43:52.143Z', 375.5255, 'ppm']\n",
      "measure 3 :  [1677710632143, 'jzp://coo#ffffffff000004ff.0000', 'dB', '2023-03-01T22:43:52.143Z', -63.8526, 'rssi']\n",
      "measure 4 :  [1677710632143, None, '℃', '2023-03-01T22:43:52.143Z', 28, 'device_temperature']\n",
      "measure 5 :  [1677710632143, None, 'V', '2023-03-01T22:43:52.143Z', 3, 'battery_level']\n",
      "\n",
      "\n",
      "ref:  jzp://edv#0501.0000\n",
      "cuid:  cac688db-b337-468a-9297-f6190df32987\n",
      "t:  1677710634548\n",
      "tz:  2023-03-02T22:43:54.548Z\n",
      "cat:  0620\n",
      "sn:  34\n",
      "type:  luxmeter\n",
      "uuid:  e196a40f-9ac1-4550-995a-158048d088bc\n",
      "measure 1 :  [1677710634548, None, '℃', '2023-03-01T22:43:54.548Z', 17.4271, 'device_temperature']\n",
      "measure 2 :  [1677710634548, None, 'V', '2023-03-01T22:43:54.548Z', 3.4575, 'battery_level']\n",
      "measure 3 :  [1677710634548, None, '', '2023-03-01T22:43:54.548Z', 0.0, 'orientation']\n",
      "measure 4 :  [1677710634548, None, '', '2023-03-01T22:43:54.548Z', 0, 'back_front']\n",
      "measure 5 :  [1677710634548, None, '', '2023-03-01T22:43:54.548Z', 0, 'regular']\n",
      "measure 6 :  [1677710634548, None, '', '2023-03-01T22:43:54.548Z', 0, 'movement_level']\n",
      "measure 7 :  [1677710634548, None, '', '2023-03-01T22:43:54.548Z', 0, 'posture_tilt']\n",
      "measure 8 :  [1677710634548, 'jzp://coo#ffffffff00000500.0000', 'dB', '2023-03-01T22:43:54.548Z', -112, 'rssi']\n",
      "measure 9 :  [1677710634548, None, '', '2023-03-01T22:43:54.548Z', 0, 'position']\n",
      "measure 10 :  [1677710634548, None, '', '2023-03-01T22:43:54.548Z', 167, 'adc_channel_00']\n",
      "measure 11 :  [1677710634548, None, 'lx', '2023-03-01T22:43:54.548Z', 367, 'illuminance']\n",
      "measure 12 :  [1677710634548, 'jzp://coo#ffffffff00000500.0000', '', '2023-03-01T22:43:54.548Z', 1, 'coordinator']\n",
      "measure 13 :  [1677710634548, None, 'Pa', '2023-03-01T22:43:54.548Z', 38303, 'pressure']\n",
      "measure 14 :  [1677710634548, None, '', '2023-03-01T22:43:54.548Z', 0, 'adc_channel_01']\n",
      "\n",
      "\n",
      "ref:  jzp://edv#0504.0000\n",
      "cuid:  a004cd75-33c9-422d-b37d-ad417821c26d\n",
      "t:  1677710638458\n",
      "tz:  2023-03-02T22:43:58.458Z\n",
      "cat:  0600\n",
      "sn:  254\n",
      "type:  environmental\n",
      "uuid:  304aff9d-8662-4116-accf-2b73f718e6b3\n",
      "measure 1 :  [1677710638458, None, '℃', '2023-03-01T22:43:58.458Z', 29.5854, 'device_temperature']\n",
      "measure 2 :  [1677710638458, None, 'V', '2023-03-01T22:43:58.458Z', 3.4226, 'battery_level']\n",
      "measure 3 :  [1677710638458, None, '℃', '2023-03-01T22:43:58.458Z', 23.8909, 'dew_point']\n",
      "measure 4 :  [1677710638458, None, '%', '2023-03-01T22:43:58.458Z', 59, 'relative_humidity']\n",
      "measure 5 :  [1677710638458, None, '', '2023-03-01T22:43:58.458Z', 0, 'orientation']\n",
      "measure 6 :  [1677710638458, None, '℃', '2023-03-01T22:43:58.458Z', 12, 'environmental_temperature']\n",
      "measure 7 :  [1677710638458, None, '', '2023-03-01T22:43:58.458Z', 0, 'back_front']\n",
      "measure 8 :  [1677710638458, None, '', '2023-03-01T22:43:58.458Z', 0, 'regular']\n",
      "measure 9 :  [1677710638458, None, '', '2023-03-01T22:43:58.458Z', 0, 'movement_level']\n",
      "measure 10 :  [1677710638458, None, '', '2023-03-01T22:43:58.458Z', 0, 'posture_tilt']\n",
      "measure 11 :  [1677710638458, 'jzp://coo#ffffffff00000500.0000', 'dB', '2023-03-01T22:43:58.458Z', -32, 'rssi']\n",
      "measure 12 :  [1677710638458, None, '', '2023-03-01T22:43:58.458Z', 0, 'position']\n",
      "measure 13 :  [1677710638458, None, 'kg/m³', '2023-03-01T22:43:58.458Z', 0, 'absolute_humidity']\n",
      "measure 14 :  [1677710638458, 'jzp://coo#ffffffff00000500.0000', '', '2023-03-01T22:43:58.458Z', 1, 'coordinator']\n",
      "measure 15 :  [1677710638458, None, 'Pa', '2023-03-01T22:43:58.458Z', 78303, 'pressure']\n",
      "\n",
      "\n",
      "ref:  jzp://edv#0503.0000\n",
      "cuid:  7db032a6-fd0d-4938-9f6e-0fd776d2e187\n",
      "t:  1677710649892\n",
      "tz:  2023-03-02T22:44:09.892Z\n",
      "cat:  0610\n",
      "sn:  174\n",
      "type:  presence\n",
      "uuid:  1581a0f7-ea4b-4760-8e25-cb4deeb7339b\n",
      "measure 1 :  [1677710649892, None, 'C', '2023-03-01T22:44:09.892Z', 22.5755, 'device_temperature']\n",
      "measure 2 :  [1677710649892, None, 'V', '2023-03-01T22:44:09.892Z', 3.4972, 'battery_level']\n",
      "measure 3 :  [1677710649892, 'jzp://coo#ffffffff00000500.0000', 'dB', '2023-03-01T22:44:09.892Z', -36.6012, 'rssi']\n",
      "measure 4 :  [1677710649892, None, '', '2023-03-01T22:44:09.892Z', 0, 'presence']\n",
      "measure 5 :  [1677710649892, 'jzp://coo#ffffffff00000500.0000', '', '2023-03-01T22:44:09.892Z', 1, 'coordinator']\n",
      "\n",
      "\n",
      "ref:  jzp://edv#0502.0000\n",
      "cuid:  04548832-160a-4f39-aa4b-dd48ff76ec07\n",
      "t:  1677710652596\n",
      "tz:  2023-03-02T22:44:12.596Z\n",
      "cat:  0631\n",
      "sn:  111\n",
      "type:  gasmeter\n",
      "uuid:  2c8826aa-209c-48b2-bd3a-e3f6d4fd218c\n",
      "measure 1 :  [1677710652596, 'jzp://coo#ffffffff000004ff.0000', '', '2023-03-01T22:44:12.596Z', 1.0, 'coordinator']\n",
      "measure 2 :  [1677710652596, None, '', '2023-03-01T22:44:12.596Z', 373.0638, 'ppm']\n",
      "measure 3 :  [1677710652597, 'jzp://coo#ffffffff000004ff.0000', 'dB', '2023-03-01T22:44:12.597Z', -68.2866, 'rssi']\n",
      "measure 4 :  [1677710652597, None, '℃', '2023-03-01T22:44:12.597Z', 11, 'device_temperature']\n",
      "measure 5 :  [1677710652597, None, 'V', '2023-03-01T22:44:12.597Z', 3, 'battery_level']\n",
      "\n",
      "\n",
      "ref:  jzp://edv#0501.0000\n",
      "cuid:  0d5ab95b-e669-44bd-85bf-2c5a0dd7d8d7\n",
      "t:  1677710654784\n",
      "tz:  2023-03-02T22:44:14.784Z\n",
      "cat:  0620\n",
      "sn:  119\n",
      "type:  luxmeter\n",
      "uuid:  a6f1f384-06ac-42bc-bad9-7d69d0215d34\n",
      "measure 1 :  [1677710654784, None, '℃', '2023-03-01T22:44:14.784Z', 34.4975, 'device_temperature']\n",
      "measure 2 :  [1677710654784, None, 'V', '2023-03-01T22:44:14.784Z', 3.3353, 'battery_level']\n",
      "measure 3 :  [1677710654784, None, '', '2023-03-01T22:44:14.784Z', 0.0, 'orientation']\n",
      "measure 4 :  [1677710654784, None, '', '2023-03-01T22:44:14.784Z', 0, 'back_front']\n",
      "measure 5 :  [1677710654784, None, '', '2023-03-01T22:44:14.784Z', 0, 'regular']\n",
      "measure 6 :  [1677710654784, None, '', '2023-03-01T22:44:14.784Z', 0, 'movement_level']\n",
      "measure 7 :  [1677710654784, None, '', '2023-03-01T22:44:14.784Z', 0, 'posture_tilt']\n",
      "measure 8 :  [1677710654784, 'jzp://coo#ffffffff00000500.0000', 'dB', '2023-03-01T22:44:14.784Z', 0, 'rssi']\n",
      "measure 9 :  [1677710654784, None, '', '2023-03-01T22:44:14.784Z', 0, 'position']\n",
      "measure 10 :  [1677710654784, None, '', '2023-03-01T22:44:14.784Z', 214, 'adc_channel_00']\n",
      "measure 11 :  [1677710654784, None, 'lx', '2023-03-01T22:44:14.784Z', 589, 'illuminance']\n",
      "measure 12 :  [1677710654784, 'jzp://coo#ffffffff00000500.0000', '', '2023-03-01T22:44:14.784Z', 1, 'coordinator']\n",
      "measure 13 :  [1677710654784, None, 'Pa', '2023-03-01T22:44:14.784Z', 720, 'pressure']\n",
      "measure 14 :  [1677710654784, None, '', '2023-03-01T22:44:14.784Z', 0, 'adc_channel_01']\n",
      "\n",
      "\n",
      "ref:  jzp://edv#0504.0000\n",
      "cuid:  9b59b6fc-7d10-4252-aab9-17991592e84e\n",
      "t:  1677710658384\n",
      "tz:  2023-03-02T22:44:18.384Z\n",
      "cat:  0600\n",
      "sn:  16\n",
      "type:  environmental\n",
      "uuid:  a325f139-23f6-477f-9c92-fb57ef97c869\n",
      "measure 1 :  [1677710658385, None, '℃', '2023-03-01T22:44:18.385Z', 30.5952, 'device_temperature']\n",
      "measure 2 :  [1677710658385, None, 'V', '2023-03-01T22:44:18.385Z', 3.4539, 'battery_level']\n",
      "measure 3 :  [1677710658385, None, '℃', '2023-03-01T22:44:18.385Z', 13.9946, 'dew_point']\n",
      "measure 4 :  [1677710658385, None, '%', '2023-03-01T22:44:18.385Z', 61, 'relative_humidity']\n",
      "measure 5 :  [1677710658385, None, '', '2023-03-01T22:44:18.385Z', 0, 'orientation']\n",
      "measure 6 :  [1677710658385, None, '℃', '2023-03-01T22:44:18.385Z', 5, 'environmental_temperature']\n",
      "measure 7 :  [1677710658385, None, '', '2023-03-01T22:44:18.385Z', 0, 'back_front']\n",
      "measure 8 :  [1677710658385, None, '', '2023-03-01T22:44:18.385Z', 0, 'regular']\n",
      "measure 9 :  [1677710658385, None, '', '2023-03-01T22:44:18.385Z', 0, 'movement_level']\n",
      "measure 10 :  [1677710658385, None, '', '2023-03-01T22:44:18.385Z', 0, 'posture_tilt']\n",
      "measure 11 :  [1677710658385, 'jzp://coo#ffffffff00000500.0000', 'dB', '2023-03-01T22:44:18.385Z', -3, 'rssi']\n",
      "measure 12 :  [1677710658385, None, '', '2023-03-01T22:44:18.385Z', 0, 'position']\n",
      "measure 13 :  [1677710658385, None, 'kg/m³', '2023-03-01T22:44:18.385Z', 0, 'absolute_humidity']\n",
      "measure 14 :  [1677710658385, 'jzp://coo#ffffffff00000500.0000', '', '2023-03-01T22:44:18.385Z', 1, 'coordinator']\n",
      "measure 15 :  [1677710658385, None, 'Pa', '2023-03-01T22:44:18.385Z', 99106, 'pressure']\n",
      "\n",
      "\n",
      "ref:  jzp://edv#0503.0000\n",
      "cuid:  08284254-5699-4f13-b478-49dd0c22404f\n",
      "t:  1677710672542\n",
      "tz:  2023-03-02T22:44:32.542Z\n",
      "cat:  0610\n",
      "sn:  23\n",
      "type:  presence\n",
      "uuid:  aacd7775-3253-4ab4-90dd-3208fc364434\n",
      "measure 1 :  [1677710672542, None, 'C', '2023-03-01T22:44:32.542Z', 24.0153, 'device_temperature']\n",
      "measure 2 :  [1677710672542, None, 'V', '2023-03-01T22:44:32.542Z', 3.2721, 'battery_level']\n",
      "measure 3 :  [1677710672542, 'jzp://coo#ffffffff00000500.0000', 'dB', '2023-03-01T22:44:32.542Z', -33.6514, 'rssi']\n",
      "measure 4 :  [1677710672542, None, '', '2023-03-01T22:44:32.542Z', 0, 'presence']\n",
      "measure 5 :  [1677710672542, 'jzp://coo#ffffffff00000500.0000', '', '2023-03-01T22:44:32.542Z', 1, 'coordinator']\n",
      "\n",
      "\n",
      "ref:  jzp://edv#0502.0000\n",
      "cuid:  575df969-ff1c-416c-8b77-c6ba823fc81d\n",
      "t:  1677710676004\n",
      "tz:  2023-03-02T22:44:36.004Z\n",
      "cat:  0631\n",
      "sn:  140\n",
      "type:  gasmeter\n",
      "uuid:  47f121be-0242-4041-8c6e-2450ab79f8a3\n",
      "measure 1 :  [1677710676004, 'jzp://coo#ffffffff000004ff.0000', '', '2023-03-01T22:44:36.004Z', 1.0, 'coordinator']\n",
      "measure 2 :  [1677710676004, None, '', '2023-03-01T22:44:36.004Z', 355.9728, 'ppm']\n",
      "measure 3 :  [1677710676004, 'jzp://coo#ffffffff000004ff.0000', 'dB', '2023-03-01T22:44:36.004Z', -16.8031, 'rssi']\n",
      "measure 4 :  [1677710676004, None, '℃', '2023-03-01T22:44:36.004Z', 9, 'device_temperature']\n",
      "measure 5 :  [1677710676004, None, 'V', '2023-03-01T22:44:36.004Z', 3, 'battery_level']\n",
      "\n",
      "\n",
      "ref:  jzp://edv#0501.0000\n",
      "cuid:  fa116070-d542-4afc-8e7d-4a076322e491\n",
      "t:  1677710679769\n",
      "tz:  2023-03-02T22:44:39.769Z\n",
      "cat:  0620\n",
      "sn:  227\n",
      "type:  luxmeter\n",
      "uuid:  59e5c4be-7cae-4ea9-bb05-ad861a18a4ff\n",
      "measure 1 :  [1677710679769, None, '℃', '2023-03-01T22:44:39.769Z', 25.9384, 'device_temperature']\n",
      "measure 2 :  [1677710679769, None, 'V', '2023-03-01T22:44:39.769Z', 3.5071, 'battery_level']\n",
      "measure 3 :  [1677710679769, None, '', '2023-03-01T22:44:39.769Z', 0.0, 'orientation']\n",
      "measure 4 :  [1677710679769, None, '', '2023-03-01T22:44:39.769Z', 0, 'back_front']\n",
      "measure 5 :  [1677710679769, None, '', '2023-03-01T22:44:39.769Z', 0, 'regular']\n",
      "measure 6 :  [1677710679769, None, '', '2023-03-01T22:44:39.769Z', 0, 'movement_level']\n",
      "measure 7 :  [1677710679769, None, '', '2023-03-01T22:44:39.769Z', 0, 'posture_tilt']\n",
      "measure 8 :  [1677710679769, 'jzp://coo#ffffffff00000500.0000', 'dB', '2023-03-01T22:44:39.769Z', -62, 'rssi']\n",
      "measure 9 :  [1677710679769, None, '', '2023-03-01T22:44:39.769Z', 0, 'position']\n",
      "measure 10 :  [1677710679769, None, '', '2023-03-01T22:44:39.769Z', 11, 'adc_channel_00']\n",
      "measure 11 :  [1677710679769, None, 'lx', '2023-03-01T22:44:39.769Z', 462, 'illuminance']\n",
      "measure 12 :  [1677710679769, 'jzp://coo#ffffffff00000500.0000', '', '2023-03-01T22:44:39.769Z', 1, 'coordinator']\n",
      "measure 13 :  [1677710679769, None, 'Pa', '2023-03-01T22:44:39.769Z', 27591, 'pressure']\n",
      "measure 14 :  [1677710679769, None, '', '2023-03-01T22:44:39.769Z', 0, 'adc_channel_01']\n",
      "\n",
      "\n",
      "ref:  jzp://edv#0504.0000\n",
      "cuid:  8c4d675a-1d72-4bd6-82bf-7b006623bc0a\n",
      "t:  1677710682379\n",
      "tz:  2023-03-02T22:44:42.379Z\n",
      "cat:  0600\n",
      "sn:  177\n",
      "type:  environmental\n",
      "uuid:  cc5ec326-c293-458c-a76f-aa6836d64172\n",
      "measure 1 :  [1677710682379, None, '℃', '2023-03-01T22:44:42.379Z', 31.7634, 'device_temperature']\n",
      "measure 2 :  [1677710682379, None, 'V', '2023-03-01T22:44:42.379Z', 3.4532, 'battery_level']\n",
      "measure 3 :  [1677710682379, None, '℃', '2023-03-01T22:44:42.379Z', 15.6835, 'dew_point']\n",
      "measure 4 :  [1677710682379, None, '%', '2023-03-01T22:44:42.379Z', 76, 'relative_humidity']\n",
      "measure 5 :  [1677710682379, None, '', '2023-03-01T22:44:42.379Z', 0, 'orientation']\n",
      "measure 6 :  [1677710682379, None, '℃', '2023-03-01T22:44:42.379Z', 35, 'environmental_temperature']\n",
      "measure 7 :  [1677710682379, None, '', '2023-03-01T22:44:42.379Z', 0, 'back_front']\n",
      "measure 8 :  [1677710682379, None, '', '2023-03-01T22:44:42.379Z', 0, 'regular']\n",
      "measure 9 :  [1677710682379, None, '', '2023-03-01T22:44:42.379Z', 0, 'movement_level']\n",
      "measure 10 :  [1677710682379, None, '', '2023-03-01T22:44:42.379Z', 0, 'posture_tilt']\n",
      "measure 11 :  [1677710682379, 'jzp://coo#ffffffff00000500.0000', 'dB', '2023-03-01T22:44:42.379Z', -6, 'rssi']\n",
      "measure 12 :  [1677710682379, None, '', '2023-03-01T22:44:42.379Z', 0, 'position']\n",
      "measure 13 :  [1677710682379, None, 'kg/m³', '2023-03-01T22:44:42.379Z', 0, 'absolute_humidity']\n",
      "measure 14 :  [1677710682379, 'jzp://coo#ffffffff00000500.0000', '', '2023-03-01T22:44:42.379Z', 1, 'coordinator']\n",
      "measure 15 :  [1677710682379, None, 'Pa', '2023-03-01T22:44:42.379Z', 39820, 'pressure']\n",
      "\n",
      "\n",
      "ref:  jzp://edv#0503.0000\n",
      "cuid:  80b34250-3be5-4b9a-9533-0a8a16479964\n",
      "t:  1677710694224\n",
      "tz:  2023-03-02T22:44:54.224Z\n",
      "cat:  0610\n",
      "sn:  191\n",
      "type:  presence\n",
      "uuid:  b3a85228-7dc5-4da4-ac26-5134a2c46479\n",
      "measure 1 :  [1677710694224, None, 'C', '2023-03-01T22:44:54.224Z', 28.4003, 'device_temperature']\n",
      "measure 2 :  [1677710694224, None, 'V', '2023-03-01T22:44:54.224Z', 3.3295, 'battery_level']\n",
      "measure 3 :  [1677710694224, 'jzp://coo#ffffffff00000500.0000', 'dB', '2023-03-01T22:44:54.224Z', -114.9669, 'rssi']\n",
      "measure 4 :  [1677710694224, None, '', '2023-03-01T22:44:54.224Z', 1, 'presence']\n",
      "measure 5 :  [1677710694224, 'jzp://coo#ffffffff00000500.0000', '', '2023-03-01T22:44:54.224Z', 1, 'coordinator']\n",
      "\n",
      "\n",
      "ref:  jzp://edv#0501.0000\n",
      "cuid:  e01ab2fd-b98a-4ae4-a6cb-2e15ea3a57f9\n",
      "t:  1677710700253\n",
      "tz:  2023-03-02T22:45:00.253Z\n",
      "cat:  0620\n",
      "sn:  129\n",
      "type:  luxmeter\n",
      "uuid:  8daf18af-67f3-4141-a084-1e576ccb0518\n",
      "measure 1 :  [1677710700253, None, '℃', '2023-03-01T22:45:00.253Z', 16.6189, 'device_temperature']\n",
      "measure 2 :  [1677710700253, None, 'V', '2023-03-01T22:45:00.253Z', 3.4777, 'battery_level']\n",
      "measure 3 :  [1677710700253, None, '', '2023-03-01T22:45:00.253Z', 0.0, 'orientation']\n",
      "measure 4 :  [1677710700253, None, '', '2023-03-01T22:45:00.253Z', 0, 'back_front']\n",
      "measure 5 :  [1677710700253, None, '', '2023-03-01T22:45:00.253Z', 0, 'regular']\n",
      "measure 6 :  [1677710700253, None, '', '2023-03-01T22:45:00.253Z', 0, 'movement_level']\n",
      "measure 7 :  [1677710700253, None, '', '2023-03-01T22:45:00.253Z', 0, 'posture_tilt']\n",
      "measure 8 :  [1677710700253, 'jzp://coo#ffffffff00000500.0000', 'dB', '2023-03-01T22:45:00.253Z', -100, 'rssi']\n",
      "measure 9 :  [1677710700253, None, '', '2023-03-01T22:45:00.253Z', 0, 'position']\n",
      "measure 10 :  [1677710700253, None, '', '2023-03-01T22:45:00.253Z', 193, 'adc_channel_00']\n",
      "measure 11 :  [1677710700253, None, 'lx', '2023-03-01T22:45:00.253Z', 251, 'illuminance']\n",
      "measure 12 :  [1677710700253, 'jzp://coo#ffffffff00000500.0000', '', '2023-03-01T22:45:00.253Z', 1, 'coordinator']\n",
      "measure 13 :  [1677710700253, None, 'Pa', '2023-03-01T22:45:00.253Z', 22635, 'pressure']\n",
      "measure 14 :  [1677710700253, None, '', '2023-03-01T22:45:00.253Z', 0, 'adc_channel_01']\n",
      "\n",
      "\n",
      "ref:  jzp://edv#0503.0000\n",
      "cuid:  5dfd7083-7c80-4600-bf16-a711bf6446d7\n",
      "t:  1677710715014\n",
      "tz:  2023-03-02T22:45:15.014Z\n",
      "cat:  0610\n",
      "sn:  29\n",
      "type:  presence\n",
      "uuid:  8203e949-3a59-4486-8a03-db7780aae253\n",
      "measure 1 :  [1677710715014, None, 'C', '2023-03-01T22:45:15.014Z', 28.1953, 'device_temperature']\n",
      "measure 2 :  [1677710715014, None, 'V', '2023-03-01T22:45:15.014Z', 3.304, 'battery_level']\n",
      "measure 3 :  [1677710715014, 'jzp://coo#ffffffff00000500.0000', 'dB', '2023-03-01T22:45:15.014Z', -85.9432, 'rssi']\n",
      "measure 4 :  [1677710715014, None, '', '2023-03-01T22:45:15.014Z', 1, 'presence']\n",
      "measure 5 :  [1677710715014, 'jzp://coo#ffffffff00000500.0000', '', '2023-03-01T22:45:15.014Z', 1, 'coordinator']\n",
      "\n",
      "\n",
      "ref:  jzp://edv#0502.0000\n",
      "cuid:  ea5c3bff-ec52-4b5e-b723-8c54b48ad182\n",
      "t:  1677710717288\n",
      "tz:  2023-03-02T22:45:17.288Z\n",
      "cat:  0631\n",
      "sn:  89\n",
      "type:  gasmeter\n",
      "uuid:  9baf885a-18b3-479e-8b52-892f3bf4e15e\n",
      "measure 1 :  [1677710717288, 'jzp://coo#ffffffff000004ff.0000', '', '2023-03-01T22:45:17.288Z', 1.0, 'coordinator']\n",
      "measure 2 :  [1677710717288, None, '', '2023-03-01T22:45:17.288Z', 322.3662, 'ppm']\n",
      "measure 3 :  [1677710717288, 'jzp://coo#ffffffff000004ff.0000', 'dB', '2023-03-01T22:45:17.288Z', -22.9782, 'rssi']\n",
      "measure 4 :  [1677710717288, None, '℃', '2023-03-01T22:45:17.288Z', 32, 'device_temperature']\n",
      "measure 5 :  [1677710717288, None, 'V', '2023-03-01T22:45:17.288Z', 3, 'battery_level']\n",
      "\n",
      "\n",
      "ref:  jzp://edv#0504.0000\n",
      "cuid:  0b6cf1f5-2f96-4922-9800-740d6d663e76\n",
      "t:  1677710723447\n",
      "tz:  2023-03-02T22:45:23.447Z\n",
      "cat:  0600\n",
      "sn:  82\n",
      "type:  environmental\n",
      "uuid:  1533aa57-224c-4929-a8a4-3e9725e27b36\n",
      "measure 1 :  [1677710723447, None, '℃', '2023-03-01T22:45:23.447Z', 9.692, 'device_temperature']\n",
      "measure 2 :  [1677710723447, None, 'V', '2023-03-01T22:45:23.447Z', 3.5143, 'battery_level']\n",
      "measure 3 :  [1677710723447, None, '℃', '2023-03-01T22:45:23.447Z', 21.4967, 'dew_point']\n",
      "measure 4 :  [1677710723447, None, '%', '2023-03-01T22:45:23.447Z', 69, 'relative_humidity']\n",
      "measure 5 :  [1677710723447, None, '', '2023-03-01T22:45:23.447Z', 0, 'orientation']\n",
      "measure 6 :  [1677710723447, None, '℃', '2023-03-01T22:45:23.447Z', 16, 'environmental_temperature']\n",
      "measure 7 :  [1677710723447, None, '', '2023-03-01T22:45:23.447Z', 0, 'back_front']\n",
      "measure 8 :  [1677710723447, None, '', '2023-03-01T22:45:23.447Z', 0, 'regular']\n",
      "measure 9 :  [1677710723447, None, '', '2023-03-01T22:45:23.447Z', 0, 'movement_level']\n",
      "measure 10 :  [1677710723447, None, '', '2023-03-01T22:45:23.447Z', 0, 'posture_tilt']\n",
      "measure 11 :  [1677710723447, 'jzp://coo#ffffffff00000500.0000', 'dB', '2023-03-01T22:45:23.447Z', -25, 'rssi']\n",
      "measure 12 :  [1677710723447, None, '', '2023-03-01T22:45:23.447Z', 0, 'position']\n",
      "measure 13 :  [1677710723447, None, 'kg/m³', '2023-03-01T22:45:23.447Z', 0, 'absolute_humidity']\n",
      "measure 14 :  [1677710723447, 'jzp://coo#ffffffff00000500.0000', '', '2023-03-01T22:45:23.447Z', 1, 'coordinator']\n",
      "measure 15 :  [1677710723447, None, 'Pa', '2023-03-01T22:45:23.447Z', 8756, 'pressure']\n",
      "\n",
      "\n",
      "ref:  jzp://edv#0503.0000\n",
      "cuid:  dfe70710-bc04-43da-9ee1-a0613bf9660e\n",
      "t:  1677710739249\n",
      "tz:  2023-03-02T22:45:39.249Z\n",
      "cat:  0610\n",
      "sn:  44\n",
      "type:  presence\n",
      "uuid:  b10860f0-4489-4cef-807f-c4bf48669d65\n",
      "measure 1 :  [1677710739249, None, 'C', '2023-03-01T22:45:39.249Z', 5.8773, 'device_temperature']\n",
      "measure 2 :  [1677710739249, None, 'V', '2023-03-01T22:45:39.249Z', 3.327, 'battery_level']\n",
      "measure 3 :  [1677710739249, 'jzp://coo#ffffffff00000500.0000', 'dB', '2023-03-01T22:45:39.249Z', -64.9597, 'rssi']\n",
      "measure 4 :  [1677710739249, None, '', '2023-03-01T22:45:39.249Z', 0, 'presence']\n",
      "measure 5 :  [1677710739249, 'jzp://coo#ffffffff00000500.0000', '', '2023-03-01T22:45:39.249Z', 1, 'coordinator']\n",
      "\n",
      "\n",
      "ref:  jzp://edv#0501.0000\n",
      "cuid:  2fa2b640-9266-418b-a834-a1f4431e482a\n",
      "t:  1677710830075\n",
      "tz:  2023-03-02T22:47:10.075Z\n",
      "cat:  0620\n",
      "sn:  47\n",
      "type:  luxmeter\n",
      "uuid:  44e2e4a2-b779-4ed4-bd52-3488368e9c76\n",
      "measure 1 :  [1677710830075, None, '℃', '2023-03-01T22:47:10.075Z', 28.9951, 'device_temperature']\n",
      "measure 2 :  [1677710830075, None, 'V', '2023-03-01T22:47:10.075Z', 3.3271, 'battery_level']\n",
      "measure 3 :  [1677710830075, None, '', '2023-03-01T22:47:10.075Z', 0.0, 'orientation']\n",
      "measure 4 :  [1677710830075, None, '', '2023-03-01T22:47:10.075Z', 0, 'back_front']\n",
      "measure 5 :  [1677710830075, None, '', '2023-03-01T22:47:10.075Z', 0, 'regular']\n",
      "measure 6 :  [1677710830075, None, '', '2023-03-01T22:47:10.075Z', 0, 'movement_level']\n",
      "measure 7 :  [1677710830075, None, '', '2023-03-01T22:47:10.075Z', 0, 'posture_tilt']\n",
      "measure 8 :  [1677710830075, 'jzp://coo#ffffffff00000500.0000', 'dB', '2023-03-01T22:47:10.075Z', -55, 'rssi']\n",
      "measure 9 :  [1677710830075, None, '', '2023-03-01T22:47:10.075Z', 0, 'position']\n",
      "measure 10 :  [1677710830075, None, '', '2023-03-01T22:47:10.075Z', 287, 'adc_channel_00']\n",
      "measure 11 :  [1677710830075, None, 'lx', '2023-03-01T22:47:10.075Z', 578, 'illuminance']\n",
      "measure 12 :  [1677710830075, 'jzp://coo#ffffffff00000500.0000', '', '2023-03-01T22:47:10.075Z', 1, 'coordinator']\n",
      "measure 13 :  [1677710830075, None, 'Pa', '2023-03-01T22:47:10.075Z', 10415, 'pressure']\n",
      "measure 14 :  [1677710830075, None, '', '2023-03-01T22:47:10.075Z', 0, 'adc_channel_01']\n",
      "\n",
      "\n",
      "ref:  jzp://edv#0504.0000\n",
      "cuid:  2f26255e-2724-4f91-bae3-1abdd23a1fe5\n",
      "t:  1677710832355\n",
      "tz:  2023-03-02T22:47:12.355Z\n",
      "cat:  0600\n",
      "sn:  147\n",
      "type:  environmental\n",
      "uuid:  fb4abc72-fc66-4fe4-bd09-c57b65ba8be7\n",
      "measure 1 :  [1677710832355, None, '℃', '2023-03-01T22:47:12.355Z', 4.5378, 'device_temperature']\n",
      "measure 2 :  [1677710832355, None, 'V', '2023-03-01T22:47:12.355Z', 3.5207, 'battery_level']\n",
      "measure 3 :  [1677710832355, None, '℃', '2023-03-01T22:47:12.355Z', 23.7041, 'dew_point']\n",
      "measure 4 :  [1677710832355, None, '%', '2023-03-01T22:47:12.355Z', 60, 'relative_humidity']\n",
      "measure 5 :  [1677710832355, None, '', '2023-03-01T22:47:12.355Z', 0, 'orientation']\n",
      "measure 6 :  [1677710832355, None, '℃', '2023-03-01T22:47:12.355Z', 12, 'environmental_temperature']\n",
      "measure 7 :  [1677710832355, None, '', '2023-03-01T22:47:12.355Z', 0, 'back_front']\n",
      "measure 8 :  [1677710832355, None, '', '2023-03-01T22:47:12.355Z', 0, 'regular']\n",
      "measure 9 :  [1677710832355, None, '', '2023-03-01T22:47:12.355Z', 0, 'movement_level']\n",
      "measure 10 :  [1677710832355, None, '', '2023-03-01T22:47:12.355Z', 0, 'posture_tilt']\n",
      "measure 11 :  [1677710832355, 'jzp://coo#ffffffff00000500.0000', 'dB', '2023-03-01T22:47:12.355Z', -57, 'rssi']\n",
      "measure 12 :  [1677710832355, None, '', '2023-03-01T22:47:12.355Z', 0, 'position']\n",
      "measure 13 :  [1677710832355, None, 'kg/m³', '2023-03-01T22:47:12.355Z', 0, 'absolute_humidity']\n",
      "measure 14 :  [1677710832355, 'jzp://coo#ffffffff00000500.0000', '', '2023-03-01T22:47:12.355Z', 1, 'coordinator']\n",
      "measure 15 :  [1677710832355, None, 'Pa', '2023-03-01T22:47:12.355Z', 60457, 'pressure']\n",
      "\n",
      "\n",
      "ref:  jzp://edv#0503.0000\n",
      "cuid:  223ef2a3-4f1b-4491-bd56-c0279a98d33c\n",
      "t:  1677710847488\n",
      "tz:  2023-03-02T22:47:27.488Z\n",
      "cat:  0610\n",
      "sn:  229\n",
      "type:  presence\n",
      "uuid:  67264f91-e3b4-450c-85af-7e3c35f75476\n",
      "measure 1 :  [1677710847488, None, 'C', '2023-03-01T22:47:27.488Z', 37.4573, 'device_temperature']\n",
      "measure 2 :  [1677710847488, None, 'V', '2023-03-01T22:47:27.488Z', 3.3686, 'battery_level']\n",
      "measure 3 :  [1677710847488, 'jzp://coo#ffffffff00000500.0000', 'dB', '2023-03-01T22:47:27.488Z', -78.0142, 'rssi']\n",
      "measure 4 :  [1677710847488, None, '', '2023-03-01T22:47:27.488Z', 0, 'presence']\n",
      "measure 5 :  [1677710847488, 'jzp://coo#ffffffff00000500.0000', '', '2023-03-01T22:47:27.488Z', 1, 'coordinator']\n",
      "\n",
      "\n",
      "ref:  jzp://edv#0502.0000\n",
      "cuid:  b156eec7-572e-4970-ac19-00050e0bf388\n",
      "t:  1677710849614\n",
      "tz:  2023-03-02T22:47:29.614Z\n",
      "cat:  0631\n",
      "sn:  222\n",
      "type:  gasmeter\n",
      "uuid:  78968eaa-d635-4f64-b168-2a4eecfe1c88\n",
      "measure 1 :  [1677710849614, 'jzp://coo#ffffffff000004ff.0000', '', '2023-03-01T22:47:29.614Z', 1.0, 'coordinator']\n",
      "measure 2 :  [1677710849614, None, '', '2023-03-01T22:47:29.614Z', 385.6953, 'ppm']\n",
      "measure 3 :  [1677710849614, 'jzp://coo#ffffffff000004ff.0000', 'dB', '2023-03-01T22:47:29.614Z', -111.4596, 'rssi']\n",
      "measure 4 :  [1677710849614, None, '℃', '2023-03-01T22:47:29.614Z', 35, 'device_temperature']\n",
      "measure 5 :  [1677710849614, None, 'V', '2023-03-01T22:47:29.614Z', 3, 'battery_level']\n",
      "\n",
      "\n",
      "ref:  jzp://edv#0501.0000\n",
      "cuid:  f2aa80ea-a615-46d1-93fd-b24e0bc6b23d\n",
      "t:  1677710852752\n",
      "tz:  2023-03-02T22:47:32.752Z\n",
      "cat:  0620\n",
      "sn:  75\n",
      "type:  luxmeter\n",
      "uuid:  63208e8f-e2df-4078-9316-2107d6da3b58\n",
      "measure 1 :  [1677710852752, None, '℃', '2023-03-01T22:47:32.752Z', 31.902, 'device_temperature']\n",
      "measure 2 :  [1677710852752, None, 'V', '2023-03-01T22:47:32.752Z', 3.3468, 'battery_level']\n",
      "measure 3 :  [1677710852752, None, '', '2023-03-01T22:47:32.752Z', 0.0, 'orientation']\n",
      "measure 4 :  [1677710852752, None, '', '2023-03-01T22:47:32.752Z', 0, 'back_front']\n",
      "measure 5 :  [1677710852752, None, '', '2023-03-01T22:47:32.752Z', 0, 'regular']\n",
      "measure 6 :  [1677710852752, None, '', '2023-03-01T22:47:32.752Z', 0, 'movement_level']\n",
      "measure 7 :  [1677710852752, None, '', '2023-03-01T22:47:32.752Z', 0, 'posture_tilt']\n",
      "measure 8 :  [1677710852752, 'jzp://coo#ffffffff00000500.0000', 'dB', '2023-03-01T22:47:32.752Z', -85, 'rssi']\n",
      "measure 9 :  [1677710852752, None, '', '2023-03-01T22:47:32.752Z', 0, 'position']\n",
      "measure 10 :  [1677710852752, None, '', '2023-03-01T22:47:32.752Z', 559, 'adc_channel_00']\n",
      "measure 11 :  [1677710852752, None, 'lx', '2023-03-01T22:47:32.752Z', 151, 'illuminance']\n",
      "measure 12 :  [1677710852752, 'jzp://coo#ffffffff00000500.0000', '', '2023-03-01T22:47:32.752Z', 1, 'coordinator']\n",
      "measure 13 :  [1677710852752, None, 'Pa', '2023-03-01T22:47:32.752Z', 30266, 'pressure']\n",
      "measure 14 :  [1677710852752, None, '', '2023-03-01T22:47:32.752Z', 0, 'adc_channel_01']\n",
      "\n",
      "\n",
      "ref:  jzp://edv#0504.0000\n",
      "cuid:  4e1496af-42a7-4d3d-808b-a85421aef34a\n",
      "t:  1677710855886\n",
      "tz:  2023-03-02T22:47:35.886Z\n",
      "cat:  0600\n",
      "sn:  109\n",
      "type:  environmental\n",
      "uuid:  7c6a7fab-0975-494d-98e6-c52f757b0c9c\n",
      "measure 1 :  [1677710855886, None, '℃', '2023-03-01T22:47:35.886Z', 16.0224, 'device_temperature']\n",
      "measure 2 :  [1677710855886, None, 'V', '2023-03-01T22:47:35.886Z', 3.2912, 'battery_level']\n",
      "measure 3 :  [1677710855886, None, '℃', '2023-03-01T22:47:35.886Z', 10.5272, 'dew_point']\n",
      "measure 4 :  [1677710855886, None, '%', '2023-03-01T22:47:35.886Z', 29, 'relative_humidity']\n",
      "measure 5 :  [1677710855886, None, '', '2023-03-01T22:47:35.886Z', 0, 'orientation']\n",
      "measure 6 :  [1677710855886, None, '℃', '2023-03-01T22:47:35.886Z', 20, 'environmental_temperature']\n",
      "measure 7 :  [1677710855886, None, '', '2023-03-01T22:47:35.886Z', 0, 'back_front']\n",
      "measure 8 :  [1677710855886, None, '', '2023-03-01T22:47:35.886Z', 0, 'regular']\n",
      "measure 9 :  [1677710855886, None, '', '2023-03-01T22:47:35.886Z', 0, 'movement_level']\n",
      "measure 10 :  [1677710855886, None, '', '2023-03-01T22:47:35.886Z', 0, 'posture_tilt']\n",
      "measure 11 :  [1677710855886, 'jzp://coo#ffffffff00000500.0000', 'dB', '2023-03-01T22:47:35.886Z', -108, 'rssi']\n",
      "measure 12 :  [1677710855886, None, '', '2023-03-01T22:47:35.886Z', 0, 'position']\n",
      "measure 13 :  [1677710855886, None, 'kg/m³', '2023-03-01T22:47:35.886Z', 0, 'absolute_humidity']\n",
      "measure 14 :  [1677710855886, 'jzp://coo#ffffffff00000500.0000', '', '2023-03-01T22:47:35.886Z', 1, 'coordinator']\n",
      "measure 15 :  [1677710855886, None, 'Pa', '2023-03-01T22:47:35.886Z', 45815, 'pressure']\n",
      "\n",
      "\n",
      "ref:  jzp://edv#0503.0000\n",
      "cuid:  0ed5f1b3-9580-44ec-908b-3d855740f7be\n",
      "t:  1677710867930\n",
      "tz:  2023-03-02T22:47:47.930Z\n",
      "cat:  0610\n",
      "sn:  40\n",
      "type:  presence\n",
      "uuid:  dbcc45e3-990b-4ecb-9f4d-7e27344800a6\n",
      "measure 1 :  [1677710867930, None, 'C', '2023-03-01T22:47:47.930Z', 35.953, 'device_temperature']\n",
      "measure 2 :  [1677710867930, None, 'V', '2023-03-01T22:47:47.930Z', 3.3319, 'battery_level']\n",
      "measure 3 :  [1677710867930, 'jzp://coo#ffffffff00000500.0000', 'dB', '2023-03-01T22:47:47.930Z', -31.0736, 'rssi']\n",
      "measure 4 :  [1677710867930, None, '', '2023-03-01T22:47:47.930Z', 0, 'presence']\n",
      "measure 5 :  [1677710867930, 'jzp://coo#ffffffff00000500.0000', '', '2023-03-01T22:47:47.930Z', 1, 'coordinator']\n",
      "\n",
      "\n",
      "ref:  jzp://edv#0502.0000\n",
      "cuid:  cec6abe0-8e59-4d02-a971-f435ca9c5a30\n",
      "t:  1677710871657\n",
      "tz:  2023-03-02T22:47:51.657Z\n",
      "cat:  0631\n",
      "sn:  214\n",
      "type:  gasmeter\n",
      "uuid:  9f8fa17b-16ba-46e2-ac67-050e000a2a73\n",
      "measure 1 :  [1677710871657, 'jzp://coo#ffffffff000004ff.0000', '', '2023-03-01T22:47:51.657Z', 1.0, 'coordinator']\n",
      "measure 2 :  [1677710871657, None, '', '2023-03-01T22:47:51.657Z', 320.3287, 'ppm']\n",
      "measure 3 :  [1677710871657, 'jzp://coo#ffffffff000004ff.0000', 'dB', '2023-03-01T22:47:51.657Z', -68.6594, 'rssi']\n",
      "measure 4 :  [1677710871657, None, '℃', '2023-03-01T22:47:51.657Z', 15, 'device_temperature']\n",
      "measure 5 :  [1677710871657, None, 'V', '2023-03-01T22:47:51.657Z', 3, 'battery_level']\n",
      "\n",
      "\n",
      "ref:  jzp://edv#0501.0000\n",
      "cuid:  40ba92ac-510a-4694-b821-c9e5da9b8dc2\n",
      "t:  1677710875489\n",
      "tz:  2023-03-02T22:47:55.489Z\n",
      "cat:  0620\n",
      "sn:  30\n",
      "type:  luxmeter\n",
      "uuid:  fbc7357f-2b74-45a4-b9d2-4d91445acf37\n",
      "measure 1 :  [1677710875489, None, '℃', '2023-03-01T22:47:55.489Z', 20.5112, 'device_temperature']\n",
      "measure 2 :  [1677710875489, None, 'V', '2023-03-01T22:47:55.489Z', 3.2729, 'battery_level']\n",
      "measure 3 :  [1677710875489, None, '', '2023-03-01T22:47:55.489Z', 0.0, 'orientation']\n",
      "measure 4 :  [1677710875489, None, '', '2023-03-01T22:47:55.489Z', 0, 'back_front']\n",
      "measure 5 :  [1677710875489, None, '', '2023-03-01T22:47:55.489Z', 0, 'regular']\n",
      "measure 6 :  [1677710875489, None, '', '2023-03-01T22:47:55.489Z', 0, 'movement_level']\n",
      "measure 7 :  [1677710875489, None, '', '2023-03-01T22:47:55.489Z', 0, 'posture_tilt']\n",
      "measure 8 :  [1677710875489, 'jzp://coo#ffffffff00000500.0000', 'dB', '2023-03-01T22:47:55.489Z', -86, 'rssi']\n",
      "measure 9 :  [1677710875489, None, '', '2023-03-01T22:47:55.489Z', 0, 'position']\n",
      "measure 10 :  [1677710875489, None, '', '2023-03-01T22:47:55.489Z', 317, 'adc_channel_00']\n",
      "measure 11 :  [1677710875489, None, 'lx', '2023-03-01T22:47:55.489Z', 558, 'illuminance']\n",
      "measure 12 :  [1677710875489, 'jzp://coo#ffffffff00000500.0000', '', '2023-03-01T22:47:55.489Z', 1, 'coordinator']\n",
      "measure 13 :  [1677710875489, None, 'Pa', '2023-03-01T22:47:55.489Z', 32323, 'pressure']\n",
      "measure 14 :  [1677710875489, None, '', '2023-03-01T22:47:55.489Z', 0, 'adc_channel_01']\n",
      "\n",
      "\n",
      "ref:  jzp://edv#0504.0000\n",
      "cuid:  d98c99dc-b3b6-495e-bc16-fbc92031785a\n",
      "t:  1677710878203\n",
      "tz:  2023-03-02T22:47:58.203Z\n",
      "cat:  0600\n",
      "sn:  120\n",
      "type:  environmental\n",
      "uuid:  27961e28-e11e-459c-a528-7f4319d12fe6\n",
      "measure 1 :  [1677710878203, None, '℃', '2023-03-01T22:47:58.203Z', 14.7181, 'device_temperature']\n",
      "measure 2 :  [1677710878204, None, 'V', '2023-03-01T22:47:58.204Z', 3.5442, 'battery_level']\n",
      "measure 3 :  [1677710878204, None, '℃', '2023-03-01T22:47:58.204Z', 25.9294, 'dew_point']\n",
      "measure 4 :  [1677710878204, None, '%', '2023-03-01T22:47:58.204Z', 2, 'relative_humidity']\n",
      "measure 5 :  [1677710878204, None, '', '2023-03-01T22:47:58.204Z', 0, 'orientation']\n",
      "measure 6 :  [1677710878204, None, '℃', '2023-03-01T22:47:58.204Z', 1, 'environmental_temperature']\n",
      "measure 7 :  [1677710878204, None, '', '2023-03-01T22:47:58.204Z', 0, 'back_front']\n",
      "measure 8 :  [1677710878204, None, '', '2023-03-01T22:47:58.204Z', 0, 'regular']\n",
      "measure 9 :  [1677710878204, None, '', '2023-03-01T22:47:58.204Z', 0, 'movement_level']\n",
      "measure 10 :  [1677710878204, None, '', '2023-03-01T22:47:58.204Z', 0, 'posture_tilt']\n",
      "measure 11 :  [1677710878204, 'jzp://coo#ffffffff00000500.0000', 'dB', '2023-03-01T22:47:58.204Z', -80, 'rssi']\n",
      "measure 12 :  [1677710878204, None, '', '2023-03-01T22:47:58.204Z', 0, 'position']\n",
      "measure 13 :  [1677710878204, None, 'kg/m³', '2023-03-01T22:47:58.204Z', 0, 'absolute_humidity']\n",
      "measure 14 :  [1677710878204, 'jzp://coo#ffffffff00000500.0000', '', '2023-03-01T22:47:58.204Z', 1, 'coordinator']\n",
      "measure 15 :  [1677710878204, None, 'Pa', '2023-03-01T22:47:58.204Z', 76849, 'pressure']\n",
      "\n",
      "\n",
      "ref:  jzp://edv#0503.0000\n",
      "cuid:  9a143749-384b-4020-8408-49ca51ea8f60\n",
      "t:  1677710889309\n",
      "tz:  2023-03-02T22:48:09.309Z\n",
      "cat:  0610\n",
      "sn:  127\n",
      "type:  presence\n",
      "uuid:  838274f0-e34a-4865-9cdf-bd9afc34cfab\n",
      "measure 1 :  [1677710889309, None, 'C', '2023-03-01T22:48:09.309Z', 6.2059, 'device_temperature']\n",
      "measure 2 :  [1677710889309, None, 'V', '2023-03-01T22:48:09.309Z', 3.5174, 'battery_level']\n",
      "measure 3 :  [1677710889309, 'jzp://coo#ffffffff00000500.0000', 'dB', '2023-03-01T22:48:09.309Z', -11.0048, 'rssi']\n",
      "measure 4 :  [1677710889309, None, '', '2023-03-01T22:48:09.309Z', 1, 'presence']\n",
      "measure 5 :  [1677710889309, 'jzp://coo#ffffffff00000500.0000', '', '2023-03-01T22:48:09.309Z', 1, 'coordinator']\n",
      "\n",
      "\n",
      "ref:  jzp://edv#0502.0000\n",
      "cuid:  3b33950a-2559-4291-ae11-9dce5cd73603\n",
      "t:  1677710893142\n",
      "tz:  2023-03-02T22:48:13.142Z\n",
      "cat:  0631\n",
      "sn:  31\n",
      "type:  gasmeter\n",
      "uuid:  4ba4b41a-deab-4579-9023-07cd135ec007\n",
      "measure 1 :  [1677710893142, 'jzp://coo#ffffffff000004ff.0000', '', '2023-03-01T22:48:13.142Z', 1.0, 'coordinator']\n",
      "measure 2 :  [1677710893142, None, '', '2023-03-01T22:48:13.142Z', 336.7344, 'ppm']\n",
      "measure 3 :  [1677710893142, 'jzp://coo#ffffffff000004ff.0000', 'dB', '2023-03-01T22:48:13.142Z', -31.5676, 'rssi']\n",
      "measure 4 :  [1677710893142, None, '℃', '2023-03-01T22:48:13.142Z', 16, 'device_temperature']\n",
      "measure 5 :  [1677710893142, None, 'V', '2023-03-01T22:48:13.142Z', 3, 'battery_level']\n",
      "\n",
      "\n",
      "ref:  jzp://edv#0501.0000\n",
      "cuid:  4428403f-4de3-468d-9936-f8cac5dc2b0e\n",
      "t:  1677710896205\n",
      "tz:  2023-03-02T22:48:16.205Z\n",
      "cat:  0620\n",
      "sn:  251\n",
      "type:  luxmeter\n",
      "uuid:  58ae12be-face-4625-8a66-5181adae3dfa\n",
      "measure 1 :  [1677710896205, None, '℃', '2023-03-01T22:48:16.205Z', 17.0248, 'device_temperature']\n",
      "measure 2 :  [1677710896205, None, 'V', '2023-03-01T22:48:16.205Z', 3.3302, 'battery_level']\n",
      "measure 3 :  [1677710896205, None, '', '2023-03-01T22:48:16.205Z', 0.0, 'orientation']\n",
      "measure 4 :  [1677710896205, None, '', '2023-03-01T22:48:16.205Z', 0, 'back_front']\n",
      "measure 5 :  [1677710896205, None, '', '2023-03-01T22:48:16.205Z', 0, 'regular']\n",
      "measure 6 :  [1677710896205, None, '', '2023-03-01T22:48:16.205Z', 0, 'movement_level']\n",
      "measure 7 :  [1677710896205, None, '', '2023-03-01T22:48:16.205Z', 0, 'posture_tilt']\n",
      "measure 8 :  [1677710896205, 'jzp://coo#ffffffff00000500.0000', 'dB', '2023-03-01T22:48:16.205Z', -36, 'rssi']\n",
      "measure 9 :  [1677710896205, None, '', '2023-03-01T22:48:16.205Z', 0, 'position']\n",
      "measure 10 :  [1677710896205, None, '', '2023-03-01T22:48:16.205Z', 150, 'adc_channel_00']\n",
      "measure 11 :  [1677710896205, None, 'lx', '2023-03-01T22:48:16.205Z', 15, 'illuminance']\n",
      "measure 12 :  [1677710896205, 'jzp://coo#ffffffff00000500.0000', '', '2023-03-01T22:48:16.205Z', 1, 'coordinator']\n",
      "measure 13 :  [1677710896205, None, 'Pa', '2023-03-01T22:48:16.205Z', 51616, 'pressure']\n",
      "measure 14 :  [1677710896205, None, '', '2023-03-01T22:48:16.205Z', 0, 'adc_channel_01']\n",
      "\n",
      "\n",
      "ref:  jzp://edv#0504.0000\n",
      "cuid:  3f8efff8-2cc8-4b75-a5e6-f40798f6bc53\n",
      "t:  1677710899405\n",
      "tz:  2023-03-02T22:48:19.405Z\n",
      "cat:  0600\n",
      "sn:  178\n",
      "type:  environmental\n",
      "uuid:  e1b3884c-0525-461b-b4e5-8778a7862f6f\n",
      "measure 1 :  [1677710899405, None, '℃', '2023-03-01T22:48:19.405Z', 13.2737, 'device_temperature']\n",
      "measure 2 :  [1677710899405, None, 'V', '2023-03-01T22:48:19.405Z', 3.2645, 'battery_level']\n",
      "measure 3 :  [1677710899405, None, '℃', '2023-03-01T22:48:19.405Z', 13.9578, 'dew_point']\n",
      "measure 4 :  [1677710899405, None, '%', '2023-03-01T22:48:19.405Z', 93, 'relative_humidity']\n",
      "measure 5 :  [1677710899405, None, '', '2023-03-01T22:48:19.405Z', 0, 'orientation']\n",
      "measure 6 :  [1677710899405, None, '℃', '2023-03-01T22:48:19.405Z', 3, 'environmental_temperature']\n",
      "measure 7 :  [1677710899405, None, '', '2023-03-01T22:48:19.405Z', 0, 'back_front']\n",
      "measure 8 :  [1677710899405, None, '', '2023-03-01T22:48:19.405Z', 0, 'regular']\n",
      "measure 9 :  [1677710899405, None, '', '2023-03-01T22:48:19.405Z', 0, 'movement_level']\n",
      "measure 10 :  [1677710899405, None, '', '2023-03-01T22:48:19.405Z', 0, 'posture_tilt']\n",
      "measure 11 :  [1677710899405, 'jzp://coo#ffffffff00000500.0000', 'dB', '2023-03-01T22:48:19.405Z', -107, 'rssi']\n",
      "measure 12 :  [1677710899405, None, '', '2023-03-01T22:48:19.405Z', 0, 'position']\n",
      "measure 13 :  [1677710899405, None, 'kg/m³', '2023-03-01T22:48:19.405Z', 0, 'absolute_humidity']\n",
      "measure 14 :  [1677710899405, 'jzp://coo#ffffffff00000500.0000', '', '2023-03-01T22:48:19.405Z', 1, 'coordinator']\n",
      "measure 15 :  [1677710899405, None, 'Pa', '2023-03-01T22:48:19.405Z', 90146, 'pressure']\n",
      "\n",
      "\n",
      "ref:  jzp://edv#0503.0000\n",
      "cuid:  e9edcfbd-1f92-4b78-a496-962707b2d101\n",
      "t:  1677710918175\n",
      "tz:  2023-03-02T22:48:38.175Z\n",
      "cat:  0610\n",
      "sn:  229\n",
      "type:  presence\n",
      "uuid:  550c0455-cf7e-43b9-b849-b84b23c209ad\n",
      "measure 1 :  [1677710918175, None, 'C', '2023-03-01T22:48:38.175Z', 38.9463, 'device_temperature']\n",
      "measure 2 :  [1677710918175, None, 'V', '2023-03-01T22:48:38.175Z', 3.3235, 'battery_level']\n",
      "measure 3 :  [1677710918175, 'jzp://coo#ffffffff00000500.0000', 'dB', '2023-03-01T22:48:38.175Z', -101.2301, 'rssi']\n",
      "measure 4 :  [1677710918175, None, '', '2023-03-01T22:48:38.175Z', 0, 'presence']\n",
      "measure 5 :  [1677710918175, 'jzp://coo#ffffffff00000500.0000', '', '2023-03-01T22:48:38.175Z', 1, 'coordinator']\n",
      "\n",
      "\n",
      "ref:  jzp://edv#0502.0000\n",
      "cuid:  20c3dce7-b32b-4f1a-bfdf-654e470293aa\n",
      "t:  1677710921221\n",
      "tz:  2023-03-02T22:48:41.221Z\n",
      "cat:  0631\n",
      "sn:  90\n",
      "type:  gasmeter\n",
      "uuid:  808ed2ce-de78-4cf5-ad88-95dd4559fa9a\n",
      "measure 1 :  [1677710921221, 'jzp://coo#ffffffff000004ff.0000', '', '2023-03-01T22:48:41.221Z', 1.0, 'coordinator']\n",
      "measure 2 :  [1677710921221, None, '', '2023-03-01T22:48:41.221Z', 363.4749, 'ppm']\n",
      "measure 3 :  [1677710921222, 'jzp://coo#ffffffff000004ff.0000', 'dB', '2023-03-01T22:48:41.222Z', -116.9266, 'rssi']\n",
      "measure 4 :  [1677710921222, None, '℃', '2023-03-01T22:48:41.222Z', 18, 'device_temperature']\n",
      "measure 5 :  [1677710921222, None, 'V', '2023-03-01T22:48:41.222Z', 3, 'battery_level']\n",
      "\n",
      "\n",
      "ref:  jzp://edv#0501.0000\n",
      "cuid:  d7f07cda-938f-4cc0-b036-b7193675a6fd\n",
      "t:  1677710925001\n",
      "tz:  2023-03-02T22:48:45.001Z\n",
      "cat:  0620\n",
      "sn:  22\n",
      "type:  luxmeter\n",
      "uuid:  fb3dd9b1-1558-46e8-894b-4c685a2cd178\n",
      "measure 1 :  [1677710925001, None, '℃', '2023-03-01T22:48:45.001Z', 20.2493, 'device_temperature']\n",
      "measure 2 :  [1677710925001, None, 'V', '2023-03-01T22:48:45.001Z', 3.4202, 'battery_level']\n",
      "measure 3 :  [1677710925001, None, '', '2023-03-01T22:48:45.001Z', 0.0, 'orientation']\n",
      "measure 4 :  [1677710925001, None, '', '2023-03-01T22:48:45.001Z', 0, 'back_front']\n",
      "measure 5 :  [1677710925001, None, '', '2023-03-01T22:48:45.001Z', 0, 'regular']\n",
      "measure 6 :  [1677710925001, None, '', '2023-03-01T22:48:45.001Z', 0, 'movement_level']\n",
      "measure 7 :  [1677710925001, None, '', '2023-03-01T22:48:45.001Z', 0, 'posture_tilt']\n",
      "measure 8 :  [1677710925001, 'jzp://coo#ffffffff00000500.0000', 'dB', '2023-03-01T22:48:45.001Z', -88, 'rssi']\n",
      "measure 9 :  [1677710925001, None, '', '2023-03-01T22:48:45.001Z', 0, 'position']\n",
      "measure 10 :  [1677710925001, None, '', '2023-03-01T22:48:45.001Z', 340, 'adc_channel_00']\n",
      "measure 11 :  [1677710925001, None, 'lx', '2023-03-01T22:48:45.001Z', 410, 'illuminance']\n",
      "measure 12 :  [1677710925001, 'jzp://coo#ffffffff00000500.0000', '', '2023-03-01T22:48:45.001Z', 1, 'coordinator']\n",
      "measure 13 :  [1677710925001, None, 'Pa', '2023-03-01T22:48:45.001Z', 85695, 'pressure']\n",
      "measure 14 :  [1677710925001, None, '', '2023-03-01T22:48:45.001Z', 0, 'adc_channel_01']\n",
      "\n",
      "\n",
      "ref:  jzp://edv#0504.0000\n",
      "cuid:  2613a816-4111-4711-9fb9-b6c5a0194357\n",
      "t:  1677710927589\n",
      "tz:  2023-03-02T22:48:47.589Z\n",
      "cat:  0600\n",
      "sn:  202\n",
      "type:  environmental\n",
      "uuid:  e06ebf36-92b5-498a-ab52-290ae7f766e1\n",
      "measure 1 :  [1677710927589, None, '℃', '2023-03-01T22:48:47.589Z', 14.4662, 'device_temperature']\n",
      "measure 2 :  [1677710927589, None, 'V', '2023-03-01T22:48:47.589Z', 3.5456, 'battery_level']\n",
      "measure 3 :  [1677710927589, None, '℃', '2023-03-01T22:48:47.589Z', 23.6907, 'dew_point']\n",
      "measure 4 :  [1677710927589, None, '%', '2023-03-01T22:48:47.589Z', 91, 'relative_humidity']\n",
      "measure 5 :  [1677710927589, None, '', '2023-03-01T22:48:47.589Z', 0, 'orientation']\n",
      "measure 6 :  [1677710927589, None, '℃', '2023-03-01T22:48:47.589Z', 27, 'environmental_temperature']\n",
      "measure 7 :  [1677710927589, None, '', '2023-03-01T22:48:47.589Z', 0, 'back_front']\n",
      "measure 8 :  [1677710927589, None, '', '2023-03-01T22:48:47.589Z', 0, 'regular']\n",
      "measure 9 :  [1677710927589, None, '', '2023-03-01T22:48:47.589Z', 0, 'movement_level']\n",
      "measure 10 :  [1677710927589, None, '', '2023-03-01T22:48:47.589Z', 0, 'posture_tilt']\n",
      "measure 11 :  [1677710927589, 'jzp://coo#ffffffff00000500.0000', 'dB', '2023-03-01T22:48:47.589Z', -76, 'rssi']\n",
      "measure 12 :  [1677710927589, None, '', '2023-03-01T22:48:47.589Z', 0, 'position']\n",
      "measure 13 :  [1677710927589, None, 'kg/m³', '2023-03-01T22:48:47.589Z', 0, 'absolute_humidity']\n",
      "measure 14 :  [1677710927589, 'jzp://coo#ffffffff00000500.0000', '', '2023-03-01T22:48:47.589Z', 1, 'coordinator']\n",
      "measure 15 :  [1677710927589, None, 'Pa', '2023-03-01T22:48:47.589Z', 71192, 'pressure']\n",
      "\n",
      "\n",
      "ref:  jzp://edv#0503.0000\n",
      "cuid:  7a00a07e-c7a1-4f77-9355-a68de7b68903\n",
      "t:  1677710940119\n",
      "tz:  2023-03-02T22:49:00.119Z\n",
      "cat:  0610\n",
      "sn:  112\n",
      "type:  presence\n",
      "uuid:  d33552d8-c330-4ff1-bd8a-829a5570b4ca\n",
      "measure 1 :  [1677710940119, None, 'C', '2023-03-01T22:49:00.119Z', 31.7242, 'device_temperature']\n",
      "measure 2 :  [1677710940119, None, 'V', '2023-03-01T22:49:00.119Z', 3.2977, 'battery_level']\n",
      "measure 3 :  [1677710940119, 'jzp://coo#ffffffff00000500.0000', 'dB', '2023-03-01T22:49:00.119Z', -80.8884, 'rssi']\n",
      "measure 4 :  [1677710940119, None, '', '2023-03-01T22:49:00.119Z', 0, 'presence']\n",
      "measure 5 :  [1677710940119, 'jzp://coo#ffffffff00000500.0000', '', '2023-03-01T22:49:00.119Z', 1, 'coordinator']\n",
      "\n",
      "\n",
      "ref:  jzp://edv#0502.0000\n",
      "cuid:  2d1365a1-79ba-40da-a88d-d3e792e7fad9\n",
      "t:  1677710943860\n",
      "tz:  2023-03-02T22:49:03.860Z\n",
      "cat:  0631\n",
      "sn:  30\n",
      "type:  gasmeter\n",
      "uuid:  5515d457-148d-4fe3-8473-daf329a2d0e2\n",
      "measure 1 :  [1677710943861, 'jzp://coo#ffffffff000004ff.0000', '', '2023-03-01T22:49:03.861Z', 1.0, 'coordinator']\n",
      "measure 2 :  [1677710943861, None, '', '2023-03-01T22:49:03.861Z', 381.4967, 'ppm']\n",
      "measure 3 :  [1677710943861, 'jzp://coo#ffffffff000004ff.0000', 'dB', '2023-03-01T22:49:03.861Z', -105.8214, 'rssi']\n",
      "measure 4 :  [1677710943861, None, '℃', '2023-03-01T22:49:03.861Z', 7, 'device_temperature']\n",
      "measure 5 :  [1677710943861, None, 'V', '2023-03-01T22:49:03.861Z', 3, 'battery_level']\n",
      "\n",
      "\n",
      "ref:  jzp://edv#0501.0000\n",
      "cuid:  3d891713-7a3a-4d93-8ff2-2be4152464f4\n",
      "t:  1677710947221\n",
      "tz:  2023-03-02T22:49:07.221Z\n",
      "cat:  0620\n",
      "sn:  232\n",
      "type:  luxmeter\n",
      "uuid:  42d3eb98-6642-4d27-91c6-9bfe8561a877\n",
      "measure 1 :  [1677710947221, None, '℃', '2023-03-01T22:49:07.221Z', 0.9089, 'device_temperature']\n",
      "measure 2 :  [1677710947221, None, 'V', '2023-03-01T22:49:07.221Z', 3.461, 'battery_level']\n",
      "measure 3 :  [1677710947221, None, '', '2023-03-01T22:49:07.221Z', 0.0, 'orientation']\n",
      "measure 4 :  [1677710947221, None, '', '2023-03-01T22:49:07.221Z', 0, 'back_front']\n",
      "measure 5 :  [1677710947221, None, '', '2023-03-01T22:49:07.221Z', 0, 'regular']\n",
      "measure 6 :  [1677710947221, None, '', '2023-03-01T22:49:07.221Z', 0, 'movement_level']\n",
      "measure 7 :  [1677710947221, None, '', '2023-03-01T22:49:07.221Z', 0, 'posture_tilt']\n",
      "measure 8 :  [1677710947221, 'jzp://coo#ffffffff00000500.0000', 'dB', '2023-03-01T22:49:07.221Z', -67, 'rssi']\n",
      "measure 9 :  [1677710947221, None, '', '2023-03-01T22:49:07.221Z', 0, 'position']\n",
      "measure 10 :  [1677710947221, None, '', '2023-03-01T22:49:07.221Z', 279, 'adc_channel_00']\n",
      "measure 11 :  [1677710947221, None, 'lx', '2023-03-01T22:49:07.221Z', 397, 'illuminance']\n",
      "measure 12 :  [1677710947221, 'jzp://coo#ffffffff00000500.0000', '', '2023-03-01T22:49:07.221Z', 1, 'coordinator']\n",
      "measure 13 :  [1677710947221, None, 'Pa', '2023-03-01T22:49:07.221Z', 29680, 'pressure']\n",
      "measure 14 :  [1677710947221, None, '', '2023-03-01T22:49:07.221Z', 0, 'adc_channel_01']\n",
      "\n",
      "\n",
      "ref:  jzp://edv#0504.0000\n",
      "cuid:  d96f365a-96d0-488f-86e1-b28238c15ef5\n",
      "t:  1677710950902\n",
      "tz:  2023-03-02T22:49:10.902Z\n",
      "cat:  0600\n",
      "sn:  232\n",
      "type:  environmental\n",
      "uuid:  c583d6a3-8453-4452-a4a0-e9c231f097cd\n",
      "measure 1 :  [1677710950902, None, '℃', '2023-03-01T22:49:10.902Z', 8.0808, 'device_temperature']\n",
      "measure 2 :  [1677710950902, None, 'V', '2023-03-01T22:49:10.902Z', 3.2899, 'battery_level']\n",
      "measure 3 :  [1677710950903, None, '℃', '2023-03-01T22:49:10.903Z', 11.341, 'dew_point']\n",
      "measure 4 :  [1677710950903, None, '%', '2023-03-01T22:49:10.903Z', 77, 'relative_humidity']\n",
      "measure 5 :  [1677710950903, None, '', '2023-03-01T22:49:10.903Z', 0, 'orientation']\n",
      "measure 6 :  [1677710950903, None, '℃', '2023-03-01T22:49:10.903Z', 25, 'environmental_temperature']\n",
      "measure 7 :  [1677710950903, None, '', '2023-03-01T22:49:10.903Z', 0, 'back_front']\n",
      "measure 8 :  [1677710950903, None, '', '2023-03-01T22:49:10.903Z', 0, 'regular']\n",
      "measure 9 :  [1677710950903, None, '', '2023-03-01T22:49:10.903Z', 0, 'movement_level']\n",
      "measure 10 :  [1677710950903, None, '', '2023-03-01T22:49:10.903Z', 0, 'posture_tilt']\n",
      "measure 11 :  [1677710950903, 'jzp://coo#ffffffff00000500.0000', 'dB', '2023-03-01T22:49:10.903Z', -92, 'rssi']\n",
      "measure 12 :  [1677710950903, None, '', '2023-03-01T22:49:10.903Z', 0, 'position']\n",
      "measure 13 :  [1677710950903, None, 'kg/m³', '2023-03-01T22:49:10.903Z', 0, 'absolute_humidity']\n",
      "measure 14 :  [1677710950903, 'jzp://coo#ffffffff00000500.0000', '', '2023-03-01T22:49:10.903Z', 1, 'coordinator']\n",
      "measure 15 :  [1677710950903, None, 'Pa', '2023-03-01T22:49:10.903Z', 39060, 'pressure']\n",
      "\n",
      "\n"
     ]
    }
   ],
   "source": [
    "presto_cur.execute(\"select * from iotsimulator where tz between '2023-03-02T15:00:00.000Z' and '2023-03-03T09:00:00.000Z'\")\n",
    "records=presto_cur.fetchall()\n",
    "for row in records:\n",
    "        print(\"ref: \", row[0])\n",
    "        print(\"cuid: \", row[1])\n",
    "        print(\"t: \", row[2])\n",
    "        print(\"tz: \", row[3])\n",
    "        print(\"cat: \", row[4])\n",
    "        print(\"sn: \", row[5])\n",
    "        print(\"type: \", row[6])\n",
    "        print(\"uuid: \", row[7])\n",
    "        #print(\"Measures:\", row[8])\n",
    "        i=1\n",
    "        for measure in row[8]:\n",
    "            if not measure == None:\n",
    "                print(\"measure\",i,\": \",measure)\n",
    "            i=i+1\n",
    "        print(\"\\n\")"
   ]
  },
  {
   "cell_type": "markdown",
   "id": "bb05d043",
   "metadata": {},
   "source": [
    "# Count rows in a time intervall from a particular device type"
   ]
  },
  {
   "cell_type": "code",
   "execution_count": 6,
   "id": "271cb3e4",
   "metadata": {
    "scrolled": true
   },
   "outputs": [
    {
     "name": "stdout",
     "output_type": "stream",
     "text": [
      "Abbiamo 63 righe raccolte nell'intervallo temporale tra il 02-03-2023 e 03-03-2023 nei sensori di tipo gasmeter\n"
     ]
    }
   ],
   "source": [
    "presto_cur.execute(\"select count(*) from iotsimulator where tz between '2023-03-02T00:00:01.000Z' and '2023-03-03T23:59:59.999Z' and type='gasmeter' \")\n",
    "records=presto_cur.fetchall()\n",
    "arr = np.asarray(records[0])\n",
    "print(\"Abbiamo\", arr[0], \"righe raccolte nell'intervallo temporale tra il 02-03-2023 e 03-03-2023 nei sensori di tipo gasmeter\")"
   ]
  },
  {
   "cell_type": "markdown",
   "id": "ea80ce2b",
   "metadata": {},
   "source": [
    "# Calculate average pressure in devices "
   ]
  },
  {
   "cell_type": "code",
   "execution_count": 97,
   "id": "7606b37f",
   "metadata": {
    "scrolled": true
   },
   "outputs": [],
   "source": [
    "#presto_cur.execute(\"SELECT uuid, b.k FROM iotsimulator CROSS JOIN UNNEST(m) AS b(value)\")"
   ]
  },
  {
   "cell_type": "markdown",
   "id": "8108eb81",
   "metadata": {},
   "source": [
    "___"
   ]
  },
  {
   "cell_type": "markdown",
   "id": "1a00bee5",
   "metadata": {},
   "source": [
    "# DataFrame Initialization"
   ]
  },
  {
   "cell_type": "code",
   "execution_count": 15,
   "id": "ebeb8b3e",
   "metadata": {},
   "outputs": [
    {
     "data": {
      "text/html": [
       "<div>\n",
       "<style scoped>\n",
       "    .dataframe tbody tr th:only-of-type {\n",
       "        vertical-align: middle;\n",
       "    }\n",
       "\n",
       "    .dataframe tbody tr th {\n",
       "        vertical-align: top;\n",
       "    }\n",
       "\n",
       "    .dataframe thead th {\n",
       "        text-align: right;\n",
       "    }\n",
       "</style>\n",
       "<table border=\"1\" class=\"dataframe\">\n",
       "  <thead>\n",
       "    <tr style=\"text-align: right;\">\n",
       "      <th></th>\n",
       "      <th>ref</th>\n",
       "      <th>cuid</th>\n",
       "      <th>t</th>\n",
       "      <th>tz</th>\n",
       "      <th>cat</th>\n",
       "      <th>sn</th>\n",
       "      <th>type</th>\n",
       "      <th>uuid</th>\n",
       "      <th>m</th>\n",
       "    </tr>\n",
       "  </thead>\n",
       "  <tbody>\n",
       "    <tr>\n",
       "      <th>0</th>\n",
       "      <td>jzp://edv#0502.0000</td>\n",
       "      <td>c4e93794-9ad1-4e19-a23f-c226cf9db08a</td>\n",
       "      <td>1677710696785</td>\n",
       "      <td>2023-03-01T22:44:56.785Z</td>\n",
       "      <td>0631</td>\n",
       "      <td>235</td>\n",
       "      <td>gasmeter</td>\n",
       "      <td>f08bdf71-daab-4deb-b213-913ae0c408e2</td>\n",
       "      <td>[[1677710696785, jzp://coo#ffffffff000004ff.00...</td>\n",
       "    </tr>\n",
       "    <tr>\n",
       "      <th>1</th>\n",
       "      <td>jzp://edv#0504.0000</td>\n",
       "      <td>74f5928f-2d2b-4d3e-b623-c317894a0792</td>\n",
       "      <td>1677710702417</td>\n",
       "      <td>2023-03-01T22:45:02.417Z</td>\n",
       "      <td>0600</td>\n",
       "      <td>123</td>\n",
       "      <td>environmental</td>\n",
       "      <td>b60e8700-3040-4a52-89c5-09f58c5ab757</td>\n",
       "      <td>[[1677710702417, None, ℃, 2023-03-01T22:45:02....</td>\n",
       "    </tr>\n",
       "    <tr>\n",
       "      <th>2</th>\n",
       "      <td>jzp://edv#0501.0000</td>\n",
       "      <td>ea2b7f2e-4bd1-4f63-9ab4-22c74b4a131e</td>\n",
       "      <td>1677710720808</td>\n",
       "      <td>2023-03-01T22:45:20.808Z</td>\n",
       "      <td>0620</td>\n",
       "      <td>144</td>\n",
       "      <td>luxmeter</td>\n",
       "      <td>4549a3c1-f10a-4553-987a-fc2ef3a5f07e</td>\n",
       "      <td>[[1677710720808, None, ℃, 2023-03-01T22:45:20....</td>\n",
       "    </tr>\n",
       "    <tr>\n",
       "      <th>3</th>\n",
       "      <td>jzp://edv#0502.0000</td>\n",
       "      <td>b2c706d3-187a-4b03-9d68-91d5930bf8e3</td>\n",
       "      <td>1677710743216</td>\n",
       "      <td>2023-03-01T22:45:43.216Z</td>\n",
       "      <td>0631</td>\n",
       "      <td>24</td>\n",
       "      <td>gasmeter</td>\n",
       "      <td>8b22b725-f163-4a91-a556-dcc73fe07ee5</td>\n",
       "      <td>[[1677710743216, jzp://coo#ffffffff000004ff.00...</td>\n",
       "    </tr>\n",
       "    <tr>\n",
       "      <th>4</th>\n",
       "      <td>jzp://edv#0501.0000</td>\n",
       "      <td>9dd7f75c-3333-4265-a215-a634411a579f</td>\n",
       "      <td>1677710746342</td>\n",
       "      <td>2023-03-01T22:45:46.342Z</td>\n",
       "      <td>0620</td>\n",
       "      <td>253</td>\n",
       "      <td>luxmeter</td>\n",
       "      <td>2aeab74a-a508-4cd1-bb61-131fcb6c7733</td>\n",
       "      <td>[[1677710746342, None, ℃, 2023-03-01T22:45:46....</td>\n",
       "    </tr>\n",
       "    <tr>\n",
       "      <th>...</th>\n",
       "      <td>...</td>\n",
       "      <td>...</td>\n",
       "      <td>...</td>\n",
       "      <td>...</td>\n",
       "      <td>...</td>\n",
       "      <td>...</td>\n",
       "      <td>...</td>\n",
       "      <td>...</td>\n",
       "      <td>...</td>\n",
       "    </tr>\n",
       "    <tr>\n",
       "      <th>488</th>\n",
       "      <td>jzp://edv#0504.0000</td>\n",
       "      <td>3feab02f-8ebb-4044-9b83-baacd77821d4</td>\n",
       "      <td>1678123094256</td>\n",
       "      <td>2023-03-06T17:18:14.256Z</td>\n",
       "      <td>0600</td>\n",
       "      <td>10</td>\n",
       "      <td>environmental</td>\n",
       "      <td>260c6482-a296-40c9-ac3e-be4f644f4f51</td>\n",
       "      <td>[[1678123094256, None, ℃, 2023-03-06T17:18:14....</td>\n",
       "    </tr>\n",
       "    <tr>\n",
       "      <th>489</th>\n",
       "      <td>jzp://edv#0503.0000</td>\n",
       "      <td>bc14c272-055b-4826-853d-3831641c1fd3</td>\n",
       "      <td>1678123111978</td>\n",
       "      <td>2023-03-06T17:18:31.978Z</td>\n",
       "      <td>0610</td>\n",
       "      <td>4</td>\n",
       "      <td>presence</td>\n",
       "      <td>b304df18-a75d-42ce-9245-ae481a6f522a</td>\n",
       "      <td>[[1678123111980, None, C, 2023-03-06T17:18:31....</td>\n",
       "    </tr>\n",
       "    <tr>\n",
       "      <th>490</th>\n",
       "      <td>jzp://edv#0502.0000</td>\n",
       "      <td>e49fcd94-caf4-4f30-a4b8-828441926773</td>\n",
       "      <td>1678123114598</td>\n",
       "      <td>2023-03-06T17:18:34.598Z</td>\n",
       "      <td>0631</td>\n",
       "      <td>233</td>\n",
       "      <td>gasmeter</td>\n",
       "      <td>baa8b214-d79f-465f-b1fc-91fd75a7c608</td>\n",
       "      <td>[[1678123114599, jzp://coo#ffffffff000004ff.00...</td>\n",
       "    </tr>\n",
       "    <tr>\n",
       "      <th>491</th>\n",
       "      <td>jzp://edv#0501.0000</td>\n",
       "      <td>bb18ac27-2bcd-490f-8eb6-ac1f317378b7</td>\n",
       "      <td>1678123118187</td>\n",
       "      <td>2023-03-06T17:18:38.187Z</td>\n",
       "      <td>0620</td>\n",
       "      <td>117</td>\n",
       "      <td>luxmeter</td>\n",
       "      <td>b6d60eae-4fcb-4bf6-b840-9082b38fc108</td>\n",
       "      <td>[[1678123118188, None, ℃, 2023-03-06T17:18:38....</td>\n",
       "    </tr>\n",
       "    <tr>\n",
       "      <th>492</th>\n",
       "      <td>jzp://edv#0504.0000</td>\n",
       "      <td>42d1079f-2726-41e6-9e32-366e3ecab200</td>\n",
       "      <td>1678123121571</td>\n",
       "      <td>2023-03-06T17:18:41.571Z</td>\n",
       "      <td>0600</td>\n",
       "      <td>92</td>\n",
       "      <td>environmental</td>\n",
       "      <td>fd5437ce-9be8-4dca-8765-36e3816c7489</td>\n",
       "      <td>[[1678123121571, None, ℃, 2023-03-06T17:18:41....</td>\n",
       "    </tr>\n",
       "  </tbody>\n",
       "</table>\n",
       "<p>493 rows × 9 columns</p>\n",
       "</div>"
      ],
      "text/plain": [
       "                     ref                                  cuid              t  \\\n",
       "0    jzp://edv#0502.0000  c4e93794-9ad1-4e19-a23f-c226cf9db08a  1677710696785   \n",
       "1    jzp://edv#0504.0000  74f5928f-2d2b-4d3e-b623-c317894a0792  1677710702417   \n",
       "2    jzp://edv#0501.0000  ea2b7f2e-4bd1-4f63-9ab4-22c74b4a131e  1677710720808   \n",
       "3    jzp://edv#0502.0000  b2c706d3-187a-4b03-9d68-91d5930bf8e3  1677710743216   \n",
       "4    jzp://edv#0501.0000  9dd7f75c-3333-4265-a215-a634411a579f  1677710746342   \n",
       "..                   ...                                   ...            ...   \n",
       "488  jzp://edv#0504.0000  3feab02f-8ebb-4044-9b83-baacd77821d4  1678123094256   \n",
       "489  jzp://edv#0503.0000  bc14c272-055b-4826-853d-3831641c1fd3  1678123111978   \n",
       "490  jzp://edv#0502.0000  e49fcd94-caf4-4f30-a4b8-828441926773  1678123114598   \n",
       "491  jzp://edv#0501.0000  bb18ac27-2bcd-490f-8eb6-ac1f317378b7  1678123118187   \n",
       "492  jzp://edv#0504.0000  42d1079f-2726-41e6-9e32-366e3ecab200  1678123121571   \n",
       "\n",
       "                           tz   cat   sn           type  \\\n",
       "0    2023-03-01T22:44:56.785Z  0631  235       gasmeter   \n",
       "1    2023-03-01T22:45:02.417Z  0600  123  environmental   \n",
       "2    2023-03-01T22:45:20.808Z  0620  144       luxmeter   \n",
       "3    2023-03-01T22:45:43.216Z  0631   24       gasmeter   \n",
       "4    2023-03-01T22:45:46.342Z  0620  253       luxmeter   \n",
       "..                        ...   ...  ...            ...   \n",
       "488  2023-03-06T17:18:14.256Z  0600   10  environmental   \n",
       "489  2023-03-06T17:18:31.978Z  0610    4       presence   \n",
       "490  2023-03-06T17:18:34.598Z  0631  233       gasmeter   \n",
       "491  2023-03-06T17:18:38.187Z  0620  117       luxmeter   \n",
       "492  2023-03-06T17:18:41.571Z  0600   92  environmental   \n",
       "\n",
       "                                     uuid  \\\n",
       "0    f08bdf71-daab-4deb-b213-913ae0c408e2   \n",
       "1    b60e8700-3040-4a52-89c5-09f58c5ab757   \n",
       "2    4549a3c1-f10a-4553-987a-fc2ef3a5f07e   \n",
       "3    8b22b725-f163-4a91-a556-dcc73fe07ee5   \n",
       "4    2aeab74a-a508-4cd1-bb61-131fcb6c7733   \n",
       "..                                    ...   \n",
       "488  260c6482-a296-40c9-ac3e-be4f644f4f51   \n",
       "489  b304df18-a75d-42ce-9245-ae481a6f522a   \n",
       "490  baa8b214-d79f-465f-b1fc-91fd75a7c608   \n",
       "491  b6d60eae-4fcb-4bf6-b840-9082b38fc108   \n",
       "492  fd5437ce-9be8-4dca-8765-36e3816c7489   \n",
       "\n",
       "                                                     m  \n",
       "0    [[1677710696785, jzp://coo#ffffffff000004ff.00...  \n",
       "1    [[1677710702417, None, ℃, 2023-03-01T22:45:02....  \n",
       "2    [[1677710720808, None, ℃, 2023-03-01T22:45:20....  \n",
       "3    [[1677710743216, jzp://coo#ffffffff000004ff.00...  \n",
       "4    [[1677710746342, None, ℃, 2023-03-01T22:45:46....  \n",
       "..                                                 ...  \n",
       "488  [[1678123094256, None, ℃, 2023-03-06T17:18:14....  \n",
       "489  [[1678123111980, None, C, 2023-03-06T17:18:31....  \n",
       "490  [[1678123114599, jzp://coo#ffffffff000004ff.00...  \n",
       "491  [[1678123118188, None, ℃, 2023-03-06T17:18:38....  \n",
       "492  [[1678123121571, None, ℃, 2023-03-06T17:18:41....  \n",
       "\n",
       "[493 rows x 9 columns]"
      ]
     },
     "execution_count": 15,
     "metadata": {},
     "output_type": "execute_result"
    }
   ],
   "source": [
    "presto_cur.execute(\"select * from iotsimulator order by tz\")\n",
    "records=presto_cur.fetchall()\n",
    "df = DataFrame(records)\n",
    "df.columns = ['ref', 'cuid', 't','tz','cat','sn','type','uuid','m']\n",
    "df"
   ]
  },
  {
   "cell_type": "markdown",
   "id": "772d241c",
   "metadata": {},
   "source": [
    "# Dataframe con l'explode della collonna 'm'\n",
    "### Qui ogni riga relativa ad un dispositivo è ripetuta tante volte per quante sono le measure effettuate da quel dispositivo"
   ]
  },
  {
   "cell_type": "code",
   "execution_count": 16,
   "id": "6d4454bb",
   "metadata": {},
   "outputs": [
    {
     "data": {
      "text/html": [
       "<div>\n",
       "<style scoped>\n",
       "    .dataframe tbody tr th:only-of-type {\n",
       "        vertical-align: middle;\n",
       "    }\n",
       "\n",
       "    .dataframe tbody tr th {\n",
       "        vertical-align: top;\n",
       "    }\n",
       "\n",
       "    .dataframe thead th {\n",
       "        text-align: right;\n",
       "    }\n",
       "</style>\n",
       "<table border=\"1\" class=\"dataframe\">\n",
       "  <thead>\n",
       "    <tr style=\"text-align: right;\">\n",
       "      <th></th>\n",
       "      <th>ref</th>\n",
       "      <th>cuid</th>\n",
       "      <th>t</th>\n",
       "      <th>tz</th>\n",
       "      <th>cat</th>\n",
       "      <th>sn</th>\n",
       "      <th>type</th>\n",
       "      <th>uuid</th>\n",
       "      <th>m</th>\n",
       "    </tr>\n",
       "  </thead>\n",
       "  <tbody>\n",
       "    <tr>\n",
       "      <th>0</th>\n",
       "      <td>jzp://edv#0502.0000</td>\n",
       "      <td>c4e93794-9ad1-4e19-a23f-c226cf9db08a</td>\n",
       "      <td>1677710696785</td>\n",
       "      <td>2023-03-01T22:44:56.785Z</td>\n",
       "      <td>0631</td>\n",
       "      <td>235</td>\n",
       "      <td>gasmeter</td>\n",
       "      <td>f08bdf71-daab-4deb-b213-913ae0c408e2</td>\n",
       "      <td>[1677710696785, jzp://coo#ffffffff000004ff.000...</td>\n",
       "    </tr>\n",
       "    <tr>\n",
       "      <th>0</th>\n",
       "      <td>jzp://edv#0502.0000</td>\n",
       "      <td>c4e93794-9ad1-4e19-a23f-c226cf9db08a</td>\n",
       "      <td>1677710696785</td>\n",
       "      <td>2023-03-01T22:44:56.785Z</td>\n",
       "      <td>0631</td>\n",
       "      <td>235</td>\n",
       "      <td>gasmeter</td>\n",
       "      <td>f08bdf71-daab-4deb-b213-913ae0c408e2</td>\n",
       "      <td>[1677710696785, None, , 2023-03-01T22:44:56.78...</td>\n",
       "    </tr>\n",
       "    <tr>\n",
       "      <th>0</th>\n",
       "      <td>jzp://edv#0502.0000</td>\n",
       "      <td>c4e93794-9ad1-4e19-a23f-c226cf9db08a</td>\n",
       "      <td>1677710696785</td>\n",
       "      <td>2023-03-01T22:44:56.785Z</td>\n",
       "      <td>0631</td>\n",
       "      <td>235</td>\n",
       "      <td>gasmeter</td>\n",
       "      <td>f08bdf71-daab-4deb-b213-913ae0c408e2</td>\n",
       "      <td>[1677710696785, jzp://coo#ffffffff000004ff.000...</td>\n",
       "    </tr>\n",
       "    <tr>\n",
       "      <th>0</th>\n",
       "      <td>jzp://edv#0502.0000</td>\n",
       "      <td>c4e93794-9ad1-4e19-a23f-c226cf9db08a</td>\n",
       "      <td>1677710696785</td>\n",
       "      <td>2023-03-01T22:44:56.785Z</td>\n",
       "      <td>0631</td>\n",
       "      <td>235</td>\n",
       "      <td>gasmeter</td>\n",
       "      <td>f08bdf71-daab-4deb-b213-913ae0c408e2</td>\n",
       "      <td>[1677710696785, None, ℃, 2023-03-01T22:44:56.7...</td>\n",
       "    </tr>\n",
       "    <tr>\n",
       "      <th>0</th>\n",
       "      <td>jzp://edv#0502.0000</td>\n",
       "      <td>c4e93794-9ad1-4e19-a23f-c226cf9db08a</td>\n",
       "      <td>1677710696785</td>\n",
       "      <td>2023-03-01T22:44:56.785Z</td>\n",
       "      <td>0631</td>\n",
       "      <td>235</td>\n",
       "      <td>gasmeter</td>\n",
       "      <td>f08bdf71-daab-4deb-b213-913ae0c408e2</td>\n",
       "      <td>[1677710696785, None, V, 2023-03-01T22:44:56.7...</td>\n",
       "    </tr>\n",
       "    <tr>\n",
       "      <th>...</th>\n",
       "      <td>...</td>\n",
       "      <td>...</td>\n",
       "      <td>...</td>\n",
       "      <td>...</td>\n",
       "      <td>...</td>\n",
       "      <td>...</td>\n",
       "      <td>...</td>\n",
       "      <td>...</td>\n",
       "      <td>...</td>\n",
       "    </tr>\n",
       "    <tr>\n",
       "      <th>492</th>\n",
       "      <td>jzp://edv#0504.0000</td>\n",
       "      <td>42d1079f-2726-41e6-9e32-366e3ecab200</td>\n",
       "      <td>1678123121571</td>\n",
       "      <td>2023-03-06T17:18:41.571Z</td>\n",
       "      <td>0600</td>\n",
       "      <td>92</td>\n",
       "      <td>environmental</td>\n",
       "      <td>fd5437ce-9be8-4dca-8765-36e3816c7489</td>\n",
       "      <td>[1678123121571, jzp://coo#ffffffff00000500.000...</td>\n",
       "    </tr>\n",
       "    <tr>\n",
       "      <th>492</th>\n",
       "      <td>jzp://edv#0504.0000</td>\n",
       "      <td>42d1079f-2726-41e6-9e32-366e3ecab200</td>\n",
       "      <td>1678123121571</td>\n",
       "      <td>2023-03-06T17:18:41.571Z</td>\n",
       "      <td>0600</td>\n",
       "      <td>92</td>\n",
       "      <td>environmental</td>\n",
       "      <td>fd5437ce-9be8-4dca-8765-36e3816c7489</td>\n",
       "      <td>[1678123121571, None, , 2023-03-06T17:18:41.57...</td>\n",
       "    </tr>\n",
       "    <tr>\n",
       "      <th>492</th>\n",
       "      <td>jzp://edv#0504.0000</td>\n",
       "      <td>42d1079f-2726-41e6-9e32-366e3ecab200</td>\n",
       "      <td>1678123121571</td>\n",
       "      <td>2023-03-06T17:18:41.571Z</td>\n",
       "      <td>0600</td>\n",
       "      <td>92</td>\n",
       "      <td>environmental</td>\n",
       "      <td>fd5437ce-9be8-4dca-8765-36e3816c7489</td>\n",
       "      <td>[1678123121571, None, kg/m³, 2023-03-06T17:18:...</td>\n",
       "    </tr>\n",
       "    <tr>\n",
       "      <th>492</th>\n",
       "      <td>jzp://edv#0504.0000</td>\n",
       "      <td>42d1079f-2726-41e6-9e32-366e3ecab200</td>\n",
       "      <td>1678123121571</td>\n",
       "      <td>2023-03-06T17:18:41.571Z</td>\n",
       "      <td>0600</td>\n",
       "      <td>92</td>\n",
       "      <td>environmental</td>\n",
       "      <td>fd5437ce-9be8-4dca-8765-36e3816c7489</td>\n",
       "      <td>[1678123121571, jzp://coo#ffffffff00000500.000...</td>\n",
       "    </tr>\n",
       "    <tr>\n",
       "      <th>492</th>\n",
       "      <td>jzp://edv#0504.0000</td>\n",
       "      <td>42d1079f-2726-41e6-9e32-366e3ecab200</td>\n",
       "      <td>1678123121571</td>\n",
       "      <td>2023-03-06T17:18:41.571Z</td>\n",
       "      <td>0600</td>\n",
       "      <td>92</td>\n",
       "      <td>environmental</td>\n",
       "      <td>fd5437ce-9be8-4dca-8765-36e3816c7489</td>\n",
       "      <td>[1678123121571, None, Pa, 2023-03-06T17:18:41....</td>\n",
       "    </tr>\n",
       "  </tbody>\n",
       "</table>\n",
       "<p>4802 rows × 9 columns</p>\n",
       "</div>"
      ],
      "text/plain": [
       "                     ref                                  cuid              t  \\\n",
       "0    jzp://edv#0502.0000  c4e93794-9ad1-4e19-a23f-c226cf9db08a  1677710696785   \n",
       "0    jzp://edv#0502.0000  c4e93794-9ad1-4e19-a23f-c226cf9db08a  1677710696785   \n",
       "0    jzp://edv#0502.0000  c4e93794-9ad1-4e19-a23f-c226cf9db08a  1677710696785   \n",
       "0    jzp://edv#0502.0000  c4e93794-9ad1-4e19-a23f-c226cf9db08a  1677710696785   \n",
       "0    jzp://edv#0502.0000  c4e93794-9ad1-4e19-a23f-c226cf9db08a  1677710696785   \n",
       "..                   ...                                   ...            ...   \n",
       "492  jzp://edv#0504.0000  42d1079f-2726-41e6-9e32-366e3ecab200  1678123121571   \n",
       "492  jzp://edv#0504.0000  42d1079f-2726-41e6-9e32-366e3ecab200  1678123121571   \n",
       "492  jzp://edv#0504.0000  42d1079f-2726-41e6-9e32-366e3ecab200  1678123121571   \n",
       "492  jzp://edv#0504.0000  42d1079f-2726-41e6-9e32-366e3ecab200  1678123121571   \n",
       "492  jzp://edv#0504.0000  42d1079f-2726-41e6-9e32-366e3ecab200  1678123121571   \n",
       "\n",
       "                           tz   cat   sn           type  \\\n",
       "0    2023-03-01T22:44:56.785Z  0631  235       gasmeter   \n",
       "0    2023-03-01T22:44:56.785Z  0631  235       gasmeter   \n",
       "0    2023-03-01T22:44:56.785Z  0631  235       gasmeter   \n",
       "0    2023-03-01T22:44:56.785Z  0631  235       gasmeter   \n",
       "0    2023-03-01T22:44:56.785Z  0631  235       gasmeter   \n",
       "..                        ...   ...  ...            ...   \n",
       "492  2023-03-06T17:18:41.571Z  0600   92  environmental   \n",
       "492  2023-03-06T17:18:41.571Z  0600   92  environmental   \n",
       "492  2023-03-06T17:18:41.571Z  0600   92  environmental   \n",
       "492  2023-03-06T17:18:41.571Z  0600   92  environmental   \n",
       "492  2023-03-06T17:18:41.571Z  0600   92  environmental   \n",
       "\n",
       "                                     uuid  \\\n",
       "0    f08bdf71-daab-4deb-b213-913ae0c408e2   \n",
       "0    f08bdf71-daab-4deb-b213-913ae0c408e2   \n",
       "0    f08bdf71-daab-4deb-b213-913ae0c408e2   \n",
       "0    f08bdf71-daab-4deb-b213-913ae0c408e2   \n",
       "0    f08bdf71-daab-4deb-b213-913ae0c408e2   \n",
       "..                                    ...   \n",
       "492  fd5437ce-9be8-4dca-8765-36e3816c7489   \n",
       "492  fd5437ce-9be8-4dca-8765-36e3816c7489   \n",
       "492  fd5437ce-9be8-4dca-8765-36e3816c7489   \n",
       "492  fd5437ce-9be8-4dca-8765-36e3816c7489   \n",
       "492  fd5437ce-9be8-4dca-8765-36e3816c7489   \n",
       "\n",
       "                                                     m  \n",
       "0    [1677710696785, jzp://coo#ffffffff000004ff.000...  \n",
       "0    [1677710696785, None, , 2023-03-01T22:44:56.78...  \n",
       "0    [1677710696785, jzp://coo#ffffffff000004ff.000...  \n",
       "0    [1677710696785, None, ℃, 2023-03-01T22:44:56.7...  \n",
       "0    [1677710696785, None, V, 2023-03-01T22:44:56.7...  \n",
       "..                                                 ...  \n",
       "492  [1678123121571, jzp://coo#ffffffff00000500.000...  \n",
       "492  [1678123121571, None, , 2023-03-06T17:18:41.57...  \n",
       "492  [1678123121571, None, kg/m³, 2023-03-06T17:18:...  \n",
       "492  [1678123121571, jzp://coo#ffffffff00000500.000...  \n",
       "492  [1678123121571, None, Pa, 2023-03-06T17:18:41....  \n",
       "\n",
       "[4802 rows x 9 columns]"
      ]
     },
     "execution_count": 16,
     "metadata": {},
     "output_type": "execute_result"
    }
   ],
   "source": [
    "#explode colonna m\n",
    "df=df.explode('m')\n",
    "#elimina righe superflue\n",
    "df.dropna(subset=['m'], inplace=True)\n",
    "#controlla quante righe con m=null sono rimaste\n",
    "df['m'].isnull().sum()\n",
    "df"
   ]
  },
  {
   "cell_type": "markdown",
   "id": "17a588f1",
   "metadata": {},
   "source": [
    "# Dataframe completo con le colonne relative ad 'm'\n",
    "### Qui oltre alle colonne viste precedentemente si hanno anche le colonne interne di ogni measure, il tutto viene ripetuto per ogni measure"
   ]
  },
  {
   "cell_type": "code",
   "execution_count": 17,
   "id": "f3215539",
   "metadata": {},
   "outputs": [
    {
     "data": {
      "text/html": [
       "<div>\n",
       "<style scoped>\n",
       "    .dataframe tbody tr th:only-of-type {\n",
       "        vertical-align: middle;\n",
       "    }\n",
       "\n",
       "    .dataframe tbody tr th {\n",
       "        vertical-align: top;\n",
       "    }\n",
       "\n",
       "    .dataframe thead th {\n",
       "        text-align: right;\n",
       "    }\n",
       "</style>\n",
       "<table border=\"1\" class=\"dataframe\">\n",
       "  <thead>\n",
       "    <tr style=\"text-align: right;\">\n",
       "      <th></th>\n",
       "      <th>t</th>\n",
       "      <th>d</th>\n",
       "      <th>u</th>\n",
       "      <th>mtz</th>\n",
       "      <th>v</th>\n",
       "      <th>k</th>\n",
       "      <th>ref</th>\n",
       "      <th>cuid</th>\n",
       "      <th>t</th>\n",
       "      <th>tz</th>\n",
       "      <th>cat</th>\n",
       "      <th>sn</th>\n",
       "      <th>type</th>\n",
       "      <th>uuid</th>\n",
       "    </tr>\n",
       "  </thead>\n",
       "  <tbody>\n",
       "    <tr>\n",
       "      <th>0</th>\n",
       "      <td>1677710696785</td>\n",
       "      <td>jzp://coo#ffffffff000004ff.0000</td>\n",
       "      <td></td>\n",
       "      <td>2023-03-01T22:44:56.785Z</td>\n",
       "      <td>1.0000</td>\n",
       "      <td>coordinator</td>\n",
       "      <td>jzp://edv#0502.0000</td>\n",
       "      <td>c4e93794-9ad1-4e19-a23f-c226cf9db08a</td>\n",
       "      <td>1677710696785</td>\n",
       "      <td>2023-03-01T22:44:56.785Z</td>\n",
       "      <td>0631</td>\n",
       "      <td>235</td>\n",
       "      <td>gasmeter</td>\n",
       "      <td>f08bdf71-daab-4deb-b213-913ae0c408e2</td>\n",
       "    </tr>\n",
       "    <tr>\n",
       "      <th>0</th>\n",
       "      <td>1677710696785</td>\n",
       "      <td>None</td>\n",
       "      <td></td>\n",
       "      <td>2023-03-01T22:44:56.785Z</td>\n",
       "      <td>364.9355</td>\n",
       "      <td>ppm</td>\n",
       "      <td>jzp://edv#0502.0000</td>\n",
       "      <td>c4e93794-9ad1-4e19-a23f-c226cf9db08a</td>\n",
       "      <td>1677710696785</td>\n",
       "      <td>2023-03-01T22:44:56.785Z</td>\n",
       "      <td>0631</td>\n",
       "      <td>235</td>\n",
       "      <td>gasmeter</td>\n",
       "      <td>f08bdf71-daab-4deb-b213-913ae0c408e2</td>\n",
       "    </tr>\n",
       "    <tr>\n",
       "      <th>0</th>\n",
       "      <td>1677710696785</td>\n",
       "      <td>jzp://coo#ffffffff000004ff.0000</td>\n",
       "      <td>dB</td>\n",
       "      <td>2023-03-01T22:44:56.785Z</td>\n",
       "      <td>-65.4190</td>\n",
       "      <td>rssi</td>\n",
       "      <td>jzp://edv#0502.0000</td>\n",
       "      <td>c4e93794-9ad1-4e19-a23f-c226cf9db08a</td>\n",
       "      <td>1677710696785</td>\n",
       "      <td>2023-03-01T22:44:56.785Z</td>\n",
       "      <td>0631</td>\n",
       "      <td>235</td>\n",
       "      <td>gasmeter</td>\n",
       "      <td>f08bdf71-daab-4deb-b213-913ae0c408e2</td>\n",
       "    </tr>\n",
       "    <tr>\n",
       "      <th>0</th>\n",
       "      <td>1677710696785</td>\n",
       "      <td>None</td>\n",
       "      <td>℃</td>\n",
       "      <td>2023-03-01T22:44:56.785Z</td>\n",
       "      <td>3.0000</td>\n",
       "      <td>device_temperature</td>\n",
       "      <td>jzp://edv#0502.0000</td>\n",
       "      <td>c4e93794-9ad1-4e19-a23f-c226cf9db08a</td>\n",
       "      <td>1677710696785</td>\n",
       "      <td>2023-03-01T22:44:56.785Z</td>\n",
       "      <td>0631</td>\n",
       "      <td>235</td>\n",
       "      <td>gasmeter</td>\n",
       "      <td>f08bdf71-daab-4deb-b213-913ae0c408e2</td>\n",
       "    </tr>\n",
       "    <tr>\n",
       "      <th>0</th>\n",
       "      <td>1677710696785</td>\n",
       "      <td>None</td>\n",
       "      <td>V</td>\n",
       "      <td>2023-03-01T22:44:56.785Z</td>\n",
       "      <td>3.0000</td>\n",
       "      <td>battery_level</td>\n",
       "      <td>jzp://edv#0502.0000</td>\n",
       "      <td>c4e93794-9ad1-4e19-a23f-c226cf9db08a</td>\n",
       "      <td>1677710696785</td>\n",
       "      <td>2023-03-01T22:44:56.785Z</td>\n",
       "      <td>0631</td>\n",
       "      <td>235</td>\n",
       "      <td>gasmeter</td>\n",
       "      <td>f08bdf71-daab-4deb-b213-913ae0c408e2</td>\n",
       "    </tr>\n",
       "    <tr>\n",
       "      <th>...</th>\n",
       "      <td>...</td>\n",
       "      <td>...</td>\n",
       "      <td>...</td>\n",
       "      <td>...</td>\n",
       "      <td>...</td>\n",
       "      <td>...</td>\n",
       "      <td>...</td>\n",
       "      <td>...</td>\n",
       "      <td>...</td>\n",
       "      <td>...</td>\n",
       "      <td>...</td>\n",
       "      <td>...</td>\n",
       "      <td>...</td>\n",
       "      <td>...</td>\n",
       "    </tr>\n",
       "    <tr>\n",
       "      <th>492</th>\n",
       "      <td>1678123121571</td>\n",
       "      <td>jzp://coo#ffffffff00000500.0000</td>\n",
       "      <td>dB</td>\n",
       "      <td>2023-03-06T17:18:41.571Z</td>\n",
       "      <td>-41.0000</td>\n",
       "      <td>rssi</td>\n",
       "      <td>jzp://edv#0504.0000</td>\n",
       "      <td>42d1079f-2726-41e6-9e32-366e3ecab200</td>\n",
       "      <td>1678123121571</td>\n",
       "      <td>2023-03-06T17:18:41.571Z</td>\n",
       "      <td>0600</td>\n",
       "      <td>92</td>\n",
       "      <td>environmental</td>\n",
       "      <td>fd5437ce-9be8-4dca-8765-36e3816c7489</td>\n",
       "    </tr>\n",
       "    <tr>\n",
       "      <th>492</th>\n",
       "      <td>1678123121571</td>\n",
       "      <td>None</td>\n",
       "      <td></td>\n",
       "      <td>2023-03-06T17:18:41.571Z</td>\n",
       "      <td>0.0000</td>\n",
       "      <td>position</td>\n",
       "      <td>jzp://edv#0504.0000</td>\n",
       "      <td>42d1079f-2726-41e6-9e32-366e3ecab200</td>\n",
       "      <td>1678123121571</td>\n",
       "      <td>2023-03-06T17:18:41.571Z</td>\n",
       "      <td>0600</td>\n",
       "      <td>92</td>\n",
       "      <td>environmental</td>\n",
       "      <td>fd5437ce-9be8-4dca-8765-36e3816c7489</td>\n",
       "    </tr>\n",
       "    <tr>\n",
       "      <th>492</th>\n",
       "      <td>1678123121571</td>\n",
       "      <td>None</td>\n",
       "      <td>kg/m³</td>\n",
       "      <td>2023-03-06T17:18:41.571Z</td>\n",
       "      <td>0.0000</td>\n",
       "      <td>absolute_humidity</td>\n",
       "      <td>jzp://edv#0504.0000</td>\n",
       "      <td>42d1079f-2726-41e6-9e32-366e3ecab200</td>\n",
       "      <td>1678123121571</td>\n",
       "      <td>2023-03-06T17:18:41.571Z</td>\n",
       "      <td>0600</td>\n",
       "      <td>92</td>\n",
       "      <td>environmental</td>\n",
       "      <td>fd5437ce-9be8-4dca-8765-36e3816c7489</td>\n",
       "    </tr>\n",
       "    <tr>\n",
       "      <th>492</th>\n",
       "      <td>1678123121571</td>\n",
       "      <td>jzp://coo#ffffffff00000500.0000</td>\n",
       "      <td></td>\n",
       "      <td>2023-03-06T17:18:41.571Z</td>\n",
       "      <td>1.0000</td>\n",
       "      <td>coordinator</td>\n",
       "      <td>jzp://edv#0504.0000</td>\n",
       "      <td>42d1079f-2726-41e6-9e32-366e3ecab200</td>\n",
       "      <td>1678123121571</td>\n",
       "      <td>2023-03-06T17:18:41.571Z</td>\n",
       "      <td>0600</td>\n",
       "      <td>92</td>\n",
       "      <td>environmental</td>\n",
       "      <td>fd5437ce-9be8-4dca-8765-36e3816c7489</td>\n",
       "    </tr>\n",
       "    <tr>\n",
       "      <th>492</th>\n",
       "      <td>1678123121571</td>\n",
       "      <td>None</td>\n",
       "      <td>Pa</td>\n",
       "      <td>2023-03-06T17:18:41.571Z</td>\n",
       "      <td>3162.0000</td>\n",
       "      <td>pressure</td>\n",
       "      <td>jzp://edv#0504.0000</td>\n",
       "      <td>42d1079f-2726-41e6-9e32-366e3ecab200</td>\n",
       "      <td>1678123121571</td>\n",
       "      <td>2023-03-06T17:18:41.571Z</td>\n",
       "      <td>0600</td>\n",
       "      <td>92</td>\n",
       "      <td>environmental</td>\n",
       "      <td>fd5437ce-9be8-4dca-8765-36e3816c7489</td>\n",
       "    </tr>\n",
       "  </tbody>\n",
       "</table>\n",
       "<p>4802 rows × 14 columns</p>\n",
       "</div>"
      ],
      "text/plain": [
       "                 t                                d      u  \\\n",
       "0    1677710696785  jzp://coo#ffffffff000004ff.0000          \n",
       "0    1677710696785                             None          \n",
       "0    1677710696785  jzp://coo#ffffffff000004ff.0000     dB   \n",
       "0    1677710696785                             None      ℃   \n",
       "0    1677710696785                             None      V   \n",
       "..             ...                              ...    ...   \n",
       "492  1678123121571  jzp://coo#ffffffff00000500.0000     dB   \n",
       "492  1678123121571                             None          \n",
       "492  1678123121571                             None  kg/m³   \n",
       "492  1678123121571  jzp://coo#ffffffff00000500.0000          \n",
       "492  1678123121571                             None     Pa   \n",
       "\n",
       "                          mtz          v                   k  \\\n",
       "0    2023-03-01T22:44:56.785Z     1.0000         coordinator   \n",
       "0    2023-03-01T22:44:56.785Z   364.9355                 ppm   \n",
       "0    2023-03-01T22:44:56.785Z   -65.4190                rssi   \n",
       "0    2023-03-01T22:44:56.785Z     3.0000  device_temperature   \n",
       "0    2023-03-01T22:44:56.785Z     3.0000       battery_level   \n",
       "..                        ...        ...                 ...   \n",
       "492  2023-03-06T17:18:41.571Z   -41.0000                rssi   \n",
       "492  2023-03-06T17:18:41.571Z     0.0000            position   \n",
       "492  2023-03-06T17:18:41.571Z     0.0000   absolute_humidity   \n",
       "492  2023-03-06T17:18:41.571Z     1.0000         coordinator   \n",
       "492  2023-03-06T17:18:41.571Z  3162.0000            pressure   \n",
       "\n",
       "                     ref                                  cuid              t  \\\n",
       "0    jzp://edv#0502.0000  c4e93794-9ad1-4e19-a23f-c226cf9db08a  1677710696785   \n",
       "0    jzp://edv#0502.0000  c4e93794-9ad1-4e19-a23f-c226cf9db08a  1677710696785   \n",
       "0    jzp://edv#0502.0000  c4e93794-9ad1-4e19-a23f-c226cf9db08a  1677710696785   \n",
       "0    jzp://edv#0502.0000  c4e93794-9ad1-4e19-a23f-c226cf9db08a  1677710696785   \n",
       "0    jzp://edv#0502.0000  c4e93794-9ad1-4e19-a23f-c226cf9db08a  1677710696785   \n",
       "..                   ...                                   ...            ...   \n",
       "492  jzp://edv#0504.0000  42d1079f-2726-41e6-9e32-366e3ecab200  1678123121571   \n",
       "492  jzp://edv#0504.0000  42d1079f-2726-41e6-9e32-366e3ecab200  1678123121571   \n",
       "492  jzp://edv#0504.0000  42d1079f-2726-41e6-9e32-366e3ecab200  1678123121571   \n",
       "492  jzp://edv#0504.0000  42d1079f-2726-41e6-9e32-366e3ecab200  1678123121571   \n",
       "492  jzp://edv#0504.0000  42d1079f-2726-41e6-9e32-366e3ecab200  1678123121571   \n",
       "\n",
       "                           tz   cat   sn           type  \\\n",
       "0    2023-03-01T22:44:56.785Z  0631  235       gasmeter   \n",
       "0    2023-03-01T22:44:56.785Z  0631  235       gasmeter   \n",
       "0    2023-03-01T22:44:56.785Z  0631  235       gasmeter   \n",
       "0    2023-03-01T22:44:56.785Z  0631  235       gasmeter   \n",
       "0    2023-03-01T22:44:56.785Z  0631  235       gasmeter   \n",
       "..                        ...   ...  ...            ...   \n",
       "492  2023-03-06T17:18:41.571Z  0600   92  environmental   \n",
       "492  2023-03-06T17:18:41.571Z  0600   92  environmental   \n",
       "492  2023-03-06T17:18:41.571Z  0600   92  environmental   \n",
       "492  2023-03-06T17:18:41.571Z  0600   92  environmental   \n",
       "492  2023-03-06T17:18:41.571Z  0600   92  environmental   \n",
       "\n",
       "                                     uuid  \n",
       "0    f08bdf71-daab-4deb-b213-913ae0c408e2  \n",
       "0    f08bdf71-daab-4deb-b213-913ae0c408e2  \n",
       "0    f08bdf71-daab-4deb-b213-913ae0c408e2  \n",
       "0    f08bdf71-daab-4deb-b213-913ae0c408e2  \n",
       "0    f08bdf71-daab-4deb-b213-913ae0c408e2  \n",
       "..                                    ...  \n",
       "492  fd5437ce-9be8-4dca-8765-36e3816c7489  \n",
       "492  fd5437ce-9be8-4dca-8765-36e3816c7489  \n",
       "492  fd5437ce-9be8-4dca-8765-36e3816c7489  \n",
       "492  fd5437ce-9be8-4dca-8765-36e3816c7489  \n",
       "492  fd5437ce-9be8-4dca-8765-36e3816c7489  \n",
       "\n",
       "[4802 rows x 14 columns]"
      ]
     },
     "execution_count": 17,
     "metadata": {},
     "output_type": "execute_result"
    }
   ],
   "source": [
    "df=pd.concat([df.m.apply(pd.Series), df.drop('m', axis=1)], axis=1)\n",
    "#sr=df.m.apply(pd.Series)\n",
    "df.rename(columns={0: 't', 1: 'd', 2: 'u',3: 'mtz',4: 'v',5: 'k'}, inplace=True)\n",
    "#dataframe finale\n",
    "df"
   ]
  },
  {
   "cell_type": "markdown",
   "id": "07e48bf5",
   "metadata": {},
   "source": [
    "# Grafico Temperature registrate nel Tempo nei dispositivi Presence"
   ]
  },
  {
   "cell_type": "code",
   "execution_count": 19,
   "id": "2a9020cd",
   "metadata": {},
   "outputs": [
    {
     "data": {
      "application/vnd.plotly.v1+json": {
       "config": {
        "plotlyServerURL": "https://plot.ly"
       },
       "data": [
        {
         "hovertemplate": "tz=%{x}<br>v=%{y}<extra></extra>",
         "legendgroup": "",
         "line": {
          "color": "#636efa",
          "dash": "solid"
         },
         "marker": {
          "symbol": "circle"
         },
         "mode": "lines",
         "name": "",
         "orientation": "v",
         "showlegend": false,
         "type": "scatter",
         "x": [
          "2023-03-01T22:46:00.575000+00:00",
          "2023-03-01T22:46:19.628000+00:00",
          "2023-03-01T22:46:38.682000+00:00",
          "2023-03-01T22:47:02.296000+00:00",
          "2023-03-01T22:49:26.434000+00:00",
          "2023-03-01T22:49:47.382000+00:00",
          "2023-03-01T22:50:14.013000+00:00",
          "2023-03-01T22:50:40.285000+00:00",
          "2023-03-01T22:51:03.023000+00:00",
          "2023-03-01T22:51:24.501000+00:00",
          "2023-03-01T22:51:48.028000+00:00",
          "2023-03-01T22:52:11.807000+00:00",
          "2023-03-01T22:52:36.739000+00:00",
          "2023-03-01T22:52:59.525000+00:00",
          "2023-03-01T22:53:20.365000+00:00",
          "2023-03-01T22:53:44.781000+00:00",
          "2023-03-01T22:54:07.050000+00:00",
          "2023-03-01T22:54:33.801000+00:00",
          "2023-03-01T22:54:54.101000+00:00",
          "2023-03-01T22:55:19.299000+00:00",
          "2023-03-01T22:55:41.140000+00:00",
          "2023-03-01T22:56:06.640000+00:00",
          "2023-03-01T22:56:29.969000+00:00",
          "2023-03-01T22:56:54.680000+00:00",
          "2023-03-01T22:57:19.485000+00:00",
          "2023-03-01T22:57:46.102000+00:00",
          "2023-03-01T22:58:10.348000+00:00",
          "2023-03-01T22:58:34.306000+00:00",
          "2023-03-02T15:53:24.509000+00:00",
          "2023-03-02T15:53:46.516000+00:00",
          "2023-03-02T15:54:06.989000+00:00",
          "2023-03-02T15:54:29.895000+00:00",
          "2023-03-02T15:54:55.723000+00:00",
          "2023-03-02T15:55:21.844000+00:00",
          "2023-03-02T15:55:47.221000+00:00",
          "2023-03-02T15:56:07.042000+00:00",
          "2023-03-02T15:56:29.761000+00:00",
          "2023-03-02T22:40:05.621000+00:00",
          "2023-03-02T22:40:25.749000+00:00",
          "2023-03-02T22:40:52.066000+00:00",
          "2023-03-02T22:41:16.605000+00:00",
          "2023-03-02T22:41:45.184000+00:00",
          "2023-03-02T22:42:10.464000+00:00",
          "2023-03-02T22:42:36.720000+00:00",
          "2023-03-02T22:42:59.792000+00:00",
          "2023-03-02T22:43:23.458000+00:00",
          "2023-03-02T22:43:49.579000+00:00",
          "2023-03-02T22:44:09.892000+00:00",
          "2023-03-02T22:44:32.542000+00:00",
          "2023-03-02T22:44:54.224000+00:00",
          "2023-03-02T22:45:15.014000+00:00",
          "2023-03-02T22:45:39.249000+00:00",
          "2023-03-02T22:47:27.488000+00:00",
          "2023-03-02T22:47:47.930000+00:00",
          "2023-03-02T22:48:09.309000+00:00",
          "2023-03-02T22:48:38.175000+00:00",
          "2023-03-02T22:49:00.119000+00:00",
          "2023-03-03T08:03:08.257000+00:00",
          "2023-03-03T08:03:32.189000+00:00",
          "2023-03-03T08:03:56.017000+00:00",
          "2023-03-03T08:04:17.146000+00:00",
          "2023-03-03T08:04:44.791000+00:00",
          "2023-03-03T08:05:06.864000+00:00",
          "2023-03-03T08:05:33.147000+00:00",
          "2023-03-03T08:05:57.078000+00:00",
          "2023-03-03T08:06:18.481000+00:00",
          "2023-03-03T08:06:43.295000+00:00",
          "2023-03-03T08:07:03.852000+00:00",
          "2023-03-03T08:07:28.653000+00:00",
          "2023-03-03T08:07:49.337000+00:00",
          "2023-03-03T08:08:15.083000+00:00",
          "2023-03-03T08:08:35.834000+00:00",
          "2023-03-03T08:08:59.167000+00:00",
          "2023-03-03T08:09:21.843000+00:00",
          "2023-03-03T08:09:41.009000+00:00",
          "2023-03-03T08:10:02.813000+00:00",
          "2023-03-03T08:10:27.315000+00:00",
          "2023-03-03T08:10:50.765000+00:00",
          "2023-03-03T08:11:09.243000+00:00",
          "2023-03-03T08:11:29.095000+00:00",
          "2023-03-03T08:11:48.817000+00:00",
          "2023-03-03T08:12:14.232000+00:00",
          "2023-03-03T08:12:39.412000+00:00",
          "2023-03-03T08:12:59.807000+00:00",
          "2023-03-03T08:13:19.637000+00:00",
          "2023-03-03T08:13:45.687000+00:00",
          "2023-03-03T08:14:10.840000+00:00",
          "2023-03-03T08:14:35.138000+00:00",
          "2023-03-03T08:15:01.569000+00:00",
          "2023-03-03T08:15:26.151000+00:00",
          "2023-03-03T08:15:50.501000+00:00",
          "2023-03-03T08:16:11.305000+00:00",
          "2023-03-03T08:16:34.457000+00:00",
          "2023-03-06T17:07:24.524000+00:00",
          "2023-03-06T17:07:44.935000+00:00",
          "2023-03-06T17:08:05.320000+00:00",
          "2023-03-06T17:08:26.685000+00:00",
          "2023-03-06T17:08:54.685000+00:00",
          "2023-03-06T17:09:16.563000+00:00",
          "2023-03-06T17:09:39.365000+00:00",
          "2023-03-06T17:10:04.712000+00:00",
          "2023-03-06T17:10:29.429000+00:00",
          "2023-03-06T17:10:55.119000+00:00",
          "2023-03-06T17:11:19.683000+00:00",
          "2023-03-06T17:11:43.825000+00:00",
          "2023-03-06T17:12:06.355000+00:00",
          "2023-03-06T17:12:27.757000+00:00",
          "2023-03-06T17:12:52.831000+00:00",
          "2023-03-06T17:13:18.887000+00:00",
          "2023-03-06T17:13:40.481000+00:00",
          "2023-03-06T17:14:04.687000+00:00",
          "2023-03-06T17:14:26.326000+00:00",
          "2023-03-06T17:14:46.473000+00:00",
          "2023-03-06T17:15:08.095000+00:00",
          "2023-03-06T17:15:31.605000+00:00",
          "2023-03-06T17:15:51.432000+00:00",
          "2023-03-06T17:16:12.032000+00:00",
          "2023-03-06T17:16:30.576000+00:00",
          "2023-03-06T17:16:54.741000+00:00",
          "2023-03-06T17:17:14.615000+00:00",
          "2023-03-06T17:17:41.691000+00:00",
          "2023-03-06T17:18:03.805000+00:00",
          "2023-03-06T17:18:31.978000+00:00"
         ],
         "xaxis": "x",
         "y": [
          22.9454,
          31.1579,
          22.0288,
          26.4075,
          22.3861,
          29.1843,
          4.7547,
          0.6246,
          20.9488,
          28.8055,
          22.8662,
          39.9949,
          6.8433,
          25.0083,
          9.6256,
          39.1978,
          19.8245,
          25.9193,
          23.6378,
          20.1284,
          34.3544,
          10.5995,
          27.8529,
          27.9123,
          24.55,
          23.4907,
          36.3406,
          30.9352,
          13.7726,
          17.6598,
          11.1822,
          21.5534,
          31.2594,
          11.5267,
          15.5612,
          15.964,
          9.0004,
          23.793,
          24.6281,
          12.2973,
          9.1388,
          19.2417,
          9.049,
          1.3223,
          5.0217,
          25.8304,
          3.5177,
          22.5755,
          24.0153,
          28.4003,
          28.1953,
          5.8773,
          37.4573,
          35.953,
          6.2059,
          38.9463,
          31.7242,
          10.7521,
          17.0198,
          34.9859,
          37.6277,
          28.9068,
          34.0388,
          6.7524,
          0.9945,
          14.0107,
          24.2175,
          26.4835,
          4.951,
          1.6263,
          36.6112,
          13.4347,
          14.4548,
          37.617,
          34.6504,
          9.0686,
          9.679,
          16.271,
          30.4297,
          37.848,
          7.6756,
          8.9093,
          30.9154,
          15.9178,
          3.0752,
          18.6559,
          35.6296,
          29.625,
          18.8069,
          1.1537,
          12.2813,
          38.0527,
          37.8582,
          20.1491,
          19.1143,
          9.8393,
          27.395,
          20.5896,
          2.1556,
          39.0507,
          29.4251,
          28.866,
          0.5481,
          38.4301,
          23.9782,
          5.2916,
          9.0121,
          13.2013,
          12.1677,
          3.8199,
          26.4243,
          39.6645,
          34.4598,
          21.3194,
          19.1999,
          29.2034,
          38.9596,
          32.8468,
          21.3314,
          18.881,
          31.5217,
          18.6003,
          9.4367
         ],
         "yaxis": "y"
        },
        {
         "hovertemplate": "tz=%{x}<br>v=%{y}<extra></extra>",
         "legendgroup": "",
         "marker": {
          "color": "red",
          "symbol": "circle"
         },
         "mode": "markers",
         "name": "",
         "orientation": "v",
         "showlegend": false,
         "type": "scatter",
         "x": [
          "2023-03-01T22:46:00.575000+00:00",
          "2023-03-01T22:46:19.628000+00:00",
          "2023-03-01T22:46:38.682000+00:00",
          "2023-03-01T22:47:02.296000+00:00",
          "2023-03-01T22:49:26.434000+00:00",
          "2023-03-01T22:49:47.382000+00:00",
          "2023-03-01T22:50:14.013000+00:00",
          "2023-03-01T22:50:40.285000+00:00",
          "2023-03-01T22:51:03.023000+00:00",
          "2023-03-01T22:51:24.501000+00:00",
          "2023-03-01T22:51:48.028000+00:00",
          "2023-03-01T22:52:11.807000+00:00",
          "2023-03-01T22:52:36.739000+00:00",
          "2023-03-01T22:52:59.525000+00:00",
          "2023-03-01T22:53:20.365000+00:00",
          "2023-03-01T22:53:44.781000+00:00",
          "2023-03-01T22:54:07.050000+00:00",
          "2023-03-01T22:54:33.801000+00:00",
          "2023-03-01T22:54:54.101000+00:00",
          "2023-03-01T22:55:19.299000+00:00",
          "2023-03-01T22:55:41.140000+00:00",
          "2023-03-01T22:56:06.640000+00:00",
          "2023-03-01T22:56:29.969000+00:00",
          "2023-03-01T22:56:54.680000+00:00",
          "2023-03-01T22:57:19.485000+00:00",
          "2023-03-01T22:57:46.102000+00:00",
          "2023-03-01T22:58:10.348000+00:00",
          "2023-03-01T22:58:34.306000+00:00",
          "2023-03-02T15:53:24.509000+00:00",
          "2023-03-02T15:53:46.516000+00:00",
          "2023-03-02T15:54:06.989000+00:00",
          "2023-03-02T15:54:29.895000+00:00",
          "2023-03-02T15:54:55.723000+00:00",
          "2023-03-02T15:55:21.844000+00:00",
          "2023-03-02T15:55:47.221000+00:00",
          "2023-03-02T15:56:07.042000+00:00",
          "2023-03-02T15:56:29.761000+00:00",
          "2023-03-02T22:40:05.621000+00:00",
          "2023-03-02T22:40:25.749000+00:00",
          "2023-03-02T22:40:52.066000+00:00",
          "2023-03-02T22:41:16.605000+00:00",
          "2023-03-02T22:41:45.184000+00:00",
          "2023-03-02T22:42:10.464000+00:00",
          "2023-03-02T22:42:36.720000+00:00",
          "2023-03-02T22:42:59.792000+00:00",
          "2023-03-02T22:43:23.458000+00:00",
          "2023-03-02T22:43:49.579000+00:00",
          "2023-03-02T22:44:09.892000+00:00",
          "2023-03-02T22:44:32.542000+00:00",
          "2023-03-02T22:44:54.224000+00:00",
          "2023-03-02T22:45:15.014000+00:00",
          "2023-03-02T22:45:39.249000+00:00",
          "2023-03-02T22:47:27.488000+00:00",
          "2023-03-02T22:47:47.930000+00:00",
          "2023-03-02T22:48:09.309000+00:00",
          "2023-03-02T22:48:38.175000+00:00",
          "2023-03-02T22:49:00.119000+00:00",
          "2023-03-03T08:03:08.257000+00:00",
          "2023-03-03T08:03:32.189000+00:00",
          "2023-03-03T08:03:56.017000+00:00",
          "2023-03-03T08:04:17.146000+00:00",
          "2023-03-03T08:04:44.791000+00:00",
          "2023-03-03T08:05:06.864000+00:00",
          "2023-03-03T08:05:33.147000+00:00",
          "2023-03-03T08:05:57.078000+00:00",
          "2023-03-03T08:06:18.481000+00:00",
          "2023-03-03T08:06:43.295000+00:00",
          "2023-03-03T08:07:03.852000+00:00",
          "2023-03-03T08:07:28.653000+00:00",
          "2023-03-03T08:07:49.337000+00:00",
          "2023-03-03T08:08:15.083000+00:00",
          "2023-03-03T08:08:35.834000+00:00",
          "2023-03-03T08:08:59.167000+00:00",
          "2023-03-03T08:09:21.843000+00:00",
          "2023-03-03T08:09:41.009000+00:00",
          "2023-03-03T08:10:02.813000+00:00",
          "2023-03-03T08:10:27.315000+00:00",
          "2023-03-03T08:10:50.765000+00:00",
          "2023-03-03T08:11:09.243000+00:00",
          "2023-03-03T08:11:29.095000+00:00",
          "2023-03-03T08:11:48.817000+00:00",
          "2023-03-03T08:12:14.232000+00:00",
          "2023-03-03T08:12:39.412000+00:00",
          "2023-03-03T08:12:59.807000+00:00",
          "2023-03-03T08:13:19.637000+00:00",
          "2023-03-03T08:13:45.687000+00:00",
          "2023-03-03T08:14:10.840000+00:00",
          "2023-03-03T08:14:35.138000+00:00",
          "2023-03-03T08:15:01.569000+00:00",
          "2023-03-03T08:15:26.151000+00:00",
          "2023-03-03T08:15:50.501000+00:00",
          "2023-03-03T08:16:11.305000+00:00",
          "2023-03-03T08:16:34.457000+00:00",
          "2023-03-06T17:07:24.524000+00:00",
          "2023-03-06T17:07:44.935000+00:00",
          "2023-03-06T17:08:05.320000+00:00",
          "2023-03-06T17:08:26.685000+00:00",
          "2023-03-06T17:08:54.685000+00:00",
          "2023-03-06T17:09:16.563000+00:00",
          "2023-03-06T17:09:39.365000+00:00",
          "2023-03-06T17:10:04.712000+00:00",
          "2023-03-06T17:10:29.429000+00:00",
          "2023-03-06T17:10:55.119000+00:00",
          "2023-03-06T17:11:19.683000+00:00",
          "2023-03-06T17:11:43.825000+00:00",
          "2023-03-06T17:12:06.355000+00:00",
          "2023-03-06T17:12:27.757000+00:00",
          "2023-03-06T17:12:52.831000+00:00",
          "2023-03-06T17:13:18.887000+00:00",
          "2023-03-06T17:13:40.481000+00:00",
          "2023-03-06T17:14:04.687000+00:00",
          "2023-03-06T17:14:26.326000+00:00",
          "2023-03-06T17:14:46.473000+00:00",
          "2023-03-06T17:15:08.095000+00:00",
          "2023-03-06T17:15:31.605000+00:00",
          "2023-03-06T17:15:51.432000+00:00",
          "2023-03-06T17:16:12.032000+00:00",
          "2023-03-06T17:16:30.576000+00:00",
          "2023-03-06T17:16:54.741000+00:00",
          "2023-03-06T17:17:14.615000+00:00",
          "2023-03-06T17:17:41.691000+00:00",
          "2023-03-06T17:18:03.805000+00:00",
          "2023-03-06T17:18:31.978000+00:00"
         ],
         "xaxis": "x",
         "y": [
          22.9454,
          31.1579,
          22.0288,
          26.4075,
          22.3861,
          29.1843,
          4.7547,
          0.6246,
          20.9488,
          28.8055,
          22.8662,
          39.9949,
          6.8433,
          25.0083,
          9.6256,
          39.1978,
          19.8245,
          25.9193,
          23.6378,
          20.1284,
          34.3544,
          10.5995,
          27.8529,
          27.9123,
          24.55,
          23.4907,
          36.3406,
          30.9352,
          13.7726,
          17.6598,
          11.1822,
          21.5534,
          31.2594,
          11.5267,
          15.5612,
          15.964,
          9.0004,
          23.793,
          24.6281,
          12.2973,
          9.1388,
          19.2417,
          9.049,
          1.3223,
          5.0217,
          25.8304,
          3.5177,
          22.5755,
          24.0153,
          28.4003,
          28.1953,
          5.8773,
          37.4573,
          35.953,
          6.2059,
          38.9463,
          31.7242,
          10.7521,
          17.0198,
          34.9859,
          37.6277,
          28.9068,
          34.0388,
          6.7524,
          0.9945,
          14.0107,
          24.2175,
          26.4835,
          4.951,
          1.6263,
          36.6112,
          13.4347,
          14.4548,
          37.617,
          34.6504,
          9.0686,
          9.679,
          16.271,
          30.4297,
          37.848,
          7.6756,
          8.9093,
          30.9154,
          15.9178,
          3.0752,
          18.6559,
          35.6296,
          29.625,
          18.8069,
          1.1537,
          12.2813,
          38.0527,
          37.8582,
          20.1491,
          19.1143,
          9.8393,
          27.395,
          20.5896,
          2.1556,
          39.0507,
          29.4251,
          28.866,
          0.5481,
          38.4301,
          23.9782,
          5.2916,
          9.0121,
          13.2013,
          12.1677,
          3.8199,
          26.4243,
          39.6645,
          34.4598,
          21.3194,
          19.1999,
          29.2034,
          38.9596,
          32.8468,
          21.3314,
          18.881,
          31.5217,
          18.6003,
          9.4367
         ],
         "yaxis": "y"
        }
       ],
       "layout": {
        "template": {
         "data": {
          "bar": [
           {
            "error_x": {
             "color": "#2a3f5f"
            },
            "error_y": {
             "color": "#2a3f5f"
            },
            "marker": {
             "line": {
              "color": "#E5ECF6",
              "width": 0.5
             },
             "pattern": {
              "fillmode": "overlay",
              "size": 10,
              "solidity": 0.2
             }
            },
            "type": "bar"
           }
          ],
          "barpolar": [
           {
            "marker": {
             "line": {
              "color": "#E5ECF6",
              "width": 0.5
             },
             "pattern": {
              "fillmode": "overlay",
              "size": 10,
              "solidity": 0.2
             }
            },
            "type": "barpolar"
           }
          ],
          "carpet": [
           {
            "aaxis": {
             "endlinecolor": "#2a3f5f",
             "gridcolor": "white",
             "linecolor": "white",
             "minorgridcolor": "white",
             "startlinecolor": "#2a3f5f"
            },
            "baxis": {
             "endlinecolor": "#2a3f5f",
             "gridcolor": "white",
             "linecolor": "white",
             "minorgridcolor": "white",
             "startlinecolor": "#2a3f5f"
            },
            "type": "carpet"
           }
          ],
          "choropleth": [
           {
            "colorbar": {
             "outlinewidth": 0,
             "ticks": ""
            },
            "type": "choropleth"
           }
          ],
          "contour": [
           {
            "colorbar": {
             "outlinewidth": 0,
             "ticks": ""
            },
            "colorscale": [
             [
              0,
              "#0d0887"
             ],
             [
              0.1111111111111111,
              "#46039f"
             ],
             [
              0.2222222222222222,
              "#7201a8"
             ],
             [
              0.3333333333333333,
              "#9c179e"
             ],
             [
              0.4444444444444444,
              "#bd3786"
             ],
             [
              0.5555555555555556,
              "#d8576b"
             ],
             [
              0.6666666666666666,
              "#ed7953"
             ],
             [
              0.7777777777777778,
              "#fb9f3a"
             ],
             [
              0.8888888888888888,
              "#fdca26"
             ],
             [
              1,
              "#f0f921"
             ]
            ],
            "type": "contour"
           }
          ],
          "contourcarpet": [
           {
            "colorbar": {
             "outlinewidth": 0,
             "ticks": ""
            },
            "type": "contourcarpet"
           }
          ],
          "heatmap": [
           {
            "colorbar": {
             "outlinewidth": 0,
             "ticks": ""
            },
            "colorscale": [
             [
              0,
              "#0d0887"
             ],
             [
              0.1111111111111111,
              "#46039f"
             ],
             [
              0.2222222222222222,
              "#7201a8"
             ],
             [
              0.3333333333333333,
              "#9c179e"
             ],
             [
              0.4444444444444444,
              "#bd3786"
             ],
             [
              0.5555555555555556,
              "#d8576b"
             ],
             [
              0.6666666666666666,
              "#ed7953"
             ],
             [
              0.7777777777777778,
              "#fb9f3a"
             ],
             [
              0.8888888888888888,
              "#fdca26"
             ],
             [
              1,
              "#f0f921"
             ]
            ],
            "type": "heatmap"
           }
          ],
          "heatmapgl": [
           {
            "colorbar": {
             "outlinewidth": 0,
             "ticks": ""
            },
            "colorscale": [
             [
              0,
              "#0d0887"
             ],
             [
              0.1111111111111111,
              "#46039f"
             ],
             [
              0.2222222222222222,
              "#7201a8"
             ],
             [
              0.3333333333333333,
              "#9c179e"
             ],
             [
              0.4444444444444444,
              "#bd3786"
             ],
             [
              0.5555555555555556,
              "#d8576b"
             ],
             [
              0.6666666666666666,
              "#ed7953"
             ],
             [
              0.7777777777777778,
              "#fb9f3a"
             ],
             [
              0.8888888888888888,
              "#fdca26"
             ],
             [
              1,
              "#f0f921"
             ]
            ],
            "type": "heatmapgl"
           }
          ],
          "histogram": [
           {
            "marker": {
             "pattern": {
              "fillmode": "overlay",
              "size": 10,
              "solidity": 0.2
             }
            },
            "type": "histogram"
           }
          ],
          "histogram2d": [
           {
            "colorbar": {
             "outlinewidth": 0,
             "ticks": ""
            },
            "colorscale": [
             [
              0,
              "#0d0887"
             ],
             [
              0.1111111111111111,
              "#46039f"
             ],
             [
              0.2222222222222222,
              "#7201a8"
             ],
             [
              0.3333333333333333,
              "#9c179e"
             ],
             [
              0.4444444444444444,
              "#bd3786"
             ],
             [
              0.5555555555555556,
              "#d8576b"
             ],
             [
              0.6666666666666666,
              "#ed7953"
             ],
             [
              0.7777777777777778,
              "#fb9f3a"
             ],
             [
              0.8888888888888888,
              "#fdca26"
             ],
             [
              1,
              "#f0f921"
             ]
            ],
            "type": "histogram2d"
           }
          ],
          "histogram2dcontour": [
           {
            "colorbar": {
             "outlinewidth": 0,
             "ticks": ""
            },
            "colorscale": [
             [
              0,
              "#0d0887"
             ],
             [
              0.1111111111111111,
              "#46039f"
             ],
             [
              0.2222222222222222,
              "#7201a8"
             ],
             [
              0.3333333333333333,
              "#9c179e"
             ],
             [
              0.4444444444444444,
              "#bd3786"
             ],
             [
              0.5555555555555556,
              "#d8576b"
             ],
             [
              0.6666666666666666,
              "#ed7953"
             ],
             [
              0.7777777777777778,
              "#fb9f3a"
             ],
             [
              0.8888888888888888,
              "#fdca26"
             ],
             [
              1,
              "#f0f921"
             ]
            ],
            "type": "histogram2dcontour"
           }
          ],
          "mesh3d": [
           {
            "colorbar": {
             "outlinewidth": 0,
             "ticks": ""
            },
            "type": "mesh3d"
           }
          ],
          "parcoords": [
           {
            "line": {
             "colorbar": {
              "outlinewidth": 0,
              "ticks": ""
             }
            },
            "type": "parcoords"
           }
          ],
          "pie": [
           {
            "automargin": true,
            "type": "pie"
           }
          ],
          "scatter": [
           {
            "fillpattern": {
             "fillmode": "overlay",
             "size": 10,
             "solidity": 0.2
            },
            "type": "scatter"
           }
          ],
          "scatter3d": [
           {
            "line": {
             "colorbar": {
              "outlinewidth": 0,
              "ticks": ""
             }
            },
            "marker": {
             "colorbar": {
              "outlinewidth": 0,
              "ticks": ""
             }
            },
            "type": "scatter3d"
           }
          ],
          "scattercarpet": [
           {
            "marker": {
             "colorbar": {
              "outlinewidth": 0,
              "ticks": ""
             }
            },
            "type": "scattercarpet"
           }
          ],
          "scattergeo": [
           {
            "marker": {
             "colorbar": {
              "outlinewidth": 0,
              "ticks": ""
             }
            },
            "type": "scattergeo"
           }
          ],
          "scattergl": [
           {
            "marker": {
             "colorbar": {
              "outlinewidth": 0,
              "ticks": ""
             }
            },
            "type": "scattergl"
           }
          ],
          "scattermapbox": [
           {
            "marker": {
             "colorbar": {
              "outlinewidth": 0,
              "ticks": ""
             }
            },
            "type": "scattermapbox"
           }
          ],
          "scatterpolar": [
           {
            "marker": {
             "colorbar": {
              "outlinewidth": 0,
              "ticks": ""
             }
            },
            "type": "scatterpolar"
           }
          ],
          "scatterpolargl": [
           {
            "marker": {
             "colorbar": {
              "outlinewidth": 0,
              "ticks": ""
             }
            },
            "type": "scatterpolargl"
           }
          ],
          "scatterternary": [
           {
            "marker": {
             "colorbar": {
              "outlinewidth": 0,
              "ticks": ""
             }
            },
            "type": "scatterternary"
           }
          ],
          "surface": [
           {
            "colorbar": {
             "outlinewidth": 0,
             "ticks": ""
            },
            "colorscale": [
             [
              0,
              "#0d0887"
             ],
             [
              0.1111111111111111,
              "#46039f"
             ],
             [
              0.2222222222222222,
              "#7201a8"
             ],
             [
              0.3333333333333333,
              "#9c179e"
             ],
             [
              0.4444444444444444,
              "#bd3786"
             ],
             [
              0.5555555555555556,
              "#d8576b"
             ],
             [
              0.6666666666666666,
              "#ed7953"
             ],
             [
              0.7777777777777778,
              "#fb9f3a"
             ],
             [
              0.8888888888888888,
              "#fdca26"
             ],
             [
              1,
              "#f0f921"
             ]
            ],
            "type": "surface"
           }
          ],
          "table": [
           {
            "cells": {
             "fill": {
              "color": "#EBF0F8"
             },
             "line": {
              "color": "white"
             }
            },
            "header": {
             "fill": {
              "color": "#C8D4E3"
             },
             "line": {
              "color": "white"
             }
            },
            "type": "table"
           }
          ]
         },
         "layout": {
          "annotationdefaults": {
           "arrowcolor": "#2a3f5f",
           "arrowhead": 0,
           "arrowwidth": 1
          },
          "autotypenumbers": "strict",
          "coloraxis": {
           "colorbar": {
            "outlinewidth": 0,
            "ticks": ""
           }
          },
          "colorscale": {
           "diverging": [
            [
             0,
             "#8e0152"
            ],
            [
             0.1,
             "#c51b7d"
            ],
            [
             0.2,
             "#de77ae"
            ],
            [
             0.3,
             "#f1b6da"
            ],
            [
             0.4,
             "#fde0ef"
            ],
            [
             0.5,
             "#f7f7f7"
            ],
            [
             0.6,
             "#e6f5d0"
            ],
            [
             0.7,
             "#b8e186"
            ],
            [
             0.8,
             "#7fbc41"
            ],
            [
             0.9,
             "#4d9221"
            ],
            [
             1,
             "#276419"
            ]
           ],
           "sequential": [
            [
             0,
             "#0d0887"
            ],
            [
             0.1111111111111111,
             "#46039f"
            ],
            [
             0.2222222222222222,
             "#7201a8"
            ],
            [
             0.3333333333333333,
             "#9c179e"
            ],
            [
             0.4444444444444444,
             "#bd3786"
            ],
            [
             0.5555555555555556,
             "#d8576b"
            ],
            [
             0.6666666666666666,
             "#ed7953"
            ],
            [
             0.7777777777777778,
             "#fb9f3a"
            ],
            [
             0.8888888888888888,
             "#fdca26"
            ],
            [
             1,
             "#f0f921"
            ]
           ],
           "sequentialminus": [
            [
             0,
             "#0d0887"
            ],
            [
             0.1111111111111111,
             "#46039f"
            ],
            [
             0.2222222222222222,
             "#7201a8"
            ],
            [
             0.3333333333333333,
             "#9c179e"
            ],
            [
             0.4444444444444444,
             "#bd3786"
            ],
            [
             0.5555555555555556,
             "#d8576b"
            ],
            [
             0.6666666666666666,
             "#ed7953"
            ],
            [
             0.7777777777777778,
             "#fb9f3a"
            ],
            [
             0.8888888888888888,
             "#fdca26"
            ],
            [
             1,
             "#f0f921"
            ]
           ]
          },
          "colorway": [
           "#636efa",
           "#EF553B",
           "#00cc96",
           "#ab63fa",
           "#FFA15A",
           "#19d3f3",
           "#FF6692",
           "#B6E880",
           "#FF97FF",
           "#FECB52"
          ],
          "font": {
           "color": "#2a3f5f"
          },
          "geo": {
           "bgcolor": "white",
           "lakecolor": "white",
           "landcolor": "#E5ECF6",
           "showlakes": true,
           "showland": true,
           "subunitcolor": "white"
          },
          "hoverlabel": {
           "align": "left"
          },
          "hovermode": "closest",
          "mapbox": {
           "style": "light"
          },
          "paper_bgcolor": "white",
          "plot_bgcolor": "#E5ECF6",
          "polar": {
           "angularaxis": {
            "gridcolor": "white",
            "linecolor": "white",
            "ticks": ""
           },
           "bgcolor": "#E5ECF6",
           "radialaxis": {
            "gridcolor": "white",
            "linecolor": "white",
            "ticks": ""
           }
          },
          "scene": {
           "xaxis": {
            "backgroundcolor": "#E5ECF6",
            "gridcolor": "white",
            "gridwidth": 2,
            "linecolor": "white",
            "showbackground": true,
            "ticks": "",
            "zerolinecolor": "white"
           },
           "yaxis": {
            "backgroundcolor": "#E5ECF6",
            "gridcolor": "white",
            "gridwidth": 2,
            "linecolor": "white",
            "showbackground": true,
            "ticks": "",
            "zerolinecolor": "white"
           },
           "zaxis": {
            "backgroundcolor": "#E5ECF6",
            "gridcolor": "white",
            "gridwidth": 2,
            "linecolor": "white",
            "showbackground": true,
            "ticks": "",
            "zerolinecolor": "white"
           }
          },
          "shapedefaults": {
           "line": {
            "color": "#2a3f5f"
           }
          },
          "ternary": {
           "aaxis": {
            "gridcolor": "white",
            "linecolor": "white",
            "ticks": ""
           },
           "baxis": {
            "gridcolor": "white",
            "linecolor": "white",
            "ticks": ""
           },
           "bgcolor": "#E5ECF6",
           "caxis": {
            "gridcolor": "white",
            "linecolor": "white",
            "ticks": ""
           }
          },
          "title": {
           "x": 0.05
          },
          "xaxis": {
           "automargin": true,
           "gridcolor": "white",
           "linecolor": "white",
           "ticks": "",
           "title": {
            "standoff": 15
           },
           "zerolinecolor": "white",
           "zerolinewidth": 2
          },
          "yaxis": {
           "automargin": true,
           "gridcolor": "white",
           "linecolor": "white",
           "ticks": "",
           "title": {
            "standoff": 15
           },
           "zerolinecolor": "white",
           "zerolinewidth": 2
          }
         }
        },
        "title": {
         "text": "Andamento temperatura nelle misure dei device_temperature nel tempo"
        },
        "xaxis": {
         "title": {
          "text": "Date"
         }
        },
        "yaxis": {
         "title": {
          "text": "Temperature in Celsius"
         }
        }
       }
      },
      "text/html": [
       "<div>                            <div id=\"07603a57-895a-407d-a571-3175bdbc8511\" class=\"plotly-graph-div\" style=\"height:525px; width:100%;\"></div>            <script type=\"text/javascript\">                require([\"plotly\"], function(Plotly) {                    window.PLOTLYENV=window.PLOTLYENV || {};                                    if (document.getElementById(\"07603a57-895a-407d-a571-3175bdbc8511\")) {                    Plotly.newPlot(                        \"07603a57-895a-407d-a571-3175bdbc8511\",                        [{\"hovertemplate\":\"tz=%{x}<br>v=%{y}<extra></extra>\",\"legendgroup\":\"\",\"line\":{\"color\":\"#636efa\",\"dash\":\"solid\"},\"marker\":{\"symbol\":\"circle\"},\"mode\":\"lines\",\"name\":\"\",\"orientation\":\"v\",\"showlegend\":false,\"x\":[\"2023-03-01T22:46:00.575000+00:00\",\"2023-03-01T22:46:19.628000+00:00\",\"2023-03-01T22:46:38.682000+00:00\",\"2023-03-01T22:47:02.296000+00:00\",\"2023-03-01T22:49:26.434000+00:00\",\"2023-03-01T22:49:47.382000+00:00\",\"2023-03-01T22:50:14.013000+00:00\",\"2023-03-01T22:50:40.285000+00:00\",\"2023-03-01T22:51:03.023000+00:00\",\"2023-03-01T22:51:24.501000+00:00\",\"2023-03-01T22:51:48.028000+00:00\",\"2023-03-01T22:52:11.807000+00:00\",\"2023-03-01T22:52:36.739000+00:00\",\"2023-03-01T22:52:59.525000+00:00\",\"2023-03-01T22:53:20.365000+00:00\",\"2023-03-01T22:53:44.781000+00:00\",\"2023-03-01T22:54:07.050000+00:00\",\"2023-03-01T22:54:33.801000+00:00\",\"2023-03-01T22:54:54.101000+00:00\",\"2023-03-01T22:55:19.299000+00:00\",\"2023-03-01T22:55:41.140000+00:00\",\"2023-03-01T22:56:06.640000+00:00\",\"2023-03-01T22:56:29.969000+00:00\",\"2023-03-01T22:56:54.680000+00:00\",\"2023-03-01T22:57:19.485000+00:00\",\"2023-03-01T22:57:46.102000+00:00\",\"2023-03-01T22:58:10.348000+00:00\",\"2023-03-01T22:58:34.306000+00:00\",\"2023-03-02T15:53:24.509000+00:00\",\"2023-03-02T15:53:46.516000+00:00\",\"2023-03-02T15:54:06.989000+00:00\",\"2023-03-02T15:54:29.895000+00:00\",\"2023-03-02T15:54:55.723000+00:00\",\"2023-03-02T15:55:21.844000+00:00\",\"2023-03-02T15:55:47.221000+00:00\",\"2023-03-02T15:56:07.042000+00:00\",\"2023-03-02T15:56:29.761000+00:00\",\"2023-03-02T22:40:05.621000+00:00\",\"2023-03-02T22:40:25.749000+00:00\",\"2023-03-02T22:40:52.066000+00:00\",\"2023-03-02T22:41:16.605000+00:00\",\"2023-03-02T22:41:45.184000+00:00\",\"2023-03-02T22:42:10.464000+00:00\",\"2023-03-02T22:42:36.720000+00:00\",\"2023-03-02T22:42:59.792000+00:00\",\"2023-03-02T22:43:23.458000+00:00\",\"2023-03-02T22:43:49.579000+00:00\",\"2023-03-02T22:44:09.892000+00:00\",\"2023-03-02T22:44:32.542000+00:00\",\"2023-03-02T22:44:54.224000+00:00\",\"2023-03-02T22:45:15.014000+00:00\",\"2023-03-02T22:45:39.249000+00:00\",\"2023-03-02T22:47:27.488000+00:00\",\"2023-03-02T22:47:47.930000+00:00\",\"2023-03-02T22:48:09.309000+00:00\",\"2023-03-02T22:48:38.175000+00:00\",\"2023-03-02T22:49:00.119000+00:00\",\"2023-03-03T08:03:08.257000+00:00\",\"2023-03-03T08:03:32.189000+00:00\",\"2023-03-03T08:03:56.017000+00:00\",\"2023-03-03T08:04:17.146000+00:00\",\"2023-03-03T08:04:44.791000+00:00\",\"2023-03-03T08:05:06.864000+00:00\",\"2023-03-03T08:05:33.147000+00:00\",\"2023-03-03T08:05:57.078000+00:00\",\"2023-03-03T08:06:18.481000+00:00\",\"2023-03-03T08:06:43.295000+00:00\",\"2023-03-03T08:07:03.852000+00:00\",\"2023-03-03T08:07:28.653000+00:00\",\"2023-03-03T08:07:49.337000+00:00\",\"2023-03-03T08:08:15.083000+00:00\",\"2023-03-03T08:08:35.834000+00:00\",\"2023-03-03T08:08:59.167000+00:00\",\"2023-03-03T08:09:21.843000+00:00\",\"2023-03-03T08:09:41.009000+00:00\",\"2023-03-03T08:10:02.813000+00:00\",\"2023-03-03T08:10:27.315000+00:00\",\"2023-03-03T08:10:50.765000+00:00\",\"2023-03-03T08:11:09.243000+00:00\",\"2023-03-03T08:11:29.095000+00:00\",\"2023-03-03T08:11:48.817000+00:00\",\"2023-03-03T08:12:14.232000+00:00\",\"2023-03-03T08:12:39.412000+00:00\",\"2023-03-03T08:12:59.807000+00:00\",\"2023-03-03T08:13:19.637000+00:00\",\"2023-03-03T08:13:45.687000+00:00\",\"2023-03-03T08:14:10.840000+00:00\",\"2023-03-03T08:14:35.138000+00:00\",\"2023-03-03T08:15:01.569000+00:00\",\"2023-03-03T08:15:26.151000+00:00\",\"2023-03-03T08:15:50.501000+00:00\",\"2023-03-03T08:16:11.305000+00:00\",\"2023-03-03T08:16:34.457000+00:00\",\"2023-03-06T17:07:24.524000+00:00\",\"2023-03-06T17:07:44.935000+00:00\",\"2023-03-06T17:08:05.320000+00:00\",\"2023-03-06T17:08:26.685000+00:00\",\"2023-03-06T17:08:54.685000+00:00\",\"2023-03-06T17:09:16.563000+00:00\",\"2023-03-06T17:09:39.365000+00:00\",\"2023-03-06T17:10:04.712000+00:00\",\"2023-03-06T17:10:29.429000+00:00\",\"2023-03-06T17:10:55.119000+00:00\",\"2023-03-06T17:11:19.683000+00:00\",\"2023-03-06T17:11:43.825000+00:00\",\"2023-03-06T17:12:06.355000+00:00\",\"2023-03-06T17:12:27.757000+00:00\",\"2023-03-06T17:12:52.831000+00:00\",\"2023-03-06T17:13:18.887000+00:00\",\"2023-03-06T17:13:40.481000+00:00\",\"2023-03-06T17:14:04.687000+00:00\",\"2023-03-06T17:14:26.326000+00:00\",\"2023-03-06T17:14:46.473000+00:00\",\"2023-03-06T17:15:08.095000+00:00\",\"2023-03-06T17:15:31.605000+00:00\",\"2023-03-06T17:15:51.432000+00:00\",\"2023-03-06T17:16:12.032000+00:00\",\"2023-03-06T17:16:30.576000+00:00\",\"2023-03-06T17:16:54.741000+00:00\",\"2023-03-06T17:17:14.615000+00:00\",\"2023-03-06T17:17:41.691000+00:00\",\"2023-03-06T17:18:03.805000+00:00\",\"2023-03-06T17:18:31.978000+00:00\"],\"xaxis\":\"x\",\"y\":[22.9454,31.1579,22.0288,26.4075,22.3861,29.1843,4.7547,0.6246,20.9488,28.8055,22.8662,39.9949,6.8433,25.0083,9.6256,39.1978,19.8245,25.9193,23.6378,20.1284,34.3544,10.5995,27.8529,27.9123,24.55,23.4907,36.3406,30.9352,13.7726,17.6598,11.1822,21.5534,31.2594,11.5267,15.5612,15.964,9.0004,23.793,24.6281,12.2973,9.1388,19.2417,9.049,1.3223,5.0217,25.8304,3.5177,22.5755,24.0153,28.4003,28.1953,5.8773,37.4573,35.953,6.2059,38.9463,31.7242,10.7521,17.0198,34.9859,37.6277,28.9068,34.0388,6.7524,0.9945,14.0107,24.2175,26.4835,4.951,1.6263,36.6112,13.4347,14.4548,37.617,34.6504,9.0686,9.679,16.271,30.4297,37.848,7.6756,8.9093,30.9154,15.9178,3.0752,18.6559,35.6296,29.625,18.8069,1.1537,12.2813,38.0527,37.8582,20.1491,19.1143,9.8393,27.395,20.5896,2.1556,39.0507,29.4251,28.866,0.5481,38.4301,23.9782,5.2916,9.0121,13.2013,12.1677,3.8199,26.4243,39.6645,34.4598,21.3194,19.1999,29.2034,38.9596,32.8468,21.3314,18.881,31.5217,18.6003,9.4367],\"yaxis\":\"y\",\"type\":\"scatter\"},{\"hovertemplate\":\"tz=%{x}<br>v=%{y}<extra></extra>\",\"legendgroup\":\"\",\"marker\":{\"color\":\"red\",\"symbol\":\"circle\"},\"mode\":\"markers\",\"name\":\"\",\"orientation\":\"v\",\"showlegend\":false,\"x\":[\"2023-03-01T22:46:00.575000+00:00\",\"2023-03-01T22:46:19.628000+00:00\",\"2023-03-01T22:46:38.682000+00:00\",\"2023-03-01T22:47:02.296000+00:00\",\"2023-03-01T22:49:26.434000+00:00\",\"2023-03-01T22:49:47.382000+00:00\",\"2023-03-01T22:50:14.013000+00:00\",\"2023-03-01T22:50:40.285000+00:00\",\"2023-03-01T22:51:03.023000+00:00\",\"2023-03-01T22:51:24.501000+00:00\",\"2023-03-01T22:51:48.028000+00:00\",\"2023-03-01T22:52:11.807000+00:00\",\"2023-03-01T22:52:36.739000+00:00\",\"2023-03-01T22:52:59.525000+00:00\",\"2023-03-01T22:53:20.365000+00:00\",\"2023-03-01T22:53:44.781000+00:00\",\"2023-03-01T22:54:07.050000+00:00\",\"2023-03-01T22:54:33.801000+00:00\",\"2023-03-01T22:54:54.101000+00:00\",\"2023-03-01T22:55:19.299000+00:00\",\"2023-03-01T22:55:41.140000+00:00\",\"2023-03-01T22:56:06.640000+00:00\",\"2023-03-01T22:56:29.969000+00:00\",\"2023-03-01T22:56:54.680000+00:00\",\"2023-03-01T22:57:19.485000+00:00\",\"2023-03-01T22:57:46.102000+00:00\",\"2023-03-01T22:58:10.348000+00:00\",\"2023-03-01T22:58:34.306000+00:00\",\"2023-03-02T15:53:24.509000+00:00\",\"2023-03-02T15:53:46.516000+00:00\",\"2023-03-02T15:54:06.989000+00:00\",\"2023-03-02T15:54:29.895000+00:00\",\"2023-03-02T15:54:55.723000+00:00\",\"2023-03-02T15:55:21.844000+00:00\",\"2023-03-02T15:55:47.221000+00:00\",\"2023-03-02T15:56:07.042000+00:00\",\"2023-03-02T15:56:29.761000+00:00\",\"2023-03-02T22:40:05.621000+00:00\",\"2023-03-02T22:40:25.749000+00:00\",\"2023-03-02T22:40:52.066000+00:00\",\"2023-03-02T22:41:16.605000+00:00\",\"2023-03-02T22:41:45.184000+00:00\",\"2023-03-02T22:42:10.464000+00:00\",\"2023-03-02T22:42:36.720000+00:00\",\"2023-03-02T22:42:59.792000+00:00\",\"2023-03-02T22:43:23.458000+00:00\",\"2023-03-02T22:43:49.579000+00:00\",\"2023-03-02T22:44:09.892000+00:00\",\"2023-03-02T22:44:32.542000+00:00\",\"2023-03-02T22:44:54.224000+00:00\",\"2023-03-02T22:45:15.014000+00:00\",\"2023-03-02T22:45:39.249000+00:00\",\"2023-03-02T22:47:27.488000+00:00\",\"2023-03-02T22:47:47.930000+00:00\",\"2023-03-02T22:48:09.309000+00:00\",\"2023-03-02T22:48:38.175000+00:00\",\"2023-03-02T22:49:00.119000+00:00\",\"2023-03-03T08:03:08.257000+00:00\",\"2023-03-03T08:03:32.189000+00:00\",\"2023-03-03T08:03:56.017000+00:00\",\"2023-03-03T08:04:17.146000+00:00\",\"2023-03-03T08:04:44.791000+00:00\",\"2023-03-03T08:05:06.864000+00:00\",\"2023-03-03T08:05:33.147000+00:00\",\"2023-03-03T08:05:57.078000+00:00\",\"2023-03-03T08:06:18.481000+00:00\",\"2023-03-03T08:06:43.295000+00:00\",\"2023-03-03T08:07:03.852000+00:00\",\"2023-03-03T08:07:28.653000+00:00\",\"2023-03-03T08:07:49.337000+00:00\",\"2023-03-03T08:08:15.083000+00:00\",\"2023-03-03T08:08:35.834000+00:00\",\"2023-03-03T08:08:59.167000+00:00\",\"2023-03-03T08:09:21.843000+00:00\",\"2023-03-03T08:09:41.009000+00:00\",\"2023-03-03T08:10:02.813000+00:00\",\"2023-03-03T08:10:27.315000+00:00\",\"2023-03-03T08:10:50.765000+00:00\",\"2023-03-03T08:11:09.243000+00:00\",\"2023-03-03T08:11:29.095000+00:00\",\"2023-03-03T08:11:48.817000+00:00\",\"2023-03-03T08:12:14.232000+00:00\",\"2023-03-03T08:12:39.412000+00:00\",\"2023-03-03T08:12:59.807000+00:00\",\"2023-03-03T08:13:19.637000+00:00\",\"2023-03-03T08:13:45.687000+00:00\",\"2023-03-03T08:14:10.840000+00:00\",\"2023-03-03T08:14:35.138000+00:00\",\"2023-03-03T08:15:01.569000+00:00\",\"2023-03-03T08:15:26.151000+00:00\",\"2023-03-03T08:15:50.501000+00:00\",\"2023-03-03T08:16:11.305000+00:00\",\"2023-03-03T08:16:34.457000+00:00\",\"2023-03-06T17:07:24.524000+00:00\",\"2023-03-06T17:07:44.935000+00:00\",\"2023-03-06T17:08:05.320000+00:00\",\"2023-03-06T17:08:26.685000+00:00\",\"2023-03-06T17:08:54.685000+00:00\",\"2023-03-06T17:09:16.563000+00:00\",\"2023-03-06T17:09:39.365000+00:00\",\"2023-03-06T17:10:04.712000+00:00\",\"2023-03-06T17:10:29.429000+00:00\",\"2023-03-06T17:10:55.119000+00:00\",\"2023-03-06T17:11:19.683000+00:00\",\"2023-03-06T17:11:43.825000+00:00\",\"2023-03-06T17:12:06.355000+00:00\",\"2023-03-06T17:12:27.757000+00:00\",\"2023-03-06T17:12:52.831000+00:00\",\"2023-03-06T17:13:18.887000+00:00\",\"2023-03-06T17:13:40.481000+00:00\",\"2023-03-06T17:14:04.687000+00:00\",\"2023-03-06T17:14:26.326000+00:00\",\"2023-03-06T17:14:46.473000+00:00\",\"2023-03-06T17:15:08.095000+00:00\",\"2023-03-06T17:15:31.605000+00:00\",\"2023-03-06T17:15:51.432000+00:00\",\"2023-03-06T17:16:12.032000+00:00\",\"2023-03-06T17:16:30.576000+00:00\",\"2023-03-06T17:16:54.741000+00:00\",\"2023-03-06T17:17:14.615000+00:00\",\"2023-03-06T17:17:41.691000+00:00\",\"2023-03-06T17:18:03.805000+00:00\",\"2023-03-06T17:18:31.978000+00:00\"],\"xaxis\":\"x\",\"y\":[22.9454,31.1579,22.0288,26.4075,22.3861,29.1843,4.7547,0.6246,20.9488,28.8055,22.8662,39.9949,6.8433,25.0083,9.6256,39.1978,19.8245,25.9193,23.6378,20.1284,34.3544,10.5995,27.8529,27.9123,24.55,23.4907,36.3406,30.9352,13.7726,17.6598,11.1822,21.5534,31.2594,11.5267,15.5612,15.964,9.0004,23.793,24.6281,12.2973,9.1388,19.2417,9.049,1.3223,5.0217,25.8304,3.5177,22.5755,24.0153,28.4003,28.1953,5.8773,37.4573,35.953,6.2059,38.9463,31.7242,10.7521,17.0198,34.9859,37.6277,28.9068,34.0388,6.7524,0.9945,14.0107,24.2175,26.4835,4.951,1.6263,36.6112,13.4347,14.4548,37.617,34.6504,9.0686,9.679,16.271,30.4297,37.848,7.6756,8.9093,30.9154,15.9178,3.0752,18.6559,35.6296,29.625,18.8069,1.1537,12.2813,38.0527,37.8582,20.1491,19.1143,9.8393,27.395,20.5896,2.1556,39.0507,29.4251,28.866,0.5481,38.4301,23.9782,5.2916,9.0121,13.2013,12.1677,3.8199,26.4243,39.6645,34.4598,21.3194,19.1999,29.2034,38.9596,32.8468,21.3314,18.881,31.5217,18.6003,9.4367],\"yaxis\":\"y\",\"type\":\"scatter\"}],                        {\"template\":{\"data\":{\"histogram2dcontour\":[{\"type\":\"histogram2dcontour\",\"colorbar\":{\"outlinewidth\":0,\"ticks\":\"\"},\"colorscale\":[[0.0,\"#0d0887\"],[0.1111111111111111,\"#46039f\"],[0.2222222222222222,\"#7201a8\"],[0.3333333333333333,\"#9c179e\"],[0.4444444444444444,\"#bd3786\"],[0.5555555555555556,\"#d8576b\"],[0.6666666666666666,\"#ed7953\"],[0.7777777777777778,\"#fb9f3a\"],[0.8888888888888888,\"#fdca26\"],[1.0,\"#f0f921\"]]}],\"choropleth\":[{\"type\":\"choropleth\",\"colorbar\":{\"outlinewidth\":0,\"ticks\":\"\"}}],\"histogram2d\":[{\"type\":\"histogram2d\",\"colorbar\":{\"outlinewidth\":0,\"ticks\":\"\"},\"colorscale\":[[0.0,\"#0d0887\"],[0.1111111111111111,\"#46039f\"],[0.2222222222222222,\"#7201a8\"],[0.3333333333333333,\"#9c179e\"],[0.4444444444444444,\"#bd3786\"],[0.5555555555555556,\"#d8576b\"],[0.6666666666666666,\"#ed7953\"],[0.7777777777777778,\"#fb9f3a\"],[0.8888888888888888,\"#fdca26\"],[1.0,\"#f0f921\"]]}],\"heatmap\":[{\"type\":\"heatmap\",\"colorbar\":{\"outlinewidth\":0,\"ticks\":\"\"},\"colorscale\":[[0.0,\"#0d0887\"],[0.1111111111111111,\"#46039f\"],[0.2222222222222222,\"#7201a8\"],[0.3333333333333333,\"#9c179e\"],[0.4444444444444444,\"#bd3786\"],[0.5555555555555556,\"#d8576b\"],[0.6666666666666666,\"#ed7953\"],[0.7777777777777778,\"#fb9f3a\"],[0.8888888888888888,\"#fdca26\"],[1.0,\"#f0f921\"]]}],\"heatmapgl\":[{\"type\":\"heatmapgl\",\"colorbar\":{\"outlinewidth\":0,\"ticks\":\"\"},\"colorscale\":[[0.0,\"#0d0887\"],[0.1111111111111111,\"#46039f\"],[0.2222222222222222,\"#7201a8\"],[0.3333333333333333,\"#9c179e\"],[0.4444444444444444,\"#bd3786\"],[0.5555555555555556,\"#d8576b\"],[0.6666666666666666,\"#ed7953\"],[0.7777777777777778,\"#fb9f3a\"],[0.8888888888888888,\"#fdca26\"],[1.0,\"#f0f921\"]]}],\"contourcarpet\":[{\"type\":\"contourcarpet\",\"colorbar\":{\"outlinewidth\":0,\"ticks\":\"\"}}],\"contour\":[{\"type\":\"contour\",\"colorbar\":{\"outlinewidth\":0,\"ticks\":\"\"},\"colorscale\":[[0.0,\"#0d0887\"],[0.1111111111111111,\"#46039f\"],[0.2222222222222222,\"#7201a8\"],[0.3333333333333333,\"#9c179e\"],[0.4444444444444444,\"#bd3786\"],[0.5555555555555556,\"#d8576b\"],[0.6666666666666666,\"#ed7953\"],[0.7777777777777778,\"#fb9f3a\"],[0.8888888888888888,\"#fdca26\"],[1.0,\"#f0f921\"]]}],\"surface\":[{\"type\":\"surface\",\"colorbar\":{\"outlinewidth\":0,\"ticks\":\"\"},\"colorscale\":[[0.0,\"#0d0887\"],[0.1111111111111111,\"#46039f\"],[0.2222222222222222,\"#7201a8\"],[0.3333333333333333,\"#9c179e\"],[0.4444444444444444,\"#bd3786\"],[0.5555555555555556,\"#d8576b\"],[0.6666666666666666,\"#ed7953\"],[0.7777777777777778,\"#fb9f3a\"],[0.8888888888888888,\"#fdca26\"],[1.0,\"#f0f921\"]]}],\"mesh3d\":[{\"type\":\"mesh3d\",\"colorbar\":{\"outlinewidth\":0,\"ticks\":\"\"}}],\"scatter\":[{\"fillpattern\":{\"fillmode\":\"overlay\",\"size\":10,\"solidity\":0.2},\"type\":\"scatter\"}],\"parcoords\":[{\"type\":\"parcoords\",\"line\":{\"colorbar\":{\"outlinewidth\":0,\"ticks\":\"\"}}}],\"scatterpolargl\":[{\"type\":\"scatterpolargl\",\"marker\":{\"colorbar\":{\"outlinewidth\":0,\"ticks\":\"\"}}}],\"bar\":[{\"error_x\":{\"color\":\"#2a3f5f\"},\"error_y\":{\"color\":\"#2a3f5f\"},\"marker\":{\"line\":{\"color\":\"#E5ECF6\",\"width\":0.5},\"pattern\":{\"fillmode\":\"overlay\",\"size\":10,\"solidity\":0.2}},\"type\":\"bar\"}],\"scattergeo\":[{\"type\":\"scattergeo\",\"marker\":{\"colorbar\":{\"outlinewidth\":0,\"ticks\":\"\"}}}],\"scatterpolar\":[{\"type\":\"scatterpolar\",\"marker\":{\"colorbar\":{\"outlinewidth\":0,\"ticks\":\"\"}}}],\"histogram\":[{\"marker\":{\"pattern\":{\"fillmode\":\"overlay\",\"size\":10,\"solidity\":0.2}},\"type\":\"histogram\"}],\"scattergl\":[{\"type\":\"scattergl\",\"marker\":{\"colorbar\":{\"outlinewidth\":0,\"ticks\":\"\"}}}],\"scatter3d\":[{\"type\":\"scatter3d\",\"line\":{\"colorbar\":{\"outlinewidth\":0,\"ticks\":\"\"}},\"marker\":{\"colorbar\":{\"outlinewidth\":0,\"ticks\":\"\"}}}],\"scattermapbox\":[{\"type\":\"scattermapbox\",\"marker\":{\"colorbar\":{\"outlinewidth\":0,\"ticks\":\"\"}}}],\"scatterternary\":[{\"type\":\"scatterternary\",\"marker\":{\"colorbar\":{\"outlinewidth\":0,\"ticks\":\"\"}}}],\"scattercarpet\":[{\"type\":\"scattercarpet\",\"marker\":{\"colorbar\":{\"outlinewidth\":0,\"ticks\":\"\"}}}],\"carpet\":[{\"aaxis\":{\"endlinecolor\":\"#2a3f5f\",\"gridcolor\":\"white\",\"linecolor\":\"white\",\"minorgridcolor\":\"white\",\"startlinecolor\":\"#2a3f5f\"},\"baxis\":{\"endlinecolor\":\"#2a3f5f\",\"gridcolor\":\"white\",\"linecolor\":\"white\",\"minorgridcolor\":\"white\",\"startlinecolor\":\"#2a3f5f\"},\"type\":\"carpet\"}],\"table\":[{\"cells\":{\"fill\":{\"color\":\"#EBF0F8\"},\"line\":{\"color\":\"white\"}},\"header\":{\"fill\":{\"color\":\"#C8D4E3\"},\"line\":{\"color\":\"white\"}},\"type\":\"table\"}],\"barpolar\":[{\"marker\":{\"line\":{\"color\":\"#E5ECF6\",\"width\":0.5},\"pattern\":{\"fillmode\":\"overlay\",\"size\":10,\"solidity\":0.2}},\"type\":\"barpolar\"}],\"pie\":[{\"automargin\":true,\"type\":\"pie\"}]},\"layout\":{\"autotypenumbers\":\"strict\",\"colorway\":[\"#636efa\",\"#EF553B\",\"#00cc96\",\"#ab63fa\",\"#FFA15A\",\"#19d3f3\",\"#FF6692\",\"#B6E880\",\"#FF97FF\",\"#FECB52\"],\"font\":{\"color\":\"#2a3f5f\"},\"hovermode\":\"closest\",\"hoverlabel\":{\"align\":\"left\"},\"paper_bgcolor\":\"white\",\"plot_bgcolor\":\"#E5ECF6\",\"polar\":{\"bgcolor\":\"#E5ECF6\",\"angularaxis\":{\"gridcolor\":\"white\",\"linecolor\":\"white\",\"ticks\":\"\"},\"radialaxis\":{\"gridcolor\":\"white\",\"linecolor\":\"white\",\"ticks\":\"\"}},\"ternary\":{\"bgcolor\":\"#E5ECF6\",\"aaxis\":{\"gridcolor\":\"white\",\"linecolor\":\"white\",\"ticks\":\"\"},\"baxis\":{\"gridcolor\":\"white\",\"linecolor\":\"white\",\"ticks\":\"\"},\"caxis\":{\"gridcolor\":\"white\",\"linecolor\":\"white\",\"ticks\":\"\"}},\"coloraxis\":{\"colorbar\":{\"outlinewidth\":0,\"ticks\":\"\"}},\"colorscale\":{\"sequential\":[[0.0,\"#0d0887\"],[0.1111111111111111,\"#46039f\"],[0.2222222222222222,\"#7201a8\"],[0.3333333333333333,\"#9c179e\"],[0.4444444444444444,\"#bd3786\"],[0.5555555555555556,\"#d8576b\"],[0.6666666666666666,\"#ed7953\"],[0.7777777777777778,\"#fb9f3a\"],[0.8888888888888888,\"#fdca26\"],[1.0,\"#f0f921\"]],\"sequentialminus\":[[0.0,\"#0d0887\"],[0.1111111111111111,\"#46039f\"],[0.2222222222222222,\"#7201a8\"],[0.3333333333333333,\"#9c179e\"],[0.4444444444444444,\"#bd3786\"],[0.5555555555555556,\"#d8576b\"],[0.6666666666666666,\"#ed7953\"],[0.7777777777777778,\"#fb9f3a\"],[0.8888888888888888,\"#fdca26\"],[1.0,\"#f0f921\"]],\"diverging\":[[0,\"#8e0152\"],[0.1,\"#c51b7d\"],[0.2,\"#de77ae\"],[0.3,\"#f1b6da\"],[0.4,\"#fde0ef\"],[0.5,\"#f7f7f7\"],[0.6,\"#e6f5d0\"],[0.7,\"#b8e186\"],[0.8,\"#7fbc41\"],[0.9,\"#4d9221\"],[1,\"#276419\"]]},\"xaxis\":{\"gridcolor\":\"white\",\"linecolor\":\"white\",\"ticks\":\"\",\"title\":{\"standoff\":15},\"zerolinecolor\":\"white\",\"automargin\":true,\"zerolinewidth\":2},\"yaxis\":{\"gridcolor\":\"white\",\"linecolor\":\"white\",\"ticks\":\"\",\"title\":{\"standoff\":15},\"zerolinecolor\":\"white\",\"automargin\":true,\"zerolinewidth\":2},\"scene\":{\"xaxis\":{\"backgroundcolor\":\"#E5ECF6\",\"gridcolor\":\"white\",\"linecolor\":\"white\",\"showbackground\":true,\"ticks\":\"\",\"zerolinecolor\":\"white\",\"gridwidth\":2},\"yaxis\":{\"backgroundcolor\":\"#E5ECF6\",\"gridcolor\":\"white\",\"linecolor\":\"white\",\"showbackground\":true,\"ticks\":\"\",\"zerolinecolor\":\"white\",\"gridwidth\":2},\"zaxis\":{\"backgroundcolor\":\"#E5ECF6\",\"gridcolor\":\"white\",\"linecolor\":\"white\",\"showbackground\":true,\"ticks\":\"\",\"zerolinecolor\":\"white\",\"gridwidth\":2}},\"shapedefaults\":{\"line\":{\"color\":\"#2a3f5f\"}},\"annotationdefaults\":{\"arrowcolor\":\"#2a3f5f\",\"arrowhead\":0,\"arrowwidth\":1},\"geo\":{\"bgcolor\":\"white\",\"landcolor\":\"#E5ECF6\",\"subunitcolor\":\"white\",\"showland\":true,\"showlakes\":true,\"lakecolor\":\"white\"},\"title\":{\"x\":0.05},\"mapbox\":{\"style\":\"light\"}}},\"xaxis\":{\"title\":{\"text\":\"Date\"}},\"yaxis\":{\"title\":{\"text\":\"Temperature in Celsius\"}},\"title\":{\"text\":\"Andamento temperatura nelle misure dei device_temperature nel tempo\"}},                        {\"responsive\": true}                    ).then(function(){\n",
       "                            \n",
       "var gd = document.getElementById('07603a57-895a-407d-a571-3175bdbc8511');\n",
       "var x = new MutationObserver(function (mutations, observer) {{\n",
       "        var display = window.getComputedStyle(gd).display;\n",
       "        if (!display || display === 'none') {{\n",
       "            console.log([gd, 'removed!']);\n",
       "            Plotly.purge(gd);\n",
       "            observer.disconnect();\n",
       "        }}\n",
       "}});\n",
       "\n",
       "// Listen for the removal of the full notebook cells\n",
       "var notebookContainer = gd.closest('#notebook-container');\n",
       "if (notebookContainer) {{\n",
       "    x.observe(notebookContainer, {childList: true});\n",
       "}}\n",
       "\n",
       "// Listen for the clearing of the current output cell\n",
       "var outputEl = gd.closest('.output');\n",
       "if (outputEl) {{\n",
       "    x.observe(outputEl, {childList: true});\n",
       "}}\n",
       "\n",
       "                        })                };                });            </script>        </div>"
      ]
     },
     "metadata": {},
     "output_type": "display_data"
    }
   ],
   "source": [
    "import plotly.express as px\n",
    "import plotly.graph_objects as go\n",
    "from datetime import datetime\n",
    "df1=df.loc[df['type']=='presence']\n",
    "df1=df1.loc[df1['k']=='device_temperature']\n",
    "df1['tz'] = pd.to_datetime(df1['tz'])\n",
    "fig = px.line(df1, x=\"tz\", y=\"v\")\n",
    "fig2 = px.scatter(df1, x=\"tz\", y=\"v\", color_discrete_sequence=['red'])\n",
    "fig3 = go.Figure(data=fig.data + fig2.data)\n",
    "fig3.update_layout(xaxis_title=\"Date\", \n",
    "                   yaxis_title=\"Temperature in Celsius\",\n",
    "                   title='Andamento temperatura nelle misure dei device_temperature nel tempo'\n",
    "                  )\n",
    "fig3.show()"
   ]
  },
  {
   "cell_type": "markdown",
   "id": "333dabc2",
   "metadata": {},
   "source": [
    "# Grafico Livello Batteria registrato nel Tempo nei dispositivi di tipo Luxmeter"
   ]
  },
  {
   "cell_type": "code",
   "execution_count": 20,
   "id": "33de3d92",
   "metadata": {},
   "outputs": [
    {
     "data": {
      "application/vnd.plotly.v1+json": {
       "config": {
        "plotlyServerURL": "https://plot.ly"
       },
       "data": [
        {
         "hovertemplate": "tz=%{x}<br>v=%{y}<extra></extra>",
         "legendgroup": "",
         "line": {
          "color": "#636efa",
          "dash": "solid"
         },
         "marker": {
          "symbol": "circle"
         },
         "mode": "lines",
         "name": "",
         "orientation": "v",
         "showlegend": false,
         "type": "scatter",
         "x": [
          "2023-03-01T22:45:20.808000+00:00",
          "2023-03-01T22:45:46.342000+00:00",
          "2023-03-01T22:46:06.376000+00:00",
          "2023-03-01T22:46:24.272000+00:00",
          "2023-03-01T22:46:44.605000+00:00",
          "2023-03-01T22:49:32.576000+00:00",
          "2023-03-01T22:49:53.581000+00:00",
          "2023-03-01T22:50:21.665000+00:00",
          "2023-03-01T22:50:47.519000+00:00",
          "2023-03-01T22:51:09.116000+00:00",
          "2023-03-01T22:51:29.709000+00:00",
          "2023-03-01T22:51:54.653000+00:00",
          "2023-03-01T22:52:17.699000+00:00",
          "2023-03-01T22:52:42.261000+00:00",
          "2023-03-01T22:53:04.510000+00:00",
          "2023-03-01T22:53:27.623000+00:00",
          "2023-03-01T22:53:49.757000+00:00",
          "2023-03-01T22:54:12.728000+00:00",
          "2023-03-01T22:54:39.158000+00:00",
          "2023-03-01T22:54:59.612000+00:00",
          "2023-03-01T22:55:24.803000+00:00",
          "2023-03-01T22:55:48.086000+00:00",
          "2023-03-01T22:56:13.103000+00:00",
          "2023-03-01T22:56:35.788000+00:00",
          "2023-03-01T22:57:01.205000+00:00",
          "2023-03-01T22:57:26.445000+00:00",
          "2023-03-01T22:57:52.550000+00:00",
          "2023-03-01T22:58:15.816000+00:00",
          "2023-03-01T22:58:41.547000+00:00",
          "2023-03-02T15:53:29.758000+00:00",
          "2023-03-02T15:53:52.156000+00:00",
          "2023-03-02T15:54:13.938000+00:00",
          "2023-03-02T15:54:35.614000+00:00",
          "2023-03-02T15:55:01.116000+00:00",
          "2023-03-02T15:55:29.358000+00:00",
          "2023-03-02T15:55:52.851000+00:00",
          "2023-03-02T15:56:12.430000+00:00",
          "2023-03-02T15:56:35.897000+00:00",
          "2023-03-02T22:40:11.354000+00:00",
          "2023-03-02T22:40:31.348000+00:00",
          "2023-03-02T22:40:59.424000+00:00",
          "2023-03-02T22:41:24.328000+00:00",
          "2023-03-02T22:41:49.487000+00:00",
          "2023-03-02T22:42:16.605000+00:00",
          "2023-03-02T22:42:44.077000+00:00",
          "2023-03-02T22:43:07.079000+00:00",
          "2023-03-02T22:43:29.304000+00:00",
          "2023-03-02T22:43:54.548000+00:00",
          "2023-03-02T22:44:14.784000+00:00",
          "2023-03-02T22:44:39.769000+00:00",
          "2023-03-02T22:45:00.253000+00:00",
          "2023-03-02T22:47:10.075000+00:00",
          "2023-03-02T22:47:32.752000+00:00",
          "2023-03-02T22:47:55.489000+00:00",
          "2023-03-02T22:48:16.205000+00:00",
          "2023-03-02T22:48:45.001000+00:00",
          "2023-03-02T22:49:07.221000+00:00",
          "2023-03-03T08:03:14.557000+00:00",
          "2023-03-03T08:03:37.252000+00:00",
          "2023-03-03T08:04:01.392000+00:00",
          "2023-03-03T08:04:24.534000+00:00",
          "2023-03-03T08:04:52.051000+00:00",
          "2023-03-03T08:05:13.768000+00:00",
          "2023-03-03T08:05:38.492000+00:00",
          "2023-03-03T08:06:03.443000+00:00",
          "2023-03-03T08:06:25.560000+00:00",
          "2023-03-03T08:06:50.557000+00:00",
          "2023-03-03T08:07:11.057000+00:00",
          "2023-03-03T08:07:33.987000+00:00",
          "2023-03-03T08:07:54.195000+00:00",
          "2023-03-03T08:08:21.750000+00:00",
          "2023-03-03T08:08:42.216000+00:00",
          "2023-03-03T08:09:04.897000+00:00",
          "2023-03-03T08:09:26.604000+00:00",
          "2023-03-03T08:09:48.324000+00:00",
          "2023-03-03T08:10:08.830000+00:00",
          "2023-03-03T08:10:33.134000+00:00",
          "2023-03-03T08:10:56.121000+00:00",
          "2023-03-03T08:11:15.112000+00:00",
          "2023-03-03T08:11:34.117000+00:00",
          "2023-03-03T08:11:54.942000+00:00",
          "2023-03-03T08:12:20.383000+00:00",
          "2023-03-03T08:12:45.570000+00:00",
          "2023-03-03T08:13:06.873000+00:00",
          "2023-03-03T08:13:24.995000+00:00",
          "2023-03-03T08:13:53.510000+00:00",
          "2023-03-03T08:14:16.319000+00:00",
          "2023-03-03T08:14:41.941000+00:00",
          "2023-03-03T08:15:07.303000+00:00",
          "2023-03-03T08:15:31.491000+00:00",
          "2023-03-03T08:15:57.595000+00:00",
          "2023-03-03T08:16:18.180000+00:00",
          "2023-03-06T17:07:04.691000+00:00",
          "2023-03-06T17:07:30.550000+00:00",
          "2023-03-06T17:07:50.897000+00:00",
          "2023-03-06T17:08:11.461000+00:00",
          "2023-03-06T17:08:33.582000+00:00",
          "2023-03-06T17:09:01.118000+00:00",
          "2023-03-06T17:09:22.603000+00:00",
          "2023-03-06T17:09:44.535000+00:00",
          "2023-03-06T17:10:11.406000+00:00",
          "2023-03-06T17:10:34.717000+00:00",
          "2023-03-06T17:11:00.624000+00:00",
          "2023-03-06T17:11:24.754000+00:00",
          "2023-03-06T17:11:50.099000+00:00",
          "2023-03-06T17:12:12.055000+00:00",
          "2023-03-06T17:12:34.843000+00:00",
          "2023-03-06T17:12:58.520000+00:00",
          "2023-03-06T17:13:25.541000+00:00",
          "2023-03-06T17:13:45.343000+00:00",
          "2023-03-06T17:14:11.866000+00:00",
          "2023-03-06T17:14:32.853000+00:00",
          "2023-03-06T17:14:51.931000+00:00",
          "2023-03-06T17:15:14.953000+00:00",
          "2023-03-06T17:15:37.232000+00:00",
          "2023-03-06T17:15:57.714000+00:00",
          "2023-03-06T17:16:16.268000+00:00",
          "2023-03-06T17:16:35.746000+00:00",
          "2023-03-06T17:17:00.950000+00:00",
          "2023-03-06T17:17:21.709000+00:00",
          "2023-03-06T17:17:47.323000+00:00",
          "2023-03-06T17:18:11.210000+00:00",
          "2023-03-06T17:18:38.187000+00:00"
         ],
         "xaxis": "x",
         "y": [
          3.4611,
          3.468,
          3.3772,
          3.5193,
          3.2845,
          3.3775,
          3.4536,
          3.2618,
          3.5107,
          3.3117,
          3.5341,
          3.5033,
          3.4648,
          3.4037,
          3.494,
          3.4835,
          3.3454,
          3.4306,
          3.5262,
          3.3586,
          3.4379,
          3.4635,
          3.4331,
          3.5217,
          3.4251,
          3.2627,
          3.3146,
          3.5346,
          3.2752,
          3.532,
          3.4852,
          3.5356,
          3.361,
          3.3626,
          3.3676,
          3.3163,
          3.3219,
          3.3796,
          3.344,
          3.4235,
          3.5551,
          3.4991,
          3.2849,
          3.3109,
          3.4573,
          3.5291,
          3.4055,
          3.4575,
          3.3353,
          3.5071,
          3.4777,
          3.3271,
          3.3468,
          3.2729,
          3.3302,
          3.4202,
          3.461,
          3.314,
          3.3099,
          3.4121,
          3.4271,
          3.4803,
          3.4066,
          3.3394,
          3.3713,
          3.5121,
          3.3015,
          3.5129,
          3.431,
          3.5244,
          3.3864,
          3.337,
          3.3938,
          3.4455,
          3.4918,
          3.3898,
          3.4407,
          3.4139,
          3.354,
          3.3067,
          3.4163,
          3.4164,
          3.439,
          3.2781,
          3.4045,
          3.4235,
          3.303,
          3.4968,
          3.4871,
          3.3763,
          3.2951,
          3.5035,
          3.4054,
          3.4447,
          3.3099,
          3.5461,
          3.4414,
          3.4996,
          3.2777,
          3.4601,
          3.5132,
          3.3226,
          3.491,
          3.2767,
          3.4984,
          3.3936,
          3.3119,
          3.3416,
          3.4869,
          3.5324,
          3.3925,
          3.3435,
          3.3889,
          3.4504,
          3.3156,
          3.5044,
          3.387,
          3.3785,
          3.2947,
          3.4559,
          3.3575,
          3.2729,
          3.3995
         ],
         "yaxis": "y"
        },
        {
         "hovertemplate": "tz=%{x}<br>v=%{y}<extra></extra>",
         "legendgroup": "",
         "marker": {
          "color": "red",
          "symbol": "circle"
         },
         "mode": "markers",
         "name": "",
         "orientation": "v",
         "showlegend": false,
         "type": "scatter",
         "x": [
          "2023-03-01T22:45:20.808000+00:00",
          "2023-03-01T22:45:46.342000+00:00",
          "2023-03-01T22:46:06.376000+00:00",
          "2023-03-01T22:46:24.272000+00:00",
          "2023-03-01T22:46:44.605000+00:00",
          "2023-03-01T22:49:32.576000+00:00",
          "2023-03-01T22:49:53.581000+00:00",
          "2023-03-01T22:50:21.665000+00:00",
          "2023-03-01T22:50:47.519000+00:00",
          "2023-03-01T22:51:09.116000+00:00",
          "2023-03-01T22:51:29.709000+00:00",
          "2023-03-01T22:51:54.653000+00:00",
          "2023-03-01T22:52:17.699000+00:00",
          "2023-03-01T22:52:42.261000+00:00",
          "2023-03-01T22:53:04.510000+00:00",
          "2023-03-01T22:53:27.623000+00:00",
          "2023-03-01T22:53:49.757000+00:00",
          "2023-03-01T22:54:12.728000+00:00",
          "2023-03-01T22:54:39.158000+00:00",
          "2023-03-01T22:54:59.612000+00:00",
          "2023-03-01T22:55:24.803000+00:00",
          "2023-03-01T22:55:48.086000+00:00",
          "2023-03-01T22:56:13.103000+00:00",
          "2023-03-01T22:56:35.788000+00:00",
          "2023-03-01T22:57:01.205000+00:00",
          "2023-03-01T22:57:26.445000+00:00",
          "2023-03-01T22:57:52.550000+00:00",
          "2023-03-01T22:58:15.816000+00:00",
          "2023-03-01T22:58:41.547000+00:00",
          "2023-03-02T15:53:29.758000+00:00",
          "2023-03-02T15:53:52.156000+00:00",
          "2023-03-02T15:54:13.938000+00:00",
          "2023-03-02T15:54:35.614000+00:00",
          "2023-03-02T15:55:01.116000+00:00",
          "2023-03-02T15:55:29.358000+00:00",
          "2023-03-02T15:55:52.851000+00:00",
          "2023-03-02T15:56:12.430000+00:00",
          "2023-03-02T15:56:35.897000+00:00",
          "2023-03-02T22:40:11.354000+00:00",
          "2023-03-02T22:40:31.348000+00:00",
          "2023-03-02T22:40:59.424000+00:00",
          "2023-03-02T22:41:24.328000+00:00",
          "2023-03-02T22:41:49.487000+00:00",
          "2023-03-02T22:42:16.605000+00:00",
          "2023-03-02T22:42:44.077000+00:00",
          "2023-03-02T22:43:07.079000+00:00",
          "2023-03-02T22:43:29.304000+00:00",
          "2023-03-02T22:43:54.548000+00:00",
          "2023-03-02T22:44:14.784000+00:00",
          "2023-03-02T22:44:39.769000+00:00",
          "2023-03-02T22:45:00.253000+00:00",
          "2023-03-02T22:47:10.075000+00:00",
          "2023-03-02T22:47:32.752000+00:00",
          "2023-03-02T22:47:55.489000+00:00",
          "2023-03-02T22:48:16.205000+00:00",
          "2023-03-02T22:48:45.001000+00:00",
          "2023-03-02T22:49:07.221000+00:00",
          "2023-03-03T08:03:14.557000+00:00",
          "2023-03-03T08:03:37.252000+00:00",
          "2023-03-03T08:04:01.392000+00:00",
          "2023-03-03T08:04:24.534000+00:00",
          "2023-03-03T08:04:52.051000+00:00",
          "2023-03-03T08:05:13.768000+00:00",
          "2023-03-03T08:05:38.492000+00:00",
          "2023-03-03T08:06:03.443000+00:00",
          "2023-03-03T08:06:25.560000+00:00",
          "2023-03-03T08:06:50.557000+00:00",
          "2023-03-03T08:07:11.057000+00:00",
          "2023-03-03T08:07:33.987000+00:00",
          "2023-03-03T08:07:54.195000+00:00",
          "2023-03-03T08:08:21.750000+00:00",
          "2023-03-03T08:08:42.216000+00:00",
          "2023-03-03T08:09:04.897000+00:00",
          "2023-03-03T08:09:26.604000+00:00",
          "2023-03-03T08:09:48.324000+00:00",
          "2023-03-03T08:10:08.830000+00:00",
          "2023-03-03T08:10:33.134000+00:00",
          "2023-03-03T08:10:56.121000+00:00",
          "2023-03-03T08:11:15.112000+00:00",
          "2023-03-03T08:11:34.117000+00:00",
          "2023-03-03T08:11:54.942000+00:00",
          "2023-03-03T08:12:20.383000+00:00",
          "2023-03-03T08:12:45.570000+00:00",
          "2023-03-03T08:13:06.873000+00:00",
          "2023-03-03T08:13:24.995000+00:00",
          "2023-03-03T08:13:53.510000+00:00",
          "2023-03-03T08:14:16.319000+00:00",
          "2023-03-03T08:14:41.941000+00:00",
          "2023-03-03T08:15:07.303000+00:00",
          "2023-03-03T08:15:31.491000+00:00",
          "2023-03-03T08:15:57.595000+00:00",
          "2023-03-03T08:16:18.180000+00:00",
          "2023-03-06T17:07:04.691000+00:00",
          "2023-03-06T17:07:30.550000+00:00",
          "2023-03-06T17:07:50.897000+00:00",
          "2023-03-06T17:08:11.461000+00:00",
          "2023-03-06T17:08:33.582000+00:00",
          "2023-03-06T17:09:01.118000+00:00",
          "2023-03-06T17:09:22.603000+00:00",
          "2023-03-06T17:09:44.535000+00:00",
          "2023-03-06T17:10:11.406000+00:00",
          "2023-03-06T17:10:34.717000+00:00",
          "2023-03-06T17:11:00.624000+00:00",
          "2023-03-06T17:11:24.754000+00:00",
          "2023-03-06T17:11:50.099000+00:00",
          "2023-03-06T17:12:12.055000+00:00",
          "2023-03-06T17:12:34.843000+00:00",
          "2023-03-06T17:12:58.520000+00:00",
          "2023-03-06T17:13:25.541000+00:00",
          "2023-03-06T17:13:45.343000+00:00",
          "2023-03-06T17:14:11.866000+00:00",
          "2023-03-06T17:14:32.853000+00:00",
          "2023-03-06T17:14:51.931000+00:00",
          "2023-03-06T17:15:14.953000+00:00",
          "2023-03-06T17:15:37.232000+00:00",
          "2023-03-06T17:15:57.714000+00:00",
          "2023-03-06T17:16:16.268000+00:00",
          "2023-03-06T17:16:35.746000+00:00",
          "2023-03-06T17:17:00.950000+00:00",
          "2023-03-06T17:17:21.709000+00:00",
          "2023-03-06T17:17:47.323000+00:00",
          "2023-03-06T17:18:11.210000+00:00",
          "2023-03-06T17:18:38.187000+00:00"
         ],
         "xaxis": "x",
         "y": [
          3.4611,
          3.468,
          3.3772,
          3.5193,
          3.2845,
          3.3775,
          3.4536,
          3.2618,
          3.5107,
          3.3117,
          3.5341,
          3.5033,
          3.4648,
          3.4037,
          3.494,
          3.4835,
          3.3454,
          3.4306,
          3.5262,
          3.3586,
          3.4379,
          3.4635,
          3.4331,
          3.5217,
          3.4251,
          3.2627,
          3.3146,
          3.5346,
          3.2752,
          3.532,
          3.4852,
          3.5356,
          3.361,
          3.3626,
          3.3676,
          3.3163,
          3.3219,
          3.3796,
          3.344,
          3.4235,
          3.5551,
          3.4991,
          3.2849,
          3.3109,
          3.4573,
          3.5291,
          3.4055,
          3.4575,
          3.3353,
          3.5071,
          3.4777,
          3.3271,
          3.3468,
          3.2729,
          3.3302,
          3.4202,
          3.461,
          3.314,
          3.3099,
          3.4121,
          3.4271,
          3.4803,
          3.4066,
          3.3394,
          3.3713,
          3.5121,
          3.3015,
          3.5129,
          3.431,
          3.5244,
          3.3864,
          3.337,
          3.3938,
          3.4455,
          3.4918,
          3.3898,
          3.4407,
          3.4139,
          3.354,
          3.3067,
          3.4163,
          3.4164,
          3.439,
          3.2781,
          3.4045,
          3.4235,
          3.303,
          3.4968,
          3.4871,
          3.3763,
          3.2951,
          3.5035,
          3.4054,
          3.4447,
          3.3099,
          3.5461,
          3.4414,
          3.4996,
          3.2777,
          3.4601,
          3.5132,
          3.3226,
          3.491,
          3.2767,
          3.4984,
          3.3936,
          3.3119,
          3.3416,
          3.4869,
          3.5324,
          3.3925,
          3.3435,
          3.3889,
          3.4504,
          3.3156,
          3.5044,
          3.387,
          3.3785,
          3.2947,
          3.4559,
          3.3575,
          3.2729,
          3.3995
         ],
         "yaxis": "y"
        }
       ],
       "layout": {
        "template": {
         "data": {
          "bar": [
           {
            "error_x": {
             "color": "#2a3f5f"
            },
            "error_y": {
             "color": "#2a3f5f"
            },
            "marker": {
             "line": {
              "color": "#E5ECF6",
              "width": 0.5
             },
             "pattern": {
              "fillmode": "overlay",
              "size": 10,
              "solidity": 0.2
             }
            },
            "type": "bar"
           }
          ],
          "barpolar": [
           {
            "marker": {
             "line": {
              "color": "#E5ECF6",
              "width": 0.5
             },
             "pattern": {
              "fillmode": "overlay",
              "size": 10,
              "solidity": 0.2
             }
            },
            "type": "barpolar"
           }
          ],
          "carpet": [
           {
            "aaxis": {
             "endlinecolor": "#2a3f5f",
             "gridcolor": "white",
             "linecolor": "white",
             "minorgridcolor": "white",
             "startlinecolor": "#2a3f5f"
            },
            "baxis": {
             "endlinecolor": "#2a3f5f",
             "gridcolor": "white",
             "linecolor": "white",
             "minorgridcolor": "white",
             "startlinecolor": "#2a3f5f"
            },
            "type": "carpet"
           }
          ],
          "choropleth": [
           {
            "colorbar": {
             "outlinewidth": 0,
             "ticks": ""
            },
            "type": "choropleth"
           }
          ],
          "contour": [
           {
            "colorbar": {
             "outlinewidth": 0,
             "ticks": ""
            },
            "colorscale": [
             [
              0,
              "#0d0887"
             ],
             [
              0.1111111111111111,
              "#46039f"
             ],
             [
              0.2222222222222222,
              "#7201a8"
             ],
             [
              0.3333333333333333,
              "#9c179e"
             ],
             [
              0.4444444444444444,
              "#bd3786"
             ],
             [
              0.5555555555555556,
              "#d8576b"
             ],
             [
              0.6666666666666666,
              "#ed7953"
             ],
             [
              0.7777777777777778,
              "#fb9f3a"
             ],
             [
              0.8888888888888888,
              "#fdca26"
             ],
             [
              1,
              "#f0f921"
             ]
            ],
            "type": "contour"
           }
          ],
          "contourcarpet": [
           {
            "colorbar": {
             "outlinewidth": 0,
             "ticks": ""
            },
            "type": "contourcarpet"
           }
          ],
          "heatmap": [
           {
            "colorbar": {
             "outlinewidth": 0,
             "ticks": ""
            },
            "colorscale": [
             [
              0,
              "#0d0887"
             ],
             [
              0.1111111111111111,
              "#46039f"
             ],
             [
              0.2222222222222222,
              "#7201a8"
             ],
             [
              0.3333333333333333,
              "#9c179e"
             ],
             [
              0.4444444444444444,
              "#bd3786"
             ],
             [
              0.5555555555555556,
              "#d8576b"
             ],
             [
              0.6666666666666666,
              "#ed7953"
             ],
             [
              0.7777777777777778,
              "#fb9f3a"
             ],
             [
              0.8888888888888888,
              "#fdca26"
             ],
             [
              1,
              "#f0f921"
             ]
            ],
            "type": "heatmap"
           }
          ],
          "heatmapgl": [
           {
            "colorbar": {
             "outlinewidth": 0,
             "ticks": ""
            },
            "colorscale": [
             [
              0,
              "#0d0887"
             ],
             [
              0.1111111111111111,
              "#46039f"
             ],
             [
              0.2222222222222222,
              "#7201a8"
             ],
             [
              0.3333333333333333,
              "#9c179e"
             ],
             [
              0.4444444444444444,
              "#bd3786"
             ],
             [
              0.5555555555555556,
              "#d8576b"
             ],
             [
              0.6666666666666666,
              "#ed7953"
             ],
             [
              0.7777777777777778,
              "#fb9f3a"
             ],
             [
              0.8888888888888888,
              "#fdca26"
             ],
             [
              1,
              "#f0f921"
             ]
            ],
            "type": "heatmapgl"
           }
          ],
          "histogram": [
           {
            "marker": {
             "pattern": {
              "fillmode": "overlay",
              "size": 10,
              "solidity": 0.2
             }
            },
            "type": "histogram"
           }
          ],
          "histogram2d": [
           {
            "colorbar": {
             "outlinewidth": 0,
             "ticks": ""
            },
            "colorscale": [
             [
              0,
              "#0d0887"
             ],
             [
              0.1111111111111111,
              "#46039f"
             ],
             [
              0.2222222222222222,
              "#7201a8"
             ],
             [
              0.3333333333333333,
              "#9c179e"
             ],
             [
              0.4444444444444444,
              "#bd3786"
             ],
             [
              0.5555555555555556,
              "#d8576b"
             ],
             [
              0.6666666666666666,
              "#ed7953"
             ],
             [
              0.7777777777777778,
              "#fb9f3a"
             ],
             [
              0.8888888888888888,
              "#fdca26"
             ],
             [
              1,
              "#f0f921"
             ]
            ],
            "type": "histogram2d"
           }
          ],
          "histogram2dcontour": [
           {
            "colorbar": {
             "outlinewidth": 0,
             "ticks": ""
            },
            "colorscale": [
             [
              0,
              "#0d0887"
             ],
             [
              0.1111111111111111,
              "#46039f"
             ],
             [
              0.2222222222222222,
              "#7201a8"
             ],
             [
              0.3333333333333333,
              "#9c179e"
             ],
             [
              0.4444444444444444,
              "#bd3786"
             ],
             [
              0.5555555555555556,
              "#d8576b"
             ],
             [
              0.6666666666666666,
              "#ed7953"
             ],
             [
              0.7777777777777778,
              "#fb9f3a"
             ],
             [
              0.8888888888888888,
              "#fdca26"
             ],
             [
              1,
              "#f0f921"
             ]
            ],
            "type": "histogram2dcontour"
           }
          ],
          "mesh3d": [
           {
            "colorbar": {
             "outlinewidth": 0,
             "ticks": ""
            },
            "type": "mesh3d"
           }
          ],
          "parcoords": [
           {
            "line": {
             "colorbar": {
              "outlinewidth": 0,
              "ticks": ""
             }
            },
            "type": "parcoords"
           }
          ],
          "pie": [
           {
            "automargin": true,
            "type": "pie"
           }
          ],
          "scatter": [
           {
            "fillpattern": {
             "fillmode": "overlay",
             "size": 10,
             "solidity": 0.2
            },
            "type": "scatter"
           }
          ],
          "scatter3d": [
           {
            "line": {
             "colorbar": {
              "outlinewidth": 0,
              "ticks": ""
             }
            },
            "marker": {
             "colorbar": {
              "outlinewidth": 0,
              "ticks": ""
             }
            },
            "type": "scatter3d"
           }
          ],
          "scattercarpet": [
           {
            "marker": {
             "colorbar": {
              "outlinewidth": 0,
              "ticks": ""
             }
            },
            "type": "scattercarpet"
           }
          ],
          "scattergeo": [
           {
            "marker": {
             "colorbar": {
              "outlinewidth": 0,
              "ticks": ""
             }
            },
            "type": "scattergeo"
           }
          ],
          "scattergl": [
           {
            "marker": {
             "colorbar": {
              "outlinewidth": 0,
              "ticks": ""
             }
            },
            "type": "scattergl"
           }
          ],
          "scattermapbox": [
           {
            "marker": {
             "colorbar": {
              "outlinewidth": 0,
              "ticks": ""
             }
            },
            "type": "scattermapbox"
           }
          ],
          "scatterpolar": [
           {
            "marker": {
             "colorbar": {
              "outlinewidth": 0,
              "ticks": ""
             }
            },
            "type": "scatterpolar"
           }
          ],
          "scatterpolargl": [
           {
            "marker": {
             "colorbar": {
              "outlinewidth": 0,
              "ticks": ""
             }
            },
            "type": "scatterpolargl"
           }
          ],
          "scatterternary": [
           {
            "marker": {
             "colorbar": {
              "outlinewidth": 0,
              "ticks": ""
             }
            },
            "type": "scatterternary"
           }
          ],
          "surface": [
           {
            "colorbar": {
             "outlinewidth": 0,
             "ticks": ""
            },
            "colorscale": [
             [
              0,
              "#0d0887"
             ],
             [
              0.1111111111111111,
              "#46039f"
             ],
             [
              0.2222222222222222,
              "#7201a8"
             ],
             [
              0.3333333333333333,
              "#9c179e"
             ],
             [
              0.4444444444444444,
              "#bd3786"
             ],
             [
              0.5555555555555556,
              "#d8576b"
             ],
             [
              0.6666666666666666,
              "#ed7953"
             ],
             [
              0.7777777777777778,
              "#fb9f3a"
             ],
             [
              0.8888888888888888,
              "#fdca26"
             ],
             [
              1,
              "#f0f921"
             ]
            ],
            "type": "surface"
           }
          ],
          "table": [
           {
            "cells": {
             "fill": {
              "color": "#EBF0F8"
             },
             "line": {
              "color": "white"
             }
            },
            "header": {
             "fill": {
              "color": "#C8D4E3"
             },
             "line": {
              "color": "white"
             }
            },
            "type": "table"
           }
          ]
         },
         "layout": {
          "annotationdefaults": {
           "arrowcolor": "#2a3f5f",
           "arrowhead": 0,
           "arrowwidth": 1
          },
          "autotypenumbers": "strict",
          "coloraxis": {
           "colorbar": {
            "outlinewidth": 0,
            "ticks": ""
           }
          },
          "colorscale": {
           "diverging": [
            [
             0,
             "#8e0152"
            ],
            [
             0.1,
             "#c51b7d"
            ],
            [
             0.2,
             "#de77ae"
            ],
            [
             0.3,
             "#f1b6da"
            ],
            [
             0.4,
             "#fde0ef"
            ],
            [
             0.5,
             "#f7f7f7"
            ],
            [
             0.6,
             "#e6f5d0"
            ],
            [
             0.7,
             "#b8e186"
            ],
            [
             0.8,
             "#7fbc41"
            ],
            [
             0.9,
             "#4d9221"
            ],
            [
             1,
             "#276419"
            ]
           ],
           "sequential": [
            [
             0,
             "#0d0887"
            ],
            [
             0.1111111111111111,
             "#46039f"
            ],
            [
             0.2222222222222222,
             "#7201a8"
            ],
            [
             0.3333333333333333,
             "#9c179e"
            ],
            [
             0.4444444444444444,
             "#bd3786"
            ],
            [
             0.5555555555555556,
             "#d8576b"
            ],
            [
             0.6666666666666666,
             "#ed7953"
            ],
            [
             0.7777777777777778,
             "#fb9f3a"
            ],
            [
             0.8888888888888888,
             "#fdca26"
            ],
            [
             1,
             "#f0f921"
            ]
           ],
           "sequentialminus": [
            [
             0,
             "#0d0887"
            ],
            [
             0.1111111111111111,
             "#46039f"
            ],
            [
             0.2222222222222222,
             "#7201a8"
            ],
            [
             0.3333333333333333,
             "#9c179e"
            ],
            [
             0.4444444444444444,
             "#bd3786"
            ],
            [
             0.5555555555555556,
             "#d8576b"
            ],
            [
             0.6666666666666666,
             "#ed7953"
            ],
            [
             0.7777777777777778,
             "#fb9f3a"
            ],
            [
             0.8888888888888888,
             "#fdca26"
            ],
            [
             1,
             "#f0f921"
            ]
           ]
          },
          "colorway": [
           "#636efa",
           "#EF553B",
           "#00cc96",
           "#ab63fa",
           "#FFA15A",
           "#19d3f3",
           "#FF6692",
           "#B6E880",
           "#FF97FF",
           "#FECB52"
          ],
          "font": {
           "color": "#2a3f5f"
          },
          "geo": {
           "bgcolor": "white",
           "lakecolor": "white",
           "landcolor": "#E5ECF6",
           "showlakes": true,
           "showland": true,
           "subunitcolor": "white"
          },
          "hoverlabel": {
           "align": "left"
          },
          "hovermode": "closest",
          "mapbox": {
           "style": "light"
          },
          "paper_bgcolor": "white",
          "plot_bgcolor": "#E5ECF6",
          "polar": {
           "angularaxis": {
            "gridcolor": "white",
            "linecolor": "white",
            "ticks": ""
           },
           "bgcolor": "#E5ECF6",
           "radialaxis": {
            "gridcolor": "white",
            "linecolor": "white",
            "ticks": ""
           }
          },
          "scene": {
           "xaxis": {
            "backgroundcolor": "#E5ECF6",
            "gridcolor": "white",
            "gridwidth": 2,
            "linecolor": "white",
            "showbackground": true,
            "ticks": "",
            "zerolinecolor": "white"
           },
           "yaxis": {
            "backgroundcolor": "#E5ECF6",
            "gridcolor": "white",
            "gridwidth": 2,
            "linecolor": "white",
            "showbackground": true,
            "ticks": "",
            "zerolinecolor": "white"
           },
           "zaxis": {
            "backgroundcolor": "#E5ECF6",
            "gridcolor": "white",
            "gridwidth": 2,
            "linecolor": "white",
            "showbackground": true,
            "ticks": "",
            "zerolinecolor": "white"
           }
          },
          "shapedefaults": {
           "line": {
            "color": "#2a3f5f"
           }
          },
          "ternary": {
           "aaxis": {
            "gridcolor": "white",
            "linecolor": "white",
            "ticks": ""
           },
           "baxis": {
            "gridcolor": "white",
            "linecolor": "white",
            "ticks": ""
           },
           "bgcolor": "#E5ECF6",
           "caxis": {
            "gridcolor": "white",
            "linecolor": "white",
            "ticks": ""
           }
          },
          "title": {
           "x": 0.05
          },
          "xaxis": {
           "automargin": true,
           "gridcolor": "white",
           "linecolor": "white",
           "ticks": "",
           "title": {
            "standoff": 15
           },
           "zerolinecolor": "white",
           "zerolinewidth": 2
          },
          "yaxis": {
           "automargin": true,
           "gridcolor": "white",
           "linecolor": "white",
           "ticks": "",
           "title": {
            "standoff": 15
           },
           "zerolinecolor": "white",
           "zerolinewidth": 2
          }
         }
        },
        "title": {
         "text": "Andamento batteria nei device_temperature di tipo Luxmeter"
        },
        "xaxis": {
         "title": {
          "text": "Date"
         }
        },
        "yaxis": {
         "title": {
          "text": "Livello Batteria in Volt"
         }
        }
       }
      },
      "text/html": [
       "<div>                            <div id=\"6e37f820-c9a7-485b-9f1e-d036f8516caa\" class=\"plotly-graph-div\" style=\"height:525px; width:100%;\"></div>            <script type=\"text/javascript\">                require([\"plotly\"], function(Plotly) {                    window.PLOTLYENV=window.PLOTLYENV || {};                                    if (document.getElementById(\"6e37f820-c9a7-485b-9f1e-d036f8516caa\")) {                    Plotly.newPlot(                        \"6e37f820-c9a7-485b-9f1e-d036f8516caa\",                        [{\"hovertemplate\":\"tz=%{x}<br>v=%{y}<extra></extra>\",\"legendgroup\":\"\",\"line\":{\"color\":\"#636efa\",\"dash\":\"solid\"},\"marker\":{\"symbol\":\"circle\"},\"mode\":\"lines\",\"name\":\"\",\"orientation\":\"v\",\"showlegend\":false,\"x\":[\"2023-03-01T22:45:20.808000+00:00\",\"2023-03-01T22:45:46.342000+00:00\",\"2023-03-01T22:46:06.376000+00:00\",\"2023-03-01T22:46:24.272000+00:00\",\"2023-03-01T22:46:44.605000+00:00\",\"2023-03-01T22:49:32.576000+00:00\",\"2023-03-01T22:49:53.581000+00:00\",\"2023-03-01T22:50:21.665000+00:00\",\"2023-03-01T22:50:47.519000+00:00\",\"2023-03-01T22:51:09.116000+00:00\",\"2023-03-01T22:51:29.709000+00:00\",\"2023-03-01T22:51:54.653000+00:00\",\"2023-03-01T22:52:17.699000+00:00\",\"2023-03-01T22:52:42.261000+00:00\",\"2023-03-01T22:53:04.510000+00:00\",\"2023-03-01T22:53:27.623000+00:00\",\"2023-03-01T22:53:49.757000+00:00\",\"2023-03-01T22:54:12.728000+00:00\",\"2023-03-01T22:54:39.158000+00:00\",\"2023-03-01T22:54:59.612000+00:00\",\"2023-03-01T22:55:24.803000+00:00\",\"2023-03-01T22:55:48.086000+00:00\",\"2023-03-01T22:56:13.103000+00:00\",\"2023-03-01T22:56:35.788000+00:00\",\"2023-03-01T22:57:01.205000+00:00\",\"2023-03-01T22:57:26.445000+00:00\",\"2023-03-01T22:57:52.550000+00:00\",\"2023-03-01T22:58:15.816000+00:00\",\"2023-03-01T22:58:41.547000+00:00\",\"2023-03-02T15:53:29.758000+00:00\",\"2023-03-02T15:53:52.156000+00:00\",\"2023-03-02T15:54:13.938000+00:00\",\"2023-03-02T15:54:35.614000+00:00\",\"2023-03-02T15:55:01.116000+00:00\",\"2023-03-02T15:55:29.358000+00:00\",\"2023-03-02T15:55:52.851000+00:00\",\"2023-03-02T15:56:12.430000+00:00\",\"2023-03-02T15:56:35.897000+00:00\",\"2023-03-02T22:40:11.354000+00:00\",\"2023-03-02T22:40:31.348000+00:00\",\"2023-03-02T22:40:59.424000+00:00\",\"2023-03-02T22:41:24.328000+00:00\",\"2023-03-02T22:41:49.487000+00:00\",\"2023-03-02T22:42:16.605000+00:00\",\"2023-03-02T22:42:44.077000+00:00\",\"2023-03-02T22:43:07.079000+00:00\",\"2023-03-02T22:43:29.304000+00:00\",\"2023-03-02T22:43:54.548000+00:00\",\"2023-03-02T22:44:14.784000+00:00\",\"2023-03-02T22:44:39.769000+00:00\",\"2023-03-02T22:45:00.253000+00:00\",\"2023-03-02T22:47:10.075000+00:00\",\"2023-03-02T22:47:32.752000+00:00\",\"2023-03-02T22:47:55.489000+00:00\",\"2023-03-02T22:48:16.205000+00:00\",\"2023-03-02T22:48:45.001000+00:00\",\"2023-03-02T22:49:07.221000+00:00\",\"2023-03-03T08:03:14.557000+00:00\",\"2023-03-03T08:03:37.252000+00:00\",\"2023-03-03T08:04:01.392000+00:00\",\"2023-03-03T08:04:24.534000+00:00\",\"2023-03-03T08:04:52.051000+00:00\",\"2023-03-03T08:05:13.768000+00:00\",\"2023-03-03T08:05:38.492000+00:00\",\"2023-03-03T08:06:03.443000+00:00\",\"2023-03-03T08:06:25.560000+00:00\",\"2023-03-03T08:06:50.557000+00:00\",\"2023-03-03T08:07:11.057000+00:00\",\"2023-03-03T08:07:33.987000+00:00\",\"2023-03-03T08:07:54.195000+00:00\",\"2023-03-03T08:08:21.750000+00:00\",\"2023-03-03T08:08:42.216000+00:00\",\"2023-03-03T08:09:04.897000+00:00\",\"2023-03-03T08:09:26.604000+00:00\",\"2023-03-03T08:09:48.324000+00:00\",\"2023-03-03T08:10:08.830000+00:00\",\"2023-03-03T08:10:33.134000+00:00\",\"2023-03-03T08:10:56.121000+00:00\",\"2023-03-03T08:11:15.112000+00:00\",\"2023-03-03T08:11:34.117000+00:00\",\"2023-03-03T08:11:54.942000+00:00\",\"2023-03-03T08:12:20.383000+00:00\",\"2023-03-03T08:12:45.570000+00:00\",\"2023-03-03T08:13:06.873000+00:00\",\"2023-03-03T08:13:24.995000+00:00\",\"2023-03-03T08:13:53.510000+00:00\",\"2023-03-03T08:14:16.319000+00:00\",\"2023-03-03T08:14:41.941000+00:00\",\"2023-03-03T08:15:07.303000+00:00\",\"2023-03-03T08:15:31.491000+00:00\",\"2023-03-03T08:15:57.595000+00:00\",\"2023-03-03T08:16:18.180000+00:00\",\"2023-03-06T17:07:04.691000+00:00\",\"2023-03-06T17:07:30.550000+00:00\",\"2023-03-06T17:07:50.897000+00:00\",\"2023-03-06T17:08:11.461000+00:00\",\"2023-03-06T17:08:33.582000+00:00\",\"2023-03-06T17:09:01.118000+00:00\",\"2023-03-06T17:09:22.603000+00:00\",\"2023-03-06T17:09:44.535000+00:00\",\"2023-03-06T17:10:11.406000+00:00\",\"2023-03-06T17:10:34.717000+00:00\",\"2023-03-06T17:11:00.624000+00:00\",\"2023-03-06T17:11:24.754000+00:00\",\"2023-03-06T17:11:50.099000+00:00\",\"2023-03-06T17:12:12.055000+00:00\",\"2023-03-06T17:12:34.843000+00:00\",\"2023-03-06T17:12:58.520000+00:00\",\"2023-03-06T17:13:25.541000+00:00\",\"2023-03-06T17:13:45.343000+00:00\",\"2023-03-06T17:14:11.866000+00:00\",\"2023-03-06T17:14:32.853000+00:00\",\"2023-03-06T17:14:51.931000+00:00\",\"2023-03-06T17:15:14.953000+00:00\",\"2023-03-06T17:15:37.232000+00:00\",\"2023-03-06T17:15:57.714000+00:00\",\"2023-03-06T17:16:16.268000+00:00\",\"2023-03-06T17:16:35.746000+00:00\",\"2023-03-06T17:17:00.950000+00:00\",\"2023-03-06T17:17:21.709000+00:00\",\"2023-03-06T17:17:47.323000+00:00\",\"2023-03-06T17:18:11.210000+00:00\",\"2023-03-06T17:18:38.187000+00:00\"],\"xaxis\":\"x\",\"y\":[3.4611,3.468,3.3772,3.5193,3.2845,3.3775,3.4536,3.2618,3.5107,3.3117,3.5341,3.5033,3.4648,3.4037,3.494,3.4835,3.3454,3.4306,3.5262,3.3586,3.4379,3.4635,3.4331,3.5217,3.4251,3.2627,3.3146,3.5346,3.2752,3.532,3.4852,3.5356,3.361,3.3626,3.3676,3.3163,3.3219,3.3796,3.344,3.4235,3.5551,3.4991,3.2849,3.3109,3.4573,3.5291,3.4055,3.4575,3.3353,3.5071,3.4777,3.3271,3.3468,3.2729,3.3302,3.4202,3.461,3.314,3.3099,3.4121,3.4271,3.4803,3.4066,3.3394,3.3713,3.5121,3.3015,3.5129,3.431,3.5244,3.3864,3.337,3.3938,3.4455,3.4918,3.3898,3.4407,3.4139,3.354,3.3067,3.4163,3.4164,3.439,3.2781,3.4045,3.4235,3.303,3.4968,3.4871,3.3763,3.2951,3.5035,3.4054,3.4447,3.3099,3.5461,3.4414,3.4996,3.2777,3.4601,3.5132,3.3226,3.491,3.2767,3.4984,3.3936,3.3119,3.3416,3.4869,3.5324,3.3925,3.3435,3.3889,3.4504,3.3156,3.5044,3.387,3.3785,3.2947,3.4559,3.3575,3.2729,3.3995],\"yaxis\":\"y\",\"type\":\"scatter\"},{\"hovertemplate\":\"tz=%{x}<br>v=%{y}<extra></extra>\",\"legendgroup\":\"\",\"marker\":{\"color\":\"red\",\"symbol\":\"circle\"},\"mode\":\"markers\",\"name\":\"\",\"orientation\":\"v\",\"showlegend\":false,\"x\":[\"2023-03-01T22:45:20.808000+00:00\",\"2023-03-01T22:45:46.342000+00:00\",\"2023-03-01T22:46:06.376000+00:00\",\"2023-03-01T22:46:24.272000+00:00\",\"2023-03-01T22:46:44.605000+00:00\",\"2023-03-01T22:49:32.576000+00:00\",\"2023-03-01T22:49:53.581000+00:00\",\"2023-03-01T22:50:21.665000+00:00\",\"2023-03-01T22:50:47.519000+00:00\",\"2023-03-01T22:51:09.116000+00:00\",\"2023-03-01T22:51:29.709000+00:00\",\"2023-03-01T22:51:54.653000+00:00\",\"2023-03-01T22:52:17.699000+00:00\",\"2023-03-01T22:52:42.261000+00:00\",\"2023-03-01T22:53:04.510000+00:00\",\"2023-03-01T22:53:27.623000+00:00\",\"2023-03-01T22:53:49.757000+00:00\",\"2023-03-01T22:54:12.728000+00:00\",\"2023-03-01T22:54:39.158000+00:00\",\"2023-03-01T22:54:59.612000+00:00\",\"2023-03-01T22:55:24.803000+00:00\",\"2023-03-01T22:55:48.086000+00:00\",\"2023-03-01T22:56:13.103000+00:00\",\"2023-03-01T22:56:35.788000+00:00\",\"2023-03-01T22:57:01.205000+00:00\",\"2023-03-01T22:57:26.445000+00:00\",\"2023-03-01T22:57:52.550000+00:00\",\"2023-03-01T22:58:15.816000+00:00\",\"2023-03-01T22:58:41.547000+00:00\",\"2023-03-02T15:53:29.758000+00:00\",\"2023-03-02T15:53:52.156000+00:00\",\"2023-03-02T15:54:13.938000+00:00\",\"2023-03-02T15:54:35.614000+00:00\",\"2023-03-02T15:55:01.116000+00:00\",\"2023-03-02T15:55:29.358000+00:00\",\"2023-03-02T15:55:52.851000+00:00\",\"2023-03-02T15:56:12.430000+00:00\",\"2023-03-02T15:56:35.897000+00:00\",\"2023-03-02T22:40:11.354000+00:00\",\"2023-03-02T22:40:31.348000+00:00\",\"2023-03-02T22:40:59.424000+00:00\",\"2023-03-02T22:41:24.328000+00:00\",\"2023-03-02T22:41:49.487000+00:00\",\"2023-03-02T22:42:16.605000+00:00\",\"2023-03-02T22:42:44.077000+00:00\",\"2023-03-02T22:43:07.079000+00:00\",\"2023-03-02T22:43:29.304000+00:00\",\"2023-03-02T22:43:54.548000+00:00\",\"2023-03-02T22:44:14.784000+00:00\",\"2023-03-02T22:44:39.769000+00:00\",\"2023-03-02T22:45:00.253000+00:00\",\"2023-03-02T22:47:10.075000+00:00\",\"2023-03-02T22:47:32.752000+00:00\",\"2023-03-02T22:47:55.489000+00:00\",\"2023-03-02T22:48:16.205000+00:00\",\"2023-03-02T22:48:45.001000+00:00\",\"2023-03-02T22:49:07.221000+00:00\",\"2023-03-03T08:03:14.557000+00:00\",\"2023-03-03T08:03:37.252000+00:00\",\"2023-03-03T08:04:01.392000+00:00\",\"2023-03-03T08:04:24.534000+00:00\",\"2023-03-03T08:04:52.051000+00:00\",\"2023-03-03T08:05:13.768000+00:00\",\"2023-03-03T08:05:38.492000+00:00\",\"2023-03-03T08:06:03.443000+00:00\",\"2023-03-03T08:06:25.560000+00:00\",\"2023-03-03T08:06:50.557000+00:00\",\"2023-03-03T08:07:11.057000+00:00\",\"2023-03-03T08:07:33.987000+00:00\",\"2023-03-03T08:07:54.195000+00:00\",\"2023-03-03T08:08:21.750000+00:00\",\"2023-03-03T08:08:42.216000+00:00\",\"2023-03-03T08:09:04.897000+00:00\",\"2023-03-03T08:09:26.604000+00:00\",\"2023-03-03T08:09:48.324000+00:00\",\"2023-03-03T08:10:08.830000+00:00\",\"2023-03-03T08:10:33.134000+00:00\",\"2023-03-03T08:10:56.121000+00:00\",\"2023-03-03T08:11:15.112000+00:00\",\"2023-03-03T08:11:34.117000+00:00\",\"2023-03-03T08:11:54.942000+00:00\",\"2023-03-03T08:12:20.383000+00:00\",\"2023-03-03T08:12:45.570000+00:00\",\"2023-03-03T08:13:06.873000+00:00\",\"2023-03-03T08:13:24.995000+00:00\",\"2023-03-03T08:13:53.510000+00:00\",\"2023-03-03T08:14:16.319000+00:00\",\"2023-03-03T08:14:41.941000+00:00\",\"2023-03-03T08:15:07.303000+00:00\",\"2023-03-03T08:15:31.491000+00:00\",\"2023-03-03T08:15:57.595000+00:00\",\"2023-03-03T08:16:18.180000+00:00\",\"2023-03-06T17:07:04.691000+00:00\",\"2023-03-06T17:07:30.550000+00:00\",\"2023-03-06T17:07:50.897000+00:00\",\"2023-03-06T17:08:11.461000+00:00\",\"2023-03-06T17:08:33.582000+00:00\",\"2023-03-06T17:09:01.118000+00:00\",\"2023-03-06T17:09:22.603000+00:00\",\"2023-03-06T17:09:44.535000+00:00\",\"2023-03-06T17:10:11.406000+00:00\",\"2023-03-06T17:10:34.717000+00:00\",\"2023-03-06T17:11:00.624000+00:00\",\"2023-03-06T17:11:24.754000+00:00\",\"2023-03-06T17:11:50.099000+00:00\",\"2023-03-06T17:12:12.055000+00:00\",\"2023-03-06T17:12:34.843000+00:00\",\"2023-03-06T17:12:58.520000+00:00\",\"2023-03-06T17:13:25.541000+00:00\",\"2023-03-06T17:13:45.343000+00:00\",\"2023-03-06T17:14:11.866000+00:00\",\"2023-03-06T17:14:32.853000+00:00\",\"2023-03-06T17:14:51.931000+00:00\",\"2023-03-06T17:15:14.953000+00:00\",\"2023-03-06T17:15:37.232000+00:00\",\"2023-03-06T17:15:57.714000+00:00\",\"2023-03-06T17:16:16.268000+00:00\",\"2023-03-06T17:16:35.746000+00:00\",\"2023-03-06T17:17:00.950000+00:00\",\"2023-03-06T17:17:21.709000+00:00\",\"2023-03-06T17:17:47.323000+00:00\",\"2023-03-06T17:18:11.210000+00:00\",\"2023-03-06T17:18:38.187000+00:00\"],\"xaxis\":\"x\",\"y\":[3.4611,3.468,3.3772,3.5193,3.2845,3.3775,3.4536,3.2618,3.5107,3.3117,3.5341,3.5033,3.4648,3.4037,3.494,3.4835,3.3454,3.4306,3.5262,3.3586,3.4379,3.4635,3.4331,3.5217,3.4251,3.2627,3.3146,3.5346,3.2752,3.532,3.4852,3.5356,3.361,3.3626,3.3676,3.3163,3.3219,3.3796,3.344,3.4235,3.5551,3.4991,3.2849,3.3109,3.4573,3.5291,3.4055,3.4575,3.3353,3.5071,3.4777,3.3271,3.3468,3.2729,3.3302,3.4202,3.461,3.314,3.3099,3.4121,3.4271,3.4803,3.4066,3.3394,3.3713,3.5121,3.3015,3.5129,3.431,3.5244,3.3864,3.337,3.3938,3.4455,3.4918,3.3898,3.4407,3.4139,3.354,3.3067,3.4163,3.4164,3.439,3.2781,3.4045,3.4235,3.303,3.4968,3.4871,3.3763,3.2951,3.5035,3.4054,3.4447,3.3099,3.5461,3.4414,3.4996,3.2777,3.4601,3.5132,3.3226,3.491,3.2767,3.4984,3.3936,3.3119,3.3416,3.4869,3.5324,3.3925,3.3435,3.3889,3.4504,3.3156,3.5044,3.387,3.3785,3.2947,3.4559,3.3575,3.2729,3.3995],\"yaxis\":\"y\",\"type\":\"scatter\"}],                        {\"template\":{\"data\":{\"histogram2dcontour\":[{\"type\":\"histogram2dcontour\",\"colorbar\":{\"outlinewidth\":0,\"ticks\":\"\"},\"colorscale\":[[0.0,\"#0d0887\"],[0.1111111111111111,\"#46039f\"],[0.2222222222222222,\"#7201a8\"],[0.3333333333333333,\"#9c179e\"],[0.4444444444444444,\"#bd3786\"],[0.5555555555555556,\"#d8576b\"],[0.6666666666666666,\"#ed7953\"],[0.7777777777777778,\"#fb9f3a\"],[0.8888888888888888,\"#fdca26\"],[1.0,\"#f0f921\"]]}],\"choropleth\":[{\"type\":\"choropleth\",\"colorbar\":{\"outlinewidth\":0,\"ticks\":\"\"}}],\"histogram2d\":[{\"type\":\"histogram2d\",\"colorbar\":{\"outlinewidth\":0,\"ticks\":\"\"},\"colorscale\":[[0.0,\"#0d0887\"],[0.1111111111111111,\"#46039f\"],[0.2222222222222222,\"#7201a8\"],[0.3333333333333333,\"#9c179e\"],[0.4444444444444444,\"#bd3786\"],[0.5555555555555556,\"#d8576b\"],[0.6666666666666666,\"#ed7953\"],[0.7777777777777778,\"#fb9f3a\"],[0.8888888888888888,\"#fdca26\"],[1.0,\"#f0f921\"]]}],\"heatmap\":[{\"type\":\"heatmap\",\"colorbar\":{\"outlinewidth\":0,\"ticks\":\"\"},\"colorscale\":[[0.0,\"#0d0887\"],[0.1111111111111111,\"#46039f\"],[0.2222222222222222,\"#7201a8\"],[0.3333333333333333,\"#9c179e\"],[0.4444444444444444,\"#bd3786\"],[0.5555555555555556,\"#d8576b\"],[0.6666666666666666,\"#ed7953\"],[0.7777777777777778,\"#fb9f3a\"],[0.8888888888888888,\"#fdca26\"],[1.0,\"#f0f921\"]]}],\"heatmapgl\":[{\"type\":\"heatmapgl\",\"colorbar\":{\"outlinewidth\":0,\"ticks\":\"\"},\"colorscale\":[[0.0,\"#0d0887\"],[0.1111111111111111,\"#46039f\"],[0.2222222222222222,\"#7201a8\"],[0.3333333333333333,\"#9c179e\"],[0.4444444444444444,\"#bd3786\"],[0.5555555555555556,\"#d8576b\"],[0.6666666666666666,\"#ed7953\"],[0.7777777777777778,\"#fb9f3a\"],[0.8888888888888888,\"#fdca26\"],[1.0,\"#f0f921\"]]}],\"contourcarpet\":[{\"type\":\"contourcarpet\",\"colorbar\":{\"outlinewidth\":0,\"ticks\":\"\"}}],\"contour\":[{\"type\":\"contour\",\"colorbar\":{\"outlinewidth\":0,\"ticks\":\"\"},\"colorscale\":[[0.0,\"#0d0887\"],[0.1111111111111111,\"#46039f\"],[0.2222222222222222,\"#7201a8\"],[0.3333333333333333,\"#9c179e\"],[0.4444444444444444,\"#bd3786\"],[0.5555555555555556,\"#d8576b\"],[0.6666666666666666,\"#ed7953\"],[0.7777777777777778,\"#fb9f3a\"],[0.8888888888888888,\"#fdca26\"],[1.0,\"#f0f921\"]]}],\"surface\":[{\"type\":\"surface\",\"colorbar\":{\"outlinewidth\":0,\"ticks\":\"\"},\"colorscale\":[[0.0,\"#0d0887\"],[0.1111111111111111,\"#46039f\"],[0.2222222222222222,\"#7201a8\"],[0.3333333333333333,\"#9c179e\"],[0.4444444444444444,\"#bd3786\"],[0.5555555555555556,\"#d8576b\"],[0.6666666666666666,\"#ed7953\"],[0.7777777777777778,\"#fb9f3a\"],[0.8888888888888888,\"#fdca26\"],[1.0,\"#f0f921\"]]}],\"mesh3d\":[{\"type\":\"mesh3d\",\"colorbar\":{\"outlinewidth\":0,\"ticks\":\"\"}}],\"scatter\":[{\"fillpattern\":{\"fillmode\":\"overlay\",\"size\":10,\"solidity\":0.2},\"type\":\"scatter\"}],\"parcoords\":[{\"type\":\"parcoords\",\"line\":{\"colorbar\":{\"outlinewidth\":0,\"ticks\":\"\"}}}],\"scatterpolargl\":[{\"type\":\"scatterpolargl\",\"marker\":{\"colorbar\":{\"outlinewidth\":0,\"ticks\":\"\"}}}],\"bar\":[{\"error_x\":{\"color\":\"#2a3f5f\"},\"error_y\":{\"color\":\"#2a3f5f\"},\"marker\":{\"line\":{\"color\":\"#E5ECF6\",\"width\":0.5},\"pattern\":{\"fillmode\":\"overlay\",\"size\":10,\"solidity\":0.2}},\"type\":\"bar\"}],\"scattergeo\":[{\"type\":\"scattergeo\",\"marker\":{\"colorbar\":{\"outlinewidth\":0,\"ticks\":\"\"}}}],\"scatterpolar\":[{\"type\":\"scatterpolar\",\"marker\":{\"colorbar\":{\"outlinewidth\":0,\"ticks\":\"\"}}}],\"histogram\":[{\"marker\":{\"pattern\":{\"fillmode\":\"overlay\",\"size\":10,\"solidity\":0.2}},\"type\":\"histogram\"}],\"scattergl\":[{\"type\":\"scattergl\",\"marker\":{\"colorbar\":{\"outlinewidth\":0,\"ticks\":\"\"}}}],\"scatter3d\":[{\"type\":\"scatter3d\",\"line\":{\"colorbar\":{\"outlinewidth\":0,\"ticks\":\"\"}},\"marker\":{\"colorbar\":{\"outlinewidth\":0,\"ticks\":\"\"}}}],\"scattermapbox\":[{\"type\":\"scattermapbox\",\"marker\":{\"colorbar\":{\"outlinewidth\":0,\"ticks\":\"\"}}}],\"scatterternary\":[{\"type\":\"scatterternary\",\"marker\":{\"colorbar\":{\"outlinewidth\":0,\"ticks\":\"\"}}}],\"scattercarpet\":[{\"type\":\"scattercarpet\",\"marker\":{\"colorbar\":{\"outlinewidth\":0,\"ticks\":\"\"}}}],\"carpet\":[{\"aaxis\":{\"endlinecolor\":\"#2a3f5f\",\"gridcolor\":\"white\",\"linecolor\":\"white\",\"minorgridcolor\":\"white\",\"startlinecolor\":\"#2a3f5f\"},\"baxis\":{\"endlinecolor\":\"#2a3f5f\",\"gridcolor\":\"white\",\"linecolor\":\"white\",\"minorgridcolor\":\"white\",\"startlinecolor\":\"#2a3f5f\"},\"type\":\"carpet\"}],\"table\":[{\"cells\":{\"fill\":{\"color\":\"#EBF0F8\"},\"line\":{\"color\":\"white\"}},\"header\":{\"fill\":{\"color\":\"#C8D4E3\"},\"line\":{\"color\":\"white\"}},\"type\":\"table\"}],\"barpolar\":[{\"marker\":{\"line\":{\"color\":\"#E5ECF6\",\"width\":0.5},\"pattern\":{\"fillmode\":\"overlay\",\"size\":10,\"solidity\":0.2}},\"type\":\"barpolar\"}],\"pie\":[{\"automargin\":true,\"type\":\"pie\"}]},\"layout\":{\"autotypenumbers\":\"strict\",\"colorway\":[\"#636efa\",\"#EF553B\",\"#00cc96\",\"#ab63fa\",\"#FFA15A\",\"#19d3f3\",\"#FF6692\",\"#B6E880\",\"#FF97FF\",\"#FECB52\"],\"font\":{\"color\":\"#2a3f5f\"},\"hovermode\":\"closest\",\"hoverlabel\":{\"align\":\"left\"},\"paper_bgcolor\":\"white\",\"plot_bgcolor\":\"#E5ECF6\",\"polar\":{\"bgcolor\":\"#E5ECF6\",\"angularaxis\":{\"gridcolor\":\"white\",\"linecolor\":\"white\",\"ticks\":\"\"},\"radialaxis\":{\"gridcolor\":\"white\",\"linecolor\":\"white\",\"ticks\":\"\"}},\"ternary\":{\"bgcolor\":\"#E5ECF6\",\"aaxis\":{\"gridcolor\":\"white\",\"linecolor\":\"white\",\"ticks\":\"\"},\"baxis\":{\"gridcolor\":\"white\",\"linecolor\":\"white\",\"ticks\":\"\"},\"caxis\":{\"gridcolor\":\"white\",\"linecolor\":\"white\",\"ticks\":\"\"}},\"coloraxis\":{\"colorbar\":{\"outlinewidth\":0,\"ticks\":\"\"}},\"colorscale\":{\"sequential\":[[0.0,\"#0d0887\"],[0.1111111111111111,\"#46039f\"],[0.2222222222222222,\"#7201a8\"],[0.3333333333333333,\"#9c179e\"],[0.4444444444444444,\"#bd3786\"],[0.5555555555555556,\"#d8576b\"],[0.6666666666666666,\"#ed7953\"],[0.7777777777777778,\"#fb9f3a\"],[0.8888888888888888,\"#fdca26\"],[1.0,\"#f0f921\"]],\"sequentialminus\":[[0.0,\"#0d0887\"],[0.1111111111111111,\"#46039f\"],[0.2222222222222222,\"#7201a8\"],[0.3333333333333333,\"#9c179e\"],[0.4444444444444444,\"#bd3786\"],[0.5555555555555556,\"#d8576b\"],[0.6666666666666666,\"#ed7953\"],[0.7777777777777778,\"#fb9f3a\"],[0.8888888888888888,\"#fdca26\"],[1.0,\"#f0f921\"]],\"diverging\":[[0,\"#8e0152\"],[0.1,\"#c51b7d\"],[0.2,\"#de77ae\"],[0.3,\"#f1b6da\"],[0.4,\"#fde0ef\"],[0.5,\"#f7f7f7\"],[0.6,\"#e6f5d0\"],[0.7,\"#b8e186\"],[0.8,\"#7fbc41\"],[0.9,\"#4d9221\"],[1,\"#276419\"]]},\"xaxis\":{\"gridcolor\":\"white\",\"linecolor\":\"white\",\"ticks\":\"\",\"title\":{\"standoff\":15},\"zerolinecolor\":\"white\",\"automargin\":true,\"zerolinewidth\":2},\"yaxis\":{\"gridcolor\":\"white\",\"linecolor\":\"white\",\"ticks\":\"\",\"title\":{\"standoff\":15},\"zerolinecolor\":\"white\",\"automargin\":true,\"zerolinewidth\":2},\"scene\":{\"xaxis\":{\"backgroundcolor\":\"#E5ECF6\",\"gridcolor\":\"white\",\"linecolor\":\"white\",\"showbackground\":true,\"ticks\":\"\",\"zerolinecolor\":\"white\",\"gridwidth\":2},\"yaxis\":{\"backgroundcolor\":\"#E5ECF6\",\"gridcolor\":\"white\",\"linecolor\":\"white\",\"showbackground\":true,\"ticks\":\"\",\"zerolinecolor\":\"white\",\"gridwidth\":2},\"zaxis\":{\"backgroundcolor\":\"#E5ECF6\",\"gridcolor\":\"white\",\"linecolor\":\"white\",\"showbackground\":true,\"ticks\":\"\",\"zerolinecolor\":\"white\",\"gridwidth\":2}},\"shapedefaults\":{\"line\":{\"color\":\"#2a3f5f\"}},\"annotationdefaults\":{\"arrowcolor\":\"#2a3f5f\",\"arrowhead\":0,\"arrowwidth\":1},\"geo\":{\"bgcolor\":\"white\",\"landcolor\":\"#E5ECF6\",\"subunitcolor\":\"white\",\"showland\":true,\"showlakes\":true,\"lakecolor\":\"white\"},\"title\":{\"x\":0.05},\"mapbox\":{\"style\":\"light\"}}},\"xaxis\":{\"title\":{\"text\":\"Date\"}},\"yaxis\":{\"title\":{\"text\":\"Livello Batteria in Volt\"}},\"title\":{\"text\":\"Andamento batteria nei device_temperature di tipo Luxmeter\"}},                        {\"responsive\": true}                    ).then(function(){\n",
       "                            \n",
       "var gd = document.getElementById('6e37f820-c9a7-485b-9f1e-d036f8516caa');\n",
       "var x = new MutationObserver(function (mutations, observer) {{\n",
       "        var display = window.getComputedStyle(gd).display;\n",
       "        if (!display || display === 'none') {{\n",
       "            console.log([gd, 'removed!']);\n",
       "            Plotly.purge(gd);\n",
       "            observer.disconnect();\n",
       "        }}\n",
       "}});\n",
       "\n",
       "// Listen for the removal of the full notebook cells\n",
       "var notebookContainer = gd.closest('#notebook-container');\n",
       "if (notebookContainer) {{\n",
       "    x.observe(notebookContainer, {childList: true});\n",
       "}}\n",
       "\n",
       "// Listen for the clearing of the current output cell\n",
       "var outputEl = gd.closest('.output');\n",
       "if (outputEl) {{\n",
       "    x.observe(outputEl, {childList: true});\n",
       "}}\n",
       "\n",
       "                        })                };                });            </script>        </div>"
      ]
     },
     "metadata": {},
     "output_type": "display_data"
    }
   ],
   "source": [
    "df1=df.loc[df['type']=='luxmeter']\n",
    "df1=df1.loc[df1['k']=='battery_level']\n",
    "df1['tz'] = pd.to_datetime(df1['tz'])\n",
    "fig = px.line(df1, x=\"tz\", y=\"v\")\n",
    "fig2 = px.scatter(df1, x=\"tz\", y=\"v\", color_discrete_sequence=['red'])\n",
    "fig3 = go.Figure(data=fig.data + fig2.data)\n",
    "fig3.update_layout(xaxis_title=\"Date\", \n",
    "                   yaxis_title=\"Livello Batteria in Volt\",\n",
    "                   title='Andamento batteria nei device_temperature di tipo Luxmeter'\n",
    "                  )\n",
    "fig3.show()"
   ]
  },
  {
   "cell_type": "markdown",
   "id": "d88124fb",
   "metadata": {},
   "source": [
    "# Grafico PPM registrato nel Tempo nei dispositivi di tipo Gasmeter"
   ]
  },
  {
   "cell_type": "code",
   "execution_count": 21,
   "id": "2bba90cb",
   "metadata": {},
   "outputs": [
    {
     "data": {
      "application/vnd.plotly.v1+json": {
       "config": {
        "plotlyServerURL": "https://plot.ly"
       },
       "data": [
        {
         "hovertemplate": "tz=%{x}<br>v=%{y}<extra></extra>",
         "legendgroup": "",
         "line": {
          "color": "#636efa",
          "dash": "solid"
         },
         "marker": {
          "symbol": "circle"
         },
         "mode": "lines",
         "name": "",
         "orientation": "v",
         "showlegend": false,
         "type": "scatter",
         "x": [
          "2023-03-01T22:44:56.785000+00:00",
          "2023-03-01T22:45:43.216000+00:00",
          "2023-03-01T22:46:02.734000+00:00",
          "2023-03-01T22:46:22.205000+00:00",
          "2023-03-01T22:46:42.472000+00:00",
          "2023-03-01T22:47:06.265000+00:00",
          "2023-03-01T22:49:30.014000+00:00",
          "2023-03-01T22:49:50.117000+00:00",
          "2023-03-01T22:50:17.785000+00:00",
          "2023-03-01T22:50:43.587000+00:00",
          "2023-03-01T22:51:05.282000+00:00",
          "2023-03-01T22:51:26.534000+00:00",
          "2023-03-01T22:51:51.732000+00:00",
          "2023-03-01T22:52:13.885000+00:00",
          "2023-03-01T22:52:39.392000+00:00",
          "2023-03-01T22:53:02.406000+00:00",
          "2023-03-01T22:53:24.198000+00:00",
          "2023-03-01T22:53:47.723000+00:00",
          "2023-03-01T22:54:10.294000+00:00",
          "2023-03-01T22:54:35.867000+00:00",
          "2023-03-01T22:54:56.817000+00:00",
          "2023-03-01T22:55:22.099000+00:00",
          "2023-03-01T22:55:44.117000+00:00",
          "2023-03-01T22:56:10.585000+00:00",
          "2023-03-01T22:56:33.040000+00:00",
          "2023-03-01T22:56:58.043000+00:00",
          "2023-03-01T22:57:22.983000+00:00",
          "2023-03-01T22:57:48.945000+00:00",
          "2023-03-01T22:58:13.511000+00:00",
          "2023-03-01T22:58:38.232000+00:00",
          "2023-03-02T15:53:26.596000+00:00",
          "2023-03-02T15:53:48.791000+00:00",
          "2023-03-02T15:54:09.931000+00:00",
          "2023-03-02T15:54:32.254000+00:00",
          "2023-03-02T15:54:57.827000+00:00",
          "2023-03-02T15:55:25.624000+00:00",
          "2023-03-02T15:55:49.756000+00:00",
          "2023-03-02T15:56:09.814000+00:00",
          "2023-03-02T15:56:32.929000+00:00",
          "2023-03-02T22:40:09.326000+00:00",
          "2023-03-02T22:40:27.791000+00:00",
          "2023-03-02T22:40:55.601000+00:00",
          "2023-03-02T22:41:20.355000+00:00",
          "2023-03-02T22:41:47.333000+00:00",
          "2023-03-02T22:42:14.254000+00:00",
          "2023-03-02T22:42:40.614000+00:00",
          "2023-03-02T22:43:03.378000+00:00",
          "2023-03-02T22:43:27.018000+00:00",
          "2023-03-02T22:43:52.143000+00:00",
          "2023-03-02T22:44:12.596000+00:00",
          "2023-03-02T22:44:36.004000+00:00",
          "2023-03-02T22:45:17.288000+00:00",
          "2023-03-02T22:47:29.614000+00:00",
          "2023-03-02T22:47:51.657000+00:00",
          "2023-03-02T22:48:13.142000+00:00",
          "2023-03-02T22:48:41.221000+00:00",
          "2023-03-02T22:49:03.860000+00:00",
          "2023-03-03T08:03:11.236000+00:00",
          "2023-03-03T08:03:34.714000+00:00",
          "2023-03-03T08:03:58.623000+00:00",
          "2023-03-03T08:04:20.552000+00:00",
          "2023-03-03T08:04:48.774000+00:00",
          "2023-03-03T08:05:09.777000+00:00",
          "2023-03-03T08:05:35.528000+00:00",
          "2023-03-03T08:06:00.847000+00:00",
          "2023-03-03T08:06:21.554000+00:00",
          "2023-03-03T08:06:46.743000+00:00",
          "2023-03-03T08:07:07.238000+00:00",
          "2023-03-03T08:07:31.788000+00:00",
          "2023-03-03T08:07:51.732000+00:00",
          "2023-03-03T08:08:18.843000+00:00",
          "2023-03-03T08:08:39.479000+00:00",
          "2023-03-03T08:09:01.996000+00:00",
          "2023-03-03T08:09:24.518000+00:00",
          "2023-03-03T08:09:44.540000+00:00",
          "2023-03-03T08:10:05.360000+00:00",
          "2023-03-03T08:10:30.872000+00:00",
          "2023-03-03T08:10:53.932000+00:00",
          "2023-03-03T08:11:11.726000+00:00",
          "2023-03-03T08:11:31.430000+00:00",
          "2023-03-03T08:11:51.487000+00:00",
          "2023-03-03T08:12:16.456000+00:00",
          "2023-03-03T08:12:42.603000+00:00",
          "2023-03-03T08:13:03.650000+00:00",
          "2023-03-03T08:13:22.450000+00:00",
          "2023-03-03T08:13:49.615000+00:00",
          "2023-03-03T08:14:14.206000+00:00",
          "2023-03-03T08:14:38.468000+00:00",
          "2023-03-03T08:15:04.352000+00:00",
          "2023-03-03T08:15:28.425000+00:00",
          "2023-03-03T08:15:54.480000+00:00",
          "2023-03-03T08:16:14.737000+00:00",
          "2023-03-03T08:16:38.168000+00:00",
          "2023-03-06T17:07:01.809000+00:00",
          "2023-03-06T17:07:28.369000+00:00",
          "2023-03-06T17:07:47.746000+00:00",
          "2023-03-06T17:08:08.597000+00:00",
          "2023-03-06T17:08:30.577000+00:00",
          "2023-03-06T17:08:58.401000+00:00",
          "2023-03-06T17:09:20.372000+00:00",
          "2023-03-06T17:09:41.606000+00:00",
          "2023-03-06T17:10:08.492000+00:00",
          "2023-03-06T17:10:32.583000+00:00",
          "2023-03-06T17:10:58.590000+00:00",
          "2023-03-06T17:11:21.918000+00:00",
          "2023-03-06T17:11:47.386000+00:00",
          "2023-03-06T17:12:09.427000+00:00",
          "2023-03-06T17:12:31.402000+00:00",
          "2023-03-06T17:12:55.063000+00:00",
          "2023-03-06T17:13:22.330000+00:00",
          "2023-03-06T17:13:42.843000+00:00",
          "2023-03-06T17:14:08.333000+00:00",
          "2023-03-06T17:14:29.261000+00:00",
          "2023-03-06T17:14:48.897000+00:00",
          "2023-03-06T17:15:11.949000+00:00",
          "2023-03-06T17:15:33.706000+00:00",
          "2023-03-06T17:15:54.622000+00:00",
          "2023-03-06T17:16:14.054000+00:00",
          "2023-03-06T17:16:33.103000+00:00",
          "2023-03-06T17:16:57.198000+00:00",
          "2023-03-06T17:17:18.190000+00:00",
          "2023-03-06T17:17:45.214000+00:00",
          "2023-03-06T17:18:07.227000+00:00",
          "2023-03-06T17:18:34.598000+00:00"
         ],
         "xaxis": "x",
         "y": [
          364.9355,
          326.5502,
          324.4594,
          380.5387,
          383.8408,
          319.8058,
          332.0838,
          341.5248,
          326.8342,
          391.3379,
          399.09,
          301.9612,
          301.4638,
          333.9597,
          394.811,
          315.8874,
          311.3834,
          395.8445,
          388.6047,
          350.0032,
          350.6164,
          395.666,
          308.6895,
          312.3693,
          374.159,
          374.0003,
          365.1464,
          340.7028,
          341.4808,
          330.883,
          378.8695,
          348.4314,
          328.7406,
          300.8363,
          326.5474,
          372.4441,
          307.0886,
          354.5664,
          383.4025,
          325.2342,
          395.5241,
          355.4746,
          314.1354,
          360.3631,
          387.1859,
          326.0659,
          319.2753,
          369.8758,
          375.5255,
          373.0638,
          355.9728,
          322.3662,
          385.6953,
          320.3287,
          336.7344,
          363.4749,
          381.4967,
          389.4938,
          342.0979,
          350.2523,
          324.7677,
          375.3648,
          329.4876,
          373.0348,
          377.234,
          359.4066,
          364.181,
          389.3191,
          332.0615,
          354.4344,
          394.0727,
          323.1026,
          381.8321,
          373.1673,
          386.7938,
          311.8049,
          326.536,
          353.4971,
          360.0398,
          301.7239,
          351.8889,
          335.6473,
          371.4739,
          368.914,
          345.7975,
          323.0757,
          332.2118,
          337.6216,
          367.028,
          337.193,
          386.8959,
          354.445,
          329.4446,
          390.4822,
          364.9644,
          330.031,
          370.4937,
          380.7867,
          370.7681,
          340.0267,
          312.6275,
          346.6681,
          372.1523,
          362.8509,
          379.9213,
          319.3603,
          344.9719,
          385.9868,
          380.867,
          368.1153,
          382.8765,
          321.2239,
          363.6288,
          328.5565,
          317.5868,
          306.0548,
          345.8011,
          398.8113,
          351.6094,
          370.0093,
          386.8788,
          375.7912,
          335.1538,
          376.0361
         ],
         "yaxis": "y"
        },
        {
         "hovertemplate": "tz=%{x}<br>v=%{y}<extra></extra>",
         "legendgroup": "",
         "marker": {
          "color": "red",
          "symbol": "circle"
         },
         "mode": "markers",
         "name": "",
         "orientation": "v",
         "showlegend": false,
         "type": "scatter",
         "x": [
          "2023-03-01T22:44:56.785000+00:00",
          "2023-03-01T22:45:43.216000+00:00",
          "2023-03-01T22:46:02.734000+00:00",
          "2023-03-01T22:46:22.205000+00:00",
          "2023-03-01T22:46:42.472000+00:00",
          "2023-03-01T22:47:06.265000+00:00",
          "2023-03-01T22:49:30.014000+00:00",
          "2023-03-01T22:49:50.117000+00:00",
          "2023-03-01T22:50:17.785000+00:00",
          "2023-03-01T22:50:43.587000+00:00",
          "2023-03-01T22:51:05.282000+00:00",
          "2023-03-01T22:51:26.534000+00:00",
          "2023-03-01T22:51:51.732000+00:00",
          "2023-03-01T22:52:13.885000+00:00",
          "2023-03-01T22:52:39.392000+00:00",
          "2023-03-01T22:53:02.406000+00:00",
          "2023-03-01T22:53:24.198000+00:00",
          "2023-03-01T22:53:47.723000+00:00",
          "2023-03-01T22:54:10.294000+00:00",
          "2023-03-01T22:54:35.867000+00:00",
          "2023-03-01T22:54:56.817000+00:00",
          "2023-03-01T22:55:22.099000+00:00",
          "2023-03-01T22:55:44.117000+00:00",
          "2023-03-01T22:56:10.585000+00:00",
          "2023-03-01T22:56:33.040000+00:00",
          "2023-03-01T22:56:58.043000+00:00",
          "2023-03-01T22:57:22.983000+00:00",
          "2023-03-01T22:57:48.945000+00:00",
          "2023-03-01T22:58:13.511000+00:00",
          "2023-03-01T22:58:38.232000+00:00",
          "2023-03-02T15:53:26.596000+00:00",
          "2023-03-02T15:53:48.791000+00:00",
          "2023-03-02T15:54:09.931000+00:00",
          "2023-03-02T15:54:32.254000+00:00",
          "2023-03-02T15:54:57.827000+00:00",
          "2023-03-02T15:55:25.624000+00:00",
          "2023-03-02T15:55:49.756000+00:00",
          "2023-03-02T15:56:09.814000+00:00",
          "2023-03-02T15:56:32.929000+00:00",
          "2023-03-02T22:40:09.326000+00:00",
          "2023-03-02T22:40:27.791000+00:00",
          "2023-03-02T22:40:55.601000+00:00",
          "2023-03-02T22:41:20.355000+00:00",
          "2023-03-02T22:41:47.333000+00:00",
          "2023-03-02T22:42:14.254000+00:00",
          "2023-03-02T22:42:40.614000+00:00",
          "2023-03-02T22:43:03.378000+00:00",
          "2023-03-02T22:43:27.018000+00:00",
          "2023-03-02T22:43:52.143000+00:00",
          "2023-03-02T22:44:12.596000+00:00",
          "2023-03-02T22:44:36.004000+00:00",
          "2023-03-02T22:45:17.288000+00:00",
          "2023-03-02T22:47:29.614000+00:00",
          "2023-03-02T22:47:51.657000+00:00",
          "2023-03-02T22:48:13.142000+00:00",
          "2023-03-02T22:48:41.221000+00:00",
          "2023-03-02T22:49:03.860000+00:00",
          "2023-03-03T08:03:11.236000+00:00",
          "2023-03-03T08:03:34.714000+00:00",
          "2023-03-03T08:03:58.623000+00:00",
          "2023-03-03T08:04:20.552000+00:00",
          "2023-03-03T08:04:48.774000+00:00",
          "2023-03-03T08:05:09.777000+00:00",
          "2023-03-03T08:05:35.528000+00:00",
          "2023-03-03T08:06:00.847000+00:00",
          "2023-03-03T08:06:21.554000+00:00",
          "2023-03-03T08:06:46.743000+00:00",
          "2023-03-03T08:07:07.238000+00:00",
          "2023-03-03T08:07:31.788000+00:00",
          "2023-03-03T08:07:51.732000+00:00",
          "2023-03-03T08:08:18.843000+00:00",
          "2023-03-03T08:08:39.479000+00:00",
          "2023-03-03T08:09:01.996000+00:00",
          "2023-03-03T08:09:24.518000+00:00",
          "2023-03-03T08:09:44.540000+00:00",
          "2023-03-03T08:10:05.360000+00:00",
          "2023-03-03T08:10:30.872000+00:00",
          "2023-03-03T08:10:53.932000+00:00",
          "2023-03-03T08:11:11.726000+00:00",
          "2023-03-03T08:11:31.430000+00:00",
          "2023-03-03T08:11:51.487000+00:00",
          "2023-03-03T08:12:16.456000+00:00",
          "2023-03-03T08:12:42.603000+00:00",
          "2023-03-03T08:13:03.650000+00:00",
          "2023-03-03T08:13:22.450000+00:00",
          "2023-03-03T08:13:49.615000+00:00",
          "2023-03-03T08:14:14.206000+00:00",
          "2023-03-03T08:14:38.468000+00:00",
          "2023-03-03T08:15:04.352000+00:00",
          "2023-03-03T08:15:28.425000+00:00",
          "2023-03-03T08:15:54.480000+00:00",
          "2023-03-03T08:16:14.737000+00:00",
          "2023-03-03T08:16:38.168000+00:00",
          "2023-03-06T17:07:01.809000+00:00",
          "2023-03-06T17:07:28.369000+00:00",
          "2023-03-06T17:07:47.746000+00:00",
          "2023-03-06T17:08:08.597000+00:00",
          "2023-03-06T17:08:30.577000+00:00",
          "2023-03-06T17:08:58.401000+00:00",
          "2023-03-06T17:09:20.372000+00:00",
          "2023-03-06T17:09:41.606000+00:00",
          "2023-03-06T17:10:08.492000+00:00",
          "2023-03-06T17:10:32.583000+00:00",
          "2023-03-06T17:10:58.590000+00:00",
          "2023-03-06T17:11:21.918000+00:00",
          "2023-03-06T17:11:47.386000+00:00",
          "2023-03-06T17:12:09.427000+00:00",
          "2023-03-06T17:12:31.402000+00:00",
          "2023-03-06T17:12:55.063000+00:00",
          "2023-03-06T17:13:22.330000+00:00",
          "2023-03-06T17:13:42.843000+00:00",
          "2023-03-06T17:14:08.333000+00:00",
          "2023-03-06T17:14:29.261000+00:00",
          "2023-03-06T17:14:48.897000+00:00",
          "2023-03-06T17:15:11.949000+00:00",
          "2023-03-06T17:15:33.706000+00:00",
          "2023-03-06T17:15:54.622000+00:00",
          "2023-03-06T17:16:14.054000+00:00",
          "2023-03-06T17:16:33.103000+00:00",
          "2023-03-06T17:16:57.198000+00:00",
          "2023-03-06T17:17:18.190000+00:00",
          "2023-03-06T17:17:45.214000+00:00",
          "2023-03-06T17:18:07.227000+00:00",
          "2023-03-06T17:18:34.598000+00:00"
         ],
         "xaxis": "x",
         "y": [
          364.9355,
          326.5502,
          324.4594,
          380.5387,
          383.8408,
          319.8058,
          332.0838,
          341.5248,
          326.8342,
          391.3379,
          399.09,
          301.9612,
          301.4638,
          333.9597,
          394.811,
          315.8874,
          311.3834,
          395.8445,
          388.6047,
          350.0032,
          350.6164,
          395.666,
          308.6895,
          312.3693,
          374.159,
          374.0003,
          365.1464,
          340.7028,
          341.4808,
          330.883,
          378.8695,
          348.4314,
          328.7406,
          300.8363,
          326.5474,
          372.4441,
          307.0886,
          354.5664,
          383.4025,
          325.2342,
          395.5241,
          355.4746,
          314.1354,
          360.3631,
          387.1859,
          326.0659,
          319.2753,
          369.8758,
          375.5255,
          373.0638,
          355.9728,
          322.3662,
          385.6953,
          320.3287,
          336.7344,
          363.4749,
          381.4967,
          389.4938,
          342.0979,
          350.2523,
          324.7677,
          375.3648,
          329.4876,
          373.0348,
          377.234,
          359.4066,
          364.181,
          389.3191,
          332.0615,
          354.4344,
          394.0727,
          323.1026,
          381.8321,
          373.1673,
          386.7938,
          311.8049,
          326.536,
          353.4971,
          360.0398,
          301.7239,
          351.8889,
          335.6473,
          371.4739,
          368.914,
          345.7975,
          323.0757,
          332.2118,
          337.6216,
          367.028,
          337.193,
          386.8959,
          354.445,
          329.4446,
          390.4822,
          364.9644,
          330.031,
          370.4937,
          380.7867,
          370.7681,
          340.0267,
          312.6275,
          346.6681,
          372.1523,
          362.8509,
          379.9213,
          319.3603,
          344.9719,
          385.9868,
          380.867,
          368.1153,
          382.8765,
          321.2239,
          363.6288,
          328.5565,
          317.5868,
          306.0548,
          345.8011,
          398.8113,
          351.6094,
          370.0093,
          386.8788,
          375.7912,
          335.1538,
          376.0361
         ],
         "yaxis": "y"
        }
       ],
       "layout": {
        "template": {
         "data": {
          "bar": [
           {
            "error_x": {
             "color": "#2a3f5f"
            },
            "error_y": {
             "color": "#2a3f5f"
            },
            "marker": {
             "line": {
              "color": "#E5ECF6",
              "width": 0.5
             },
             "pattern": {
              "fillmode": "overlay",
              "size": 10,
              "solidity": 0.2
             }
            },
            "type": "bar"
           }
          ],
          "barpolar": [
           {
            "marker": {
             "line": {
              "color": "#E5ECF6",
              "width": 0.5
             },
             "pattern": {
              "fillmode": "overlay",
              "size": 10,
              "solidity": 0.2
             }
            },
            "type": "barpolar"
           }
          ],
          "carpet": [
           {
            "aaxis": {
             "endlinecolor": "#2a3f5f",
             "gridcolor": "white",
             "linecolor": "white",
             "minorgridcolor": "white",
             "startlinecolor": "#2a3f5f"
            },
            "baxis": {
             "endlinecolor": "#2a3f5f",
             "gridcolor": "white",
             "linecolor": "white",
             "minorgridcolor": "white",
             "startlinecolor": "#2a3f5f"
            },
            "type": "carpet"
           }
          ],
          "choropleth": [
           {
            "colorbar": {
             "outlinewidth": 0,
             "ticks": ""
            },
            "type": "choropleth"
           }
          ],
          "contour": [
           {
            "colorbar": {
             "outlinewidth": 0,
             "ticks": ""
            },
            "colorscale": [
             [
              0,
              "#0d0887"
             ],
             [
              0.1111111111111111,
              "#46039f"
             ],
             [
              0.2222222222222222,
              "#7201a8"
             ],
             [
              0.3333333333333333,
              "#9c179e"
             ],
             [
              0.4444444444444444,
              "#bd3786"
             ],
             [
              0.5555555555555556,
              "#d8576b"
             ],
             [
              0.6666666666666666,
              "#ed7953"
             ],
             [
              0.7777777777777778,
              "#fb9f3a"
             ],
             [
              0.8888888888888888,
              "#fdca26"
             ],
             [
              1,
              "#f0f921"
             ]
            ],
            "type": "contour"
           }
          ],
          "contourcarpet": [
           {
            "colorbar": {
             "outlinewidth": 0,
             "ticks": ""
            },
            "type": "contourcarpet"
           }
          ],
          "heatmap": [
           {
            "colorbar": {
             "outlinewidth": 0,
             "ticks": ""
            },
            "colorscale": [
             [
              0,
              "#0d0887"
             ],
             [
              0.1111111111111111,
              "#46039f"
             ],
             [
              0.2222222222222222,
              "#7201a8"
             ],
             [
              0.3333333333333333,
              "#9c179e"
             ],
             [
              0.4444444444444444,
              "#bd3786"
             ],
             [
              0.5555555555555556,
              "#d8576b"
             ],
             [
              0.6666666666666666,
              "#ed7953"
             ],
             [
              0.7777777777777778,
              "#fb9f3a"
             ],
             [
              0.8888888888888888,
              "#fdca26"
             ],
             [
              1,
              "#f0f921"
             ]
            ],
            "type": "heatmap"
           }
          ],
          "heatmapgl": [
           {
            "colorbar": {
             "outlinewidth": 0,
             "ticks": ""
            },
            "colorscale": [
             [
              0,
              "#0d0887"
             ],
             [
              0.1111111111111111,
              "#46039f"
             ],
             [
              0.2222222222222222,
              "#7201a8"
             ],
             [
              0.3333333333333333,
              "#9c179e"
             ],
             [
              0.4444444444444444,
              "#bd3786"
             ],
             [
              0.5555555555555556,
              "#d8576b"
             ],
             [
              0.6666666666666666,
              "#ed7953"
             ],
             [
              0.7777777777777778,
              "#fb9f3a"
             ],
             [
              0.8888888888888888,
              "#fdca26"
             ],
             [
              1,
              "#f0f921"
             ]
            ],
            "type": "heatmapgl"
           }
          ],
          "histogram": [
           {
            "marker": {
             "pattern": {
              "fillmode": "overlay",
              "size": 10,
              "solidity": 0.2
             }
            },
            "type": "histogram"
           }
          ],
          "histogram2d": [
           {
            "colorbar": {
             "outlinewidth": 0,
             "ticks": ""
            },
            "colorscale": [
             [
              0,
              "#0d0887"
             ],
             [
              0.1111111111111111,
              "#46039f"
             ],
             [
              0.2222222222222222,
              "#7201a8"
             ],
             [
              0.3333333333333333,
              "#9c179e"
             ],
             [
              0.4444444444444444,
              "#bd3786"
             ],
             [
              0.5555555555555556,
              "#d8576b"
             ],
             [
              0.6666666666666666,
              "#ed7953"
             ],
             [
              0.7777777777777778,
              "#fb9f3a"
             ],
             [
              0.8888888888888888,
              "#fdca26"
             ],
             [
              1,
              "#f0f921"
             ]
            ],
            "type": "histogram2d"
           }
          ],
          "histogram2dcontour": [
           {
            "colorbar": {
             "outlinewidth": 0,
             "ticks": ""
            },
            "colorscale": [
             [
              0,
              "#0d0887"
             ],
             [
              0.1111111111111111,
              "#46039f"
             ],
             [
              0.2222222222222222,
              "#7201a8"
             ],
             [
              0.3333333333333333,
              "#9c179e"
             ],
             [
              0.4444444444444444,
              "#bd3786"
             ],
             [
              0.5555555555555556,
              "#d8576b"
             ],
             [
              0.6666666666666666,
              "#ed7953"
             ],
             [
              0.7777777777777778,
              "#fb9f3a"
             ],
             [
              0.8888888888888888,
              "#fdca26"
             ],
             [
              1,
              "#f0f921"
             ]
            ],
            "type": "histogram2dcontour"
           }
          ],
          "mesh3d": [
           {
            "colorbar": {
             "outlinewidth": 0,
             "ticks": ""
            },
            "type": "mesh3d"
           }
          ],
          "parcoords": [
           {
            "line": {
             "colorbar": {
              "outlinewidth": 0,
              "ticks": ""
             }
            },
            "type": "parcoords"
           }
          ],
          "pie": [
           {
            "automargin": true,
            "type": "pie"
           }
          ],
          "scatter": [
           {
            "fillpattern": {
             "fillmode": "overlay",
             "size": 10,
             "solidity": 0.2
            },
            "type": "scatter"
           }
          ],
          "scatter3d": [
           {
            "line": {
             "colorbar": {
              "outlinewidth": 0,
              "ticks": ""
             }
            },
            "marker": {
             "colorbar": {
              "outlinewidth": 0,
              "ticks": ""
             }
            },
            "type": "scatter3d"
           }
          ],
          "scattercarpet": [
           {
            "marker": {
             "colorbar": {
              "outlinewidth": 0,
              "ticks": ""
             }
            },
            "type": "scattercarpet"
           }
          ],
          "scattergeo": [
           {
            "marker": {
             "colorbar": {
              "outlinewidth": 0,
              "ticks": ""
             }
            },
            "type": "scattergeo"
           }
          ],
          "scattergl": [
           {
            "marker": {
             "colorbar": {
              "outlinewidth": 0,
              "ticks": ""
             }
            },
            "type": "scattergl"
           }
          ],
          "scattermapbox": [
           {
            "marker": {
             "colorbar": {
              "outlinewidth": 0,
              "ticks": ""
             }
            },
            "type": "scattermapbox"
           }
          ],
          "scatterpolar": [
           {
            "marker": {
             "colorbar": {
              "outlinewidth": 0,
              "ticks": ""
             }
            },
            "type": "scatterpolar"
           }
          ],
          "scatterpolargl": [
           {
            "marker": {
             "colorbar": {
              "outlinewidth": 0,
              "ticks": ""
             }
            },
            "type": "scatterpolargl"
           }
          ],
          "scatterternary": [
           {
            "marker": {
             "colorbar": {
              "outlinewidth": 0,
              "ticks": ""
             }
            },
            "type": "scatterternary"
           }
          ],
          "surface": [
           {
            "colorbar": {
             "outlinewidth": 0,
             "ticks": ""
            },
            "colorscale": [
             [
              0,
              "#0d0887"
             ],
             [
              0.1111111111111111,
              "#46039f"
             ],
             [
              0.2222222222222222,
              "#7201a8"
             ],
             [
              0.3333333333333333,
              "#9c179e"
             ],
             [
              0.4444444444444444,
              "#bd3786"
             ],
             [
              0.5555555555555556,
              "#d8576b"
             ],
             [
              0.6666666666666666,
              "#ed7953"
             ],
             [
              0.7777777777777778,
              "#fb9f3a"
             ],
             [
              0.8888888888888888,
              "#fdca26"
             ],
             [
              1,
              "#f0f921"
             ]
            ],
            "type": "surface"
           }
          ],
          "table": [
           {
            "cells": {
             "fill": {
              "color": "#EBF0F8"
             },
             "line": {
              "color": "white"
             }
            },
            "header": {
             "fill": {
              "color": "#C8D4E3"
             },
             "line": {
              "color": "white"
             }
            },
            "type": "table"
           }
          ]
         },
         "layout": {
          "annotationdefaults": {
           "arrowcolor": "#2a3f5f",
           "arrowhead": 0,
           "arrowwidth": 1
          },
          "autotypenumbers": "strict",
          "coloraxis": {
           "colorbar": {
            "outlinewidth": 0,
            "ticks": ""
           }
          },
          "colorscale": {
           "diverging": [
            [
             0,
             "#8e0152"
            ],
            [
             0.1,
             "#c51b7d"
            ],
            [
             0.2,
             "#de77ae"
            ],
            [
             0.3,
             "#f1b6da"
            ],
            [
             0.4,
             "#fde0ef"
            ],
            [
             0.5,
             "#f7f7f7"
            ],
            [
             0.6,
             "#e6f5d0"
            ],
            [
             0.7,
             "#b8e186"
            ],
            [
             0.8,
             "#7fbc41"
            ],
            [
             0.9,
             "#4d9221"
            ],
            [
             1,
             "#276419"
            ]
           ],
           "sequential": [
            [
             0,
             "#0d0887"
            ],
            [
             0.1111111111111111,
             "#46039f"
            ],
            [
             0.2222222222222222,
             "#7201a8"
            ],
            [
             0.3333333333333333,
             "#9c179e"
            ],
            [
             0.4444444444444444,
             "#bd3786"
            ],
            [
             0.5555555555555556,
             "#d8576b"
            ],
            [
             0.6666666666666666,
             "#ed7953"
            ],
            [
             0.7777777777777778,
             "#fb9f3a"
            ],
            [
             0.8888888888888888,
             "#fdca26"
            ],
            [
             1,
             "#f0f921"
            ]
           ],
           "sequentialminus": [
            [
             0,
             "#0d0887"
            ],
            [
             0.1111111111111111,
             "#46039f"
            ],
            [
             0.2222222222222222,
             "#7201a8"
            ],
            [
             0.3333333333333333,
             "#9c179e"
            ],
            [
             0.4444444444444444,
             "#bd3786"
            ],
            [
             0.5555555555555556,
             "#d8576b"
            ],
            [
             0.6666666666666666,
             "#ed7953"
            ],
            [
             0.7777777777777778,
             "#fb9f3a"
            ],
            [
             0.8888888888888888,
             "#fdca26"
            ],
            [
             1,
             "#f0f921"
            ]
           ]
          },
          "colorway": [
           "#636efa",
           "#EF553B",
           "#00cc96",
           "#ab63fa",
           "#FFA15A",
           "#19d3f3",
           "#FF6692",
           "#B6E880",
           "#FF97FF",
           "#FECB52"
          ],
          "font": {
           "color": "#2a3f5f"
          },
          "geo": {
           "bgcolor": "white",
           "lakecolor": "white",
           "landcolor": "#E5ECF6",
           "showlakes": true,
           "showland": true,
           "subunitcolor": "white"
          },
          "hoverlabel": {
           "align": "left"
          },
          "hovermode": "closest",
          "mapbox": {
           "style": "light"
          },
          "paper_bgcolor": "white",
          "plot_bgcolor": "#E5ECF6",
          "polar": {
           "angularaxis": {
            "gridcolor": "white",
            "linecolor": "white",
            "ticks": ""
           },
           "bgcolor": "#E5ECF6",
           "radialaxis": {
            "gridcolor": "white",
            "linecolor": "white",
            "ticks": ""
           }
          },
          "scene": {
           "xaxis": {
            "backgroundcolor": "#E5ECF6",
            "gridcolor": "white",
            "gridwidth": 2,
            "linecolor": "white",
            "showbackground": true,
            "ticks": "",
            "zerolinecolor": "white"
           },
           "yaxis": {
            "backgroundcolor": "#E5ECF6",
            "gridcolor": "white",
            "gridwidth": 2,
            "linecolor": "white",
            "showbackground": true,
            "ticks": "",
            "zerolinecolor": "white"
           },
           "zaxis": {
            "backgroundcolor": "#E5ECF6",
            "gridcolor": "white",
            "gridwidth": 2,
            "linecolor": "white",
            "showbackground": true,
            "ticks": "",
            "zerolinecolor": "white"
           }
          },
          "shapedefaults": {
           "line": {
            "color": "#2a3f5f"
           }
          },
          "ternary": {
           "aaxis": {
            "gridcolor": "white",
            "linecolor": "white",
            "ticks": ""
           },
           "baxis": {
            "gridcolor": "white",
            "linecolor": "white",
            "ticks": ""
           },
           "bgcolor": "#E5ECF6",
           "caxis": {
            "gridcolor": "white",
            "linecolor": "white",
            "ticks": ""
           }
          },
          "title": {
           "x": 0.05
          },
          "xaxis": {
           "automargin": true,
           "gridcolor": "white",
           "linecolor": "white",
           "ticks": "",
           "title": {
            "standoff": 15
           },
           "zerolinecolor": "white",
           "zerolinewidth": 2
          },
          "yaxis": {
           "automargin": true,
           "gridcolor": "white",
           "linecolor": "white",
           "ticks": "",
           "title": {
            "standoff": 15
           },
           "zerolinecolor": "white",
           "zerolinewidth": 2
          }
         }
        },
        "title": {
         "text": "Andamento livello concetrazione Gas nei Gasmeter device"
        },
        "xaxis": {
         "title": {
          "text": "Date"
         }
        },
        "yaxis": {
         "title": {
          "text": "Livello ppm"
         }
        }
       }
      },
      "text/html": [
       "<div>                            <div id=\"e9e69400-e939-44e7-b492-f6d8d8691e65\" class=\"plotly-graph-div\" style=\"height:525px; width:100%;\"></div>            <script type=\"text/javascript\">                require([\"plotly\"], function(Plotly) {                    window.PLOTLYENV=window.PLOTLYENV || {};                                    if (document.getElementById(\"e9e69400-e939-44e7-b492-f6d8d8691e65\")) {                    Plotly.newPlot(                        \"e9e69400-e939-44e7-b492-f6d8d8691e65\",                        [{\"hovertemplate\":\"tz=%{x}<br>v=%{y}<extra></extra>\",\"legendgroup\":\"\",\"line\":{\"color\":\"#636efa\",\"dash\":\"solid\"},\"marker\":{\"symbol\":\"circle\"},\"mode\":\"lines\",\"name\":\"\",\"orientation\":\"v\",\"showlegend\":false,\"x\":[\"2023-03-01T22:44:56.785000+00:00\",\"2023-03-01T22:45:43.216000+00:00\",\"2023-03-01T22:46:02.734000+00:00\",\"2023-03-01T22:46:22.205000+00:00\",\"2023-03-01T22:46:42.472000+00:00\",\"2023-03-01T22:47:06.265000+00:00\",\"2023-03-01T22:49:30.014000+00:00\",\"2023-03-01T22:49:50.117000+00:00\",\"2023-03-01T22:50:17.785000+00:00\",\"2023-03-01T22:50:43.587000+00:00\",\"2023-03-01T22:51:05.282000+00:00\",\"2023-03-01T22:51:26.534000+00:00\",\"2023-03-01T22:51:51.732000+00:00\",\"2023-03-01T22:52:13.885000+00:00\",\"2023-03-01T22:52:39.392000+00:00\",\"2023-03-01T22:53:02.406000+00:00\",\"2023-03-01T22:53:24.198000+00:00\",\"2023-03-01T22:53:47.723000+00:00\",\"2023-03-01T22:54:10.294000+00:00\",\"2023-03-01T22:54:35.867000+00:00\",\"2023-03-01T22:54:56.817000+00:00\",\"2023-03-01T22:55:22.099000+00:00\",\"2023-03-01T22:55:44.117000+00:00\",\"2023-03-01T22:56:10.585000+00:00\",\"2023-03-01T22:56:33.040000+00:00\",\"2023-03-01T22:56:58.043000+00:00\",\"2023-03-01T22:57:22.983000+00:00\",\"2023-03-01T22:57:48.945000+00:00\",\"2023-03-01T22:58:13.511000+00:00\",\"2023-03-01T22:58:38.232000+00:00\",\"2023-03-02T15:53:26.596000+00:00\",\"2023-03-02T15:53:48.791000+00:00\",\"2023-03-02T15:54:09.931000+00:00\",\"2023-03-02T15:54:32.254000+00:00\",\"2023-03-02T15:54:57.827000+00:00\",\"2023-03-02T15:55:25.624000+00:00\",\"2023-03-02T15:55:49.756000+00:00\",\"2023-03-02T15:56:09.814000+00:00\",\"2023-03-02T15:56:32.929000+00:00\",\"2023-03-02T22:40:09.326000+00:00\",\"2023-03-02T22:40:27.791000+00:00\",\"2023-03-02T22:40:55.601000+00:00\",\"2023-03-02T22:41:20.355000+00:00\",\"2023-03-02T22:41:47.333000+00:00\",\"2023-03-02T22:42:14.254000+00:00\",\"2023-03-02T22:42:40.614000+00:00\",\"2023-03-02T22:43:03.378000+00:00\",\"2023-03-02T22:43:27.018000+00:00\",\"2023-03-02T22:43:52.143000+00:00\",\"2023-03-02T22:44:12.596000+00:00\",\"2023-03-02T22:44:36.004000+00:00\",\"2023-03-02T22:45:17.288000+00:00\",\"2023-03-02T22:47:29.614000+00:00\",\"2023-03-02T22:47:51.657000+00:00\",\"2023-03-02T22:48:13.142000+00:00\",\"2023-03-02T22:48:41.221000+00:00\",\"2023-03-02T22:49:03.860000+00:00\",\"2023-03-03T08:03:11.236000+00:00\",\"2023-03-03T08:03:34.714000+00:00\",\"2023-03-03T08:03:58.623000+00:00\",\"2023-03-03T08:04:20.552000+00:00\",\"2023-03-03T08:04:48.774000+00:00\",\"2023-03-03T08:05:09.777000+00:00\",\"2023-03-03T08:05:35.528000+00:00\",\"2023-03-03T08:06:00.847000+00:00\",\"2023-03-03T08:06:21.554000+00:00\",\"2023-03-03T08:06:46.743000+00:00\",\"2023-03-03T08:07:07.238000+00:00\",\"2023-03-03T08:07:31.788000+00:00\",\"2023-03-03T08:07:51.732000+00:00\",\"2023-03-03T08:08:18.843000+00:00\",\"2023-03-03T08:08:39.479000+00:00\",\"2023-03-03T08:09:01.996000+00:00\",\"2023-03-03T08:09:24.518000+00:00\",\"2023-03-03T08:09:44.540000+00:00\",\"2023-03-03T08:10:05.360000+00:00\",\"2023-03-03T08:10:30.872000+00:00\",\"2023-03-03T08:10:53.932000+00:00\",\"2023-03-03T08:11:11.726000+00:00\",\"2023-03-03T08:11:31.430000+00:00\",\"2023-03-03T08:11:51.487000+00:00\",\"2023-03-03T08:12:16.456000+00:00\",\"2023-03-03T08:12:42.603000+00:00\",\"2023-03-03T08:13:03.650000+00:00\",\"2023-03-03T08:13:22.450000+00:00\",\"2023-03-03T08:13:49.615000+00:00\",\"2023-03-03T08:14:14.206000+00:00\",\"2023-03-03T08:14:38.468000+00:00\",\"2023-03-03T08:15:04.352000+00:00\",\"2023-03-03T08:15:28.425000+00:00\",\"2023-03-03T08:15:54.480000+00:00\",\"2023-03-03T08:16:14.737000+00:00\",\"2023-03-03T08:16:38.168000+00:00\",\"2023-03-06T17:07:01.809000+00:00\",\"2023-03-06T17:07:28.369000+00:00\",\"2023-03-06T17:07:47.746000+00:00\",\"2023-03-06T17:08:08.597000+00:00\",\"2023-03-06T17:08:30.577000+00:00\",\"2023-03-06T17:08:58.401000+00:00\",\"2023-03-06T17:09:20.372000+00:00\",\"2023-03-06T17:09:41.606000+00:00\",\"2023-03-06T17:10:08.492000+00:00\",\"2023-03-06T17:10:32.583000+00:00\",\"2023-03-06T17:10:58.590000+00:00\",\"2023-03-06T17:11:21.918000+00:00\",\"2023-03-06T17:11:47.386000+00:00\",\"2023-03-06T17:12:09.427000+00:00\",\"2023-03-06T17:12:31.402000+00:00\",\"2023-03-06T17:12:55.063000+00:00\",\"2023-03-06T17:13:22.330000+00:00\",\"2023-03-06T17:13:42.843000+00:00\",\"2023-03-06T17:14:08.333000+00:00\",\"2023-03-06T17:14:29.261000+00:00\",\"2023-03-06T17:14:48.897000+00:00\",\"2023-03-06T17:15:11.949000+00:00\",\"2023-03-06T17:15:33.706000+00:00\",\"2023-03-06T17:15:54.622000+00:00\",\"2023-03-06T17:16:14.054000+00:00\",\"2023-03-06T17:16:33.103000+00:00\",\"2023-03-06T17:16:57.198000+00:00\",\"2023-03-06T17:17:18.190000+00:00\",\"2023-03-06T17:17:45.214000+00:00\",\"2023-03-06T17:18:07.227000+00:00\",\"2023-03-06T17:18:34.598000+00:00\"],\"xaxis\":\"x\",\"y\":[364.9355,326.5502,324.4594,380.5387,383.8408,319.8058,332.0838,341.5248,326.8342,391.3379,399.09,301.9612,301.4638,333.9597,394.811,315.8874,311.3834,395.8445,388.6047,350.0032,350.6164,395.666,308.6895,312.3693,374.159,374.0003,365.1464,340.7028,341.4808,330.883,378.8695,348.4314,328.7406,300.8363,326.5474,372.4441,307.0886,354.5664,383.4025,325.2342,395.5241,355.4746,314.1354,360.3631,387.1859,326.0659,319.2753,369.8758,375.5255,373.0638,355.9728,322.3662,385.6953,320.3287,336.7344,363.4749,381.4967,389.4938,342.0979,350.2523,324.7677,375.3648,329.4876,373.0348,377.234,359.4066,364.181,389.3191,332.0615,354.4344,394.0727,323.1026,381.8321,373.1673,386.7938,311.8049,326.536,353.4971,360.0398,301.7239,351.8889,335.6473,371.4739,368.914,345.7975,323.0757,332.2118,337.6216,367.028,337.193,386.8959,354.445,329.4446,390.4822,364.9644,330.031,370.4937,380.7867,370.7681,340.0267,312.6275,346.6681,372.1523,362.8509,379.9213,319.3603,344.9719,385.9868,380.867,368.1153,382.8765,321.2239,363.6288,328.5565,317.5868,306.0548,345.8011,398.8113,351.6094,370.0093,386.8788,375.7912,335.1538,376.0361],\"yaxis\":\"y\",\"type\":\"scatter\"},{\"hovertemplate\":\"tz=%{x}<br>v=%{y}<extra></extra>\",\"legendgroup\":\"\",\"marker\":{\"color\":\"red\",\"symbol\":\"circle\"},\"mode\":\"markers\",\"name\":\"\",\"orientation\":\"v\",\"showlegend\":false,\"x\":[\"2023-03-01T22:44:56.785000+00:00\",\"2023-03-01T22:45:43.216000+00:00\",\"2023-03-01T22:46:02.734000+00:00\",\"2023-03-01T22:46:22.205000+00:00\",\"2023-03-01T22:46:42.472000+00:00\",\"2023-03-01T22:47:06.265000+00:00\",\"2023-03-01T22:49:30.014000+00:00\",\"2023-03-01T22:49:50.117000+00:00\",\"2023-03-01T22:50:17.785000+00:00\",\"2023-03-01T22:50:43.587000+00:00\",\"2023-03-01T22:51:05.282000+00:00\",\"2023-03-01T22:51:26.534000+00:00\",\"2023-03-01T22:51:51.732000+00:00\",\"2023-03-01T22:52:13.885000+00:00\",\"2023-03-01T22:52:39.392000+00:00\",\"2023-03-01T22:53:02.406000+00:00\",\"2023-03-01T22:53:24.198000+00:00\",\"2023-03-01T22:53:47.723000+00:00\",\"2023-03-01T22:54:10.294000+00:00\",\"2023-03-01T22:54:35.867000+00:00\",\"2023-03-01T22:54:56.817000+00:00\",\"2023-03-01T22:55:22.099000+00:00\",\"2023-03-01T22:55:44.117000+00:00\",\"2023-03-01T22:56:10.585000+00:00\",\"2023-03-01T22:56:33.040000+00:00\",\"2023-03-01T22:56:58.043000+00:00\",\"2023-03-01T22:57:22.983000+00:00\",\"2023-03-01T22:57:48.945000+00:00\",\"2023-03-01T22:58:13.511000+00:00\",\"2023-03-01T22:58:38.232000+00:00\",\"2023-03-02T15:53:26.596000+00:00\",\"2023-03-02T15:53:48.791000+00:00\",\"2023-03-02T15:54:09.931000+00:00\",\"2023-03-02T15:54:32.254000+00:00\",\"2023-03-02T15:54:57.827000+00:00\",\"2023-03-02T15:55:25.624000+00:00\",\"2023-03-02T15:55:49.756000+00:00\",\"2023-03-02T15:56:09.814000+00:00\",\"2023-03-02T15:56:32.929000+00:00\",\"2023-03-02T22:40:09.326000+00:00\",\"2023-03-02T22:40:27.791000+00:00\",\"2023-03-02T22:40:55.601000+00:00\",\"2023-03-02T22:41:20.355000+00:00\",\"2023-03-02T22:41:47.333000+00:00\",\"2023-03-02T22:42:14.254000+00:00\",\"2023-03-02T22:42:40.614000+00:00\",\"2023-03-02T22:43:03.378000+00:00\",\"2023-03-02T22:43:27.018000+00:00\",\"2023-03-02T22:43:52.143000+00:00\",\"2023-03-02T22:44:12.596000+00:00\",\"2023-03-02T22:44:36.004000+00:00\",\"2023-03-02T22:45:17.288000+00:00\",\"2023-03-02T22:47:29.614000+00:00\",\"2023-03-02T22:47:51.657000+00:00\",\"2023-03-02T22:48:13.142000+00:00\",\"2023-03-02T22:48:41.221000+00:00\",\"2023-03-02T22:49:03.860000+00:00\",\"2023-03-03T08:03:11.236000+00:00\",\"2023-03-03T08:03:34.714000+00:00\",\"2023-03-03T08:03:58.623000+00:00\",\"2023-03-03T08:04:20.552000+00:00\",\"2023-03-03T08:04:48.774000+00:00\",\"2023-03-03T08:05:09.777000+00:00\",\"2023-03-03T08:05:35.528000+00:00\",\"2023-03-03T08:06:00.847000+00:00\",\"2023-03-03T08:06:21.554000+00:00\",\"2023-03-03T08:06:46.743000+00:00\",\"2023-03-03T08:07:07.238000+00:00\",\"2023-03-03T08:07:31.788000+00:00\",\"2023-03-03T08:07:51.732000+00:00\",\"2023-03-03T08:08:18.843000+00:00\",\"2023-03-03T08:08:39.479000+00:00\",\"2023-03-03T08:09:01.996000+00:00\",\"2023-03-03T08:09:24.518000+00:00\",\"2023-03-03T08:09:44.540000+00:00\",\"2023-03-03T08:10:05.360000+00:00\",\"2023-03-03T08:10:30.872000+00:00\",\"2023-03-03T08:10:53.932000+00:00\",\"2023-03-03T08:11:11.726000+00:00\",\"2023-03-03T08:11:31.430000+00:00\",\"2023-03-03T08:11:51.487000+00:00\",\"2023-03-03T08:12:16.456000+00:00\",\"2023-03-03T08:12:42.603000+00:00\",\"2023-03-03T08:13:03.650000+00:00\",\"2023-03-03T08:13:22.450000+00:00\",\"2023-03-03T08:13:49.615000+00:00\",\"2023-03-03T08:14:14.206000+00:00\",\"2023-03-03T08:14:38.468000+00:00\",\"2023-03-03T08:15:04.352000+00:00\",\"2023-03-03T08:15:28.425000+00:00\",\"2023-03-03T08:15:54.480000+00:00\",\"2023-03-03T08:16:14.737000+00:00\",\"2023-03-03T08:16:38.168000+00:00\",\"2023-03-06T17:07:01.809000+00:00\",\"2023-03-06T17:07:28.369000+00:00\",\"2023-03-06T17:07:47.746000+00:00\",\"2023-03-06T17:08:08.597000+00:00\",\"2023-03-06T17:08:30.577000+00:00\",\"2023-03-06T17:08:58.401000+00:00\",\"2023-03-06T17:09:20.372000+00:00\",\"2023-03-06T17:09:41.606000+00:00\",\"2023-03-06T17:10:08.492000+00:00\",\"2023-03-06T17:10:32.583000+00:00\",\"2023-03-06T17:10:58.590000+00:00\",\"2023-03-06T17:11:21.918000+00:00\",\"2023-03-06T17:11:47.386000+00:00\",\"2023-03-06T17:12:09.427000+00:00\",\"2023-03-06T17:12:31.402000+00:00\",\"2023-03-06T17:12:55.063000+00:00\",\"2023-03-06T17:13:22.330000+00:00\",\"2023-03-06T17:13:42.843000+00:00\",\"2023-03-06T17:14:08.333000+00:00\",\"2023-03-06T17:14:29.261000+00:00\",\"2023-03-06T17:14:48.897000+00:00\",\"2023-03-06T17:15:11.949000+00:00\",\"2023-03-06T17:15:33.706000+00:00\",\"2023-03-06T17:15:54.622000+00:00\",\"2023-03-06T17:16:14.054000+00:00\",\"2023-03-06T17:16:33.103000+00:00\",\"2023-03-06T17:16:57.198000+00:00\",\"2023-03-06T17:17:18.190000+00:00\",\"2023-03-06T17:17:45.214000+00:00\",\"2023-03-06T17:18:07.227000+00:00\",\"2023-03-06T17:18:34.598000+00:00\"],\"xaxis\":\"x\",\"y\":[364.9355,326.5502,324.4594,380.5387,383.8408,319.8058,332.0838,341.5248,326.8342,391.3379,399.09,301.9612,301.4638,333.9597,394.811,315.8874,311.3834,395.8445,388.6047,350.0032,350.6164,395.666,308.6895,312.3693,374.159,374.0003,365.1464,340.7028,341.4808,330.883,378.8695,348.4314,328.7406,300.8363,326.5474,372.4441,307.0886,354.5664,383.4025,325.2342,395.5241,355.4746,314.1354,360.3631,387.1859,326.0659,319.2753,369.8758,375.5255,373.0638,355.9728,322.3662,385.6953,320.3287,336.7344,363.4749,381.4967,389.4938,342.0979,350.2523,324.7677,375.3648,329.4876,373.0348,377.234,359.4066,364.181,389.3191,332.0615,354.4344,394.0727,323.1026,381.8321,373.1673,386.7938,311.8049,326.536,353.4971,360.0398,301.7239,351.8889,335.6473,371.4739,368.914,345.7975,323.0757,332.2118,337.6216,367.028,337.193,386.8959,354.445,329.4446,390.4822,364.9644,330.031,370.4937,380.7867,370.7681,340.0267,312.6275,346.6681,372.1523,362.8509,379.9213,319.3603,344.9719,385.9868,380.867,368.1153,382.8765,321.2239,363.6288,328.5565,317.5868,306.0548,345.8011,398.8113,351.6094,370.0093,386.8788,375.7912,335.1538,376.0361],\"yaxis\":\"y\",\"type\":\"scatter\"}],                        {\"template\":{\"data\":{\"histogram2dcontour\":[{\"type\":\"histogram2dcontour\",\"colorbar\":{\"outlinewidth\":0,\"ticks\":\"\"},\"colorscale\":[[0.0,\"#0d0887\"],[0.1111111111111111,\"#46039f\"],[0.2222222222222222,\"#7201a8\"],[0.3333333333333333,\"#9c179e\"],[0.4444444444444444,\"#bd3786\"],[0.5555555555555556,\"#d8576b\"],[0.6666666666666666,\"#ed7953\"],[0.7777777777777778,\"#fb9f3a\"],[0.8888888888888888,\"#fdca26\"],[1.0,\"#f0f921\"]]}],\"choropleth\":[{\"type\":\"choropleth\",\"colorbar\":{\"outlinewidth\":0,\"ticks\":\"\"}}],\"histogram2d\":[{\"type\":\"histogram2d\",\"colorbar\":{\"outlinewidth\":0,\"ticks\":\"\"},\"colorscale\":[[0.0,\"#0d0887\"],[0.1111111111111111,\"#46039f\"],[0.2222222222222222,\"#7201a8\"],[0.3333333333333333,\"#9c179e\"],[0.4444444444444444,\"#bd3786\"],[0.5555555555555556,\"#d8576b\"],[0.6666666666666666,\"#ed7953\"],[0.7777777777777778,\"#fb9f3a\"],[0.8888888888888888,\"#fdca26\"],[1.0,\"#f0f921\"]]}],\"heatmap\":[{\"type\":\"heatmap\",\"colorbar\":{\"outlinewidth\":0,\"ticks\":\"\"},\"colorscale\":[[0.0,\"#0d0887\"],[0.1111111111111111,\"#46039f\"],[0.2222222222222222,\"#7201a8\"],[0.3333333333333333,\"#9c179e\"],[0.4444444444444444,\"#bd3786\"],[0.5555555555555556,\"#d8576b\"],[0.6666666666666666,\"#ed7953\"],[0.7777777777777778,\"#fb9f3a\"],[0.8888888888888888,\"#fdca26\"],[1.0,\"#f0f921\"]]}],\"heatmapgl\":[{\"type\":\"heatmapgl\",\"colorbar\":{\"outlinewidth\":0,\"ticks\":\"\"},\"colorscale\":[[0.0,\"#0d0887\"],[0.1111111111111111,\"#46039f\"],[0.2222222222222222,\"#7201a8\"],[0.3333333333333333,\"#9c179e\"],[0.4444444444444444,\"#bd3786\"],[0.5555555555555556,\"#d8576b\"],[0.6666666666666666,\"#ed7953\"],[0.7777777777777778,\"#fb9f3a\"],[0.8888888888888888,\"#fdca26\"],[1.0,\"#f0f921\"]]}],\"contourcarpet\":[{\"type\":\"contourcarpet\",\"colorbar\":{\"outlinewidth\":0,\"ticks\":\"\"}}],\"contour\":[{\"type\":\"contour\",\"colorbar\":{\"outlinewidth\":0,\"ticks\":\"\"},\"colorscale\":[[0.0,\"#0d0887\"],[0.1111111111111111,\"#46039f\"],[0.2222222222222222,\"#7201a8\"],[0.3333333333333333,\"#9c179e\"],[0.4444444444444444,\"#bd3786\"],[0.5555555555555556,\"#d8576b\"],[0.6666666666666666,\"#ed7953\"],[0.7777777777777778,\"#fb9f3a\"],[0.8888888888888888,\"#fdca26\"],[1.0,\"#f0f921\"]]}],\"surface\":[{\"type\":\"surface\",\"colorbar\":{\"outlinewidth\":0,\"ticks\":\"\"},\"colorscale\":[[0.0,\"#0d0887\"],[0.1111111111111111,\"#46039f\"],[0.2222222222222222,\"#7201a8\"],[0.3333333333333333,\"#9c179e\"],[0.4444444444444444,\"#bd3786\"],[0.5555555555555556,\"#d8576b\"],[0.6666666666666666,\"#ed7953\"],[0.7777777777777778,\"#fb9f3a\"],[0.8888888888888888,\"#fdca26\"],[1.0,\"#f0f921\"]]}],\"mesh3d\":[{\"type\":\"mesh3d\",\"colorbar\":{\"outlinewidth\":0,\"ticks\":\"\"}}],\"scatter\":[{\"fillpattern\":{\"fillmode\":\"overlay\",\"size\":10,\"solidity\":0.2},\"type\":\"scatter\"}],\"parcoords\":[{\"type\":\"parcoords\",\"line\":{\"colorbar\":{\"outlinewidth\":0,\"ticks\":\"\"}}}],\"scatterpolargl\":[{\"type\":\"scatterpolargl\",\"marker\":{\"colorbar\":{\"outlinewidth\":0,\"ticks\":\"\"}}}],\"bar\":[{\"error_x\":{\"color\":\"#2a3f5f\"},\"error_y\":{\"color\":\"#2a3f5f\"},\"marker\":{\"line\":{\"color\":\"#E5ECF6\",\"width\":0.5},\"pattern\":{\"fillmode\":\"overlay\",\"size\":10,\"solidity\":0.2}},\"type\":\"bar\"}],\"scattergeo\":[{\"type\":\"scattergeo\",\"marker\":{\"colorbar\":{\"outlinewidth\":0,\"ticks\":\"\"}}}],\"scatterpolar\":[{\"type\":\"scatterpolar\",\"marker\":{\"colorbar\":{\"outlinewidth\":0,\"ticks\":\"\"}}}],\"histogram\":[{\"marker\":{\"pattern\":{\"fillmode\":\"overlay\",\"size\":10,\"solidity\":0.2}},\"type\":\"histogram\"}],\"scattergl\":[{\"type\":\"scattergl\",\"marker\":{\"colorbar\":{\"outlinewidth\":0,\"ticks\":\"\"}}}],\"scatter3d\":[{\"type\":\"scatter3d\",\"line\":{\"colorbar\":{\"outlinewidth\":0,\"ticks\":\"\"}},\"marker\":{\"colorbar\":{\"outlinewidth\":0,\"ticks\":\"\"}}}],\"scattermapbox\":[{\"type\":\"scattermapbox\",\"marker\":{\"colorbar\":{\"outlinewidth\":0,\"ticks\":\"\"}}}],\"scatterternary\":[{\"type\":\"scatterternary\",\"marker\":{\"colorbar\":{\"outlinewidth\":0,\"ticks\":\"\"}}}],\"scattercarpet\":[{\"type\":\"scattercarpet\",\"marker\":{\"colorbar\":{\"outlinewidth\":0,\"ticks\":\"\"}}}],\"carpet\":[{\"aaxis\":{\"endlinecolor\":\"#2a3f5f\",\"gridcolor\":\"white\",\"linecolor\":\"white\",\"minorgridcolor\":\"white\",\"startlinecolor\":\"#2a3f5f\"},\"baxis\":{\"endlinecolor\":\"#2a3f5f\",\"gridcolor\":\"white\",\"linecolor\":\"white\",\"minorgridcolor\":\"white\",\"startlinecolor\":\"#2a3f5f\"},\"type\":\"carpet\"}],\"table\":[{\"cells\":{\"fill\":{\"color\":\"#EBF0F8\"},\"line\":{\"color\":\"white\"}},\"header\":{\"fill\":{\"color\":\"#C8D4E3\"},\"line\":{\"color\":\"white\"}},\"type\":\"table\"}],\"barpolar\":[{\"marker\":{\"line\":{\"color\":\"#E5ECF6\",\"width\":0.5},\"pattern\":{\"fillmode\":\"overlay\",\"size\":10,\"solidity\":0.2}},\"type\":\"barpolar\"}],\"pie\":[{\"automargin\":true,\"type\":\"pie\"}]},\"layout\":{\"autotypenumbers\":\"strict\",\"colorway\":[\"#636efa\",\"#EF553B\",\"#00cc96\",\"#ab63fa\",\"#FFA15A\",\"#19d3f3\",\"#FF6692\",\"#B6E880\",\"#FF97FF\",\"#FECB52\"],\"font\":{\"color\":\"#2a3f5f\"},\"hovermode\":\"closest\",\"hoverlabel\":{\"align\":\"left\"},\"paper_bgcolor\":\"white\",\"plot_bgcolor\":\"#E5ECF6\",\"polar\":{\"bgcolor\":\"#E5ECF6\",\"angularaxis\":{\"gridcolor\":\"white\",\"linecolor\":\"white\",\"ticks\":\"\"},\"radialaxis\":{\"gridcolor\":\"white\",\"linecolor\":\"white\",\"ticks\":\"\"}},\"ternary\":{\"bgcolor\":\"#E5ECF6\",\"aaxis\":{\"gridcolor\":\"white\",\"linecolor\":\"white\",\"ticks\":\"\"},\"baxis\":{\"gridcolor\":\"white\",\"linecolor\":\"white\",\"ticks\":\"\"},\"caxis\":{\"gridcolor\":\"white\",\"linecolor\":\"white\",\"ticks\":\"\"}},\"coloraxis\":{\"colorbar\":{\"outlinewidth\":0,\"ticks\":\"\"}},\"colorscale\":{\"sequential\":[[0.0,\"#0d0887\"],[0.1111111111111111,\"#46039f\"],[0.2222222222222222,\"#7201a8\"],[0.3333333333333333,\"#9c179e\"],[0.4444444444444444,\"#bd3786\"],[0.5555555555555556,\"#d8576b\"],[0.6666666666666666,\"#ed7953\"],[0.7777777777777778,\"#fb9f3a\"],[0.8888888888888888,\"#fdca26\"],[1.0,\"#f0f921\"]],\"sequentialminus\":[[0.0,\"#0d0887\"],[0.1111111111111111,\"#46039f\"],[0.2222222222222222,\"#7201a8\"],[0.3333333333333333,\"#9c179e\"],[0.4444444444444444,\"#bd3786\"],[0.5555555555555556,\"#d8576b\"],[0.6666666666666666,\"#ed7953\"],[0.7777777777777778,\"#fb9f3a\"],[0.8888888888888888,\"#fdca26\"],[1.0,\"#f0f921\"]],\"diverging\":[[0,\"#8e0152\"],[0.1,\"#c51b7d\"],[0.2,\"#de77ae\"],[0.3,\"#f1b6da\"],[0.4,\"#fde0ef\"],[0.5,\"#f7f7f7\"],[0.6,\"#e6f5d0\"],[0.7,\"#b8e186\"],[0.8,\"#7fbc41\"],[0.9,\"#4d9221\"],[1,\"#276419\"]]},\"xaxis\":{\"gridcolor\":\"white\",\"linecolor\":\"white\",\"ticks\":\"\",\"title\":{\"standoff\":15},\"zerolinecolor\":\"white\",\"automargin\":true,\"zerolinewidth\":2},\"yaxis\":{\"gridcolor\":\"white\",\"linecolor\":\"white\",\"ticks\":\"\",\"title\":{\"standoff\":15},\"zerolinecolor\":\"white\",\"automargin\":true,\"zerolinewidth\":2},\"scene\":{\"xaxis\":{\"backgroundcolor\":\"#E5ECF6\",\"gridcolor\":\"white\",\"linecolor\":\"white\",\"showbackground\":true,\"ticks\":\"\",\"zerolinecolor\":\"white\",\"gridwidth\":2},\"yaxis\":{\"backgroundcolor\":\"#E5ECF6\",\"gridcolor\":\"white\",\"linecolor\":\"white\",\"showbackground\":true,\"ticks\":\"\",\"zerolinecolor\":\"white\",\"gridwidth\":2},\"zaxis\":{\"backgroundcolor\":\"#E5ECF6\",\"gridcolor\":\"white\",\"linecolor\":\"white\",\"showbackground\":true,\"ticks\":\"\",\"zerolinecolor\":\"white\",\"gridwidth\":2}},\"shapedefaults\":{\"line\":{\"color\":\"#2a3f5f\"}},\"annotationdefaults\":{\"arrowcolor\":\"#2a3f5f\",\"arrowhead\":0,\"arrowwidth\":1},\"geo\":{\"bgcolor\":\"white\",\"landcolor\":\"#E5ECF6\",\"subunitcolor\":\"white\",\"showland\":true,\"showlakes\":true,\"lakecolor\":\"white\"},\"title\":{\"x\":0.05},\"mapbox\":{\"style\":\"light\"}}},\"xaxis\":{\"title\":{\"text\":\"Date\"}},\"yaxis\":{\"title\":{\"text\":\"Livello ppm\"}},\"title\":{\"text\":\"Andamento livello concetrazione Gas nei Gasmeter device\"}},                        {\"responsive\": true}                    ).then(function(){\n",
       "                            \n",
       "var gd = document.getElementById('e9e69400-e939-44e7-b492-f6d8d8691e65');\n",
       "var x = new MutationObserver(function (mutations, observer) {{\n",
       "        var display = window.getComputedStyle(gd).display;\n",
       "        if (!display || display === 'none') {{\n",
       "            console.log([gd, 'removed!']);\n",
       "            Plotly.purge(gd);\n",
       "            observer.disconnect();\n",
       "        }}\n",
       "}});\n",
       "\n",
       "// Listen for the removal of the full notebook cells\n",
       "var notebookContainer = gd.closest('#notebook-container');\n",
       "if (notebookContainer) {{\n",
       "    x.observe(notebookContainer, {childList: true});\n",
       "}}\n",
       "\n",
       "// Listen for the clearing of the current output cell\n",
       "var outputEl = gd.closest('.output');\n",
       "if (outputEl) {{\n",
       "    x.observe(outputEl, {childList: true});\n",
       "}}\n",
       "\n",
       "                        })                };                });            </script>        </div>"
      ]
     },
     "metadata": {},
     "output_type": "display_data"
    }
   ],
   "source": [
    "df1=df.loc[df['type']=='gasmeter']\n",
    "df1=df1.loc[df1['k']=='ppm']\n",
    "df1['tz'] = pd.to_datetime(df1['tz'])\n",
    "fig = px.line(df1, x=\"tz\", y=\"v\")\n",
    "fig2 = px.scatter(df1, x=\"tz\", y=\"v\", color_discrete_sequence=['red'])\n",
    "fig3 = go.Figure(data=fig.data + fig2.data)\n",
    "fig3.update_layout(xaxis_title=\"Date\", \n",
    "                   yaxis_title=\"Livello ppm\",\n",
    "                   title='Andamento livello concetrazione Gas nei Gasmeter device'\n",
    "                  )\n",
    "fig3.show()"
   ]
  },
  {
   "cell_type": "markdown",
   "id": "716c6ed3",
   "metadata": {},
   "source": [
    "# Grafico relative_humidity registrata nel Tempo nei dispositivi di tipo Environmental"
   ]
  },
  {
   "cell_type": "code",
   "execution_count": 25,
   "id": "9d0ea03b",
   "metadata": {},
   "outputs": [
    {
     "data": {
      "application/vnd.plotly.v1+json": {
       "config": {
        "plotlyServerURL": "https://plot.ly"
       },
       "data": [
        {
         "hovertemplate": "tz=%{x}<br>v=%{y}<extra></extra>",
         "legendgroup": "",
         "line": {
          "color": "#636efa",
          "dash": "solid"
         },
         "marker": {
          "symbol": "circle"
         },
         "mode": "lines",
         "name": "",
         "orientation": "v",
         "showlegend": false,
         "type": "scatter",
         "x": [
          "2023-03-01T22:45:02.417000+00:00",
          "2023-03-01T22:45:48.844000+00:00",
          "2023-03-01T22:46:08.623000+00:00",
          "2023-03-01T22:46:26.520000+00:00",
          "2023-03-01T22:46:47.607000+00:00",
          "2023-03-01T22:49:35.293000+00:00",
          "2023-03-01T22:49:56.589000+00:00",
          "2023-03-01T22:50:24.533000+00:00",
          "2023-03-01T22:50:50.201000+00:00",
          "2023-03-01T22:51:12.285000+00:00",
          "2023-03-01T22:51:33.505000+00:00",
          "2023-03-01T22:51:58.261000+00:00",
          "2023-03-01T22:52:21.455000+00:00",
          "2023-03-01T22:52:44.877000+00:00",
          "2023-03-01T22:53:06.861000+00:00",
          "2023-03-01T22:53:30.586000+00:00",
          "2023-03-01T22:53:53.690000+00:00",
          "2023-03-01T22:54:15.989000+00:00",
          "2023-03-01T22:54:42.484000+00:00",
          "2023-03-01T22:55:03.039000+00:00",
          "2023-03-01T22:55:27.707000+00:00",
          "2023-03-01T22:55:51.748000+00:00",
          "2023-03-01T22:56:16.786000+00:00",
          "2023-03-01T22:56:38.224000+00:00",
          "2023-03-01T22:57:04.287000+00:00",
          "2023-03-01T22:57:30.127000+00:00",
          "2023-03-01T22:57:56.234000+00:00",
          "2023-03-01T22:58:19.768000+00:00",
          "2023-03-01T22:58:44.493000+00:00",
          "2023-03-02T15:53:33.592000+00:00",
          "2023-03-02T15:53:54.684000+00:00",
          "2023-03-02T15:54:17.129000+00:00",
          "2023-03-02T15:54:39.288000+00:00",
          "2023-03-02T15:55:04.037000+00:00",
          "2023-03-02T15:55:33.194000+00:00",
          "2023-03-02T15:55:55.901000+00:00",
          "2023-03-02T15:56:14.940000+00:00",
          "2023-03-02T15:56:39.789000+00:00",
          "2023-03-02T22:40:13.624000+00:00",
          "2023-03-02T22:40:35.163000+00:00",
          "2023-03-02T22:41:02.140000+00:00",
          "2023-03-02T22:41:26.902000+00:00",
          "2023-03-02T22:41:53.270000+00:00",
          "2023-03-02T22:42:20.289000+00:00",
          "2023-03-02T22:42:47.366000+00:00",
          "2023-03-02T22:43:09.810000+00:00",
          "2023-03-02T22:43:32.207000+00:00",
          "2023-03-02T22:43:58.458000+00:00",
          "2023-03-02T22:44:18.384000+00:00",
          "2023-03-02T22:44:42.379000+00:00",
          "2023-03-02T22:45:23.447000+00:00",
          "2023-03-02T22:47:12.355000+00:00",
          "2023-03-02T22:47:35.886000+00:00",
          "2023-03-02T22:47:58.203000+00:00",
          "2023-03-02T22:48:19.405000+00:00",
          "2023-03-02T22:48:47.589000+00:00",
          "2023-03-02T22:49:10.902000+00:00",
          "2023-03-03T08:03:17.551000+00:00",
          "2023-03-03T08:03:40.870000+00:00",
          "2023-03-03T08:04:03.937000+00:00",
          "2023-03-03T08:04:27.618000+00:00",
          "2023-03-03T08:04:55.160000+00:00",
          "2023-03-03T08:05:16.421000+00:00",
          "2023-03-03T08:05:40.884000+00:00",
          "2023-03-03T08:06:07.143000+00:00",
          "2023-03-03T08:06:28.660000+00:00",
          "2023-03-03T08:06:52.868000+00:00",
          "2023-03-03T08:07:13.755000+00:00",
          "2023-03-03T08:07:36.722000+00:00",
          "2023-03-03T08:07:57.616000+00:00",
          "2023-03-03T08:08:25.040000+00:00",
          "2023-03-03T08:08:46.035000+00:00",
          "2023-03-03T08:09:08.088000+00:00",
          "2023-03-03T08:09:30.414000+00:00",
          "2023-03-03T08:09:51.639000+00:00",
          "2023-03-03T08:10:12.846000+00:00",
          "2023-03-03T08:10:36.840000+00:00",
          "2023-03-03T08:10:59.160000+00:00",
          "2023-03-03T08:11:17.354000+00:00",
          "2023-03-03T08:11:36.616000+00:00",
          "2023-03-03T08:11:58.939000+00:00",
          "2023-03-03T08:12:23.791000+00:00",
          "2023-03-03T08:12:48.376000+00:00",
          "2023-03-03T08:13:09.089000+00:00",
          "2023-03-03T08:13:28.883000+00:00",
          "2023-03-03T08:13:57.414000+00:00",
          "2023-03-03T08:14:19.046000+00:00",
          "2023-03-03T08:14:45.184000+00:00",
          "2023-03-03T08:15:09.973000+00:00",
          "2023-03-03T08:15:34.016000+00:00",
          "2023-03-03T08:15:59.964000+00:00",
          "2023-03-03T08:16:20.395000+00:00",
          "2023-03-06T17:07:07.748000+00:00",
          "2023-03-06T17:07:32.938000+00:00",
          "2023-03-06T17:07:53.954000+00:00",
          "2023-03-06T17:08:13.973000+00:00",
          "2023-03-06T17:08:37.273000+00:00",
          "2023-03-06T17:09:04.938000+00:00",
          "2023-03-06T17:09:25.087000+00:00",
          "2023-03-06T17:09:46.674000+00:00",
          "2023-03-06T17:10:13.870000+00:00",
          "2023-03-06T17:10:38.434000+00:00",
          "2023-03-06T17:11:04.234000+00:00",
          "2023-03-06T17:11:27.001000+00:00",
          "2023-03-06T17:11:53.275000+00:00",
          "2023-03-06T17:12:14.514000+00:00",
          "2023-03-06T17:12:37.878000+00:00",
          "2023-03-06T17:13:02.149000+00:00",
          "2023-03-06T17:13:28.978000+00:00",
          "2023-03-06T17:13:48.738000+00:00",
          "2023-03-06T17:14:14.233000+00:00",
          "2023-03-06T17:14:35.339000+00:00",
          "2023-03-06T17:14:54.503000+00:00",
          "2023-03-06T17:15:18.329000+00:00",
          "2023-03-06T17:15:39.556000+00:00",
          "2023-03-06T17:15:59.978000+00:00",
          "2023-03-06T17:16:19.174000+00:00",
          "2023-03-06T17:16:39.287000+00:00",
          "2023-03-06T17:17:03.040000+00:00",
          "2023-03-06T17:17:24.419000+00:00",
          "2023-03-06T17:17:50.374000+00:00",
          "2023-03-06T17:18:14.256000+00:00",
          "2023-03-06T17:18:41.571000+00:00"
         ],
         "xaxis": "x",
         "y": [
          42,
          34,
          59,
          80,
          37,
          99,
          9,
          49,
          90,
          0,
          66,
          30,
          12,
          70,
          45,
          74,
          49,
          44,
          88,
          47,
          44,
          88,
          10,
          29,
          62,
          98,
          73,
          25,
          7,
          64,
          86,
          30,
          20,
          62,
          59,
          23,
          40,
          76,
          41,
          28,
          52,
          40,
          69,
          86,
          67,
          6,
          59,
          59,
          61,
          76,
          69,
          60,
          29,
          2,
          93,
          91,
          77,
          22,
          76,
          98,
          39,
          44,
          3,
          72,
          81,
          83,
          40,
          30,
          66,
          53,
          51,
          77,
          61,
          91,
          31,
          75,
          25,
          79,
          93,
          59,
          19,
          9,
          6,
          39,
          4,
          68,
          53,
          2,
          96,
          56,
          33,
          12,
          47,
          16,
          55,
          19,
          81,
          70,
          83,
          19,
          79,
          68,
          77,
          5,
          45,
          92,
          95,
          44,
          44,
          75,
          22,
          97,
          93,
          43,
          39,
          53,
          99,
          90,
          49,
          15,
          99,
          21,
          1
         ],
         "yaxis": "y"
        },
        {
         "hovertemplate": "tz=%{x}<br>v=%{y}<extra></extra>",
         "legendgroup": "",
         "marker": {
          "color": "red",
          "symbol": "circle"
         },
         "mode": "markers",
         "name": "",
         "orientation": "v",
         "showlegend": false,
         "type": "scatter",
         "x": [
          "2023-03-01T22:45:02.417000+00:00",
          "2023-03-01T22:45:48.844000+00:00",
          "2023-03-01T22:46:08.623000+00:00",
          "2023-03-01T22:46:26.520000+00:00",
          "2023-03-01T22:46:47.607000+00:00",
          "2023-03-01T22:49:35.293000+00:00",
          "2023-03-01T22:49:56.589000+00:00",
          "2023-03-01T22:50:24.533000+00:00",
          "2023-03-01T22:50:50.201000+00:00",
          "2023-03-01T22:51:12.285000+00:00",
          "2023-03-01T22:51:33.505000+00:00",
          "2023-03-01T22:51:58.261000+00:00",
          "2023-03-01T22:52:21.455000+00:00",
          "2023-03-01T22:52:44.877000+00:00",
          "2023-03-01T22:53:06.861000+00:00",
          "2023-03-01T22:53:30.586000+00:00",
          "2023-03-01T22:53:53.690000+00:00",
          "2023-03-01T22:54:15.989000+00:00",
          "2023-03-01T22:54:42.484000+00:00",
          "2023-03-01T22:55:03.039000+00:00",
          "2023-03-01T22:55:27.707000+00:00",
          "2023-03-01T22:55:51.748000+00:00",
          "2023-03-01T22:56:16.786000+00:00",
          "2023-03-01T22:56:38.224000+00:00",
          "2023-03-01T22:57:04.287000+00:00",
          "2023-03-01T22:57:30.127000+00:00",
          "2023-03-01T22:57:56.234000+00:00",
          "2023-03-01T22:58:19.768000+00:00",
          "2023-03-01T22:58:44.493000+00:00",
          "2023-03-02T15:53:33.592000+00:00",
          "2023-03-02T15:53:54.684000+00:00",
          "2023-03-02T15:54:17.129000+00:00",
          "2023-03-02T15:54:39.288000+00:00",
          "2023-03-02T15:55:04.037000+00:00",
          "2023-03-02T15:55:33.194000+00:00",
          "2023-03-02T15:55:55.901000+00:00",
          "2023-03-02T15:56:14.940000+00:00",
          "2023-03-02T15:56:39.789000+00:00",
          "2023-03-02T22:40:13.624000+00:00",
          "2023-03-02T22:40:35.163000+00:00",
          "2023-03-02T22:41:02.140000+00:00",
          "2023-03-02T22:41:26.902000+00:00",
          "2023-03-02T22:41:53.270000+00:00",
          "2023-03-02T22:42:20.289000+00:00",
          "2023-03-02T22:42:47.366000+00:00",
          "2023-03-02T22:43:09.810000+00:00",
          "2023-03-02T22:43:32.207000+00:00",
          "2023-03-02T22:43:58.458000+00:00",
          "2023-03-02T22:44:18.384000+00:00",
          "2023-03-02T22:44:42.379000+00:00",
          "2023-03-02T22:45:23.447000+00:00",
          "2023-03-02T22:47:12.355000+00:00",
          "2023-03-02T22:47:35.886000+00:00",
          "2023-03-02T22:47:58.203000+00:00",
          "2023-03-02T22:48:19.405000+00:00",
          "2023-03-02T22:48:47.589000+00:00",
          "2023-03-02T22:49:10.902000+00:00",
          "2023-03-03T08:03:17.551000+00:00",
          "2023-03-03T08:03:40.870000+00:00",
          "2023-03-03T08:04:03.937000+00:00",
          "2023-03-03T08:04:27.618000+00:00",
          "2023-03-03T08:04:55.160000+00:00",
          "2023-03-03T08:05:16.421000+00:00",
          "2023-03-03T08:05:40.884000+00:00",
          "2023-03-03T08:06:07.143000+00:00",
          "2023-03-03T08:06:28.660000+00:00",
          "2023-03-03T08:06:52.868000+00:00",
          "2023-03-03T08:07:13.755000+00:00",
          "2023-03-03T08:07:36.722000+00:00",
          "2023-03-03T08:07:57.616000+00:00",
          "2023-03-03T08:08:25.040000+00:00",
          "2023-03-03T08:08:46.035000+00:00",
          "2023-03-03T08:09:08.088000+00:00",
          "2023-03-03T08:09:30.414000+00:00",
          "2023-03-03T08:09:51.639000+00:00",
          "2023-03-03T08:10:12.846000+00:00",
          "2023-03-03T08:10:36.840000+00:00",
          "2023-03-03T08:10:59.160000+00:00",
          "2023-03-03T08:11:17.354000+00:00",
          "2023-03-03T08:11:36.616000+00:00",
          "2023-03-03T08:11:58.939000+00:00",
          "2023-03-03T08:12:23.791000+00:00",
          "2023-03-03T08:12:48.376000+00:00",
          "2023-03-03T08:13:09.089000+00:00",
          "2023-03-03T08:13:28.883000+00:00",
          "2023-03-03T08:13:57.414000+00:00",
          "2023-03-03T08:14:19.046000+00:00",
          "2023-03-03T08:14:45.184000+00:00",
          "2023-03-03T08:15:09.973000+00:00",
          "2023-03-03T08:15:34.016000+00:00",
          "2023-03-03T08:15:59.964000+00:00",
          "2023-03-03T08:16:20.395000+00:00",
          "2023-03-06T17:07:07.748000+00:00",
          "2023-03-06T17:07:32.938000+00:00",
          "2023-03-06T17:07:53.954000+00:00",
          "2023-03-06T17:08:13.973000+00:00",
          "2023-03-06T17:08:37.273000+00:00",
          "2023-03-06T17:09:04.938000+00:00",
          "2023-03-06T17:09:25.087000+00:00",
          "2023-03-06T17:09:46.674000+00:00",
          "2023-03-06T17:10:13.870000+00:00",
          "2023-03-06T17:10:38.434000+00:00",
          "2023-03-06T17:11:04.234000+00:00",
          "2023-03-06T17:11:27.001000+00:00",
          "2023-03-06T17:11:53.275000+00:00",
          "2023-03-06T17:12:14.514000+00:00",
          "2023-03-06T17:12:37.878000+00:00",
          "2023-03-06T17:13:02.149000+00:00",
          "2023-03-06T17:13:28.978000+00:00",
          "2023-03-06T17:13:48.738000+00:00",
          "2023-03-06T17:14:14.233000+00:00",
          "2023-03-06T17:14:35.339000+00:00",
          "2023-03-06T17:14:54.503000+00:00",
          "2023-03-06T17:15:18.329000+00:00",
          "2023-03-06T17:15:39.556000+00:00",
          "2023-03-06T17:15:59.978000+00:00",
          "2023-03-06T17:16:19.174000+00:00",
          "2023-03-06T17:16:39.287000+00:00",
          "2023-03-06T17:17:03.040000+00:00",
          "2023-03-06T17:17:24.419000+00:00",
          "2023-03-06T17:17:50.374000+00:00",
          "2023-03-06T17:18:14.256000+00:00",
          "2023-03-06T17:18:41.571000+00:00"
         ],
         "xaxis": "x",
         "y": [
          42,
          34,
          59,
          80,
          37,
          99,
          9,
          49,
          90,
          0,
          66,
          30,
          12,
          70,
          45,
          74,
          49,
          44,
          88,
          47,
          44,
          88,
          10,
          29,
          62,
          98,
          73,
          25,
          7,
          64,
          86,
          30,
          20,
          62,
          59,
          23,
          40,
          76,
          41,
          28,
          52,
          40,
          69,
          86,
          67,
          6,
          59,
          59,
          61,
          76,
          69,
          60,
          29,
          2,
          93,
          91,
          77,
          22,
          76,
          98,
          39,
          44,
          3,
          72,
          81,
          83,
          40,
          30,
          66,
          53,
          51,
          77,
          61,
          91,
          31,
          75,
          25,
          79,
          93,
          59,
          19,
          9,
          6,
          39,
          4,
          68,
          53,
          2,
          96,
          56,
          33,
          12,
          47,
          16,
          55,
          19,
          81,
          70,
          83,
          19,
          79,
          68,
          77,
          5,
          45,
          92,
          95,
          44,
          44,
          75,
          22,
          97,
          93,
          43,
          39,
          53,
          99,
          90,
          49,
          15,
          99,
          21,
          1
         ],
         "yaxis": "y"
        }
       ],
       "layout": {
        "template": {
         "data": {
          "bar": [
           {
            "error_x": {
             "color": "#2a3f5f"
            },
            "error_y": {
             "color": "#2a3f5f"
            },
            "marker": {
             "line": {
              "color": "#E5ECF6",
              "width": 0.5
             },
             "pattern": {
              "fillmode": "overlay",
              "size": 10,
              "solidity": 0.2
             }
            },
            "type": "bar"
           }
          ],
          "barpolar": [
           {
            "marker": {
             "line": {
              "color": "#E5ECF6",
              "width": 0.5
             },
             "pattern": {
              "fillmode": "overlay",
              "size": 10,
              "solidity": 0.2
             }
            },
            "type": "barpolar"
           }
          ],
          "carpet": [
           {
            "aaxis": {
             "endlinecolor": "#2a3f5f",
             "gridcolor": "white",
             "linecolor": "white",
             "minorgridcolor": "white",
             "startlinecolor": "#2a3f5f"
            },
            "baxis": {
             "endlinecolor": "#2a3f5f",
             "gridcolor": "white",
             "linecolor": "white",
             "minorgridcolor": "white",
             "startlinecolor": "#2a3f5f"
            },
            "type": "carpet"
           }
          ],
          "choropleth": [
           {
            "colorbar": {
             "outlinewidth": 0,
             "ticks": ""
            },
            "type": "choropleth"
           }
          ],
          "contour": [
           {
            "colorbar": {
             "outlinewidth": 0,
             "ticks": ""
            },
            "colorscale": [
             [
              0,
              "#0d0887"
             ],
             [
              0.1111111111111111,
              "#46039f"
             ],
             [
              0.2222222222222222,
              "#7201a8"
             ],
             [
              0.3333333333333333,
              "#9c179e"
             ],
             [
              0.4444444444444444,
              "#bd3786"
             ],
             [
              0.5555555555555556,
              "#d8576b"
             ],
             [
              0.6666666666666666,
              "#ed7953"
             ],
             [
              0.7777777777777778,
              "#fb9f3a"
             ],
             [
              0.8888888888888888,
              "#fdca26"
             ],
             [
              1,
              "#f0f921"
             ]
            ],
            "type": "contour"
           }
          ],
          "contourcarpet": [
           {
            "colorbar": {
             "outlinewidth": 0,
             "ticks": ""
            },
            "type": "contourcarpet"
           }
          ],
          "heatmap": [
           {
            "colorbar": {
             "outlinewidth": 0,
             "ticks": ""
            },
            "colorscale": [
             [
              0,
              "#0d0887"
             ],
             [
              0.1111111111111111,
              "#46039f"
             ],
             [
              0.2222222222222222,
              "#7201a8"
             ],
             [
              0.3333333333333333,
              "#9c179e"
             ],
             [
              0.4444444444444444,
              "#bd3786"
             ],
             [
              0.5555555555555556,
              "#d8576b"
             ],
             [
              0.6666666666666666,
              "#ed7953"
             ],
             [
              0.7777777777777778,
              "#fb9f3a"
             ],
             [
              0.8888888888888888,
              "#fdca26"
             ],
             [
              1,
              "#f0f921"
             ]
            ],
            "type": "heatmap"
           }
          ],
          "heatmapgl": [
           {
            "colorbar": {
             "outlinewidth": 0,
             "ticks": ""
            },
            "colorscale": [
             [
              0,
              "#0d0887"
             ],
             [
              0.1111111111111111,
              "#46039f"
             ],
             [
              0.2222222222222222,
              "#7201a8"
             ],
             [
              0.3333333333333333,
              "#9c179e"
             ],
             [
              0.4444444444444444,
              "#bd3786"
             ],
             [
              0.5555555555555556,
              "#d8576b"
             ],
             [
              0.6666666666666666,
              "#ed7953"
             ],
             [
              0.7777777777777778,
              "#fb9f3a"
             ],
             [
              0.8888888888888888,
              "#fdca26"
             ],
             [
              1,
              "#f0f921"
             ]
            ],
            "type": "heatmapgl"
           }
          ],
          "histogram": [
           {
            "marker": {
             "pattern": {
              "fillmode": "overlay",
              "size": 10,
              "solidity": 0.2
             }
            },
            "type": "histogram"
           }
          ],
          "histogram2d": [
           {
            "colorbar": {
             "outlinewidth": 0,
             "ticks": ""
            },
            "colorscale": [
             [
              0,
              "#0d0887"
             ],
             [
              0.1111111111111111,
              "#46039f"
             ],
             [
              0.2222222222222222,
              "#7201a8"
             ],
             [
              0.3333333333333333,
              "#9c179e"
             ],
             [
              0.4444444444444444,
              "#bd3786"
             ],
             [
              0.5555555555555556,
              "#d8576b"
             ],
             [
              0.6666666666666666,
              "#ed7953"
             ],
             [
              0.7777777777777778,
              "#fb9f3a"
             ],
             [
              0.8888888888888888,
              "#fdca26"
             ],
             [
              1,
              "#f0f921"
             ]
            ],
            "type": "histogram2d"
           }
          ],
          "histogram2dcontour": [
           {
            "colorbar": {
             "outlinewidth": 0,
             "ticks": ""
            },
            "colorscale": [
             [
              0,
              "#0d0887"
             ],
             [
              0.1111111111111111,
              "#46039f"
             ],
             [
              0.2222222222222222,
              "#7201a8"
             ],
             [
              0.3333333333333333,
              "#9c179e"
             ],
             [
              0.4444444444444444,
              "#bd3786"
             ],
             [
              0.5555555555555556,
              "#d8576b"
             ],
             [
              0.6666666666666666,
              "#ed7953"
             ],
             [
              0.7777777777777778,
              "#fb9f3a"
             ],
             [
              0.8888888888888888,
              "#fdca26"
             ],
             [
              1,
              "#f0f921"
             ]
            ],
            "type": "histogram2dcontour"
           }
          ],
          "mesh3d": [
           {
            "colorbar": {
             "outlinewidth": 0,
             "ticks": ""
            },
            "type": "mesh3d"
           }
          ],
          "parcoords": [
           {
            "line": {
             "colorbar": {
              "outlinewidth": 0,
              "ticks": ""
             }
            },
            "type": "parcoords"
           }
          ],
          "pie": [
           {
            "automargin": true,
            "type": "pie"
           }
          ],
          "scatter": [
           {
            "fillpattern": {
             "fillmode": "overlay",
             "size": 10,
             "solidity": 0.2
            },
            "type": "scatter"
           }
          ],
          "scatter3d": [
           {
            "line": {
             "colorbar": {
              "outlinewidth": 0,
              "ticks": ""
             }
            },
            "marker": {
             "colorbar": {
              "outlinewidth": 0,
              "ticks": ""
             }
            },
            "type": "scatter3d"
           }
          ],
          "scattercarpet": [
           {
            "marker": {
             "colorbar": {
              "outlinewidth": 0,
              "ticks": ""
             }
            },
            "type": "scattercarpet"
           }
          ],
          "scattergeo": [
           {
            "marker": {
             "colorbar": {
              "outlinewidth": 0,
              "ticks": ""
             }
            },
            "type": "scattergeo"
           }
          ],
          "scattergl": [
           {
            "marker": {
             "colorbar": {
              "outlinewidth": 0,
              "ticks": ""
             }
            },
            "type": "scattergl"
           }
          ],
          "scattermapbox": [
           {
            "marker": {
             "colorbar": {
              "outlinewidth": 0,
              "ticks": ""
             }
            },
            "type": "scattermapbox"
           }
          ],
          "scatterpolar": [
           {
            "marker": {
             "colorbar": {
              "outlinewidth": 0,
              "ticks": ""
             }
            },
            "type": "scatterpolar"
           }
          ],
          "scatterpolargl": [
           {
            "marker": {
             "colorbar": {
              "outlinewidth": 0,
              "ticks": ""
             }
            },
            "type": "scatterpolargl"
           }
          ],
          "scatterternary": [
           {
            "marker": {
             "colorbar": {
              "outlinewidth": 0,
              "ticks": ""
             }
            },
            "type": "scatterternary"
           }
          ],
          "surface": [
           {
            "colorbar": {
             "outlinewidth": 0,
             "ticks": ""
            },
            "colorscale": [
             [
              0,
              "#0d0887"
             ],
             [
              0.1111111111111111,
              "#46039f"
             ],
             [
              0.2222222222222222,
              "#7201a8"
             ],
             [
              0.3333333333333333,
              "#9c179e"
             ],
             [
              0.4444444444444444,
              "#bd3786"
             ],
             [
              0.5555555555555556,
              "#d8576b"
             ],
             [
              0.6666666666666666,
              "#ed7953"
             ],
             [
              0.7777777777777778,
              "#fb9f3a"
             ],
             [
              0.8888888888888888,
              "#fdca26"
             ],
             [
              1,
              "#f0f921"
             ]
            ],
            "type": "surface"
           }
          ],
          "table": [
           {
            "cells": {
             "fill": {
              "color": "#EBF0F8"
             },
             "line": {
              "color": "white"
             }
            },
            "header": {
             "fill": {
              "color": "#C8D4E3"
             },
             "line": {
              "color": "white"
             }
            },
            "type": "table"
           }
          ]
         },
         "layout": {
          "annotationdefaults": {
           "arrowcolor": "#2a3f5f",
           "arrowhead": 0,
           "arrowwidth": 1
          },
          "autotypenumbers": "strict",
          "coloraxis": {
           "colorbar": {
            "outlinewidth": 0,
            "ticks": ""
           }
          },
          "colorscale": {
           "diverging": [
            [
             0,
             "#8e0152"
            ],
            [
             0.1,
             "#c51b7d"
            ],
            [
             0.2,
             "#de77ae"
            ],
            [
             0.3,
             "#f1b6da"
            ],
            [
             0.4,
             "#fde0ef"
            ],
            [
             0.5,
             "#f7f7f7"
            ],
            [
             0.6,
             "#e6f5d0"
            ],
            [
             0.7,
             "#b8e186"
            ],
            [
             0.8,
             "#7fbc41"
            ],
            [
             0.9,
             "#4d9221"
            ],
            [
             1,
             "#276419"
            ]
           ],
           "sequential": [
            [
             0,
             "#0d0887"
            ],
            [
             0.1111111111111111,
             "#46039f"
            ],
            [
             0.2222222222222222,
             "#7201a8"
            ],
            [
             0.3333333333333333,
             "#9c179e"
            ],
            [
             0.4444444444444444,
             "#bd3786"
            ],
            [
             0.5555555555555556,
             "#d8576b"
            ],
            [
             0.6666666666666666,
             "#ed7953"
            ],
            [
             0.7777777777777778,
             "#fb9f3a"
            ],
            [
             0.8888888888888888,
             "#fdca26"
            ],
            [
             1,
             "#f0f921"
            ]
           ],
           "sequentialminus": [
            [
             0,
             "#0d0887"
            ],
            [
             0.1111111111111111,
             "#46039f"
            ],
            [
             0.2222222222222222,
             "#7201a8"
            ],
            [
             0.3333333333333333,
             "#9c179e"
            ],
            [
             0.4444444444444444,
             "#bd3786"
            ],
            [
             0.5555555555555556,
             "#d8576b"
            ],
            [
             0.6666666666666666,
             "#ed7953"
            ],
            [
             0.7777777777777778,
             "#fb9f3a"
            ],
            [
             0.8888888888888888,
             "#fdca26"
            ],
            [
             1,
             "#f0f921"
            ]
           ]
          },
          "colorway": [
           "#636efa",
           "#EF553B",
           "#00cc96",
           "#ab63fa",
           "#FFA15A",
           "#19d3f3",
           "#FF6692",
           "#B6E880",
           "#FF97FF",
           "#FECB52"
          ],
          "font": {
           "color": "#2a3f5f"
          },
          "geo": {
           "bgcolor": "white",
           "lakecolor": "white",
           "landcolor": "#E5ECF6",
           "showlakes": true,
           "showland": true,
           "subunitcolor": "white"
          },
          "hoverlabel": {
           "align": "left"
          },
          "hovermode": "closest",
          "mapbox": {
           "style": "light"
          },
          "paper_bgcolor": "white",
          "plot_bgcolor": "#E5ECF6",
          "polar": {
           "angularaxis": {
            "gridcolor": "white",
            "linecolor": "white",
            "ticks": ""
           },
           "bgcolor": "#E5ECF6",
           "radialaxis": {
            "gridcolor": "white",
            "linecolor": "white",
            "ticks": ""
           }
          },
          "scene": {
           "xaxis": {
            "backgroundcolor": "#E5ECF6",
            "gridcolor": "white",
            "gridwidth": 2,
            "linecolor": "white",
            "showbackground": true,
            "ticks": "",
            "zerolinecolor": "white"
           },
           "yaxis": {
            "backgroundcolor": "#E5ECF6",
            "gridcolor": "white",
            "gridwidth": 2,
            "linecolor": "white",
            "showbackground": true,
            "ticks": "",
            "zerolinecolor": "white"
           },
           "zaxis": {
            "backgroundcolor": "#E5ECF6",
            "gridcolor": "white",
            "gridwidth": 2,
            "linecolor": "white",
            "showbackground": true,
            "ticks": "",
            "zerolinecolor": "white"
           }
          },
          "shapedefaults": {
           "line": {
            "color": "#2a3f5f"
           }
          },
          "ternary": {
           "aaxis": {
            "gridcolor": "white",
            "linecolor": "white",
            "ticks": ""
           },
           "baxis": {
            "gridcolor": "white",
            "linecolor": "white",
            "ticks": ""
           },
           "bgcolor": "#E5ECF6",
           "caxis": {
            "gridcolor": "white",
            "linecolor": "white",
            "ticks": ""
           }
          },
          "title": {
           "x": 0.05
          },
          "xaxis": {
           "automargin": true,
           "gridcolor": "white",
           "linecolor": "white",
           "ticks": "",
           "title": {
            "standoff": 15
           },
           "zerolinecolor": "white",
           "zerolinewidth": 2
          },
          "yaxis": {
           "automargin": true,
           "gridcolor": "white",
           "linecolor": "white",
           "ticks": "",
           "title": {
            "standoff": 15
           },
           "zerolinecolor": "white",
           "zerolinewidth": 2
          }
         }
        },
        "title": {
         "text": "Andamento umidità nei device Environmental"
        },
        "xaxis": {
         "title": {
          "text": "Date"
         }
        },
        "yaxis": {
         "title": {
          "text": "Livello Umidità in %"
         }
        }
       }
      },
      "text/html": [
       "<div>                            <div id=\"b7b91da3-420c-4b35-b38c-9ca378bd71ea\" class=\"plotly-graph-div\" style=\"height:525px; width:100%;\"></div>            <script type=\"text/javascript\">                require([\"plotly\"], function(Plotly) {                    window.PLOTLYENV=window.PLOTLYENV || {};                                    if (document.getElementById(\"b7b91da3-420c-4b35-b38c-9ca378bd71ea\")) {                    Plotly.newPlot(                        \"b7b91da3-420c-4b35-b38c-9ca378bd71ea\",                        [{\"hovertemplate\":\"tz=%{x}<br>v=%{y}<extra></extra>\",\"legendgroup\":\"\",\"line\":{\"color\":\"#636efa\",\"dash\":\"solid\"},\"marker\":{\"symbol\":\"circle\"},\"mode\":\"lines\",\"name\":\"\",\"orientation\":\"v\",\"showlegend\":false,\"x\":[\"2023-03-01T22:45:02.417000+00:00\",\"2023-03-01T22:45:48.844000+00:00\",\"2023-03-01T22:46:08.623000+00:00\",\"2023-03-01T22:46:26.520000+00:00\",\"2023-03-01T22:46:47.607000+00:00\",\"2023-03-01T22:49:35.293000+00:00\",\"2023-03-01T22:49:56.589000+00:00\",\"2023-03-01T22:50:24.533000+00:00\",\"2023-03-01T22:50:50.201000+00:00\",\"2023-03-01T22:51:12.285000+00:00\",\"2023-03-01T22:51:33.505000+00:00\",\"2023-03-01T22:51:58.261000+00:00\",\"2023-03-01T22:52:21.455000+00:00\",\"2023-03-01T22:52:44.877000+00:00\",\"2023-03-01T22:53:06.861000+00:00\",\"2023-03-01T22:53:30.586000+00:00\",\"2023-03-01T22:53:53.690000+00:00\",\"2023-03-01T22:54:15.989000+00:00\",\"2023-03-01T22:54:42.484000+00:00\",\"2023-03-01T22:55:03.039000+00:00\",\"2023-03-01T22:55:27.707000+00:00\",\"2023-03-01T22:55:51.748000+00:00\",\"2023-03-01T22:56:16.786000+00:00\",\"2023-03-01T22:56:38.224000+00:00\",\"2023-03-01T22:57:04.287000+00:00\",\"2023-03-01T22:57:30.127000+00:00\",\"2023-03-01T22:57:56.234000+00:00\",\"2023-03-01T22:58:19.768000+00:00\",\"2023-03-01T22:58:44.493000+00:00\",\"2023-03-02T15:53:33.592000+00:00\",\"2023-03-02T15:53:54.684000+00:00\",\"2023-03-02T15:54:17.129000+00:00\",\"2023-03-02T15:54:39.288000+00:00\",\"2023-03-02T15:55:04.037000+00:00\",\"2023-03-02T15:55:33.194000+00:00\",\"2023-03-02T15:55:55.901000+00:00\",\"2023-03-02T15:56:14.940000+00:00\",\"2023-03-02T15:56:39.789000+00:00\",\"2023-03-02T22:40:13.624000+00:00\",\"2023-03-02T22:40:35.163000+00:00\",\"2023-03-02T22:41:02.140000+00:00\",\"2023-03-02T22:41:26.902000+00:00\",\"2023-03-02T22:41:53.270000+00:00\",\"2023-03-02T22:42:20.289000+00:00\",\"2023-03-02T22:42:47.366000+00:00\",\"2023-03-02T22:43:09.810000+00:00\",\"2023-03-02T22:43:32.207000+00:00\",\"2023-03-02T22:43:58.458000+00:00\",\"2023-03-02T22:44:18.384000+00:00\",\"2023-03-02T22:44:42.379000+00:00\",\"2023-03-02T22:45:23.447000+00:00\",\"2023-03-02T22:47:12.355000+00:00\",\"2023-03-02T22:47:35.886000+00:00\",\"2023-03-02T22:47:58.203000+00:00\",\"2023-03-02T22:48:19.405000+00:00\",\"2023-03-02T22:48:47.589000+00:00\",\"2023-03-02T22:49:10.902000+00:00\",\"2023-03-03T08:03:17.551000+00:00\",\"2023-03-03T08:03:40.870000+00:00\",\"2023-03-03T08:04:03.937000+00:00\",\"2023-03-03T08:04:27.618000+00:00\",\"2023-03-03T08:04:55.160000+00:00\",\"2023-03-03T08:05:16.421000+00:00\",\"2023-03-03T08:05:40.884000+00:00\",\"2023-03-03T08:06:07.143000+00:00\",\"2023-03-03T08:06:28.660000+00:00\",\"2023-03-03T08:06:52.868000+00:00\",\"2023-03-03T08:07:13.755000+00:00\",\"2023-03-03T08:07:36.722000+00:00\",\"2023-03-03T08:07:57.616000+00:00\",\"2023-03-03T08:08:25.040000+00:00\",\"2023-03-03T08:08:46.035000+00:00\",\"2023-03-03T08:09:08.088000+00:00\",\"2023-03-03T08:09:30.414000+00:00\",\"2023-03-03T08:09:51.639000+00:00\",\"2023-03-03T08:10:12.846000+00:00\",\"2023-03-03T08:10:36.840000+00:00\",\"2023-03-03T08:10:59.160000+00:00\",\"2023-03-03T08:11:17.354000+00:00\",\"2023-03-03T08:11:36.616000+00:00\",\"2023-03-03T08:11:58.939000+00:00\",\"2023-03-03T08:12:23.791000+00:00\",\"2023-03-03T08:12:48.376000+00:00\",\"2023-03-03T08:13:09.089000+00:00\",\"2023-03-03T08:13:28.883000+00:00\",\"2023-03-03T08:13:57.414000+00:00\",\"2023-03-03T08:14:19.046000+00:00\",\"2023-03-03T08:14:45.184000+00:00\",\"2023-03-03T08:15:09.973000+00:00\",\"2023-03-03T08:15:34.016000+00:00\",\"2023-03-03T08:15:59.964000+00:00\",\"2023-03-03T08:16:20.395000+00:00\",\"2023-03-06T17:07:07.748000+00:00\",\"2023-03-06T17:07:32.938000+00:00\",\"2023-03-06T17:07:53.954000+00:00\",\"2023-03-06T17:08:13.973000+00:00\",\"2023-03-06T17:08:37.273000+00:00\",\"2023-03-06T17:09:04.938000+00:00\",\"2023-03-06T17:09:25.087000+00:00\",\"2023-03-06T17:09:46.674000+00:00\",\"2023-03-06T17:10:13.870000+00:00\",\"2023-03-06T17:10:38.434000+00:00\",\"2023-03-06T17:11:04.234000+00:00\",\"2023-03-06T17:11:27.001000+00:00\",\"2023-03-06T17:11:53.275000+00:00\",\"2023-03-06T17:12:14.514000+00:00\",\"2023-03-06T17:12:37.878000+00:00\",\"2023-03-06T17:13:02.149000+00:00\",\"2023-03-06T17:13:28.978000+00:00\",\"2023-03-06T17:13:48.738000+00:00\",\"2023-03-06T17:14:14.233000+00:00\",\"2023-03-06T17:14:35.339000+00:00\",\"2023-03-06T17:14:54.503000+00:00\",\"2023-03-06T17:15:18.329000+00:00\",\"2023-03-06T17:15:39.556000+00:00\",\"2023-03-06T17:15:59.978000+00:00\",\"2023-03-06T17:16:19.174000+00:00\",\"2023-03-06T17:16:39.287000+00:00\",\"2023-03-06T17:17:03.040000+00:00\",\"2023-03-06T17:17:24.419000+00:00\",\"2023-03-06T17:17:50.374000+00:00\",\"2023-03-06T17:18:14.256000+00:00\",\"2023-03-06T17:18:41.571000+00:00\"],\"xaxis\":\"x\",\"y\":[42.0,34.0,59.0,80.0,37.0,99.0,9.0,49.0,90.0,0.0,66.0,30.0,12.0,70.0,45.0,74.0,49.0,44.0,88.0,47.0,44.0,88.0,10.0,29.0,62.0,98.0,73.0,25.0,7.0,64.0,86.0,30.0,20.0,62.0,59.0,23.0,40.0,76.0,41.0,28.0,52.0,40.0,69.0,86.0,67.0,6.0,59.0,59.0,61.0,76.0,69.0,60.0,29.0,2.0,93.0,91.0,77.0,22.0,76.0,98.0,39.0,44.0,3.0,72.0,81.0,83.0,40.0,30.0,66.0,53.0,51.0,77.0,61.0,91.0,31.0,75.0,25.0,79.0,93.0,59.0,19.0,9.0,6.0,39.0,4.0,68.0,53.0,2.0,96.0,56.0,33.0,12.0,47.0,16.0,55.0,19.0,81.0,70.0,83.0,19.0,79.0,68.0,77.0,5.0,45.0,92.0,95.0,44.0,44.0,75.0,22.0,97.0,93.0,43.0,39.0,53.0,99.0,90.0,49.0,15.0,99.0,21.0,1.0],\"yaxis\":\"y\",\"type\":\"scatter\"},{\"hovertemplate\":\"tz=%{x}<br>v=%{y}<extra></extra>\",\"legendgroup\":\"\",\"marker\":{\"color\":\"red\",\"symbol\":\"circle\"},\"mode\":\"markers\",\"name\":\"\",\"orientation\":\"v\",\"showlegend\":false,\"x\":[\"2023-03-01T22:45:02.417000+00:00\",\"2023-03-01T22:45:48.844000+00:00\",\"2023-03-01T22:46:08.623000+00:00\",\"2023-03-01T22:46:26.520000+00:00\",\"2023-03-01T22:46:47.607000+00:00\",\"2023-03-01T22:49:35.293000+00:00\",\"2023-03-01T22:49:56.589000+00:00\",\"2023-03-01T22:50:24.533000+00:00\",\"2023-03-01T22:50:50.201000+00:00\",\"2023-03-01T22:51:12.285000+00:00\",\"2023-03-01T22:51:33.505000+00:00\",\"2023-03-01T22:51:58.261000+00:00\",\"2023-03-01T22:52:21.455000+00:00\",\"2023-03-01T22:52:44.877000+00:00\",\"2023-03-01T22:53:06.861000+00:00\",\"2023-03-01T22:53:30.586000+00:00\",\"2023-03-01T22:53:53.690000+00:00\",\"2023-03-01T22:54:15.989000+00:00\",\"2023-03-01T22:54:42.484000+00:00\",\"2023-03-01T22:55:03.039000+00:00\",\"2023-03-01T22:55:27.707000+00:00\",\"2023-03-01T22:55:51.748000+00:00\",\"2023-03-01T22:56:16.786000+00:00\",\"2023-03-01T22:56:38.224000+00:00\",\"2023-03-01T22:57:04.287000+00:00\",\"2023-03-01T22:57:30.127000+00:00\",\"2023-03-01T22:57:56.234000+00:00\",\"2023-03-01T22:58:19.768000+00:00\",\"2023-03-01T22:58:44.493000+00:00\",\"2023-03-02T15:53:33.592000+00:00\",\"2023-03-02T15:53:54.684000+00:00\",\"2023-03-02T15:54:17.129000+00:00\",\"2023-03-02T15:54:39.288000+00:00\",\"2023-03-02T15:55:04.037000+00:00\",\"2023-03-02T15:55:33.194000+00:00\",\"2023-03-02T15:55:55.901000+00:00\",\"2023-03-02T15:56:14.940000+00:00\",\"2023-03-02T15:56:39.789000+00:00\",\"2023-03-02T22:40:13.624000+00:00\",\"2023-03-02T22:40:35.163000+00:00\",\"2023-03-02T22:41:02.140000+00:00\",\"2023-03-02T22:41:26.902000+00:00\",\"2023-03-02T22:41:53.270000+00:00\",\"2023-03-02T22:42:20.289000+00:00\",\"2023-03-02T22:42:47.366000+00:00\",\"2023-03-02T22:43:09.810000+00:00\",\"2023-03-02T22:43:32.207000+00:00\",\"2023-03-02T22:43:58.458000+00:00\",\"2023-03-02T22:44:18.384000+00:00\",\"2023-03-02T22:44:42.379000+00:00\",\"2023-03-02T22:45:23.447000+00:00\",\"2023-03-02T22:47:12.355000+00:00\",\"2023-03-02T22:47:35.886000+00:00\",\"2023-03-02T22:47:58.203000+00:00\",\"2023-03-02T22:48:19.405000+00:00\",\"2023-03-02T22:48:47.589000+00:00\",\"2023-03-02T22:49:10.902000+00:00\",\"2023-03-03T08:03:17.551000+00:00\",\"2023-03-03T08:03:40.870000+00:00\",\"2023-03-03T08:04:03.937000+00:00\",\"2023-03-03T08:04:27.618000+00:00\",\"2023-03-03T08:04:55.160000+00:00\",\"2023-03-03T08:05:16.421000+00:00\",\"2023-03-03T08:05:40.884000+00:00\",\"2023-03-03T08:06:07.143000+00:00\",\"2023-03-03T08:06:28.660000+00:00\",\"2023-03-03T08:06:52.868000+00:00\",\"2023-03-03T08:07:13.755000+00:00\",\"2023-03-03T08:07:36.722000+00:00\",\"2023-03-03T08:07:57.616000+00:00\",\"2023-03-03T08:08:25.040000+00:00\",\"2023-03-03T08:08:46.035000+00:00\",\"2023-03-03T08:09:08.088000+00:00\",\"2023-03-03T08:09:30.414000+00:00\",\"2023-03-03T08:09:51.639000+00:00\",\"2023-03-03T08:10:12.846000+00:00\",\"2023-03-03T08:10:36.840000+00:00\",\"2023-03-03T08:10:59.160000+00:00\",\"2023-03-03T08:11:17.354000+00:00\",\"2023-03-03T08:11:36.616000+00:00\",\"2023-03-03T08:11:58.939000+00:00\",\"2023-03-03T08:12:23.791000+00:00\",\"2023-03-03T08:12:48.376000+00:00\",\"2023-03-03T08:13:09.089000+00:00\",\"2023-03-03T08:13:28.883000+00:00\",\"2023-03-03T08:13:57.414000+00:00\",\"2023-03-03T08:14:19.046000+00:00\",\"2023-03-03T08:14:45.184000+00:00\",\"2023-03-03T08:15:09.973000+00:00\",\"2023-03-03T08:15:34.016000+00:00\",\"2023-03-03T08:15:59.964000+00:00\",\"2023-03-03T08:16:20.395000+00:00\",\"2023-03-06T17:07:07.748000+00:00\",\"2023-03-06T17:07:32.938000+00:00\",\"2023-03-06T17:07:53.954000+00:00\",\"2023-03-06T17:08:13.973000+00:00\",\"2023-03-06T17:08:37.273000+00:00\",\"2023-03-06T17:09:04.938000+00:00\",\"2023-03-06T17:09:25.087000+00:00\",\"2023-03-06T17:09:46.674000+00:00\",\"2023-03-06T17:10:13.870000+00:00\",\"2023-03-06T17:10:38.434000+00:00\",\"2023-03-06T17:11:04.234000+00:00\",\"2023-03-06T17:11:27.001000+00:00\",\"2023-03-06T17:11:53.275000+00:00\",\"2023-03-06T17:12:14.514000+00:00\",\"2023-03-06T17:12:37.878000+00:00\",\"2023-03-06T17:13:02.149000+00:00\",\"2023-03-06T17:13:28.978000+00:00\",\"2023-03-06T17:13:48.738000+00:00\",\"2023-03-06T17:14:14.233000+00:00\",\"2023-03-06T17:14:35.339000+00:00\",\"2023-03-06T17:14:54.503000+00:00\",\"2023-03-06T17:15:18.329000+00:00\",\"2023-03-06T17:15:39.556000+00:00\",\"2023-03-06T17:15:59.978000+00:00\",\"2023-03-06T17:16:19.174000+00:00\",\"2023-03-06T17:16:39.287000+00:00\",\"2023-03-06T17:17:03.040000+00:00\",\"2023-03-06T17:17:24.419000+00:00\",\"2023-03-06T17:17:50.374000+00:00\",\"2023-03-06T17:18:14.256000+00:00\",\"2023-03-06T17:18:41.571000+00:00\"],\"xaxis\":\"x\",\"y\":[42.0,34.0,59.0,80.0,37.0,99.0,9.0,49.0,90.0,0.0,66.0,30.0,12.0,70.0,45.0,74.0,49.0,44.0,88.0,47.0,44.0,88.0,10.0,29.0,62.0,98.0,73.0,25.0,7.0,64.0,86.0,30.0,20.0,62.0,59.0,23.0,40.0,76.0,41.0,28.0,52.0,40.0,69.0,86.0,67.0,6.0,59.0,59.0,61.0,76.0,69.0,60.0,29.0,2.0,93.0,91.0,77.0,22.0,76.0,98.0,39.0,44.0,3.0,72.0,81.0,83.0,40.0,30.0,66.0,53.0,51.0,77.0,61.0,91.0,31.0,75.0,25.0,79.0,93.0,59.0,19.0,9.0,6.0,39.0,4.0,68.0,53.0,2.0,96.0,56.0,33.0,12.0,47.0,16.0,55.0,19.0,81.0,70.0,83.0,19.0,79.0,68.0,77.0,5.0,45.0,92.0,95.0,44.0,44.0,75.0,22.0,97.0,93.0,43.0,39.0,53.0,99.0,90.0,49.0,15.0,99.0,21.0,1.0],\"yaxis\":\"y\",\"type\":\"scatter\"}],                        {\"template\":{\"data\":{\"histogram2dcontour\":[{\"type\":\"histogram2dcontour\",\"colorbar\":{\"outlinewidth\":0,\"ticks\":\"\"},\"colorscale\":[[0.0,\"#0d0887\"],[0.1111111111111111,\"#46039f\"],[0.2222222222222222,\"#7201a8\"],[0.3333333333333333,\"#9c179e\"],[0.4444444444444444,\"#bd3786\"],[0.5555555555555556,\"#d8576b\"],[0.6666666666666666,\"#ed7953\"],[0.7777777777777778,\"#fb9f3a\"],[0.8888888888888888,\"#fdca26\"],[1.0,\"#f0f921\"]]}],\"choropleth\":[{\"type\":\"choropleth\",\"colorbar\":{\"outlinewidth\":0,\"ticks\":\"\"}}],\"histogram2d\":[{\"type\":\"histogram2d\",\"colorbar\":{\"outlinewidth\":0,\"ticks\":\"\"},\"colorscale\":[[0.0,\"#0d0887\"],[0.1111111111111111,\"#46039f\"],[0.2222222222222222,\"#7201a8\"],[0.3333333333333333,\"#9c179e\"],[0.4444444444444444,\"#bd3786\"],[0.5555555555555556,\"#d8576b\"],[0.6666666666666666,\"#ed7953\"],[0.7777777777777778,\"#fb9f3a\"],[0.8888888888888888,\"#fdca26\"],[1.0,\"#f0f921\"]]}],\"heatmap\":[{\"type\":\"heatmap\",\"colorbar\":{\"outlinewidth\":0,\"ticks\":\"\"},\"colorscale\":[[0.0,\"#0d0887\"],[0.1111111111111111,\"#46039f\"],[0.2222222222222222,\"#7201a8\"],[0.3333333333333333,\"#9c179e\"],[0.4444444444444444,\"#bd3786\"],[0.5555555555555556,\"#d8576b\"],[0.6666666666666666,\"#ed7953\"],[0.7777777777777778,\"#fb9f3a\"],[0.8888888888888888,\"#fdca26\"],[1.0,\"#f0f921\"]]}],\"heatmapgl\":[{\"type\":\"heatmapgl\",\"colorbar\":{\"outlinewidth\":0,\"ticks\":\"\"},\"colorscale\":[[0.0,\"#0d0887\"],[0.1111111111111111,\"#46039f\"],[0.2222222222222222,\"#7201a8\"],[0.3333333333333333,\"#9c179e\"],[0.4444444444444444,\"#bd3786\"],[0.5555555555555556,\"#d8576b\"],[0.6666666666666666,\"#ed7953\"],[0.7777777777777778,\"#fb9f3a\"],[0.8888888888888888,\"#fdca26\"],[1.0,\"#f0f921\"]]}],\"contourcarpet\":[{\"type\":\"contourcarpet\",\"colorbar\":{\"outlinewidth\":0,\"ticks\":\"\"}}],\"contour\":[{\"type\":\"contour\",\"colorbar\":{\"outlinewidth\":0,\"ticks\":\"\"},\"colorscale\":[[0.0,\"#0d0887\"],[0.1111111111111111,\"#46039f\"],[0.2222222222222222,\"#7201a8\"],[0.3333333333333333,\"#9c179e\"],[0.4444444444444444,\"#bd3786\"],[0.5555555555555556,\"#d8576b\"],[0.6666666666666666,\"#ed7953\"],[0.7777777777777778,\"#fb9f3a\"],[0.8888888888888888,\"#fdca26\"],[1.0,\"#f0f921\"]]}],\"surface\":[{\"type\":\"surface\",\"colorbar\":{\"outlinewidth\":0,\"ticks\":\"\"},\"colorscale\":[[0.0,\"#0d0887\"],[0.1111111111111111,\"#46039f\"],[0.2222222222222222,\"#7201a8\"],[0.3333333333333333,\"#9c179e\"],[0.4444444444444444,\"#bd3786\"],[0.5555555555555556,\"#d8576b\"],[0.6666666666666666,\"#ed7953\"],[0.7777777777777778,\"#fb9f3a\"],[0.8888888888888888,\"#fdca26\"],[1.0,\"#f0f921\"]]}],\"mesh3d\":[{\"type\":\"mesh3d\",\"colorbar\":{\"outlinewidth\":0,\"ticks\":\"\"}}],\"scatter\":[{\"fillpattern\":{\"fillmode\":\"overlay\",\"size\":10,\"solidity\":0.2},\"type\":\"scatter\"}],\"parcoords\":[{\"type\":\"parcoords\",\"line\":{\"colorbar\":{\"outlinewidth\":0,\"ticks\":\"\"}}}],\"scatterpolargl\":[{\"type\":\"scatterpolargl\",\"marker\":{\"colorbar\":{\"outlinewidth\":0,\"ticks\":\"\"}}}],\"bar\":[{\"error_x\":{\"color\":\"#2a3f5f\"},\"error_y\":{\"color\":\"#2a3f5f\"},\"marker\":{\"line\":{\"color\":\"#E5ECF6\",\"width\":0.5},\"pattern\":{\"fillmode\":\"overlay\",\"size\":10,\"solidity\":0.2}},\"type\":\"bar\"}],\"scattergeo\":[{\"type\":\"scattergeo\",\"marker\":{\"colorbar\":{\"outlinewidth\":0,\"ticks\":\"\"}}}],\"scatterpolar\":[{\"type\":\"scatterpolar\",\"marker\":{\"colorbar\":{\"outlinewidth\":0,\"ticks\":\"\"}}}],\"histogram\":[{\"marker\":{\"pattern\":{\"fillmode\":\"overlay\",\"size\":10,\"solidity\":0.2}},\"type\":\"histogram\"}],\"scattergl\":[{\"type\":\"scattergl\",\"marker\":{\"colorbar\":{\"outlinewidth\":0,\"ticks\":\"\"}}}],\"scatter3d\":[{\"type\":\"scatter3d\",\"line\":{\"colorbar\":{\"outlinewidth\":0,\"ticks\":\"\"}},\"marker\":{\"colorbar\":{\"outlinewidth\":0,\"ticks\":\"\"}}}],\"scattermapbox\":[{\"type\":\"scattermapbox\",\"marker\":{\"colorbar\":{\"outlinewidth\":0,\"ticks\":\"\"}}}],\"scatterternary\":[{\"type\":\"scatterternary\",\"marker\":{\"colorbar\":{\"outlinewidth\":0,\"ticks\":\"\"}}}],\"scattercarpet\":[{\"type\":\"scattercarpet\",\"marker\":{\"colorbar\":{\"outlinewidth\":0,\"ticks\":\"\"}}}],\"carpet\":[{\"aaxis\":{\"endlinecolor\":\"#2a3f5f\",\"gridcolor\":\"white\",\"linecolor\":\"white\",\"minorgridcolor\":\"white\",\"startlinecolor\":\"#2a3f5f\"},\"baxis\":{\"endlinecolor\":\"#2a3f5f\",\"gridcolor\":\"white\",\"linecolor\":\"white\",\"minorgridcolor\":\"white\",\"startlinecolor\":\"#2a3f5f\"},\"type\":\"carpet\"}],\"table\":[{\"cells\":{\"fill\":{\"color\":\"#EBF0F8\"},\"line\":{\"color\":\"white\"}},\"header\":{\"fill\":{\"color\":\"#C8D4E3\"},\"line\":{\"color\":\"white\"}},\"type\":\"table\"}],\"barpolar\":[{\"marker\":{\"line\":{\"color\":\"#E5ECF6\",\"width\":0.5},\"pattern\":{\"fillmode\":\"overlay\",\"size\":10,\"solidity\":0.2}},\"type\":\"barpolar\"}],\"pie\":[{\"automargin\":true,\"type\":\"pie\"}]},\"layout\":{\"autotypenumbers\":\"strict\",\"colorway\":[\"#636efa\",\"#EF553B\",\"#00cc96\",\"#ab63fa\",\"#FFA15A\",\"#19d3f3\",\"#FF6692\",\"#B6E880\",\"#FF97FF\",\"#FECB52\"],\"font\":{\"color\":\"#2a3f5f\"},\"hovermode\":\"closest\",\"hoverlabel\":{\"align\":\"left\"},\"paper_bgcolor\":\"white\",\"plot_bgcolor\":\"#E5ECF6\",\"polar\":{\"bgcolor\":\"#E5ECF6\",\"angularaxis\":{\"gridcolor\":\"white\",\"linecolor\":\"white\",\"ticks\":\"\"},\"radialaxis\":{\"gridcolor\":\"white\",\"linecolor\":\"white\",\"ticks\":\"\"}},\"ternary\":{\"bgcolor\":\"#E5ECF6\",\"aaxis\":{\"gridcolor\":\"white\",\"linecolor\":\"white\",\"ticks\":\"\"},\"baxis\":{\"gridcolor\":\"white\",\"linecolor\":\"white\",\"ticks\":\"\"},\"caxis\":{\"gridcolor\":\"white\",\"linecolor\":\"white\",\"ticks\":\"\"}},\"coloraxis\":{\"colorbar\":{\"outlinewidth\":0,\"ticks\":\"\"}},\"colorscale\":{\"sequential\":[[0.0,\"#0d0887\"],[0.1111111111111111,\"#46039f\"],[0.2222222222222222,\"#7201a8\"],[0.3333333333333333,\"#9c179e\"],[0.4444444444444444,\"#bd3786\"],[0.5555555555555556,\"#d8576b\"],[0.6666666666666666,\"#ed7953\"],[0.7777777777777778,\"#fb9f3a\"],[0.8888888888888888,\"#fdca26\"],[1.0,\"#f0f921\"]],\"sequentialminus\":[[0.0,\"#0d0887\"],[0.1111111111111111,\"#46039f\"],[0.2222222222222222,\"#7201a8\"],[0.3333333333333333,\"#9c179e\"],[0.4444444444444444,\"#bd3786\"],[0.5555555555555556,\"#d8576b\"],[0.6666666666666666,\"#ed7953\"],[0.7777777777777778,\"#fb9f3a\"],[0.8888888888888888,\"#fdca26\"],[1.0,\"#f0f921\"]],\"diverging\":[[0,\"#8e0152\"],[0.1,\"#c51b7d\"],[0.2,\"#de77ae\"],[0.3,\"#f1b6da\"],[0.4,\"#fde0ef\"],[0.5,\"#f7f7f7\"],[0.6,\"#e6f5d0\"],[0.7,\"#b8e186\"],[0.8,\"#7fbc41\"],[0.9,\"#4d9221\"],[1,\"#276419\"]]},\"xaxis\":{\"gridcolor\":\"white\",\"linecolor\":\"white\",\"ticks\":\"\",\"title\":{\"standoff\":15},\"zerolinecolor\":\"white\",\"automargin\":true,\"zerolinewidth\":2},\"yaxis\":{\"gridcolor\":\"white\",\"linecolor\":\"white\",\"ticks\":\"\",\"title\":{\"standoff\":15},\"zerolinecolor\":\"white\",\"automargin\":true,\"zerolinewidth\":2},\"scene\":{\"xaxis\":{\"backgroundcolor\":\"#E5ECF6\",\"gridcolor\":\"white\",\"linecolor\":\"white\",\"showbackground\":true,\"ticks\":\"\",\"zerolinecolor\":\"white\",\"gridwidth\":2},\"yaxis\":{\"backgroundcolor\":\"#E5ECF6\",\"gridcolor\":\"white\",\"linecolor\":\"white\",\"showbackground\":true,\"ticks\":\"\",\"zerolinecolor\":\"white\",\"gridwidth\":2},\"zaxis\":{\"backgroundcolor\":\"#E5ECF6\",\"gridcolor\":\"white\",\"linecolor\":\"white\",\"showbackground\":true,\"ticks\":\"\",\"zerolinecolor\":\"white\",\"gridwidth\":2}},\"shapedefaults\":{\"line\":{\"color\":\"#2a3f5f\"}},\"annotationdefaults\":{\"arrowcolor\":\"#2a3f5f\",\"arrowhead\":0,\"arrowwidth\":1},\"geo\":{\"bgcolor\":\"white\",\"landcolor\":\"#E5ECF6\",\"subunitcolor\":\"white\",\"showland\":true,\"showlakes\":true,\"lakecolor\":\"white\"},\"title\":{\"x\":0.05},\"mapbox\":{\"style\":\"light\"}}},\"xaxis\":{\"title\":{\"text\":\"Date\"}},\"yaxis\":{\"title\":{\"text\":\"Livello Umidit\\u00e0 in %\"}},\"title\":{\"text\":\"Andamento umidit\\u00e0 nei device Environmental\"}},                        {\"responsive\": true}                    ).then(function(){\n",
       "                            \n",
       "var gd = document.getElementById('b7b91da3-420c-4b35-b38c-9ca378bd71ea');\n",
       "var x = new MutationObserver(function (mutations, observer) {{\n",
       "        var display = window.getComputedStyle(gd).display;\n",
       "        if (!display || display === 'none') {{\n",
       "            console.log([gd, 'removed!']);\n",
       "            Plotly.purge(gd);\n",
       "            observer.disconnect();\n",
       "        }}\n",
       "}});\n",
       "\n",
       "// Listen for the removal of the full notebook cells\n",
       "var notebookContainer = gd.closest('#notebook-container');\n",
       "if (notebookContainer) {{\n",
       "    x.observe(notebookContainer, {childList: true});\n",
       "}}\n",
       "\n",
       "// Listen for the clearing of the current output cell\n",
       "var outputEl = gd.closest('.output');\n",
       "if (outputEl) {{\n",
       "    x.observe(outputEl, {childList: true});\n",
       "}}\n",
       "\n",
       "                        })                };                });            </script>        </div>"
      ]
     },
     "metadata": {},
     "output_type": "display_data"
    }
   ],
   "source": [
    "df1=df.loc[df['type']=='environmental']\n",
    "df1=df1.loc[df1['k']=='relative_humidity']\n",
    "df1['tz'] = pd.to_datetime(df1['tz'])\n",
    "fig = px.line(df1, x=\"tz\", y=\"v\")\n",
    "fig2 = px.scatter(df1, x=\"tz\", y=\"v\", color_discrete_sequence=['red'])\n",
    "fig3 = go.Figure(data=fig.data + fig2.data)\n",
    "fig3.update_layout(xaxis_title=\"Date\", \n",
    "                   yaxis_title=\"Livello Umidità in %\",\n",
    "                   title='Andamento umidità nei device Environmental'\n",
    "                  )\n",
    "fig3.show()"
   ]
  },
  {
   "cell_type": "markdown",
   "id": "1a11b86d",
   "metadata": {},
   "source": [
    "# Istogramma della media delle temperature tra i vari device"
   ]
  },
  {
   "cell_type": "code",
   "execution_count": 29,
   "id": "f6c7597b",
   "metadata": {},
   "outputs": [
    {
     "data": {
      "application/vnd.plotly.v1+json": {
       "config": {
        "plotlyServerURL": "https://plot.ly"
       },
       "data": [
        {
         "alignmentgroup": "True",
         "hovertemplate": "type=%{x}<br>average=%{y}<extra></extra>",
         "legendgroup": "",
         "marker": {
          "color": "#636efa",
          "pattern": {
           "shape": ""
          }
         },
         "name": "",
         "offsetgroup": "",
         "orientation": "v",
         "showlegend": false,
         "textposition": "auto",
         "texttemplate": "%{y:}",
         "type": "bar",
         "x": [
          "environmental",
          "gasmeter",
          "presence",
          "luxmeter"
         ],
         "xaxis": "x",
         "y": [
          18.223454471544716,
          19.5,
          21.015169918699186,
          21.032823577235767
         ],
         "yaxis": "y"
        }
       ],
       "layout": {
        "barmode": "relative",
        "height": 400,
        "legend": {
         "tracegroupgap": 0
        },
        "template": {
         "data": {
          "bar": [
           {
            "error_x": {
             "color": "#2a3f5f"
            },
            "error_y": {
             "color": "#2a3f5f"
            },
            "marker": {
             "line": {
              "color": "#E5ECF6",
              "width": 0.5
             },
             "pattern": {
              "fillmode": "overlay",
              "size": 10,
              "solidity": 0.2
             }
            },
            "type": "bar"
           }
          ],
          "barpolar": [
           {
            "marker": {
             "line": {
              "color": "#E5ECF6",
              "width": 0.5
             },
             "pattern": {
              "fillmode": "overlay",
              "size": 10,
              "solidity": 0.2
             }
            },
            "type": "barpolar"
           }
          ],
          "carpet": [
           {
            "aaxis": {
             "endlinecolor": "#2a3f5f",
             "gridcolor": "white",
             "linecolor": "white",
             "minorgridcolor": "white",
             "startlinecolor": "#2a3f5f"
            },
            "baxis": {
             "endlinecolor": "#2a3f5f",
             "gridcolor": "white",
             "linecolor": "white",
             "minorgridcolor": "white",
             "startlinecolor": "#2a3f5f"
            },
            "type": "carpet"
           }
          ],
          "choropleth": [
           {
            "colorbar": {
             "outlinewidth": 0,
             "ticks": ""
            },
            "type": "choropleth"
           }
          ],
          "contour": [
           {
            "colorbar": {
             "outlinewidth": 0,
             "ticks": ""
            },
            "colorscale": [
             [
              0,
              "#0d0887"
             ],
             [
              0.1111111111111111,
              "#46039f"
             ],
             [
              0.2222222222222222,
              "#7201a8"
             ],
             [
              0.3333333333333333,
              "#9c179e"
             ],
             [
              0.4444444444444444,
              "#bd3786"
             ],
             [
              0.5555555555555556,
              "#d8576b"
             ],
             [
              0.6666666666666666,
              "#ed7953"
             ],
             [
              0.7777777777777778,
              "#fb9f3a"
             ],
             [
              0.8888888888888888,
              "#fdca26"
             ],
             [
              1,
              "#f0f921"
             ]
            ],
            "type": "contour"
           }
          ],
          "contourcarpet": [
           {
            "colorbar": {
             "outlinewidth": 0,
             "ticks": ""
            },
            "type": "contourcarpet"
           }
          ],
          "heatmap": [
           {
            "colorbar": {
             "outlinewidth": 0,
             "ticks": ""
            },
            "colorscale": [
             [
              0,
              "#0d0887"
             ],
             [
              0.1111111111111111,
              "#46039f"
             ],
             [
              0.2222222222222222,
              "#7201a8"
             ],
             [
              0.3333333333333333,
              "#9c179e"
             ],
             [
              0.4444444444444444,
              "#bd3786"
             ],
             [
              0.5555555555555556,
              "#d8576b"
             ],
             [
              0.6666666666666666,
              "#ed7953"
             ],
             [
              0.7777777777777778,
              "#fb9f3a"
             ],
             [
              0.8888888888888888,
              "#fdca26"
             ],
             [
              1,
              "#f0f921"
             ]
            ],
            "type": "heatmap"
           }
          ],
          "heatmapgl": [
           {
            "colorbar": {
             "outlinewidth": 0,
             "ticks": ""
            },
            "colorscale": [
             [
              0,
              "#0d0887"
             ],
             [
              0.1111111111111111,
              "#46039f"
             ],
             [
              0.2222222222222222,
              "#7201a8"
             ],
             [
              0.3333333333333333,
              "#9c179e"
             ],
             [
              0.4444444444444444,
              "#bd3786"
             ],
             [
              0.5555555555555556,
              "#d8576b"
             ],
             [
              0.6666666666666666,
              "#ed7953"
             ],
             [
              0.7777777777777778,
              "#fb9f3a"
             ],
             [
              0.8888888888888888,
              "#fdca26"
             ],
             [
              1,
              "#f0f921"
             ]
            ],
            "type": "heatmapgl"
           }
          ],
          "histogram": [
           {
            "marker": {
             "pattern": {
              "fillmode": "overlay",
              "size": 10,
              "solidity": 0.2
             }
            },
            "type": "histogram"
           }
          ],
          "histogram2d": [
           {
            "colorbar": {
             "outlinewidth": 0,
             "ticks": ""
            },
            "colorscale": [
             [
              0,
              "#0d0887"
             ],
             [
              0.1111111111111111,
              "#46039f"
             ],
             [
              0.2222222222222222,
              "#7201a8"
             ],
             [
              0.3333333333333333,
              "#9c179e"
             ],
             [
              0.4444444444444444,
              "#bd3786"
             ],
             [
              0.5555555555555556,
              "#d8576b"
             ],
             [
              0.6666666666666666,
              "#ed7953"
             ],
             [
              0.7777777777777778,
              "#fb9f3a"
             ],
             [
              0.8888888888888888,
              "#fdca26"
             ],
             [
              1,
              "#f0f921"
             ]
            ],
            "type": "histogram2d"
           }
          ],
          "histogram2dcontour": [
           {
            "colorbar": {
             "outlinewidth": 0,
             "ticks": ""
            },
            "colorscale": [
             [
              0,
              "#0d0887"
             ],
             [
              0.1111111111111111,
              "#46039f"
             ],
             [
              0.2222222222222222,
              "#7201a8"
             ],
             [
              0.3333333333333333,
              "#9c179e"
             ],
             [
              0.4444444444444444,
              "#bd3786"
             ],
             [
              0.5555555555555556,
              "#d8576b"
             ],
             [
              0.6666666666666666,
              "#ed7953"
             ],
             [
              0.7777777777777778,
              "#fb9f3a"
             ],
             [
              0.8888888888888888,
              "#fdca26"
             ],
             [
              1,
              "#f0f921"
             ]
            ],
            "type": "histogram2dcontour"
           }
          ],
          "mesh3d": [
           {
            "colorbar": {
             "outlinewidth": 0,
             "ticks": ""
            },
            "type": "mesh3d"
           }
          ],
          "parcoords": [
           {
            "line": {
             "colorbar": {
              "outlinewidth": 0,
              "ticks": ""
             }
            },
            "type": "parcoords"
           }
          ],
          "pie": [
           {
            "automargin": true,
            "type": "pie"
           }
          ],
          "scatter": [
           {
            "fillpattern": {
             "fillmode": "overlay",
             "size": 10,
             "solidity": 0.2
            },
            "type": "scatter"
           }
          ],
          "scatter3d": [
           {
            "line": {
             "colorbar": {
              "outlinewidth": 0,
              "ticks": ""
             }
            },
            "marker": {
             "colorbar": {
              "outlinewidth": 0,
              "ticks": ""
             }
            },
            "type": "scatter3d"
           }
          ],
          "scattercarpet": [
           {
            "marker": {
             "colorbar": {
              "outlinewidth": 0,
              "ticks": ""
             }
            },
            "type": "scattercarpet"
           }
          ],
          "scattergeo": [
           {
            "marker": {
             "colorbar": {
              "outlinewidth": 0,
              "ticks": ""
             }
            },
            "type": "scattergeo"
           }
          ],
          "scattergl": [
           {
            "marker": {
             "colorbar": {
              "outlinewidth": 0,
              "ticks": ""
             }
            },
            "type": "scattergl"
           }
          ],
          "scattermapbox": [
           {
            "marker": {
             "colorbar": {
              "outlinewidth": 0,
              "ticks": ""
             }
            },
            "type": "scattermapbox"
           }
          ],
          "scatterpolar": [
           {
            "marker": {
             "colorbar": {
              "outlinewidth": 0,
              "ticks": ""
             }
            },
            "type": "scatterpolar"
           }
          ],
          "scatterpolargl": [
           {
            "marker": {
             "colorbar": {
              "outlinewidth": 0,
              "ticks": ""
             }
            },
            "type": "scatterpolargl"
           }
          ],
          "scatterternary": [
           {
            "marker": {
             "colorbar": {
              "outlinewidth": 0,
              "ticks": ""
             }
            },
            "type": "scatterternary"
           }
          ],
          "surface": [
           {
            "colorbar": {
             "outlinewidth": 0,
             "ticks": ""
            },
            "colorscale": [
             [
              0,
              "#0d0887"
             ],
             [
              0.1111111111111111,
              "#46039f"
             ],
             [
              0.2222222222222222,
              "#7201a8"
             ],
             [
              0.3333333333333333,
              "#9c179e"
             ],
             [
              0.4444444444444444,
              "#bd3786"
             ],
             [
              0.5555555555555556,
              "#d8576b"
             ],
             [
              0.6666666666666666,
              "#ed7953"
             ],
             [
              0.7777777777777778,
              "#fb9f3a"
             ],
             [
              0.8888888888888888,
              "#fdca26"
             ],
             [
              1,
              "#f0f921"
             ]
            ],
            "type": "surface"
           }
          ],
          "table": [
           {
            "cells": {
             "fill": {
              "color": "#EBF0F8"
             },
             "line": {
              "color": "white"
             }
            },
            "header": {
             "fill": {
              "color": "#C8D4E3"
             },
             "line": {
              "color": "white"
             }
            },
            "type": "table"
           }
          ]
         },
         "layout": {
          "annotationdefaults": {
           "arrowcolor": "#2a3f5f",
           "arrowhead": 0,
           "arrowwidth": 1
          },
          "autotypenumbers": "strict",
          "coloraxis": {
           "colorbar": {
            "outlinewidth": 0,
            "ticks": ""
           }
          },
          "colorscale": {
           "diverging": [
            [
             0,
             "#8e0152"
            ],
            [
             0.1,
             "#c51b7d"
            ],
            [
             0.2,
             "#de77ae"
            ],
            [
             0.3,
             "#f1b6da"
            ],
            [
             0.4,
             "#fde0ef"
            ],
            [
             0.5,
             "#f7f7f7"
            ],
            [
             0.6,
             "#e6f5d0"
            ],
            [
             0.7,
             "#b8e186"
            ],
            [
             0.8,
             "#7fbc41"
            ],
            [
             0.9,
             "#4d9221"
            ],
            [
             1,
             "#276419"
            ]
           ],
           "sequential": [
            [
             0,
             "#0d0887"
            ],
            [
             0.1111111111111111,
             "#46039f"
            ],
            [
             0.2222222222222222,
             "#7201a8"
            ],
            [
             0.3333333333333333,
             "#9c179e"
            ],
            [
             0.4444444444444444,
             "#bd3786"
            ],
            [
             0.5555555555555556,
             "#d8576b"
            ],
            [
             0.6666666666666666,
             "#ed7953"
            ],
            [
             0.7777777777777778,
             "#fb9f3a"
            ],
            [
             0.8888888888888888,
             "#fdca26"
            ],
            [
             1,
             "#f0f921"
            ]
           ],
           "sequentialminus": [
            [
             0,
             "#0d0887"
            ],
            [
             0.1111111111111111,
             "#46039f"
            ],
            [
             0.2222222222222222,
             "#7201a8"
            ],
            [
             0.3333333333333333,
             "#9c179e"
            ],
            [
             0.4444444444444444,
             "#bd3786"
            ],
            [
             0.5555555555555556,
             "#d8576b"
            ],
            [
             0.6666666666666666,
             "#ed7953"
            ],
            [
             0.7777777777777778,
             "#fb9f3a"
            ],
            [
             0.8888888888888888,
             "#fdca26"
            ],
            [
             1,
             "#f0f921"
            ]
           ]
          },
          "colorway": [
           "#636efa",
           "#EF553B",
           "#00cc96",
           "#ab63fa",
           "#FFA15A",
           "#19d3f3",
           "#FF6692",
           "#B6E880",
           "#FF97FF",
           "#FECB52"
          ],
          "font": {
           "color": "#2a3f5f"
          },
          "geo": {
           "bgcolor": "white",
           "lakecolor": "white",
           "landcolor": "#E5ECF6",
           "showlakes": true,
           "showland": true,
           "subunitcolor": "white"
          },
          "hoverlabel": {
           "align": "left"
          },
          "hovermode": "closest",
          "mapbox": {
           "style": "light"
          },
          "paper_bgcolor": "white",
          "plot_bgcolor": "#E5ECF6",
          "polar": {
           "angularaxis": {
            "gridcolor": "white",
            "linecolor": "white",
            "ticks": ""
           },
           "bgcolor": "#E5ECF6",
           "radialaxis": {
            "gridcolor": "white",
            "linecolor": "white",
            "ticks": ""
           }
          },
          "scene": {
           "xaxis": {
            "backgroundcolor": "#E5ECF6",
            "gridcolor": "white",
            "gridwidth": 2,
            "linecolor": "white",
            "showbackground": true,
            "ticks": "",
            "zerolinecolor": "white"
           },
           "yaxis": {
            "backgroundcolor": "#E5ECF6",
            "gridcolor": "white",
            "gridwidth": 2,
            "linecolor": "white",
            "showbackground": true,
            "ticks": "",
            "zerolinecolor": "white"
           },
           "zaxis": {
            "backgroundcolor": "#E5ECF6",
            "gridcolor": "white",
            "gridwidth": 2,
            "linecolor": "white",
            "showbackground": true,
            "ticks": "",
            "zerolinecolor": "white"
           }
          },
          "shapedefaults": {
           "line": {
            "color": "#2a3f5f"
           }
          },
          "ternary": {
           "aaxis": {
            "gridcolor": "white",
            "linecolor": "white",
            "ticks": ""
           },
           "baxis": {
            "gridcolor": "white",
            "linecolor": "white",
            "ticks": ""
           },
           "bgcolor": "#E5ECF6",
           "caxis": {
            "gridcolor": "white",
            "linecolor": "white",
            "ticks": ""
           }
          },
          "title": {
           "x": 0.05
          },
          "xaxis": {
           "automargin": true,
           "gridcolor": "white",
           "linecolor": "white",
           "ticks": "",
           "title": {
            "standoff": 15
           },
           "zerolinecolor": "white",
           "zerolinewidth": 2
          },
          "yaxis": {
           "automargin": true,
           "gridcolor": "white",
           "linecolor": "white",
           "ticks": "",
           "title": {
            "standoff": 15
           },
           "zerolinecolor": "white",
           "zerolinewidth": 2
          }
         }
        },
        "title": {
         "text": "Average of the measured temperature by the Devices"
        },
        "xaxis": {
         "anchor": "y",
         "domain": [
          0,
          1
         ],
         "title": {
          "text": "type"
         }
        },
        "yaxis": {
         "anchor": "x",
         "domain": [
          0,
          1
         ],
         "title": {
          "text": "average"
         }
        }
       }
      },
      "text/html": [
       "<div>                            <div id=\"301388bb-4b9c-4572-802d-b0a0f30fb38b\" class=\"plotly-graph-div\" style=\"height:400px; width:100%;\"></div>            <script type=\"text/javascript\">                require([\"plotly\"], function(Plotly) {                    window.PLOTLYENV=window.PLOTLYENV || {};                                    if (document.getElementById(\"301388bb-4b9c-4572-802d-b0a0f30fb38b\")) {                    Plotly.newPlot(                        \"301388bb-4b9c-4572-802d-b0a0f30fb38b\",                        [{\"alignmentgroup\":\"True\",\"hovertemplate\":\"type=%{x}<br>average=%{y}<extra></extra>\",\"legendgroup\":\"\",\"marker\":{\"color\":\"#636efa\",\"pattern\":{\"shape\":\"\"}},\"name\":\"\",\"offsetgroup\":\"\",\"orientation\":\"v\",\"showlegend\":false,\"textposition\":\"auto\",\"texttemplate\":\"%{y:}\",\"x\":[\"environmental\",\"gasmeter\",\"presence\",\"luxmeter\"],\"xaxis\":\"x\",\"y\":[18.223454471544716,19.5,21.015169918699186,21.032823577235767],\"yaxis\":\"y\",\"type\":\"bar\"}],                        {\"template\":{\"data\":{\"histogram2dcontour\":[{\"type\":\"histogram2dcontour\",\"colorbar\":{\"outlinewidth\":0,\"ticks\":\"\"},\"colorscale\":[[0.0,\"#0d0887\"],[0.1111111111111111,\"#46039f\"],[0.2222222222222222,\"#7201a8\"],[0.3333333333333333,\"#9c179e\"],[0.4444444444444444,\"#bd3786\"],[0.5555555555555556,\"#d8576b\"],[0.6666666666666666,\"#ed7953\"],[0.7777777777777778,\"#fb9f3a\"],[0.8888888888888888,\"#fdca26\"],[1.0,\"#f0f921\"]]}],\"choropleth\":[{\"type\":\"choropleth\",\"colorbar\":{\"outlinewidth\":0,\"ticks\":\"\"}}],\"histogram2d\":[{\"type\":\"histogram2d\",\"colorbar\":{\"outlinewidth\":0,\"ticks\":\"\"},\"colorscale\":[[0.0,\"#0d0887\"],[0.1111111111111111,\"#46039f\"],[0.2222222222222222,\"#7201a8\"],[0.3333333333333333,\"#9c179e\"],[0.4444444444444444,\"#bd3786\"],[0.5555555555555556,\"#d8576b\"],[0.6666666666666666,\"#ed7953\"],[0.7777777777777778,\"#fb9f3a\"],[0.8888888888888888,\"#fdca26\"],[1.0,\"#f0f921\"]]}],\"heatmap\":[{\"type\":\"heatmap\",\"colorbar\":{\"outlinewidth\":0,\"ticks\":\"\"},\"colorscale\":[[0.0,\"#0d0887\"],[0.1111111111111111,\"#46039f\"],[0.2222222222222222,\"#7201a8\"],[0.3333333333333333,\"#9c179e\"],[0.4444444444444444,\"#bd3786\"],[0.5555555555555556,\"#d8576b\"],[0.6666666666666666,\"#ed7953\"],[0.7777777777777778,\"#fb9f3a\"],[0.8888888888888888,\"#fdca26\"],[1.0,\"#f0f921\"]]}],\"heatmapgl\":[{\"type\":\"heatmapgl\",\"colorbar\":{\"outlinewidth\":0,\"ticks\":\"\"},\"colorscale\":[[0.0,\"#0d0887\"],[0.1111111111111111,\"#46039f\"],[0.2222222222222222,\"#7201a8\"],[0.3333333333333333,\"#9c179e\"],[0.4444444444444444,\"#bd3786\"],[0.5555555555555556,\"#d8576b\"],[0.6666666666666666,\"#ed7953\"],[0.7777777777777778,\"#fb9f3a\"],[0.8888888888888888,\"#fdca26\"],[1.0,\"#f0f921\"]]}],\"contourcarpet\":[{\"type\":\"contourcarpet\",\"colorbar\":{\"outlinewidth\":0,\"ticks\":\"\"}}],\"contour\":[{\"type\":\"contour\",\"colorbar\":{\"outlinewidth\":0,\"ticks\":\"\"},\"colorscale\":[[0.0,\"#0d0887\"],[0.1111111111111111,\"#46039f\"],[0.2222222222222222,\"#7201a8\"],[0.3333333333333333,\"#9c179e\"],[0.4444444444444444,\"#bd3786\"],[0.5555555555555556,\"#d8576b\"],[0.6666666666666666,\"#ed7953\"],[0.7777777777777778,\"#fb9f3a\"],[0.8888888888888888,\"#fdca26\"],[1.0,\"#f0f921\"]]}],\"surface\":[{\"type\":\"surface\",\"colorbar\":{\"outlinewidth\":0,\"ticks\":\"\"},\"colorscale\":[[0.0,\"#0d0887\"],[0.1111111111111111,\"#46039f\"],[0.2222222222222222,\"#7201a8\"],[0.3333333333333333,\"#9c179e\"],[0.4444444444444444,\"#bd3786\"],[0.5555555555555556,\"#d8576b\"],[0.6666666666666666,\"#ed7953\"],[0.7777777777777778,\"#fb9f3a\"],[0.8888888888888888,\"#fdca26\"],[1.0,\"#f0f921\"]]}],\"mesh3d\":[{\"type\":\"mesh3d\",\"colorbar\":{\"outlinewidth\":0,\"ticks\":\"\"}}],\"scatter\":[{\"fillpattern\":{\"fillmode\":\"overlay\",\"size\":10,\"solidity\":0.2},\"type\":\"scatter\"}],\"parcoords\":[{\"type\":\"parcoords\",\"line\":{\"colorbar\":{\"outlinewidth\":0,\"ticks\":\"\"}}}],\"scatterpolargl\":[{\"type\":\"scatterpolargl\",\"marker\":{\"colorbar\":{\"outlinewidth\":0,\"ticks\":\"\"}}}],\"bar\":[{\"error_x\":{\"color\":\"#2a3f5f\"},\"error_y\":{\"color\":\"#2a3f5f\"},\"marker\":{\"line\":{\"color\":\"#E5ECF6\",\"width\":0.5},\"pattern\":{\"fillmode\":\"overlay\",\"size\":10,\"solidity\":0.2}},\"type\":\"bar\"}],\"scattergeo\":[{\"type\":\"scattergeo\",\"marker\":{\"colorbar\":{\"outlinewidth\":0,\"ticks\":\"\"}}}],\"scatterpolar\":[{\"type\":\"scatterpolar\",\"marker\":{\"colorbar\":{\"outlinewidth\":0,\"ticks\":\"\"}}}],\"histogram\":[{\"marker\":{\"pattern\":{\"fillmode\":\"overlay\",\"size\":10,\"solidity\":0.2}},\"type\":\"histogram\"}],\"scattergl\":[{\"type\":\"scattergl\",\"marker\":{\"colorbar\":{\"outlinewidth\":0,\"ticks\":\"\"}}}],\"scatter3d\":[{\"type\":\"scatter3d\",\"line\":{\"colorbar\":{\"outlinewidth\":0,\"ticks\":\"\"}},\"marker\":{\"colorbar\":{\"outlinewidth\":0,\"ticks\":\"\"}}}],\"scattermapbox\":[{\"type\":\"scattermapbox\",\"marker\":{\"colorbar\":{\"outlinewidth\":0,\"ticks\":\"\"}}}],\"scatterternary\":[{\"type\":\"scatterternary\",\"marker\":{\"colorbar\":{\"outlinewidth\":0,\"ticks\":\"\"}}}],\"scattercarpet\":[{\"type\":\"scattercarpet\",\"marker\":{\"colorbar\":{\"outlinewidth\":0,\"ticks\":\"\"}}}],\"carpet\":[{\"aaxis\":{\"endlinecolor\":\"#2a3f5f\",\"gridcolor\":\"white\",\"linecolor\":\"white\",\"minorgridcolor\":\"white\",\"startlinecolor\":\"#2a3f5f\"},\"baxis\":{\"endlinecolor\":\"#2a3f5f\",\"gridcolor\":\"white\",\"linecolor\":\"white\",\"minorgridcolor\":\"white\",\"startlinecolor\":\"#2a3f5f\"},\"type\":\"carpet\"}],\"table\":[{\"cells\":{\"fill\":{\"color\":\"#EBF0F8\"},\"line\":{\"color\":\"white\"}},\"header\":{\"fill\":{\"color\":\"#C8D4E3\"},\"line\":{\"color\":\"white\"}},\"type\":\"table\"}],\"barpolar\":[{\"marker\":{\"line\":{\"color\":\"#E5ECF6\",\"width\":0.5},\"pattern\":{\"fillmode\":\"overlay\",\"size\":10,\"solidity\":0.2}},\"type\":\"barpolar\"}],\"pie\":[{\"automargin\":true,\"type\":\"pie\"}]},\"layout\":{\"autotypenumbers\":\"strict\",\"colorway\":[\"#636efa\",\"#EF553B\",\"#00cc96\",\"#ab63fa\",\"#FFA15A\",\"#19d3f3\",\"#FF6692\",\"#B6E880\",\"#FF97FF\",\"#FECB52\"],\"font\":{\"color\":\"#2a3f5f\"},\"hovermode\":\"closest\",\"hoverlabel\":{\"align\":\"left\"},\"paper_bgcolor\":\"white\",\"plot_bgcolor\":\"#E5ECF6\",\"polar\":{\"bgcolor\":\"#E5ECF6\",\"angularaxis\":{\"gridcolor\":\"white\",\"linecolor\":\"white\",\"ticks\":\"\"},\"radialaxis\":{\"gridcolor\":\"white\",\"linecolor\":\"white\",\"ticks\":\"\"}},\"ternary\":{\"bgcolor\":\"#E5ECF6\",\"aaxis\":{\"gridcolor\":\"white\",\"linecolor\":\"white\",\"ticks\":\"\"},\"baxis\":{\"gridcolor\":\"white\",\"linecolor\":\"white\",\"ticks\":\"\"},\"caxis\":{\"gridcolor\":\"white\",\"linecolor\":\"white\",\"ticks\":\"\"}},\"coloraxis\":{\"colorbar\":{\"outlinewidth\":0,\"ticks\":\"\"}},\"colorscale\":{\"sequential\":[[0.0,\"#0d0887\"],[0.1111111111111111,\"#46039f\"],[0.2222222222222222,\"#7201a8\"],[0.3333333333333333,\"#9c179e\"],[0.4444444444444444,\"#bd3786\"],[0.5555555555555556,\"#d8576b\"],[0.6666666666666666,\"#ed7953\"],[0.7777777777777778,\"#fb9f3a\"],[0.8888888888888888,\"#fdca26\"],[1.0,\"#f0f921\"]],\"sequentialminus\":[[0.0,\"#0d0887\"],[0.1111111111111111,\"#46039f\"],[0.2222222222222222,\"#7201a8\"],[0.3333333333333333,\"#9c179e\"],[0.4444444444444444,\"#bd3786\"],[0.5555555555555556,\"#d8576b\"],[0.6666666666666666,\"#ed7953\"],[0.7777777777777778,\"#fb9f3a\"],[0.8888888888888888,\"#fdca26\"],[1.0,\"#f0f921\"]],\"diverging\":[[0,\"#8e0152\"],[0.1,\"#c51b7d\"],[0.2,\"#de77ae\"],[0.3,\"#f1b6da\"],[0.4,\"#fde0ef\"],[0.5,\"#f7f7f7\"],[0.6,\"#e6f5d0\"],[0.7,\"#b8e186\"],[0.8,\"#7fbc41\"],[0.9,\"#4d9221\"],[1,\"#276419\"]]},\"xaxis\":{\"gridcolor\":\"white\",\"linecolor\":\"white\",\"ticks\":\"\",\"title\":{\"standoff\":15},\"zerolinecolor\":\"white\",\"automargin\":true,\"zerolinewidth\":2},\"yaxis\":{\"gridcolor\":\"white\",\"linecolor\":\"white\",\"ticks\":\"\",\"title\":{\"standoff\":15},\"zerolinecolor\":\"white\",\"automargin\":true,\"zerolinewidth\":2},\"scene\":{\"xaxis\":{\"backgroundcolor\":\"#E5ECF6\",\"gridcolor\":\"white\",\"linecolor\":\"white\",\"showbackground\":true,\"ticks\":\"\",\"zerolinecolor\":\"white\",\"gridwidth\":2},\"yaxis\":{\"backgroundcolor\":\"#E5ECF6\",\"gridcolor\":\"white\",\"linecolor\":\"white\",\"showbackground\":true,\"ticks\":\"\",\"zerolinecolor\":\"white\",\"gridwidth\":2},\"zaxis\":{\"backgroundcolor\":\"#E5ECF6\",\"gridcolor\":\"white\",\"linecolor\":\"white\",\"showbackground\":true,\"ticks\":\"\",\"zerolinecolor\":\"white\",\"gridwidth\":2}},\"shapedefaults\":{\"line\":{\"color\":\"#2a3f5f\"}},\"annotationdefaults\":{\"arrowcolor\":\"#2a3f5f\",\"arrowhead\":0,\"arrowwidth\":1},\"geo\":{\"bgcolor\":\"white\",\"landcolor\":\"#E5ECF6\",\"subunitcolor\":\"white\",\"showland\":true,\"showlakes\":true,\"lakecolor\":\"white\"},\"title\":{\"x\":0.05},\"mapbox\":{\"style\":\"light\"}}},\"xaxis\":{\"anchor\":\"y\",\"domain\":[0.0,1.0],\"title\":{\"text\":\"type\"}},\"yaxis\":{\"anchor\":\"x\",\"domain\":[0.0,1.0],\"title\":{\"text\":\"average\"}},\"legend\":{\"tracegroupgap\":0},\"title\":{\"text\":\"Average of the measured temperature by the Devices\"},\"barmode\":\"relative\",\"height\":400},                        {\"responsive\": true}                    ).then(function(){\n",
       "                            \n",
       "var gd = document.getElementById('301388bb-4b9c-4572-802d-b0a0f30fb38b');\n",
       "var x = new MutationObserver(function (mutations, observer) {{\n",
       "        var display = window.getComputedStyle(gd).display;\n",
       "        if (!display || display === 'none') {{\n",
       "            console.log([gd, 'removed!']);\n",
       "            Plotly.purge(gd);\n",
       "            observer.disconnect();\n",
       "        }}\n",
       "}});\n",
       "\n",
       "// Listen for the removal of the full notebook cells\n",
       "var notebookContainer = gd.closest('#notebook-container');\n",
       "if (notebookContainer) {{\n",
       "    x.observe(notebookContainer, {childList: true});\n",
       "}}\n",
       "\n",
       "// Listen for the clearing of the current output cell\n",
       "var outputEl = gd.closest('.output');\n",
       "if (outputEl) {{\n",
       "    x.observe(outputEl, {childList: true});\n",
       "}}\n",
       "\n",
       "                        })                };                });            </script>        </div>"
      ]
     },
     "metadata": {},
     "output_type": "display_data"
    }
   ],
   "source": [
    "envavg={'average': df.loc[(df['type']=='environmental') & (df['k']=='device_temperature')]['v'].mean(),'type': 'environmental'}\n",
    "gasavg={'average': df.loc[(df['type']=='gasmeter') & (df['k']=='device_temperature')]['v'].mean(),'type': 'gasmeter'}\n",
    "prsavg={'average': df.loc[(df['type']=='presence') & (df['k']=='device_temperature')]['v'].mean(),'type': 'presence'}\n",
    "luxavg={'average': df.loc[(df['type']=='luxmeter') & (df['k']=='device_temperature')]['v'].mean(),'type': 'luxmeter'}\n",
    "df3 = pd.DataFrame.from_records([envavg,gasavg,prsavg,luxavg])\n",
    "df3\n",
    "fig = px.bar(df3, x=\"type\", y=\"average\", title=\"Average of the measured temperature by the Devices\",height=400,text_auto='',)\n",
    "fig.show()"
   ]
  },
  {
   "cell_type": "markdown",
   "id": "426b81b7",
   "metadata": {},
   "source": [
    "# Pie chart con percentuali dei dati provenienti dal dispositivo corrispondente"
   ]
  },
  {
   "cell_type": "code",
   "execution_count": 30,
   "id": "56e2bc8f",
   "metadata": {},
   "outputs": [
    {
     "data": {
      "application/vnd.plotly.v1+json": {
       "config": {
        "plotlyServerURL": "https://plot.ly"
       },
       "data": [
        {
         "domain": {
          "x": [
           0,
           1
          ],
          "y": [
           0,
           1
          ]
         },
         "hovertemplate": "Type=%{label}<br>Measurements=%{value}<extra></extra>",
         "labels": [
          "environmental",
          "luxmeter",
          "gasmeter",
          "presence"
         ],
         "legendgroup": "",
         "name": "",
         "showlegend": true,
         "type": "pie",
         "values": [
          1845,
          1722,
          620,
          615
         ]
        }
       ],
       "layout": {
        "legend": {
         "tracegroupgap": 0
        },
        "template": {
         "data": {
          "bar": [
           {
            "error_x": {
             "color": "#2a3f5f"
            },
            "error_y": {
             "color": "#2a3f5f"
            },
            "marker": {
             "line": {
              "color": "#E5ECF6",
              "width": 0.5
             },
             "pattern": {
              "fillmode": "overlay",
              "size": 10,
              "solidity": 0.2
             }
            },
            "type": "bar"
           }
          ],
          "barpolar": [
           {
            "marker": {
             "line": {
              "color": "#E5ECF6",
              "width": 0.5
             },
             "pattern": {
              "fillmode": "overlay",
              "size": 10,
              "solidity": 0.2
             }
            },
            "type": "barpolar"
           }
          ],
          "carpet": [
           {
            "aaxis": {
             "endlinecolor": "#2a3f5f",
             "gridcolor": "white",
             "linecolor": "white",
             "minorgridcolor": "white",
             "startlinecolor": "#2a3f5f"
            },
            "baxis": {
             "endlinecolor": "#2a3f5f",
             "gridcolor": "white",
             "linecolor": "white",
             "minorgridcolor": "white",
             "startlinecolor": "#2a3f5f"
            },
            "type": "carpet"
           }
          ],
          "choropleth": [
           {
            "colorbar": {
             "outlinewidth": 0,
             "ticks": ""
            },
            "type": "choropleth"
           }
          ],
          "contour": [
           {
            "colorbar": {
             "outlinewidth": 0,
             "ticks": ""
            },
            "colorscale": [
             [
              0,
              "#0d0887"
             ],
             [
              0.1111111111111111,
              "#46039f"
             ],
             [
              0.2222222222222222,
              "#7201a8"
             ],
             [
              0.3333333333333333,
              "#9c179e"
             ],
             [
              0.4444444444444444,
              "#bd3786"
             ],
             [
              0.5555555555555556,
              "#d8576b"
             ],
             [
              0.6666666666666666,
              "#ed7953"
             ],
             [
              0.7777777777777778,
              "#fb9f3a"
             ],
             [
              0.8888888888888888,
              "#fdca26"
             ],
             [
              1,
              "#f0f921"
             ]
            ],
            "type": "contour"
           }
          ],
          "contourcarpet": [
           {
            "colorbar": {
             "outlinewidth": 0,
             "ticks": ""
            },
            "type": "contourcarpet"
           }
          ],
          "heatmap": [
           {
            "colorbar": {
             "outlinewidth": 0,
             "ticks": ""
            },
            "colorscale": [
             [
              0,
              "#0d0887"
             ],
             [
              0.1111111111111111,
              "#46039f"
             ],
             [
              0.2222222222222222,
              "#7201a8"
             ],
             [
              0.3333333333333333,
              "#9c179e"
             ],
             [
              0.4444444444444444,
              "#bd3786"
             ],
             [
              0.5555555555555556,
              "#d8576b"
             ],
             [
              0.6666666666666666,
              "#ed7953"
             ],
             [
              0.7777777777777778,
              "#fb9f3a"
             ],
             [
              0.8888888888888888,
              "#fdca26"
             ],
             [
              1,
              "#f0f921"
             ]
            ],
            "type": "heatmap"
           }
          ],
          "heatmapgl": [
           {
            "colorbar": {
             "outlinewidth": 0,
             "ticks": ""
            },
            "colorscale": [
             [
              0,
              "#0d0887"
             ],
             [
              0.1111111111111111,
              "#46039f"
             ],
             [
              0.2222222222222222,
              "#7201a8"
             ],
             [
              0.3333333333333333,
              "#9c179e"
             ],
             [
              0.4444444444444444,
              "#bd3786"
             ],
             [
              0.5555555555555556,
              "#d8576b"
             ],
             [
              0.6666666666666666,
              "#ed7953"
             ],
             [
              0.7777777777777778,
              "#fb9f3a"
             ],
             [
              0.8888888888888888,
              "#fdca26"
             ],
             [
              1,
              "#f0f921"
             ]
            ],
            "type": "heatmapgl"
           }
          ],
          "histogram": [
           {
            "marker": {
             "pattern": {
              "fillmode": "overlay",
              "size": 10,
              "solidity": 0.2
             }
            },
            "type": "histogram"
           }
          ],
          "histogram2d": [
           {
            "colorbar": {
             "outlinewidth": 0,
             "ticks": ""
            },
            "colorscale": [
             [
              0,
              "#0d0887"
             ],
             [
              0.1111111111111111,
              "#46039f"
             ],
             [
              0.2222222222222222,
              "#7201a8"
             ],
             [
              0.3333333333333333,
              "#9c179e"
             ],
             [
              0.4444444444444444,
              "#bd3786"
             ],
             [
              0.5555555555555556,
              "#d8576b"
             ],
             [
              0.6666666666666666,
              "#ed7953"
             ],
             [
              0.7777777777777778,
              "#fb9f3a"
             ],
             [
              0.8888888888888888,
              "#fdca26"
             ],
             [
              1,
              "#f0f921"
             ]
            ],
            "type": "histogram2d"
           }
          ],
          "histogram2dcontour": [
           {
            "colorbar": {
             "outlinewidth": 0,
             "ticks": ""
            },
            "colorscale": [
             [
              0,
              "#0d0887"
             ],
             [
              0.1111111111111111,
              "#46039f"
             ],
             [
              0.2222222222222222,
              "#7201a8"
             ],
             [
              0.3333333333333333,
              "#9c179e"
             ],
             [
              0.4444444444444444,
              "#bd3786"
             ],
             [
              0.5555555555555556,
              "#d8576b"
             ],
             [
              0.6666666666666666,
              "#ed7953"
             ],
             [
              0.7777777777777778,
              "#fb9f3a"
             ],
             [
              0.8888888888888888,
              "#fdca26"
             ],
             [
              1,
              "#f0f921"
             ]
            ],
            "type": "histogram2dcontour"
           }
          ],
          "mesh3d": [
           {
            "colorbar": {
             "outlinewidth": 0,
             "ticks": ""
            },
            "type": "mesh3d"
           }
          ],
          "parcoords": [
           {
            "line": {
             "colorbar": {
              "outlinewidth": 0,
              "ticks": ""
             }
            },
            "type": "parcoords"
           }
          ],
          "pie": [
           {
            "automargin": true,
            "type": "pie"
           }
          ],
          "scatter": [
           {
            "fillpattern": {
             "fillmode": "overlay",
             "size": 10,
             "solidity": 0.2
            },
            "type": "scatter"
           }
          ],
          "scatter3d": [
           {
            "line": {
             "colorbar": {
              "outlinewidth": 0,
              "ticks": ""
             }
            },
            "marker": {
             "colorbar": {
              "outlinewidth": 0,
              "ticks": ""
             }
            },
            "type": "scatter3d"
           }
          ],
          "scattercarpet": [
           {
            "marker": {
             "colorbar": {
              "outlinewidth": 0,
              "ticks": ""
             }
            },
            "type": "scattercarpet"
           }
          ],
          "scattergeo": [
           {
            "marker": {
             "colorbar": {
              "outlinewidth": 0,
              "ticks": ""
             }
            },
            "type": "scattergeo"
           }
          ],
          "scattergl": [
           {
            "marker": {
             "colorbar": {
              "outlinewidth": 0,
              "ticks": ""
             }
            },
            "type": "scattergl"
           }
          ],
          "scattermapbox": [
           {
            "marker": {
             "colorbar": {
              "outlinewidth": 0,
              "ticks": ""
             }
            },
            "type": "scattermapbox"
           }
          ],
          "scatterpolar": [
           {
            "marker": {
             "colorbar": {
              "outlinewidth": 0,
              "ticks": ""
             }
            },
            "type": "scatterpolar"
           }
          ],
          "scatterpolargl": [
           {
            "marker": {
             "colorbar": {
              "outlinewidth": 0,
              "ticks": ""
             }
            },
            "type": "scatterpolargl"
           }
          ],
          "scatterternary": [
           {
            "marker": {
             "colorbar": {
              "outlinewidth": 0,
              "ticks": ""
             }
            },
            "type": "scatterternary"
           }
          ],
          "surface": [
           {
            "colorbar": {
             "outlinewidth": 0,
             "ticks": ""
            },
            "colorscale": [
             [
              0,
              "#0d0887"
             ],
             [
              0.1111111111111111,
              "#46039f"
             ],
             [
              0.2222222222222222,
              "#7201a8"
             ],
             [
              0.3333333333333333,
              "#9c179e"
             ],
             [
              0.4444444444444444,
              "#bd3786"
             ],
             [
              0.5555555555555556,
              "#d8576b"
             ],
             [
              0.6666666666666666,
              "#ed7953"
             ],
             [
              0.7777777777777778,
              "#fb9f3a"
             ],
             [
              0.8888888888888888,
              "#fdca26"
             ],
             [
              1,
              "#f0f921"
             ]
            ],
            "type": "surface"
           }
          ],
          "table": [
           {
            "cells": {
             "fill": {
              "color": "#EBF0F8"
             },
             "line": {
              "color": "white"
             }
            },
            "header": {
             "fill": {
              "color": "#C8D4E3"
             },
             "line": {
              "color": "white"
             }
            },
            "type": "table"
           }
          ]
         },
         "layout": {
          "annotationdefaults": {
           "arrowcolor": "#2a3f5f",
           "arrowhead": 0,
           "arrowwidth": 1
          },
          "autotypenumbers": "strict",
          "coloraxis": {
           "colorbar": {
            "outlinewidth": 0,
            "ticks": ""
           }
          },
          "colorscale": {
           "diverging": [
            [
             0,
             "#8e0152"
            ],
            [
             0.1,
             "#c51b7d"
            ],
            [
             0.2,
             "#de77ae"
            ],
            [
             0.3,
             "#f1b6da"
            ],
            [
             0.4,
             "#fde0ef"
            ],
            [
             0.5,
             "#f7f7f7"
            ],
            [
             0.6,
             "#e6f5d0"
            ],
            [
             0.7,
             "#b8e186"
            ],
            [
             0.8,
             "#7fbc41"
            ],
            [
             0.9,
             "#4d9221"
            ],
            [
             1,
             "#276419"
            ]
           ],
           "sequential": [
            [
             0,
             "#0d0887"
            ],
            [
             0.1111111111111111,
             "#46039f"
            ],
            [
             0.2222222222222222,
             "#7201a8"
            ],
            [
             0.3333333333333333,
             "#9c179e"
            ],
            [
             0.4444444444444444,
             "#bd3786"
            ],
            [
             0.5555555555555556,
             "#d8576b"
            ],
            [
             0.6666666666666666,
             "#ed7953"
            ],
            [
             0.7777777777777778,
             "#fb9f3a"
            ],
            [
             0.8888888888888888,
             "#fdca26"
            ],
            [
             1,
             "#f0f921"
            ]
           ],
           "sequentialminus": [
            [
             0,
             "#0d0887"
            ],
            [
             0.1111111111111111,
             "#46039f"
            ],
            [
             0.2222222222222222,
             "#7201a8"
            ],
            [
             0.3333333333333333,
             "#9c179e"
            ],
            [
             0.4444444444444444,
             "#bd3786"
            ],
            [
             0.5555555555555556,
             "#d8576b"
            ],
            [
             0.6666666666666666,
             "#ed7953"
            ],
            [
             0.7777777777777778,
             "#fb9f3a"
            ],
            [
             0.8888888888888888,
             "#fdca26"
            ],
            [
             1,
             "#f0f921"
            ]
           ]
          },
          "colorway": [
           "#636efa",
           "#EF553B",
           "#00cc96",
           "#ab63fa",
           "#FFA15A",
           "#19d3f3",
           "#FF6692",
           "#B6E880",
           "#FF97FF",
           "#FECB52"
          ],
          "font": {
           "color": "#2a3f5f"
          },
          "geo": {
           "bgcolor": "white",
           "lakecolor": "white",
           "landcolor": "#E5ECF6",
           "showlakes": true,
           "showland": true,
           "subunitcolor": "white"
          },
          "hoverlabel": {
           "align": "left"
          },
          "hovermode": "closest",
          "mapbox": {
           "style": "light"
          },
          "paper_bgcolor": "white",
          "plot_bgcolor": "#E5ECF6",
          "polar": {
           "angularaxis": {
            "gridcolor": "white",
            "linecolor": "white",
            "ticks": ""
           },
           "bgcolor": "#E5ECF6",
           "radialaxis": {
            "gridcolor": "white",
            "linecolor": "white",
            "ticks": ""
           }
          },
          "scene": {
           "xaxis": {
            "backgroundcolor": "#E5ECF6",
            "gridcolor": "white",
            "gridwidth": 2,
            "linecolor": "white",
            "showbackground": true,
            "ticks": "",
            "zerolinecolor": "white"
           },
           "yaxis": {
            "backgroundcolor": "#E5ECF6",
            "gridcolor": "white",
            "gridwidth": 2,
            "linecolor": "white",
            "showbackground": true,
            "ticks": "",
            "zerolinecolor": "white"
           },
           "zaxis": {
            "backgroundcolor": "#E5ECF6",
            "gridcolor": "white",
            "gridwidth": 2,
            "linecolor": "white",
            "showbackground": true,
            "ticks": "",
            "zerolinecolor": "white"
           }
          },
          "shapedefaults": {
           "line": {
            "color": "#2a3f5f"
           }
          },
          "ternary": {
           "aaxis": {
            "gridcolor": "white",
            "linecolor": "white",
            "ticks": ""
           },
           "baxis": {
            "gridcolor": "white",
            "linecolor": "white",
            "ticks": ""
           },
           "bgcolor": "#E5ECF6",
           "caxis": {
            "gridcolor": "white",
            "linecolor": "white",
            "ticks": ""
           }
          },
          "title": {
           "x": 0.05
          },
          "xaxis": {
           "automargin": true,
           "gridcolor": "white",
           "linecolor": "white",
           "ticks": "",
           "title": {
            "standoff": 15
           },
           "zerolinecolor": "white",
           "zerolinewidth": 2
          },
          "yaxis": {
           "automargin": true,
           "gridcolor": "white",
           "linecolor": "white",
           "ticks": "",
           "title": {
            "standoff": 15
           },
           "zerolinecolor": "white",
           "zerolinewidth": 2
          }
         }
        },
        "title": {
         "text": "Distribution of how many Measurements each Device has done"
        }
       }
      },
      "text/html": [
       "<div>                            <div id=\"803f4b5e-874b-4055-8d09-f81840d43614\" class=\"plotly-graph-div\" style=\"height:525px; width:100%;\"></div>            <script type=\"text/javascript\">                require([\"plotly\"], function(Plotly) {                    window.PLOTLYENV=window.PLOTLYENV || {};                                    if (document.getElementById(\"803f4b5e-874b-4055-8d09-f81840d43614\")) {                    Plotly.newPlot(                        \"803f4b5e-874b-4055-8d09-f81840d43614\",                        [{\"domain\":{\"x\":[0.0,1.0],\"y\":[0.0,1.0]},\"hovertemplate\":\"Type=%{label}<br>Measurements=%{value}<extra></extra>\",\"labels\":[\"environmental\",\"luxmeter\",\"gasmeter\",\"presence\"],\"legendgroup\":\"\",\"name\":\"\",\"showlegend\":true,\"values\":[1845,1722,620,615],\"type\":\"pie\"}],                        {\"template\":{\"data\":{\"histogram2dcontour\":[{\"type\":\"histogram2dcontour\",\"colorbar\":{\"outlinewidth\":0,\"ticks\":\"\"},\"colorscale\":[[0.0,\"#0d0887\"],[0.1111111111111111,\"#46039f\"],[0.2222222222222222,\"#7201a8\"],[0.3333333333333333,\"#9c179e\"],[0.4444444444444444,\"#bd3786\"],[0.5555555555555556,\"#d8576b\"],[0.6666666666666666,\"#ed7953\"],[0.7777777777777778,\"#fb9f3a\"],[0.8888888888888888,\"#fdca26\"],[1.0,\"#f0f921\"]]}],\"choropleth\":[{\"type\":\"choropleth\",\"colorbar\":{\"outlinewidth\":0,\"ticks\":\"\"}}],\"histogram2d\":[{\"type\":\"histogram2d\",\"colorbar\":{\"outlinewidth\":0,\"ticks\":\"\"},\"colorscale\":[[0.0,\"#0d0887\"],[0.1111111111111111,\"#46039f\"],[0.2222222222222222,\"#7201a8\"],[0.3333333333333333,\"#9c179e\"],[0.4444444444444444,\"#bd3786\"],[0.5555555555555556,\"#d8576b\"],[0.6666666666666666,\"#ed7953\"],[0.7777777777777778,\"#fb9f3a\"],[0.8888888888888888,\"#fdca26\"],[1.0,\"#f0f921\"]]}],\"heatmap\":[{\"type\":\"heatmap\",\"colorbar\":{\"outlinewidth\":0,\"ticks\":\"\"},\"colorscale\":[[0.0,\"#0d0887\"],[0.1111111111111111,\"#46039f\"],[0.2222222222222222,\"#7201a8\"],[0.3333333333333333,\"#9c179e\"],[0.4444444444444444,\"#bd3786\"],[0.5555555555555556,\"#d8576b\"],[0.6666666666666666,\"#ed7953\"],[0.7777777777777778,\"#fb9f3a\"],[0.8888888888888888,\"#fdca26\"],[1.0,\"#f0f921\"]]}],\"heatmapgl\":[{\"type\":\"heatmapgl\",\"colorbar\":{\"outlinewidth\":0,\"ticks\":\"\"},\"colorscale\":[[0.0,\"#0d0887\"],[0.1111111111111111,\"#46039f\"],[0.2222222222222222,\"#7201a8\"],[0.3333333333333333,\"#9c179e\"],[0.4444444444444444,\"#bd3786\"],[0.5555555555555556,\"#d8576b\"],[0.6666666666666666,\"#ed7953\"],[0.7777777777777778,\"#fb9f3a\"],[0.8888888888888888,\"#fdca26\"],[1.0,\"#f0f921\"]]}],\"contourcarpet\":[{\"type\":\"contourcarpet\",\"colorbar\":{\"outlinewidth\":0,\"ticks\":\"\"}}],\"contour\":[{\"type\":\"contour\",\"colorbar\":{\"outlinewidth\":0,\"ticks\":\"\"},\"colorscale\":[[0.0,\"#0d0887\"],[0.1111111111111111,\"#46039f\"],[0.2222222222222222,\"#7201a8\"],[0.3333333333333333,\"#9c179e\"],[0.4444444444444444,\"#bd3786\"],[0.5555555555555556,\"#d8576b\"],[0.6666666666666666,\"#ed7953\"],[0.7777777777777778,\"#fb9f3a\"],[0.8888888888888888,\"#fdca26\"],[1.0,\"#f0f921\"]]}],\"surface\":[{\"type\":\"surface\",\"colorbar\":{\"outlinewidth\":0,\"ticks\":\"\"},\"colorscale\":[[0.0,\"#0d0887\"],[0.1111111111111111,\"#46039f\"],[0.2222222222222222,\"#7201a8\"],[0.3333333333333333,\"#9c179e\"],[0.4444444444444444,\"#bd3786\"],[0.5555555555555556,\"#d8576b\"],[0.6666666666666666,\"#ed7953\"],[0.7777777777777778,\"#fb9f3a\"],[0.8888888888888888,\"#fdca26\"],[1.0,\"#f0f921\"]]}],\"mesh3d\":[{\"type\":\"mesh3d\",\"colorbar\":{\"outlinewidth\":0,\"ticks\":\"\"}}],\"scatter\":[{\"fillpattern\":{\"fillmode\":\"overlay\",\"size\":10,\"solidity\":0.2},\"type\":\"scatter\"}],\"parcoords\":[{\"type\":\"parcoords\",\"line\":{\"colorbar\":{\"outlinewidth\":0,\"ticks\":\"\"}}}],\"scatterpolargl\":[{\"type\":\"scatterpolargl\",\"marker\":{\"colorbar\":{\"outlinewidth\":0,\"ticks\":\"\"}}}],\"bar\":[{\"error_x\":{\"color\":\"#2a3f5f\"},\"error_y\":{\"color\":\"#2a3f5f\"},\"marker\":{\"line\":{\"color\":\"#E5ECF6\",\"width\":0.5},\"pattern\":{\"fillmode\":\"overlay\",\"size\":10,\"solidity\":0.2}},\"type\":\"bar\"}],\"scattergeo\":[{\"type\":\"scattergeo\",\"marker\":{\"colorbar\":{\"outlinewidth\":0,\"ticks\":\"\"}}}],\"scatterpolar\":[{\"type\":\"scatterpolar\",\"marker\":{\"colorbar\":{\"outlinewidth\":0,\"ticks\":\"\"}}}],\"histogram\":[{\"marker\":{\"pattern\":{\"fillmode\":\"overlay\",\"size\":10,\"solidity\":0.2}},\"type\":\"histogram\"}],\"scattergl\":[{\"type\":\"scattergl\",\"marker\":{\"colorbar\":{\"outlinewidth\":0,\"ticks\":\"\"}}}],\"scatter3d\":[{\"type\":\"scatter3d\",\"line\":{\"colorbar\":{\"outlinewidth\":0,\"ticks\":\"\"}},\"marker\":{\"colorbar\":{\"outlinewidth\":0,\"ticks\":\"\"}}}],\"scattermapbox\":[{\"type\":\"scattermapbox\",\"marker\":{\"colorbar\":{\"outlinewidth\":0,\"ticks\":\"\"}}}],\"scatterternary\":[{\"type\":\"scatterternary\",\"marker\":{\"colorbar\":{\"outlinewidth\":0,\"ticks\":\"\"}}}],\"scattercarpet\":[{\"type\":\"scattercarpet\",\"marker\":{\"colorbar\":{\"outlinewidth\":0,\"ticks\":\"\"}}}],\"carpet\":[{\"aaxis\":{\"endlinecolor\":\"#2a3f5f\",\"gridcolor\":\"white\",\"linecolor\":\"white\",\"minorgridcolor\":\"white\",\"startlinecolor\":\"#2a3f5f\"},\"baxis\":{\"endlinecolor\":\"#2a3f5f\",\"gridcolor\":\"white\",\"linecolor\":\"white\",\"minorgridcolor\":\"white\",\"startlinecolor\":\"#2a3f5f\"},\"type\":\"carpet\"}],\"table\":[{\"cells\":{\"fill\":{\"color\":\"#EBF0F8\"},\"line\":{\"color\":\"white\"}},\"header\":{\"fill\":{\"color\":\"#C8D4E3\"},\"line\":{\"color\":\"white\"}},\"type\":\"table\"}],\"barpolar\":[{\"marker\":{\"line\":{\"color\":\"#E5ECF6\",\"width\":0.5},\"pattern\":{\"fillmode\":\"overlay\",\"size\":10,\"solidity\":0.2}},\"type\":\"barpolar\"}],\"pie\":[{\"automargin\":true,\"type\":\"pie\"}]},\"layout\":{\"autotypenumbers\":\"strict\",\"colorway\":[\"#636efa\",\"#EF553B\",\"#00cc96\",\"#ab63fa\",\"#FFA15A\",\"#19d3f3\",\"#FF6692\",\"#B6E880\",\"#FF97FF\",\"#FECB52\"],\"font\":{\"color\":\"#2a3f5f\"},\"hovermode\":\"closest\",\"hoverlabel\":{\"align\":\"left\"},\"paper_bgcolor\":\"white\",\"plot_bgcolor\":\"#E5ECF6\",\"polar\":{\"bgcolor\":\"#E5ECF6\",\"angularaxis\":{\"gridcolor\":\"white\",\"linecolor\":\"white\",\"ticks\":\"\"},\"radialaxis\":{\"gridcolor\":\"white\",\"linecolor\":\"white\",\"ticks\":\"\"}},\"ternary\":{\"bgcolor\":\"#E5ECF6\",\"aaxis\":{\"gridcolor\":\"white\",\"linecolor\":\"white\",\"ticks\":\"\"},\"baxis\":{\"gridcolor\":\"white\",\"linecolor\":\"white\",\"ticks\":\"\"},\"caxis\":{\"gridcolor\":\"white\",\"linecolor\":\"white\",\"ticks\":\"\"}},\"coloraxis\":{\"colorbar\":{\"outlinewidth\":0,\"ticks\":\"\"}},\"colorscale\":{\"sequential\":[[0.0,\"#0d0887\"],[0.1111111111111111,\"#46039f\"],[0.2222222222222222,\"#7201a8\"],[0.3333333333333333,\"#9c179e\"],[0.4444444444444444,\"#bd3786\"],[0.5555555555555556,\"#d8576b\"],[0.6666666666666666,\"#ed7953\"],[0.7777777777777778,\"#fb9f3a\"],[0.8888888888888888,\"#fdca26\"],[1.0,\"#f0f921\"]],\"sequentialminus\":[[0.0,\"#0d0887\"],[0.1111111111111111,\"#46039f\"],[0.2222222222222222,\"#7201a8\"],[0.3333333333333333,\"#9c179e\"],[0.4444444444444444,\"#bd3786\"],[0.5555555555555556,\"#d8576b\"],[0.6666666666666666,\"#ed7953\"],[0.7777777777777778,\"#fb9f3a\"],[0.8888888888888888,\"#fdca26\"],[1.0,\"#f0f921\"]],\"diverging\":[[0,\"#8e0152\"],[0.1,\"#c51b7d\"],[0.2,\"#de77ae\"],[0.3,\"#f1b6da\"],[0.4,\"#fde0ef\"],[0.5,\"#f7f7f7\"],[0.6,\"#e6f5d0\"],[0.7,\"#b8e186\"],[0.8,\"#7fbc41\"],[0.9,\"#4d9221\"],[1,\"#276419\"]]},\"xaxis\":{\"gridcolor\":\"white\",\"linecolor\":\"white\",\"ticks\":\"\",\"title\":{\"standoff\":15},\"zerolinecolor\":\"white\",\"automargin\":true,\"zerolinewidth\":2},\"yaxis\":{\"gridcolor\":\"white\",\"linecolor\":\"white\",\"ticks\":\"\",\"title\":{\"standoff\":15},\"zerolinecolor\":\"white\",\"automargin\":true,\"zerolinewidth\":2},\"scene\":{\"xaxis\":{\"backgroundcolor\":\"#E5ECF6\",\"gridcolor\":\"white\",\"linecolor\":\"white\",\"showbackground\":true,\"ticks\":\"\",\"zerolinecolor\":\"white\",\"gridwidth\":2},\"yaxis\":{\"backgroundcolor\":\"#E5ECF6\",\"gridcolor\":\"white\",\"linecolor\":\"white\",\"showbackground\":true,\"ticks\":\"\",\"zerolinecolor\":\"white\",\"gridwidth\":2},\"zaxis\":{\"backgroundcolor\":\"#E5ECF6\",\"gridcolor\":\"white\",\"linecolor\":\"white\",\"showbackground\":true,\"ticks\":\"\",\"zerolinecolor\":\"white\",\"gridwidth\":2}},\"shapedefaults\":{\"line\":{\"color\":\"#2a3f5f\"}},\"annotationdefaults\":{\"arrowcolor\":\"#2a3f5f\",\"arrowhead\":0,\"arrowwidth\":1},\"geo\":{\"bgcolor\":\"white\",\"landcolor\":\"#E5ECF6\",\"subunitcolor\":\"white\",\"showland\":true,\"showlakes\":true,\"lakecolor\":\"white\"},\"title\":{\"x\":0.05},\"mapbox\":{\"style\":\"light\"}}},\"legend\":{\"tracegroupgap\":0},\"title\":{\"text\":\"Distribution of how many Measurements each Device has done\"}},                        {\"responsive\": true}                    ).then(function(){\n",
       "                            \n",
       "var gd = document.getElementById('803f4b5e-874b-4055-8d09-f81840d43614');\n",
       "var x = new MutationObserver(function (mutations, observer) {{\n",
       "        var display = window.getComputedStyle(gd).display;\n",
       "        if (!display || display === 'none') {{\n",
       "            console.log([gd, 'removed!']);\n",
       "            Plotly.purge(gd);\n",
       "            observer.disconnect();\n",
       "        }}\n",
       "}});\n",
       "\n",
       "// Listen for the removal of the full notebook cells\n",
       "var notebookContainer = gd.closest('#notebook-container');\n",
       "if (notebookContainer) {{\n",
       "    x.observe(notebookContainer, {childList: true});\n",
       "}}\n",
       "\n",
       "// Listen for the clearing of the current output cell\n",
       "var outputEl = gd.closest('.output');\n",
       "if (outputEl) {{\n",
       "    x.observe(outputEl, {childList: true});\n",
       "}}\n",
       "\n",
       "                        })                };                });            </script>        </div>"
      ]
     },
     "metadata": {},
     "output_type": "display_data"
    }
   ],
   "source": [
    "series = df['type'].value_counts()\n",
    "df4 = pd.DataFrame(series)\n",
    "df4 = df4.reset_index()  \n",
    "df4.columns = ['Type', 'Measurements']\n",
    "fig = px.pie(df4, values='Measurements', names='Type', title='Distribution of how many Measurements each Device has done')\n",
    "fig.show()"
   ]
  },
  {
   "cell_type": "code",
   "execution_count": 31,
   "id": "4d4b5120",
   "metadata": {},
   "outputs": [
    {
     "data": {
      "text/plain": [
       "493"
      ]
     },
     "execution_count": 31,
     "metadata": {},
     "output_type": "execute_result"
    }
   ],
   "source": [
    "presto_cur.execute(\"select count(*) from iotsimulator\")\n",
    "records=presto_cur.fetchall()\n",
    "arr = np.asarray(records[0])\n",
    "arr[0]"
   ]
  },
  {
   "cell_type": "code",
   "execution_count": null,
   "id": "c2ef03a0",
   "metadata": {},
   "outputs": [],
   "source": []
  }
 ],
 "metadata": {
  "kernelspec": {
   "display_name": "Python 3 (ipykernel)",
   "language": "python",
   "name": "python3"
  },
  "language_info": {
   "codemirror_mode": {
    "name": "ipython",
    "version": 3
   },
   "file_extension": ".py",
   "mimetype": "text/x-python",
   "name": "python",
   "nbconvert_exporter": "python",
   "pygments_lexer": "ipython3",
   "version": "3.9.13"
  }
 },
 "nbformat": 4,
 "nbformat_minor": 5
}
